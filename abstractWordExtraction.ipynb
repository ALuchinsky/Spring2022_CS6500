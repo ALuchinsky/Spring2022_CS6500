{
 "cells": [
  {
   "cell_type": "code",
   "execution_count": 1,
   "id": "bcee7f8b-9353-43ae-867a-047cc6447fa4",
   "metadata": {},
   "outputs": [],
   "source": [
    "import findspark\n",
    "findspark.init()\n",
    "\n",
    "from pyspark.sql import SparkSession\n",
    "from pyspark import SparkContext\n",
    "from pyspark.sql.functions import format_number, mean, min, max, corr\n",
    "from pyspark.sql.functions import (dayofmonth, hour, dayofyear, month, year, weekofyear, format_number, date_format)\n",
    "from pyspark.sql.functions import col\n",
    "from pyspark.sql.functions import lit\n",
    "from pyspark.sql.functions import explode\n",
    "from pyspark.sql import functions as F\n",
    "from pyspark.sql.functions import explode, col, element_at, size, split\n",
    "from pyspark.sql.functions import udf \n",
    "from pyspark.sql.functions import count\n",
    "from pyspark.sql.functions import length"
   ]
  },
  {
   "cell_type": "code",
   "execution_count": 2,
   "id": "51efc325-4cfe-46e8-98a0-835abe7ce2fc",
   "metadata": {},
   "outputs": [
    {
     "data": {
      "text/html": [
       "\n",
       "        <div>\n",
       "            <p><b>SparkContext</b></p>\n",
       "\n",
       "            <p><a href=\"http://6afe2f3a7d2c:4040\">Spark UI</a></p>\n",
       "\n",
       "            <dl>\n",
       "              <dt>Version</dt>\n",
       "                <dd><code>v3.2.1</code></dd>\n",
       "              <dt>Master</dt>\n",
       "                <dd><code>local[*]</code></dd>\n",
       "              <dt>AppName</dt>\n",
       "                <dd><code>pyspark-shell</code></dd>\n",
       "            </dl>\n",
       "        </div>\n",
       "        "
      ],
      "text/plain": [
       "<SparkContext master=local[*] appName=pyspark-shell>"
      ]
     },
     "execution_count": 2,
     "metadata": {},
     "output_type": "execute_result"
    }
   ],
   "source": [
    "from pyspark import SparkConf, SparkContext\n",
    "conf = SparkConf()\n",
    "conf.set('spark.executor.memory', '8g')\n",
    "SparkContext(conf=conf)"
   ]
  },
  {
   "cell_type": "code",
   "execution_count": 3,
   "id": "4f232f0d-072e-4148-832b-4344510ab3a3",
   "metadata": {},
   "outputs": [
    {
     "data": {
      "text/plain": [
       "<pyspark.sql.conf.RuntimeConfig at 0x7f6c083cb280>"
      ]
     },
     "execution_count": 3,
     "metadata": {},
     "output_type": "execute_result"
    }
   ],
   "source": [
    "spark = SparkSession.builder.appName(\"fp\").getOrCreate()\n",
    "spark.conf"
   ]
  },
  {
   "cell_type": "code",
   "execution_count": 4,
   "id": "28e4b7e4-a27b-44dc-898b-fe41141c1127",
   "metadata": {},
   "outputs": [],
   "source": [
    "papers_ = spark.read.option(\"multiLine\", True).option(\"mode\", \"PERMISSIVE\").option(\"encoding\", \"ascii\").json(\"finalProjData.json\")\n",
    "papers = papers_.select(explode(col(\"hits.hits\")).alias(\"paper\"))"
   ]
  },
  {
   "cell_type": "code",
   "execution_count": 5,
   "id": "af1b40c1-5dda-422d-886e-5e5b8d0dc3a8",
   "metadata": {},
   "outputs": [],
   "source": [
    " def ascii_ignore(x):\n",
    "    return x.encode('ascii', 'ignore').decode('ascii')\n",
    "ascii_udf = udf(ascii_ignore)"
   ]
  },
  {
   "cell_type": "code",
   "execution_count": 6,
   "id": "8a8f974e-6c90-4f3e-9e0e-1f7bc52f1b65",
   "metadata": {},
   "outputs": [
    {
     "name": "stdout",
     "output_type": "stream",
     "text": [
      "root\n",
      " |-- title: string (nullable = true)\n",
      " |-- abstract: string (nullable = true)\n",
      " |-- created: string (nullable = true)\n",
      " |-- number_of_pages: long (nullable = true)\n",
      " |-- keywords: array (nullable = true)\n",
      " |    |-- element: struct (containsNull = true)\n",
      " |    |    |-- schema: string (nullable = true)\n",
      " |    |    |-- source: string (nullable = true)\n",
      " |    |    |-- value: string (nullable = true)\n",
      " |-- num_refs: integer (nullable = false)\n",
      " |-- authors: array (nullable = true)\n",
      " |    |-- element: string (containsNull = true)\n",
      "\n"
     ]
    }
   ],
   "source": [
    "short_papers = papers.select(\n",
    "    element_at(col(\"paper.metadata.titles.title\"), 1).alias(\"title\"),\n",
    "    element_at(col(\"paper.metadata.abstracts.value\"), 1).alias(\"abstract\"),\n",
    "    col(\"paper.created\"), col(\"paper.metadata.number_of_pages\"),\n",
    "    col(\"paper.metadata.keywords\"), size(\n",
    "        col(\"paper.metadata.references\")).alias(\"num_refs\"),\n",
    "    col(\"paper.metadata.authors.full_name\").alias(\"authors\")\n",
    ").withColumn(\"title\", ascii_udf(\"title\"));\n",
    "short_papers.printSchema()"
   ]
  },
  {
   "cell_type": "code",
   "execution_count": 7,
   "id": "d62d244e-1e2e-4f66-b400-118f6b907ac2",
   "metadata": {},
   "outputs": [
    {
     "name": "stdout",
     "output_type": "stream",
     "text": [
      "+--------------------------------------------------------------------------------------------------------------------------------------------------------------------------------------------------------------------------------------------------------------------------------------------------------------------------------------------------------------------------------------------------------------------------------------------------------------------------------------------------------------------------------------------------------------------------------------------------------------------------------------------------------------------------------------------------------------------------------------------------------------------------------------------------------------------------------------------------------------------------------------------------------------------------------------------------------------------------------------------------------------------------------------------------------------------------------------------------------------------------------------------------------------------------------------------------------------------------------------------------------------------------------------------------------+\n",
      "|keywords                                                                                                                                                                                                                                                                                                                                                                                                                                                                                                                                                                                                                                                                                                                                                                                                                                                                                                                                                                                                                                                                                                                                                                                                                                                                                                |\n",
      "+--------------------------------------------------------------------------------------------------------------------------------------------------------------------------------------------------------------------------------------------------------------------------------------------------------------------------------------------------------------------------------------------------------------------------------------------------------------------------------------------------------------------------------------------------------------------------------------------------------------------------------------------------------------------------------------------------------------------------------------------------------------------------------------------------------------------------------------------------------------------------------------------------------------------------------------------------------------------------------------------------------------------------------------------------------------------------------------------------------------------------------------------------------------------------------------------------------------------------------------------------------------------------------------------------------+\n",
      "|[{INSPIRE, classifier, neutrino, mass}, {INSPIRE, classifier, neutrino, heavy}, {INSPIRE, classifier, boson, mass}, {INSPIRE, classifier, seesaw model, inverse}, {INSPIRE, classifier, neutrino, Dirac}, {INSPIRE, classifier, neutrino, mixing}, {INSPIRE, classifier, transverse energy, missing-energy}, {INSPIRE, classifier, TeV}, {INSPIRE, classifier, background}, {INSPIRE, classifier, hadron}, {INSPIRE, classifier, GeV}, {INSPIRE, classifier, sensitivity}, {INSPIRE, classifier, lepton}, {INSPIRE, classifier, kinematics}]                                                                                                                                                                                                                                                                                                                                                                                                                                                                                                                                                                                                                                                                                                                                                            |\n",
      "|[{INSPIRE, null, spin: potential}, {INSPIRE, null, flow: Gubser}, {INSPIRE, null, spin: density}, {INSPIRE, null, space-time: Minkowski}, {INSPIRE, null, potential: decay}, {INSPIRE, null, spin: correction}, {INSPIRE, null, spin: polarization}, {INSPIRE, null, energy: density}]                                                                                                                                                                                                                                                                                                                                                                                                                                                                                                                                                                                                                                                                                                                                                                                                                                                                                                                                                                                                                  |\n",
      "|[{INSPIRE, classifier, quarkonium, heavy}, {INSPIRE, classifier, parton, distribution function}, {INSPIRE, classifier, wave function, light front}, {INSPIRE, classifier, symmetry breaking, chiral}, {INSPIRE, classifier, quantum chromodynamics, vacuum state}, {INSPIRE, classifier, energy, low}, {INSPIRE, classifier, Hamiltonian}, {INSPIRE, classifier, mixing}, {INSPIRE, classifier, meson}, {INSPIRE, classifier, Schroedinger equation}, {INSPIRE, classifier, U(1) problem}, {INSPIRE, classifier, vector meson}, {INSPIRE, classifier, longitudinal}, {INSPIRE, classifier, Regge poles}, {INSPIRE, classifier, spin}, {INSPIRE, classifier, oscillator}, {INSPIRE, classifier, orbit}, {INSPIRE, classifier, transverse}, {INSPIRE, classifier, confinement}, {INSPIRE, classifier, quark antiquark}, {INSPIRE, classifier, resolution}, {INSPIRE, classifier, structure}, {INSPIRE, classifier, quark}]                                                                                                                                                                                                                                                                                                                                                                                |\n",
      "|[{INSPIRE, classifier, saturation}, {INSPIRE, classifier, coupled channel}, {INSPIRE, classifier, structure}, {INSPIRE, classifier, energy spectrum}]                                                                                                                                                                                                                                                                                                                                                                                                                                                                                                                                                                                                                                                                                                                                                                                                                                                                                                                                                                                                                                                                                                                                                   |\n",
      "|[{INSPIRE, null, bubble: nucleation}, {INSPIRE, null, inflation: thermal}, {INSPIRE, null, bubble: stability}, {INSPIRE, null, gravitational radiation: spectrum}, {INSPIRE, null, holography}, {INSPIRE, null, critical phenomena}, {INSPIRE, null, gauge field theory}, {INSPIRE, null, formation}, {INSPIRE, null, strong coupling}]                                                                                                                                                                                                                                                                                                                                                                                                                                                                                                                                                                                                                                                                                                                                                                                                                                                                                                                                                                 |\n",
      "|[{null, author, Particle Physics Beyond the Standard Model}, {null, author, Extra Dimensions of Space}, {null, author, Branes}, {null, author, Non-local Field Theory}, {null, author, Naturalness}, {null, author, Gauge Hierarchy Problem}, {null, author, Flavor Puzzle}, {INSPIRE, null, mass: scale}, {INSPIRE, null, flavor: model}, {INSPIRE, null, Higgs particle: mass}, {INSPIRE, null, fermion: split}, {INSPIRE, null, coupling: suppression}, {INSPIRE, null, field theory: scalar}, {INSPIRE, null, membrane model}, {INSPIRE, null, effective field theory}, {INSPIRE, null, fuzzy}, {INSPIRE, null, buildings}, {INSPIRE, null, hierarchy}, {INSPIRE, null, Kaluza-Klein}, {INSPIRE, null, electroweak interaction}, {INSPIRE, null, nonlocal}, {INSPIRE, null, higher-dimensional}, {INSPIRE, null, naturalness}, {INSPIRE, null, warped}, {INSPIRE, null, ultraviolet}, {INSPIRE, null, excited state}, {INSPIRE, null, transmutation}, {INSPIRE, null, derivative: high}, {INSPIRE, null, field theory: local}, {INSPIRE, null, flavor: hierarchy}, {INSPIRE, null, scale: TeV}, {INSPIRE, null, screening}, {INSPIRE, null, toy model}, {INSPIRE, null, shadowing}, {INSPIRE, null, perturbation}, {INSPIRE, null, ghost}, {INSPIRE, null, localization}, {INSPIRE, null, redshift}]|\n",
      "|[{INSPIRE, null, p p: scattering}, {INSPIRE, null, p p: colliding beams}, {INSPIRE, null, new physics: search for}, {INSPIRE, null, neutral particle: long-lived}, {INSPIRE, null, CMS}, {INSPIRE, null, forward spectrometer}, {INSPIRE, null, upgrade}, {INSPIRE, null, axion-like particles}, {INSPIRE, null, photon: hidden sector}, {INSPIRE, null, lepton: heavy}, {INSPIRE, null, neutrino: heavy}, {INSPIRE, null, CERN LHC Coll}, {INSPIRE, null, iron}, {INSPIRE, null, Higgs particle}, {INSPIRE, null, proposed experiment}]                                                                                                                                                                                                                                                                                                                                                                                                                                                                                                                                                                                                                                                                                                                                                                |\n",
      "|[{INSPIRE, classifier, charge, multiple}, {INSPIRE, classifier, Q-ball}, {INSPIRE, classifier, stability}]                                                                                                                                                                                                                                                                                                                                                                                                                                                                                                                                                                                                                                                                                                                                                                                                                                                                                                                                                                                                                                                                                                                                                                                              |\n",
      "|[{INSPIRE, null, transformation: linear}, {INSPIRE, null, algebra}, {INSPIRE, null, programming}]                                                                                                                                                                                                                                                                                                                                                                                                                                                                                                                                                                                                                                                                                                                                                                                                                                                                                                                                                                                                                                                                                                                                                                                                       |\n",
      "|[{INSPIRE, null, quantum chromodynamics: nonrelativistic}, {INSPIRE, null, gluon: fragmentation}, {INSPIRE, null, velocity: expansion}, {INSPIRE, null, gluon: fragmentation function}, {INSPIRE, null, factorization}, {INSPIRE, null, renormalization}, {INSPIRE, null, quarkonium}, {INSPIRE, null, CERN LHC Coll}, {INSPIRE, null, DGLAP equation}, {INSPIRE, null, B/c*}]                                                                                                                                                                                                                                                                                                                                                                                                                                                                                                                                                                                                                                                                                                                                                                                                                                                                                                                          |\n",
      "|[{INSPIRE, null, black hole: spectrum}, {INSPIRE, null, black hole: perturbation}, {INSPIRE, null, black hole: binary}, {INSPIRE, null, black hole: mass}, {INSPIRE, null, binary: coalescence}, {INSPIRE, null, frequency: high}, {INSPIRE, null, redshift: high}, {INSPIRE, null, emission: spectrum}, {INSPIRE, null, LISA}, {INSPIRE, null, quasinormal mode: spectrum}, {INSPIRE, null, Einstein Telescope}, {INSPIRE, null, laser}, {INSPIRE, null, feedback}, {INSPIRE, null, sensitivity}, {INSPIRE, null, general relativity}, {INSPIRE, null, gravitation: strong field}, {INSPIRE, null, galaxy}, {INSPIRE, null, supernova}, {INSPIRE, null, landscape}, {INSPIRE, null, statistical analysis}, {INSPIRE, null, error: statistical}]                                                                                                                                                                                                                                                                                                                                                                                                                                                                                                                                                        |\n",
      "|[{INSPIRE, classifier, gravitational radiation, background}, {INSPIRE, classifier, particle, oscillation}, {INSPIRE, classifier, gravitational radiation, stochastic}, {INSPIRE, classifier, spin, 0}, {INSPIRE, classifier, gravitation, potential}, {INSPIRE, classifier, frequency, spectrum}, {INSPIRE, classifier, oscillation, coherence}, {INSPIRE, classifier, pulsar}, {INSPIRE, classifier, dark matter}, {INSPIRE, classifier, Bayesian}]                                                                                                                                                                                                                                                                                                                                                                                                                                                                                                                                                                                                                                                                                                                                                                                                                                                    |\n",
      "|[{INSPIRE, classifier, current, coupling constant}, {INSPIRE, classifier, width}, {INSPIRE, classifier, quantum chromodynamics, sum rule}, {INSPIRE, classifier, pentaquark}, {INSPIRE, classifier, quark}, {INSPIRE, classifier, GeV}, {INSPIRE, classifier, branching ratio}]                                                                                                                                                                                                                                                                                                                                                                                                                                                                                                                                                                                                                                                                                                                                                                                                                                                                                                                                                                                                                         |\n",
      "|[{null, author, primordial black holes}, {INSPIRE, null, inflation: model}, {INSPIRE, null, black hole: primordial}, {INSPIRE, null, density: perturbation}, {INSPIRE, null, potential: energy}, {INSPIRE, null, energy: density}, {INSPIRE, null, evaporation}, {INSPIRE, null, inflaton}, {INSPIRE, null, collapse}, {INSPIRE, null, gravitational radiation}, {INSPIRE, null, fluid}, {INSPIRE, author, reheating}, {null, author, inflation}, {null, author, gravitational waves}, {null, author, dark matter}, {INSPIRE, author, dark energy}, {INSPIRE, null, galaxy}, {INSPIRE, null, cosmological model}]                                                                                                                                                                                                                                                                                                                                                                                                                                                                                                                                                                                                                                                                                       |\n",
      "|[{INSPIRE, null, new physics}, {INSPIRE, null, supersymmetry}, {INSPIRE, null, minimal supersymmetric standard model}, {INSPIRE, null, p p: scattering}, {INSPIRE, null, Higgs particle: production}, {INSPIRE, null, Higgs particle: mass}, {INSPIRE, null, Higgs particle: heavy}, {INSPIRE, null, Higgs particle: pseudoscalar particle}, {INSPIRE, null, Higgs particle: decay}, {INSPIRE, null, Higgs particle: branching ratio}, {INSPIRE, null, bottom: pair production}, {INSPIRE, null, p p --> bottom anti-bottom Higgs particle}, {INSPIRE, null, Higgs particle --> top anti-top}, {INSPIRE, null, 1*10**5 GeV-cms}]                                                                                                                                                                                                                                                                                                                                                                                                                                                                                                                                                                                                                                                                        |\n",
      "+--------------------------------------------------------------------------------------------------------------------------------------------------------------------------------------------------------------------------------------------------------------------------------------------------------------------------------------------------------------------------------------------------------------------------------------------------------------------------------------------------------------------------------------------------------------------------------------------------------------------------------------------------------------------------------------------------------------------------------------------------------------------------------------------------------------------------------------------------------------------------------------------------------------------------------------------------------------------------------------------------------------------------------------------------------------------------------------------------------------------------------------------------------------------------------------------------------------------------------------------------------------------------------------------------------+\n",
      "only showing top 15 rows\n",
      "\n"
     ]
    }
   ],
   "source": [
    "short_papers.select(\"keywords\").show(15, truncate = False)"
   ]
  },
  {
   "cell_type": "code",
   "execution_count": 8,
   "id": "1214edb6-c283-4dae-ae46-b90f815c3749",
   "metadata": {},
   "outputs": [
    {
     "name": "stdout",
     "output_type": "stream",
     "text": [
      "+--------------------+--------------------+--------------------+---------------+--------------------+--------+--------------------+\n",
      "|               title|            abstract|             created|number_of_pages|            keywords|num_refs|             authors|\n",
      "+--------------------+--------------------+--------------------+---------------+--------------------+--------+--------------------+\n",
      "|Improving heavy D...|In this work, by ...|2022-01-03T02:41:...|             26|[{INSPIRE, classi...|     113|[Feng, Jie, Li, M...|\n",
      "|Analytic solution...|We have derived t...|2022-01-03T05:20:...|             28|[{INSPIRE, null, ...|     143|[Wang, Dong-Lin, ...|\n",
      "|Meson structure o...|This is the third...|2022-01-03T02:41:...|             36|[{INSPIRE, classi...|      39|[Shuryak, Edward,...|\n",
      "|Coupled-channel a...|We study the proc...|2022-01-03T02:44:...|             10|[{INSPIRE, classi...|      30|[Surovtsev, Yury ...|\n",
      "|Spinodal Gravitat...|We uncover a new ...|2022-01-03T02:48:...|             46|[{INSPIRE, null, ...|      63|[Bea, Yago, Casal...|\n",
      "|Shadow Extra Dime...|Particle physics ...|2021-06-07T00:00:...|             36|[{null, author, P...|     231|  [Nortier, Florian]|\n",
      "|FACET: A new long...|We describe a pro...|2022-01-04T03:20:...|             15|[{INSPIRE, null, ...|      67|[Cerci, S., Cerci...|\n",
      "|Q-balls with Mult...|Q-balls -- whethe...|2022-01-04T02:57:...|             20|[{INSPIRE, classi...|      33|   [Lennon, Olivier]|\n",
      "|Olsson.wl : a $Ma...|We present the Ol...|2022-01-05T02:58:...|             17|[{INSPIRE, null, ...|      31|[Ananthanarayan, ...|\n",
      "|Gluon fragmentati...|The universal fra...|2022-01-03T02:46:...|             13|[{INSPIRE, null, ...|      43|[Feng, Feng, Jia,...|\n",
      "|The landscape of ...|Measuring the qua...|2022-01-04T03:01:...|             19|[{INSPIRE, null, ...|     126|[Bhagwat, Swetha,...|\n",
      "|Pulsar Timing Res...|The coherent osci...|2022-01-03T02:47:...|              9|[{INSPIRE, classi...|      92|[Sun, Sichun, Yan...|\n",
      "|Investigation of ...|This work present...|2022-01-03T02:40:...|             11|[{INSPIRE, classi...|     123|[Azizi, K., Sarac...|\n",
      "|Reheating in Runa...|We investigate th...|2022-01-03T02:49:...|             38|[{null, author, p...|     182|[Dalianis, Ioanni...|\n",
      "|Heavy Higgs boson...|In this work, we ...|2022-01-03T02:46:...|             12|[{INSPIRE, null, ...|      82|[Wang, Kun, Tian,...|\n",
      "|Revisiting the co...|We revisit the co...|2022-01-03T02:45:...|              9|[{INSPIRE, classi...|      61|[Chen, Siyu, Zhan...|\n",
      "|Higgs Properties ...|The study of the ...|2022-01-04T03:01:...|             27|[{INSPIRE, null, ...|     358|[Arbey, A., Batta...|\n",
      "|Critical behavior...|We study the scal...|2022-01-03T02:39:...|             11|[{INSPIRE, null, ...|      23|[Kaczmarek, Olaf,...|\n",
      "|Topological confi...|We study phase tr...|2022-01-04T03:01:...|             21|[{INSPIRE, null, ...|      43|[Cartwright, Case...|\n",
      "|Capture of Dark M...|The extreme condi...|2022-01-04T05:36:...|              6|[{INSPIRE, classi...|       9|   [Busoni, Giorgio]|\n",
      "+--------------------+--------------------+--------------------+---------------+--------------------+--------+--------------------+\n",
      "only showing top 20 rows\n",
      "\n"
     ]
    }
   ],
   "source": [
    "short_papers.show()"
   ]
  },
  {
   "cell_type": "markdown",
   "id": "092a9ecf-71ef-4e25-abf4-b21f770e4776",
   "metadata": {},
   "source": [
    "# Add an ID to Each Unique Paper in our dataset"
   ]
  },
  {
   "cell_type": "code",
   "execution_count": 9,
   "id": "e59375cc-7174-4d88-b9be-3a0b4bc3264a",
   "metadata": {},
   "outputs": [],
   "source": [
    "#Adding an ID to each paper so the abstract data analysis can be attributed to a paper\n",
    "from pyspark.sql.functions import monotonically_increasing_id\n",
    "papersWIDs = short_papers.withColumn(\"id\", monotonically_increasing_id())"
   ]
  },
  {
   "cell_type": "code",
   "execution_count": 10,
   "id": "6a2c443e-db67-42bc-bdc8-9b64ed8d2a82",
   "metadata": {},
   "outputs": [
    {
     "name": "stdout",
     "output_type": "stream",
     "text": [
      "+--------------------+--------------------+--------------------+---------------+--------------------+--------+--------------------+---+\n",
      "|               title|            abstract|             created|number_of_pages|            keywords|num_refs|             authors| id|\n",
      "+--------------------+--------------------+--------------------+---------------+--------------------+--------+--------------------+---+\n",
      "|Improving heavy D...|In this work, by ...|2022-01-03T02:41:...|             26|[{INSPIRE, classi...|     113|[Feng, Jie, Li, M...|  0|\n",
      "|Analytic solution...|We have derived t...|2022-01-03T05:20:...|             28|[{INSPIRE, null, ...|     143|[Wang, Dong-Lin, ...|  1|\n",
      "|Meson structure o...|This is the third...|2022-01-03T02:41:...|             36|[{INSPIRE, classi...|      39|[Shuryak, Edward,...|  2|\n",
      "|Coupled-channel a...|We study the proc...|2022-01-03T02:44:...|             10|[{INSPIRE, classi...|      30|[Surovtsev, Yury ...|  3|\n",
      "|Spinodal Gravitat...|We uncover a new ...|2022-01-03T02:48:...|             46|[{INSPIRE, null, ...|      63|[Bea, Yago, Casal...|  4|\n",
      "|Shadow Extra Dime...|Particle physics ...|2021-06-07T00:00:...|             36|[{null, author, P...|     231|  [Nortier, Florian]|  5|\n",
      "|FACET: A new long...|We describe a pro...|2022-01-04T03:20:...|             15|[{INSPIRE, null, ...|      67|[Cerci, S., Cerci...|  6|\n",
      "|Q-balls with Mult...|Q-balls -- whethe...|2022-01-04T02:57:...|             20|[{INSPIRE, classi...|      33|   [Lennon, Olivier]|  7|\n",
      "|Olsson.wl : a $Ma...|We present the Ol...|2022-01-05T02:58:...|             17|[{INSPIRE, null, ...|      31|[Ananthanarayan, ...|  8|\n",
      "|Gluon fragmentati...|The universal fra...|2022-01-03T02:46:...|             13|[{INSPIRE, null, ...|      43|[Feng, Feng, Jia,...|  9|\n",
      "|The landscape of ...|Measuring the qua...|2022-01-04T03:01:...|             19|[{INSPIRE, null, ...|     126|[Bhagwat, Swetha,...| 10|\n",
      "|Pulsar Timing Res...|The coherent osci...|2022-01-03T02:47:...|              9|[{INSPIRE, classi...|      92|[Sun, Sichun, Yan...| 11|\n",
      "|Investigation of ...|This work present...|2022-01-03T02:40:...|             11|[{INSPIRE, classi...|     123|[Azizi, K., Sarac...| 12|\n",
      "|Reheating in Runa...|We investigate th...|2022-01-03T02:49:...|             38|[{null, author, p...|     182|[Dalianis, Ioanni...| 13|\n",
      "|Heavy Higgs boson...|In this work, we ...|2022-01-03T02:46:...|             12|[{INSPIRE, null, ...|      82|[Wang, Kun, Tian,...| 14|\n",
      "|Revisiting the co...|We revisit the co...|2022-01-03T02:45:...|              9|[{INSPIRE, classi...|      61|[Chen, Siyu, Zhan...| 15|\n",
      "|Higgs Properties ...|The study of the ...|2022-01-04T03:01:...|             27|[{INSPIRE, null, ...|     358|[Arbey, A., Batta...| 16|\n",
      "|Critical behavior...|We study the scal...|2022-01-03T02:39:...|             11|[{INSPIRE, null, ...|      23|[Kaczmarek, Olaf,...| 17|\n",
      "|Topological confi...|We study phase tr...|2022-01-04T03:01:...|             21|[{INSPIRE, null, ...|      43|[Cartwright, Case...| 18|\n",
      "|Capture of Dark M...|The extreme condi...|2022-01-04T05:36:...|              6|[{INSPIRE, classi...|       9|   [Busoni, Giorgio]| 19|\n",
      "+--------------------+--------------------+--------------------+---------------+--------------------+--------+--------------------+---+\n",
      "only showing top 20 rows\n",
      "\n"
     ]
    }
   ],
   "source": [
    "papersWIDs.show()"
   ]
  },
  {
   "cell_type": "markdown",
   "id": "e9556e82-219e-467f-b7e9-e693a818d201",
   "metadata": {},
   "source": [
    "# Data Manipulation - Create a dataframe with abstract word counts"
   ]
  },
  {
   "cell_type": "code",
   "execution_count": 11,
   "id": "c45e33c7-a71b-478f-bc55-a4dcaffa1a15",
   "metadata": {},
   "outputs": [],
   "source": [
    "#drop papers with no abstracts\n",
    "papersWIDs = papersWIDs.dropna()"
   ]
  },
  {
   "cell_type": "code",
   "execution_count": 28,
   "id": "7d1c749a-05c0-4ec9-8f99-99b68999cb2a",
   "metadata": {},
   "outputs": [
    {
     "name": "stdout",
     "output_type": "stream",
     "text": [
      "+---+--------------------+--------+-------------+\n",
      "| id|       abstractWords|position|         word|\n",
      "+---+--------------------+--------+-------------+\n",
      "|  0|[In, this, work,,...|       0|           In|\n",
      "|  0|[In, this, work,,...|       1|         this|\n",
      "|  0|[In, this, work,,...|       2|        work,|\n",
      "|  0|[In, this, work,,...|       3|           by|\n",
      "|  0|[In, this, work,,...|       4|        using|\n",
      "|  0|[In, this, work,,...|       5|          the|\n",
      "|  0|[In, this, work,,...|       6|      machine|\n",
      "|  0|[In, this, work,,...|       7|     learning|\n",
      "|  0|[In, this, work,,...|       8|     methods,|\n",
      "|  0|[In, this, work,,...|       9|           we|\n",
      "|  0|[In, this, work,,...|      10|        study|\n",
      "|  0|[In, this, work,,...|      11|          the|\n",
      "|  0|[In, this, work,,...|      12|sensitivities|\n",
      "|  0|[In, this, work,,...|      13|           of|\n",
      "|  0|[In, this, work,,...|      14|        heavy|\n",
      "|  0|[In, this, work,,...|      15| pseudo-Dirac|\n",
      "|  0|[In, this, work,,...|      16|     neutrino|\n",
      "|  0|[In, this, work,,...|      17|          $N$|\n",
      "|  0|[In, this, work,,...|      18|           in|\n",
      "|  0|[In, this, work,,...|      19|          the|\n",
      "|  0|[In, this, work,,...|      20|      inverse|\n",
      "|  0|[In, this, work,,...|      21|       seesaw|\n",
      "|  0|[In, this, work,,...|      22|           at|\n",
      "|  0|[In, this, work,,...|      23|          the|\n",
      "|  0|[In, this, work,,...|      24|  high-energy|\n",
      "|  0|[In, this, work,,...|      25|       hadron|\n",
      "|  0|[In, this, work,,...|      26|   colliders.|\n",
      "|  0|[In, this, work,,...|      27|          The|\n",
      "|  0|[In, this, work,,...|      28|   production|\n",
      "|  0|[In, this, work,,...|      29|      process|\n",
      "|  0|[In, this, work,,...|      30|          for|\n",
      "|  0|[In, this, work,,...|      31|          the|\n",
      "|  0|[In, this, work,,...|      32|       signal|\n",
      "|  0|[In, this, work,,...|      33|           is|\n",
      "|  0|[In, this, work,,...|      34|          $pp|\n",
      "|  0|[In, this, work,,...|      35|          \\to|\n",
      "|  0|[In, this, work,,...|      36|     \\ell^\\pm|\n",
      "|  0|[In, this, work,,...|      37|            N|\n",
      "|  0|[In, this, work,,...|      38|          \\to|\n",
      "|  0|[In, this, work,,...|      39|            3|\n",
      "|  0|[In, this, work,,...|      40|         \\ell|\n",
      "|  0|[In, this, work,,...|      41|            +|\n",
      "|  0|[In, this, work,,...|      42|     E_T^{\\rm|\n",
      "|  0|[In, this, work,,...|      43|      miss}$,|\n",
      "|  0|[In, this, work,,...|      44|        while|\n",
      "|  0|[In, this, work,,...|      45|          the|\n",
      "|  0|[In, this, work,,...|      46|     dominant|\n",
      "|  0|[In, this, work,,...|      47|   background|\n",
      "|  0|[In, this, work,,...|      48|           is|\n",
      "|  0|[In, this, work,,...|      49|           $p|\n",
      "+---+--------------------+--------+-------------+\n",
      "only showing top 50 rows\n",
      "\n"
     ]
    }
   ],
   "source": [
    "#Creates a new DF with the papers ID, and each word in the abstract alongside its position in the abstract\n",
    "words = papersWIDs.select(\n",
    "        \"id\",\n",
    "        F.split(\"abstract\", \" \").alias(\"abstractWords\"),\n",
    "        F.posexplode(F.split(\"abstract\", \" \")).alias(\"position\", \"word\")\n",
    "    )\n",
    "words.show(50)"
   ]
  },
  {
   "cell_type": "code",
   "execution_count": 29,
   "id": "1384799d-bfd9-49bf-acef-9187318b4840",
   "metadata": {},
   "outputs": [
    {
     "name": "stdout",
     "output_type": "stream",
     "text": [
      "+---+-------------+-----------+\n",
      "| id|         word|count(word)|\n",
      "+---+-------------+-----------+\n",
      "|  0|   Perceptron|          1|\n",
      "|  0|         this|          1|\n",
      "|  0|       signal|          1|\n",
      "|  0|      events.|          1|\n",
      "|  0|  observables|          1|\n",
      "|  0|     separate|          1|\n",
      "|  0|           27|          1|\n",
      "|  0|        found|          1|\n",
      "|  0|           1$|          1|\n",
      "|  0|      missing|          1|\n",
      "|  0|   transverse|          1|\n",
      "|  0|           In|          1|\n",
      "|  0|         from|          1|\n",
      "|  0|        work,|          1|\n",
      "|  0|        (with|          1|\n",
      "|  0|        boson|          1|\n",
      "|  0|      charged|          1|\n",
      "|  0|sensitivities|          1|\n",
      "|  0|           or|          1|\n",
      "|  0|          100|          1|\n",
      "+---+-------------+-----------+\n",
      "only showing top 20 rows\n",
      "\n"
     ]
    }
   ],
   "source": [
    "#pair each paper with their word counts\n",
    "abs_word_count = words.select('id', 'word').groupBy('id','word').agg({\"word\": \"count\"})\n",
    "abs_word_count.sort(col(\"id\"),col(\"count(word)\")).show()"
   ]
  },
  {
   "cell_type": "code",
   "execution_count": 30,
   "id": "7f6d829e-5bbe-4c01-9fc4-a20405739a76",
   "metadata": {},
   "outputs": [
    {
     "name": "stdout",
     "output_type": "stream",
     "text": [
      "+---+-----------------+-----------+\n",
      "| id|             word|count(word)|\n",
      "+---+-----------------+-----------+\n",
      "|  0|         neutrino|          4|\n",
      "|  0|            heavy|          3|\n",
      "|  0|           hadron|          2|\n",
      "|  0|signal/background|          2|\n",
      "|  0|          machine|          2|\n",
      "|  0|            using|          2|\n",
      "|  0|         learning|          2|\n",
      "|  0|       production|          1|\n",
      "|  0|         methods,|          1|\n",
      "|  0|           mixing|          1|\n",
      "|  0|            boson|          1|\n",
      "|  0|          Boosted|          1|\n",
      "|  0|         separate|          1|\n",
      "|  0|          events.|          1|\n",
      "|  0|           signal|          1|\n",
      "|  0|          missing|          1|\n",
      "|  0|            while|          1|\n",
      "|  0|            study|          1|\n",
      "|  0|          analyze|          1|\n",
      "|  0|         Gradient|          1|\n",
      "|  0|        prospects|          1|\n",
      "|  0|      high-energy|          1|\n",
      "|  0|        kinematic|          1|\n",
      "|  0|    reconstructed|          1|\n",
      "|  0|        colliders|          1|\n",
      "|  0|            roles|          1|\n",
      "|  0|       colliders.|          1|\n",
      "|  0|      Multi-Layer|          1|\n",
      "|  0|    sensitivities|          1|\n",
      "|  0|           either|          1|\n",
      "|  0|  discrimination.|          1|\n",
      "|  0|       background|          1|\n",
      "|  0|     pseudo-Dirac|          1|\n",
      "|  0|      heavy-light|          1|\n",
      "|  0|       Perceptron|          1|\n",
      "|  0|         Decision|          1|\n",
      "|  0|         Boosting|          1|\n",
      "|  0|          leptons|          1|\n",
      "|  0|            found|          1|\n",
      "|  0|           seesaw|          1|\n",
      "|  0|      observables|          1|\n",
      "|  0|         optimize|          1|\n",
      "|  0|          inverse|          1|\n",
      "|  0|       transverse|          1|\n",
      "|  0|          crucial|          1|\n",
      "|  0|         dominant|          1|\n",
      "|  0|            (with|          1|\n",
      "|  0|         improved|          1|\n",
      "|  0|         estimate|          1|\n",
      "|  0|          process|          1|\n",
      "|  0|            work,|          1|\n",
      "|  0|           energy|          1|\n",
      "|  0|          charged|          1|\n",
      "|  1|        potential|          4|\n",
      "|  1|      dissipative|          4|\n",
      "|  1|           Gubser|          3|\n",
      "|  1|        solutions|          3|\n",
      "|  1|       space-time|          2|\n",
      "|  1|            other|          2|\n",
      "|  1|   hydrodynamics.|          2|\n",
      "|  1|           future|          2|\n",
      "|  1|         analytic|          2|\n",
      "|  1|     relativistic|          2|\n",
      "|  1|          density|          2|\n",
      "|  1|        Minkowski|          2|\n",
      "|  1|        Following|          1|\n",
      "|  1|        evolution|          1|\n",
      "|  1|           proper|          1|\n",
      "|  1|          thermal|          1|\n",
      "|  1|       expansion.|          1|\n",
      "|  1|    polarization.|          1|\n",
      "|  1|           derive|          1|\n",
      "|  1|          derived|          1|\n",
      "|  1|    non-vanishing|          1|\n",
      "|  1|            being|          1|\n",
      "|  1|        vorticity|          1|\n",
      "|  1|           radial|          1|\n",
      "|  1|           energy|          1|\n",
      "|  1|         deriving|          1|\n",
      "|  1|      information|          1|\n",
      "|  1|            shear|          1|\n",
      "|  1|          implies|          1|\n",
      "|  1|      simulations|          1|\n",
      "|  1|          studies|          1|\n",
      "|  1|            terms|          1|\n",
      "|  1|      space-time.|          1|\n",
      "|  1|           obtain|          1|\n",
      "|  1|    thermodynamic|          1|\n",
      "|  1|          results|          1|\n",
      "|  1|            decay|          1|\n",
      "|  1|        rescaling|          1|\n",
      "|  1|  Surprisingly,in|          1|\n",
      "|  1|          angular|          1|\n",
      "|  1|      corrections|          1|\n",
      "|  1|            flow,|          1|\n",
      "|  1|            time,|          1|\n",
      "|  1|    hydrodynamics|          1|\n",
      "|  1|        expansion|          1|\n",
      "|  1|           slower|          1|\n",
      "|  1|        Moreover,|          1|\n",
      "+---+-----------------+-----------+\n",
      "only showing top 100 rows\n",
      "\n"
     ]
    }
   ],
   "source": [
    "#Drop rows that have words less than 4 characters long or that contain dollar signs\n",
    "filtered = abs_word_count.filter(length(abs_word_count.word)>4)\n",
    "filtered = filtered.filter(~filtered.word.contains('$'))\n",
    "filtered = filtered.filter(~filtered.word.contains('^'))\n",
    "filtered = filtered.filter(~filtered.word.contains('}'))\n",
    "filtered.sort(col(\"id\"),col(\"count(word)\").desc()).show(100)"
   ]
  },
  {
   "cell_type": "code",
   "execution_count": 31,
   "id": "b11ae3aa-ce17-48bf-8b26-2b61d855f6c0",
   "metadata": {},
   "outputs": [
    {
     "name": "stdout",
     "output_type": "stream",
     "text": [
      "+---+-----------+-----------------+\n",
      "| id|count(word)|         replaced|\n",
      "+---+-----------+-----------------+\n",
      "|  0|          4|         neutrino|\n",
      "|  0|          3|            heavy|\n",
      "|  0|          2|           hadron|\n",
      "|  0|          2|signal/background|\n",
      "|  0|          2|          machine|\n",
      "|  0|          2|            using|\n",
      "|  0|          2|         learning|\n",
      "|  0|          1|       production|\n",
      "|  0|          1|          methods|\n",
      "|  0|          1|           mixing|\n",
      "|  0|          1|            boson|\n",
      "|  0|          1|          Boosted|\n",
      "|  0|          1|         separate|\n",
      "|  0|          1|           events|\n",
      "|  0|          1|           signal|\n",
      "|  0|          1|          missing|\n",
      "|  0|          1|            while|\n",
      "|  0|          1|            study|\n",
      "|  0|          1|          analyze|\n",
      "|  0|          1|         Gradient|\n",
      "|  0|          1|        prospects|\n",
      "|  0|          1|      high-energy|\n",
      "|  0|          1|        kinematic|\n",
      "|  0|          1|    reconstructed|\n",
      "|  0|          1|        colliders|\n",
      "|  0|          1|            roles|\n",
      "|  0|          1|        colliders|\n",
      "|  0|          1|      Multi-Layer|\n",
      "|  0|          1|    sensitivities|\n",
      "|  0|          1|           either|\n",
      "|  0|          1|   discrimination|\n",
      "|  0|          1|       background|\n",
      "|  0|          1|     pseudo-Dirac|\n",
      "|  0|          1|      heavy-light|\n",
      "|  0|          1|       Perceptron|\n",
      "|  0|          1|         Decision|\n",
      "|  0|          1|         Boosting|\n",
      "|  0|          1|          leptons|\n",
      "|  0|          1|            found|\n",
      "|  0|          1|           seesaw|\n",
      "|  0|          1|      observables|\n",
      "|  0|          1|         optimize|\n",
      "|  0|          1|          inverse|\n",
      "|  0|          1|       transverse|\n",
      "|  0|          1|          crucial|\n",
      "|  0|          1|         dominant|\n",
      "|  0|          1|            (with|\n",
      "|  0|          1|         improved|\n",
      "|  0|          1|         estimate|\n",
      "|  0|          1|          process|\n",
      "|  0|          1|             work|\n",
      "|  0|          1|           energy|\n",
      "|  0|          1|          charged|\n",
      "|  1|          4|        potential|\n",
      "|  1|          4|      dissipative|\n",
      "|  1|          3|           Gubser|\n",
      "|  1|          3|        solutions|\n",
      "|  1|          2|       space-time|\n",
      "|  1|          2|            other|\n",
      "|  1|          2|    hydrodynamics|\n",
      "|  1|          2|           future|\n",
      "|  1|          2|         analytic|\n",
      "|  1|          2|     relativistic|\n",
      "|  1|          2|          density|\n",
      "|  1|          2|        Minkowski|\n",
      "|  1|          1|        Following|\n",
      "|  1|          1|        evolution|\n",
      "|  1|          1|           proper|\n",
      "|  1|          1|          thermal|\n",
      "|  1|          1|        expansion|\n",
      "|  1|          1|     polarization|\n",
      "|  1|          1|           derive|\n",
      "|  1|          1|          derived|\n",
      "|  1|          1|    non-vanishing|\n",
      "|  1|          1|            being|\n",
      "|  1|          1|        vorticity|\n",
      "|  1|          1|           radial|\n",
      "|  1|          1|           energy|\n",
      "|  1|          1|         deriving|\n",
      "|  1|          1|      information|\n",
      "|  1|          1|            shear|\n",
      "|  1|          1|          implies|\n",
      "|  1|          1|      simulations|\n",
      "|  1|          1|          studies|\n",
      "|  1|          1|            terms|\n",
      "|  1|          1|       space-time|\n",
      "|  1|          1|           obtain|\n",
      "|  1|          1|    thermodynamic|\n",
      "|  1|          1|          results|\n",
      "|  1|          1|            decay|\n",
      "|  1|          1|        rescaling|\n",
      "|  1|          1|   Surprisinglyin|\n",
      "|  1|          1|          angular|\n",
      "|  1|          1|      corrections|\n",
      "|  1|          1|             flow|\n",
      "|  1|          1|             time|\n",
      "|  1|          1|    hydrodynamics|\n",
      "|  1|          1|        expansion|\n",
      "|  1|          1|           slower|\n",
      "|  1|          1|         Moreover|\n",
      "+---+-----------+-----------------+\n",
      "only showing top 100 rows\n",
      "\n"
     ]
    }
   ],
   "source": [
    "filtered = filtered.select(\"id\", \"count(word)\", F.translate(F.col(\"word\"), \".,\", \"\").alias(\"replaced\"))\n",
    "filtered.sort(col(\"id\"),col(\"count(word)\").desc()).show(100)"
   ]
  },
  {
   "cell_type": "markdown",
   "id": "9b932732-9d02-47cc-9275-96ce91e52c82",
   "metadata": {},
   "source": [
    "# Data Manipulation - Find a classification of the paper "
   ]
  },
  {
   "cell_type": "markdown",
   "id": "27780b32-634b-4290-9823-313fec9de41b",
   "metadata": {},
   "source": [
    "Each paper has a classification in their keyword. In order to create a model that is predictive, we will need to train a model to classify. If my understanding is correct, the first keyword is probably the most important classifier."
   ]
  },
  {
   "cell_type": "code",
   "execution_count": 63,
   "id": "27478c09-d8e5-475d-aa50-da0c335d1c91",
   "metadata": {},
   "outputs": [
    {
     "name": "stdout",
     "output_type": "stream",
     "text": [
      "+---+---------------+--------------------+--------------------+--------------------+--------+---------------+\n",
      "| id|number_of_pages|             authors|            keywords|          titleWords|position|           word|\n",
      "+---+---------------+--------------------+--------------------+--------------------+--------+---------------+\n",
      "|  0|             26|[Feng, Jie, Li, M...|[{INSPIRE, classi...|[Improving, heavy...|       0|      Improving|\n",
      "|  0|             26|[Feng, Jie, Li, M...|[{INSPIRE, classi...|[Improving, heavy...|       1|          heavy|\n",
      "|  0|             26|[Feng, Jie, Li, M...|[{INSPIRE, classi...|[Improving, heavy...|       2|          Dirac|\n",
      "|  0|             26|[Feng, Jie, Li, M...|[{INSPIRE, classi...|[Improving, heavy...|       3|       neutrino|\n",
      "|  0|             26|[Feng, Jie, Li, M...|[{INSPIRE, classi...|[Improving, heavy...|       4|      prospects|\n",
      "|  0|             26|[Feng, Jie, Li, M...|[{INSPIRE, classi...|[Improving, heavy...|       5|             at|\n",
      "|  0|             26|[Feng, Jie, Li, M...|[{INSPIRE, classi...|[Improving, heavy...|       6|         future|\n",
      "|  0|             26|[Feng, Jie, Li, M...|[{INSPIRE, classi...|[Improving, heavy...|       7|         hadron|\n",
      "|  0|             26|[Feng, Jie, Li, M...|[{INSPIRE, classi...|[Improving, heavy...|       8|      colliders|\n",
      "|  0|             26|[Feng, Jie, Li, M...|[{INSPIRE, classi...|[Improving, heavy...|       9|          using|\n",
      "|  0|             26|[Feng, Jie, Li, M...|[{INSPIRE, classi...|[Improving, heavy...|      10|        machine|\n",
      "|  0|             26|[Feng, Jie, Li, M...|[{INSPIRE, classi...|[Improving, heavy...|      11|       learning|\n",
      "|  1|             28|[Wang, Dong-Lin, ...|[{INSPIRE, null, ...|[Analytic, soluti...|       0|       Analytic|\n",
      "|  1|             28|[Wang, Dong-Lin, ...|[{INSPIRE, null, ...|[Analytic, soluti...|       1|      solutions|\n",
      "|  1|             28|[Wang, Dong-Lin, ...|[{INSPIRE, null, ...|[Analytic, soluti...|       2|             of|\n",
      "|  1|             28|[Wang, Dong-Lin, ...|[{INSPIRE, null, ...|[Analytic, soluti...|       3|   relativistic|\n",
      "|  1|             28|[Wang, Dong-Lin, ...|[{INSPIRE, null, ...|[Analytic, soluti...|       4|    dissipative|\n",
      "|  1|             28|[Wang, Dong-Lin, ...|[{INSPIRE, null, ...|[Analytic, soluti...|       5|           spin|\n",
      "|  1|             28|[Wang, Dong-Lin, ...|[{INSPIRE, null, ...|[Analytic, soluti...|       6|  hydrodynamics|\n",
      "|  1|             28|[Wang, Dong-Lin, ...|[{INSPIRE, null, ...|[Analytic, soluti...|       7|           with|\n",
      "|  1|             28|[Wang, Dong-Lin, ...|[{INSPIRE, null, ...|[Analytic, soluti...|       8|         radial|\n",
      "|  1|             28|[Wang, Dong-Lin, ...|[{INSPIRE, null, ...|[Analytic, soluti...|       9|      expansion|\n",
      "|  1|             28|[Wang, Dong-Lin, ...|[{INSPIRE, null, ...|[Analytic, soluti...|      10|             in|\n",
      "|  1|             28|[Wang, Dong-Lin, ...|[{INSPIRE, null, ...|[Analytic, soluti...|      11|         Gubser|\n",
      "|  1|             28|[Wang, Dong-Lin, ...|[{INSPIRE, null, ...|[Analytic, soluti...|      12|           flow|\n",
      "|  2|             36|[Shuryak, Edward,...|[{INSPIRE, classi...|[Meson, structure...|       0|          Meson|\n",
      "|  2|             36|[Shuryak, Edward,...|[{INSPIRE, classi...|[Meson, structure...|       1|      structure|\n",
      "|  2|             36|[Shuryak, Edward,...|[{INSPIRE, classi...|[Meson, structure...|       2|             on|\n",
      "|  2|             36|[Shuryak, Edward,...|[{INSPIRE, classi...|[Meson, structure...|       3|            the|\n",
      "|  2|             36|[Shuryak, Edward,...|[{INSPIRE, classi...|[Meson, structure...|       4|    light-front|\n",
      "|  2|             36|[Shuryak, Edward,...|[{INSPIRE, classi...|[Meson, structure...|       5|            III|\n",
      "|  2|             36|[Shuryak, Edward,...|[{INSPIRE, classi...|[Meson, structure...|       6|              :|\n",
      "|  2|             36|[Shuryak, Edward,...|[{INSPIRE, classi...|[Meson, structure...|       7|            The|\n",
      "|  2|             36|[Shuryak, Edward,...|[{INSPIRE, classi...|[Meson, structure...|       8|   Hamiltonian,|\n",
      "|  2|             36|[Shuryak, Edward,...|[{INSPIRE, classi...|[Meson, structure...|       9|          heavy|\n",
      "|  2|             36|[Shuryak, Edward,...|[{INSPIRE, classi...|[Meson, structure...|      10|     quarkonia,|\n",
      "|  2|             36|[Shuryak, Edward,...|[{INSPIRE, classi...|[Meson, structure...|      11|           spin|\n",
      "|  2|             36|[Shuryak, Edward,...|[{INSPIRE, classi...|[Meson, structure...|      12|            and|\n",
      "|  2|             36|[Shuryak, Edward,...|[{INSPIRE, classi...|[Meson, structure...|      13|          orbit|\n",
      "|  2|             36|[Shuryak, Edward,...|[{INSPIRE, classi...|[Meson, structure...|      14|         mixing|\n",
      "|  3|             10|[Surovtsev, Yury ...|[{INSPIRE, classi...|[Coupled-channel,...|       0|Coupled-channel|\n",
      "|  3|             10|[Surovtsev, Yury ...|[{INSPIRE, classi...|[Coupled-channel,...|       1|       analysis|\n",
      "|  3|             10|[Surovtsev, Yury ...|[{INSPIRE, classi...|[Coupled-channel,...|       2|             of|\n",
      "|  3|             10|[Surovtsev, Yury ...|[{INSPIRE, classi...|[Coupled-channel,...|       3|            the|\n",
      "|  3|             10|[Surovtsev, Yury ...|[{INSPIRE, classi...|[Coupled-channel,...|       4|        process|\n",
      "|  3|             10|[Surovtsev, Yury ...|[{INSPIRE, classi...|[Coupled-channel,...|       5|        $\\gamma|\n",
      "|  3|             10|[Surovtsev, Yury ...|[{INSPIRE, classi...|[Coupled-channel,...|       6|         \\gamma|\n",
      "|  3|             10|[Surovtsev, Yury ...|[{INSPIRE, classi...|[Coupled-channel,...|       7|            \\to|\n",
      "|  3|             10|[Surovtsev, Yury ...|[{INSPIRE, classi...|[Coupled-channel,...|       8|          \\pi^0|\n",
      "|  3|             10|[Surovtsev, Yury ...|[{INSPIRE, classi...|[Coupled-channel,...|       9|         \\pi^0$|\n",
      "+---+---------------+--------------------+--------------------+--------------------+--------+---------------+\n",
      "only showing top 50 rows\n",
      "\n"
     ]
    }
   ],
   "source": [
    "#I don't know that I'm going to use these title word splits but just in case I'm going to leave this here.\n",
    "keyWords = papersWIDs.select(\n",
    "        \"id\", \"number_of_pages\", \"authors\", \"keywords\",\n",
    "        F.split(\"title\", \" \").alias(\"titleWords\"),\n",
    "        F.posexplode(F.split(\"title\", \" \")).alias(\"position\", \"word\")\n",
    "    )\n",
    "keyWords.show(50)"
   ]
  },
  {
   "cell_type": "code",
   "execution_count": 61,
   "id": "251d7e95-c5ec-40d5-8cf9-c562327ddaaf",
   "metadata": {},
   "outputs": [
    {
     "name": "stdout",
     "output_type": "stream",
     "text": [
      "+---+---------------+--------------------+--------------------+--------------------+--------+-------------+--------------------+\n",
      "| id|number_of_pages|             authors|            keywords|          titleWords|position|         word|                 new|\n",
      "+---+---------------+--------------------+--------------------+--------------------+--------+-------------+--------------------+\n",
      "|  0|             26|[Feng, Jie, Li, M...|[{INSPIRE, classi...|[Improving, heavy...|       0|    Improving|{INSPIRE, classif...|\n",
      "|  0|             26|[Feng, Jie, Li, M...|[{INSPIRE, classi...|[Improving, heavy...|       1|        heavy|{INSPIRE, classif...|\n",
      "|  0|             26|[Feng, Jie, Li, M...|[{INSPIRE, classi...|[Improving, heavy...|       2|        Dirac|{INSPIRE, classif...|\n",
      "|  0|             26|[Feng, Jie, Li, M...|[{INSPIRE, classi...|[Improving, heavy...|       3|     neutrino|{INSPIRE, classif...|\n",
      "|  0|             26|[Feng, Jie, Li, M...|[{INSPIRE, classi...|[Improving, heavy...|       4|    prospects|{INSPIRE, classif...|\n",
      "|  0|             26|[Feng, Jie, Li, M...|[{INSPIRE, classi...|[Improving, heavy...|       5|           at|{INSPIRE, classif...|\n",
      "|  0|             26|[Feng, Jie, Li, M...|[{INSPIRE, classi...|[Improving, heavy...|       6|       future|{INSPIRE, classif...|\n",
      "|  0|             26|[Feng, Jie, Li, M...|[{INSPIRE, classi...|[Improving, heavy...|       7|       hadron|{INSPIRE, classif...|\n",
      "|  0|             26|[Feng, Jie, Li, M...|[{INSPIRE, classi...|[Improving, heavy...|       8|    colliders|{INSPIRE, classif...|\n",
      "|  0|             26|[Feng, Jie, Li, M...|[{INSPIRE, classi...|[Improving, heavy...|       9|        using|{INSPIRE, classif...|\n",
      "|  0|             26|[Feng, Jie, Li, M...|[{INSPIRE, classi...|[Improving, heavy...|      10|      machine|{INSPIRE, classif...|\n",
      "|  0|             26|[Feng, Jie, Li, M...|[{INSPIRE, classi...|[Improving, heavy...|      11|     learning|{INSPIRE, classif...|\n",
      "|  1|             28|[Wang, Dong-Lin, ...|[{INSPIRE, null, ...|[Analytic, soluti...|       0|     Analytic|{INSPIRE, null, s...|\n",
      "|  1|             28|[Wang, Dong-Lin, ...|[{INSPIRE, null, ...|[Analytic, soluti...|       1|    solutions|{INSPIRE, null, s...|\n",
      "|  1|             28|[Wang, Dong-Lin, ...|[{INSPIRE, null, ...|[Analytic, soluti...|       2|           of|{INSPIRE, null, s...|\n",
      "|  1|             28|[Wang, Dong-Lin, ...|[{INSPIRE, null, ...|[Analytic, soluti...|       3| relativistic|{INSPIRE, null, s...|\n",
      "|  1|             28|[Wang, Dong-Lin, ...|[{INSPIRE, null, ...|[Analytic, soluti...|       4|  dissipative|{INSPIRE, null, s...|\n",
      "|  1|             28|[Wang, Dong-Lin, ...|[{INSPIRE, null, ...|[Analytic, soluti...|       5|         spin|{INSPIRE, null, s...|\n",
      "|  1|             28|[Wang, Dong-Lin, ...|[{INSPIRE, null, ...|[Analytic, soluti...|       6|hydrodynamics|{INSPIRE, null, s...|\n",
      "|  1|             28|[Wang, Dong-Lin, ...|[{INSPIRE, null, ...|[Analytic, soluti...|       7|         with|{INSPIRE, null, s...|\n",
      "+---+---------------+--------------------+--------------------+--------------------+--------+-------------+--------------------+\n",
      "only showing top 20 rows\n",
      "\n"
     ]
    }
   ],
   "source": [
    "#creates a new column that\n",
    "keyWords = keyWords.withColumn(\"new\", keyWords[\"keywords\"].getItem(0))\n",
    "keyWords.show()"
   ]
  },
  {
   "cell_type": "code",
   "execution_count": 62,
   "id": "25efe2f4-87b8-4530-b97d-831fd9a8101a",
   "metadata": {},
   "outputs": [
    {
     "name": "stdout",
     "output_type": "stream",
     "text": [
      "+---+---------------+--------------------+--------------------+--------------------+--------+-------------+---------------+\n",
      "| id|number_of_pages|             authors|            keywords|          titleWords|position|         word| classification|\n",
      "+---+---------------+--------------------+--------------------+--------------------+--------+-------------+---------------+\n",
      "|  0|             26|[Feng, Jie, Li, M...|[{INSPIRE, classi...|[Improving, heavy...|       0|    Improving| neutrino, mass|\n",
      "|  0|             26|[Feng, Jie, Li, M...|[{INSPIRE, classi...|[Improving, heavy...|       1|        heavy| neutrino, mass|\n",
      "|  0|             26|[Feng, Jie, Li, M...|[{INSPIRE, classi...|[Improving, heavy...|       2|        Dirac| neutrino, mass|\n",
      "|  0|             26|[Feng, Jie, Li, M...|[{INSPIRE, classi...|[Improving, heavy...|       3|     neutrino| neutrino, mass|\n",
      "|  0|             26|[Feng, Jie, Li, M...|[{INSPIRE, classi...|[Improving, heavy...|       4|    prospects| neutrino, mass|\n",
      "|  0|             26|[Feng, Jie, Li, M...|[{INSPIRE, classi...|[Improving, heavy...|       5|           at| neutrino, mass|\n",
      "|  0|             26|[Feng, Jie, Li, M...|[{INSPIRE, classi...|[Improving, heavy...|       6|       future| neutrino, mass|\n",
      "|  0|             26|[Feng, Jie, Li, M...|[{INSPIRE, classi...|[Improving, heavy...|       7|       hadron| neutrino, mass|\n",
      "|  0|             26|[Feng, Jie, Li, M...|[{INSPIRE, classi...|[Improving, heavy...|       8|    colliders| neutrino, mass|\n",
      "|  0|             26|[Feng, Jie, Li, M...|[{INSPIRE, classi...|[Improving, heavy...|       9|        using| neutrino, mass|\n",
      "|  0|             26|[Feng, Jie, Li, M...|[{INSPIRE, classi...|[Improving, heavy...|      10|      machine| neutrino, mass|\n",
      "|  0|             26|[Feng, Jie, Li, M...|[{INSPIRE, classi...|[Improving, heavy...|      11|     learning| neutrino, mass|\n",
      "|  1|             28|[Wang, Dong-Lin, ...|[{INSPIRE, null, ...|[Analytic, soluti...|       0|     Analytic|spin: potential|\n",
      "|  1|             28|[Wang, Dong-Lin, ...|[{INSPIRE, null, ...|[Analytic, soluti...|       1|    solutions|spin: potential|\n",
      "|  1|             28|[Wang, Dong-Lin, ...|[{INSPIRE, null, ...|[Analytic, soluti...|       2|           of|spin: potential|\n",
      "|  1|             28|[Wang, Dong-Lin, ...|[{INSPIRE, null, ...|[Analytic, soluti...|       3| relativistic|spin: potential|\n",
      "|  1|             28|[Wang, Dong-Lin, ...|[{INSPIRE, null, ...|[Analytic, soluti...|       4|  dissipative|spin: potential|\n",
      "|  1|             28|[Wang, Dong-Lin, ...|[{INSPIRE, null, ...|[Analytic, soluti...|       5|         spin|spin: potential|\n",
      "|  1|             28|[Wang, Dong-Lin, ...|[{INSPIRE, null, ...|[Analytic, soluti...|       6|hydrodynamics|spin: potential|\n",
      "|  1|             28|[Wang, Dong-Lin, ...|[{INSPIRE, null, ...|[Analytic, soluti...|       7|         with|spin: potential|\n",
      "+---+---------------+--------------------+--------------------+--------------------+--------+-------------+---------------+\n",
      "only showing top 20 rows\n",
      "\n"
     ]
    }
   ],
   "source": [
    "classification =  keyWords.withColumn(\"classification\", keyWords[\"new\"].getItem(\"value\"))\n",
    "classification = classification.drop(col(\"new\"))\n",
    "classification.show()"
   ]
  },
  {
   "cell_type": "code",
   "execution_count": null,
   "id": "a272b3d1-0108-45c0-96f7-cc89070277f6",
   "metadata": {},
   "outputs": [],
   "source": []
  },
  {
   "cell_type": "code",
   "execution_count": null,
   "id": "63666725-806b-4740-8e7d-adb9c1f8aea8",
   "metadata": {},
   "outputs": [],
   "source": []
  }
 ],
 "metadata": {
  "kernelspec": {
   "display_name": "Python 3 (ipykernel)",
   "language": "python",
   "name": "python3"
  },
  "language_info": {
   "codemirror_mode": {
    "name": "ipython",
    "version": 3
   },
   "file_extension": ".py",
   "mimetype": "text/x-python",
   "name": "python",
   "nbconvert_exporter": "python",
   "pygments_lexer": "ipython3",
   "version": "3.9.10"
  }
 },
 "nbformat": 4,
 "nbformat_minor": 5
}
