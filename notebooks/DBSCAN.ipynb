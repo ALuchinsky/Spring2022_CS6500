{
 "cells": [
  {
   "cell_type": "code",
   "execution_count": 1,
   "id": "10b6a16b-37fa-434d-b3ad-dde13f182498",
   "metadata": {
    "tags": []
   },
   "outputs": [],
   "source": [
    "import findspark\n",
    "findspark.init()\n",
    "\n",
    "from pyspark.sql import SparkSession\n",
    "from pyspark.sql.functions import format_number, mean, min, max, corr, stddev\n",
    "from pyspark.sql.functions import (dayofmonth, hour, dayofyear, month, year, weekofyear, format_number, date_format, asc, desc)\n",
    "from pyspark.sql.functions import explode, col, element_at, size, split\n",
    "from pyspark.sql.functions import udf\n",
    "import numpy as np\n",
    "import matplotlib.pyplot as plt\n",
    "#https://www.data4v.com/tutorial-hierarchical-clustering-in-spark-with-bisecting-k-means/"
   ]
  },
  {
   "cell_type": "code",
   "execution_count": 2,
   "id": "49ff5943-4a5f-4b2c-af1c-67985c947512",
   "metadata": {},
   "outputs": [],
   "source": [
    "from pyspark.ml.evaluation import ClusteringEvaluator\n",
    "from pyspark.ml.feature import VectorAssembler\n",
    "\n",
    "from pyspark.ml.clustering import KMeans, BisectingKMeans\n"
   ]
  },
  {
   "cell_type": "code",
   "execution_count": 3,
   "id": "73da3889-9e88-493d-9a42-b52faf21a989",
   "metadata": {
    "tags": []
   },
   "outputs": [],
   "source": [
    "spark = SparkSession.builder \\\n",
    "    .appName('bisectingK') \\\n",
    "    .master('local[*]') \\\n",
    "    .config('spark.sql.execution.arrow.pyspark.enabled', True) \\\n",
    "    .config('spark.sql.session.timeZone', 'UTC') \\\n",
    "    .config('spark.driver.memory','8g') \\\n",
    "    .config('spark.ui.showConsoleProgress', True) \\\n",
    "    .config('spark.sql.repl.eagerEval.enabled', True) \\\n",
    "    .getOrCreate()"
   ]
  },
  {
   "cell_type": "code",
   "execution_count": 4,
   "id": "36dab93d-bfef-42ce-9e12-c692f59bdb84",
   "metadata": {},
   "outputs": [],
   "source": [
    "# Dummy table created ny AL_read_papers notebook\n",
    "# Original data is first 30000 papers from 2010 with 50 assigned keywords\n",
    "paps = spark.read.json(\"../data/processed/papers_2010/\")"
   ]
  },
  {
   "cell_type": "code",
   "execution_count": 5,
   "id": "beec97d4-615e-4760-987b-3c303be54f2a",
   "metadata": {},
   "outputs": [
    {
     "name": "stdout",
     "output_type": "stream",
     "text": [
      "3000\n",
      "2996\n",
      "2310\n"
     ]
    }
   ],
   "source": [
    "#Adding an ID to each paper so the abstract data analysis can be attributed to a paper\n",
    "from pyspark.sql.functions import monotonically_increasing_id\n",
    "papersWIDs = paps.withColumn(\"id\", monotonically_increasing_id())\n",
    "# remving nans\n",
    "print(papersWIDs.count())\n",
    "papersWIDs_woNA = papersWIDs.dropna()\n",
    "print(papersWIDs_woNA.count())\n",
    "papersWIDs_woNA_woNone = papersWIDs_woNA.filter(\"None == 0\")\n",
    "print(papersWIDs_woNA_woNone.count())"
   ]
  },
  {
   "cell_type": "code",
   "execution_count": 109,
   "id": "4947b53a-62d1-416f-8c26-09ced484aa2e",
   "metadata": {},
   "outputs": [],
   "source": [
    "from sklearn.cluster import DBSCAN\n",
    "from sklearn.preprocessing import MinMaxScaler\n",
    "import numpy as np"
   ]
  },
  {
   "cell_type": "code",
   "execution_count": 276,
   "id": "a7b0012e-f575-456f-aaef-afc648f5a76b",
   "metadata": {},
   "outputs": [],
   "source": [
    "ignore = [\"title\", \"id\", \"num_refs\"]\n",
    "inputColumns = [c for c in papersWIDs_woNA.columns if not c in ignore]\n",
    "inputData = papersWIDs_woNA.select(inputColumns).toPandas()\n",
    "#inputData = MinMaxScaler().fit_transform(inputData)"
   ]
  },
  {
   "cell_type": "code",
   "execution_count": 277,
   "id": "b5e94e66-3e89-4979-a7c9-fa65ca17d73b",
   "metadata": {},
   "outputs": [
    {
     "name": "stdout",
     "output_type": "stream",
     "text": [
      "............"
     ]
    },
    {
     "data": {
      "text/html": [
       "<div>\n",
       "<style scoped>\n",
       "    .dataframe tbody tr th:only-of-type {\n",
       "        vertical-align: middle;\n",
       "    }\n",
       "\n",
       "    .dataframe tbody tr th {\n",
       "        vertical-align: top;\n",
       "    }\n",
       "\n",
       "    .dataframe thead th {\n",
       "        text-align: right;\n",
       "    }\n",
       "</style>\n",
       "<table border=\"1\" class=\"dataframe\">\n",
       "  <thead>\n",
       "    <tr style=\"text-align: right;\">\n",
       "      <th></th>\n",
       "      <th>eps</th>\n",
       "      <th>min_samples</th>\n",
       "      <th>outliers</th>\n",
       "      <th>clusters</th>\n",
       "    </tr>\n",
       "  </thead>\n",
       "  <tbody>\n",
       "    <tr>\n",
       "      <th>0</th>\n",
       "      <td>0.1</td>\n",
       "      <td>2</td>\n",
       "      <td>2462</td>\n",
       "      <td>127</td>\n",
       "    </tr>\n",
       "    <tr>\n",
       "      <th>0</th>\n",
       "      <td>0.1</td>\n",
       "      <td>3</td>\n",
       "      <td>2592</td>\n",
       "      <td>62</td>\n",
       "    </tr>\n",
       "    <tr>\n",
       "      <th>0</th>\n",
       "      <td>0.1</td>\n",
       "      <td>4</td>\n",
       "      <td>2670</td>\n",
       "      <td>36</td>\n",
       "    </tr>\n",
       "    <tr>\n",
       "      <th>0</th>\n",
       "      <td>0.1</td>\n",
       "      <td>5</td>\n",
       "      <td>2702</td>\n",
       "      <td>28</td>\n",
       "    </tr>\n",
       "    <tr>\n",
       "      <th>0</th>\n",
       "      <td>0.1</td>\n",
       "      <td>6</td>\n",
       "      <td>2732</td>\n",
       "      <td>22</td>\n",
       "    </tr>\n",
       "    <tr>\n",
       "      <th>...</th>\n",
       "      <td>...</td>\n",
       "      <td>...</td>\n",
       "      <td>...</td>\n",
       "      <td>...</td>\n",
       "    </tr>\n",
       "    <tr>\n",
       "      <th>0</th>\n",
       "      <td>80.0</td>\n",
       "      <td>35</td>\n",
       "      <td>19</td>\n",
       "      <td>1</td>\n",
       "    </tr>\n",
       "    <tr>\n",
       "      <th>0</th>\n",
       "      <td>80.0</td>\n",
       "      <td>36</td>\n",
       "      <td>20</td>\n",
       "      <td>1</td>\n",
       "    </tr>\n",
       "    <tr>\n",
       "      <th>0</th>\n",
       "      <td>80.0</td>\n",
       "      <td>37</td>\n",
       "      <td>20</td>\n",
       "      <td>1</td>\n",
       "    </tr>\n",
       "    <tr>\n",
       "      <th>0</th>\n",
       "      <td>80.0</td>\n",
       "      <td>38</td>\n",
       "      <td>23</td>\n",
       "      <td>1</td>\n",
       "    </tr>\n",
       "    <tr>\n",
       "      <th>0</th>\n",
       "      <td>80.0</td>\n",
       "      <td>39</td>\n",
       "      <td>23</td>\n",
       "      <td>1</td>\n",
       "    </tr>\n",
       "  </tbody>\n",
       "</table>\n",
       "<p>456 rows × 4 columns</p>\n",
       "</div>"
      ],
      "text/plain": [
       "     eps  min_samples  outliers  clusters\n",
       "0    0.1            2      2462       127\n",
       "0    0.1            3      2592        62\n",
       "0    0.1            4      2670        36\n",
       "0    0.1            5      2702        28\n",
       "0    0.1            6      2732        22\n",
       "..   ...          ...       ...       ...\n",
       "0   80.0           35        19         1\n",
       "0   80.0           36        20         1\n",
       "0   80.0           37        20         1\n",
       "0   80.0           38        23         1\n",
       "0   80.0           39        23         1\n",
       "\n",
       "[456 rows x 4 columns]"
      ]
     },
     "execution_count": 277,
     "metadata": {},
     "output_type": "execute_result"
    }
   ],
   "source": [
    "dfDBScan = pd.DataFrame()\n",
    "for eps in [0.1, 0.2, 0.4, 0.8, 1.0, 2.0, 4.0, 8.0, 10, 20, 40, 80]:\n",
    "    print(\".\", end=\"\")\n",
    "    for min_samples in range(2, 40):\n",
    "        clustering = DBSCAN(eps=eps,  min_samples=min_samples).fit(inputData)\n",
    "        labels = clustering.labels_\n",
    "        dfDBScan = pd.concat([\n",
    "            dfDBScan,\n",
    "            pd.DataFrame.from_dict({\n",
    "                \"eps\":[eps], \n",
    "                \"min_samples\":[min_samples], \n",
    "                \"outliers\":[sum(labels<0)], \n",
    "                \"clusters\":[ len(set(labels))-1]})\n",
    "        ])\n",
    "dfDBScan   "
   ]
  },
  {
   "cell_type": "code",
   "execution_count": 279,
   "id": "d24b7aa6-0952-4cac-a61a-41e090346978",
   "metadata": {},
   "outputs": [
    {
     "name": "stdout",
     "output_type": "stream",
     "text": [
      "........."
     ]
    }
   ],
   "source": [
    "for eps in np.arange(0.01, 0.1, 0.01):\n",
    "    print(\".\", end=\"\")\n",
    "    for min_samples in range(2, 40):\n",
    "        clustering = DBSCAN(eps=eps,  min_samples=min_samples).fit(inputData)\n",
    "        labels = clustering.labels_\n",
    "        dfDBScan = pd.concat([\n",
    "            dfDBScan,\n",
    "            pd.DataFrame.from_dict({\n",
    "                \"eps\":[eps], \n",
    "                \"min_samples\":[min_samples], \n",
    "                \"outliers\":[sum(labels<0)], \n",
    "                \"clusters\":[ len(set(labels))-1]})\n",
    "        ])"
   ]
  },
  {
   "cell_type": "code",
   "execution_count": 211,
   "id": "1e6d6903-da03-476e-9296-da3a84d55b64",
   "metadata": {},
   "outputs": [],
   "source": [
    "# import seaborn as sns\n",
    "\n",
    "# sns.scatterplot(x=\"clusters\", y=\"outliers\", size=\"min_samples\", hue = \"eps\", data = dfDBScan)"
   ]
  },
  {
   "cell_type": "code",
   "execution_count": 290,
   "id": "7550fbdf-f059-4837-9bce-67c423c8cb78",
   "metadata": {},
   "outputs": [
    {
     "data": {
      "text/plain": [
       "{'eps': 10.5, 'min_samples': 3, 'outliers': 52, 'clusters': 11}"
      ]
     },
     "execution_count": 290,
     "metadata": {},
     "output_type": "execute_result"
    }
   ],
   "source": [
    "eps, min_samples = 10.5, 3\n",
    "clustering = DBSCAN(eps=eps,  min_samples=min_samples).fit(inputData)\n",
    "labels = clustering.labels_\n",
    "{\"eps\":eps, \"min_samples\":min_samples, \"outliers\":sum(labels<0), \"clusters\": len(set(labels))-1}"
   ]
  },
  {
   "cell_type": "code",
   "execution_count": 291,
   "id": "2e206d39-0567-4b62-93bf-6e866137556b",
   "metadata": {},
   "outputs": [
    {
     "data": {
      "text/plain": [
       "L\n",
       " 0     2871\n",
       "-1       52\n",
       " 4       22\n",
       " 3       15\n",
       " 2        7\n",
       " 1        6\n",
       " 7        5\n",
       " 8        5\n",
       " 5        4\n",
       " 6        3\n",
       " 9        3\n",
       " 10       3\n",
       "Name: L, dtype: int64"
      ]
     },
     "execution_count": 291,
     "metadata": {},
     "output_type": "execute_result"
    }
   ],
   "source": [
    "pd.DataFrame(labels, columns=[\"L\"]).groupby(\"L\")[\"L\"].count().sort_values(ascending = False)"
   ]
  },
  {
   "cell_type": "code",
   "execution_count": 302,
   "id": "19cfb9ee-4b9e-43dd-98dc-40d2aea8679d",
   "metadata": {},
   "outputs": [
    {
     "data": {
      "text/plain": [
       "clusters\n",
       "5    3\n",
       "6    1\n",
       "7    1\n",
       "8    2\n",
       "Name: clusters, dtype: int64"
      ]
     },
     "execution_count": 302,
     "metadata": {},
     "output_type": "execute_result"
    }
   ],
   "source": [
    "dfDBScan.query(\"5<=clusters & clusters<=10 & outliers<400\").groupby(\"clusters\")[\"clusters\"].count()"
   ]
  },
  {
   "cell_type": "code",
   "execution_count": null,
   "id": "bc4ecc8b-9c84-466b-8c86-c57158264c5d",
   "metadata": {},
   "outputs": [],
   "source": []
  }
 ],
 "metadata": {
  "kernelspec": {
   "display_name": "Python 3 (ipykernel)",
   "language": "python",
   "name": "python3"
  },
  "language_info": {
   "codemirror_mode": {
    "name": "ipython",
    "version": 3
   },
   "file_extension": ".py",
   "mimetype": "text/x-python",
   "name": "python",
   "nbconvert_exporter": "python",
   "pygments_lexer": "ipython3",
   "version": "3.9.10"
  }
 },
 "nbformat": 4,
 "nbformat_minor": 5
}
