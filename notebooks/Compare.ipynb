{
 "cells": [
  {
   "cell_type": "code",
   "execution_count": 1,
   "id": "b800ad6d-a5b5-459a-ba7f-d3275b685f7d",
   "metadata": {
    "tags": []
   },
   "outputs": [],
   "source": [
    "import findspark\n",
    "findspark.init()\n",
    "\n",
    "from pyspark.sql import SparkSession\n",
    "from pyspark.sql.functions import format_number, mean, min, max, corr, stddev\n",
    "from pyspark.sql.functions import (dayofmonth, hour, dayofyear, month, year, weekofyear, format_number, date_format, asc, desc)\n",
    "from pyspark.sql.functions import explode, col, element_at, size, split\n",
    "from pyspark.sql.functions import udf\n",
    "import numpy as np\n",
    "import pandas as pd\n",
    "import matplotlib.pyplot as plt\n",
    "#https://www.data4v.com/tutorial-hierarchical-clustering-in-spark-with-bisecting-k-means/"
   ]
  },
  {
   "cell_type": "code",
   "execution_count": 2,
   "id": "685712aa-0596-47b9-bc42-77a76416e0d0",
   "metadata": {},
   "outputs": [],
   "source": [
    "from pyspark.ml.evaluation import ClusteringEvaluator\n",
    "from pyspark.ml.feature import VectorAssembler\n",
    "\n",
    "from pyspark.ml.clustering import KMeans, BisectingKMeans\n"
   ]
  },
  {
   "cell_type": "code",
   "execution_count": 3,
   "id": "8d585e3f-baed-4e0d-ab0d-114fe718f007",
   "metadata": {
    "tags": []
   },
   "outputs": [],
   "source": [
    "spark = SparkSession.builder \\\n",
    "    .appName('bisectingK') \\\n",
    "    .master('local[*]') \\\n",
    "    .config('spark.sql.execution.arrow.pyspark.enabled', True) \\\n",
    "    .config('spark.sql.session.timeZone', 'UTC') \\\n",
    "    .config('spark.driver.memory','8g') \\\n",
    "    .config('spark.ui.showConsoleProgress', True) \\\n",
    "    .config('spark.sql.repl.eagerEval.enabled', True) \\\n",
    "    .getOrCreate()"
   ]
  },
  {
   "cell_type": "code",
   "execution_count": 4,
   "id": "518b0bb3-d8f9-4354-836e-1c0bc2e72aad",
   "metadata": {},
   "outputs": [],
   "source": [
    "data_path = \"/papers_2000/\""
   ]
  },
  {
   "cell_type": "markdown",
   "id": "450664e3-ffd2-486c-b2cc-2b4189343c44",
   "metadata": {},
   "source": [
    "## Citation Table"
   ]
  },
  {
   "cell_type": "code",
   "execution_count": 5,
   "id": "4a8622f6-0bf7-4e80-afa7-1f2e7a0e66f2",
   "metadata": {},
   "outputs": [],
   "source": [
    "def read_table(kws_source=\"kws\", method=\"bkmeans\"):\n",
    "    df = pd.read_csv(\"../data/processed/papers_2000/\"+kws_source+\"/\"+method+\"_mean_table.csv\")\n",
    "    df = df[['prediction', 'mean', 'sigma', 'count']]\n",
    "    df = df.sort_values(\"count\", ignore_index=True)\n",
    "    df[\"kws_source\"] = kws_source\n",
    "    df[\"method\"] = method\n",
    "    return df.reset_index()"
   ]
  },
  {
   "cell_type": "code",
   "execution_count": 6,
   "id": "9cc7ccc5-7a50-4b5e-8066-1e2b0af5224f",
   "metadata": {},
   "outputs": [],
   "source": [
    "df_table = pd.DataFrame()\n",
    "for method in [\"kmeans\", \"bkmeans\"]:\n",
    "    for kws_source in [\"kws\", \"abs\"]:\n",
    "        df_table = pd.concat([df_table, read_table(kws_source=kws_source, method=method)])"
   ]
  },
  {
   "cell_type": "code",
   "execution_count": 8,
   "id": "6130866a-2afa-4450-82f3-2862a29f4105",
   "metadata": {},
   "outputs": [
    {
     "data": {
      "text/html": [
       "<div>\n",
       "<style scoped>\n",
       "    .dataframe tbody tr th:only-of-type {\n",
       "        vertical-align: middle;\n",
       "    }\n",
       "\n",
       "    .dataframe tbody tr th {\n",
       "        vertical-align: top;\n",
       "    }\n",
       "\n",
       "    .dataframe thead th {\n",
       "        text-align: right;\n",
       "    }\n",
       "</style>\n",
       "<table border=\"1\" class=\"dataframe\">\n",
       "  <thead>\n",
       "    <tr style=\"text-align: right;\">\n",
       "      <th></th>\n",
       "      <th>index</th>\n",
       "      <th>prediction</th>\n",
       "      <th>mean</th>\n",
       "      <th>sigma</th>\n",
       "      <th>count</th>\n",
       "      <th>kws_source</th>\n",
       "      <th>method</th>\n",
       "    </tr>\n",
       "  </thead>\n",
       "  <tbody>\n",
       "    <tr>\n",
       "      <th>0</th>\n",
       "      <td>0</td>\n",
       "      <td>1</td>\n",
       "      <td>3838.500000</td>\n",
       "      <td>337.289935</td>\n",
       "      <td>2</td>\n",
       "      <td>kws</td>\n",
       "      <td>kmeans</td>\n",
       "    </tr>\n",
       "    <tr>\n",
       "      <th>1</th>\n",
       "      <td>1</td>\n",
       "      <td>2</td>\n",
       "      <td>1436.600000</td>\n",
       "      <td>350.284075</td>\n",
       "      <td>10</td>\n",
       "      <td>kws</td>\n",
       "      <td>kmeans</td>\n",
       "    </tr>\n",
       "    <tr>\n",
       "      <th>2</th>\n",
       "      <td>2</td>\n",
       "      <td>5</td>\n",
       "      <td>12.761905</td>\n",
       "      <td>41.857953</td>\n",
       "      <td>42</td>\n",
       "      <td>kws</td>\n",
       "      <td>kmeans</td>\n",
       "    </tr>\n",
       "    <tr>\n",
       "      <th>3</th>\n",
       "      <td>3</td>\n",
       "      <td>3</td>\n",
       "      <td>681.627451</td>\n",
       "      <td>143.651239</td>\n",
       "      <td>51</td>\n",
       "      <td>kws</td>\n",
       "      <td>kmeans</td>\n",
       "    </tr>\n",
       "    <tr>\n",
       "      <th>4</th>\n",
       "      <td>4</td>\n",
       "      <td>4</td>\n",
       "      <td>48.619048</td>\n",
       "      <td>59.144279</td>\n",
       "      <td>105</td>\n",
       "      <td>kws</td>\n",
       "      <td>kmeans</td>\n",
       "    </tr>\n",
       "    <tr>\n",
       "      <th>5</th>\n",
       "      <td>5</td>\n",
       "      <td>6</td>\n",
       "      <td>308.595238</td>\n",
       "      <td>82.734279</td>\n",
       "      <td>168</td>\n",
       "      <td>kws</td>\n",
       "      <td>kmeans</td>\n",
       "    </tr>\n",
       "    <tr>\n",
       "      <th>6</th>\n",
       "      <td>6</td>\n",
       "      <td>7</td>\n",
       "      <td>104.820312</td>\n",
       "      <td>38.644925</td>\n",
       "      <td>896</td>\n",
       "      <td>kws</td>\n",
       "      <td>kmeans</td>\n",
       "    </tr>\n",
       "    <tr>\n",
       "      <th>7</th>\n",
       "      <td>7</td>\n",
       "      <td>0</td>\n",
       "      <td>13.599830</td>\n",
       "      <td>15.051297</td>\n",
       "      <td>4698</td>\n",
       "      <td>kws</td>\n",
       "      <td>kmeans</td>\n",
       "    </tr>\n",
       "  </tbody>\n",
       "</table>\n",
       "</div>"
      ],
      "text/plain": [
       "   index  prediction         mean       sigma  count kws_source  method\n",
       "0      0           1  3838.500000  337.289935      2        kws  kmeans\n",
       "1      1           2  1436.600000  350.284075     10        kws  kmeans\n",
       "2      2           5    12.761905   41.857953     42        kws  kmeans\n",
       "3      3           3   681.627451  143.651239     51        kws  kmeans\n",
       "4      4           4    48.619048   59.144279    105        kws  kmeans\n",
       "5      5           6   308.595238   82.734279    168        kws  kmeans\n",
       "6      6           7   104.820312   38.644925    896        kws  kmeans\n",
       "7      7           0    13.599830   15.051297   4698        kws  kmeans"
      ]
     },
     "execution_count": 8,
     "metadata": {},
     "output_type": "execute_result"
    }
   ],
   "source": [
    "read_table(\"kws\", \"kmeans\")"
   ]
  },
  {
   "cell_type": "code",
   "execution_count": 37,
   "id": "0434ff03-2862-4de1-8dae-31a13ddf60e1",
   "metadata": {},
   "outputs": [
    {
     "data": {
      "text/html": [
       "<div>\n",
       "<style scoped>\n",
       "    .dataframe tbody tr th:only-of-type {\n",
       "        vertical-align: middle;\n",
       "    }\n",
       "\n",
       "    .dataframe tbody tr th {\n",
       "        vertical-align: top;\n",
       "    }\n",
       "\n",
       "    .dataframe thead th {\n",
       "        text-align: right;\n",
       "    }\n",
       "</style>\n",
       "<table border=\"1\" class=\"dataframe\">\n",
       "  <thead>\n",
       "    <tr style=\"text-align: right;\">\n",
       "      <th></th>\n",
       "      <th>count</th>\n",
       "      <th>mean</th>\n",
       "      <th>sigma</th>\n",
       "    </tr>\n",
       "  </thead>\n",
       "  <tbody>\n",
       "    <tr>\n",
       "      <th>0</th>\n",
       "      <td>1</td>\n",
       "      <td>4077.0</td>\n",
       "      <td>NaN</td>\n",
       "    </tr>\n",
       "    <tr>\n",
       "      <th>1</th>\n",
       "      <td>3</td>\n",
       "      <td>2561.0</td>\n",
       "      <td>925.0</td>\n",
       "    </tr>\n",
       "    <tr>\n",
       "      <th>2</th>\n",
       "      <td>21</td>\n",
       "      <td>1044.0</td>\n",
       "      <td>214.0</td>\n",
       "    </tr>\n",
       "    <tr>\n",
       "      <th>3</th>\n",
       "      <td>43</td>\n",
       "      <td>13.0</td>\n",
       "      <td>41.0</td>\n",
       "    </tr>\n",
       "    <tr>\n",
       "      <th>4</th>\n",
       "      <td>77</td>\n",
       "      <td>522.0</td>\n",
       "      <td>102.0</td>\n",
       "    </tr>\n",
       "    <tr>\n",
       "      <th>5</th>\n",
       "      <td>670</td>\n",
       "      <td>155.0</td>\n",
       "      <td>69.0</td>\n",
       "    </tr>\n",
       "    <tr>\n",
       "      <th>6</th>\n",
       "      <td>1689</td>\n",
       "      <td>40.0</td>\n",
       "      <td>24.0</td>\n",
       "    </tr>\n",
       "    <tr>\n",
       "      <th>7</th>\n",
       "      <td>3468</td>\n",
       "      <td>8.0</td>\n",
       "      <td>9.0</td>\n",
       "    </tr>\n",
       "  </tbody>\n",
       "</table>\n",
       "</div>"
      ],
      "text/plain": [
       "   count    mean  sigma\n",
       "0      1  4077.0    NaN\n",
       "1      3  2561.0  925.0\n",
       "2     21  1044.0  214.0\n",
       "3     43    13.0   41.0\n",
       "4     77   522.0  102.0\n",
       "5    670   155.0   69.0\n",
       "6   1689    40.0   24.0\n",
       "7   3468     8.0    9.0"
      ]
     },
     "execution_count": 37,
     "metadata": {},
     "output_type": "execute_result"
    }
   ],
   "source": [
    "tab = round(df_table.query(\"kws_source == 'kws' & method == 'bkmeans'\")[[\"count\", \"mean\", \"sigma\"]])\n",
    "tab"
   ]
  },
  {
   "cell_type": "code",
   "execution_count": null,
   "id": "6f92612f-cb23-4bff-839b-0887880be065",
   "metadata": {},
   "outputs": [],
   "source": [
    "ss"
   ]
  },
  {
   "cell_type": "code",
   "execution_count": 36,
   "id": "f8b3223c-8a57-4702-b751-222db4808922",
   "metadata": {},
   "outputs": [
    {
     "name": "stdout",
     "output_type": "stream",
     "text": [
      "\\begin{tabular}{rrr}\n",
      "\\toprule\n",
      " count &   mean &  sigma \\\\\n",
      "\\midrule\n",
      "     1 & 4077 &    NaN \\\\\n",
      "     3 & 2561 &  925 \\\\\n",
      "    21 & 1044 &  214 \\\\\n",
      "    43 &   13 &   41 \\\\\n",
      "    77 &  522 &  102 \\\\\n",
      "   670 &  155 &   69 \\\\\n",
      "  1689 &   40 &   24 \\\\\n",
      "  3468 &    8 &    9 \\\\\n",
      "\\bottomrule\n",
      "\\end{tabular}\n",
      "\n"
     ]
    },
    {
     "name": "stderr",
     "output_type": "stream",
     "text": [
      "/tmp/ipykernel_85050/1961828331.py:1: FutureWarning: In future versions `DataFrame.to_latex` is expected to utilise the base implementation of `Styler.to_latex` for formatting and rendering. The arguments signature may therefore change. It is recommended instead to use `DataFrame.style.to_latex` which also contains additional functionality.\n",
      "  print(tab.to_latex(index=False).replace(\".0\",\"\"))\n"
     ]
    }
   ],
   "source": [
    "print(tab.to_latex(index=False).replace(\".0\",\"\"))"
   ]
  },
  {
   "cell_type": "code",
   "execution_count": 8,
   "id": "5fcb4861-fc16-47f2-8bee-f12fdc89d74a",
   "metadata": {},
   "outputs": [
    {
     "data": {
      "text/html": [
       "<div>\n",
       "<style scoped>\n",
       "    .dataframe tbody tr th:only-of-type {\n",
       "        vertical-align: middle;\n",
       "    }\n",
       "\n",
       "    .dataframe tbody tr th {\n",
       "        vertical-align: top;\n",
       "    }\n",
       "\n",
       "    .dataframe thead tr th {\n",
       "        text-align: left;\n",
       "    }\n",
       "\n",
       "    .dataframe thead tr:last-of-type th {\n",
       "        text-align: right;\n",
       "    }\n",
       "</style>\n",
       "<table border=\"1\" class=\"dataframe\">\n",
       "  <thead>\n",
       "    <tr>\n",
       "      <th>method</th>\n",
       "      <th colspan=\"2\" halign=\"left\">kmeans</th>\n",
       "      <th colspan=\"2\" halign=\"left\">bkmeans</th>\n",
       "    </tr>\n",
       "    <tr>\n",
       "      <th>kws_source</th>\n",
       "      <th>kws</th>\n",
       "      <th>abs</th>\n",
       "      <th>kws</th>\n",
       "      <th>abs</th>\n",
       "    </tr>\n",
       "    <tr>\n",
       "      <th>index</th>\n",
       "      <th></th>\n",
       "      <th></th>\n",
       "      <th></th>\n",
       "      <th></th>\n",
       "    </tr>\n",
       "  </thead>\n",
       "  <tbody>\n",
       "    <tr>\n",
       "      <th>0</th>\n",
       "      <td>2</td>\n",
       "      <td>2</td>\n",
       "      <td>1</td>\n",
       "      <td>3</td>\n",
       "    </tr>\n",
       "    <tr>\n",
       "      <th>1</th>\n",
       "      <td>10</td>\n",
       "      <td>3</td>\n",
       "      <td>3</td>\n",
       "      <td>8</td>\n",
       "    </tr>\n",
       "    <tr>\n",
       "      <th>2</th>\n",
       "      <td>42</td>\n",
       "      <td>7</td>\n",
       "      <td>21</td>\n",
       "      <td>28</td>\n",
       "    </tr>\n",
       "    <tr>\n",
       "      <th>3</th>\n",
       "      <td>51</td>\n",
       "      <td>18</td>\n",
       "      <td>43</td>\n",
       "      <td>65</td>\n",
       "    </tr>\n",
       "    <tr>\n",
       "      <th>4</th>\n",
       "      <td>105</td>\n",
       "      <td>76</td>\n",
       "      <td>77</td>\n",
       "      <td>176</td>\n",
       "    </tr>\n",
       "    <tr>\n",
       "      <th>5</th>\n",
       "      <td>168</td>\n",
       "      <td>273</td>\n",
       "      <td>670</td>\n",
       "      <td>481</td>\n",
       "    </tr>\n",
       "    <tr>\n",
       "      <th>6</th>\n",
       "      <td>896</td>\n",
       "      <td>1088</td>\n",
       "      <td>1689</td>\n",
       "      <td>1386</td>\n",
       "    </tr>\n",
       "    <tr>\n",
       "      <th>7</th>\n",
       "      <td>4698</td>\n",
       "      <td>3836</td>\n",
       "      <td>3468</td>\n",
       "      <td>3156</td>\n",
       "    </tr>\n",
       "  </tbody>\n",
       "</table>\n",
       "</div>"
      ],
      "text/plain": [
       "method     kmeans       bkmeans      \n",
       "kws_source    kws   abs     kws   abs\n",
       "index                                \n",
       "0               2     2       1     3\n",
       "1              10     3       3     8\n",
       "2              42     7      21    28\n",
       "3              51    18      43    65\n",
       "4             105    76      77   176\n",
       "5             168   273     670   481\n",
       "6             896  1088    1689  1386\n",
       "7            4698  3836    3468  3156"
      ]
     },
     "execution_count": 8,
     "metadata": {},
     "output_type": "execute_result"
    }
   ],
   "source": [
    "df_table.pivot(values = \"count\", index = \"index\", columns = [\"method\", \"kws_source\"])"
   ]
  },
  {
   "cell_type": "code",
   "execution_count": 94,
   "id": "3bacd015-019f-44d5-aa44-afae6b80aed3",
   "metadata": {},
   "outputs": [
    {
     "data": {
      "text/html": [
       "<table border='1'>\n",
       "<tr><th>CP__violation</th><th>Feynman_graph</th><th>Feynman_graph__higher-order</th><th>Higgs_particle__mass</th><th>None</th><th>_corrupt_record</th><th>bibliography</th><th>citation_count</th><th>critical_phenomena</th><th>effective_Lagrangian</th><th>electron_positron__annihilation</th><th>electroweak_interaction</th><th>features</th><th>id</th><th>neutrino__cosmic_radiation</th><th>neutrino__mass</th><th>neutrino__mixing_angle</th><th>neutrino__oscillation</th><th>neutrino__solar</th><th>num_refs</th><th>number_of_pages</th><th>numerical_calculations</th><th>numerical_calculations__interpretation_of_experiments</th><th>p_p__inclusive_reaction</th><th>perturbation_theory__higher-order</th><th>prediction</th><th>quantum_chromodynamics</th><th>supersymmetry</th><th>title</th></tr>\n",
       "<tr><td>0</td><td>0</td><td>0</td><td>0</td><td>0</td><td>null</td><td>1</td><td>4077</td><td>0</td><td>0</td><td>0</td><td>0</td><td>{[5, 6, 16, 17], ...</td><td>1861</td><td>0</td><td>0</td><td>0</td><td>0</td><td>0</td><td>766</td><td>878</td><td>0</td><td>0</td><td>0</td><td>0</td><td>7</td><td>0</td><td>0</td><td>Review of particl...</td></tr>\n",
       "</table>\n"
      ],
      "text/plain": [
       "+-------------+-------------+---------------------------+--------------------+----+---------------+------------+--------------+------------------+--------------------+-------------------------------+-----------------------+--------------------+----+--------------------------+--------------+----------------------+---------------------+---------------+--------+---------------+----------------------+-----------------------------------------------------+-----------------------+---------------------------------+----------+----------------------+-------------+--------------------+\n",
       "|CP__violation|Feynman_graph|Feynman_graph__higher-order|Higgs_particle__mass|None|_corrupt_record|bibliography|citation_count|critical_phenomena|effective_Lagrangian|electron_positron__annihilation|electroweak_interaction|            features|  id|neutrino__cosmic_radiation|neutrino__mass|neutrino__mixing_angle|neutrino__oscillation|neutrino__solar|num_refs|number_of_pages|numerical_calculations|numerical_calculations__interpretation_of_experiments|p_p__inclusive_reaction|perturbation_theory__higher-order|prediction|quantum_chromodynamics|supersymmetry|               title|\n",
       "+-------------+-------------+---------------------------+--------------------+----+---------------+------------+--------------+------------------+--------------------+-------------------------------+-----------------------+--------------------+----+--------------------------+--------------+----------------------+---------------------+---------------+--------+---------------+----------------------+-----------------------------------------------------+-----------------------+---------------------------------+----------+----------------------+-------------+--------------------+\n",
       "|            0|            0|                          0|                   0|   0|           null|           1|          4077|                 0|                   0|                              0|                      0|{[5, 6, 16, 17], ...|1861|                         0|             0|                     0|                    0|              0|     766|            878|                     0|                                                    0|                      0|                                0|         7|                     0|            0|Review of particl...|\n",
       "+-------------+-------------+---------------------------+--------------------+----+---------------+------------+--------------+------------------+--------------------+-------------------------------+-----------------------+--------------------+----+--------------------------+--------------+----------------------+---------------------+---------------+--------+---------------+----------------------+-----------------------------------------------------+-----------------------+---------------------------------+----------+----------------------+-------------+--------------------+"
      ]
     },
     "execution_count": 94,
     "metadata": {},
     "output_type": "execute_result"
    }
   ],
   "source": [
    "kws_bkmeans.filter(\"prediction == 7\")"
   ]
  },
  {
   "cell_type": "code",
   "execution_count": 9,
   "id": "e7fc9265-fac7-4f46-91a7-bea8b4ef0d6e",
   "metadata": {},
   "outputs": [
    {
     "name": "stdout",
     "output_type": "stream",
     "text": [
      "\\begin{tabular}{lrrrr}\n",
      "\\toprule\n",
      "method & \\multicolumn{2}{l}{kmeans} & \\multicolumn{2}{l}{bkmeans} \\\\\n",
      "kws\\_source &    kws &   abs &     kws &   abs \\\\\n",
      "index &        &       &         &       \\\\\n",
      "\\midrule\n",
      "0     &      2 &     2 &       1 &     3 \\\\\n",
      "1     &     10 &     3 &       3 &     8 \\\\\n",
      "2     &     42 &     7 &      21 &    28 \\\\\n",
      "3     &     51 &    18 &      43 &    65 \\\\\n",
      "4     &    105 &    76 &      77 &   176 \\\\\n",
      "5     &    168 &   273 &     670 &   481 \\\\\n",
      "6     &    896 &  1088 &    1689 &  1386 \\\\\n",
      "7     &   4698 &  3836 &    3468 &  3156 \\\\\n",
      "\\bottomrule\n",
      "\\end{tabular}\n",
      "\n"
     ]
    },
    {
     "name": "stderr",
     "output_type": "stream",
     "text": [
      "/tmp/ipykernel_80044/4103285451.py:1: FutureWarning: In future versions `DataFrame.to_latex` is expected to utilise the base implementation of `Styler.to_latex` for formatting and rendering. The arguments signature may therefore change. It is recommended instead to use `DataFrame.style.to_latex` which also contains additional functionality.\n",
      "  print(_.to_latex())\n"
     ]
    }
   ],
   "source": [
    "print(_.to_latex())"
   ]
  },
  {
   "cell_type": "code",
   "execution_count": 10,
   "id": "bfc7cf36-9473-4af5-a6b3-99689ca88213",
   "metadata": {},
   "outputs": [
    {
     "data": {
      "text/html": [
       "<div>\n",
       "<style scoped>\n",
       "    .dataframe tbody tr th:only-of-type {\n",
       "        vertical-align: middle;\n",
       "    }\n",
       "\n",
       "    .dataframe tbody tr th {\n",
       "        vertical-align: top;\n",
       "    }\n",
       "\n",
       "    .dataframe thead tr th {\n",
       "        text-align: left;\n",
       "    }\n",
       "\n",
       "    .dataframe thead tr:last-of-type th {\n",
       "        text-align: right;\n",
       "    }\n",
       "</style>\n",
       "<table border=\"1\" class=\"dataframe\">\n",
       "  <thead>\n",
       "    <tr>\n",
       "      <th>method</th>\n",
       "      <th colspan=\"2\" halign=\"left\">kmeans</th>\n",
       "      <th colspan=\"2\" halign=\"left\">bkmeans</th>\n",
       "    </tr>\n",
       "    <tr>\n",
       "      <th>kws_source</th>\n",
       "      <th>kws</th>\n",
       "      <th>abs</th>\n",
       "      <th>kws</th>\n",
       "      <th>abs</th>\n",
       "    </tr>\n",
       "    <tr>\n",
       "      <th>index</th>\n",
       "      <th></th>\n",
       "      <th></th>\n",
       "      <th></th>\n",
       "      <th></th>\n",
       "    </tr>\n",
       "  </thead>\n",
       "  <tbody>\n",
       "    <tr>\n",
       "      <th>0</th>\n",
       "      <td>3838</td>\n",
       "      <td>3435</td>\n",
       "      <td>4077</td>\n",
       "      <td>3041</td>\n",
       "    </tr>\n",
       "    <tr>\n",
       "      <th>1</th>\n",
       "      <td>1436</td>\n",
       "      <td>1879</td>\n",
       "      <td>2561</td>\n",
       "      <td>1363</td>\n",
       "    </tr>\n",
       "    <tr>\n",
       "      <th>2</th>\n",
       "      <td>12</td>\n",
       "      <td>38</td>\n",
       "      <td>1043</td>\n",
       "      <td>766</td>\n",
       "    </tr>\n",
       "    <tr>\n",
       "      <th>3</th>\n",
       "      <td>681</td>\n",
       "      <td>1005</td>\n",
       "      <td>13</td>\n",
       "      <td>469</td>\n",
       "    </tr>\n",
       "    <tr>\n",
       "      <th>4</th>\n",
       "      <td>48</td>\n",
       "      <td>520</td>\n",
       "      <td>521</td>\n",
       "      <td>240</td>\n",
       "    </tr>\n",
       "    <tr>\n",
       "      <th>5</th>\n",
       "      <td>308</td>\n",
       "      <td>218</td>\n",
       "      <td>154</td>\n",
       "      <td>120</td>\n",
       "    </tr>\n",
       "    <tr>\n",
       "      <th>6</th>\n",
       "      <td>104</td>\n",
       "      <td>75</td>\n",
       "      <td>40</td>\n",
       "      <td>41</td>\n",
       "    </tr>\n",
       "    <tr>\n",
       "      <th>7</th>\n",
       "      <td>13</td>\n",
       "      <td>11</td>\n",
       "      <td>7</td>\n",
       "      <td>8</td>\n",
       "    </tr>\n",
       "  </tbody>\n",
       "</table>\n",
       "</div>"
      ],
      "text/plain": [
       "method     kmeans       bkmeans      \n",
       "kws_source    kws   abs     kws   abs\n",
       "index                                \n",
       "0            3838  3435    4077  3041\n",
       "1            1436  1879    2561  1363\n",
       "2              12    38    1043   766\n",
       "3             681  1005      13   469\n",
       "4              48   520     521   240\n",
       "5             308   218     154   120\n",
       "6             104    75      40    41\n",
       "7              13    11       7     8"
      ]
     },
     "execution_count": 10,
     "metadata": {},
     "output_type": "execute_result"
    }
   ],
   "source": [
    "df_table.pivot(values = \"mean\", index = \"index\", columns = [\"method\", \"kws_source\"]).astype(int)"
   ]
  },
  {
   "cell_type": "code",
   "execution_count": 66,
   "id": "c7ec3f5e-8a1c-40b1-bf36-4bf419d056c6",
   "metadata": {},
   "outputs": [
    {
     "name": "stdout",
     "output_type": "stream",
     "text": [
      "\\begin{tabular}{lrrrr}\n",
      "method & \\multicolumn{2}{r}{kmeans} & \\multicolumn{2}{r}{bkmeans} \\\\\n",
      "kws_source & kws & abs & kws & abs \\\\\n",
      "index &  &  &  &  \\\\\n",
      "0 & 3838 & 3435 & 4077 & 3041 \\\\\n",
      "1 & 1436 & 1879 & 2561 & 1363 \\\\\n",
      "2 & 12 & 38 & 1043 & 766 \\\\\n",
      "3 & 681 & 1005 & 13 & 469 \\\\\n",
      "4 & 48 & 520 & 521 & 240 \\\\\n",
      "5 & 308 & 218 & 154 & 120 \\\\\n",
      "6 & 104 & 75 & 40 & 41 \\\\\n",
      "7 & 13 & 11 & 7 & 8 \\\\\n",
      "\\end{tabular}\n",
      "\n"
     ]
    }
   ],
   "source": [
    "print(_.style.to_latex())"
   ]
  },
  {
   "cell_type": "code",
   "execution_count": 41,
   "id": "491cc496-803b-41d5-ba91-644a28a5004b",
   "metadata": {},
   "outputs": [],
   "source": [
    "kws_kmeans = spark.read.json(\"../data/processed/papers_2000/kws/KMeans/\")\n",
    "kws_bkmeans = spark.read.json(\"../data/processed/papers_2000/kws/BKmeans/\")\n",
    "\n",
    "abs_kmeans = spark.read.json(\"../data/processed/papers_2000/abs/KMeans/\")\n",
    "abs_bkmeans = spark.read.json(\"../data/processed/papers_2000/abs/BKmeans/\")"
   ]
  },
  {
   "cell_type": "code",
   "execution_count": 45,
   "id": "37b5775c-47fa-4c7c-87a4-e561d30f2a9a",
   "metadata": {},
   "outputs": [
    {
     "data": {
      "text/html": [
       "<table border='1'>\n",
       "<tr><th>prediction</th><th>count</th></tr>\n",
       "<tr><td>5</td><td>1</td></tr>\n",
       "<tr><td>1</td><td>2</td></tr>\n",
       "<tr><td>6</td><td>3</td></tr>\n",
       "<tr><td>3</td><td>28</td></tr>\n",
       "<tr><td>2</td><td>44</td></tr>\n",
       "<tr><td>4</td><td>134</td></tr>\n",
       "<tr><td>7</td><td>868</td></tr>\n",
       "<tr><td>0</td><td>4892</td></tr>\n",
       "</table>\n"
      ],
      "text/plain": [
       "+----------+-----+\n",
       "|prediction|count|\n",
       "+----------+-----+\n",
       "|         5|    1|\n",
       "|         1|    2|\n",
       "|         6|    3|\n",
       "|         3|   28|\n",
       "|         2|   44|\n",
       "|         4|  134|\n",
       "|         7|  868|\n",
       "|         0| 4892|\n",
       "+----------+-----+"
      ]
     },
     "execution_count": 45,
     "metadata": {},
     "output_type": "execute_result"
    }
   ],
   "source": [
    "kws_kmeans.groupby(\"prediction\").count().sort(asc(\"count\"))"
   ]
  },
  {
   "cell_type": "code",
   "execution_count": null,
   "id": "9a55d6ec-4868-4089-af59-3853a12f8f9c",
   "metadata": {},
   "outputs": [],
   "source": [
    "kws_kmeans.filter(\""
   ]
  },
  {
   "cell_type": "code",
   "execution_count": 22,
   "id": "085e164f-7734-4339-9607-f697a0332106",
   "metadata": {},
   "outputs": [],
   "source": [
    "from pyspark.sql.functions import monotonically_increasing_id, lit"
   ]
  },
  {
   "cell_type": "code",
   "execution_count": 23,
   "id": "a9052810-cbf3-43d5-afad-1bb7f9ce81bf",
   "metadata": {},
   "outputs": [],
   "source": [
    "kws_kmeans_count = kws_kmeans.groupby(\"prediction\").count().sort(desc(\"count\")).withColumn(\"id\", monotonically_increasing_id())\n",
    "kws_bkmeans_count = kws_bkmeans.groupby(\"prediction\").count().sort(desc(\"count\")).withColumn(\"id\", monotonically_increasing_id())\n",
    "\n",
    "abs_kmeans_count = abs_kmeans.groupby(\"prediction\").count().sort(desc(\"count\")).withColumn(\"id\", monotonically_increasing_id())\n",
    "abs_bkmeans_count = abs_bkmeans.groupby(\"prediction\").count().sort(desc(\"count\")).withColumn(\"id\", monotonically_increasing_id())\n"
   ]
  },
  {
   "cell_type": "code",
   "execution_count": 91,
   "id": "07d21993-1ed8-49c8-8e8e-83fe9b553ecb",
   "metadata": {},
   "outputs": [
    {
     "data": {
      "text/html": [
       "<table border='1'>\n",
       "<tr><th>prediction</th><th>count</th><th>id</th></tr>\n",
       "<tr><td>0</td><td>3468</td><td>0</td></tr>\n",
       "<tr><td>1</td><td>1689</td><td>1</td></tr>\n",
       "<tr><td>2</td><td>670</td><td>2</td></tr>\n",
       "<tr><td>null</td><td>414</td><td>3</td></tr>\n",
       "<tr><td>4</td><td>77</td><td>4</td></tr>\n",
       "<tr><td>3</td><td>43</td><td>5</td></tr>\n",
       "<tr><td>5</td><td>21</td><td>6</td></tr>\n",
       "<tr><td>6</td><td>3</td><td>7</td></tr>\n",
       "<tr><td>7</td><td>1</td><td>8</td></tr>\n",
       "</table>\n"
      ],
      "text/plain": [
       "+----------+-----+---+\n",
       "|prediction|count| id|\n",
       "+----------+-----+---+\n",
       "|         0| 3468|  0|\n",
       "|         1| 1689|  1|\n",
       "|         2|  670|  2|\n",
       "|      null|  414|  3|\n",
       "|         4|   77|  4|\n",
       "|         3|   43|  5|\n",
       "|         5|   21|  6|\n",
       "|         6|    3|  7|\n",
       "|         7|    1|  8|\n",
       "+----------+-----+---+"
      ]
     },
     "execution_count": 91,
     "metadata": {},
     "output_type": "execute_result"
    }
   ],
   "source": [
    "kws_bkmeans_count"
   ]
  },
  {
   "cell_type": "code",
   "execution_count": 24,
   "id": "67a0ff68-0744-4696-8fb9-b785680de88e",
   "metadata": {},
   "outputs": [
    {
     "data": {
      "text/html": [
       "<table border='1'>\n",
       "<tr><th>id</th><th>count</th><th>count</th><th>count</th><th>count</th></tr>\n",
       "<tr><td>1</td><td>4892</td><td>3468</td><td>3927</td><td>3156</td></tr>\n",
       "<tr><td>2</td><td>868</td><td>1689</td><td>1002</td><td>1386</td></tr>\n",
       "<tr><td>3</td><td>134</td><td>670</td><td>237</td><td>481</td></tr>\n",
       "<tr><td>4</td><td>44</td><td>414</td><td>72</td><td>176</td></tr>\n",
       "<tr><td>5</td><td>28</td><td>77</td><td>52</td><td>65</td></tr>\n",
       "<tr><td>6</td><td>3</td><td>43</td><td>9</td><td>28</td></tr>\n",
       "<tr><td>7</td><td>2</td><td>21</td><td>3</td><td>8</td></tr>\n",
       "<tr><td>8</td><td>1</td><td>3</td><td>1</td><td>3</td></tr>\n",
       "</table>\n"
      ],
      "text/plain": [
       "+---+-----+-----+-----+-----+\n",
       "| id|count|count|count|count|\n",
       "+---+-----+-----+-----+-----+\n",
       "|  1| 4892| 3468| 3927| 3156|\n",
       "|  2|  868| 1689| 1002| 1386|\n",
       "|  3|  134|  670|  237|  481|\n",
       "|  4|   44|  414|   72|  176|\n",
       "|  5|   28|   77|   52|   65|\n",
       "|  6|    3|   43|    9|   28|\n",
       "|  7|    2|   21|    3|    8|\n",
       "|  8|    1|    3|    1|    3|\n",
       "+---+-----+-----+-----+-----+"
      ]
     },
     "execution_count": 24,
     "metadata": {},
     "output_type": "execute_result"
    }
   ],
   "source": [
    "kws_kmeans_count.join(kws_bkmeans_count, on=\"id\").join(abs_kmeans_count, on=\"id\").join(abs_bkmeans_count, on=\"id\").drop(\"prediction\").withColumn(\"id\", col(\"id\")+lit(1))"
   ]
  },
  {
   "cell_type": "markdown",
   "id": "5ad68549-0fed-49b3-9df1-e31802e6a72e",
   "metadata": {},
   "source": [
    "Companies from most popular clusters in KMeans and BKmeans"
   ]
  },
  {
   "cell_type": "code",
   "execution_count": 15,
   "id": "1c4c292f-88e3-493e-99d3-82b33a16d0c6",
   "metadata": {},
   "outputs": [
    {
     "data": {
      "text/html": [
       "<table border='1'>\n",
       "<tr><th>prediction</th><th>count</th><th>id</th></tr>\n",
       "<tr><td>0</td><td>4892</td><td>0</td></tr>\n",
       "<tr><td>7</td><td>868</td><td>1</td></tr>\n",
       "<tr><td>4</td><td>134</td><td>2</td></tr>\n",
       "<tr><td>2</td><td>44</td><td>3</td></tr>\n",
       "<tr><td>3</td><td>28</td><td>4</td></tr>\n",
       "<tr><td>6</td><td>3</td><td>5</td></tr>\n",
       "<tr><td>1</td><td>2</td><td>6</td></tr>\n",
       "<tr><td>5</td><td>1</td><td>7</td></tr>\n",
       "</table>\n"
      ],
      "text/plain": [
       "+----------+-----+---+\n",
       "|prediction|count| id|\n",
       "+----------+-----+---+\n",
       "|         0| 4892|  0|\n",
       "|         7|  868|  1|\n",
       "|         4|  134|  2|\n",
       "|         2|   44|  3|\n",
       "|         3|   28|  4|\n",
       "|         6|    3|  5|\n",
       "|         1|    2|  6|\n",
       "|         5|    1|  7|\n",
       "+----------+-----+---+"
      ]
     },
     "execution_count": 15,
     "metadata": {},
     "output_type": "execute_result"
    }
   ],
   "source": [
    "kws_kmeans_count"
   ]
  },
  {
   "cell_type": "code",
   "execution_count": 16,
   "id": "29822129-22e2-41f6-8eb5-8b38c369f13a",
   "metadata": {},
   "outputs": [],
   "source": [
    "def get_nth_cluster(data, n):\n",
    "    # number of n-th by popularuty cluster\n",
    "    N = data.\\\n",
    "        groupby(\"prediction\").count().sort(desc(\"count\")).\\\n",
    "        collect()[n][0]\n",
    "    # companies in this cluster\n",
    "    ids = data.filter(\"prediction == \" + str(N)).select(\"id\").collect()\n",
    "    return set([id_[0] for id_ in ids])"
   ]
  },
  {
   "cell_type": "code",
   "execution_count": 17,
   "id": "1ca314bb-190b-4999-9613-9eab6c94d193",
   "metadata": {},
   "outputs": [],
   "source": [
    "sim_list = []\n",
    "for k in range(8):\n",
    "    MP_kmeans = get_nth_cluster(abs_kmeans, k)\n",
    "    MP_bkmeans = get_nth_cluster(kws_bkmeans, k)\n",
    "    sim_list.append([k, 2*len(MP_kmeans.intersection(MP_bkmeans))/( len(MP_kmeans) + len(MP_bkmeans))])\n",
    "sim_list = np.array(sim_list)"
   ]
  },
  {
   "cell_type": "code",
   "execution_count": 18,
   "id": "c004bb71-0e43-4a24-b481-91b4f7cd83e8",
   "metadata": {},
   "outputs": [
    {
     "data": {
      "image/png": "[encoded data removed]",
      "text/plain": [
       "<Figure size 432x288 with 1 Axes>"
      ]
     },
     "metadata": {
      "needs_background": "light"
     },
     "output_type": "display_data"
    }
   ],
   "source": [
    "plt.plot(sim_list[:,0], sim_list[:,1])\n",
    "plt.ylim(0,1);"
   ]
  },
  {
   "cell_type": "code",
   "execution_count": 34,
   "id": "57f04e4b-26a1-4a1d-b7ad-07a98661e9ce",
   "metadata": {},
   "outputs": [
    {
     "data": {
      "text/plain": [
       "26"
      ]
     },
     "execution_count": 34,
     "metadata": {},
     "output_type": "execute_result"
    }
   ],
   "source": [
    "kmeans = kws_kmeans\n",
    "bkmeans = kws_bkmeans\n",
    "numeric_columns = [c[0] for c in bkmeans.dtypes if c[1] == 'bigint']\n",
    "len(numeric_columns)"
   ]
  },
  {
   "cell_type": "code",
   "execution_count": 30,
   "id": "8f376095-1113-4422-921e-bc73355f6cf6",
   "metadata": {},
   "outputs": [],
   "source": [
    "import pyspark.sql.functions as F"
   ]
  },
  {
   "cell_type": "markdown",
   "id": "5f7b8802-c6ee-429f-92a8-ca1cbbbf96e6",
   "metadata": {},
   "source": [
    "What columns make the difference between clusters i1=0 and i1+1?"
   ]
  },
  {
   "cell_type": "code",
   "execution_count": 78,
   "id": "ae1da66b-1e02-4819-b5c2-5a82381bf5f8",
   "metadata": {},
   "outputs": [],
   "source": [
    "def get_means(col, data):\n",
    "    means = bkmeans.select(col, \"prediction\").groupby(\"prediction\").\\\n",
    "            agg(mean(col), F.count(F.lit(1)).alias(\"count\")).\\\n",
    "            sort(desc(\"count\"))\n",
    "    return means"
   ]
  },
  {
   "cell_type": "code",
   "execution_count": 88,
   "id": "098e7af9-6dee-47ac-8c9f-b6e787fa157f",
   "metadata": {},
   "outputs": [
    {
     "data": {
      "text/html": [
       "<table border='1'>\n",
       "<tr><th>prediction</th><th>avg(CP__violation)</th></tr>\n",
       "<tr><td>0</td><td>0.08275663206459054</td></tr>\n",
       "<tr><td>6</td><td>0.0</td></tr>\n",
       "<tr><td>5</td><td>0.09523809523809523</td></tr>\n",
       "<tr><td>1</td><td>0.1343990526939017</td></tr>\n",
       "<tr><td>3</td><td>0.27906976744186046</td></tr>\n",
       "<tr><td>2</td><td>0.10597014925373134</td></tr>\n",
       "<tr><td>4</td><td>0.11688311688311688</td></tr>\n",
       "<tr><td>7</td><td>0.0</td></tr>\n",
       "<tr><td>null</td><td>null</td></tr>\n",
       "</table>\n"
      ],
      "text/plain": [
       "+----------+-------------------+\n",
       "|prediction| avg(CP__violation)|\n",
       "+----------+-------------------+\n",
       "|         0|0.08275663206459054|\n",
       "|         6|                0.0|\n",
       "|         5|0.09523809523809523|\n",
       "|         1| 0.1343990526939017|\n",
       "|         3|0.27906976744186046|\n",
       "|         2|0.10597014925373134|\n",
       "|         4|0.11688311688311688|\n",
       "|         7|                0.0|\n",
       "|      null|               null|\n",
       "+----------+-------------------+"
      ]
     },
     "execution_count": 88,
     "metadata": {},
     "output_type": "execute_result"
    }
   ],
   "source": [
    "bkmeans.select(numeric_columns+[\"prediction\"]).groupby(\"prediction\").agg(mean(numeric_columns[0]))"
   ]
  },
  {
   "cell_type": "code",
   "execution_count": 90,
   "id": "3f61d9e4-facb-4a07-a2d0-546da5e0419d",
   "metadata": {},
   "outputs": [
    {
     "data": {
      "text/plain": [
       "3468"
      ]
     },
     "execution_count": 90,
     "metadata": {},
     "output_type": "execute_result"
    }
   ],
   "source": [
    "bkmeans.filter(\"prediction == 0\").count()"
   ]
  },
  {
   "cell_type": "code",
   "execution_count": 84,
   "id": "d69f4de6-fdd6-44f3-b0be-d43ad2d5773c",
   "metadata": {},
   "outputs": [
    {
     "data": {
      "text/html": [
       "<table border='1'>\n",
       "<tr><th>prediction</th><th>avg(CP__violation)</th><th>count</th></tr>\n",
       "<tr><td>0</td><td>0.08275663206459054</td><td>3468</td></tr>\n",
       "<tr><td>1</td><td>0.1343990526939017</td><td>1689</td></tr>\n",
       "<tr><td>2</td><td>0.10597014925373134</td><td>670</td></tr>\n",
       "<tr><td>null</td><td>null</td><td>414</td></tr>\n",
       "<tr><td>4</td><td>0.11688311688311688</td><td>77</td></tr>\n",
       "<tr><td>3</td><td>0.27906976744186046</td><td>43</td></tr>\n",
       "<tr><td>5</td><td>0.09523809523809523</td><td>21</td></tr>\n",
       "<tr><td>6</td><td>0.0</td><td>3</td></tr>\n",
       "<tr><td>7</td><td>0.0</td><td>1</td></tr>\n",
       "</table>\n"
      ],
      "text/plain": [
       "+----------+-------------------+-----+\n",
       "|prediction| avg(CP__violation)|count|\n",
       "+----------+-------------------+-----+\n",
       "|         0|0.08275663206459054| 3468|\n",
       "|         1| 0.1343990526939017| 1689|\n",
       "|         2|0.10597014925373134|  670|\n",
       "|      null|               null|  414|\n",
       "|         4|0.11688311688311688|   77|\n",
       "|         3|0.27906976744186046|   43|\n",
       "|         5|0.09523809523809523|   21|\n",
       "|         6|                0.0|    3|\n",
       "|         7|                0.0|    1|\n",
       "+----------+-------------------+-----+"
      ]
     },
     "execution_count": 84,
     "metadata": {},
     "output_type": "execute_result"
    }
   ],
   "source": [
    "get_means(numeric_columns[0], bkemans)"
   ]
  },
  {
   "cell_type": "code",
   "execution_count": 73,
   "id": "3068b405-1c68-45dc-b344-dde439a2e06c",
   "metadata": {},
   "outputs": [],
   "source": [
    "i1, i2 = 1, 5\n",
    "counts = pd.DataFrame()\n",
    "for col in numeric_columns:\n",
    "    means = bkmeans.select(col, \"prediction\").groupby(\"prediction\").\\\n",
    "        agg(mean(col), F.count(F.lit(1)).alias(\"count\")).\\\n",
    "        sort(desc(\"count\")).collect()\n",
    "    counts = pd.concat([counts, pd.DataFrame([{\"i1\":i1, \"i2\":i2, \"col\":col, \"mean1\":means[i1][1], \"mean2\":means[i2][1]}])])\n",
    "counts[\"ratio\"] = counts[\"mean1\"]/counts[\"mean2\"]"
   ]
  },
  {
   "cell_type": "code",
   "execution_count": 74,
   "id": "6dae350d-764d-47e7-863f-58872a95555d",
   "metadata": {},
   "outputs": [
    {
     "data": {
      "text/html": [
       "<div>\n",
       "<style scoped>\n",
       "    .dataframe tbody tr th:only-of-type {\n",
       "        vertical-align: middle;\n",
       "    }\n",
       "\n",
       "    .dataframe tbody tr th {\n",
       "        vertical-align: top;\n",
       "    }\n",
       "\n",
       "    .dataframe thead th {\n",
       "        text-align: right;\n",
       "    }\n",
       "</style>\n",
       "<table border=\"1\" class=\"dataframe\">\n",
       "  <thead>\n",
       "    <tr style=\"text-align: right;\">\n",
       "      <th></th>\n",
       "      <th>i1</th>\n",
       "      <th>i2</th>\n",
       "      <th>col</th>\n",
       "      <th>mean1</th>\n",
       "      <th>mean2</th>\n",
       "      <th>ratio</th>\n",
       "    </tr>\n",
       "  </thead>\n",
       "  <tbody>\n",
       "    <tr>\n",
       "      <th>0</th>\n",
       "      <td>1</td>\n",
       "      <td>5</td>\n",
       "      <td>perturbation_theory__higher-order</td>\n",
       "      <td>6.700000e-02</td>\n",
       "      <td>0.000000e+00</td>\n",
       "      <td>inf</td>\n",
       "    </tr>\n",
       "    <tr>\n",
       "      <th>0</th>\n",
       "      <td>1</td>\n",
       "      <td>5</td>\n",
       "      <td>neutrino__mixing_angle</td>\n",
       "      <td>8.300000e-02</td>\n",
       "      <td>0.000000e+00</td>\n",
       "      <td>inf</td>\n",
       "    </tr>\n",
       "    <tr>\n",
       "      <th>0</th>\n",
       "      <td>1</td>\n",
       "      <td>5</td>\n",
       "      <td>p_p__inclusive_reaction</td>\n",
       "      <td>5.400000e-02</td>\n",
       "      <td>0.000000e+00</td>\n",
       "      <td>inf</td>\n",
       "    </tr>\n",
       "    <tr>\n",
       "      <th>0</th>\n",
       "      <td>1</td>\n",
       "      <td>5</td>\n",
       "      <td>Higgs_particle__mass</td>\n",
       "      <td>6.100000e-02</td>\n",
       "      <td>0.000000e+00</td>\n",
       "      <td>inf</td>\n",
       "    </tr>\n",
       "    <tr>\n",
       "      <th>0</th>\n",
       "      <td>1</td>\n",
       "      <td>5</td>\n",
       "      <td>numerical_calculations</td>\n",
       "      <td>5.030000e-01</td>\n",
       "      <td>2.300000e-02</td>\n",
       "      <td>21.640</td>\n",
       "    </tr>\n",
       "    <tr>\n",
       "      <th>0</th>\n",
       "      <td>1</td>\n",
       "      <td>5</td>\n",
       "      <td>numerical_calculations__interpretation_of_expe...</td>\n",
       "      <td>2.130000e-01</td>\n",
       "      <td>2.300000e-02</td>\n",
       "      <td>9.165</td>\n",
       "    </tr>\n",
       "    <tr>\n",
       "      <th>0</th>\n",
       "      <td>1</td>\n",
       "      <td>5</td>\n",
       "      <td>Feynman_graph__higher-order</td>\n",
       "      <td>9.900000e-02</td>\n",
       "      <td>2.300000e-02</td>\n",
       "      <td>4.277</td>\n",
       "    </tr>\n",
       "    <tr>\n",
       "      <th>0</th>\n",
       "      <td>1</td>\n",
       "      <td>5</td>\n",
       "      <td>Feynman_graph</td>\n",
       "      <td>9.500000e-02</td>\n",
       "      <td>2.300000e-02</td>\n",
       "      <td>4.099</td>\n",
       "    </tr>\n",
       "    <tr>\n",
       "      <th>0</th>\n",
       "      <td>1</td>\n",
       "      <td>5</td>\n",
       "      <td>id</td>\n",
       "      <td>1.095484e+10</td>\n",
       "      <td>3.196256e+09</td>\n",
       "      <td>3.427</td>\n",
       "    </tr>\n",
       "    <tr>\n",
       "      <th>0</th>\n",
       "      <td>1</td>\n",
       "      <td>5</td>\n",
       "      <td>effective_Lagrangian</td>\n",
       "      <td>7.300000e-02</td>\n",
       "      <td>2.300000e-02</td>\n",
       "      <td>3.157</td>\n",
       "    </tr>\n",
       "    <tr>\n",
       "      <th>0</th>\n",
       "      <td>1</td>\n",
       "      <td>5</td>\n",
       "      <td>citation_count</td>\n",
       "      <td>4.001200e+01</td>\n",
       "      <td>1.304700e+01</td>\n",
       "      <td>3.067</td>\n",
       "    </tr>\n",
       "    <tr>\n",
       "      <th>0</th>\n",
       "      <td>1</td>\n",
       "      <td>5</td>\n",
       "      <td>critical_phenomena</td>\n",
       "      <td>5.200000e-02</td>\n",
       "      <td>2.300000e-02</td>\n",
       "      <td>2.240</td>\n",
       "    </tr>\n",
       "    <tr>\n",
       "      <th>0</th>\n",
       "      <td>1</td>\n",
       "      <td>5</td>\n",
       "      <td>bibliography</td>\n",
       "      <td>3.450000e-01</td>\n",
       "      <td>1.630000e-01</td>\n",
       "      <td>2.120</td>\n",
       "    </tr>\n",
       "    <tr>\n",
       "      <th>0</th>\n",
       "      <td>1</td>\n",
       "      <td>5</td>\n",
       "      <td>electron_positron__annihilation</td>\n",
       "      <td>7.900000e-02</td>\n",
       "      <td>4.700000e-02</td>\n",
       "      <td>1.706</td>\n",
       "    </tr>\n",
       "    <tr>\n",
       "      <th>0</th>\n",
       "      <td>1</td>\n",
       "      <td>5</td>\n",
       "      <td>num_refs</td>\n",
       "      <td>4.941300e+01</td>\n",
       "      <td>2.909300e+01</td>\n",
       "      <td>1.698</td>\n",
       "    </tr>\n",
       "    <tr>\n",
       "      <th>0</th>\n",
       "      <td>1</td>\n",
       "      <td>5</td>\n",
       "      <td>neutrino__mass</td>\n",
       "      <td>7.500000e-02</td>\n",
       "      <td>7.000000e-02</td>\n",
       "      <td>1.069</td>\n",
       "    </tr>\n",
       "    <tr>\n",
       "      <th>0</th>\n",
       "      <td>1</td>\n",
       "      <td>5</td>\n",
       "      <td>neutrino__oscillation</td>\n",
       "      <td>1.200000e-01</td>\n",
       "      <td>1.400000e-01</td>\n",
       "      <td>0.861</td>\n",
       "    </tr>\n",
       "    <tr>\n",
       "      <th>0</th>\n",
       "      <td>1</td>\n",
       "      <td>5</td>\n",
       "      <td>neutrino__solar</td>\n",
       "      <td>7.700000e-02</td>\n",
       "      <td>1.160000e-01</td>\n",
       "      <td>0.662</td>\n",
       "    </tr>\n",
       "    <tr>\n",
       "      <th>0</th>\n",
       "      <td>1</td>\n",
       "      <td>5</td>\n",
       "      <td>neutrino__cosmic_radiation</td>\n",
       "      <td>5.500000e-02</td>\n",
       "      <td>9.300000e-02</td>\n",
       "      <td>0.592</td>\n",
       "    </tr>\n",
       "    <tr>\n",
       "      <th>0</th>\n",
       "      <td>1</td>\n",
       "      <td>5</td>\n",
       "      <td>supersymmetry</td>\n",
       "      <td>1.630000e-01</td>\n",
       "      <td>2.790000e-01</td>\n",
       "      <td>0.586</td>\n",
       "    </tr>\n",
       "    <tr>\n",
       "      <th>0</th>\n",
       "      <td>1</td>\n",
       "      <td>5</td>\n",
       "      <td>CP__violation</td>\n",
       "      <td>1.340000e-01</td>\n",
       "      <td>2.790000e-01</td>\n",
       "      <td>0.482</td>\n",
       "    </tr>\n",
       "    <tr>\n",
       "      <th>0</th>\n",
       "      <td>1</td>\n",
       "      <td>5</td>\n",
       "      <td>quantum_chromodynamics</td>\n",
       "      <td>1.320000e-01</td>\n",
       "      <td>3.490000e-01</td>\n",
       "      <td>0.378</td>\n",
       "    </tr>\n",
       "    <tr>\n",
       "      <th>0</th>\n",
       "      <td>1</td>\n",
       "      <td>5</td>\n",
       "      <td>prediction</td>\n",
       "      <td>1.000000e+00</td>\n",
       "      <td>3.000000e+00</td>\n",
       "      <td>0.333</td>\n",
       "    </tr>\n",
       "    <tr>\n",
       "      <th>0</th>\n",
       "      <td>1</td>\n",
       "      <td>5</td>\n",
       "      <td>electroweak_interaction</td>\n",
       "      <td>5.900000e-02</td>\n",
       "      <td>3.490000e-01</td>\n",
       "      <td>0.170</td>\n",
       "    </tr>\n",
       "    <tr>\n",
       "      <th>0</th>\n",
       "      <td>1</td>\n",
       "      <td>5</td>\n",
       "      <td>number_of_pages</td>\n",
       "      <td>2.267100e+01</td>\n",
       "      <td>5.236980e+02</td>\n",
       "      <td>0.043</td>\n",
       "    </tr>\n",
       "    <tr>\n",
       "      <th>0</th>\n",
       "      <td>1</td>\n",
       "      <td>5</td>\n",
       "      <td>None</td>\n",
       "      <td>0.000000e+00</td>\n",
       "      <td>0.000000e+00</td>\n",
       "      <td>NaN</td>\n",
       "    </tr>\n",
       "  </tbody>\n",
       "</table>\n",
       "</div>"
      ],
      "text/plain": [
       "   i1  i2                                                col         mean1  \\\n",
       "0   1   5                  perturbation_theory__higher-order  6.700000e-02   \n",
       "0   1   5                             neutrino__mixing_angle  8.300000e-02   \n",
       "0   1   5                            p_p__inclusive_reaction  5.400000e-02   \n",
       "0   1   5                               Higgs_particle__mass  6.100000e-02   \n",
       "0   1   5                             numerical_calculations  5.030000e-01   \n",
       "0   1   5  numerical_calculations__interpretation_of_expe...  2.130000e-01   \n",
       "0   1   5                        Feynman_graph__higher-order  9.900000e-02   \n",
       "0   1   5                                      Feynman_graph  9.500000e-02   \n",
       "0   1   5                                                 id  1.095484e+10   \n",
       "0   1   5                               effective_Lagrangian  7.300000e-02   \n",
       "0   1   5                                     citation_count  4.001200e+01   \n",
       "0   1   5                                 critical_phenomena  5.200000e-02   \n",
       "0   1   5                                       bibliography  3.450000e-01   \n",
       "0   1   5                    electron_positron__annihilation  7.900000e-02   \n",
       "0   1   5                                           num_refs  4.941300e+01   \n",
       "0   1   5                                     neutrino__mass  7.500000e-02   \n",
       "0   1   5                              neutrino__oscillation  1.200000e-01   \n",
       "0   1   5                                    neutrino__solar  7.700000e-02   \n",
       "0   1   5                         neutrino__cosmic_radiation  5.500000e-02   \n",
       "0   1   5                                      supersymmetry  1.630000e-01   \n",
       "0   1   5                                      CP__violation  1.340000e-01   \n",
       "0   1   5                             quantum_chromodynamics  1.320000e-01   \n",
       "0   1   5                                         prediction  1.000000e+00   \n",
       "0   1   5                            electroweak_interaction  5.900000e-02   \n",
       "0   1   5                                    number_of_pages  2.267100e+01   \n",
       "0   1   5                                               None  0.000000e+00   \n",
       "\n",
       "          mean2   ratio  \n",
       "0  0.000000e+00     inf  \n",
       "0  0.000000e+00     inf  \n",
       "0  0.000000e+00     inf  \n",
       "0  0.000000e+00     inf  \n",
       "0  2.300000e-02  21.640  \n",
       "0  2.300000e-02   9.165  \n",
       "0  2.300000e-02   4.277  \n",
       "0  2.300000e-02   4.099  \n",
       "0  3.196256e+09   3.427  \n",
       "0  2.300000e-02   3.157  \n",
       "0  1.304700e+01   3.067  \n",
       "0  2.300000e-02   2.240  \n",
       "0  1.630000e-01   2.120  \n",
       "0  4.700000e-02   1.706  \n",
       "0  2.909300e+01   1.698  \n",
       "0  7.000000e-02   1.069  \n",
       "0  1.400000e-01   0.861  \n",
       "0  1.160000e-01   0.662  \n",
       "0  9.300000e-02   0.592  \n",
       "0  2.790000e-01   0.586  \n",
       "0  2.790000e-01   0.482  \n",
       "0  3.490000e-01   0.378  \n",
       "0  3.000000e+00   0.333  \n",
       "0  3.490000e-01   0.170  \n",
       "0  5.236980e+02   0.043  \n",
       "0  0.000000e+00     NaN  "
      ]
     },
     "execution_count": 74,
     "metadata": {},
     "output_type": "execute_result"
    }
   ],
   "source": [
    "round(counts.sort_values(\"ratio\", ascending=False), 3)"
   ]
  },
  {
   "cell_type": "code",
   "execution_count": 45,
   "id": "2865b789-e933-44f3-a2e5-ab7b2eb02507",
   "metadata": {},
   "outputs": [
    {
     "ename": "ZeroDivisionError",
     "evalue": "float division by zero",
     "output_type": "error",
     "traceback": [
      "\u001b[0;31m---------------------------------------------------------------------------\u001b[0m",
      "\u001b[0;31mZeroDivisionError\u001b[0m                         Traceback (most recent call last)",
      "Input \u001b[0;32mIn [45]\u001b[0m, in \u001b[0;36m<cell line: 4>\u001b[0;34m()\u001b[0m\n\u001b[1;32m      4\u001b[0m \u001b[38;5;28;01mfor\u001b[39;00m col \u001b[38;5;129;01min\u001b[39;00m numeric_columns:\n\u001b[1;32m      5\u001b[0m     means \u001b[38;5;241m=\u001b[39m bkmeans\u001b[38;5;241m.\u001b[39mselect(col, \u001b[38;5;124m\"\u001b[39m\u001b[38;5;124mprediction\u001b[39m\u001b[38;5;124m\"\u001b[39m)\u001b[38;5;241m.\u001b[39mgroupby(\u001b[38;5;124m\"\u001b[39m\u001b[38;5;124mprediction\u001b[39m\u001b[38;5;124m\"\u001b[39m)\u001b[38;5;241m.\u001b[39m\\\n\u001b[1;32m      6\u001b[0m         agg(mean(col), F\u001b[38;5;241m.\u001b[39mcount(F\u001b[38;5;241m.\u001b[39mlit(\u001b[38;5;241m1\u001b[39m))\u001b[38;5;241m.\u001b[39malias(\u001b[38;5;124m\"\u001b[39m\u001b[38;5;124mcount\u001b[39m\u001b[38;5;124m\"\u001b[39m))\u001b[38;5;241m.\u001b[39m\\\n\u001b[1;32m      7\u001b[0m         sort(desc(\u001b[38;5;124m\"\u001b[39m\u001b[38;5;124mcount\u001b[39m\u001b[38;5;124m\"\u001b[39m))\u001b[38;5;241m.\u001b[39mcollect()\n\u001b[0;32m----> 8\u001b[0m     ratios\u001b[38;5;241m.\u001b[39mappend(\u001b[43mmeans\u001b[49m\u001b[43m[\u001b[49m\u001b[43mi1\u001b[49m\u001b[43m]\u001b[49m\u001b[43m[\u001b[49m\u001b[38;5;241;43m1\u001b[39;49m\u001b[43m]\u001b[49m\u001b[38;5;241;43m/\u001b[39;49m\u001b[43mmeans\u001b[49m\u001b[43m[\u001b[49m\u001b[43mi2\u001b[49m\u001b[43m]\u001b[49m\u001b[43m[\u001b[49m\u001b[38;5;241;43m1\u001b[39;49m\u001b[43m]\u001b[49m \u001b[38;5;28;01mif\u001b[39;00m means[i1\u001b[38;5;241m+\u001b[39m\u001b[38;5;241m1\u001b[39m][\u001b[38;5;241m1\u001b[39m] \u001b[38;5;28;01melse\u001b[39;00m \u001b[38;5;241m0\u001b[39m)\n\u001b[1;32m      9\u001b[0m ratios \u001b[38;5;241m=\u001b[39m np\u001b[38;5;241m.\u001b[39marray(ratios)\n\u001b[1;32m     11\u001b[0m np\u001b[38;5;241m.\u001b[39margsort(\u001b[38;5;241m-\u001b[39mratios)\n",
      "\u001b[0;31mZeroDivisionError\u001b[0m: float division by zero"
     ]
    }
   ],
   "source": [
    "ratios = []\n",
    "i1 = 0\n",
    "i2 = 6\n",
    "for col in numeric_columns:\n",
    "    means = bkmeans.select(col, \"prediction\").groupby(\"prediction\").\\\n",
    "        agg(mean(col), F.count(F.lit(1)).alias(\"count\")).\\\n",
    "        sort(desc(\"count\")).collect()\n",
    "    ratios.append(means[i1][1]/means[i2][1] if means[i1+1][1] else 0)\n",
    "ratios = np.array(ratios)\n",
    "\n",
    "np.argsort(-ratios)"
   ]
  },
  {
   "cell_type": "code",
   "execution_count": 43,
   "id": "f941e51f-8d69-488a-845d-e1e426774c8b",
   "metadata": {},
   "outputs": [
    {
     "data": {
      "text/plain": [
       "array([1.26827275, 1.13338408, 1.12106469, 1.11842971, 1.06799654,\n",
       "       1.02453029, 0.99964476, 0.98017955, 0.94995482, 0.94010985,\n",
       "       0.92783816, 0.91863762, 0.90058087, 0.89952385, 0.84808395,\n",
       "       0.81030152, 0.79336886, 0.76857608, 0.74867202, 0.73442817,\n",
       "       0.7293875 , 0.71681572, 0.67015627, 0.5       , 0.25862787,\n",
       "       0.        ])"
      ]
     },
     "execution_count": 43,
     "metadata": {},
     "output_type": "execute_result"
    }
   ],
   "source": [
    "-np.sort(-ratios)"
   ]
  },
  {
   "cell_type": "code",
   "execution_count": 41,
   "id": "3bcabc25-4493-465c-9b6b-501802beea1b",
   "metadata": {},
   "outputs": [
    {
     "data": {
      "text/plain": [
       "'electron_positron__annihilation'"
      ]
     },
     "execution_count": 41,
     "metadata": {},
     "output_type": "execute_result"
    }
   ],
   "source": [
    "numeric_columns[9]"
   ]
  },
  {
   "cell_type": "code",
   "execution_count": null,
   "id": "7f386806-3374-4948-9969-aeb010fcc784",
   "metadata": {},
   "outputs": [],
   "source": []
  }
 ],
 "metadata": {
  "kernelspec": {
   "display_name": "Python 3 (ipykernel)",
   "language": "python",
   "name": "python3"
  },
  "language_info": {
   "codemirror_mode": {
    "name": "ipython",
    "version": 3
   },
   "file_extension": ".py",
   "mimetype": "text/x-python",
   "name": "python",
   "nbconvert_exporter": "python",
   "pygments_lexer": "ipython3",
   "version": "3.9.10"
  }
 },
 "nbformat": 4,
 "nbformat_minor": 5
}
