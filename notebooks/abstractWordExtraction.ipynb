{
 "cells": [
  {
   "cell_type": "code",
   "execution_count": 1,
   "id": "bcee7f8b-9353-43ae-867a-047cc6447fa4",
   "metadata": {},
   "outputs": [],
   "source": [
    "import findspark\n",
    "findspark.init()\n",
    "\n",
    "from pyspark.sql import SparkSession\n",
    "from pyspark import SparkContext\n",
    "from pyspark.sql.functions import format_number, mean, min, max, corr\n",
    "from pyspark.sql.functions import (dayofmonth, hour, dayofyear, month, year, weekofyear, format_number, date_format)\n",
    "from pyspark.sql.functions import col\n",
    "from pyspark.sql.functions import lit\n",
    "from pyspark.sql.functions import explode\n",
    "from pyspark.sql import functions as F\n",
    "from pyspark.sql.functions import explode, col, element_at, size, split\n",
    "from pyspark.sql.functions import udf \n",
    "from pyspark.sql.functions import count\n",
    "from pyspark.sql.functions import length"
   ]
  },
  {
   "cell_type": "code",
   "execution_count": 2,
   "id": "51efc325-4cfe-46e8-98a0-835abe7ce2fc",
   "metadata": {},
   "outputs": [
    {
     "data": {
      "text/html": [
       "\n",
       "        <div>\n",
       "            <p><b>SparkContext</b></p>\n",
       "\n",
       "            <p><a href=\"http://3cc172c2b3a1:4040\">Spark UI</a></p>\n",
       "\n",
       "            <dl>\n",
       "              <dt>Version</dt>\n",
       "                <dd><code>v3.2.1</code></dd>\n",
       "              <dt>Master</dt>\n",
       "                <dd><code>local[*]</code></dd>\n",
       "              <dt>AppName</dt>\n",
       "                <dd><code>pyspark-shell</code></dd>\n",
       "            </dl>\n",
       "        </div>\n",
       "        "
      ],
      "text/plain": [
       "<SparkContext master=local[*] appName=pyspark-shell>"
      ]
     },
     "execution_count": 2,
     "metadata": {},
     "output_type": "execute_result"
    }
   ],
   "source": [
    "from pyspark import SparkConf, SparkContext\n",
    "conf = SparkConf()\n",
    "conf.set('spark.executor.memory', '8g')\n",
    "SparkContext(conf=conf)"
   ]
  },
  {
   "cell_type": "code",
   "execution_count": 3,
   "id": "4f232f0d-072e-4148-832b-4344510ab3a3",
   "metadata": {},
   "outputs": [
    {
     "data": {
      "text/plain": [
       "<pyspark.sql.conf.RuntimeConfig at 0x7ff968dbc160>"
      ]
     },
     "execution_count": 3,
     "metadata": {},
     "output_type": "execute_result"
    }
   ],
   "source": [
    "spark = SparkSession.builder.appName(\"fp\").getOrCreate()\n",
    "spark.conf"
   ]
  },
  {
   "cell_type": "code",
   "execution_count": 4,
   "id": "28e4b7e4-a27b-44dc-898b-fe41141c1127",
   "metadata": {},
   "outputs": [],
   "source": [
    "papers_ = spark.read.option(\"multiLine\", True).option(\"mode\", \"PERMISSIVE\").option(\"encoding\", \"ascii\").json(\"../data/AL_papers.json\")\n",
    "papers = papers_.select(explode(col(\"hits.hits\")).alias(\"paper\"))"
   ]
  },
  {
   "cell_type": "code",
   "execution_count": 5,
   "id": "af1b40c1-5dda-422d-886e-5e5b8d0dc3a8",
   "metadata": {},
   "outputs": [],
   "source": [
    " def ascii_ignore(x):\n",
    "    return x.encode('ascii', 'ignore').decode('ascii')\n",
    "ascii_udf = udf(ascii_ignore)"
   ]
  },
  {
   "cell_type": "code",
   "execution_count": 6,
   "id": "8a8f974e-6c90-4f3e-9e0e-1f7bc52f1b65",
   "metadata": {},
   "outputs": [
    {
     "name": "stdout",
     "output_type": "stream",
     "text": [
      "root\n",
      " |-- title: string (nullable = true)\n",
      " |-- abstract: string (nullable = true)\n",
      " |-- created: string (nullable = true)\n",
      " |-- number_of_pages: long (nullable = true)\n",
      " |-- keywords: array (nullable = true)\n",
      " |    |-- element: struct (containsNull = true)\n",
      " |    |    |-- schema: string (nullable = true)\n",
      " |    |    |-- source: string (nullable = true)\n",
      " |    |    |-- value: string (nullable = true)\n",
      " |-- num_refs: integer (nullable = false)\n",
      " |-- authors: array (nullable = true)\n",
      " |    |-- element: string (containsNull = true)\n",
      "\n"
     ]
    }
   ],
   "source": [
    "short_papers = papers.select(\n",
    "    element_at(col(\"paper.metadata.titles.title\"), 1).alias(\"title\"),\n",
    "    element_at(col(\"paper.metadata.abstracts.value\"), 1).alias(\"abstract\"),\n",
    "    col(\"paper.created\"), col(\"paper.metadata.number_of_pages\"),\n",
    "    col(\"paper.metadata.keywords\"), size(\n",
    "        col(\"paper.metadata.references\")).alias(\"num_refs\"),\n",
    "    col(\"paper.metadata.authors.full_name\").alias(\"authors\")\n",
    ").withColumn(\"title\", ascii_udf(\"title\"));\n",
    "short_papers.printSchema()"
   ]
  },
  {
   "cell_type": "code",
   "execution_count": 7,
   "id": "d62d244e-1e2e-4f66-b400-118f6b907ac2",
   "metadata": {},
   "outputs": [
    {
     "name": "stdout",
     "output_type": "stream",
     "text": [
      "+-----------------------------------------------------------------------------------------------------------------------------------------------------------------------------------------------------------------------------------------------------------------------------------------------------------------------------------------------------------------------------------------------------------------------------------------------------------------------------------------------------------------------------------------------------------------------+\n",
      "|keywords                                                                                                                                                                                                                                                                                                                                                                                                                                                                                                                                                               |\n",
      "+-----------------------------------------------------------------------------------------------------------------------------------------------------------------------------------------------------------------------------------------------------------------------------------------------------------------------------------------------------------------------------------------------------------------------------------------------------------------------------------------------------------------------------------------------------------------------+\n",
      "|[{PACS, null, 14.40.Pq}, {PACS, null, 12.39.St}, {PACS, null, 12.39.Jh}, {PACS, null, 3.38.Dg}, {null, author, Heavy quarkonia production}, {null, author, NRQCD}, {null, author, gauge boson decays}, {INSPIRE, null, W: hadronic decay}, {INSPIRE, null, charmonium: production}, {INSPIRE, null, charmonium: final state}, {INSPIRE, null, D/s*(2110): production}, {INSPIRE, null, D/s*(2110): final state}, {INSPIRE, null, quantum chromodynamics: nonrelativistic}, {INSPIRE, null, W --> charmonium D/s*(2110)}]                                               |\n",
      "|[{null, publisher, Strong Interactions}, {INSPIRE, null, baryon: heavy}, {INSPIRE, null, model: factorization}, {INSPIRE, null, meson: production}, {INSPIRE, null, branching ratio}, {INSPIRE, null, heavy quark}, {INSPIRE, null, exclusive reaction}, {INSPIRE, null, Xi/bc}, {INSPIRE, null, Xi/cc}]                                                                                                                                                                                                                                                               |\n",
      "|[{INSPIRE, null, talk}, {INSPIRE, null, baryon: heavy}, {INSPIRE, null, baryon: lifetime}, {INSPIRE, null, CERN LHC Coll}, {INSPIRE, null, Xi/bc}, {INSPIRE, null, LHC-B}]                                                                                                                                                                                                                                                                                                                                                                                             |\n",
      "|[{null, publisher, Electroweak interactions}, {INSPIRE, null, baryon: heavy}, {INSPIRE, null, decay: weak interaction}, {INSPIRE, null, baryon: semileptonic decay}, {INSPIRE, null, spectral representation}, {INSPIRE, null, quantum chromodynamics: factorization}, {INSPIRE, null, kinematics}, {INSPIRE, null, numerical calculations}]                                                                                                                                                                                                                           |\n",
      "|[{INSPIRE, null, talk}, {INSPIRE, null, B/c: excited state}, {INSPIRE, null, CERN LHC Coll}, {INSPIRE, null, cascade decay}, {INSPIRE, null, ground state}, {INSPIRE, null, lepton}, {INSPIRE, null, LHC-B}, {INSPIRE, null, ATLAS}, {INSPIRE, null, CMS}]                                                                                                                                                                                                                                                                                                             |\n",
      "|[{null, publisher, Phenomenological aspects of field theory, general methods}, {INSPIRE, null, lepton: decay}, {INSPIRE, null, meson}, {INSPIRE, null, branching ratio}, {INSPIRE, null, numerical calculations}]                                                                                                                                                                                                                                                                                                                                                      |\n",
      "|[{null, publisher, Electroweak interactions}, {INSPIRE, null, baryon: heavy}, {INSPIRE, null, lifetime}, {INSPIRE, null, baryon: production}, {INSPIRE, null, baryon: decay}, {INSPIRE, null, CERN LHC Coll}, {INSPIRE, null, LHC-B}, {INSPIRE, null, Xi/cc}]                                                                                                                                                                                                                                                                                                          |\n",
      "|[{PACS, null, 14.40.Pq}, {PACS, null, 12.39.St}, {PACS, null, 12.39.Jh}, {INSPIRE, null, quantum chromodynamics: nonrelativistic}, {INSPIRE, null, charmonium: production}, {INSPIRE, null, expansion: light cone}, {INSPIRE, null, higher-order: 0}, {INSPIRE, null, branching ratio}, {INSPIRE, null, formula}, {INSPIRE, null, numerical calculations}, {INSPIRE, null, color: octet}, {INSPIRE, null, W --> charm anti-charm D/s*(2110)}]                                                                                                                          |\n",
      "|[{INSPIRE, null, baryon: heavy}, {INSPIRE, null, baryon: lifetime}, {INSPIRE, null, baryon: width}, {INSPIRE, null, quark: mass}, {INSPIRE, null, operator product expansion}, {INSPIRE, null, lifetime: calculated}]                                                                                                                                                                                                                                                                                                                                                  |\n",
      "|[{PACS, null, 13.38.Dg}, {PACS, null, 14.40.Pq}, {null, author, NRQCD}, {null, author, LC}, {null, author, rare Z-boson decays}, {null, author, Charmonia production}, {INSPIRE, null, charmonium: multiple production}, {INSPIRE, null, Z0: decay}, {INSPIRE, null, exclusive reaction}, {INSPIRE, null, quantum chromodynamics: nonrelativistic}, {INSPIRE, null, branching ratio}, {INSPIRE, null, helicity}, {INSPIRE, null, suppression}, {INSPIRE, null, light cone}, {INSPIRE, null, twist}]                                                                    |\n",
      "|[{PACS, null, 13.20.Gd}, {PACS, null, 14.40.Pq}, {null, author, Heavy quarkonia decays}, {null, author, NRQCD}, {INSPIRE, null, muon: pair production}, {INSPIRE, null, quarkonium: radiative decay}, {INSPIRE, null, quarkonium: heavy}, {INSPIRE, null, branching ratio}, {INSPIRE, null, kinematics}, {INSPIRE, null, numerical calculations}, {INSPIRE, null, chi/c0(3415) --> J/psi(3100) muon+ muon-}, {INSPIRE, null, chi/b1(9890) --> Upsilon(10020) muon+ muon-}]                                                                                             |\n",
      "|[{INSPIRE, null, quarkonium: heavy}, {INSPIRE, null, quantum chromodynamics: nonrelativistic}, {INSPIRE, null, cross section: ratio}, {INSPIRE, null, color: singlet}, {INSPIRE, null, color: octet}, {INSPIRE, null, quarkonium: width}, {INSPIRE, null, quarkonium: pair production}, {INSPIRE, null, single production}, {INSPIRE, null, potential model}, {INSPIRE, null, CERN LHC Coll}, {INSPIRE, null, charmonium}, {INSPIRE, null, axial}, {INSPIRE, null, tensor}]                                                                                            |\n",
      "|[{INSPIRE, null, charmonium: production}, {INSPIRE, null, expansion: light cone}, {INSPIRE, null, boson: decay}, {INSPIRE, null, quantum chromodynamics: nonrelativistic}, {INSPIRE, null, higher-order: 0}, {INSPIRE, null, meson}, {INSPIRE, null, axial}, {INSPIRE, null, quark}]                                                                                                                                                                                                                                                                                   |\n",
      "|[{PACS, null, 13.87.Ce}, {PACS, null, 13.87.Fh}, {PACS, null, 14.40.Pq}, {null, author, LHC}, {null, author, charmonium production}, {null, author, double parton scattering}, {null, author, fragmentation}, {null, author, jets in large-Q2 scattering}, {INSPIRE, null, meson: production}, {INSPIRE, null, J/psi(3100): hadroproduction}, {INSPIRE, null, jet: fragmentation}, {INSPIRE, null, parton: scattering}, {INSPIRE, null, fragmentation function}, {INSPIRE, null, transverse momentum}, {INSPIRE, null, numerical calculations}, {INSPIRE, null, LHC-B}]|\n",
      "|[{INSPIRE, null, p p: scattering}, {INSPIRE, null, p p: colliding beams}, {INSPIRE, null, charmonium: hadroproduction}, {INSPIRE, null, parton: multiple scattering}, {INSPIRE, null, quantum chromodynamics: perturbation theory}, {INSPIRE, null, perturbation theory: higher-order}, {INSPIRE, null, higher-order: 1}, {INSPIRE, null, higher-order: 0}, {INSPIRE, null, LHC-B}, {INSPIRE, null, CERN LHC Coll}, {INSPIRE, null, kinematics}, {INSPIRE, null, gluon}, {INSPIRE, null, experimental results}]                                                        |\n",
      "+-----------------------------------------------------------------------------------------------------------------------------------------------------------------------------------------------------------------------------------------------------------------------------------------------------------------------------------------------------------------------------------------------------------------------------------------------------------------------------------------------------------------------------------------------------------------------+\n",
      "only showing top 15 rows\n",
      "\n"
     ]
    }
   ],
   "source": [
    "short_papers.select(\"keywords\").show(15, truncate = False)"
   ]
  },
  {
   "cell_type": "code",
   "execution_count": 8,
   "id": "1214edb6-c283-4dae-ae46-b90f815c3749",
   "metadata": {},
   "outputs": [
    {
     "name": "stdout",
     "output_type": "stream",
     "text": [
      "+--------------------+--------------------+--------------------+---------------+--------------------+--------+--------------------+\n",
      "|               title|            abstract|             created|number_of_pages|            keywords|num_refs|             authors|\n",
      "+--------------------+--------------------+--------------------+---------------+--------------------+--------+--------------------+\n",
      "|Charmonia product...|In this paper, pr...|2021-03-26T00:00:...|             15|[{PACS, null, 14....|      35|[Luchinsky, A.V.,...|\n",
      "|Exclusive decays ...|Exclusive decays ...|2020-07-09T00:00:...|             10|[{null, publisher...|      42|[Luchinsky, A.V.,...|\n",
      "|Doubly heavy bary...|The theoretical a...|2019-12-11T00:00:...|              8|[{INSPIRE, null, ...|      40|[Berezhnoy, A.V.,...|\n",
      "|Weak decays of do...|We consider exclu...|2019-05-29T00:00:...|             10|[{null, publisher...|      21|[Gerasimov, A.S.,...|\n",
      "|$B_c$ excitations...|Status of the Bc ...|2019-11-21T00:00:...|              8|[{INSPIRE, null, ...|      49|[Berezhnoy, A.V.,...|\n",
      "|Excited $\\rho$ me...|In this paper, ex...|2018-12-27T00:00:...|              7|[{null, publisher...|      22|   [Luchinsky, A.V.]|\n",
      "|Doubly heavy bary...|The theoretical a...|2018-09-27T00:00:...|             14|[{null, publisher...|      56|[Berezhnoy, A.V.,...|\n",
      "|Charmonia Product...|In the presented ...|2018-01-30T00:00:...|              9|[{PACS, null, 14....|      30|   [Luchinsky, A.V.]|\n",
      "|Lifetimes of Doub...|The inclusive dec...|2019-02-25T00:00:...|             11|[{INSPIRE, null, ...|      49|[Likhoded, A.K., ...|\n",
      "|Double Charmonia ...|This paper is dev...|2017-12-11T00:00:...|             14|[{PACS, null, 13....|      36|[Likhoded, A.K., ...|\n",
      "|Muon Pair Product...|Muon pair product...|2017-09-11T00:00:...|              7|[{PACS, null, 13....|      22|   [Luchinsky, A.V.]|\n",
      "|Production of hea...|Processes of sing...|2017-08-24T00:00:...|             13|[{INSPIRE, null, ...|      57|[Likhoded, A.K., ...|\n",
      "|Leading order NRQ...|The presented pap...|2017-06-14T00:00:...|              8|[{INSPIRE, null, ...|      29|   [Luchinsky, A.V.]|\n",
      "|Comments on 'Stud...|Recent LHCb measu...|2017-03-28T00:00:...|              8|[{PACS, null, 13....|      32|[Belyaev, I., Ber...|\n",
      "|Double Charmonia ...|In this note next...|2016-12-12T00:00:...|              7|[{INSPIRE, null, ...|      20|   [Luchinsky, A.V.]|\n",
      "|Production of $J/...|In the present wo...|2016-06-23T00:00:...|              8|[{INSPIRE, null, ...|      31|[Likhoded, A.K., ...|\n",
      "|Production of hea...|The phenomenology...|2016-01-05T00:00:...|             10|[{INSPIRE, null, ...|      34|[Likhoded, A.K., ...|\n",
      "|Production of J/ ...|The inclusive pro...|2015-11-16T00:00:...|              8|[{INSPIRE, null, ...|      29|[Likhoded, A.K., ...|\n",
      "|$J/\\Psi \\Upsilon$...|Inclusive product...|2015-09-11T00:00:...|              8|[{INSPIRE, null, ...|      26|   [Luchinsky, A.V.]|\n",
      "|Hadroproduction o...|The production of...|2015-05-28T00:00:...|              9|[{INSPIRE, null, ...|      38|[Berezhnoy, A.V.,...|\n",
      "+--------------------+--------------------+--------------------+---------------+--------------------+--------+--------------------+\n",
      "only showing top 20 rows\n",
      "\n"
     ]
    }
   ],
   "source": [
    "short_papers.show()"
   ]
  },
  {
   "cell_type": "markdown",
   "id": "092a9ecf-71ef-4e25-abf4-b21f770e4776",
   "metadata": {
    "tags": []
   },
   "source": [
    "# Add an ID to Each Unique Paper in our dataset"
   ]
  },
  {
   "cell_type": "code",
   "execution_count": 11,
   "id": "e59375cc-7174-4d88-b9be-3a0b4bc3264a",
   "metadata": {},
   "outputs": [],
   "source": [
    "#Adding an ID to each paper so the abstract data analysis can be attributed to a paper\n",
    "from pyspark.sql.functions import monotonically_increasing_id\n",
    "papersWIDs = short_papers.withColumn(\"id\", monotonically_increasing_id())"
   ]
  },
  {
   "cell_type": "code",
   "execution_count": 12,
   "id": "a7b7b18c-e9d7-46ca-af2e-62c09e852669",
   "metadata": {},
   "outputs": [
    {
     "name": "stdout",
     "output_type": "stream",
     "text": [
      "root\n",
      " |-- title: string (nullable = true)\n",
      " |-- abstract: string (nullable = true)\n",
      " |-- created: string (nullable = true)\n",
      " |-- number_of_pages: long (nullable = true)\n",
      " |-- keywords: array (nullable = true)\n",
      " |    |-- element: struct (containsNull = true)\n",
      " |    |    |-- schema: string (nullable = true)\n",
      " |    |    |-- source: string (nullable = true)\n",
      " |    |    |-- value: string (nullable = true)\n",
      " |-- num_refs: integer (nullable = false)\n",
      " |-- authors: array (nullable = true)\n",
      " |    |-- element: string (containsNull = true)\n",
      " |-- id: long (nullable = false)\n",
      "\n"
     ]
    }
   ],
   "source": [
    "papersWIDs.printSchema()"
   ]
  },
  {
   "cell_type": "code",
   "execution_count": 13,
   "id": "6a2c443e-db67-42bc-bdc8-9b64ed8d2a82",
   "metadata": {},
   "outputs": [
    {
     "name": "stdout",
     "output_type": "stream",
     "text": [
      "+--------------------+--------------------+--------------------+---------------+--------------------+--------+--------------------+---+\n",
      "|               title|            abstract|             created|number_of_pages|            keywords|num_refs|             authors| id|\n",
      "+--------------------+--------------------+--------------------+---------------+--------------------+--------+--------------------+---+\n",
      "|Charmonia product...|In this paper, pr...|2021-03-26T00:00:...|             15|[{PACS, null, 14....|      35|[Luchinsky, A.V.,...|  0|\n",
      "|Exclusive decays ...|Exclusive decays ...|2020-07-09T00:00:...|             10|[{null, publisher...|      42|[Luchinsky, A.V.,...|  1|\n",
      "|Doubly heavy bary...|The theoretical a...|2019-12-11T00:00:...|              8|[{INSPIRE, null, ...|      40|[Berezhnoy, A.V.,...|  2|\n",
      "|Weak decays of do...|We consider exclu...|2019-05-29T00:00:...|             10|[{null, publisher...|      21|[Gerasimov, A.S.,...|  3|\n",
      "|$B_c$ excitations...|Status of the Bc ...|2019-11-21T00:00:...|              8|[{INSPIRE, null, ...|      49|[Berezhnoy, A.V.,...|  4|\n",
      "|Excited $\\rho$ me...|In this paper, ex...|2018-12-27T00:00:...|              7|[{null, publisher...|      22|   [Luchinsky, A.V.]|  5|\n",
      "|Doubly heavy bary...|The theoretical a...|2018-09-27T00:00:...|             14|[{null, publisher...|      56|[Berezhnoy, A.V.,...|  6|\n",
      "|Charmonia Product...|In the presented ...|2018-01-30T00:00:...|              9|[{PACS, null, 14....|      30|   [Luchinsky, A.V.]|  7|\n",
      "|Lifetimes of Doub...|The inclusive dec...|2019-02-25T00:00:...|             11|[{INSPIRE, null, ...|      49|[Likhoded, A.K., ...|  8|\n",
      "|Double Charmonia ...|This paper is dev...|2017-12-11T00:00:...|             14|[{PACS, null, 13....|      36|[Likhoded, A.K., ...|  9|\n",
      "|Muon Pair Product...|Muon pair product...|2017-09-11T00:00:...|              7|[{PACS, null, 13....|      22|   [Luchinsky, A.V.]| 10|\n",
      "|Production of hea...|Processes of sing...|2017-08-24T00:00:...|             13|[{INSPIRE, null, ...|      57|[Likhoded, A.K., ...| 11|\n",
      "|Leading order NRQ...|The presented pap...|2017-06-14T00:00:...|              8|[{INSPIRE, null, ...|      29|   [Luchinsky, A.V.]| 12|\n",
      "|Comments on 'Stud...|Recent LHCb measu...|2017-03-28T00:00:...|              8|[{PACS, null, 13....|      32|[Belyaev, I., Ber...| 13|\n",
      "|Double Charmonia ...|In this note next...|2016-12-12T00:00:...|              7|[{INSPIRE, null, ...|      20|   [Luchinsky, A.V.]| 14|\n",
      "|Production of $J/...|In the present wo...|2016-06-23T00:00:...|              8|[{INSPIRE, null, ...|      31|[Likhoded, A.K., ...| 15|\n",
      "|Production of hea...|The phenomenology...|2016-01-05T00:00:...|             10|[{INSPIRE, null, ...|      34|[Likhoded, A.K., ...| 16|\n",
      "|Production of J/ ...|The inclusive pro...|2015-11-16T00:00:...|              8|[{INSPIRE, null, ...|      29|[Likhoded, A.K., ...| 17|\n",
      "|$J/\\Psi \\Upsilon$...|Inclusive product...|2015-09-11T00:00:...|              8|[{INSPIRE, null, ...|      26|   [Luchinsky, A.V.]| 18|\n",
      "|Hadroproduction o...|The production of...|2015-05-28T00:00:...|              9|[{INSPIRE, null, ...|      38|[Berezhnoy, A.V.,...| 19|\n",
      "+--------------------+--------------------+--------------------+---------------+--------------------+--------+--------------------+---+\n",
      "only showing top 20 rows\n",
      "\n"
     ]
    }
   ],
   "source": [
    "papersWIDs.show();"
   ]
  },
  {
   "cell_type": "markdown",
   "id": "e9556e82-219e-467f-b7e9-e693a818d201",
   "metadata": {},
   "source": [
    "# Data Manipulation - Create a dataframe with abstract word counts"
   ]
  },
  {
   "cell_type": "code",
   "execution_count": 14,
   "id": "c45e33c7-a71b-478f-bc55-a4dcaffa1a15",
   "metadata": {},
   "outputs": [],
   "source": [
    "#drop papers with no abstracts\n",
    "papersWIDs = papersWIDs.dropna()"
   ]
  },
  {
   "cell_type": "code",
   "execution_count": 15,
   "id": "7d1c749a-05c0-4ec9-8f99-99b68999cb2a",
   "metadata": {},
   "outputs": [],
   "source": [
    "#Creates a new DF with the papers ID, and each word in the abstract alongside its position in the abstract\n",
    "words = papersWIDs.select(\n",
    "        \"id\",\n",
    "        F.split(\"abstract\", \" \").alias(\"abstractWords\"),\n",
    "        F.posexplode(F.split(\"abstract\", \" \")).alias(\"position\", \"word\")\n",
    "    )\n",
    "#words.show(50)"
   ]
  },
  {
   "cell_type": "code",
   "execution_count": 16,
   "id": "a07b7c34-216f-417c-85fd-57444a738f0f",
   "metadata": {},
   "outputs": [
    {
     "name": "stdout",
     "output_type": "stream",
     "text": [
      "root\n",
      " |-- id: long (nullable = false)\n",
      " |-- abstractWords: array (nullable = true)\n",
      " |    |-- element: string (containsNull = true)\n",
      " |-- position: integer (nullable = false)\n",
      " |-- word: string (nullable = true)\n",
      "\n"
     ]
    }
   ],
   "source": [
    "words.printSchema()"
   ]
  },
  {
   "cell_type": "code",
   "execution_count": 18,
   "id": "0e4cbde5-3781-4a87-affb-17c3c1d88562",
   "metadata": {},
   "outputs": [
    {
     "name": "stdout",
     "output_type": "stream",
     "text": [
      "+---+--------------------+--------+----------------+\n",
      "| id|       abstractWords|position|            word|\n",
      "+---+--------------------+--------+----------------+\n",
      "|  0|[In, this, paper,...|       0|              In|\n",
      "|  0|[In, this, paper,...|       1|            this|\n",
      "|  0|[In, this, paper,...|       2|          paper,|\n",
      "|  0|[In, this, paper,...|       3|      production|\n",
      "|  0|[In, this, paper,...|       4|              of|\n",
      "|  0|[In, this, paper,...|       5|      charmonium|\n",
      "|  0|[In, this, paper,...|       6|           state|\n",
      "|  0|[In, this, paper,...|       7|            ����|\n",
      "|  0|[In, this, paper,...|       8|              in|\n",
      "|  0|[In, this, paper,...|       9|       exclusive|\n",
      "|  0|[In, this, paper,...|      10|               W|\n",
      "|  0|[In, this, paper,...|      11|  �������Ds(���)|\n",
      "|  0|[In, this, paper,...|      12|          decays|\n",
      "|  0|[In, this, paper,...|      13|              is|\n",
      "|  0|[In, this, paper,...|      14|        analyzed|\n",
      "|  0|[In, this, paper,...|      15|              in|\n",
      "|  0|[In, this, paper,...|      16|             the|\n",
      "|  0|[In, this, paper,...|      17|       framework|\n",
      "|  0|[In, this, paper,...|      18|              of|\n",
      "|  0|[In, this, paper,...|      19|            both|\n",
      "|  0|[In, this, paper,...|      20|         leading|\n",
      "|  0|[In, this, paper,...|      21|           order|\n",
      "|  0|[In, this, paper,...|      22|Non-relativistic|\n",
      "|  0|[In, this, paper,...|      23|         Quantum|\n",
      "|  0|[In, this, paper,...|      24|  Chromodynamics|\n",
      "|  0|[In, this, paper,...|      25|         (NRQCD)|\n",
      "|  0|[In, this, paper,...|      26|             and|\n",
      "|  0|[In, this, paper,...|      27|      light-cone|\n",
      "|  0|[In, this, paper,...|      28|            (LC)|\n",
      "|  0|[In, this, paper,...|      29|       expansion|\n",
      "|  0|[In, this, paper,...|      30|         models.|\n",
      "|  0|[In, this, paper,...|      31|      Analytical|\n",
      "|  0|[In, this, paper,...|      32|             and|\n",
      "|  0|[In, this, paper,...|      33|       numerical|\n",
      "|  0|[In, this, paper,...|      34|     predictions|\n",
      "|  0|[In, this, paper,...|      35|             for|\n",
      "|  0|[In, this, paper,...|      36|             the|\n",
      "|  0|[In, this, paper,...|      37|       branching|\n",
      "|  0|[In, this, paper,...|      38|       fractions|\n",
      "|  0|[In, this, paper,...|      39|              of|\n",
      "|  0|[In, this, paper,...|      40|           these|\n",
      "|  0|[In, this, paper,...|      41|          decays|\n",
      "|  0|[In, this, paper,...|      42|              in|\n",
      "|  0|[In, this, paper,...|      43|            both|\n",
      "|  0|[In, this, paper,...|      44|             the|\n",
      "|  0|[In, this, paper,...|      45|      approaches|\n",
      "|  0|[In, this, paper,...|      46|             are|\n",
      "|  0|[In, this, paper,...|      47|          given.|\n",
      "|  0|[In, this, paper,...|      48|             The|\n",
      "|  0|[In, this, paper,...|      49|         typical|\n",
      "+---+--------------------+--------+----------------+\n",
      "only showing top 50 rows\n",
      "\n"
     ]
    }
   ],
   "source": [
    "words.show(50)"
   ]
  },
  {
   "cell_type": "code",
   "execution_count": 19,
   "id": "1384799d-bfd9-49bf-acef-9187318b4840",
   "metadata": {},
   "outputs": [
    {
     "name": "stdout",
     "output_type": "stream",
     "text": [
      "+---+----------+-----------+\n",
      "| id|      word|count(word)|\n",
      "+---+----------+-----------+\n",
      "|  0|     turns|          1|\n",
      "|  0| estimates|          1|\n",
      "|  0|      into|          1|\n",
      "|  0|     final|          1|\n",
      "|  0| presented|          1|\n",
      "|  0|charmonium|          1|\n",
      "|  0|   numbers|          1|\n",
      "|  0|  internal|          1|\n",
      "|  0|      ones|          1|\n",
      "|  0|production|          1|\n",
      "|  0|      ����|          1|\n",
      "|  0|        so|          1|\n",
      "|  0|        In|          1|\n",
      "|  0|      than|          1|\n",
      "|  0|     could|          1|\n",
      "|  0|        or|          1|\n",
      "|  0|         W|          1|\n",
      "|  0|  analyzed|          1|\n",
      "|  0|    effect|          1|\n",
      "|  0| framework|          1|\n",
      "+---+----------+-----------+\n",
      "only showing top 20 rows\n",
      "\n"
     ]
    }
   ],
   "source": [
    "#pair each paper with their word counts\n",
    "abs_word_count = words.select('id', 'word').groupBy('id','word').agg({\"word\": \"count\"})\n",
    "abs_word_count.sort(col(\"id\"),col(\"count(word)\")).show()"
   ]
  },
  {
   "cell_type": "code",
   "execution_count": 20,
   "id": "7f6d829e-5bbe-4c01-9fc4-a20405739a76",
   "metadata": {},
   "outputs": [
    {
     "name": "stdout",
     "output_type": "stream",
     "text": [
      "+---+----------------+-----------+\n",
      "| id|            word|count(word)|\n",
      "+---+----------------+-----------+\n",
      "|  0|          decays|          2|\n",
      "|  0|       branching|          2|\n",
      "|  0|           these|          2|\n",
      "|  0|   contributions|          2|\n",
      "|  0|       fractions|          2|\n",
      "|  0|           could|          1|\n",
      "|  0|       estimates|          1|\n",
      "|  0|   significantly|          1|\n",
      "|  0|         numbers|          1|\n",
      "|  0|           rough|          1|\n",
      "|  0|        account.|          1|\n",
      "|  0|           state|          1|\n",
      "|  0|         quantum|          1|\n",
      "|  0|         (NRQCD)|          1|\n",
      "|  0|          paper,|          1|\n",
      "|  0|       presented|          1|\n",
      "|  0|        analyzed|          1|\n",
      "|  0|           taken|          1|\n",
      "|  0|     particles),|          1|\n",
      "|  0|  (approximately|          1|\n",
      "|  0|           order|          1|\n",
      "|  0|  �������Ds(���)|          1|\n",
      "|  0|           value|          1|\n",
      "|  0|       expansion|          1|\n",
      "|  0|         leading|          1|\n",
      "|  0|         models.|          1|\n",
      "|  0|     predictions|          1|\n",
      "|  0|  Chromodynamics|          1|\n",
      "|  0|          effect|          1|\n",
      "|  0|      approaches|          1|\n",
      "|  0|           final|          1|\n",
      "|  0|           times|          1|\n",
      "|  0|         typical|          1|\n",
      "|  0|      charmonium|          1|\n",
      "|  0|      Analytical|          1|\n",
      "|  0|           turns|          1|\n",
      "|  0|        increase|          1|\n",
      "|  0|Non-relativistic|          1|\n",
      "|  0|           quark|          1|\n",
      "|  0|           shown|          1|\n",
      "|  0|        internal|          1|\n",
      "|  0|        results.|          1|\n",
      "|  0|       depending|          1|\n",
      "|  0|         results|          1|\n",
      "|  0|      production|          1|\n",
      "|  0|   color-singlet|          1|\n",
      "|  0|       framework|          1|\n",
      "|  0|         Quantum|          1|\n",
      "|  0|       exclusive|          1|\n",
      "|  0|          given.|          1|\n",
      "|  0|       numerical|          1|\n",
      "|  0|          larger|          1|\n",
      "|  0|          motion|          1|\n",
      "|  0|      light-cone|          1|\n",
      "|  0|           NRQCD|          1|\n",
      "|  0|          should|          1|\n",
      "|  0|      comparable|          1|\n",
      "|  0|     color-octet|          1|\n",
      "|  0|      ���10���11|          1|\n",
      "|  1|           light|          3|\n",
      "|  1|          decays|          2|\n",
      "|  1|       reactions|          2|\n",
      "|  1|      considered|          2|\n",
      "|  1|           these|          2|\n",
      "|  1|   distributions|          1|\n",
      "|  1|          matrix|          1|\n",
      "|  1|          unseen|          1|\n",
      "|  1|         product|          1|\n",
      "|  1|       analyzed.|          1|\n",
      "|  1|         enough,|          1|\n",
      "|  1|           other|          1|\n",
      "|  1|           could|          1|\n",
      "|  1|   probabilities|          1|\n",
      "|  1|     production,|          1|\n",
      "|  1|           W���R|          1|\n",
      "|  1|           ��bc+|          1|\n",
      "|  1|         baryon.|          1|\n",
      "|  1|          allows|          1|\n",
      "|  1|   investigation|          1|\n",
      "|  1|         result,|          1|\n",
      "|  1|       invariant|          1|\n",
      "|  1|      transition|          1|\n",
      "|  1|         written|          1|\n",
      "|  1|    ��bc�����ccW|          1|\n",
      "|  1|       Presented|          1|\n",
      "|  1|           quark|          1|\n",
      "|  1|       framework|          1|\n",
      "|  1|      reactions,|          1|\n",
      "|  1|    observations|          1|\n",
      "|  1|       Exclusive|          1|\n",
      "|  1|          model,|          1|\n",
      "|  1|   factorization|          1|\n",
      "|  1|    calculations|          1|\n",
      "|  1|    experimental|          1|\n",
      "|  1|           heavy|          1|\n",
      "|  1|        elements|          1|\n",
      "|  1|     amplitudes.|          1|\n",
      "|  1|       fractions|          1|\n",
      "|  1|       branching|          1|\n",
      "|  1|         results|          1|\n",
      "+---+----------------+-----------+\n",
      "only showing top 100 rows\n",
      "\n"
     ]
    }
   ],
   "source": [
    "#Drop rows that have words less than 4 characters long or that contain dollar signs\n",
    "filtered = abs_word_count.filter(length(abs_word_count.word)>4)\n",
    "filtered = filtered.filter(~filtered.word.contains('$'))\n",
    "filtered = filtered.filter(~filtered.word.contains('^'))\n",
    "filtered = filtered.filter(~filtered.word.contains('}'))\n",
    "filtered.sort(col(\"id\"),col(\"count(word)\").desc()).show(100)"
   ]
  },
  {
   "cell_type": "code",
   "execution_count": 21,
   "id": "b11ae3aa-ce17-48bf-8b26-2b61d855f6c0",
   "metadata": {},
   "outputs": [
    {
     "name": "stdout",
     "output_type": "stream",
     "text": [
      "+---+-----------+----------------+\n",
      "| id|count(word)|        replaced|\n",
      "+---+-----------+----------------+\n",
      "|  0|          2|          decays|\n",
      "|  0|          2|       branching|\n",
      "|  0|          2|           these|\n",
      "|  0|          2|   contributions|\n",
      "|  0|          2|       fractions|\n",
      "|  0|          1|           could|\n",
      "|  0|          1|       estimates|\n",
      "|  0|          1|   significantly|\n",
      "|  0|          1|         numbers|\n",
      "|  0|          1|           rough|\n",
      "|  0|          1|         account|\n",
      "|  0|          1|           state|\n",
      "|  0|          1|         quantum|\n",
      "|  0|          1|         (NRQCD)|\n",
      "|  0|          1|           paper|\n",
      "|  0|          1|       presented|\n",
      "|  0|          1|        analyzed|\n",
      "|  0|          1|           taken|\n",
      "|  0|          1|      particles)|\n",
      "|  0|          1|  (approximately|\n",
      "|  0|          1|           order|\n",
      "|  0|          1|  �������Ds(���)|\n",
      "|  0|          1|           value|\n",
      "|  0|          1|       expansion|\n",
      "|  0|          1|         leading|\n",
      "|  0|          1|          models|\n",
      "|  0|          1|     predictions|\n",
      "|  0|          1|  Chromodynamics|\n",
      "|  0|          1|          effect|\n",
      "|  0|          1|      approaches|\n",
      "|  0|          1|           final|\n",
      "|  0|          1|           times|\n",
      "|  0|          1|         typical|\n",
      "|  0|          1|      charmonium|\n",
      "|  0|          1|      Analytical|\n",
      "|  0|          1|           turns|\n",
      "|  0|          1|        increase|\n",
      "|  0|          1|Non-relativistic|\n",
      "|  0|          1|           quark|\n",
      "|  0|          1|           shown|\n",
      "|  0|          1|        internal|\n",
      "|  0|          1|         results|\n",
      "|  0|          1|       depending|\n",
      "|  0|          1|         results|\n",
      "|  0|          1|      production|\n",
      "|  0|          1|   color-singlet|\n",
      "|  0|          1|       framework|\n",
      "|  0|          1|         Quantum|\n",
      "|  0|          1|       exclusive|\n",
      "|  0|          1|           given|\n",
      "|  0|          1|       numerical|\n",
      "|  0|          1|          larger|\n",
      "|  0|          1|          motion|\n",
      "|  0|          1|      light-cone|\n",
      "|  0|          1|           NRQCD|\n",
      "|  0|          1|          should|\n",
      "|  0|          1|      comparable|\n",
      "|  0|          1|     color-octet|\n",
      "|  0|          1|      ���10���11|\n",
      "|  1|          3|           light|\n",
      "|  1|          2|          decays|\n",
      "|  1|          2|       reactions|\n",
      "|  1|          2|      considered|\n",
      "|  1|          2|           these|\n",
      "|  1|          1|   distributions|\n",
      "|  1|          1|          matrix|\n",
      "|  1|          1|          unseen|\n",
      "|  1|          1|         product|\n",
      "|  1|          1|        analyzed|\n",
      "|  1|          1|          enough|\n",
      "|  1|          1|           other|\n",
      "|  1|          1|           could|\n",
      "|  1|          1|   probabilities|\n",
      "|  1|          1|      production|\n",
      "|  1|          1|           W���R|\n",
      "|  1|          1|           ��bc+|\n",
      "|  1|          1|          baryon|\n",
      "|  1|          1|          allows|\n",
      "|  1|          1|   investigation|\n",
      "|  1|          1|          result|\n",
      "|  1|          1|       invariant|\n",
      "|  1|          1|      transition|\n",
      "|  1|          1|         written|\n",
      "|  1|          1|    ��bc�����ccW|\n",
      "|  1|          1|       Presented|\n",
      "|  1|          1|           quark|\n",
      "|  1|          1|       framework|\n",
      "|  1|          1|       reactions|\n",
      "|  1|          1|    observations|\n",
      "|  1|          1|       Exclusive|\n",
      "|  1|          1|           model|\n",
      "|  1|          1|   factorization|\n",
      "|  1|          1|    calculations|\n",
      "|  1|          1|    experimental|\n",
      "|  1|          1|           heavy|\n",
      "|  1|          1|        elements|\n",
      "|  1|          1|      amplitudes|\n",
      "|  1|          1|       fractions|\n",
      "|  1|          1|       branching|\n",
      "|  1|          1|         results|\n",
      "+---+-----------+----------------+\n",
      "only showing top 100 rows\n",
      "\n"
     ]
    }
   ],
   "source": [
    "filtered = filtered.select(\"id\", \"count(word)\", F.translate(F.col(\"word\"), \".,\", \"\").alias(\"replaced\"))\n",
    "filtered.sort(col(\"id\"),col(\"count(word)\").desc()).show(100)"
   ]
  },
  {
   "cell_type": "markdown",
   "id": "9b932732-9d02-47cc-9275-96ce91e52c82",
   "metadata": {},
   "source": [
    "# Data Manipulation - Find a classification of the paper "
   ]
  },
  {
   "cell_type": "markdown",
   "id": "27780b32-634b-4290-9823-313fec9de41b",
   "metadata": {},
   "source": [
    "Each paper has a classification in their keyword. In order to create a model that is predictive, we will need to train a model to classify. If my understanding is correct, the first keyword is probably the most important classifier."
   ]
  },
  {
   "cell_type": "code",
   "execution_count": 22,
   "id": "27478c09-d8e5-475d-aa50-da0c335d1c91",
   "metadata": {},
   "outputs": [
    {
     "name": "stdout",
     "output_type": "stream",
     "text": [
      "+---+---------------+--------------------+--------------------+--------------------+--------+------------+\n",
      "| id|number_of_pages|             authors|            keywords|          titleWords|position|        word|\n",
      "+---+---------------+--------------------+--------------------+--------------------+--------+------------+\n",
      "|  0|             15|[Luchinsky, A.V.,...|[{PACS, null, 14....|[Charmonia, produ...|       0|   Charmonia|\n",
      "|  0|             15|[Luchinsky, A.V.,...|[{PACS, null, 14....|[Charmonia, produ...|       1|  production|\n",
      "|  0|             15|[Luchinsky, A.V.,...|[{PACS, null, 14....|[Charmonia, produ...|       2|          in|\n",
      "|  0|             15|[Luchinsky, A.V.,...|[{PACS, null, 14....|[Charmonia, produ...|       3|          $W|\n",
      "|  0|             15|[Luchinsky, A.V.,...|[{PACS, null, 14....|[Charmonia, produ...|       4|         \\to|\n",
      "|  0|             15|[Luchinsky, A.V.,...|[{PACS, null, 14....|[Charmonia, produ...|       5|      (c\\bar|\n",
      "|  0|             15|[Luchinsky, A.V.,...|[{PACS, null, 14....|[Charmonia, produ...|       6|          c)|\n",
      "|  0|             15|[Luchinsky, A.V.,...|[{PACS, null, 14....|[Charmonia, produ...|       7|  D_s^{(*)}$|\n",
      "|  0|             15|[Luchinsky, A.V.,...|[{PACS, null, 14....|[Charmonia, produ...|       8|      decays|\n",
      "|  1|             10|[Luchinsky, A.V.,...|[{null, publisher...|[Exclusive, decay...|       0|   Exclusive|\n",
      "|  1|             10|[Luchinsky, A.V.,...|[{null, publisher...|[Exclusive, decay...|       1|      decays|\n",
      "|  1|             10|[Luchinsky, A.V.,...|[{null, publisher...|[Exclusive, decay...|       2|          of|\n",
      "|  1|             10|[Luchinsky, A.V.,...|[{null, publisher...|[Exclusive, decay...|       3|         the|\n",
      "|  1|             10|[Luchinsky, A.V.,...|[{null, publisher...|[Exclusive, decay...|       4|      doubly|\n",
      "|  1|             10|[Luchinsky, A.V.,...|[{null, publisher...|[Exclusive, decay...|       5|       heavy|\n",
      "|  1|             10|[Luchinsky, A.V.,...|[{null, publisher...|[Exclusive, decay...|       6|      baryon|\n",
      "|  1|             10|[Luchinsky, A.V.,...|[{null, publisher...|[Exclusive, decay...|       7|  $\\Xi_{bc}$|\n",
      "|  2|              8|[Berezhnoy, A.V.,...|[{INSPIRE, null, ...|[Doubly, heavy, b...|       0|      Doubly|\n",
      "|  2|              8|[Berezhnoy, A.V.,...|[{INSPIRE, null, ...|[Doubly, heavy, b...|       1|       heavy|\n",
      "|  2|              8|[Berezhnoy, A.V.,...|[{INSPIRE, null, ...|[Doubly, heavy, b...|       2|     baryons|\n",
      "|  2|              8|[Berezhnoy, A.V.,...|[{INSPIRE, null, ...|[Doubly, heavy, b...|       3|        from|\n",
      "|  2|              8|[Berezhnoy, A.V.,...|[{INSPIRE, null, ...|[Doubly, heavy, b...|       4|         the|\n",
      "|  2|              8|[Berezhnoy, A.V.,...|[{INSPIRE, null, ...|[Doubly, heavy, b...|       5| theoretical|\n",
      "|  2|              8|[Berezhnoy, A.V.,...|[{INSPIRE, null, ...|[Doubly, heavy, b...|       6|       point|\n",
      "|  2|              8|[Berezhnoy, A.V.,...|[{INSPIRE, null, ...|[Doubly, heavy, b...|       7|          of|\n",
      "|  2|              8|[Berezhnoy, A.V.,...|[{INSPIRE, null, ...|[Doubly, heavy, b...|       8|        view|\n",
      "|  3|             10|[Gerasimov, A.S.,...|[{null, publisher...|[Weak, decays, of...|       0|        Weak|\n",
      "|  3|             10|[Gerasimov, A.S.,...|[{null, publisher...|[Weak, decays, of...|       1|      decays|\n",
      "|  3|             10|[Gerasimov, A.S.,...|[{null, publisher...|[Weak, decays, of...|       2|          of|\n",
      "|  3|             10|[Gerasimov, A.S.,...|[{null, publisher...|[Weak, decays, of...|       3|      doubly|\n",
      "|  3|             10|[Gerasimov, A.S.,...|[{null, publisher...|[Weak, decays, of...|       4|       heavy|\n",
      "|  3|             10|[Gerasimov, A.S.,...|[{null, publisher...|[Weak, decays, of...|       5|    baryons:|\n",
      "|  3|             10|[Gerasimov, A.S.,...|[{null, publisher...|[Weak, decays, of...|       6|      Decays|\n",
      "|  3|             10|[Gerasimov, A.S.,...|[{null, publisher...|[Weak, decays, of...|       7|          to|\n",
      "|  3|             10|[Gerasimov, A.S.,...|[{null, publisher...|[Weak, decays, of...|       8|           a|\n",
      "|  3|             10|[Gerasimov, A.S.,...|[{null, publisher...|[Weak, decays, of...|       9|      system|\n",
      "|  3|             10|[Gerasimov, A.S.,...|[{null, publisher...|[Weak, decays, of...|      10|          of|\n",
      "|  3|             10|[Gerasimov, A.S.,...|[{null, publisher...|[Weak, decays, of...|      11|       $\\pi$|\n",
      "|  3|             10|[Gerasimov, A.S.,...|[{null, publisher...|[Weak, decays, of...|      12|      mesons|\n",
      "|  4|              8|[Berezhnoy, A.V.,...|[{INSPIRE, null, ...|[$B_c$, excitatio...|       0|       $B_c$|\n",
      "|  4|              8|[Berezhnoy, A.V.,...|[{INSPIRE, null, ...|[$B_c$, excitatio...|       1| excitations|\n",
      "|  4|              8|[Berezhnoy, A.V.,...|[{INSPIRE, null, ...|[$B_c$, excitatio...|       2|          at|\n",
      "|  4|              8|[Berezhnoy, A.V.,...|[{INSPIRE, null, ...|[$B_c$, excitatio...|       3|        LHC:|\n",
      "|  4|              8|[Berezhnoy, A.V.,...|[{INSPIRE, null, ...|[$B_c$, excitatio...|       4|       first|\n",
      "|  4|              8|[Berezhnoy, A.V.,...|[{INSPIRE, null, ...|[$B_c$, excitatio...|       5|observations|\n",
      "|  4|              8|[Berezhnoy, A.V.,...|[{INSPIRE, null, ...|[$B_c$, excitatio...|       6|         and|\n",
      "|  4|              8|[Berezhnoy, A.V.,...|[{INSPIRE, null, ...|[$B_c$, excitatio...|       7|     further|\n",
      "|  4|              8|[Berezhnoy, A.V.,...|[{INSPIRE, null, ...|[$B_c$, excitatio...|       8|    research|\n",
      "|  4|              8|[Berezhnoy, A.V.,...|[{INSPIRE, null, ...|[$B_c$, excitatio...|       9|   prospects|\n",
      "|  5|              7|   [Luchinsky, A.V.]|[{null, publisher...|[Excited, $\\rho$,...|       0|     Excited|\n",
      "+---+---------------+--------------------+--------------------+--------------------+--------+------------+\n",
      "only showing top 50 rows\n",
      "\n"
     ]
    }
   ],
   "source": [
    "#I don't know that I'm going to use these title word splits but just in case I'm going to leave this here.\n",
    "keyWords = papersWIDs.select(\n",
    "        \"id\", \"number_of_pages\", \"authors\", \"keywords\",\n",
    "        F.split(\"title\", \" \").alias(\"titleWords\"),\n",
    "        F.posexplode(F.split(\"title\", \" \")).alias(\"position\", \"word\")\n",
    "    )\n",
    "keyWords.show(50)"
   ]
  },
  {
   "cell_type": "code",
   "execution_count": 23,
   "id": "251d7e95-c5ec-40d5-8cf9-c562327ddaaf",
   "metadata": {},
   "outputs": [
    {
     "name": "stdout",
     "output_type": "stream",
     "text": [
      "+---+---------------+--------------------+--------------------+--------------------+--------+----------+--------------------+\n",
      "| id|number_of_pages|             authors|            keywords|          titleWords|position|      word|                 new|\n",
      "+---+---------------+--------------------+--------------------+--------------------+--------+----------+--------------------+\n",
      "|  0|             15|[Luchinsky, A.V.,...|[{PACS, null, 14....|[Charmonia, produ...|       0| Charmonia|{PACS, null, 14.4...|\n",
      "|  0|             15|[Luchinsky, A.V.,...|[{PACS, null, 14....|[Charmonia, produ...|       1|production|{PACS, null, 14.4...|\n",
      "|  0|             15|[Luchinsky, A.V.,...|[{PACS, null, 14....|[Charmonia, produ...|       2|        in|{PACS, null, 14.4...|\n",
      "|  0|             15|[Luchinsky, A.V.,...|[{PACS, null, 14....|[Charmonia, produ...|       3|        $W|{PACS, null, 14.4...|\n",
      "|  0|             15|[Luchinsky, A.V.,...|[{PACS, null, 14....|[Charmonia, produ...|       4|       \\to|{PACS, null, 14.4...|\n",
      "|  0|             15|[Luchinsky, A.V.,...|[{PACS, null, 14....|[Charmonia, produ...|       5|    (c\\bar|{PACS, null, 14.4...|\n",
      "|  0|             15|[Luchinsky, A.V.,...|[{PACS, null, 14....|[Charmonia, produ...|       6|        c)|{PACS, null, 14.4...|\n",
      "|  0|             15|[Luchinsky, A.V.,...|[{PACS, null, 14....|[Charmonia, produ...|       7|D_s^{(*)}$|{PACS, null, 14.4...|\n",
      "|  0|             15|[Luchinsky, A.V.,...|[{PACS, null, 14....|[Charmonia, produ...|       8|    decays|{PACS, null, 14.4...|\n",
      "|  1|             10|[Luchinsky, A.V.,...|[{null, publisher...|[Exclusive, decay...|       0| Exclusive|{null, publisher,...|\n",
      "|  1|             10|[Luchinsky, A.V.,...|[{null, publisher...|[Exclusive, decay...|       1|    decays|{null, publisher,...|\n",
      "|  1|             10|[Luchinsky, A.V.,...|[{null, publisher...|[Exclusive, decay...|       2|        of|{null, publisher,...|\n",
      "|  1|             10|[Luchinsky, A.V.,...|[{null, publisher...|[Exclusive, decay...|       3|       the|{null, publisher,...|\n",
      "|  1|             10|[Luchinsky, A.V.,...|[{null, publisher...|[Exclusive, decay...|       4|    doubly|{null, publisher,...|\n",
      "|  1|             10|[Luchinsky, A.V.,...|[{null, publisher...|[Exclusive, decay...|       5|     heavy|{null, publisher,...|\n",
      "|  1|             10|[Luchinsky, A.V.,...|[{null, publisher...|[Exclusive, decay...|       6|    baryon|{null, publisher,...|\n",
      "|  1|             10|[Luchinsky, A.V.,...|[{null, publisher...|[Exclusive, decay...|       7|$\\Xi_{bc}$|{null, publisher,...|\n",
      "|  2|              8|[Berezhnoy, A.V.,...|[{INSPIRE, null, ...|[Doubly, heavy, b...|       0|    Doubly|{INSPIRE, null, t...|\n",
      "|  2|              8|[Berezhnoy, A.V.,...|[{INSPIRE, null, ...|[Doubly, heavy, b...|       1|     heavy|{INSPIRE, null, t...|\n",
      "|  2|              8|[Berezhnoy, A.V.,...|[{INSPIRE, null, ...|[Doubly, heavy, b...|       2|   baryons|{INSPIRE, null, t...|\n",
      "+---+---------------+--------------------+--------------------+--------------------+--------+----------+--------------------+\n",
      "only showing top 20 rows\n",
      "\n"
     ]
    }
   ],
   "source": [
    "#creates a new column that\n",
    "keyWords = keyWords.withColumn(\"new\", keyWords[\"keywords\"].getItem(0))\n",
    "keyWords.show()"
   ]
  },
  {
   "cell_type": "code",
   "execution_count": 24,
   "id": "25efe2f4-87b8-4530-b97d-831fd9a8101a",
   "metadata": {},
   "outputs": [
    {
     "name": "stdout",
     "output_type": "stream",
     "text": [
      "+---+---------------+--------------------+--------------------+--------------------+--------+----------+-------------------+\n",
      "| id|number_of_pages|             authors|            keywords|          titleWords|position|      word|     classification|\n",
      "+---+---------------+--------------------+--------------------+--------------------+--------+----------+-------------------+\n",
      "|  0|             15|[Luchinsky, A.V.,...|[{PACS, null, 14....|[Charmonia, produ...|       0| Charmonia|           14.40.Pq|\n",
      "|  0|             15|[Luchinsky, A.V.,...|[{PACS, null, 14....|[Charmonia, produ...|       1|production|           14.40.Pq|\n",
      "|  0|             15|[Luchinsky, A.V.,...|[{PACS, null, 14....|[Charmonia, produ...|       2|        in|           14.40.Pq|\n",
      "|  0|             15|[Luchinsky, A.V.,...|[{PACS, null, 14....|[Charmonia, produ...|       3|        $W|           14.40.Pq|\n",
      "|  0|             15|[Luchinsky, A.V.,...|[{PACS, null, 14....|[Charmonia, produ...|       4|       \\to|           14.40.Pq|\n",
      "|  0|             15|[Luchinsky, A.V.,...|[{PACS, null, 14....|[Charmonia, produ...|       5|    (c\\bar|           14.40.Pq|\n",
      "|  0|             15|[Luchinsky, A.V.,...|[{PACS, null, 14....|[Charmonia, produ...|       6|        c)|           14.40.Pq|\n",
      "|  0|             15|[Luchinsky, A.V.,...|[{PACS, null, 14....|[Charmonia, produ...|       7|D_s^{(*)}$|           14.40.Pq|\n",
      "|  0|             15|[Luchinsky, A.V.,...|[{PACS, null, 14....|[Charmonia, produ...|       8|    decays|           14.40.Pq|\n",
      "|  1|             10|[Luchinsky, A.V.,...|[{null, publisher...|[Exclusive, decay...|       0| Exclusive|Strong Interactions|\n",
      "|  1|             10|[Luchinsky, A.V.,...|[{null, publisher...|[Exclusive, decay...|       1|    decays|Strong Interactions|\n",
      "|  1|             10|[Luchinsky, A.V.,...|[{null, publisher...|[Exclusive, decay...|       2|        of|Strong Interactions|\n",
      "|  1|             10|[Luchinsky, A.V.,...|[{null, publisher...|[Exclusive, decay...|       3|       the|Strong Interactions|\n",
      "|  1|             10|[Luchinsky, A.V.,...|[{null, publisher...|[Exclusive, decay...|       4|    doubly|Strong Interactions|\n",
      "|  1|             10|[Luchinsky, A.V.,...|[{null, publisher...|[Exclusive, decay...|       5|     heavy|Strong Interactions|\n",
      "|  1|             10|[Luchinsky, A.V.,...|[{null, publisher...|[Exclusive, decay...|       6|    baryon|Strong Interactions|\n",
      "|  1|             10|[Luchinsky, A.V.,...|[{null, publisher...|[Exclusive, decay...|       7|$\\Xi_{bc}$|Strong Interactions|\n",
      "|  2|              8|[Berezhnoy, A.V.,...|[{INSPIRE, null, ...|[Doubly, heavy, b...|       0|    Doubly|               talk|\n",
      "|  2|              8|[Berezhnoy, A.V.,...|[{INSPIRE, null, ...|[Doubly, heavy, b...|       1|     heavy|               talk|\n",
      "|  2|              8|[Berezhnoy, A.V.,...|[{INSPIRE, null, ...|[Doubly, heavy, b...|       2|   baryons|               talk|\n",
      "+---+---------------+--------------------+--------------------+--------------------+--------+----------+-------------------+\n",
      "only showing top 20 rows\n",
      "\n"
     ]
    }
   ],
   "source": [
    "classification =  keyWords.withColumn(\"classification\", keyWords[\"new\"].getItem(\"value\"))\n",
    "classification = classification.drop(col(\"new\"))\n",
    "classification.show()"
   ]
  },
  {
   "cell_type": "code",
   "execution_count": null,
   "id": "a272b3d1-0108-45c0-96f7-cc89070277f6",
   "metadata": {},
   "outputs": [],
   "source": []
  },
  {
   "cell_type": "code",
   "execution_count": null,
   "id": "63666725-806b-4740-8e7d-adb9c1f8aea8",
   "metadata": {},
   "outputs": [],
   "source": []
  }
 ],
 "metadata": {
  "kernelspec": {
   "display_name": "Python 3 (ipykernel)",
   "language": "python",
   "name": "python3"
  },
  "language_info": {
   "codemirror_mode": {
    "name": "ipython",
    "version": 3
   },
   "file_extension": ".py",
   "mimetype": "text/x-python",
   "name": "python",
   "nbconvert_exporter": "python",
   "pygments_lexer": "ipython3",
   "version": "3.9.10"
  }
 },
 "nbformat": 4,
 "nbformat_minor": 5
}
