{
 "cells": [
  {
   "cell_type": "code",
   "execution_count": 1,
   "id": "bcee7f8b-9353-43ae-867a-047cc6447fa4",
   "metadata": {},
   "outputs": [],
   "source": [
    "import findspark\n",
    "findspark.init()\n",
    "\n",
    "from pyspark.sql import SparkSession\n",
    "from pyspark import SparkContext\n",
    "from pyspark.sql.functions import format_number, mean, min, max, corr\n",
    "from pyspark.sql.functions import (dayofmonth, hour, dayofyear, month, year, weekofyear, format_number, date_format)\n",
    "from pyspark.sql.functions import col\n",
    "from pyspark.sql.functions import lit\n",
    "from pyspark.sql.functions import explode\n",
    "from pyspark.sql import functions as F\n",
    "from pyspark.sql.functions import explode, col, element_at, size, split\n",
    "from pyspark.sql.functions import udf \n",
    "from pyspark.sql.functions import count\n",
    "from pyspark.sql.functions import length"
   ]
  },
  {
   "cell_type": "code",
   "execution_count": 2,
   "id": "51efc325-4cfe-46e8-98a0-835abe7ce2fc",
   "metadata": {},
   "outputs": [
    {
     "data": {
      "text/html": [
       "\n",
       "        <div>\n",
       "            <p><b>SparkContext</b></p>\n",
       "\n",
       "            <p><a href=\"http://3cc172c2b3a1:4040\">Spark UI</a></p>\n",
       "\n",
       "            <dl>\n",
       "              <dt>Version</dt>\n",
       "                <dd><code>v3.2.1</code></dd>\n",
       "              <dt>Master</dt>\n",
       "                <dd><code>local[*]</code></dd>\n",
       "              <dt>AppName</dt>\n",
       "                <dd><code>pyspark-shell</code></dd>\n",
       "            </dl>\n",
       "        </div>\n",
       "        "
      ],
      "text/plain": [
       "<SparkContext master=local[*] appName=pyspark-shell>"
      ]
     },
     "execution_count": 2,
     "metadata": {},
     "output_type": "execute_result"
    }
   ],
   "source": [
    "from pyspark import SparkConf, SparkContext\n",
    "conf = SparkConf()\n",
    "conf.set('spark.executor.memory', '8g')\n",
    "SparkContext(conf=conf)"
   ]
  },
  {
   "cell_type": "code",
   "execution_count": 3,
   "id": "4f232f0d-072e-4148-832b-4344510ab3a3",
   "metadata": {},
   "outputs": [
    {
     "data": {
      "text/plain": [
       "<pyspark.sql.conf.RuntimeConfig at 0x7f2a252a2430>"
      ]
     },
     "execution_count": 3,
     "metadata": {},
     "output_type": "execute_result"
    }
   ],
   "source": [
    "spark = SparkSession.builder.appName(\"fp\").getOrCreate()\n",
    "spark.conf"
   ]
  },
  {
   "cell_type": "code",
   "execution_count": 5,
   "id": "28e4b7e4-a27b-44dc-898b-fe41141c1127",
   "metadata": {},
   "outputs": [],
   "source": [
    "papers_ = spark.read.option(\"multiLine\", True).option(\"mode\", \"PERMISSIVE\").option(\"encoding\", \"ascii\").json(\"../data/AL_papers.json\")\n",
    "papers = papers_.select(explode(col(\"hits.hits\")).alias(\"paper\"))"
   ]
  },
  {
   "cell_type": "code",
   "execution_count": 6,
   "id": "af1b40c1-5dda-422d-886e-5e5b8d0dc3a8",
   "metadata": {},
   "outputs": [],
   "source": [
    " def ascii_ignore(x):\n",
    "    return x.encode('ascii', 'ignore').decode('ascii')\n",
    "ascii_udf = udf(ascii_ignore)"
   ]
  },
  {
   "cell_type": "code",
   "execution_count": 7,
   "id": "8a8f974e-6c90-4f3e-9e0e-1f7bc52f1b65",
   "metadata": {},
   "outputs": [
    {
     "name": "stdout",
     "output_type": "stream",
     "text": [
      "root\n",
      " |-- title: string (nullable = true)\n",
      " |-- abstract: string (nullable = true)\n",
      " |-- created: string (nullable = true)\n",
      " |-- number_of_pages: long (nullable = true)\n",
      " |-- keywords: array (nullable = true)\n",
      " |    |-- element: struct (containsNull = true)\n",
      " |    |    |-- schema: string (nullable = true)\n",
      " |    |    |-- source: string (nullable = true)\n",
      " |    |    |-- value: string (nullable = true)\n",
      " |-- num_refs: integer (nullable = false)\n",
      " |-- authors: array (nullable = true)\n",
      " |    |-- element: string (containsNull = true)\n",
      "\n"
     ]
    }
   ],
   "source": [
    "short_papers = papers.select(\n",
    "    element_at(col(\"paper.metadata.titles.title\"), 1).alias(\"title\"),\n",
    "    element_at(col(\"paper.metadata.abstracts.value\"), 1).alias(\"abstract\"),\n",
    "    col(\"paper.created\"), col(\"paper.metadata.number_of_pages\"),\n",
    "    col(\"paper.metadata.keywords\"), size(\n",
    "        col(\"paper.metadata.references\")).alias(\"num_refs\"),\n",
    "    col(\"paper.metadata.authors.full_name\").alias(\"authors\")\n",
    ").withColumn(\"title\", ascii_udf(\"title\"));\n",
    "short_papers.printSchema()"
   ]
  },
  {
   "cell_type": "code",
   "execution_count": 8,
   "id": "d62d244e-1e2e-4f66-b400-118f6b907ac2",
   "metadata": {},
   "outputs": [
    {
     "name": "stdout",
     "output_type": "stream",
     "text": [
      "+-----------------------------------------------------------------------------------------------------------------------------------------------------------------------------------------------------------------------------------------------------------------------------------------------------------------------------------------------------------------------------------------------------------------------------------------------------------------------------------------------------------------------------------------------------------------------+\n",
      "|keywords                                                                                                                                                                                                                                                                                                                                                                                                                                                                                                                                                               |\n",
      "+-----------------------------------------------------------------------------------------------------------------------------------------------------------------------------------------------------------------------------------------------------------------------------------------------------------------------------------------------------------------------------------------------------------------------------------------------------------------------------------------------------------------------------------------------------------------------+\n",
      "|[{PACS, null, 14.40.Pq}, {PACS, null, 12.39.St}, {PACS, null, 12.39.Jh}, {PACS, null, 3.38.Dg}, {null, author, Heavy quarkonia production}, {null, author, NRQCD}, {null, author, gauge boson decays}, {INSPIRE, null, W: hadronic decay}, {INSPIRE, null, charmonium: production}, {INSPIRE, null, charmonium: final state}, {INSPIRE, null, D/s*(2110): production}, {INSPIRE, null, D/s*(2110): final state}, {INSPIRE, null, quantum chromodynamics: nonrelativistic}, {INSPIRE, null, W --> charmonium D/s*(2110)}]                                               |\n",
      "|[{null, publisher, Strong Interactions}, {INSPIRE, null, baryon: heavy}, {INSPIRE, null, model: factorization}, {INSPIRE, null, meson: production}, {INSPIRE, null, branching ratio}, {INSPIRE, null, heavy quark}, {INSPIRE, null, exclusive reaction}, {INSPIRE, null, Xi/bc}, {INSPIRE, null, Xi/cc}]                                                                                                                                                                                                                                                               |\n",
      "|[{INSPIRE, null, talk}, {INSPIRE, null, baryon: heavy}, {INSPIRE, null, baryon: lifetime}, {INSPIRE, null, CERN LHC Coll}, {INSPIRE, null, Xi/bc}, {INSPIRE, null, LHC-B}]                                                                                                                                                                                                                                                                                                                                                                                             |\n",
      "|[{null, publisher, Electroweak interactions}, {INSPIRE, null, baryon: heavy}, {INSPIRE, null, decay: weak interaction}, {INSPIRE, null, baryon: semileptonic decay}, {INSPIRE, null, spectral representation}, {INSPIRE, null, quantum chromodynamics: factorization}, {INSPIRE, null, kinematics}, {INSPIRE, null, numerical calculations}]                                                                                                                                                                                                                           |\n",
      "|[{INSPIRE, null, talk}, {INSPIRE, null, B/c: excited state}, {INSPIRE, null, CERN LHC Coll}, {INSPIRE, null, cascade decay}, {INSPIRE, null, ground state}, {INSPIRE, null, lepton}, {INSPIRE, null, LHC-B}, {INSPIRE, null, ATLAS}, {INSPIRE, null, CMS}]                                                                                                                                                                                                                                                                                                             |\n",
      "|[{null, publisher, Phenomenological aspects of field theory, general methods}, {INSPIRE, null, lepton: decay}, {INSPIRE, null, meson}, {INSPIRE, null, branching ratio}, {INSPIRE, null, numerical calculations}]                                                                                                                                                                                                                                                                                                                                                      |\n",
      "|[{null, publisher, Electroweak interactions}, {INSPIRE, null, baryon: heavy}, {INSPIRE, null, lifetime}, {INSPIRE, null, baryon: production}, {INSPIRE, null, baryon: decay}, {INSPIRE, null, CERN LHC Coll}, {INSPIRE, null, LHC-B}, {INSPIRE, null, Xi/cc}]                                                                                                                                                                                                                                                                                                          |\n",
      "|[{PACS, null, 14.40.Pq}, {PACS, null, 12.39.St}, {PACS, null, 12.39.Jh}, {INSPIRE, null, quantum chromodynamics: nonrelativistic}, {INSPIRE, null, charmonium: production}, {INSPIRE, null, expansion: light cone}, {INSPIRE, null, higher-order: 0}, {INSPIRE, null, branching ratio}, {INSPIRE, null, formula}, {INSPIRE, null, numerical calculations}, {INSPIRE, null, color: octet}, {INSPIRE, null, W --> charm anti-charm D/s*(2110)}]                                                                                                                          |\n",
      "|[{INSPIRE, null, baryon: heavy}, {INSPIRE, null, baryon: lifetime}, {INSPIRE, null, baryon: width}, {INSPIRE, null, quark: mass}, {INSPIRE, null, operator product expansion}, {INSPIRE, null, lifetime: calculated}]                                                                                                                                                                                                                                                                                                                                                  |\n",
      "|[{PACS, null, 13.38.Dg}, {PACS, null, 14.40.Pq}, {null, author, NRQCD}, {null, author, LC}, {null, author, rare Z-boson decays}, {null, author, Charmonia production}, {INSPIRE, null, charmonium: multiple production}, {INSPIRE, null, Z0: decay}, {INSPIRE, null, exclusive reaction}, {INSPIRE, null, quantum chromodynamics: nonrelativistic}, {INSPIRE, null, branching ratio}, {INSPIRE, null, helicity}, {INSPIRE, null, suppression}, {INSPIRE, null, light cone}, {INSPIRE, null, twist}]                                                                    |\n",
      "|[{PACS, null, 13.20.Gd}, {PACS, null, 14.40.Pq}, {null, author, Heavy quarkonia decays}, {null, author, NRQCD}, {INSPIRE, null, muon: pair production}, {INSPIRE, null, quarkonium: radiative decay}, {INSPIRE, null, quarkonium: heavy}, {INSPIRE, null, branching ratio}, {INSPIRE, null, kinematics}, {INSPIRE, null, numerical calculations}, {INSPIRE, null, chi/c0(3415) --> J/psi(3100) muon+ muon-}, {INSPIRE, null, chi/b1(9890) --> Upsilon(10020) muon+ muon-}]                                                                                             |\n",
      "|[{INSPIRE, null, quarkonium: heavy}, {INSPIRE, null, quantum chromodynamics: nonrelativistic}, {INSPIRE, null, cross section: ratio}, {INSPIRE, null, color: singlet}, {INSPIRE, null, color: octet}, {INSPIRE, null, quarkonium: width}, {INSPIRE, null, quarkonium: pair production}, {INSPIRE, null, single production}, {INSPIRE, null, potential model}, {INSPIRE, null, CERN LHC Coll}, {INSPIRE, null, charmonium}, {INSPIRE, null, axial}, {INSPIRE, null, tensor}]                                                                                            |\n",
      "|[{INSPIRE, null, charmonium: production}, {INSPIRE, null, expansion: light cone}, {INSPIRE, null, boson: decay}, {INSPIRE, null, quantum chromodynamics: nonrelativistic}, {INSPIRE, null, higher-order: 0}, {INSPIRE, null, meson}, {INSPIRE, null, axial}, {INSPIRE, null, quark}]                                                                                                                                                                                                                                                                                   |\n",
      "|[{PACS, null, 13.87.Ce}, {PACS, null, 13.87.Fh}, {PACS, null, 14.40.Pq}, {null, author, LHC}, {null, author, charmonium production}, {null, author, double parton scattering}, {null, author, fragmentation}, {null, author, jets in large-Q2 scattering}, {INSPIRE, null, meson: production}, {INSPIRE, null, J/psi(3100): hadroproduction}, {INSPIRE, null, jet: fragmentation}, {INSPIRE, null, parton: scattering}, {INSPIRE, null, fragmentation function}, {INSPIRE, null, transverse momentum}, {INSPIRE, null, numerical calculations}, {INSPIRE, null, LHC-B}]|\n",
      "|[{INSPIRE, null, p p: scattering}, {INSPIRE, null, p p: colliding beams}, {INSPIRE, null, charmonium: hadroproduction}, {INSPIRE, null, parton: multiple scattering}, {INSPIRE, null, quantum chromodynamics: perturbation theory}, {INSPIRE, null, perturbation theory: higher-order}, {INSPIRE, null, higher-order: 1}, {INSPIRE, null, higher-order: 0}, {INSPIRE, null, LHC-B}, {INSPIRE, null, CERN LHC Coll}, {INSPIRE, null, kinematics}, {INSPIRE, null, gluon}, {INSPIRE, null, experimental results}]                                                        |\n",
      "+-----------------------------------------------------------------------------------------------------------------------------------------------------------------------------------------------------------------------------------------------------------------------------------------------------------------------------------------------------------------------------------------------------------------------------------------------------------------------------------------------------------------------------------------------------------------------+\n",
      "only showing top 15 rows\n",
      "\n"
     ]
    }
   ],
   "source": [
    "short_papers.select(\"keywords\").show(15, truncate = False)"
   ]
  },
  {
   "cell_type": "code",
   "execution_count": 9,
   "id": "1214edb6-c283-4dae-ae46-b90f815c3749",
   "metadata": {},
   "outputs": [
    {
     "name": "stdout",
     "output_type": "stream",
     "text": [
      "+--------------------+--------------------+--------------------+---------------+--------------------+--------+--------------------+\n",
      "|               title|            abstract|             created|number_of_pages|            keywords|num_refs|             authors|\n",
      "+--------------------+--------------------+--------------------+---------------+--------------------+--------+--------------------+\n",
      "|Charmonia product...|In this paper, pr...|2021-03-26T00:00:...|             15|[{PACS, null, 14....|      35|[Luchinsky, A.V.,...|\n",
      "|Exclusive decays ...|Exclusive decays ...|2020-07-09T00:00:...|             10|[{null, publisher...|      42|[Luchinsky, A.V.,...|\n",
      "|Doubly heavy bary...|The theoretical a...|2019-12-11T00:00:...|              8|[{INSPIRE, null, ...|      40|[Berezhnoy, A.V.,...|\n",
      "|Weak decays of do...|We consider exclu...|2019-05-29T00:00:...|             10|[{null, publisher...|      21|[Gerasimov, A.S.,...|\n",
      "|$B_c$ excitations...|Status of the Bc ...|2019-11-21T00:00:...|              8|[{INSPIRE, null, ...|      49|[Berezhnoy, A.V.,...|\n",
      "|Excited $\\rho$ me...|In this paper, ex...|2018-12-27T00:00:...|              7|[{null, publisher...|      22|   [Luchinsky, A.V.]|\n",
      "|Doubly heavy bary...|The theoretical a...|2018-09-27T00:00:...|             14|[{null, publisher...|      56|[Berezhnoy, A.V.,...|\n",
      "|Charmonia Product...|In the presented ...|2018-01-30T00:00:...|              9|[{PACS, null, 14....|      30|   [Luchinsky, A.V.]|\n",
      "|Lifetimes of Doub...|The inclusive dec...|2019-02-25T00:00:...|             11|[{INSPIRE, null, ...|      49|[Likhoded, A.K., ...|\n",
      "|Double Charmonia ...|This paper is dev...|2017-12-11T00:00:...|             14|[{PACS, null, 13....|      36|[Likhoded, A.K., ...|\n",
      "|Muon Pair Product...|Muon pair product...|2017-09-11T00:00:...|              7|[{PACS, null, 13....|      22|   [Luchinsky, A.V.]|\n",
      "|Production of hea...|Processes of sing...|2017-08-24T00:00:...|             13|[{INSPIRE, null, ...|      57|[Likhoded, A.K., ...|\n",
      "|Leading order NRQ...|The presented pap...|2017-06-14T00:00:...|              8|[{INSPIRE, null, ...|      29|   [Luchinsky, A.V.]|\n",
      "|Comments on 'Stud...|Recent LHCb measu...|2017-03-28T00:00:...|              8|[{PACS, null, 13....|      32|[Belyaev, I., Ber...|\n",
      "|Double Charmonia ...|In this note next...|2016-12-12T00:00:...|              7|[{INSPIRE, null, ...|      20|   [Luchinsky, A.V.]|\n",
      "|Production of $J/...|In the present wo...|2016-06-23T00:00:...|              8|[{INSPIRE, null, ...|      31|[Likhoded, A.K., ...|\n",
      "|Production of hea...|The phenomenology...|2016-01-05T00:00:...|             10|[{INSPIRE, null, ...|      34|[Likhoded, A.K., ...|\n",
      "|Production of J/ ...|The inclusive pro...|2015-11-16T00:00:...|              8|[{INSPIRE, null, ...|      29|[Likhoded, A.K., ...|\n",
      "|$J/\\Psi \\Upsilon$...|Inclusive product...|2015-09-11T00:00:...|              8|[{INSPIRE, null, ...|      26|   [Luchinsky, A.V.]|\n",
      "|Hadroproduction o...|The production of...|2015-05-28T00:00:...|              9|[{INSPIRE, null, ...|      38|[Berezhnoy, A.V.,...|\n",
      "+--------------------+--------------------+--------------------+---------------+--------------------+--------+--------------------+\n",
      "only showing top 20 rows\n",
      "\n"
     ]
    }
   ],
   "source": [
    "short_papers.show()"
   ]
  },
  {
   "cell_type": "markdown",
   "id": "092a9ecf-71ef-4e25-abf4-b21f770e4776",
   "metadata": {},
   "source": [
    "# Add an ID to Each Unique Paper in our dataset"
   ]
  },
  {
   "cell_type": "code",
   "execution_count": 10,
   "id": "e59375cc-7174-4d88-b9be-3a0b4bc3264a",
   "metadata": {},
   "outputs": [],
   "source": [
    "#Adding an ID to each paper so the abstract data analysis can be attributed to a paper\n",
    "from pyspark.sql.functions import monotonically_increasing_id\n",
    "papersWIDs = short_papers.withColumn(\"id\", monotonically_increasing_id())"
   ]
  },
  {
   "cell_type": "code",
   "execution_count": 11,
   "id": "6a2c443e-db67-42bc-bdc8-9b64ed8d2a82",
   "metadata": {},
   "outputs": [
    {
     "name": "stdout",
     "output_type": "stream",
     "text": [
      "+--------------------+--------------------+--------------------+---------------+--------------------+--------+--------------------+---+\n",
      "|               title|            abstract|             created|number_of_pages|            keywords|num_refs|             authors| id|\n",
      "+--------------------+--------------------+--------------------+---------------+--------------------+--------+--------------------+---+\n",
      "|Charmonia product...|In this paper, pr...|2021-03-26T00:00:...|             15|[{PACS, null, 14....|      35|[Luchinsky, A.V.,...|  0|\n",
      "|Exclusive decays ...|Exclusive decays ...|2020-07-09T00:00:...|             10|[{null, publisher...|      42|[Luchinsky, A.V.,...|  1|\n",
      "|Doubly heavy bary...|The theoretical a...|2019-12-11T00:00:...|              8|[{INSPIRE, null, ...|      40|[Berezhnoy, A.V.,...|  2|\n",
      "|Weak decays of do...|We consider exclu...|2019-05-29T00:00:...|             10|[{null, publisher...|      21|[Gerasimov, A.S.,...|  3|\n",
      "|$B_c$ excitations...|Status of the Bc ...|2019-11-21T00:00:...|              8|[{INSPIRE, null, ...|      49|[Berezhnoy, A.V.,...|  4|\n",
      "|Excited $\\rho$ me...|In this paper, ex...|2018-12-27T00:00:...|              7|[{null, publisher...|      22|   [Luchinsky, A.V.]|  5|\n",
      "|Doubly heavy bary...|The theoretical a...|2018-09-27T00:00:...|             14|[{null, publisher...|      56|[Berezhnoy, A.V.,...|  6|\n",
      "|Charmonia Product...|In the presented ...|2018-01-30T00:00:...|              9|[{PACS, null, 14....|      30|   [Luchinsky, A.V.]|  7|\n",
      "|Lifetimes of Doub...|The inclusive dec...|2019-02-25T00:00:...|             11|[{INSPIRE, null, ...|      49|[Likhoded, A.K., ...|  8|\n",
      "|Double Charmonia ...|This paper is dev...|2017-12-11T00:00:...|             14|[{PACS, null, 13....|      36|[Likhoded, A.K., ...|  9|\n",
      "|Muon Pair Product...|Muon pair product...|2017-09-11T00:00:...|              7|[{PACS, null, 13....|      22|   [Luchinsky, A.V.]| 10|\n",
      "|Production of hea...|Processes of sing...|2017-08-24T00:00:...|             13|[{INSPIRE, null, ...|      57|[Likhoded, A.K., ...| 11|\n",
      "|Leading order NRQ...|The presented pap...|2017-06-14T00:00:...|              8|[{INSPIRE, null, ...|      29|   [Luchinsky, A.V.]| 12|\n",
      "|Comments on 'Stud...|Recent LHCb measu...|2017-03-28T00:00:...|              8|[{PACS, null, 13....|      32|[Belyaev, I., Ber...| 13|\n",
      "|Double Charmonia ...|In this note next...|2016-12-12T00:00:...|              7|[{INSPIRE, null, ...|      20|   [Luchinsky, A.V.]| 14|\n",
      "|Production of $J/...|In the present wo...|2016-06-23T00:00:...|              8|[{INSPIRE, null, ...|      31|[Likhoded, A.K., ...| 15|\n",
      "|Production of hea...|The phenomenology...|2016-01-05T00:00:...|             10|[{INSPIRE, null, ...|      34|[Likhoded, A.K., ...| 16|\n",
      "|Production of J/ ...|The inclusive pro...|2015-11-16T00:00:...|              8|[{INSPIRE, null, ...|      29|[Likhoded, A.K., ...| 17|\n",
      "|$J/\\Psi \\Upsilon$...|Inclusive product...|2015-09-11T00:00:...|              8|[{INSPIRE, null, ...|      26|   [Luchinsky, A.V.]| 18|\n",
      "|Hadroproduction o...|The production of...|2015-05-28T00:00:...|              9|[{INSPIRE, null, ...|      38|[Berezhnoy, A.V.,...| 19|\n",
      "+--------------------+--------------------+--------------------+---------------+--------------------+--------+--------------------+---+\n",
      "only showing top 20 rows\n",
      "\n"
     ]
    }
   ],
   "source": [
    "papersWIDs.show()"
   ]
  },
  {
   "cell_type": "markdown",
   "id": "e9556e82-219e-467f-b7e9-e693a818d201",
   "metadata": {},
   "source": [
    "# Data Manipulation - Create a dataframe with abstract word counts"
   ]
  },
  {
   "cell_type": "code",
   "execution_count": 11,
   "id": "c45e33c7-a71b-478f-bc55-a4dcaffa1a15",
   "metadata": {},
   "outputs": [],
   "source": [
    "#drop papers with no abstracts\n",
    "papersWIDs = papersWIDs.dropna()"
   ]
  },
  {
   "cell_type": "code",
   "execution_count": 28,
   "id": "7d1c749a-05c0-4ec9-8f99-99b68999cb2a",
   "metadata": {},
   "outputs": [
    {
     "name": "stdout",
     "output_type": "stream",
     "text": [
      "+---+--------------------+--------+-------------+\n",
      "| id|       abstractWords|position|         word|\n",
      "+---+--------------------+--------+-------------+\n",
      "|  0|[In, this, work,,...|       0|           In|\n",
      "|  0|[In, this, work,,...|       1|         this|\n",
      "|  0|[In, this, work,,...|       2|        work,|\n",
      "|  0|[In, this, work,,...|       3|           by|\n",
      "|  0|[In, this, work,,...|       4|        using|\n",
      "|  0|[In, this, work,,...|       5|          the|\n",
      "|  0|[In, this, work,,...|       6|      machine|\n",
      "|  0|[In, this, work,,...|       7|     learning|\n",
      "|  0|[In, this, work,,...|       8|     methods,|\n",
      "|  0|[In, this, work,,...|       9|           we|\n",
      "|  0|[In, this, work,,...|      10|        study|\n",
      "|  0|[In, this, work,,...|      11|          the|\n",
      "|  0|[In, this, work,,...|      12|sensitivities|\n",
      "|  0|[In, this, work,,...|      13|           of|\n",
      "|  0|[In, this, work,,...|      14|        heavy|\n",
      "|  0|[In, this, work,,...|      15| pseudo-Dirac|\n",
      "|  0|[In, this, work,,...|      16|     neutrino|\n",
      "|  0|[In, this, work,,...|      17|          $N$|\n",
      "|  0|[In, this, work,,...|      18|           in|\n",
      "|  0|[In, this, work,,...|      19|          the|\n",
      "|  0|[In, this, work,,...|      20|      inverse|\n",
      "|  0|[In, this, work,,...|      21|       seesaw|\n",
      "|  0|[In, this, work,,...|      22|           at|\n",
      "|  0|[In, this, work,,...|      23|          the|\n",
      "|  0|[In, this, work,,...|      24|  high-energy|\n",
      "|  0|[In, this, work,,...|      25|       hadron|\n",
      "|  0|[In, this, work,,...|      26|   colliders.|\n",
      "|  0|[In, this, work,,...|      27|          The|\n",
      "|  0|[In, this, work,,...|      28|   production|\n",
      "|  0|[In, this, work,,...|      29|      process|\n",
      "|  0|[In, this, work,,...|      30|          for|\n",
      "|  0|[In, this, work,,...|      31|          the|\n",
      "|  0|[In, this, work,,...|      32|       signal|\n",
      "|  0|[In, this, work,,...|      33|           is|\n",
      "|  0|[In, this, work,,...|      34|          $pp|\n",
      "|  0|[In, this, work,,...|      35|          \\to|\n",
      "|  0|[In, this, work,,...|      36|     \\ell^\\pm|\n",
      "|  0|[In, this, work,,...|      37|            N|\n",
      "|  0|[In, this, work,,...|      38|          \\to|\n",
      "|  0|[In, this, work,,...|      39|            3|\n",
      "|  0|[In, this, work,,...|      40|         \\ell|\n",
      "|  0|[In, this, work,,...|      41|            +|\n",
      "|  0|[In, this, work,,...|      42|     E_T^{\\rm|\n",
      "|  0|[In, this, work,,...|      43|      miss}$,|\n",
      "|  0|[In, this, work,,...|      44|        while|\n",
      "|  0|[In, this, work,,...|      45|          the|\n",
      "|  0|[In, this, work,,...|      46|     dominant|\n",
      "|  0|[In, this, work,,...|      47|   background|\n",
      "|  0|[In, this, work,,...|      48|           is|\n",
      "|  0|[In, this, work,,...|      49|           $p|\n",
      "+---+--------------------+--------+-------------+\n",
      "only showing top 50 rows\n",
      "\n"
     ]
    }
   ],
   "source": [
    "#Creates a new DF with the papers ID, and each word in the abstract alongside its position in the abstract\n",
    "words = papersWIDs.select(\n",
    "        \"id\",\n",
    "        F.split(\"abstract\", \" \").alias(\"abstractWords\"),\n",
    "        F.posexplode(F.split(\"abstract\", \" \")).alias(\"position\", \"word\")\n",
    "    )\n",
    "words.show(50)"
   ]
  },
  {
   "cell_type": "code",
   "execution_count": 29,
   "id": "1384799d-bfd9-49bf-acef-9187318b4840",
   "metadata": {},
   "outputs": [
    {
     "name": "stdout",
     "output_type": "stream",
     "text": [
      "+---+-------------+-----------+\n",
      "| id|         word|count(word)|\n",
      "+---+-------------+-----------+\n",
      "|  0|   Perceptron|          1|\n",
      "|  0|         this|          1|\n",
      "|  0|       signal|          1|\n",
      "|  0|      events.|          1|\n",
      "|  0|  observables|          1|\n",
      "|  0|     separate|          1|\n",
      "|  0|           27|          1|\n",
      "|  0|        found|          1|\n",
      "|  0|           1$|          1|\n",
      "|  0|      missing|          1|\n",
      "|  0|   transverse|          1|\n",
      "|  0|           In|          1|\n",
      "|  0|         from|          1|\n",
      "|  0|        work,|          1|\n",
      "|  0|        (with|          1|\n",
      "|  0|        boson|          1|\n",
      "|  0|      charged|          1|\n",
      "|  0|sensitivities|          1|\n",
      "|  0|           or|          1|\n",
      "|  0|          100|          1|\n",
      "+---+-------------+-----------+\n",
      "only showing top 20 rows\n",
      "\n"
     ]
    }
   ],
   "source": [
    "#pair each paper with their word counts\n",
    "abs_word_count = words.select('id', 'word').groupBy('id','word').agg({\"word\": \"count\"})\n",
    "abs_word_count.sort(col(\"id\"),col(\"count(word)\")).show()"
   ]
  },
  {
   "cell_type": "code",
   "execution_count": 30,
   "id": "7f6d829e-5bbe-4c01-9fc4-a20405739a76",
   "metadata": {},
   "outputs": [
    {
     "name": "stdout",
     "output_type": "stream",
     "text": [
      "+---+-----------------+-----------+\n",
      "| id|             word|count(word)|\n",
      "+---+-----------------+-----------+\n",
      "|  0|         neutrino|          4|\n",
      "|  0|            heavy|          3|\n",
      "|  0|           hadron|          2|\n",
      "|  0|signal/background|          2|\n",
      "|  0|          machine|          2|\n",
      "|  0|            using|          2|\n",
      "|  0|         learning|          2|\n",
      "|  0|       production|          1|\n",
      "|  0|         methods,|          1|\n",
      "|  0|           mixing|          1|\n",
      "|  0|            boson|          1|\n",
      "|  0|          Boosted|          1|\n",
      "|  0|         separate|          1|\n",
      "|  0|          events.|          1|\n",
      "|  0|           signal|          1|\n",
      "|  0|          missing|          1|\n",
      "|  0|            while|          1|\n",
      "|  0|            study|          1|\n",
      "|  0|          analyze|          1|\n",
      "|  0|         Gradient|          1|\n",
      "|  0|        prospects|          1|\n",
      "|  0|      high-energy|          1|\n",
      "|  0|        kinematic|          1|\n",
      "|  0|    reconstructed|          1|\n",
      "|  0|        colliders|          1|\n",
      "|  0|            roles|          1|\n",
      "|  0|       colliders.|          1|\n",
      "|  0|      Multi-Layer|          1|\n",
      "|  0|    sensitivities|          1|\n",
      "|  0|           either|          1|\n",
      "|  0|  discrimination.|          1|\n",
      "|  0|       background|          1|\n",
      "|  0|     pseudo-Dirac|          1|\n",
      "|  0|      heavy-light|          1|\n",
      "|  0|       Perceptron|          1|\n",
      "|  0|         Decision|          1|\n",
      "|  0|         Boosting|          1|\n",
      "|  0|          leptons|          1|\n",
      "|  0|            found|          1|\n",
      "|  0|           seesaw|          1|\n",
      "|  0|      observables|          1|\n",
      "|  0|         optimize|          1|\n",
      "|  0|          inverse|          1|\n",
      "|  0|       transverse|          1|\n",
      "|  0|          crucial|          1|\n",
      "|  0|         dominant|          1|\n",
      "|  0|            (with|          1|\n",
      "|  0|         improved|          1|\n",
      "|  0|         estimate|          1|\n",
      "|  0|          process|          1|\n",
      "|  0|            work,|          1|\n",
      "|  0|           energy|          1|\n",
      "|  0|          charged|          1|\n",
      "|  1|        potential|          4|\n",
      "|  1|      dissipative|          4|\n",
      "|  1|           Gubser|          3|\n",
      "|  1|        solutions|          3|\n",
      "|  1|       space-time|          2|\n",
      "|  1|            other|          2|\n",
      "|  1|   hydrodynamics.|          2|\n",
      "|  1|           future|          2|\n",
      "|  1|         analytic|          2|\n",
      "|  1|     relativistic|          2|\n",
      "|  1|          density|          2|\n",
      "|  1|        Minkowski|          2|\n",
      "|  1|        Following|          1|\n",
      "|  1|        evolution|          1|\n",
      "|  1|           proper|          1|\n",
      "|  1|          thermal|          1|\n",
      "|  1|       expansion.|          1|\n",
      "|  1|    polarization.|          1|\n",
      "|  1|           derive|          1|\n",
      "|  1|          derived|          1|\n",
      "|  1|    non-vanishing|          1|\n",
      "|  1|            being|          1|\n",
      "|  1|        vorticity|          1|\n",
      "|  1|           radial|          1|\n",
      "|  1|           energy|          1|\n",
      "|  1|         deriving|          1|\n",
      "|  1|      information|          1|\n",
      "|  1|            shear|          1|\n",
      "|  1|          implies|          1|\n",
      "|  1|      simulations|          1|\n",
      "|  1|          studies|          1|\n",
      "|  1|            terms|          1|\n",
      "|  1|      space-time.|          1|\n",
      "|  1|           obtain|          1|\n",
      "|  1|    thermodynamic|          1|\n",
      "|  1|          results|          1|\n",
      "|  1|            decay|          1|\n",
      "|  1|        rescaling|          1|\n",
      "|  1|  Surprisingly,in|          1|\n",
      "|  1|          angular|          1|\n",
      "|  1|      corrections|          1|\n",
      "|  1|            flow,|          1|\n",
      "|  1|            time,|          1|\n",
      "|  1|    hydrodynamics|          1|\n",
      "|  1|        expansion|          1|\n",
      "|  1|           slower|          1|\n",
      "|  1|        Moreover,|          1|\n",
      "+---+-----------------+-----------+\n",
      "only showing top 100 rows\n",
      "\n"
     ]
    }
   ],
   "source": [
    "#Drop rows that have words less than 4 characters long or that contain dollar signs\n",
    "filtered = abs_word_count.filter(length(abs_word_count.word)>4)\n",
    "filtered = filtered.filter(~filtered.word.contains('$'))\n",
    "filtered = filtered.filter(~filtered.word.contains('^'))\n",
    "filtered = filtered.filter(~filtered.word.contains('}'))\n",
    "filtered.sort(col(\"id\"),col(\"count(word)\").desc()).show(100)"
   ]
  },
  {
   "cell_type": "code",
   "execution_count": 31,
   "id": "b11ae3aa-ce17-48bf-8b26-2b61d855f6c0",
   "metadata": {},
   "outputs": [
    {
     "name": "stdout",
     "output_type": "stream",
     "text": [
      "+---+-----------+-----------------+\n",
      "| id|count(word)|         replaced|\n",
      "+---+-----------+-----------------+\n",
      "|  0|          4|         neutrino|\n",
      "|  0|          3|            heavy|\n",
      "|  0|          2|           hadron|\n",
      "|  0|          2|signal/background|\n",
      "|  0|          2|          machine|\n",
      "|  0|          2|            using|\n",
      "|  0|          2|         learning|\n",
      "|  0|          1|       production|\n",
      "|  0|          1|          methods|\n",
      "|  0|          1|           mixing|\n",
      "|  0|          1|            boson|\n",
      "|  0|          1|          Boosted|\n",
      "|  0|          1|         separate|\n",
      "|  0|          1|           events|\n",
      "|  0|          1|           signal|\n",
      "|  0|          1|          missing|\n",
      "|  0|          1|            while|\n",
      "|  0|          1|            study|\n",
      "|  0|          1|          analyze|\n",
      "|  0|          1|         Gradient|\n",
      "|  0|          1|        prospects|\n",
      "|  0|          1|      high-energy|\n",
      "|  0|          1|        kinematic|\n",
      "|  0|          1|    reconstructed|\n",
      "|  0|          1|        colliders|\n",
      "|  0|          1|            roles|\n",
      "|  0|          1|        colliders|\n",
      "|  0|          1|      Multi-Layer|\n",
      "|  0|          1|    sensitivities|\n",
      "|  0|          1|           either|\n",
      "|  0|          1|   discrimination|\n",
      "|  0|          1|       background|\n",
      "|  0|          1|     pseudo-Dirac|\n",
      "|  0|          1|      heavy-light|\n",
      "|  0|          1|       Perceptron|\n",
      "|  0|          1|         Decision|\n",
      "|  0|          1|         Boosting|\n",
      "|  0|          1|          leptons|\n",
      "|  0|          1|            found|\n",
      "|  0|          1|           seesaw|\n",
      "|  0|          1|      observables|\n",
      "|  0|          1|         optimize|\n",
      "|  0|          1|          inverse|\n",
      "|  0|          1|       transverse|\n",
      "|  0|          1|          crucial|\n",
      "|  0|          1|         dominant|\n",
      "|  0|          1|            (with|\n",
      "|  0|          1|         improved|\n",
      "|  0|          1|         estimate|\n",
      "|  0|          1|          process|\n",
      "|  0|          1|             work|\n",
      "|  0|          1|           energy|\n",
      "|  0|          1|          charged|\n",
      "|  1|          4|        potential|\n",
      "|  1|          4|      dissipative|\n",
      "|  1|          3|           Gubser|\n",
      "|  1|          3|        solutions|\n",
      "|  1|          2|       space-time|\n",
      "|  1|          2|            other|\n",
      "|  1|          2|    hydrodynamics|\n",
      "|  1|          2|           future|\n",
      "|  1|          2|         analytic|\n",
      "|  1|          2|     relativistic|\n",
      "|  1|          2|          density|\n",
      "|  1|          2|        Minkowski|\n",
      "|  1|          1|        Following|\n",
      "|  1|          1|        evolution|\n",
      "|  1|          1|           proper|\n",
      "|  1|          1|          thermal|\n",
      "|  1|          1|        expansion|\n",
      "|  1|          1|     polarization|\n",
      "|  1|          1|           derive|\n",
      "|  1|          1|          derived|\n",
      "|  1|          1|    non-vanishing|\n",
      "|  1|          1|            being|\n",
      "|  1|          1|        vorticity|\n",
      "|  1|          1|           radial|\n",
      "|  1|          1|           energy|\n",
      "|  1|          1|         deriving|\n",
      "|  1|          1|      information|\n",
      "|  1|          1|            shear|\n",
      "|  1|          1|          implies|\n",
      "|  1|          1|      simulations|\n",
      "|  1|          1|          studies|\n",
      "|  1|          1|            terms|\n",
      "|  1|          1|       space-time|\n",
      "|  1|          1|           obtain|\n",
      "|  1|          1|    thermodynamic|\n",
      "|  1|          1|          results|\n",
      "|  1|          1|            decay|\n",
      "|  1|          1|        rescaling|\n",
      "|  1|          1|   Surprisinglyin|\n",
      "|  1|          1|          angular|\n",
      "|  1|          1|      corrections|\n",
      "|  1|          1|             flow|\n",
      "|  1|          1|             time|\n",
      "|  1|          1|    hydrodynamics|\n",
      "|  1|          1|        expansion|\n",
      "|  1|          1|           slower|\n",
      "|  1|          1|         Moreover|\n",
      "+---+-----------+-----------------+\n",
      "only showing top 100 rows\n",
      "\n"
     ]
    }
   ],
   "source": [
    "filtered = filtered.select(\"id\", \"count(word)\", F.translate(F.col(\"word\"), \".,\", \"\").alias(\"replaced\"))\n",
    "filtered.sort(col(\"id\"),col(\"count(word)\").desc()).show(100)"
   ]
  },
  {
   "cell_type": "markdown",
   "id": "9b932732-9d02-47cc-9275-96ce91e52c82",
   "metadata": {},
   "source": [
    "# Data Manipulation - Find a classification of the paper "
   ]
  },
  {
   "cell_type": "markdown",
   "id": "27780b32-634b-4290-9823-313fec9de41b",
   "metadata": {},
   "source": [
    "Each paper has a classification in their keyword. In order to create a model that is predictive, we will need to train a model to classify. If my understanding is correct, the first keyword is probably the most important classifier."
   ]
  },
  {
   "cell_type": "code",
   "execution_count": 63,
   "id": "27478c09-d8e5-475d-aa50-da0c335d1c91",
   "metadata": {},
   "outputs": [
    {
     "name": "stdout",
     "output_type": "stream",
     "text": [
      "+---+---------------+--------------------+--------------------+--------------------+--------+---------------+\n",
      "| id|number_of_pages|             authors|            keywords|          titleWords|position|           word|\n",
      "+---+---------------+--------------------+--------------------+--------------------+--------+---------------+\n",
      "|  0|             26|[Feng, Jie, Li, M...|[{INSPIRE, classi...|[Improving, heavy...|       0|      Improving|\n",
      "|  0|             26|[Feng, Jie, Li, M...|[{INSPIRE, classi...|[Improving, heavy...|       1|          heavy|\n",
      "|  0|             26|[Feng, Jie, Li, M...|[{INSPIRE, classi...|[Improving, heavy...|       2|          Dirac|\n",
      "|  0|             26|[Feng, Jie, Li, M...|[{INSPIRE, classi...|[Improving, heavy...|       3|       neutrino|\n",
      "|  0|             26|[Feng, Jie, Li, M...|[{INSPIRE, classi...|[Improving, heavy...|       4|      prospects|\n",
      "|  0|             26|[Feng, Jie, Li, M...|[{INSPIRE, classi...|[Improving, heavy...|       5|             at|\n",
      "|  0|             26|[Feng, Jie, Li, M...|[{INSPIRE, classi...|[Improving, heavy...|       6|         future|\n",
      "|  0|             26|[Feng, Jie, Li, M...|[{INSPIRE, classi...|[Improving, heavy...|       7|         hadron|\n",
      "|  0|             26|[Feng, Jie, Li, M...|[{INSPIRE, classi...|[Improving, heavy...|       8|      colliders|\n",
      "|  0|             26|[Feng, Jie, Li, M...|[{INSPIRE, classi...|[Improving, heavy...|       9|          using|\n",
      "|  0|             26|[Feng, Jie, Li, M...|[{INSPIRE, classi...|[Improving, heavy...|      10|        machine|\n",
      "|  0|             26|[Feng, Jie, Li, M...|[{INSPIRE, classi...|[Improving, heavy...|      11|       learning|\n",
      "|  1|             28|[Wang, Dong-Lin, ...|[{INSPIRE, null, ...|[Analytic, soluti...|       0|       Analytic|\n",
      "|  1|             28|[Wang, Dong-Lin, ...|[{INSPIRE, null, ...|[Analytic, soluti...|       1|      solutions|\n",
      "|  1|             28|[Wang, Dong-Lin, ...|[{INSPIRE, null, ...|[Analytic, soluti...|       2|             of|\n",
      "|  1|             28|[Wang, Dong-Lin, ...|[{INSPIRE, null, ...|[Analytic, soluti...|       3|   relativistic|\n",
      "|  1|             28|[Wang, Dong-Lin, ...|[{INSPIRE, null, ...|[Analytic, soluti...|       4|    dissipative|\n",
      "|  1|             28|[Wang, Dong-Lin, ...|[{INSPIRE, null, ...|[Analytic, soluti...|       5|           spin|\n",
      "|  1|             28|[Wang, Dong-Lin, ...|[{INSPIRE, null, ...|[Analytic, soluti...|       6|  hydrodynamics|\n",
      "|  1|             28|[Wang, Dong-Lin, ...|[{INSPIRE, null, ...|[Analytic, soluti...|       7|           with|\n",
      "|  1|             28|[Wang, Dong-Lin, ...|[{INSPIRE, null, ...|[Analytic, soluti...|       8|         radial|\n",
      "|  1|             28|[Wang, Dong-Lin, ...|[{INSPIRE, null, ...|[Analytic, soluti...|       9|      expansion|\n",
      "|  1|             28|[Wang, Dong-Lin, ...|[{INSPIRE, null, ...|[Analytic, soluti...|      10|             in|\n",
      "|  1|             28|[Wang, Dong-Lin, ...|[{INSPIRE, null, ...|[Analytic, soluti...|      11|         Gubser|\n",
      "|  1|             28|[Wang, Dong-Lin, ...|[{INSPIRE, null, ...|[Analytic, soluti...|      12|           flow|\n",
      "|  2|             36|[Shuryak, Edward,...|[{INSPIRE, classi...|[Meson, structure...|       0|          Meson|\n",
      "|  2|             36|[Shuryak, Edward,...|[{INSPIRE, classi...|[Meson, structure...|       1|      structure|\n",
      "|  2|             36|[Shuryak, Edward,...|[{INSPIRE, classi...|[Meson, structure...|       2|             on|\n",
      "|  2|             36|[Shuryak, Edward,...|[{INSPIRE, classi...|[Meson, structure...|       3|            the|\n",
      "|  2|             36|[Shuryak, Edward,...|[{INSPIRE, classi...|[Meson, structure...|       4|    light-front|\n",
      "|  2|             36|[Shuryak, Edward,...|[{INSPIRE, classi...|[Meson, structure...|       5|            III|\n",
      "|  2|             36|[Shuryak, Edward,...|[{INSPIRE, classi...|[Meson, structure...|       6|              :|\n",
      "|  2|             36|[Shuryak, Edward,...|[{INSPIRE, classi...|[Meson, structure...|       7|            The|\n",
      "|  2|             36|[Shuryak, Edward,...|[{INSPIRE, classi...|[Meson, structure...|       8|   Hamiltonian,|\n",
      "|  2|             36|[Shuryak, Edward,...|[{INSPIRE, classi...|[Meson, structure...|       9|          heavy|\n",
      "|  2|             36|[Shuryak, Edward,...|[{INSPIRE, classi...|[Meson, structure...|      10|     quarkonia,|\n",
      "|  2|             36|[Shuryak, Edward,...|[{INSPIRE, classi...|[Meson, structure...|      11|           spin|\n",
      "|  2|             36|[Shuryak, Edward,...|[{INSPIRE, classi...|[Meson, structure...|      12|            and|\n",
      "|  2|             36|[Shuryak, Edward,...|[{INSPIRE, classi...|[Meson, structure...|      13|          orbit|\n",
      "|  2|             36|[Shuryak, Edward,...|[{INSPIRE, classi...|[Meson, structure...|      14|         mixing|\n",
      "|  3|             10|[Surovtsev, Yury ...|[{INSPIRE, classi...|[Coupled-channel,...|       0|Coupled-channel|\n",
      "|  3|             10|[Surovtsev, Yury ...|[{INSPIRE, classi...|[Coupled-channel,...|       1|       analysis|\n",
      "|  3|             10|[Surovtsev, Yury ...|[{INSPIRE, classi...|[Coupled-channel,...|       2|             of|\n",
      "|  3|             10|[Surovtsev, Yury ...|[{INSPIRE, classi...|[Coupled-channel,...|       3|            the|\n",
      "|  3|             10|[Surovtsev, Yury ...|[{INSPIRE, classi...|[Coupled-channel,...|       4|        process|\n",
      "|  3|             10|[Surovtsev, Yury ...|[{INSPIRE, classi...|[Coupled-channel,...|       5|        $\\gamma|\n",
      "|  3|             10|[Surovtsev, Yury ...|[{INSPIRE, classi...|[Coupled-channel,...|       6|         \\gamma|\n",
      "|  3|             10|[Surovtsev, Yury ...|[{INSPIRE, classi...|[Coupled-channel,...|       7|            \\to|\n",
      "|  3|             10|[Surovtsev, Yury ...|[{INSPIRE, classi...|[Coupled-channel,...|       8|          \\pi^0|\n",
      "|  3|             10|[Surovtsev, Yury ...|[{INSPIRE, classi...|[Coupled-channel,...|       9|         \\pi^0$|\n",
      "+---+---------------+--------------------+--------------------+--------------------+--------+---------------+\n",
      "only showing top 50 rows\n",
      "\n"
     ]
    }
   ],
   "source": [
    "#I don't know that I'm going to use these title word splits but just in case I'm going to leave this here.\n",
    "keyWords = papersWIDs.select(\n",
    "        \"id\", \"number_of_pages\", \"authors\", \"keywords\",\n",
    "        F.split(\"title\", \" \").alias(\"titleWords\"),\n",
    "        F.posexplode(F.split(\"title\", \" \")).alias(\"position\", \"word\")\n",
    "    )\n",
    "keyWords.show(50)"
   ]
  },
  {
   "cell_type": "code",
   "execution_count": 61,
   "id": "251d7e95-c5ec-40d5-8cf9-c562327ddaaf",
   "metadata": {},
   "outputs": [
    {
     "name": "stdout",
     "output_type": "stream",
     "text": [
      "+---+---------------+--------------------+--------------------+--------------------+--------+-------------+--------------------+\n",
      "| id|number_of_pages|             authors|            keywords|          titleWords|position|         word|                 new|\n",
      "+---+---------------+--------------------+--------------------+--------------------+--------+-------------+--------------------+\n",
      "|  0|             26|[Feng, Jie, Li, M...|[{INSPIRE, classi...|[Improving, heavy...|       0|    Improving|{INSPIRE, classif...|\n",
      "|  0|             26|[Feng, Jie, Li, M...|[{INSPIRE, classi...|[Improving, heavy...|       1|        heavy|{INSPIRE, classif...|\n",
      "|  0|             26|[Feng, Jie, Li, M...|[{INSPIRE, classi...|[Improving, heavy...|       2|        Dirac|{INSPIRE, classif...|\n",
      "|  0|             26|[Feng, Jie, Li, M...|[{INSPIRE, classi...|[Improving, heavy...|       3|     neutrino|{INSPIRE, classif...|\n",
      "|  0|             26|[Feng, Jie, Li, M...|[{INSPIRE, classi...|[Improving, heavy...|       4|    prospects|{INSPIRE, classif...|\n",
      "|  0|             26|[Feng, Jie, Li, M...|[{INSPIRE, classi...|[Improving, heavy...|       5|           at|{INSPIRE, classif...|\n",
      "|  0|             26|[Feng, Jie, Li, M...|[{INSPIRE, classi...|[Improving, heavy...|       6|       future|{INSPIRE, classif...|\n",
      "|  0|             26|[Feng, Jie, Li, M...|[{INSPIRE, classi...|[Improving, heavy...|       7|       hadron|{INSPIRE, classif...|\n",
      "|  0|             26|[Feng, Jie, Li, M...|[{INSPIRE, classi...|[Improving, heavy...|       8|    colliders|{INSPIRE, classif...|\n",
      "|  0|             26|[Feng, Jie, Li, M...|[{INSPIRE, classi...|[Improving, heavy...|       9|        using|{INSPIRE, classif...|\n",
      "|  0|             26|[Feng, Jie, Li, M...|[{INSPIRE, classi...|[Improving, heavy...|      10|      machine|{INSPIRE, classif...|\n",
      "|  0|             26|[Feng, Jie, Li, M...|[{INSPIRE, classi...|[Improving, heavy...|      11|     learning|{INSPIRE, classif...|\n",
      "|  1|             28|[Wang, Dong-Lin, ...|[{INSPIRE, null, ...|[Analytic, soluti...|       0|     Analytic|{INSPIRE, null, s...|\n",
      "|  1|             28|[Wang, Dong-Lin, ...|[{INSPIRE, null, ...|[Analytic, soluti...|       1|    solutions|{INSPIRE, null, s...|\n",
      "|  1|             28|[Wang, Dong-Lin, ...|[{INSPIRE, null, ...|[Analytic, soluti...|       2|           of|{INSPIRE, null, s...|\n",
      "|  1|             28|[Wang, Dong-Lin, ...|[{INSPIRE, null, ...|[Analytic, soluti...|       3| relativistic|{INSPIRE, null, s...|\n",
      "|  1|             28|[Wang, Dong-Lin, ...|[{INSPIRE, null, ...|[Analytic, soluti...|       4|  dissipative|{INSPIRE, null, s...|\n",
      "|  1|             28|[Wang, Dong-Lin, ...|[{INSPIRE, null, ...|[Analytic, soluti...|       5|         spin|{INSPIRE, null, s...|\n",
      "|  1|             28|[Wang, Dong-Lin, ...|[{INSPIRE, null, ...|[Analytic, soluti...|       6|hydrodynamics|{INSPIRE, null, s...|\n",
      "|  1|             28|[Wang, Dong-Lin, ...|[{INSPIRE, null, ...|[Analytic, soluti...|       7|         with|{INSPIRE, null, s...|\n",
      "+---+---------------+--------------------+--------------------+--------------------+--------+-------------+--------------------+\n",
      "only showing top 20 rows\n",
      "\n"
     ]
    }
   ],
   "source": [
    "#creates a new column that\n",
    "keyWords = keyWords.withColumn(\"new\", keyWords[\"keywords\"].getItem(0))\n",
    "keyWords.show()"
   ]
  },
  {
   "cell_type": "code",
   "execution_count": 62,
   "id": "25efe2f4-87b8-4530-b97d-831fd9a8101a",
   "metadata": {},
   "outputs": [
    {
     "name": "stdout",
     "output_type": "stream",
     "text": [
      "+---+---------------+--------------------+--------------------+--------------------+--------+-------------+---------------+\n",
      "| id|number_of_pages|             authors|            keywords|          titleWords|position|         word| classification|\n",
      "+---+---------------+--------------------+--------------------+--------------------+--------+-------------+---------------+\n",
      "|  0|             26|[Feng, Jie, Li, M...|[{INSPIRE, classi...|[Improving, heavy...|       0|    Improving| neutrino, mass|\n",
      "|  0|             26|[Feng, Jie, Li, M...|[{INSPIRE, classi...|[Improving, heavy...|       1|        heavy| neutrino, mass|\n",
      "|  0|             26|[Feng, Jie, Li, M...|[{INSPIRE, classi...|[Improving, heavy...|       2|        Dirac| neutrino, mass|\n",
      "|  0|             26|[Feng, Jie, Li, M...|[{INSPIRE, classi...|[Improving, heavy...|       3|     neutrino| neutrino, mass|\n",
      "|  0|             26|[Feng, Jie, Li, M...|[{INSPIRE, classi...|[Improving, heavy...|       4|    prospects| neutrino, mass|\n",
      "|  0|             26|[Feng, Jie, Li, M...|[{INSPIRE, classi...|[Improving, heavy...|       5|           at| neutrino, mass|\n",
      "|  0|             26|[Feng, Jie, Li, M...|[{INSPIRE, classi...|[Improving, heavy...|       6|       future| neutrino, mass|\n",
      "|  0|             26|[Feng, Jie, Li, M...|[{INSPIRE, classi...|[Improving, heavy...|       7|       hadron| neutrino, mass|\n",
      "|  0|             26|[Feng, Jie, Li, M...|[{INSPIRE, classi...|[Improving, heavy...|       8|    colliders| neutrino, mass|\n",
      "|  0|             26|[Feng, Jie, Li, M...|[{INSPIRE, classi...|[Improving, heavy...|       9|        using| neutrino, mass|\n",
      "|  0|             26|[Feng, Jie, Li, M...|[{INSPIRE, classi...|[Improving, heavy...|      10|      machine| neutrino, mass|\n",
      "|  0|             26|[Feng, Jie, Li, M...|[{INSPIRE, classi...|[Improving, heavy...|      11|     learning| neutrino, mass|\n",
      "|  1|             28|[Wang, Dong-Lin, ...|[{INSPIRE, null, ...|[Analytic, soluti...|       0|     Analytic|spin: potential|\n",
      "|  1|             28|[Wang, Dong-Lin, ...|[{INSPIRE, null, ...|[Analytic, soluti...|       1|    solutions|spin: potential|\n",
      "|  1|             28|[Wang, Dong-Lin, ...|[{INSPIRE, null, ...|[Analytic, soluti...|       2|           of|spin: potential|\n",
      "|  1|             28|[Wang, Dong-Lin, ...|[{INSPIRE, null, ...|[Analytic, soluti...|       3| relativistic|spin: potential|\n",
      "|  1|             28|[Wang, Dong-Lin, ...|[{INSPIRE, null, ...|[Analytic, soluti...|       4|  dissipative|spin: potential|\n",
      "|  1|             28|[Wang, Dong-Lin, ...|[{INSPIRE, null, ...|[Analytic, soluti...|       5|         spin|spin: potential|\n",
      "|  1|             28|[Wang, Dong-Lin, ...|[{INSPIRE, null, ...|[Analytic, soluti...|       6|hydrodynamics|spin: potential|\n",
      "|  1|             28|[Wang, Dong-Lin, ...|[{INSPIRE, null, ...|[Analytic, soluti...|       7|         with|spin: potential|\n",
      "+---+---------------+--------------------+--------------------+--------------------+--------+-------------+---------------+\n",
      "only showing top 20 rows\n",
      "\n"
     ]
    }
   ],
   "source": [
    "classification =  keyWords.withColumn(\"classification\", keyWords[\"new\"].getItem(\"value\"))\n",
    "classification = classification.drop(col(\"new\"))\n",
    "classification.show()"
   ]
  },
  {
   "cell_type": "code",
   "execution_count": null,
   "id": "a272b3d1-0108-45c0-96f7-cc89070277f6",
   "metadata": {},
   "outputs": [],
   "source": []
  },
  {
   "cell_type": "code",
   "execution_count": null,
   "id": "63666725-806b-4740-8e7d-adb9c1f8aea8",
   "metadata": {},
   "outputs": [],
   "source": []
  }
 ],
 "metadata": {
  "kernelspec": {
   "display_name": "Python 3 (ipykernel)",
   "language": "python",
   "name": "python3"
  },
  "language_info": {
   "codemirror_mode": {
    "name": "ipython",
    "version": 3
   },
   "file_extension": ".py",
   "mimetype": "text/x-python",
   "name": "python",
   "nbconvert_exporter": "python",
   "pygments_lexer": "ipython3",
   "version": "3.9.10"
  }
 },
 "nbformat": 4,
 "nbformat_minor": 5
}
