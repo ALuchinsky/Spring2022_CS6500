{
 "cells": [
  {
   "cell_type": "code",
   "execution_count": 1,
   "id": "09c5c987-984f-4e6f-87c1-8f0aaee5282f",
   "metadata": {
    "tags": []
   },
   "outputs": [],
   "source": [
    "import findspark\n",
    "findspark.init()\n",
    "\n",
    "from pyspark.sql import SparkSession\n",
    "from pyspark.sql.functions import format_number, mean, min, max, corr, stddev\n",
    "from pyspark.sql.functions import (dayofmonth, hour, dayofyear, month, year, weekofyear, format_number, date_format, asc, desc)\n",
    "from pyspark.sql.functions import explode, col, element_at, size, split\n",
    "from pyspark.sql.functions import udf\n",
    "import numpy as np\n",
    "import matplotlib.pyplot as plt\n",
    "#https://www.data4v.com/tutorial-hierarchical-clustering-in-spark-with-bisecting-k-means/"
   ]
  },
  {
   "cell_type": "code",
   "execution_count": 2,
   "id": "71ab0cfa-0f20-40a0-ba01-a2c775e9a136",
   "metadata": {},
   "outputs": [],
   "source": [
    "from pyspark.ml.evaluation import ClusteringEvaluator\n",
    "from pyspark.ml.feature import VectorAssembler\n",
    "\n",
    "from pyspark.ml.clustering import KMeans, BisectingKMeans\n"
   ]
  },
  {
   "cell_type": "code",
   "execution_count": 3,
   "id": "305ba07a-4bdf-411a-9eef-2d686d9d718c",
   "metadata": {
    "tags": []
   },
   "outputs": [],
   "source": [
    "spark = SparkSession.builder \\\n",
    "    .appName('bisectingK') \\\n",
    "    .master('local[*]') \\\n",
    "    .config('spark.sql.execution.arrow.pyspark.enabled', True) \\\n",
    "    .config('spark.sql.session.timeZone', 'UTC') \\\n",
    "    .config('spark.driver.memory','8g') \\\n",
    "    .config('spark.ui.showConsoleProgress', True) \\\n",
    "    .config('spark.sql.repl.eagerEval.enabled', True) \\\n",
    "    .getOrCreate()"
   ]
  },
  {
   "cell_type": "code",
   "execution_count": 4,
   "id": "e690d608-a59c-49b5-b1e1-874263c23269",
   "metadata": {},
   "outputs": [],
   "source": [
    "data_path = \"papers_2000/abs/\""
   ]
  },
  {
   "cell_type": "code",
   "execution_count": 5,
   "id": "109e9835-4bdb-4cb9-84a1-4d9c77985104",
   "metadata": {},
   "outputs": [],
   "source": [
    "import os"
   ]
  },
  {
   "cell_type": "code",
   "execution_count": 6,
   "id": "697295f8-13a4-434a-99bb-fefac2ae13b8",
   "metadata": {},
   "outputs": [],
   "source": [
    "# Dummy table created ny AL_read_papers notebook\n",
    "# Original data is first 30000 papers from 2010 with 50 assigned keywords\n",
    "paps = spark.read.json(\"../data/processed/\"+data_path+\"/dummy/\")"
   ]
  },
  {
   "cell_type": "code",
   "execution_count": 7,
   "id": "5f40a9b5-0f9b-4a8d-bc73-5fb68b1d3c2e",
   "metadata": {},
   "outputs": [
    {
     "name": "stdout",
     "output_type": "stream",
     "text": [
      "7192\n",
      "7141\n",
      "5303\n"
     ]
    }
   ],
   "source": [
    "#Adding an ID to each paper so the abstract data analysis can be attributed to a paper\n",
    "from pyspark.sql.functions import monotonically_increasing_id\n",
    "papersWIDs = paps.withColumn(\"id\", monotonically_increasing_id())\n",
    "# remving nans\n",
    "print(papersWIDs.count())\n",
    "papersWIDs_woNA = papersWIDs.dropna()\n",
    "print(papersWIDs_woNA.count())\n",
    "papersWIDs_woNA_woNone = papersWIDs_woNA.filter(\"None == 0\")\n",
    "print(papersWIDs_woNA_woNone.count())"
   ]
  },
  {
   "cell_type": "code",
   "execution_count": 8,
   "id": "212bb086-a58e-4616-8b81-3065994eda74",
   "metadata": {},
   "outputs": [],
   "source": [
    "from pyspark.sql.functions import col, log, lit"
   ]
  },
  {
   "cell_type": "code",
   "execution_count": 9,
   "id": "c859e52c-a23b-483a-941a-fc6d77f1c8ef",
   "metadata": {},
   "outputs": [],
   "source": [
    "def log_transform(data, column_name):\n",
    "    return data.withColumn(\"log_\"+column_name,  log(lit(1) + col(column_name)))"
   ]
  },
  {
   "cell_type": "code",
   "execution_count": 10,
   "id": "1e8bbb3a-cf39-4fb8-b1f8-f0670c1cb418",
   "metadata": {},
   "outputs": [],
   "source": [
    "data = papersWIDs_woNA_woNone\n",
    "# data = log_transform(data, \"citation_count\")\n",
    "# data = log_transform(data, \"number_of_pages\")\n",
    "# data = log_transform(data, \"num_refs\")\n",
    "data = data.dropna()"
   ]
  },
  {
   "cell_type": "markdown",
   "id": "9c3ca08f-7c1f-4b58-82f2-806aee90fe35",
   "metadata": {},
   "source": [
    "Included all columns except title and ID since those are strings and identifiers"
   ]
  },
  {
   "cell_type": "code",
   "execution_count": 11,
   "id": "7aefefcd-dd77-4fe2-bfe7-90c7ed9f35c6",
   "metadata": {},
   "outputs": [],
   "source": [
    "#papersWIDs_woNA_woNone.columns"
   ]
  },
  {
   "cell_type": "code",
   "execution_count": 12,
   "id": "22e478e3-17c9-4050-b398-69c61da8bf00",
   "metadata": {},
   "outputs": [],
   "source": [
    "from pyspark.ml.feature import VectorAssembler\n",
    "assemble=VectorAssembler(\n",
    "    inputCols=[c for c in data.columns if not c in ['id', 'title', 'citation_count']],\n",
    "    # inputCols=[c for c in data.columns if not c in ['id', 'title']],\n",
    "    outputCol='features')\n",
    "assembled_data=assemble.transform(data)\n",
    "#assembled_data.show(2)"
   ]
  },
  {
   "cell_type": "code",
   "execution_count": 13,
   "id": "aa566c57-924c-4e43-934d-2027b038ee8c",
   "metadata": {},
   "outputs": [],
   "source": [
    "from pyspark.ml.feature import StandardScaler\n",
    "scale=StandardScaler(inputCol='features',outputCol='standardized')\n",
    "data_scale=scale.fit(assembled_data)\n",
    "scaled_data=data_scale.transform(assembled_data)\n",
    "#data_scale_output.show(2)"
   ]
  },
  {
   "cell_type": "code",
   "execution_count": 14,
   "id": "5b9b1795-7313-4718-8f61-3fd17f048819",
   "metadata": {},
   "outputs": [
    {
     "data": {
      "text/plain": [
       "5303"
      ]
     },
     "execution_count": 14,
     "metadata": {},
     "output_type": "execute_result"
    }
   ],
   "source": [
    "scaled_data.count()"
   ]
  },
  {
   "cell_type": "markdown",
   "id": "dded0b94-9e5b-4a38-a8fd-75e1a3036ec3",
   "metadata": {},
   "source": [
    "# Fit the model"
   ]
  },
  {
   "cell_type": "code",
   "execution_count": 15,
   "id": "03008fde-c37d-4008-90e5-083cadbe75b0",
   "metadata": {},
   "outputs": [],
   "source": [
    "from pyspark.ml.clustering import BisectingKMeans\n",
    "from pyspark.ml.evaluation import ClusteringEvaluator"
   ]
  },
  {
   "cell_type": "code",
   "execution_count": 16,
   "id": "32678b45-6c5d-44c2-88ce-ac1f25d2537b",
   "metadata": {},
   "outputs": [
    {
     "name": "stdout",
     "output_type": "stream",
     "text": [
      "[................................................]\n",
      "[................................................"
     ]
    }
   ],
   "source": [
    "silhouette_scores=[]\n",
    "evaluator = ClusteringEvaluator(featuresCol='features', \\\n",
    "metricName='silhouette')\n",
    "print(\"[\"+(\"\".join([\".\"]*len(range(2,50))))+\"]\")\n",
    "print(\"[\", end=\"\")\n",
    "for K in range(2,50):\n",
    "    print(\".\", end=\"\")\n",
    "    BKMeans_=BisectingKMeans(featuresCol='features', k=K, minDivisibleClusterSize =1)\n",
    "    BKMeans_fit=BKMeans_.fit(scaled_data)\n",
    "    BKMeans_transform=BKMeans_fit.transform(scaled_data) \n",
    "    evaluation_score=evaluator.evaluate(BKMeans_transform)\n",
    "    silhouette_scores.append(evaluation_score)\n",
    "silhouette_scores_array = np.array([[k, s] for k, s in zip(range(2,50), silhouette_scores)])\n",
    "#np.savetxt(\"../data/processed/\"+data_path+\"/bkmeans_silhouette_scores_array.txt\", silhouette_scores_array)"
   ]
  },
  {
   "cell_type": "code",
   "execution_count": 16,
   "id": "ab2b2b25-a661-4a09-a441-77028b5c9699",
   "metadata": {},
   "outputs": [],
   "source": [
    "silhouette_scores_array = np.loadtxt(\"../data/processed/\"+data_path+\"/bkmeans_silhouette_scores_array.txt\")"
   ]
  },
  {
   "cell_type": "code",
   "execution_count": 17,
   "id": "630d213a-5194-4e25-85ed-abbdde52cbe1",
   "metadata": {},
   "outputs": [
    {
     "name": "stdout",
     "output_type": "stream",
     "text": [
      "[                                                ]\n",
      "[................................................]\n"
     ]
    }
   ],
   "source": [
    "Lcost = []\n",
    "print(\"\".join([\"[\"]+[\" \"]*(50-2)+[\"]\"]))\n",
    "print(\"[\", end=\"\")\n",
    "for k in range(2, 50):\n",
    "    model = BisectingKMeans(\n",
    "        featuresCol='features', k=k, \n",
    "        minDivisibleClusterSize =1, seed = k).fit(scaled_data)\n",
    "    cost = model.summary.trainingCost\n",
    "    Lcost = Lcost + [[k, cost]]\n",
    "    print(\".\", end=\"\")\n",
    "print(\"]\")\n",
    "Lcost_array = np.array(Lcost)\n",
    "#np.savetxt(\"../data/processed/\"+data_path+\"/bkmeans_Lcost.txt\", Lcost_array)"
   ]
  },
  {
   "cell_type": "code",
   "execution_count": 18,
   "id": "ce2e2282-5fde-4023-8b17-4176b7fc8a33",
   "metadata": {},
   "outputs": [],
   "source": [
    "Lcost_array = np.loadtxt(\"../data/processed/\"+data_path+\"/bkmeans_Lcost.txt\")"
   ]
  },
  {
   "cell_type": "code",
   "execution_count": 24,
   "id": "ee367526-02b5-42ae-a3d9-50170b2a96bd",
   "metadata": {},
   "outputs": [
    {
     "data": {
      "image/png": "[encoded data removed]",
      "text/plain": [
       "<Figure size 720x360 with 2 Axes>"
      ]
     },
     "metadata": {
      "needs_background": "light"
     },
     "output_type": "display_data"
    }
   ],
   "source": [
    "import matplotlib.pyplot as plt\n",
    "def make_plot(data, y_label, ax, k0):\n",
    "    ax.plot(data[:,0], data[:,1])\n",
    "    ax.set_xlabel('Number of Clusters')\n",
    "    ax.set_ylabel(y_label)\n",
    "    ax.axvline(x=k0, linestyle='--')\n",
    "k0 = 8\n",
    "fig, ax = plt.subplots(1,2, figsize =(10,5))\n",
    "make_plot(data=Lcost_array, y_label='Intercluster Distance', ax=ax[0], k0=k0)\n",
    "make_plot(data=silhouette_scores_array, y_label='Silhouette Score', ax=ax[1], k0=k0)\n",
    "plt.tight_layout()\n",
    "#plt.savefig(\"../data/processed/\"+data_path+\"/BKmeans/ncluster_performance.pdf\")"
   ]
  },
  {
   "cell_type": "markdown",
   "id": "09adfd0e-924e-4cd4-b397-9e8d5b117097",
   "metadata": {},
   "source": [
    "The predictions seem pretty stable. With k=1  clusters' sizes and centroid positions do not depend strongly on the seed"
   ]
  },
  {
   "cell_type": "code",
   "execution_count": 16,
   "id": "761e971c-0cb4-4198-addf-405faca4fc62",
   "metadata": {},
   "outputs": [],
   "source": [
    "import warnings\n",
    "warnings.simplefilter(action='ignore', category=FutureWarning)"
   ]
  },
  {
   "cell_type": "code",
   "execution_count": 19,
   "id": "167b3ef7-d7a5-4bd6-9ca4-abf3aaf7b6e7",
   "metadata": {},
   "outputs": [
    {
     "name": "stdout",
     "output_type": "stream",
     "text": [
      "seed= 0 \t [1378, 1250, 928, 824, 490, 384, 359, 359] \t [0.06, 0.09, 0.12, 0.12, 0.0, 0.2, 0.25, 0.17]\n",
      "seed= 1 \t [1787, 1692, 736, 399, 394, 363, 313, 288] \t [0.08, 0.1, 0.08, 0.08, 0.12, 0.26, 0.17, 0.14]\n",
      "seed= 2 \t [1884, 1779, 677, 437, 385, 301, 268, 241] \t [0.0, 0.05, 0.29, 0.25, 0.14, 0.16, 0.14, 0.24]\n",
      "seed= 3 \t [1665, 1337, 969, 577, 490, 409, 384, 141] \t [0.0, 0.19, 0.2, 0.26, 0.08, 0.07, 0.12, 0.12]\n",
      "seed= 4 \t [2088, 1336, 667, 514, 507, 479, 211, 170] \t [0.0, 0.0, 0.21, 0.39, 0.08, 0.12, 0.11, 0.12]\n",
      "seed= 5 \t [1947, 1389, 1040, 576, 332, 322, 197, 169] \t [0.1, 0.13, 0.07, 0.12, 0.0, 0.02, 0.5, 0.27]\n",
      "seed= 6 \t [2072, 1196, 817, 488, 400, 374, 341, 284] \t [0.06, 0.09, 0.07, 0.22, 0.12, 0.18, 0.14, 0.14]\n",
      "seed= 7 \t [1649, 1598, 823, 488, 415, 374, 328, 297] \t [0.09, 0.02, 0.1, 0.08, 0.12, 0.18, 0.14, 0.14]\n",
      "seed= 8 \t [1708, 1207, 1052, 518, 488, 374, 362, 263] \t [0.1, 0.08, 0.04, 0.17, 0.12, 0.18, 0.14, 0.15]\n",
      "seed= 9 \t [1687, 1235, 954, 721, 449, 393, 310, 223] \t [0.09, 0.05, 0.06, 0.1, 0.12, 0.26, 0.12, 0.21]\n"
     ]
    }
   ],
   "source": [
    "for seed in range(10):\n",
    "    BKMeans_=BisectingKMeans(featuresCol='features', k=k0, seed = seed)\n",
    "    BKMeans_Model=BKMeans_.fit(assembled_data)\n",
    "    BKMeans_transform=BKMeans_Model.transform(assembled_data)\n",
    "    print(\"seed=\", seed, \"\\t\",\n",
    "        list(BKMeans_Model.summary.predictions.groupby(\"prediction\").count().sort(desc(\"count\")).toPandas()[\"count\"]),\n",
    "        \"\\t\",\n",
    "        [round(C[0],2) for C in BKMeans_Model.clusterCenters()]\n",
    "    )"
   ]
  },
  {
   "cell_type": "markdown",
   "id": "bd7e72ae-4da6-48d7-a466-d1027d781456",
   "metadata": {},
   "source": [
    "Here are mean citation counts per clusters"
   ]
  },
  {
   "cell_type": "code",
   "execution_count": 15,
   "id": "c4097e4a-ef20-41b2-8f9a-89be978ca59c",
   "metadata": {},
   "outputs": [
    {
     "name": "stderr",
     "output_type": "stream",
     "text": [
      "/usr/local/spark/python/pyspark/sql/context.py:125: FutureWarning: Deprecated in 3.0.0. Use SparkSession.builder.getOrCreate() instead.\n",
      "  warnings.warn(\n"
     ]
    },
    {
     "data": {
      "text/html": [
       "<table border='1'>\n",
       "<tr><th>cluster</th><th>count</th><th>mean</th></tr>\n",
       "<tr><td>7</td><td>1</td><td>20</td></tr>\n",
       "<tr><td>6</td><td>19</td><td>321</td></tr>\n",
       "<tr><td>5</td><td>53</td><td>182</td></tr>\n",
       "<tr><td>4</td><td>245</td><td>113</td></tr>\n",
       "<tr><td>0</td><td>815</td><td>13</td></tr>\n",
       "<tr><td>3</td><td>1016</td><td>79</td></tr>\n",
       "<tr><td>1</td><td>1208</td><td>27</td></tr>\n",
       "<tr><td>2</td><td>1946</td><td>46</td></tr>\n",
       "</table>\n"
      ],
      "text/plain": [
       "+-------+-----+----+\n",
       "|cluster|count|mean|\n",
       "+-------+-----+----+\n",
       "|      7|    1|  20|\n",
       "|      6|   19| 321|\n",
       "|      5|   53| 182|\n",
       "|      4|  245| 113|\n",
       "|      0|  815|  13|\n",
       "|      3| 1016|  79|\n",
       "|      1| 1208|  27|\n",
       "|      2| 1946|  46|\n",
       "+-------+-----+----+"
      ]
     },
     "execution_count": 15,
     "metadata": {},
     "output_type": "execute_result"
    }
   ],
   "source": [
    "from pyspark.sql.functions import stddev, count as _count, lit\n",
    "\n",
    "BKMeans_Model = BisectingKMeans(featuresCol='features', k=8, seed = 1).fit(assembled_data)\n",
    "tab = BKMeans_Model.summary.predictions.\\\n",
    "    groupby(\"prediction\").agg(\n",
    "        mean(\"citation_count\").alias(\"mean\"),\n",
    "        # stddev(\"citation_count\").alias(\"sigma\"),\n",
    "        _count(lit(1)).alias(\"count\")\n",
    "    ).\\\n",
    "    select(col(\"prediction\").alias(\"cluster\"), col(\"count\"), col(\"mean\").cast(\"int\")).\\\n",
    "    sort(asc(\"count\"))\n",
    "tab"
   ]
  },
  {
   "cell_type": "code",
   "execution_count": 16,
   "id": "79668c7a-5b58-4fb2-b6a2-570b8179c0a8",
   "metadata": {},
   "outputs": [
    {
     "name": "stdout",
     "output_type": "stream",
     "text": [
      "\\begin{tabular}{rrr}\n",
      "\\toprule\n",
      " cluster &  count &  mean \\\\\n",
      "\\midrule\n",
      "       7 &      1 &    20 \\\\\n",
      "       6 &     19 &   321 \\\\\n",
      "       5 &     53 &   182 \\\\\n",
      "       4 &    245 &   113 \\\\\n",
      "       0 &    815 &    13 \\\\\n",
      "       3 &   1016 &    79 \\\\\n",
      "       1 &   1208 &    27 \\\\\n",
      "       2 &   1946 &    46 \\\\\n",
      "\\bottomrule\n",
      "\\end{tabular}\n",
      "\n"
     ]
    },
    {
     "name": "stderr",
     "output_type": "stream",
     "text": [
      "/tmp/ipykernel_29285/2569547265.py:1: FutureWarning: In future versions `DataFrame.to_latex` is expected to utilise the base implementation of `Styler.to_latex` for formatting and rendering. The arguments signature may therefore change. It is recommended instead to use `DataFrame.style.to_latex` which also contains additional functionality.\n",
      "  print(tab.toPandas().to_latex(index = False))\n"
     ]
    }
   ],
   "source": [
    "print(tab.toPandas().to_latex(index = False))"
   ]
  },
  {
   "cell_type": "code",
   "execution_count": 19,
   "id": "f42cf41a-7f4c-4960-abc8-33fae0a1e701",
   "metadata": {},
   "outputs": [],
   "source": [
    "tab.toPandas().to_csv(\"../data/processed/\"+data_path+\"/bkmeans_mean_table.csv\")"
   ]
  },
  {
   "cell_type": "markdown",
   "id": "7574ec7a-bc50-45d1-a17f-55961d9f0e46",
   "metadata": {},
   "source": [
    "Let us do some visuals. PCA is very usefull for this"
   ]
  },
  {
   "cell_type": "code",
   "execution_count": 17,
   "id": "4aed1f2e-3233-4512-9f63-6eb9a9346c83",
   "metadata": {},
   "outputs": [
    {
     "name": "stderr",
     "output_type": "stream",
     "text": [
      "/usr/local/spark/python/pyspark/sql/context.py:125: FutureWarning: Deprecated in 3.0.0. Use SparkSession.builder.getOrCreate() instead.\n",
      "  warnings.warn(\n"
     ]
    },
    {
     "data": {
      "image/png": "[encoded data removed]",
      "text/plain": [
       "<Figure size 537.375x432 with 1 Axes>"
      ]
     },
     "metadata": {
      "needs_background": "light"
     },
     "output_type": "display_data"
    }
   ],
   "source": [
    "from pyspark.ml.feature import PCA as PCAml\n",
    "\n",
    "pca = PCAml(k=2, inputCol=\"features\", outputCol=\"pca\")\n",
    "pca_model = pca.fit(assembled_data)\n",
    "pca_transformed = pca_model.transform(assembled_data)\n",
    "\n",
    "import numpy as np\n",
    "X_pca = pca_transformed.rdd.map(lambda row: row.pca).collect()\n",
    "X_pca = np.array(X_pca)\n",
    "\n",
    "BKMeans_transform = BKMeans_Model.summary.predictions\n",
    "cluster_assignment = np.array(BKMeans_transform.rdd.map(lambda row: row.prediction).collect()).reshape(-1,1)\n",
    "\n",
    "import seaborn as sns\n",
    "import matplotlib.pyplot as plt\n",
    "import pandas as pd\n",
    "pca_data = np.hstack((X_pca,cluster_assignment))\n",
    "\n",
    "pca_df = pd.DataFrame(data=pca_data, columns=(\"1st_principal\", \"2nd_principal\",\"cluster_assignment\"))\n",
    "sns.FacetGrid(pca_df,hue=\"cluster_assignment\", height=6).map(plt.scatter, '1st_principal', '2nd_principal' ).add_legend()\n",
    "# plt.xlim(0, 750)\n",
    "# plt.ylim(-500, 1000)\n",
    "plt.savefig(\"../data/processed/\"+data_path+\"/bkmeans_pca.pdf\")"
   ]
  },
  {
   "cell_type": "markdown",
   "id": "485d5856-1039-4454-b375-8da92cfd513b",
   "metadata": {},
   "source": [
    "The clustering is evident"
   ]
  },
  {
   "cell_type": "code",
   "execution_count": 39,
   "id": "f60a6c19-3ffd-4ef3-a0f9-fadef9153255",
   "metadata": {},
   "outputs": [],
   "source": [
    "predictions = BKMeans_Model.summary.predictions"
   ]
  },
  {
   "cell_type": "code",
   "execution_count": 40,
   "id": "ac36cb00-7997-4f9f-9466-041884c95115",
   "metadata": {},
   "outputs": [
    {
     "data": {
      "text/plain": [
       "6"
      ]
     },
     "execution_count": 40,
     "metadata": {},
     "output_type": "execute_result"
    }
   ],
   "source": [
    "predictions.groupby(\"prediction\").count().sort(desc(\"count\")).collect()[-2][0]"
   ]
  },
  {
   "cell_type": "code",
   "execution_count": 66,
   "id": "523bff1a-2178-4ea2-9857-bf8ace61f8b2",
   "metadata": {},
   "outputs": [],
   "source": [
    "row = predictions.describe().filter(\"summary == 'max'\").collect()[0]\n",
    "keyword_fields = [c for c in row.asDict().keys() if row.asDict()[c] == '1']"
   ]
  },
  {
   "cell_type": "code",
   "execution_count": 79,
   "id": "62a59ac6-5f21-4a31-b3bd-5f0c36dc139c",
   "metadata": {},
   "outputs": [
    {
     "data": {
      "text/html": [
       "<table border='1'>\n",
       "<tr><th>summary</th><th>CP__violation</th><th>Feynman_graph</th><th>Feynman_graph__higher-order</th><th>Higgs_particle__mass</th><th>bibliography</th><th>critical_phenomena</th><th>effective_Lagrangian</th><th>electron_positron__annihilation</th><th>electroweak_interaction</th><th>neutrino__cosmic_radiation</th><th>neutrino__mass</th><th>neutrino__mixing_angle</th><th>neutrino__oscillation</th><th>neutrino__solar</th><th>numerical_calculations</th><th>numerical_calculations__interpretation_of_experiments</th><th>p_p__inclusive_reaction</th><th>perturbation_theory__higher-order</th><th>quantum_chromodynamics</th><th>supersymmetry</th></tr>\n",
       "<tr><td>count</td><td>43</td><td>43</td><td>43</td><td>43</td><td>43</td><td>43</td><td>43</td><td>43</td><td>43</td><td>43</td><td>43</td><td>43</td><td>43</td><td>43</td><td>43</td><td>43</td><td>43</td><td>43</td><td>43</td><td>43</td></tr>\n",
       "<tr><td>mean</td><td>0.27906976744186046</td><td>0.023255813953488372</td><td>0.023255813953488372</td><td>0.0</td><td>0.16279069767441862</td><td>0.023255813953488372</td><td>0.023255813953488372</td><td>0.046511627906976744</td><td>0.3488372093023256</td><td>0.09302325581395349</td><td>0.06976744186046512</td><td>0.0</td><td>0.13953488372093023</td><td>0.11627906976744186</td><td>0.023255813953488372</td><td>0.023255813953488372</td><td>0.0</td><td>0.0</td><td>0.3488372093023256</td><td>0.27906976744186046</td></tr>\n",
       "<tr><td>stddev</td><td>0.4538502687508102</td><td>0.15249857033260464</td><td>0.15249857033260467</td><td>0.0</td><td>0.3735436838188142</td><td>0.15249857033260467</td><td>0.15249857033260467</td><td>0.21308263231644634</td><td>0.4822428221704121</td><td>0.293902598732179</td><td>0.25776963111323353</td><td>0.0</td><td>0.350604603563426</td><td>0.32435300622428814</td><td>0.15249857033260467</td><td>0.15249857033260467</td><td>0.0</td><td>0.0</td><td>0.48224282217041203</td><td>0.45385026875081025</td></tr>\n",
       "<tr><td>min</td><td>0</td><td>0</td><td>0</td><td>0</td><td>0</td><td>0</td><td>0</td><td>0</td><td>0</td><td>0</td><td>0</td><td>0</td><td>0</td><td>0</td><td>0</td><td>0</td><td>0</td><td>0</td><td>0</td><td>0</td></tr>\n",
       "<tr><td>max</td><td>1</td><td>1</td><td>1</td><td>0</td><td>1</td><td>1</td><td>1</td><td>1</td><td>1</td><td>1</td><td>1</td><td>0</td><td>1</td><td>1</td><td>1</td><td>1</td><td>0</td><td>0</td><td>1</td><td>1</td></tr>\n",
       "</table>\n"
      ],
      "text/plain": [
       "+-------+-------------------+--------------------+---------------------------+--------------------+-------------------+--------------------+--------------------+-------------------------------+-----------------------+--------------------------+-------------------+----------------------+---------------------+-------------------+----------------------+-----------------------------------------------------+-----------------------+---------------------------------+----------------------+-------------------+\n",
       "|summary|      CP__violation|       Feynman_graph|Feynman_graph__higher-order|Higgs_particle__mass|       bibliography|  critical_phenomena|effective_Lagrangian|electron_positron__annihilation|electroweak_interaction|neutrino__cosmic_radiation|     neutrino__mass|neutrino__mixing_angle|neutrino__oscillation|    neutrino__solar|numerical_calculations|numerical_calculations__interpretation_of_experiments|p_p__inclusive_reaction|perturbation_theory__higher-order|quantum_chromodynamics|      supersymmetry|\n",
       "+-------+-------------------+--------------------+---------------------------+--------------------+-------------------+--------------------+--------------------+-------------------------------+-----------------------+--------------------------+-------------------+----------------------+---------------------+-------------------+----------------------+-----------------------------------------------------+-----------------------+---------------------------------+----------------------+-------------------+\n",
       "|  count|                 43|                  43|                         43|                  43|                 43|                  43|                  43|                             43|                     43|                        43|                 43|                    43|                   43|                 43|                    43|                                                   43|                     43|                               43|                    43|                 43|\n",
       "|   mean|0.27906976744186046|0.023255813953488372|       0.023255813953488372|                 0.0|0.16279069767441862|0.023255813953488372|0.023255813953488372|           0.046511627906976744|     0.3488372093023256|       0.09302325581395349|0.06976744186046512|                   0.0|  0.13953488372093023|0.11627906976744186|  0.023255813953488372|                                 0.023255813953488372|                    0.0|                              0.0|    0.3488372093023256|0.27906976744186046|\n",
       "| stddev| 0.4538502687508102| 0.15249857033260464|        0.15249857033260467|                 0.0| 0.3735436838188142| 0.15249857033260467| 0.15249857033260467|            0.21308263231644634|     0.4822428221704121|         0.293902598732179|0.25776963111323353|                   0.0|    0.350604603563426|0.32435300622428814|   0.15249857033260467|                                  0.15249857033260467|                    0.0|                              0.0|   0.48224282217041203|0.45385026875081025|\n",
       "|    min|                  0|                   0|                          0|                   0|                  0|                   0|                   0|                              0|                      0|                         0|                  0|                     0|                    0|                  0|                     0|                                                    0|                      0|                                0|                     0|                  0|\n",
       "|    max|                  1|                   1|                          1|                   0|                  1|                   1|                   1|                              1|                      1|                         1|                  1|                     0|                    1|                  1|                     1|                                                    1|                      0|                                0|                     1|                  1|\n",
       "+-------+-------------------+--------------------+---------------------------+--------------------+-------------------+--------------------+--------------------+-------------------------------+-----------------------+--------------------------+-------------------+----------------------+---------------------+-------------------+----------------------+-----------------------------------------------------+-----------------------+---------------------------------+----------------------+-------------------+"
      ]
     },
     "execution_count": 79,
     "metadata": {},
     "output_type": "execute_result"
    }
   ],
   "source": [
    "\n",
    "predictions.filter(\"prediction == 3\").select(keyword_fields).describe()"
   ]
  },
  {
   "cell_type": "code",
   "execution_count": null,
   "id": "dafa1f4e-d677-4bba-b17d-55057ecc98d2",
   "metadata": {},
   "outputs": [],
   "source": []
  }
 ],
 "metadata": {
  "kernelspec": {
   "display_name": "Python 3 (ipykernel)",
   "language": "python",
   "name": "python3"
  },
  "language_info": {
   "codemirror_mode": {
    "name": "ipython",
    "version": 3
   },
   "file_extension": ".py",
   "mimetype": "text/x-python",
   "name": "python",
   "nbconvert_exporter": "python",
   "pygments_lexer": "ipython3",
   "version": "3.9.10"
  }
 },
 "nbformat": 4,
 "nbformat_minor": 5
}
