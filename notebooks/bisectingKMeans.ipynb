{
 "cells": [
  {
   "cell_type": "code",
   "execution_count": 1,
   "id": "09c5c987-984f-4e6f-87c1-8f0aaee5282f",
   "metadata": {
    "tags": []
   },
   "outputs": [],
   "source": [
    "import findspark\n",
    "findspark.init()\n",
    "\n",
    "from pyspark.sql import SparkSession\n",
    "from pyspark.sql.functions import format_number, mean, min, max, corr, stddev\n",
    "from pyspark.sql.functions import (dayofmonth, hour, dayofyear, month, year, weekofyear, format_number, date_format, asc, desc)\n",
    "from pyspark.sql.functions import explode, col, element_at, size, split\n",
    "from pyspark.sql.functions import udf\n",
    "import numpy as np\n",
    "import matplotlib.pyplot as plt\n",
    "#https://www.data4v.com/tutorial-hierarchical-clustering-in-spark-with-bisecting-k-means/"
   ]
  },
  {
   "cell_type": "code",
   "execution_count": 2,
   "id": "71ab0cfa-0f20-40a0-ba01-a2c775e9a136",
   "metadata": {},
   "outputs": [],
   "source": [
    "from pyspark.ml.evaluation import ClusteringEvaluator\n",
    "from pyspark.ml.feature import VectorAssembler\n",
    "\n",
    "from pyspark.ml.clustering import KMeans, BisectingKMeans\n"
   ]
  },
  {
   "cell_type": "code",
   "execution_count": 3,
   "id": "305ba07a-4bdf-411a-9eef-2d686d9d718c",
   "metadata": {
    "tags": []
   },
   "outputs": [],
   "source": [
    "spark = SparkSession.builder \\\n",
    "    .appName('bisectingK') \\\n",
    "    .master('local[*]') \\\n",
    "    .config('spark.sql.execution.arrow.pyspark.enabled', True) \\\n",
    "    .config('spark.sql.session.timeZone', 'UTC') \\\n",
    "    .config('spark.driver.memory','8g') \\\n",
    "    .config('spark.ui.showConsoleProgress', True) \\\n",
    "    .config('spark.sql.repl.eagerEval.enabled', True) \\\n",
    "    .getOrCreate()"
   ]
  },
  {
   "cell_type": "code",
   "execution_count": 4,
   "id": "697295f8-13a4-434a-99bb-fefac2ae13b8",
   "metadata": {},
   "outputs": [],
   "source": [
    "# Dummy table created ny AL_read_papers notebook\n",
    "# Original data is first 30000 papers from 2010 with 50 assigned keywords\n",
    "paps = spark.read.json(\"../data/processed/papers_2010/\")"
   ]
  },
  {
   "cell_type": "code",
   "execution_count": 5,
   "id": "5f40a9b5-0f9b-4a8d-bc73-5fb68b1d3c2e",
   "metadata": {},
   "outputs": [
    {
     "name": "stdout",
     "output_type": "stream",
     "text": [
      "3000\n",
      "2996\n",
      "2310\n"
     ]
    }
   ],
   "source": [
    "#Adding an ID to each paper so the abstract data analysis can be attributed to a paper\n",
    "from pyspark.sql.functions import monotonically_increasing_id\n",
    "papersWIDs = paps.withColumn(\"id\", monotonically_increasing_id())\n",
    "# remving nans\n",
    "print(papersWIDs.count())\n",
    "papersWIDs_woNA = papersWIDs.dropna()\n",
    "print(papersWIDs_woNA.count())\n",
    "papersWIDs_woNA_woNone = papersWIDs_woNA.filter(\"None == 0\")\n",
    "print(papersWIDs_woNA_woNone.count())"
   ]
  },
  {
   "cell_type": "markdown",
   "id": "9c3ca08f-7c1f-4b58-82f2-806aee90fe35",
   "metadata": {},
   "source": [
    "Included all columns except title and ID since those are strings and identifiers"
   ]
  },
  {
   "cell_type": "code",
   "execution_count": 6,
   "id": "7aefefcd-dd77-4fe2-bfe7-90c7ed9f35c6",
   "metadata": {},
   "outputs": [
    {
     "data": {
      "text/plain": [
       "['11_30_Rd',\n",
       " '12_15_Ff',\n",
       " '12_38_Aw',\n",
       " '12_38_Bx',\n",
       " '12_38_Mh',\n",
       " '12_39_Fe',\n",
       " '12_60_Jv',\n",
       " '14_60_Pq',\n",
       " '95_35_+d',\n",
       " '98_80_Cq',\n",
       " 'Batavia_TEVATRON_Coll',\n",
       " 'Beyond_Standard_Model',\n",
       " 'Brookhaven_RHIC_Coll',\n",
       " 'CERN_LHC_Coll',\n",
       " 'CP__violation',\n",
       " 'Higgs_particle__mass',\n",
       " 'None',\n",
       " 'QCD',\n",
       " 'background',\n",
       " 'channel_cross_section',\n",
       " 'citation_count',\n",
       " 'coupling__Yukawa',\n",
       " 'critical_phenomena',\n",
       " 'dark_matter',\n",
       " 'dark_matter__mass',\n",
       " 'dark_matter__relic_density',\n",
       " 'effective_Lagrangian',\n",
       " 'field_theory__scalar',\n",
       " 'finite_temperature',\n",
       " 'gold',\n",
       " 'heavy_ion__scattering',\n",
       " 'higher-order__1',\n",
       " 'minimal_supersymmetric_standard_model',\n",
       " 'neutrino__mass',\n",
       " 'neutrino__oscillation',\n",
       " 'new_physics',\n",
       " 'num_refs',\n",
       " 'number_of_pages',\n",
       " 'numerical_calculations',\n",
       " 'numerical_calculations__Monte_Carlo',\n",
       " 'p_p__inclusive_reaction',\n",
       " 'parton__distribution_function',\n",
       " 'potential__chemical',\n",
       " 'quantum_chromodynamics',\n",
       " 'quantum_chromodynamics__perturbation_theory',\n",
       " 'quantum_electrodynamics',\n",
       " 'quark__mass',\n",
       " 'quark_gluon__plasma',\n",
       " 'quark_mass',\n",
       " 'renormalization',\n",
       " 'seesaw_model',\n",
       " 'supersymmetry',\n",
       " 'supersymmetry__symmetry_breaking',\n",
       " 'title',\n",
       " 'transverse_momentum__momentum_spectrum',\n",
       " 'id']"
      ]
     },
     "execution_count": 6,
     "metadata": {},
     "output_type": "execute_result"
    }
   ],
   "source": [
    "papersWIDs_woNA_woNone.columns"
   ]
  },
  {
   "cell_type": "code",
   "execution_count": 10,
   "id": "22e478e3-17c9-4050-b398-69c61da8bf00",
   "metadata": {},
   "outputs": [],
   "source": [
    "from pyspark.ml.feature import VectorAssembler\n",
    "assemble=VectorAssembler(\n",
    "    inputCols=[c for c in papersWIDs_woNA_woNone.columns if not c in ['id', 'title']],\n",
    "    outputCol='features')\n",
    "assembled_data=assemble.transform(papersWIDs_woNA_woNone)\n",
    "#assembled_data.show(2)"
   ]
  },
  {
   "cell_type": "markdown",
   "id": "08a2b8df-dea0-4ef4-934e-f583cebbd2ec",
   "metadata": {},
   "source": [
    "# Scale the Data"
   ]
  },
  {
   "cell_type": "code",
   "execution_count": 11,
   "id": "aa566c57-924c-4e43-934d-2027b038ee8c",
   "metadata": {},
   "outputs": [],
   "source": [
    "from pyspark.ml.feature import StandardScaler\n",
    "scale=StandardScaler(inputCol='features',outputCol='standardized')\n",
    "data_scale=scale.fit(assembled_data)\n",
    "data_scale_output=data_scale.transform(assembled_data)\n",
    "#data_scale_output.show(2)"
   ]
  },
  {
   "cell_type": "markdown",
   "id": "dded0b94-9e5b-4a38-a8fd-75e1a3036ec3",
   "metadata": {},
   "source": [
    "# Fit the model"
   ]
  },
  {
   "cell_type": "code",
   "execution_count": 12,
   "id": "134cbae9-4bc1-4d83-9f87-975d9e10a250",
   "metadata": {},
   "outputs": [
    {
     "name": "stdout",
     "output_type": "stream",
     "text": [
      "[................................................]\n",
      "[................................................"
     ]
    }
   ],
   "source": [
    "from pyspark.ml.clustering import BisectingKMeans\n",
    "from pyspark.ml.evaluation import ClusteringEvaluator\n",
    "\n",
    "silhouette_scores=[]\n",
    "evaluator = ClusteringEvaluator(featuresCol='features', \\\n",
    "metricName='silhouette')\n",
    "print(\"[\"+(\"\".join([\".\"]*len(range(2,50))))+\"]\")\n",
    "print(\"[\", end=\"\")\n",
    "for K in range(2,50):\n",
    "    print(\".\", end=\"\")\n",
    "    BKMeans_=BisectingKMeans(featuresCol='features', k=K, minDivisibleClusterSize =1)\n",
    "\n",
    "    BKMeans_fit=BKMeans_.fit(assembled_data)\n",
    "\n",
    "    BKMeans_transform=BKMeans_fit.transform(assembled_data) \n",
    "\n",
    "    evaluation_score=evaluator.evaluate(BKMeans_transform)\n",
    "\n",
    "    silhouette_scores.append(evaluation_score)"
   ]
  },
  {
   "cell_type": "code",
   "execution_count": 13,
   "id": "ee367526-02b5-42ae-a3d9-50170b2a96bd",
   "metadata": {},
   "outputs": [
    {
     "data": {
      "text/plain": [
       "Text(0, 0.5, 'Silhouette Score')"
      ]
     },
     "execution_count": 13,
     "metadata": {},
     "output_type": "execute_result"
    },
    {
     "data": {
      "image/png": "[encoded data removed]",
      "text/plain": [
       "<Figure size 720x576 with 1 Axes>"
      ]
     },
     "metadata": {
      "needs_background": "light"
     },
     "output_type": "display_data"
    }
   ],
   "source": [
    "import matplotlib.pyplot as plt\n",
    "fig, ax = plt.subplots(1,1, figsize =(10,8))\n",
    "ax.plot(range(2,50),silhouette_scores)\n",
    "plt.axvline(x=4, linestyle = \"--\")\n",
    "ax.set_xlabel('Number of Clusters')\n",
    "ax.set_ylabel('Silhouette Score')"
   ]
  },
  {
   "cell_type": "markdown",
   "id": "09adfd0e-924e-4cd4-b397-9e8d5b117097",
   "metadata": {},
   "source": [
    "The predictions seem pretty stable. With k=1  clusters' sizes and centroid positions do not depend strongly on the seed"
   ]
  },
  {
   "cell_type": "code",
   "execution_count": 38,
   "id": "167b3ef7-d7a5-4bd6-9ca4-abf3aaf7b6e7",
   "metadata": {},
   "outputs": [
    {
     "name": "stdout",
     "output_type": "stream",
     "text": [
      "seed= 0 \t [519, 495, 478, 353, 305, 122, 24, 8, 4, 2] \t [0.07, 0.04, 0.01, 0.03, 0.01, 0.02, 0.08, 0.0, 0.0, 0.0]\n"
     ]
    },
    {
     "name": "stderr",
     "output_type": "stream",
     "text": [
      "/usr/local/spark/python/pyspark/sql/context.py:125: FutureWarning: Deprecated in 3.0.0. Use SparkSession.builder.getOrCreate() instead.\n",
      "  warnings.warn(\n"
     ]
    },
    {
     "name": "stdout",
     "output_type": "stream",
     "text": [
      "seed= 1 \t [519, 495, 478, 353, 305, 122, 26, 10, 1, 1] \t [0.07, 0.04, 0.03, 0.01, 0.01, 0.02, 0.08, 0.0, 0.0, 0.0]\n"
     ]
    },
    {
     "name": "stderr",
     "output_type": "stream",
     "text": [
      "/usr/local/spark/python/pyspark/sql/context.py:125: FutureWarning: Deprecated in 3.0.0. Use SparkSession.builder.getOrCreate() instead.\n",
      "  warnings.warn(\n"
     ]
    },
    {
     "name": "stdout",
     "output_type": "stream",
     "text": [
      "seed= 2 \t [519, 495, 478, 353, 305, 122, 26, 10, 1, 1] \t [0.07, 0.04, 0.03, 0.01, 0.01, 0.02, 0.08, 0.0, 0.0, 0.0]\n"
     ]
    },
    {
     "name": "stderr",
     "output_type": "stream",
     "text": [
      "/usr/local/spark/python/pyspark/sql/context.py:125: FutureWarning: Deprecated in 3.0.0. Use SparkSession.builder.getOrCreate() instead.\n",
      "  warnings.warn(\n"
     ]
    },
    {
     "name": "stdout",
     "output_type": "stream",
     "text": [
      "seed= 3 \t [518, 496, 478, 339, 305, 136, 27, 9, 1, 1] \t [0.07, 0.04, 0.01, 0.03, 0.01, 0.01, 0.07, 0.0, 0.0, 0.0]\n"
     ]
    },
    {
     "name": "stderr",
     "output_type": "stream",
     "text": [
      "/usr/local/spark/python/pyspark/sql/context.py:125: FutureWarning: Deprecated in 3.0.0. Use SparkSession.builder.getOrCreate() instead.\n",
      "  warnings.warn(\n"
     ]
    },
    {
     "name": "stdout",
     "output_type": "stream",
     "text": [
      "seed= 4 \t [536, 506, 470, 334, 285, 141, 24, 9, 4, 1] \t [0.07, 0.03, 0.01, 0.03, 0.01, 0.02, 0.08, 0.0, 0.0, 0.0]\n"
     ]
    },
    {
     "name": "stderr",
     "output_type": "stream",
     "text": [
      "/usr/local/spark/python/pyspark/sql/context.py:125: FutureWarning: Deprecated in 3.0.0. Use SparkSession.builder.getOrCreate() instead.\n",
      "  warnings.warn(\n"
     ]
    },
    {
     "name": "stdout",
     "output_type": "stream",
     "text": [
      "seed= 5 \t [533, 509, 465, 353, 290, 122, 26, 7, 3, 2] \t [0.07, 0.03, 0.03, 0.01, 0.01, 0.02, 0.08, 0.0, 0.0, 0.0]\n"
     ]
    },
    {
     "name": "stderr",
     "output_type": "stream",
     "text": [
      "/usr/local/spark/python/pyspark/sql/context.py:125: FutureWarning: Deprecated in 3.0.0. Use SparkSession.builder.getOrCreate() instead.\n",
      "  warnings.warn(\n"
     ]
    },
    {
     "name": "stdout",
     "output_type": "stream",
     "text": [
      "seed= 6 \t [519, 495, 491, 336, 292, 139, 24, 8, 4, 2] \t [0.07, 0.04, 0.01, 0.03, 0.01, 0.01, 0.08, 0.0, 0.0, 0.0]\n"
     ]
    },
    {
     "name": "stderr",
     "output_type": "stream",
     "text": [
      "/usr/local/spark/python/pyspark/sql/context.py:125: FutureWarning: Deprecated in 3.0.0. Use SparkSession.builder.getOrCreate() instead.\n",
      "  warnings.warn(\n"
     ]
    },
    {
     "name": "stdout",
     "output_type": "stream",
     "text": [
      "seed= 7 \t [519, 495, 491, 332, 292, 143, 24, 8, 4, 2] \t [0.07, 0.04, 0.01, 0.03, 0.01, 0.02, 0.08, 0.0, 0.0, 0.0]\n"
     ]
    },
    {
     "name": "stderr",
     "output_type": "stream",
     "text": [
      "/usr/local/spark/python/pyspark/sql/context.py:125: FutureWarning: Deprecated in 3.0.0. Use SparkSession.builder.getOrCreate() instead.\n",
      "  warnings.warn(\n"
     ]
    },
    {
     "name": "stdout",
     "output_type": "stream",
     "text": [
      "seed= 8 \t [518, 496, 478, 353, 305, 122, 24, 8, 4, 2] \t [0.07, 0.04, 0.01, 0.03, 0.01, 0.02, 0.08, 0.0, 0.0, 0.0]\n",
      "seed= 9 \t [519, 495, 478, 336, 305, 139, 24, 8, 4, 2] \t [0.07, 0.04, 0.03, 0.01, 0.01, 0.01, 0.08, 0.0, 0.0, 0.0]\n"
     ]
    },
    {
     "name": "stderr",
     "output_type": "stream",
     "text": [
      "/usr/local/spark/python/pyspark/sql/context.py:125: FutureWarning: Deprecated in 3.0.0. Use SparkSession.builder.getOrCreate() instead.\n",
      "  warnings.warn(\n"
     ]
    }
   ],
   "source": [
    "for seed in range(10):\n",
    "    BKMeans_=BisectingKMeans(featuresCol='features', k=10, seed = seed)\n",
    "    BKMeans_Model=BKMeans_.fit(assembled_data)\n",
    "    BKMeans_transform=BKMeans_Model.transform(assembled_data)\n",
    "    print(\"seed=\", seed, \"\\t\",\n",
    "        list(BKMeans_Model.summary.predictions.groupby(\"prediction\").count().sort(desc(\"count\")).toPandas()[\"count\"]),\n",
    "        \"\\t\",\n",
    "        [round(C[0],2) for C in BKMeans_Model.clusterCenters()]\n",
    "    )"
   ]
  },
  {
   "cell_type": "markdown",
   "id": "bd7e72ae-4da6-48d7-a466-d1027d781456",
   "metadata": {},
   "source": [
    "Here are meacitation counts per clusters"
   ]
  },
  {
   "cell_type": "code",
   "execution_count": 44,
   "id": "c4097e4a-ef20-41b2-8f9a-89be978ca59c",
   "metadata": {},
   "outputs": [
    {
     "data": {
      "text/html": [
       "<table border='1'>\n",
       "<tr><th>prediction</th><th>mean</th><th>sigma</th><th>count</th></tr>\n",
       "<tr><td>9</td><td>1682.0</td><td>null</td><td>1</td></tr>\n",
       "<tr><td>7</td><td>798.3</td><td>122.73643849050426</td><td>10</td></tr>\n",
       "<tr><td>6</td><td>309.34615384615387</td><td>50.037539753822664</td><td>26</td></tr>\n",
       "<tr><td>4</td><td>102.83852691218131</td><td>48.003071517316215</td><td>353</td></tr>\n",
       "<tr><td>3</td><td>37.4655737704918</td><td>14.600140649623327</td><td>305</td></tr>\n",
       "<tr><td>5</td><td>29.770491803278688</td><td>23.802835752043816</td><td>122</td></tr>\n",
       "<tr><td>2</td><td>12.274058577405858</td><td>8.892922105656515</td><td>478</td></tr>\n",
       "<tr><td>1</td><td>11.206060606060607</td><td>11.447908938541804</td><td>495</td></tr>\n",
       "<tr><td>0</td><td>3.2427745664739884</td><td>4.5900283065017184</td><td>519</td></tr>\n",
       "<tr><td>8</td><td>0.0</td><td>null</td><td>1</td></tr>\n",
       "</table>\n"
      ],
      "text/plain": [
       "+----------+------------------+------------------+-----+\n",
       "|prediction|              mean|             sigma|count|\n",
       "+----------+------------------+------------------+-----+\n",
       "|         9|            1682.0|              null|    1|\n",
       "|         7|             798.3|122.73643849050426|   10|\n",
       "|         6|309.34615384615387|50.037539753822664|   26|\n",
       "|         4|102.83852691218131|48.003071517316215|  353|\n",
       "|         3|  37.4655737704918|14.600140649623327|  305|\n",
       "|         5|29.770491803278688|23.802835752043816|  122|\n",
       "|         2|12.274058577405858| 8.892922105656515|  478|\n",
       "|         1|11.206060606060607|11.447908938541804|  495|\n",
       "|         0|3.2427745664739884|4.5900283065017184|  519|\n",
       "|         8|               0.0|              null|    1|\n",
       "+----------+------------------+------------------+-----+"
      ]
     },
     "execution_count": 44,
     "metadata": {},
     "output_type": "execute_result"
    }
   ],
   "source": [
    "from pyspark.sql.functions import stddev, count as _count, lit\n",
    "\n",
    "BKMeans_Model = BisectingKMeans(featuresCol='features', k=10, seed = 1).fit(assembled_data)\n",
    "BKMeans_Model.summary.predictions.\\\n",
    "    groupby(\"prediction\").agg(\n",
    "        mean(\"citation_count\").alias(\"mean\"),\n",
    "        stddev(\"citation_count\").alias(\"sigma\"),\n",
    "        _count(lit(1)).alias(\"count\")\n",
    "    ).\\\n",
    "    sort(desc(\"mean\"))"
   ]
  },
  {
   "cell_type": "markdown",
   "id": "dab21b28-8d5b-443d-ab27-b51dc53a6ffb",
   "metadata": {},
   "source": [
    "It could seem that the model have the prediction power (sigma<mean), but keep in mind that `citation_count` was also used as a predictor.\n",
    "The result could also depend on the seed"
   ]
  },
  {
   "cell_type": "markdown",
   "id": "7574ec7a-bc50-45d1-a17f-55961d9f0e46",
   "metadata": {},
   "source": [
    "Let us do some visuals. PCA is very usefull for this"
   ]
  },
  {
   "cell_type": "code",
   "execution_count": 52,
   "id": "4aed1f2e-3233-4512-9f63-6eb9a9346c83",
   "metadata": {},
   "outputs": [
    {
     "data": {
      "image/png": "[encoded data removed]",
      "text/plain": [
       "<Figure size 537.375x432 with 1 Axes>"
      ]
     },
     "metadata": {
      "needs_background": "light"
     },
     "output_type": "display_data"
    }
   ],
   "source": [
    "from pyspark.ml.feature import PCA as PCAml\n",
    "pca = PCAml(k=2, inputCol=\"features\", outputCol=\"pca\")\n",
    "pca_model = pca.fit(assembled_data)\n",
    "pca_transformed = pca_model.transform(assembled_data)\n",
    "\n",
    "import numpy as np\n",
    "X_pca = pca_transformed.rdd.map(lambda row: row.pca).collect()\n",
    "X_pca = np.array(X_pca)\n",
    "\n",
    "\n",
    "cluster_assignment = np.array(BKMeans_transform.rdd.map(lambda row: row.prediction).collect()).reshape(-1,1)\n",
    "\n",
    "import seaborn as sns\n",
    "import matplotlib.pyplot as plt\n",
    "import pandas as pd\n",
    "pca_data = np.hstack((X_pca,cluster_assignment))\n",
    "\n",
    "pca_df = pd.DataFrame(data=pca_data, columns=(\"1st_principal\", \"2nd_principal\",\"cluster_assignment\"))\n",
    "sns.FacetGrid(pca_df,hue=\"cluster_assignment\", height=6).map(plt.scatter, '1st_principal', '2nd_principal' ).add_legend()\n",
    "plt.xlim(0, 750)\n",
    "plt.ylim(-500, 1000)\n",
    "plt.show()"
   ]
  },
  {
   "cell_type": "markdown",
   "id": "485d5856-1039-4454-b375-8da92cfd513b",
   "metadata": {},
   "source": [
    "The clustering is evident"
   ]
  },
  {
   "cell_type": "code",
   "execution_count": null,
   "id": "3881a666-2c8c-4d8e-9928-043005f8d6cb",
   "metadata": {},
   "outputs": [],
   "source": []
  }
 ],
 "metadata": {
  "kernelspec": {
   "display_name": "Python 3 (ipykernel)",
   "language": "python",
   "name": "python3"
  },
  "language_info": {
   "codemirror_mode": {
    "name": "ipython",
    "version": 3
   },
   "file_extension": ".py",
   "mimetype": "text/x-python",
   "name": "python",
   "nbconvert_exporter": "python",
   "pygments_lexer": "ipython3",
   "version": "3.9.10"
  }
 },
 "nbformat": 4,
 "nbformat_minor": 5
}
