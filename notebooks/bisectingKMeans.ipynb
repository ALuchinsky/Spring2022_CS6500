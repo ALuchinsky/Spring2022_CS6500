{
 "cells": [
  {
   "cell_type": "code",
   "execution_count": 1,
   "id": "09c5c987-984f-4e6f-87c1-8f0aaee5282f",
   "metadata": {
    "tags": []
   },
   "outputs": [],
   "source": [
    "import findspark\n",
    "findspark.init()\n",
    "\n",
    "from pyspark.sql import SparkSession\n",
    "from pyspark.sql.functions import format_number, mean, min, max, corr, stddev\n",
    "from pyspark.sql.functions import (dayofmonth, hour, dayofyear, month, year, weekofyear, format_number, date_format, asc, desc)\n",
    "from pyspark.sql.functions import explode, col, element_at, size, split\n",
    "from pyspark.sql.functions import udf\n",
    "import numpy as np\n",
    "import matplotlib.pyplot as plt\n",
    "#https://www.data4v.com/tutorial-hierarchical-clustering-in-spark-with-bisecting-k-means/"
   ]
  },
  {
   "cell_type": "code",
   "execution_count": 2,
   "id": "71ab0cfa-0f20-40a0-ba01-a2c775e9a136",
   "metadata": {},
   "outputs": [],
   "source": [
    "from pyspark.ml.evaluation import ClusteringEvaluator\n",
    "from pyspark.ml.feature import VectorAssembler\n",
    "\n",
    "from pyspark.ml.clustering import KMeans, BisectingKMeans\n"
   ]
  },
  {
   "cell_type": "code",
   "execution_count": 3,
   "id": "305ba07a-4bdf-411a-9eef-2d686d9d718c",
   "metadata": {
    "tags": []
   },
   "outputs": [],
   "source": [
    "spark = SparkSession.builder \\\n",
    "    .appName('bisectingK') \\\n",
    "    .master('local[*]') \\\n",
    "    .config('spark.sql.execution.arrow.pyspark.enabled', True) \\\n",
    "    .config('spark.sql.session.timeZone', 'UTC') \\\n",
    "    .config('spark.driver.memory','8g') \\\n",
    "    .config('spark.ui.showConsoleProgress', True) \\\n",
    "    .config('spark.sql.repl.eagerEval.enabled', True) \\\n",
    "    .getOrCreate()"
   ]
  },
  {
   "cell_type": "code",
   "execution_count": 4,
   "id": "697295f8-13a4-434a-99bb-fefac2ae13b8",
   "metadata": {},
   "outputs": [],
   "source": [
    "paps = spark.read.json(\"/home/jovyan/work/2022_SP_6500_FP_Gu_Luchinsky_Mitchell/data/processed/dummy.json/\")"
   ]
  },
  {
   "cell_type": "code",
   "execution_count": 5,
   "id": "5f40a9b5-0f9b-4a8d-bc73-5fb68b1d3c2e",
   "metadata": {},
   "outputs": [
    {
     "name": "stdout",
     "output_type": "stream",
     "text": [
      "74\n",
      "74\n",
      "66\n"
     ]
    }
   ],
   "source": [
    "#Adding an ID to each paper so the abstract data analysis can be attributed to a paper\n",
    "from pyspark.sql.functions import monotonically_increasing_id\n",
    "papersWIDs = paps.withColumn(\"id\", monotonically_increasing_id())\n",
    "# remving nans\n",
    "print(papersWIDs.count())\n",
    "papersWIDs_woNA = papersWIDs.dropna()\n",
    "print(papersWIDs_woNA.count())\n",
    "papersWIDs_woNA_woNone = papersWIDs_woNA.filter(\"None == 0\")\n",
    "print(papersWIDs_woNA_woNone.count())"
   ]
  },
  {
   "cell_type": "code",
   "execution_count": 6,
   "id": "0beca5fa-1111-42cd-8fb4-8e681f68054f",
   "metadata": {},
   "outputs": [
    {
     "data": {
      "text/plain": [
       "['12_38_-t',\n",
       " '12_38_Bx',\n",
       " '13_25_Gv',\n",
       " '13_66_Bc',\n",
       " '14_40_Pq',\n",
       " 'CERN_LHC_Coll',\n",
       " 'J_psi_3100___pair_production',\n",
       " 'LHC-B',\n",
       " 'None',\n",
       " 'branching_ratio',\n",
       " 'channel_cross_section',\n",
       " 'charmonium',\n",
       " 'citation_count',\n",
       " 'color__octet',\n",
       " 'color__singlet',\n",
       " 'electron_positron__annihilation',\n",
       " 'light_cone',\n",
       " 'num_refs',\n",
       " 'number_of_pages',\n",
       " 'numerical_calculations',\n",
       " 'p_p__scattering',\n",
       " 'quantum_chromodynamics__nonrelativistic',\n",
       " 'quarkonium__heavy',\n",
       " 'quarkonium__pair_production',\n",
       " 'title',\n",
       " 'id']"
      ]
     },
     "execution_count": 6,
     "metadata": {},
     "output_type": "execute_result"
    }
   ],
   "source": [
    "papersWIDs_woNA_woNone.columns"
   ]
  },
  {
   "cell_type": "markdown",
   "id": "9c3ca08f-7c1f-4b58-82f2-806aee90fe35",
   "metadata": {},
   "source": [
    "Included all columns except title and ID since those are strings and identifiers"
   ]
  },
  {
   "cell_type": "code",
   "execution_count": 7,
   "id": "22e478e3-17c9-4050-b398-69c61da8bf00",
   "metadata": {},
   "outputs": [
    {
     "name": "stdout",
     "output_type": "stream",
     "text": [
      "+--------+--------+--------+--------+--------+-------------+----------------------------+-----+----+---------------+---------------------+----------+--------------+------------+--------------+-------------------------------+----------+--------+---------------+----------------------+---------------+---------------------------------------+-----------------+---------------------------+--------------------+---+--------------------+\n",
      "|12_38_-t|12_38_Bx|13_25_Gv|13_66_Bc|14_40_Pq|CERN_LHC_Coll|J_psi_3100___pair_production|LHC-B|None|branching_ratio|channel_cross_section|charmonium|citation_count|color__octet|color__singlet|electron_positron__annihilation|light_cone|num_refs|number_of_pages|numerical_calculations|p_p__scattering|quantum_chromodynamics__nonrelativistic|quarkonium__heavy|quarkonium__pair_production|               title| id|            features|\n",
      "+--------+--------+--------+--------+--------+-------------+----------------------------+-----+----+---------------+---------------------+----------+--------------+------------+--------------+-------------------------------+----------+--------+---------------+----------------------+---------------+---------------------------------------+-----------------+---------------------------+--------------------+---+--------------------+\n",
      "|       0|       0|       0|       0|       1|            0|                           0|    0|   0|              0|                    0|         0|             0|           0|             0|                              0|         0|      35|             15|                     0|              0|                                      1|                0|                          0|Charmonia product...|  0|(24,[4,17,18,21],...|\n",
      "|       0|       0|       0|       0|       0|            0|                           0|    0|   0|              1|                    0|         0|             4|           0|             0|                              0|         0|      42|             10|                     0|              0|                                      0|                0|                          0|Exclusive decays ...|  1|(24,[9,12,17,18],...|\n",
      "+--------+--------+--------+--------+--------+-------------+----------------------------+-----+----+---------------+---------------------+----------+--------------+------------+--------------+-------------------------------+----------+--------+---------------+----------------------+---------------+---------------------------------------+-----------------+---------------------------+--------------------+---+--------------------+\n",
      "only showing top 2 rows\n",
      "\n"
     ]
    }
   ],
   "source": [
    "from pyspark.ml.feature import VectorAssembler\n",
    "papersWIDs_woNA_woNone.columns\n",
    "assemble=VectorAssembler(inputCols=[\n",
    "'12_38_-t',\n",
    " '12_38_Bx',\n",
    " '13_25_Gv',\n",
    " '13_66_Bc',\n",
    " '14_40_Pq',\n",
    " 'CERN_LHC_Coll',\n",
    " 'J_psi_3100___pair_production',\n",
    " 'LHC-B',\n",
    " 'None',\n",
    " 'branching_ratio',\n",
    " 'channel_cross_section',\n",
    " 'charmonium',\n",
    " 'citation_count',\n",
    " 'color__octet',\n",
    " 'color__singlet',\n",
    " 'electron_positron__annihilation',\n",
    " 'light_cone',\n",
    " 'num_refs',\n",
    " 'number_of_pages',\n",
    " 'numerical_calculations',\n",
    " 'p_p__scattering',\n",
    " 'quantum_chromodynamics__nonrelativistic',\n",
    " 'quarkonium__heavy',\n",
    " 'quarkonium__pair_production',\n",
    " ], outputCol='features')\n",
    "assembled_data=assemble.transform(papersWIDs_woNA_woNone)\n",
    "assembled_data.show(2)"
   ]
  },
  {
   "cell_type": "markdown",
   "id": "08a2b8df-dea0-4ef4-934e-f583cebbd2ec",
   "metadata": {},
   "source": [
    "# Scale the Data"
   ]
  },
  {
   "cell_type": "code",
   "execution_count": 8,
   "id": "aa566c57-924c-4e43-934d-2027b038ee8c",
   "metadata": {},
   "outputs": [
    {
     "name": "stdout",
     "output_type": "stream",
     "text": [
      "+--------+--------+--------+--------+--------+-------------+----------------------------+-----+----+---------------+---------------------+----------+--------------+------------+--------------+-------------------------------+----------+--------+---------------+----------------------+---------------+---------------------------------------+-----------------+---------------------------+--------------------+---+--------------------+--------------------+\n",
      "|12_38_-t|12_38_Bx|13_25_Gv|13_66_Bc|14_40_Pq|CERN_LHC_Coll|J_psi_3100___pair_production|LHC-B|None|branching_ratio|channel_cross_section|charmonium|citation_count|color__octet|color__singlet|electron_positron__annihilation|light_cone|num_refs|number_of_pages|numerical_calculations|p_p__scattering|quantum_chromodynamics__nonrelativistic|quarkonium__heavy|quarkonium__pair_production|               title| id|            features|        standardized|\n",
      "+--------+--------+--------+--------+--------+-------------+----------------------------+-----+----+---------------+---------------------+----------+--------------+------------+--------------+-------------------------------+----------+--------+---------------+----------------------+---------------+---------------------------------------+-----------------+---------------------------+--------------------+---+--------------------+--------------------+\n",
      "|       0|       0|       0|       0|       1|            0|                           0|    0|   0|              0|                    0|         0|             0|           0|             0|                              0|         0|      35|             15|                     0|              0|                                      1|                0|                          0|Charmonia product...|  0|(24,[4,17,18,21],...|(24,[4,17,18,21],...|\n",
      "|       0|       0|       0|       0|       0|            0|                           0|    0|   0|              1|                    0|         0|             4|           0|             0|                              0|         0|      42|             10|                     0|              0|                                      0|                0|                          0|Exclusive decays ...|  1|(24,[9,12,17,18],...|(24,[9,12,17,18],...|\n",
      "+--------+--------+--------+--------+--------+-------------+----------------------------+-----+----+---------------+---------------------+----------+--------------+------------+--------------+-------------------------------+----------+--------+---------------+----------------------+---------------+---------------------------------------+-----------------+---------------------------+--------------------+---+--------------------+--------------------+\n",
      "only showing top 2 rows\n",
      "\n"
     ]
    }
   ],
   "source": [
    "from pyspark.ml.feature import StandardScaler\n",
    "scale=StandardScaler(inputCol='features',outputCol='standardized')\n",
    "data_scale=scale.fit(assembled_data)\n",
    "data_scale_output=data_scale.transform(assembled_data)\n",
    "data_scale_output.show(2)"
   ]
  },
  {
   "cell_type": "markdown",
   "id": "dded0b94-9e5b-4a38-a8fd-75e1a3036ec3",
   "metadata": {},
   "source": [
    "# Fit the model"
   ]
  },
  {
   "cell_type": "code",
   "execution_count": 9,
   "id": "134cbae9-4bc1-4d83-9f87-975d9e10a250",
   "metadata": {},
   "outputs": [],
   "source": [
    "from pyspark.ml.clustering import BisectingKMeans\n",
    "from pyspark.ml.evaluation import ClusteringEvaluator\n",
    "\n",
    "silhouette_scores=[]\n",
    "evaluator = ClusteringEvaluator(featuresCol='features', \\\n",
    "metricName='silhouette')\n",
    "for K in range(2,50):\n",
    "\n",
    "    BKMeans_=BisectingKMeans(featuresCol='features', k=K, minDivisibleClusterSize =1)\n",
    "\n",
    "    BKMeans_fit=BKMeans_.fit(assembled_data)\n",
    "\n",
    "    BKMeans_transform=BKMeans_fit.transform(assembled_data) \n",
    "\n",
    "    evaluation_score=evaluator.evaluate(BKMeans_transform)\n",
    "\n",
    "    silhouette_scores.append(evaluation_score)"
   ]
  },
  {
   "cell_type": "code",
   "execution_count": 10,
   "id": "ee367526-02b5-42ae-a3d9-50170b2a96bd",
   "metadata": {},
   "outputs": [
    {
     "data": {
      "text/plain": [
       "Text(0, 0.5, 'Silhouette Score')"
      ]
     },
     "execution_count": 10,
     "metadata": {},
     "output_type": "execute_result"
    },
    {
     "data": {
      "image/png": "[encoded data removed]",
      "text/plain": [
       "<Figure size 720x576 with 1 Axes>"
      ]
     },
     "metadata": {
      "needs_background": "light"
     },
     "output_type": "display_data"
    }
   ],
   "source": [
    "import matplotlib.pyplot as plt\n",
    "fig, ax = plt.subplots(1,1, figsize =(10,8))\n",
    "ax.plot(range(2,50),silhouette_scores)\n",
    "plt.axvline(x=4, linestyle = \"--\")\n",
    "ax.set_xlabel('Number of Clusters')\n",
    "ax.set_ylabel('Silhouette Score')"
   ]
  },
  {
   "cell_type": "code",
   "execution_count": 11,
   "id": "4d4a3c85-ce12-49ee-9d01-a365a35c03d3",
   "metadata": {},
   "outputs": [],
   "source": [
    "BKMeans_=BisectingKMeans(featuresCol='features', k=4) \n",
    "BKMeans_Model=BKMeans_.fit(assembled_data)\n",
    "BKMeans_transform=BKMeans_Model.transform(assembled_data)"
   ]
  },
  {
   "cell_type": "code",
   "execution_count": 12,
   "id": "82c87d5f-44b5-4014-b170-4bd5bf253773",
   "metadata": {},
   "outputs": [],
   "source": [
    "from pyspark.ml.feature import PCA as PCAml\n",
    "pca = PCAml(k=2, inputCol=\"features\", outputCol=\"pca\")\n",
    "pca_model = pca.fit(assembled_data)\n",
    "pca_transformed = pca_model.transform(assembled_data)"
   ]
  },
  {
   "cell_type": "code",
   "execution_count": 13,
   "id": "79c4c8f4-acdc-406a-bac1-d174f9764d61",
   "metadata": {},
   "outputs": [],
   "source": [
    "import numpy as np\n",
    "X_pca = pca_transformed.rdd.map(lambda row: row.pca).collect()\n",
    "X_pca = np.array(X_pca)\n"
   ]
  },
  {
   "cell_type": "code",
   "execution_count": 14,
   "id": "9d807106-23f7-4fa6-9c0d-4bf85a3f4321",
   "metadata": {},
   "outputs": [],
   "source": [
    "cluster_assignment = np.array(BKMeans_transform.rdd.map(lambda row: row.prediction).collect()).reshape(-1,1)"
   ]
  },
  {
   "cell_type": "code",
   "execution_count": 15,
   "id": "a70bb08a-09fe-4f02-add0-c83492e8e970",
   "metadata": {},
   "outputs": [
    {
     "data": {
      "image/png": "[encoded data removed]",
      "text/plain": [
       "<Figure size 537.375x432 with 1 Axes>"
      ]
     },
     "metadata": {
      "needs_background": "light"
     },
     "output_type": "display_data"
    }
   ],
   "source": [
    "import seaborn as sns\n",
    "import matplotlib.pyplot as plt\n",
    "import pandas as pd\n",
    "pca_data = np.hstack((X_pca,cluster_assignment))\n",
    "\n",
    "pca_df = pd.DataFrame(data=pca_data, columns=(\"1st_principal\", \"2nd_principal\",\"cluster_assignment\"))\n",
    "sns.FacetGrid(pca_df,hue=\"cluster_assignment\", height=6).map(plt.scatter, '1st_principal', '2nd_principal' ).add_legend()\n",
    "plt.show()"
   ]
  },
  {
   "cell_type": "code",
   "execution_count": 16,
   "id": "cc59bb43-6700-427d-ac87-f95f1f097685",
   "metadata": {},
   "outputs": [
    {
     "data": {
      "text/plain": [
       "array([[1],\n",
       "       [1],\n",
       "       [1],\n",
       "       [0],\n",
       "       [1],\n",
       "       [0],\n",
       "       [2],\n",
       "       [1],\n",
       "       [1],\n",
       "       [0],\n",
       "       [1],\n",
       "       [1],\n",
       "       [1],\n",
       "       [0],\n",
       "       [2],\n",
       "       [1],\n",
       "       [1],\n",
       "       [0],\n",
       "       [1],\n",
       "       [1],\n",
       "       [1],\n",
       "       [0],\n",
       "       [2],\n",
       "       [0],\n",
       "       [0],\n",
       "       [0],\n",
       "       [0],\n",
       "       [0],\n",
       "       [1],\n",
       "       [0],\n",
       "       [0],\n",
       "       [2],\n",
       "       [2],\n",
       "       [0],\n",
       "       [3],\n",
       "       [0],\n",
       "       [0],\n",
       "       [3],\n",
       "       [0],\n",
       "       [0],\n",
       "       [1],\n",
       "       [0],\n",
       "       [0],\n",
       "       [1],\n",
       "       [2],\n",
       "       [2],\n",
       "       [2],\n",
       "       [0],\n",
       "       [1],\n",
       "       [0],\n",
       "       [1],\n",
       "       [1],\n",
       "       [1],\n",
       "       [3],\n",
       "       [0],\n",
       "       [2],\n",
       "       [0],\n",
       "       [2],\n",
       "       [0],\n",
       "       [3],\n",
       "       [2],\n",
       "       [0],\n",
       "       [0],\n",
       "       [0],\n",
       "       [0],\n",
       "       [0]])"
      ]
     },
     "execution_count": 16,
     "metadata": {},
     "output_type": "execute_result"
    }
   ],
   "source": [
    "cluster_assignment"
   ]
  },
  {
   "cell_type": "code",
   "execution_count": 17,
   "id": "43330ff4-3655-4734-b42d-23bc49e25e76",
   "metadata": {},
   "outputs": [
    {
     "data": {
      "text/html": [
       "<table border='1'>\n",
       "<tr><th>12_38_-t</th><th>12_38_Bx</th><th>13_25_Gv</th><th>13_66_Bc</th><th>14_40_Pq</th><th>CERN_LHC_Coll</th><th>J_psi_3100___pair_production</th><th>LHC-B</th><th>None</th><th>branching_ratio</th><th>channel_cross_section</th><th>charmonium</th><th>citation_count</th><th>color__octet</th><th>color__singlet</th><th>electron_positron__annihilation</th><th>light_cone</th><th>num_refs</th><th>number_of_pages</th><th>numerical_calculations</th><th>p_p__scattering</th><th>quantum_chromodynamics__nonrelativistic</th><th>quarkonium__heavy</th><th>quarkonium__pair_production</th><th>title</th><th>id</th><th>features</th><th>prediction</th></tr>\n",
       "<tr><td>0</td><td>0</td><td>0</td><td>0</td><td>1</td><td>0</td><td>0</td><td>0</td><td>0</td><td>0</td><td>0</td><td>0</td><td>0</td><td>0</td><td>0</td><td>0</td><td>0</td><td>35</td><td>15</td><td>0</td><td>0</td><td>1</td><td>0</td><td>0</td><td>Charmonia product...</td><td>0</td><td>(24,[4,17,18,21],...</td><td>1</td></tr>\n",
       "<tr><td>0</td><td>0</td><td>0</td><td>0</td><td>0</td><td>0</td><td>0</td><td>0</td><td>0</td><td>1</td><td>0</td><td>0</td><td>4</td><td>0</td><td>0</td><td>0</td><td>0</td><td>42</td><td>10</td><td>0</td><td>0</td><td>0</td><td>0</td><td>0</td><td>Exclusive decays ...</td><td>1</td><td>(24,[9,12,17,18],...</td><td>1</td></tr>\n",
       "<tr><td>0</td><td>0</td><td>0</td><td>0</td><td>0</td><td>1</td><td>0</td><td>1</td><td>0</td><td>0</td><td>0</td><td>0</td><td>1</td><td>0</td><td>0</td><td>0</td><td>0</td><td>40</td><td>8</td><td>0</td><td>0</td><td>0</td><td>0</td><td>0</td><td>Doubly heavy bary...</td><td>2</td><td>(24,[5,7,12,17,18...</td><td>1</td></tr>\n",
       "<tr><td>0</td><td>0</td><td>0</td><td>0</td><td>0</td><td>0</td><td>0</td><td>0</td><td>0</td><td>0</td><td>0</td><td>0</td><td>13</td><td>0</td><td>0</td><td>0</td><td>0</td><td>21</td><td>10</td><td>1</td><td>0</td><td>0</td><td>0</td><td>0</td><td>Weak decays of do...</td><td>3</td><td>(24,[12,17,18,19]...</td><td>0</td></tr>\n",
       "<tr><td>0</td><td>0</td><td>0</td><td>0</td><td>0</td><td>1</td><td>0</td><td>1</td><td>0</td><td>0</td><td>0</td><td>0</td><td>0</td><td>0</td><td>0</td><td>0</td><td>0</td><td>49</td><td>8</td><td>0</td><td>0</td><td>0</td><td>0</td><td>0</td><td>$B_c$ excitations...</td><td>4</td><td>(24,[5,7,17,18],[...</td><td>1</td></tr>\n",
       "<tr><td>0</td><td>0</td><td>0</td><td>0</td><td>0</td><td>0</td><td>0</td><td>0</td><td>0</td><td>1</td><td>0</td><td>0</td><td>2</td><td>0</td><td>0</td><td>0</td><td>0</td><td>22</td><td>7</td><td>1</td><td>0</td><td>0</td><td>0</td><td>0</td><td>Excited $\\rho$ me...</td><td>5</td><td>(24,[9,12,17,18,1...</td><td>0</td></tr>\n",
       "<tr><td>0</td><td>0</td><td>0</td><td>0</td><td>0</td><td>1</td><td>0</td><td>1</td><td>0</td><td>0</td><td>0</td><td>0</td><td>30</td><td>0</td><td>0</td><td>0</td><td>0</td><td>56</td><td>14</td><td>0</td><td>0</td><td>0</td><td>0</td><td>0</td><td>Doubly heavy bary...</td><td>6</td><td>(24,[5,7,12,17,18...</td><td>2</td></tr>\n",
       "<tr><td>0</td><td>0</td><td>0</td><td>0</td><td>1</td><td>0</td><td>0</td><td>0</td><td>0</td><td>1</td><td>0</td><td>0</td><td>1</td><td>1</td><td>0</td><td>0</td><td>0</td><td>30</td><td>9</td><td>1</td><td>0</td><td>1</td><td>0</td><td>0</td><td>Charmonia Product...</td><td>7</td><td>(24,[4,9,12,13,17...</td><td>1</td></tr>\n",
       "<tr><td>0</td><td>0</td><td>0</td><td>0</td><td>1</td><td>0</td><td>0</td><td>0</td><td>0</td><td>1</td><td>0</td><td>0</td><td>8</td><td>0</td><td>0</td><td>0</td><td>1</td><td>36</td><td>14</td><td>0</td><td>0</td><td>1</td><td>0</td><td>0</td><td>Double Charmonia ...</td><td>9</td><td>(24,[4,9,12,16,17...</td><td>1</td></tr>\n",
       "<tr><td>0</td><td>0</td><td>0</td><td>0</td><td>1</td><td>0</td><td>0</td><td>0</td><td>0</td><td>1</td><td>0</td><td>0</td><td>9</td><td>0</td><td>0</td><td>0</td><td>0</td><td>22</td><td>7</td><td>1</td><td>0</td><td>0</td><td>1</td><td>0</td><td>Muon Pair Product...</td><td>10</td><td>(24,[4,9,12,17,18...</td><td>0</td></tr>\n",
       "<tr><td>0</td><td>0</td><td>0</td><td>0</td><td>0</td><td>1</td><td>0</td><td>0</td><td>0</td><td>0</td><td>0</td><td>1</td><td>3</td><td>1</td><td>1</td><td>0</td><td>0</td><td>57</td><td>13</td><td>0</td><td>0</td><td>1</td><td>1</td><td>1</td><td>Production of hea...</td><td>11</td><td>(24,[5,11,12,13,1...</td><td>1</td></tr>\n",
       "<tr><td>0</td><td>0</td><td>0</td><td>0</td><td>0</td><td>0</td><td>0</td><td>0</td><td>0</td><td>0</td><td>0</td><td>0</td><td>4</td><td>0</td><td>0</td><td>0</td><td>0</td><td>29</td><td>8</td><td>0</td><td>0</td><td>1</td><td>0</td><td>0</td><td>Leading order NRQ...</td><td>12</td><td>(24,[12,17,18,21]...</td><td>1</td></tr>\n",
       "<tr><td>0</td><td>0</td><td>0</td><td>0</td><td>1</td><td>0</td><td>0</td><td>1</td><td>0</td><td>0</td><td>0</td><td>0</td><td>4</td><td>0</td><td>0</td><td>0</td><td>0</td><td>32</td><td>8</td><td>1</td><td>0</td><td>0</td><td>0</td><td>0</td><td>Comments on &#x27;Stud...</td><td>13</td><td>(24,[4,7,12,17,18...</td><td>1</td></tr>\n",
       "<tr><td>0</td><td>0</td><td>0</td><td>0</td><td>0</td><td>1</td><td>0</td><td>1</td><td>0</td><td>0</td><td>0</td><td>0</td><td>1</td><td>0</td><td>0</td><td>0</td><td>0</td><td>20</td><td>7</td><td>0</td><td>1</td><td>0</td><td>0</td><td>0</td><td>Double Charmonia ...</td><td>14</td><td>(24,[5,7,12,17,18...</td><td>0</td></tr>\n",
       "<tr><td>0</td><td>0</td><td>0</td><td>0</td><td>0</td><td>0</td><td>1</td><td>0</td><td>0</td><td>0</td><td>0</td><td>0</td><td>36</td><td>0</td><td>0</td><td>0</td><td>0</td><td>31</td><td>8</td><td>0</td><td>0</td><td>0</td><td>0</td><td>0</td><td>Production of $J/...</td><td>15</td><td>(24,[6,12,17,18],...</td><td>2</td></tr>\n",
       "<tr><td>0</td><td>0</td><td>0</td><td>0</td><td>0</td><td>0</td><td>0</td><td>1</td><td>0</td><td>0</td><td>0</td><td>0</td><td>3</td><td>1</td><td>0</td><td>0</td><td>0</td><td>34</td><td>10</td><td>0</td><td>1</td><td>1</td><td>1</td><td>0</td><td>Production of hea...</td><td>16</td><td>(24,[7,12,13,17,1...</td><td>1</td></tr>\n",
       "<tr><td>0</td><td>0</td><td>0</td><td>0</td><td>0</td><td>1</td><td>0</td><td>1</td><td>0</td><td>0</td><td>0</td><td>0</td><td>0</td><td>0</td><td>0</td><td>0</td><td>0</td><td>29</td><td>8</td><td>0</td><td>0</td><td>0</td><td>0</td><td>0</td><td>Production of J/ ...</td><td>17</td><td>(24,[5,7,17,18],[...</td><td>1</td></tr>\n",
       "<tr><td>0</td><td>0</td><td>0</td><td>0</td><td>0</td><td>1</td><td>0</td><td>1</td><td>0</td><td>0</td><td>0</td><td>0</td><td>1</td><td>1</td><td>0</td><td>0</td><td>0</td><td>26</td><td>8</td><td>1</td><td>0</td><td>0</td><td>0</td><td>1</td><td>$J/\\Psi \\Upsilon$...</td><td>18</td><td>(24,[5,7,12,13,17...</td><td>0</td></tr>\n",
       "<tr><td>0</td><td>0</td><td>0</td><td>0</td><td>0</td><td>1</td><td>0</td><td>0</td><td>0</td><td>0</td><td>0</td><td>0</td><td>0</td><td>0</td><td>0</td><td>0</td><td>0</td><td>38</td><td>9</td><td>0</td><td>0</td><td>1</td><td>1</td><td>0</td><td>Hadroproduction o...</td><td>19</td><td>(24,[5,17,18,21,2...</td><td>1</td></tr>\n",
       "<tr><td>0</td><td>0</td><td>0</td><td>0</td><td>1</td><td>1</td><td>0</td><td>1</td><td>0</td><td>0</td><td>0</td><td>0</td><td>16</td><td>0</td><td>0</td><td>0</td><td>0</td><td>35</td><td>8</td><td>0</td><td>1</td><td>0</td><td>0</td><td>0</td><td>Simultaneous prod...</td><td>20</td><td>(24,[4,5,7,12,17,...</td><td>1</td></tr>\n",
       "</table>\n",
       "only showing top 20 rows\n"
      ],
      "text/plain": [
       "+--------+--------+--------+--------+--------+-------------+----------------------------+-----+----+---------------+---------------------+----------+--------------+------------+--------------+-------------------------------+----------+--------+---------------+----------------------+---------------+---------------------------------------+-----------------+---------------------------+--------------------+---+--------------------+----------+\n",
       "|12_38_-t|12_38_Bx|13_25_Gv|13_66_Bc|14_40_Pq|CERN_LHC_Coll|J_psi_3100___pair_production|LHC-B|None|branching_ratio|channel_cross_section|charmonium|citation_count|color__octet|color__singlet|electron_positron__annihilation|light_cone|num_refs|number_of_pages|numerical_calculations|p_p__scattering|quantum_chromodynamics__nonrelativistic|quarkonium__heavy|quarkonium__pair_production|               title| id|            features|prediction|\n",
       "+--------+--------+--------+--------+--------+-------------+----------------------------+-----+----+---------------+---------------------+----------+--------------+------------+--------------+-------------------------------+----------+--------+---------------+----------------------+---------------+---------------------------------------+-----------------+---------------------------+--------------------+---+--------------------+----------+\n",
       "|       0|       0|       0|       0|       1|            0|                           0|    0|   0|              0|                    0|         0|             0|           0|             0|                              0|         0|      35|             15|                     0|              0|                                      1|                0|                          0|Charmonia product...|  0|(24,[4,17,18,21],...|         1|\n",
       "|       0|       0|       0|       0|       0|            0|                           0|    0|   0|              1|                    0|         0|             4|           0|             0|                              0|         0|      42|             10|                     0|              0|                                      0|                0|                          0|Exclusive decays ...|  1|(24,[9,12,17,18],...|         1|\n",
       "|       0|       0|       0|       0|       0|            1|                           0|    1|   0|              0|                    0|         0|             1|           0|             0|                              0|         0|      40|              8|                     0|              0|                                      0|                0|                          0|Doubly heavy bary...|  2|(24,[5,7,12,17,18...|         1|\n",
       "|       0|       0|       0|       0|       0|            0|                           0|    0|   0|              0|                    0|         0|            13|           0|             0|                              0|         0|      21|             10|                     1|              0|                                      0|                0|                          0|Weak decays of do...|  3|(24,[12,17,18,19]...|         0|\n",
       "|       0|       0|       0|       0|       0|            1|                           0|    1|   0|              0|                    0|         0|             0|           0|             0|                              0|         0|      49|              8|                     0|              0|                                      0|                0|                          0|$B_c$ excitations...|  4|(24,[5,7,17,18],[...|         1|\n",
       "|       0|       0|       0|       0|       0|            0|                           0|    0|   0|              1|                    0|         0|             2|           0|             0|                              0|         0|      22|              7|                     1|              0|                                      0|                0|                          0|Excited $\\rho$ me...|  5|(24,[9,12,17,18,1...|         0|\n",
       "|       0|       0|       0|       0|       0|            1|                           0|    1|   0|              0|                    0|         0|            30|           0|             0|                              0|         0|      56|             14|                     0|              0|                                      0|                0|                          0|Doubly heavy bary...|  6|(24,[5,7,12,17,18...|         2|\n",
       "|       0|       0|       0|       0|       1|            0|                           0|    0|   0|              1|                    0|         0|             1|           1|             0|                              0|         0|      30|              9|                     1|              0|                                      1|                0|                          0|Charmonia Product...|  7|(24,[4,9,12,13,17...|         1|\n",
       "|       0|       0|       0|       0|       1|            0|                           0|    0|   0|              1|                    0|         0|             8|           0|             0|                              0|         1|      36|             14|                     0|              0|                                      1|                0|                          0|Double Charmonia ...|  9|(24,[4,9,12,16,17...|         1|\n",
       "|       0|       0|       0|       0|       1|            0|                           0|    0|   0|              1|                    0|         0|             9|           0|             0|                              0|         0|      22|              7|                     1|              0|                                      0|                1|                          0|Muon Pair Product...| 10|(24,[4,9,12,17,18...|         0|\n",
       "|       0|       0|       0|       0|       0|            1|                           0|    0|   0|              0|                    0|         1|             3|           1|             1|                              0|         0|      57|             13|                     0|              0|                                      1|                1|                          1|Production of hea...| 11|(24,[5,11,12,13,1...|         1|\n",
       "|       0|       0|       0|       0|       0|            0|                           0|    0|   0|              0|                    0|         0|             4|           0|             0|                              0|         0|      29|              8|                     0|              0|                                      1|                0|                          0|Leading order NRQ...| 12|(24,[12,17,18,21]...|         1|\n",
       "|       0|       0|       0|       0|       1|            0|                           0|    1|   0|              0|                    0|         0|             4|           0|             0|                              0|         0|      32|              8|                     1|              0|                                      0|                0|                          0|Comments on 'Stud...| 13|(24,[4,7,12,17,18...|         1|\n",
       "|       0|       0|       0|       0|       0|            1|                           0|    1|   0|              0|                    0|         0|             1|           0|             0|                              0|         0|      20|              7|                     0|              1|                                      0|                0|                          0|Double Charmonia ...| 14|(24,[5,7,12,17,18...|         0|\n",
       "|       0|       0|       0|       0|       0|            0|                           1|    0|   0|              0|                    0|         0|            36|           0|             0|                              0|         0|      31|              8|                     0|              0|                                      0|                0|                          0|Production of $J/...| 15|(24,[6,12,17,18],...|         2|\n",
       "|       0|       0|       0|       0|       0|            0|                           0|    1|   0|              0|                    0|         0|             3|           1|             0|                              0|         0|      34|             10|                     0|              1|                                      1|                1|                          0|Production of hea...| 16|(24,[7,12,13,17,1...|         1|\n",
       "|       0|       0|       0|       0|       0|            1|                           0|    1|   0|              0|                    0|         0|             0|           0|             0|                              0|         0|      29|              8|                     0|              0|                                      0|                0|                          0|Production of J/ ...| 17|(24,[5,7,17,18],[...|         1|\n",
       "|       0|       0|       0|       0|       0|            1|                           0|    1|   0|              0|                    0|         0|             1|           1|             0|                              0|         0|      26|              8|                     1|              0|                                      0|                0|                          1|$J/\\Psi \\Upsilon$...| 18|(24,[5,7,12,13,17...|         0|\n",
       "|       0|       0|       0|       0|       0|            1|                           0|    0|   0|              0|                    0|         0|             0|           0|             0|                              0|         0|      38|              9|                     0|              0|                                      1|                1|                          0|Hadroproduction o...| 19|(24,[5,17,18,21,2...|         1|\n",
       "|       0|       0|       0|       0|       1|            1|                           0|    1|   0|              0|                    0|         0|            16|           0|             0|                              0|         0|      35|              8|                     0|              1|                                      0|                0|                          0|Simultaneous prod...| 20|(24,[4,5,7,12,17,...|         1|\n",
       "+--------+--------+--------+--------+--------+-------------+----------------------------+-----+----+---------------+---------------------+----------+--------------+------------+--------------+-------------------------------+----------+--------+---------------+----------------------+---------------+---------------------------------------+-----------------+---------------------------+--------------------+---+--------------------+----------+\n",
       "only showing top 20 rows"
      ]
     },
     "execution_count": 17,
     "metadata": {},
     "output_type": "execute_result"
    }
   ],
   "source": [
    "BKMeans_transform"
   ]
  },
  {
   "cell_type": "code",
   "execution_count": 30,
   "id": "76825a93-0720-45af-8762-a1dfe86e190e",
   "metadata": {},
   "outputs": [
    {
     "data": {
      "text/plain": [
       "Column<'prediction'>"
      ]
     },
     "execution_count": 30,
     "metadata": {},
     "output_type": "execute_result"
    }
   ],
   "source": [
    "result = BKMeans_transform.prediction\n"
   ]
  },
  {
   "cell_type": "code",
   "execution_count": 39,
   "id": "b75aadac-744f-483f-b0d5-ea34c9121ff4",
   "metadata": {},
   "outputs": [
    {
     "name": "stdout",
     "output_type": "stream",
     "text": [
      "+----------+-------------------------------------------------------------------------------------------------------------------------+-----------------+\n",
      "|prediction|title                                                                                                                    |count(prediction)|\n",
      "+----------+-------------------------------------------------------------------------------------------------------------------------+-----------------+\n",
      "|3         |Tetraquarks Composed of 4 Heavy Quarks                                                                                   |1                |\n",
      "|3         |Double J/psi-meson Production at LHC and 4c-tetraquark state                                                             |1                |\n",
      "|3         |Excited charmonium mesons production in e+ e- annihilation at s**1/2 = 10.6-GeV                                          |1                |\n",
      "|3         |The Study of leading twist light cone wave function of eta(c) meson                                                      |1                |\n",
      "|2         |Observation potential for chi(b) at the Tevatron and CERN LHC                                                            |1                |\n",
      "|2         |Doubly heavy baryons at the LHC                                                                                          |1                |\n",
      "|2         |Double $c\\bar{c}$ production at LHCb                                                                                     |1                |\n",
      "|2         |Leading twist distribution amplitudes of P-wave nonrelativistic mesons                                                   |1                |\n",
      "|2         |Production of $\\chi_c$- and $\\chi_b$-mesons in high energy hadronic collisions                                           |1                |\n",
      "|2         |Double charmonium production in exclusive bottomonia decays                                                              |1                |\n",
      "|2         |Production of $J/\\psi + \\chi_c$ and $J/\\psi + J/\\psi$ with real gluon emission at LHC                                    |1                |\n",
      "|2         |Systematics of heavy quarkonia from Regge trajectories on (n,M**2) and (M**2,J) planes                                   |1                |\n",
      "|2         |Production of $\\chi_{b}$-mesons at LHC                                                                                   |1                |\n",
      "|2         |The Processes e+ e- ---> J/Psi(chi(c0)), Psi(2S)(chi(c0)) at s**(1/2) = 10.6-GeV in the framework of light cone formalism|1                |\n",
      "|2         |Light hadron production in B(c) ---> J/psi + X decays                                                                    |1                |\n",
      "|1         |Charmonia production in $W \\to (c\\bar c) D_s^{(*)}$ decays                                                               |1                |\n",
      "|1         |$B_c$ excitations at LHC: first observations and further research prospects                                              |1                |\n",
      "|1         |Hadroproduction of heavy quarkonia at the LHC                                                                            |1                |\n",
      "|1         |Tevatron and LHC potential for observing chi/b                                                                           |1                |\n",
      "|1         |Production of J/ pairs at the LHC                                                                                        |1                |\n",
      "+----------+-------------------------------------------------------------------------------------------------------------------------+-----------------+\n",
      "only showing top 20 rows\n",
      "\n"
     ]
    }
   ],
   "source": [
    "BKMeans_transform.groupBy(\"prediction\", \"title\").agg({\"prediction\":\"count\"}).sort(desc(\"prediction\")).show(truncate=False)"
   ]
  },
  {
   "cell_type": "code",
   "execution_count": null,
   "id": "9e69119b-366a-4e45-8079-20dd2ae20fea",
   "metadata": {},
   "outputs": [],
   "source": []
  }
 ],
 "metadata": {
  "kernelspec": {
   "display_name": "Python 3 (ipykernel)",
   "language": "python",
   "name": "python3"
  },
  "language_info": {
   "codemirror_mode": {
    "name": "ipython",
    "version": 3
   },
   "file_extension": ".py",
   "mimetype": "text/x-python",
   "name": "python",
   "nbconvert_exporter": "python",
   "pygments_lexer": "ipython3",
   "version": "3.9.10"
  }
 },
 "nbformat": 4,
 "nbformat_minor": 5
}
