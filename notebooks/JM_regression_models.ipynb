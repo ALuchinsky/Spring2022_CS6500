{
 "cells": [
  {
   "cell_type": "markdown",
   "id": "6fe80d47-2278-49fc-a67a-b79719189b61",
   "metadata": {},
   "source": [
    "# Predicting Citation Count by Keywords using Regression Models"
   ]
  },
  {
   "cell_type": "markdown",
   "id": "33f742bc-28b0-470f-a176-5fca10556fd1",
   "metadata": {},
   "source": [
    "Models adapted from https://towardsdatascience.com/building-a-linear-regression-with-pyspark-and-mllib-d065c3ba246a "
   ]
  },
  {
   "cell_type": "markdown",
   "id": "0f8161c0-075c-41ea-9960-5b207d139c4f",
   "metadata": {},
   "source": [
    "Start Spark Session"
   ]
  },
  {
   "cell_type": "code",
   "execution_count": 1,
   "id": "3e2276e5-c241-4fca-9c16-9f0403f39693",
   "metadata": {
    "tags": []
   },
   "outputs": [],
   "source": [
    "import findspark\n",
    "findspark.init()\n",
    "\n",
    "from pyspark.sql import SparkSession\n",
    "from pyspark.sql.functions import format_number, mean, min, max, corr, stddev\n",
    "from pyspark.sql.functions import (dayofmonth, hour, dayofyear, month, year, weekofyear, format_number, date_format, asc, desc)\n",
    "from pyspark.sql.functions import explode, col, element_at, size, split\n",
    "from pyspark.sql.functions import udf\n"
   ]
  },
  {
   "cell_type": "code",
   "execution_count": 2,
   "id": "652b2c7c-3d48-4cad-b9bc-2e86a66f4e22",
   "metadata": {
    "tags": []
   },
   "outputs": [],
   "source": [
    "# Build a SparkSession named as \"test123\"\n",
    "spark = SparkSession.builder \\\n",
    "    .appName('test_123') \\\n",
    "    .master('local[*]') \\\n",
    "    .config('spark.sql.execution.arrow.pyspark.enabled', True) \\\n",
    "    .config('spark.sql.session.timeZone', 'UTC') \\\n",
    "    .config('spark.driver.memory','12g') \\\n",
    "    .config('spark.ui.showConsoleProgress', True) \\\n",
    "    .config('spark.sql.repl.eagerEval.enabled', True) \\\n",
    "    .getOrCreate()"
   ]
  },
  {
   "cell_type": "code",
   "execution_count": 3,
   "id": "a1021ffd-07b1-4f34-8cc9-d41992bb63bb",
   "metadata": {},
   "outputs": [],
   "source": [
    "paps = spark.read.json(\"/home/jovyan/work/dummy.json/\")"
   ]
  },
  {
   "cell_type": "markdown",
   "id": "8689a569-2e68-471c-9835-dab38c22b772",
   "metadata": {},
   "source": [
    "The data used in this model was 2019 data, gathered in the same manner as the AL_read_papers notebook.\n",
    "I used wget \"https://inspirehep.net/api/literature?sort=mostrecent&size=1000&page=1&q=date%202019&subject=Phenomenology-HEP\" -O papers_2019.json to get these papers, and extracted keywords using aleksei's notebook."
   ]
  },
  {
   "cell_type": "code",
   "execution_count": 4,
   "id": "a0c23a02-28db-402a-b6dd-72240343c820",
   "metadata": {},
   "outputs": [
    {
     "data": {
      "text/plain": [
       "['Beyond_Standard_Model',\n",
       " 'Beyond_the_standard_model',\n",
       " 'CERN_LHC_Coll',\n",
       " 'CP__violation',\n",
       " 'None',\n",
       " 'Strong_Interactions',\n",
       " 'citation_count',\n",
       " 'dark_matter',\n",
       " 'effective_field_theory',\n",
       " 'energy__high',\n",
       " 'lattice',\n",
       " 'lattice_field_theory',\n",
       " 'neutrino__mass',\n",
       " 'neutrino__oscillation',\n",
       " 'new_physics',\n",
       " 'num_refs',\n",
       " 'number_of_pages',\n",
       " 'numerical_calculations',\n",
       " 'p_p__scattering',\n",
       " 'quantum_chromodynamics',\n",
       " 'sensitivity',\n",
       " 'statistical_analysis',\n",
       " 'structure',\n",
       " 'supersymmetry',\n",
       " 'title']"
      ]
     },
     "execution_count": 4,
     "metadata": {},
     "output_type": "execute_result"
    }
   ],
   "source": [
    "paps.columns"
   ]
  },
  {
   "cell_type": "markdown",
   "id": "668cc617-bdef-4809-a3c1-cc730298fb31",
   "metadata": {},
   "source": [
    "**remove NAN values so we can fit a model with no errors**"
   ]
  },
  {
   "cell_type": "code",
   "execution_count": 5,
   "id": "02238ff9-b0ce-4e58-8b8b-1550be3fa476",
   "metadata": {},
   "outputs": [
    {
     "name": "stdout",
     "output_type": "stream",
     "text": [
      "1000\n",
      "992\n",
      "655\n"
     ]
    }
   ],
   "source": [
    "#Adding an ID to each paper so the abstract data analysis can be attributed to a paper\n",
    "from pyspark.sql.functions import monotonically_increasing_id\n",
    "papersWIDs = paps.withColumn(\"id\", monotonically_increasing_id())\n",
    "# remving nans\n",
    "print(papersWIDs.count())\n",
    "papersWIDs_woNA = papersWIDs.dropna()\n",
    "print(papersWIDs_woNA.count())\n",
    "papersWIDs_woNA_woNone = papersWIDs_woNA.filter(\"None == 0\")\n",
    "print(papersWIDs_woNA_woNone.count())"
   ]
  },
  {
   "cell_type": "markdown",
   "id": "8e71387b-638e-4c30-b5cb-79a7c6213dea",
   "metadata": {},
   "source": [
    "# Create features column so that we can fit a regression model. \n",
    "Title is not included since it is the only non-numeric column.\n",
    "\n",
    "What this means is that, the models we will be constructing will attempt to predict Citation Count based off of the keywords. The real world implications of this would be knowing that papers on certain topics are cited more, and allow authors to write more influential papers on well documented topics. "
   ]
  },
  {
   "cell_type": "code",
   "execution_count": 6,
   "id": "a52ea55e-800e-401c-92a3-8f17d1688d47",
   "metadata": {},
   "outputs": [
    {
     "name": "stdout",
     "output_type": "stream",
     "text": [
      "+---------------------+-------------------------+-------------+-------------+----+-------------------+--------------+-----------+----------------------+------------+-------+--------------------+--------------+---------------------+-----------+--------+---------------+----------------------+---------------+----------------------+-----------+--------------------+---------+-------------+--------------------+---+--------------------+\n",
      "|Beyond_Standard_Model|Beyond_the_standard_model|CERN_LHC_Coll|CP__violation|None|Strong_Interactions|citation_count|dark_matter|effective_field_theory|energy__high|lattice|lattice_field_theory|neutrino__mass|neutrino__oscillation|new_physics|num_refs|number_of_pages|numerical_calculations|p_p__scattering|quantum_chromodynamics|sensitivity|statistical_analysis|structure|supersymmetry|               title| id|            features|\n",
      "+---------------------+-------------------------+-------------+-------------+----+-------------------+--------------+-----------+----------------------+------------+-------+--------------------+--------------+---------------------+-----------+--------+---------------+----------------------+---------------+----------------------+-----------+--------------------+---------+-------------+--------------------+---+--------------------+\n",
      "|                    0|                        0|            0|            0|   0|                  0|             7|          0|                     0|           0|      1|                   1|             0|                    0|          1|      19|              7|                     1|              0|                     1|          0|                   0|        0|            0|$B$-meson semilep...|  0|(23,[9,10,13,14,1...|\n",
      "|                    0|                        0|            0|            1|   0|                  0|             7|          0|                     0|           0|      0|                   0|             1|                    1|          1|      90|             18|                     1|              0|                     0|          1|                   1|        0|            0|Can Lorentz invar...|  1|(23,[3,11,12,13,1...|\n",
      "|                    0|                        0|            0|            0|   0|                  0|             4|          0|                     0|           0|      0|                   0|             0|                    0|          0|      65|             15|                     0|              0|                     0|          1|                   0|        0|            0|Charting the Euro...|  2|(23,[14,15,19],[6...|\n",
      "|                    0|                        1|            0|            0|   0|                  0|            30|          0|                     0|           0|      0|                   0|             1|                    1|          1|      47|             21|                     1|              0|                     0|          0|                   0|        0|            0|Neutrino nonstand...|  3|(23,[1,11,12,13,1...|\n",
      "|                    0|                        0|            0|            0|   0|                  0|             2|          0|                     0|           0|      0|                   0|             0|                    1|          1|      18|              3|                     0|              0|                     0|          0|                   0|        0|            0|Neutrino evolutio...|  4|(23,[12,13,14,15]...|\n",
      "|                    0|                        0|            0|            1|   0|                  0|            53|          0|                     0|           0|      0|                   0|             1|                    0|          1|      78|             25|                     1|              0|                     0|          0|                   0|        0|            0|Lepton flavor mix...|  6|(23,[3,11,13,14,1...|\n",
      "|                    0|                        0|            1|            0|   0|                  0|             5|          0|                     0|           0|      0|                   0|             0|                    0|          0|      69|             37|                     0|              0|                     1|          0|                   0|        0|            0|Infrared structur...|  7|(23,[2,14,15,18],...|\n",
      "|                    0|                        1|            0|            0|   0|                  0|            12|          0|                     0|           0|      0|                   0|             1|                    0|          1|      93|             14|                     0|              0|                     0|          0|                   0|        0|            0|Effects of heavy ...|  8|(23,[1,11,13,14,1...|\n",
      "|                    0|                        0|            0|            0|   0|                  0|            10|          1|                     0|           1|      0|                   0|             0|                    0|          0|     114|             28|                     0|              0|                     0|          0|                   0|        0|            0|Horizonless ultra...|  9|(23,[6,8,14,15],[...|\n",
      "|                    0|                        0|            0|            0|   0|                  0|             0|          0|                     0|           1|      0|                   0|             0|                    0|          0|      28|              5|                     0|              0|                     0|          0|                   0|        0|            0|Hadron structure ...| 10|(23,[8,14,15],[1....|\n",
      "|                    0|                        0|            0|            0|   0|                  0|            15|          0|                     1|           0|      0|                   0|             0|                    0|          0|      22|             20|                     0|              0|                     0|          0|                   0|        0|            0|An Effective Fiel...| 11|(23,[7,14,15],[1....|\n",
      "|                    0|                        0|            0|            0|   0|                  0|             1|          0|                     0|           0|      0|                   0|             0|                    0|          0|      22|              4|                     0|              0|                     1|          0|                   0|        0|            0|Axionic excitatio...| 12|(23,[14,15,18],[2...|\n",
      "|                    0|                        0|            0|            0|   0|                  0|             1|          0|                     0|           0|      0|                   0|             0|                    1|          1|      97|             17|                     1|              0|                     0|          0|                   0|        0|            1|Majorana phases i...| 14|(23,[12,13,14,15,...|\n",
      "|                    0|                        1|            0|            0|   0|                  0|             5|          0|                     0|           0|      0|                   0|             0|                    0|          1|      55|             10|                     1|              0|                     0|          0|                   0|        0|            0|Exploring leptoqu...| 15|(23,[1,13,14,15,1...|\n",
      "|                    0|                        0|            0|            0|   0|                  0|            39|          0|                     0|           0|      0|                   1|             0|                    0|          0|      44|              6|                     0|              0|                     0|          0|                   0|        0|            0|Reliability of la...| 18|(23,[10,14,15],[1...|\n",
      "|                    1|                        0|            0|            0|   0|                  0|            31|          0|                     1|           0|      0|                   0|             0|                    0|          0|      59|             30|                     0|              0|                     0|          0|                   0|        0|            0|Loops and Trees i...| 20|(23,[0,7,14,15],[...|\n",
      "|                    0|                        0|            0|            0|   0|                  0|             4|          1|                     0|           0|      0|                   0|             0|                    0|          1|      37|             15|                     0|              0|                     0|          0|                   0|        0|            1|Musings on the Cu...| 24|(23,[6,13,14,15,2...|\n",
      "|                    1|                        0|            0|            0|   0|                  0|             1|          0|                     0|           0|      0|                   0|             0|                    0|          1|      49|             24|                     0|              1|                     0|          0|                   0|        0|            0|Probing exotic tr...| 25|(23,[0,13,14,15,1...|\n",
      "|                    0|                        0|            0|            0|   0|                  0|             0|          0|                     0|           0|      0|                   0|             0|                    1|          0|     172|            138|                     0|              0|                     0|          0|                   0|        0|            0|Some Studies on N...| 27|(23,[12,14,15],[1...|\n",
      "|                    0|                        0|            0|            0|   0|                  0|            12|          0|                     0|           0|      1|                   1|             0|                    0|          0|      40|             16|                     1|              0|                     1|          0|                   0|        0|            0|$K_{l3}$ form fac...| 30|(23,[9,10,14,15,1...|\n",
      "+---------------------+-------------------------+-------------+-------------+----+-------------------+--------------+-----------+----------------------+------------+-------+--------------------+--------------+---------------------+-----------+--------+---------------+----------------------+---------------+----------------------+-----------+--------------------+---------+-------------+--------------------+---+--------------------+\n",
      "only showing top 20 rows\n",
      "\n"
     ]
    }
   ],
   "source": [
    "from pyspark.ml.feature import VectorAssembler\n",
    "\n",
    "numericCols = ['Beyond_Standard_Model',\n",
    " 'Beyond_the_standard_model',\n",
    " 'CERN_LHC_Coll',\n",
    " 'CP__violation',\n",
    " 'None',\n",
    " 'Strong_Interactions',\n",
    " 'dark_matter',\n",
    " 'effective_field_theory',\n",
    " 'energy__high',\n",
    " 'lattice',\n",
    " 'lattice_field_theory',\n",
    " 'neutrino__mass',\n",
    " 'neutrino__oscillation',\n",
    " 'new_physics',\n",
    " 'num_refs',\n",
    " 'number_of_pages',\n",
    " 'numerical_calculations',\n",
    " 'p_p__scattering',\n",
    " 'quantum_chromodynamics',\n",
    " 'sensitivity',\n",
    " 'statistical_analysis',\n",
    " 'structure',\n",
    " 'supersymmetry']\n",
    "assembler = VectorAssembler(inputCols=numericCols, outputCol=\"features\")\n",
    "df = assembler.transform(papersWIDs_woNA_woNone)\n",
    "df.show()"
   ]
  },
  {
   "cell_type": "code",
   "execution_count": 25,
   "id": "76929a04-8f2a-4695-9263-ec50f088149b",
   "metadata": {},
   "outputs": [
    {
     "name": "stdout",
     "output_type": "stream",
     "text": [
      "+---------------------+-------------------------+-------------+-------------+----+-------------------+--------------+-----------+----------------------+------------+-------+--------------------+--------------+---------------------+-----------+--------+---------------+----------------------+---------------+----------------------+-----------+--------------------+---------+-------------+--------------------+---+--------------------+----------+\n",
      "|Beyond_Standard_Model|Beyond_the_standard_model|CERN_LHC_Coll|CP__violation|None|Strong_Interactions|citation_count|dark_matter|effective_field_theory|energy__high|lattice|lattice_field_theory|neutrino__mass|neutrino__oscillation|new_physics|num_refs|number_of_pages|numerical_calculations|p_p__scattering|quantum_chromodynamics|sensitivity|statistical_analysis|structure|supersymmetry|               title| id|            features|labelIndex|\n",
      "+---------------------+-------------------------+-------------+-------------+----+-------------------+--------------+-----------+----------------------+------------+-------+--------------------+--------------+---------------------+-----------+--------+---------------+----------------------+---------------+----------------------+-----------+--------------------+---------+-------------+--------------------+---+--------------------+----------+\n",
      "|                    0|                        0|            0|            0|   0|                  0|             7|          0|                     0|           0|      1|                   1|             0|                    0|          1|      19|              7|                     1|              0|                     1|          0|                   0|        0|            0|$B$-meson semilep...|  0|(23,[9,10,13,14,1...|       8.0|\n",
      "|                    0|                        0|            0|            1|   0|                  0|             7|          0|                     0|           0|      0|                   0|             1|                    1|          1|      90|             18|                     1|              0|                     0|          1|                   1|        0|            0|Can Lorentz invar...|  1|(23,[3,11,12,13,1...|       8.0|\n",
      "|                    0|                        0|            0|            0|   0|                  0|             4|          0|                     0|           0|      0|                   0|             0|                    0|          0|      65|             15|                     0|              0|                     0|          1|                   0|        0|            0|Charting the Euro...|  2|(23,[14,15,19],[6...|       3.0|\n",
      "|                    0|                        1|            0|            0|   0|                  0|            30|          0|                     0|           0|      0|                   0|             1|                    1|          1|      47|             21|                     1|              0|                     0|          0|                   0|        0|            0|Neutrino nonstand...|  3|(23,[1,11,12,13,1...|      21.0|\n",
      "|                    0|                        0|            0|            0|   0|                  0|             2|          0|                     0|           0|      0|                   0|             0|                    1|          1|      18|              3|                     0|              0|                     0|          0|                   0|        0|            0|Neutrino evolutio...|  4|(23,[12,13,14,15]...|       2.0|\n",
      "|                    0|                        0|            0|            1|   0|                  0|            53|          0|                     0|           0|      0|                   0|             1|                    0|          1|      78|             25|                     1|              0|                     0|          0|                   0|        0|            0|Lepton flavor mix...|  6|(23,[3,11,13,14,1...|      59.0|\n",
      "|                    0|                        0|            1|            0|   0|                  0|             5|          0|                     0|           0|      0|                   0|             0|                    0|          0|      69|             37|                     0|              0|                     1|          0|                   0|        0|            0|Infrared structur...|  7|(23,[2,14,15,18],...|       6.0|\n",
      "|                    0|                        1|            0|            0|   0|                  0|            12|          0|                     0|           0|      0|                   0|             1|                    0|          1|      93|             14|                     0|              0|                     0|          0|                   0|        0|            0|Effects of heavy ...|  8|(23,[1,11,13,14,1...|      12.0|\n",
      "|                    0|                        0|            0|            0|   0|                  0|            10|          1|                     0|           1|      0|                   0|             0|                    0|          0|     114|             28|                     0|              0|                     0|          0|                   0|        0|            0|Horizonless ultra...|  9|(23,[6,8,14,15],[...|      10.0|\n",
      "|                    0|                        0|            0|            0|   0|                  0|             0|          0|                     0|           1|      0|                   0|             0|                    0|          0|      28|              5|                     0|              0|                     0|          0|                   0|        0|            0|Hadron structure ...| 10|(23,[8,14,15],[1....|       0.0|\n",
      "|                    0|                        0|            0|            0|   0|                  0|            15|          0|                     1|           0|      0|                   0|             0|                    0|          0|      22|             20|                     0|              0|                     0|          0|                   0|        0|            0|An Effective Fiel...| 11|(23,[7,14,15],[1....|      14.0|\n",
      "|                    0|                        0|            0|            0|   0|                  0|             1|          0|                     0|           0|      0|                   0|             0|                    0|          0|      22|              4|                     0|              0|                     1|          0|                   0|        0|            0|Axionic excitatio...| 12|(23,[14,15,18],[2...|       1.0|\n",
      "|                    0|                        0|            0|            0|   0|                  0|             1|          0|                     0|           0|      0|                   0|             0|                    1|          1|      97|             17|                     1|              0|                     0|          0|                   0|        0|            1|Majorana phases i...| 14|(23,[12,13,14,15,...|       1.0|\n",
      "|                    0|                        1|            0|            0|   0|                  0|             5|          0|                     0|           0|      0|                   0|             0|                    0|          1|      55|             10|                     1|              0|                     0|          0|                   0|        0|            0|Exploring leptoqu...| 15|(23,[1,13,14,15,1...|       6.0|\n",
      "|                    0|                        0|            0|            0|   0|                  0|            39|          0|                     0|           0|      0|                   1|             0|                    0|          0|      44|              6|                     0|              0|                     0|          0|                   0|        0|            0|Reliability of la...| 18|(23,[10,14,15],[1...|      30.0|\n",
      "|                    1|                        0|            0|            0|   0|                  0|            31|          0|                     1|           0|      0|                   0|             0|                    0|          0|      59|             30|                     0|              0|                     0|          0|                   0|        0|            0|Loops and Trees i...| 20|(23,[0,7,14,15],[...|      22.0|\n",
      "|                    0|                        0|            0|            0|   0|                  0|             4|          1|                     0|           0|      0|                   0|             0|                    0|          1|      37|             15|                     0|              0|                     0|          0|                   0|        0|            1|Musings on the Cu...| 24|(23,[6,13,14,15,2...|       3.0|\n",
      "|                    1|                        0|            0|            0|   0|                  0|             1|          0|                     0|           0|      0|                   0|             0|                    0|          1|      49|             24|                     0|              1|                     0|          0|                   0|        0|            0|Probing exotic tr...| 25|(23,[0,13,14,15,1...|       1.0|\n",
      "|                    0|                        0|            0|            0|   0|                  0|             0|          0|                     0|           0|      0|                   0|             0|                    1|          0|     172|            138|                     0|              0|                     0|          0|                   0|        0|            0|Some Studies on N...| 27|(23,[12,14,15],[1...|       0.0|\n",
      "|                    0|                        0|            0|            0|   0|                  0|            12|          0|                     0|           0|      1|                   1|             0|                    0|          0|      40|             16|                     1|              0|                     1|          0|                   0|        0|            0|$K_{l3}$ form fac...| 30|(23,[9,10,14,15,1...|      12.0|\n",
      "+---------------------+-------------------------+-------------+-------------+----+-------------------+--------------+-----------+----------------------+------------+-------+--------------------+--------------+---------------------+-----------+--------+---------------+----------------------+---------------+----------------------+-----------+--------------------+---------+-------------+--------------------+---+--------------------+----------+\n",
      "only showing top 20 rows\n",
      "\n"
     ]
    }
   ],
   "source": [
    "from pyspark.ml.feature import StringIndexer\n",
    "\n",
    "label_stringIdx = StringIndexer(inputCol = 'citation_count', outputCol = 'labelIndex')\n",
    "df = label_stringIdx.fit(df).transform(df)\n",
    "df.show()"
   ]
  },
  {
   "cell_type": "markdown",
   "id": "76c7336f-f0ba-4927-afdc-f027fb20661e",
   "metadata": {},
   "source": [
    "# Split Data into Training and Testing Set\n",
    "70% of papers will be used for training, and it's performance will be evaluated on the training set. \n",
    "Future work could include not splitting the data, but using 20xx data for testing, and 20xx+1 data as testing."
   ]
  },
  {
   "cell_type": "code",
   "execution_count": 7,
   "id": "e5e5227d-2876-49d7-82d3-bd4cc0415a6f",
   "metadata": {},
   "outputs": [],
   "source": [
    "train, test = df.randomSplit([0.7, 0.3], seed = 2018)\n"
   ]
  },
  {
   "cell_type": "markdown",
   "id": "59782d3d-cdc9-4ee7-837c-0ac4af78e197",
   "metadata": {},
   "source": [
    "# Fit a Standard Linear Regression Model\n",
    "Regressing on citation count, using keywords as features"
   ]
  },
  {
   "cell_type": "code",
   "execution_count": 8,
   "id": "3b622e9e-b813-40fb-9d1a-2317f811980d",
   "metadata": {},
   "outputs": [
    {
     "name": "stdout",
     "output_type": "stream",
     "text": [
      "Coefficients: [2.8157774002119016,0.7983470337372263,-0.6617708201185918,-1.9339701256333166,0.0,3.6539254880560703,4.299078253174551,0.8043891515041933,-2.2080765914293936,0.0,0.0,0.6907061632722683,0.0,-3.619500241295578,0.19139255586649162,-0.18526214976722516,-0.08713131967368194,0.0,3.0649095738380203,7.334928577818144,13.102483421456945,-1.7230704451081877,-5.542330182306755]\n",
      "Intercept: 4.018998518064363\n"
     ]
    }
   ],
   "source": [
    "from pyspark.ml.regression import LinearRegression\n",
    "lr = LinearRegression(featuresCol = 'features', labelCol='citation_count', maxIter=10, regParam=0.3, elasticNetParam=0.8)\n",
    "lr_model = lr.fit(train)\n",
    "print(\"Coefficients: \" + str(lr_model.coefficients))\n",
    "print(\"Intercept: \" + str(lr_model.intercept))"
   ]
  },
  {
   "cell_type": "code",
   "execution_count": 9,
   "id": "aea33be0-f6a6-49ae-9bba-a739e55b9e9a",
   "metadata": {},
   "outputs": [
    {
     "name": "stdout",
     "output_type": "stream",
     "text": [
      "RMSE: 18.112322\n",
      "r2: 0.268493\n"
     ]
    }
   ],
   "source": [
    "trainingSummary = lr_model.summary\n",
    "print(\"RMSE: %f\" % trainingSummary.rootMeanSquaredError)\n",
    "print(\"r2: %f\" % trainingSummary.r2)"
   ]
  },
  {
   "cell_type": "code",
   "execution_count": 10,
   "id": "ea0151a0-f1df-4d23-9730-3745c074fd83",
   "metadata": {},
   "outputs": [
    {
     "name": "stdout",
     "output_type": "stream",
     "text": [
      "+-------+---------------------+-------------------------+-------------------+-------------------+----+--------------------+------------------+-------------------+----------------------+-------------------+--------------------+--------------------+-------------------+---------------------+------------------+-----------------+-----------------+----------------------+--------------------+----------------------+-------------------+--------------------+-------------------+--------------------+--------------------+------------------+\n",
      "|summary|Beyond_Standard_Model|Beyond_the_standard_model|      CERN_LHC_Coll|      CP__violation|None| Strong_Interactions|    citation_count|        dark_matter|effective_field_theory|       energy__high|             lattice|lattice_field_theory|     neutrino__mass|neutrino__oscillation|       new_physics|         num_refs|  number_of_pages|numerical_calculations|     p_p__scattering|quantum_chromodynamics|        sensitivity|statistical_analysis|          structure|       supersymmetry|               title|                id|\n",
      "+-------+---------------------+-------------------------+-------------------+-------------------+----+--------------------+------------------+-------------------+----------------------+-------------------+--------------------+--------------------+-------------------+---------------------+------------------+-----------------+-----------------+----------------------+--------------------+----------------------+-------------------+--------------------+-------------------+--------------------+--------------------+------------------+\n",
      "|  count|                  467|                      467|                467|                467| 467|                 467|               467|                467|                   467|                467|                 467|                 467|                467|                  467|               467|              467|              467|                   467|                 467|                   467|                467|                 467|                467|                 467|                 467|               467|\n",
      "|   mean|  0.10492505353319058|       0.1006423982869379|0.18629550321199143|0.04925053533190578| 0.0|0.055674518201284794|13.884368308351178|0.07708779443254818|   0.07494646680942184|0.05353319057815846|0.044967880085653104| 0.07494646680942184| 0.0728051391862955| 0.057815845824411134|0.3640256959314775|68.34261241970022|21.97644539614561|   0.37259100642398285|0.055674518201284794|   0.16274089935760172|0.08993576017130621| 0.05353319057815846|0.05139186295503212|0.044967880085653104|                null| 484.9164882226981|\n",
      "| stddev|  0.30678546689364833|      0.30117725834682285| 0.3897624764224306|0.21662271986702672| 0.0| 0.22953798776167614| 21.19973256211643| 0.2670167384781871|     0.263587309368711|0.22533556396026777| 0.20745584626769745|  0.2635873093687107|0.26009500273099273|   0.2336451776064665|0.4816718730938298|68.55521852603223|33.34321265649325|   0.48401301032913263|  0.2295379877616761|    0.3695249579194476| 0.2863965035362326|  0.2253355639602677|0.22103247430546247| 0.20745584626769745|                null|287.29271961663505|\n",
      "|    min|                    0|                        0|                  0|                  0|   0|                   0|                 0|                  0|                     0|                  0|                   0|                   0|                  0|                    0|                 0|                4|                2|                     0|                   0|                     0|                  0|                   0|                  0|                   0|$B \\to D^{(*)}\\el...|                 0|\n",
      "|    max|                    1|                        1|                  1|                  1|   0|                   1|               245|                  1|                     1|                  1|                   1|                   1|                  1|                    1|                 1|              934|              463|                     1|                   1|                     1|                  1|                   1|                  1|                   1|de Sitter Minima ...|               997|\n",
      "+-------+---------------------+-------------------------+-------------------+-------------------+----+--------------------+------------------+-------------------+----------------------+-------------------+--------------------+--------------------+-------------------+---------------------+------------------+-----------------+-----------------+----------------------+--------------------+----------------------+-------------------+--------------------+-------------------+--------------------+--------------------+------------------+\n",
      "\n"
     ]
    }
   ],
   "source": [
    "train.describe().show()"
   ]
  },
  {
   "cell_type": "code",
   "execution_count": 12,
   "id": "08b13260-ac4b-4270-969d-213fa092e7a9",
   "metadata": {},
   "outputs": [
    {
     "name": "stdout",
     "output_type": "stream",
     "text": [
      "+--------------------+--------------+--------------------+\n",
      "|          prediction|citation_count|            features|\n",
      "+--------------------+--------------+--------------------+\n",
      "|   4.345304340619997|             0|(23,[14,15,16],[7...|\n",
      "|   9.794055904529598|             0|(23,[14,15,18],[1...|\n",
      "|  11.899374019061007|             0|(23,[14,15,18],[3...|\n",
      "|  11.158325419992106|             0|(23,[14,15,18],[3...|\n",
      "|   6.041693192113198|             0|(23,[14,15,18,22]...|\n",
      "|  12.697792364864465|             0|(23,[14,15,16],[7...|\n",
      "|-0.09498411154022612|             0|(23,[13,14,15],[1...|\n",
      "|   3.146428525991599|             0|(23,[13,14,15],[1...|\n",
      "|    2.91081749314629|             0|(23,[13,14,15,16]...|\n",
      "|   4.806351833513407|             0|(23,[13,14,15,16]...|\n",
      "|    9.41203398650774|             0|(23,[13,14,15,16]...|\n",
      "| -0.2127674617102402|             0|(23,[12,13,14,15,...|\n",
      "|   6.548581688893582|             0|(23,[12,13,14,15]...|\n",
      "|   8.110374166321847|             0|(23,[12,13,14,15]...|\n",
      "|    8.64920229545576|             0|(23,[10,14,15],[1...|\n",
      "|  11.249689322949575|             0|(23,[7,14,15],[1....|\n",
      "|    9.69259435349054|             0|(23,[7,13,14,15],...|\n",
      "|   8.192685784334317|             0|(23,[6,13,14,15],...|\n",
      "|  34.048452616761594|             0|(23,[6,13,14,15],...|\n",
      "|   3.789517891318321|             1|(23,[14,15,16],[7...|\n",
      "+--------------------+--------------+--------------------+\n",
      "only showing top 20 rows\n",
      "\n",
      "R Squared (R2) on test data = -0.0127267\n"
     ]
    }
   ],
   "source": [
    "lr_predictions = lr_model.transform(test)\n",
    "lr_predictions.select(\"prediction\",\"citation_count\",\"features\").show(20)\n",
    "from pyspark.ml.evaluation import RegressionEvaluator\n",
    "lr_evaluator = RegressionEvaluator(predictionCol=\"prediction\", \\\n",
    "                 labelCol=\"citation_count\",metricName=\"r2\")\n",
    "print(\"R Squared (R2) on test data = %g\" % lr_evaluator.evaluate(lr_predictions))"
   ]
  },
  {
   "cell_type": "code",
   "execution_count": 13,
   "id": "523bf46e-6f9c-476c-8b59-1f005de1b361",
   "metadata": {},
   "outputs": [
    {
     "name": "stdout",
     "output_type": "stream",
     "text": [
      "Root Mean Squared Error (RMSE) on test data = 14.4411\n"
     ]
    }
   ],
   "source": [
    "test_result = lr_model.evaluate(test)\n",
    "print(\"Root Mean Squared Error (RMSE) on test data = %g\" % test_result.rootMeanSquaredError)"
   ]
  },
  {
   "cell_type": "code",
   "execution_count": 14,
   "id": "a6cd62f4-8a6a-4891-bcca-4a55b0ad3cb6",
   "metadata": {},
   "outputs": [
    {
     "name": "stdout",
     "output_type": "stream",
     "text": [
      "numIterations: 10\n",
      "objectiveHistory: [0.5, 0.4795067148990139, 0.4088534387611, 0.4015884537212795, 0.3951838671759592, 0.3891911512386198, 0.38699867674982447, 0.38547261811477584, 0.38472510007121224, 0.38446853505766815, 0.3843724318849703]\n"
     ]
    },
    {
     "name": "stderr",
     "output_type": "stream",
     "text": [
      "/usr/local/spark/python/pyspark/sql/context.py:125: FutureWarning: Deprecated in 3.0.0. Use SparkSession.builder.getOrCreate() instead.\n",
      "  warnings.warn(\n"
     ]
    },
    {
     "name": "stdout",
     "output_type": "stream",
     "text": [
      "+-------------------+\n",
      "|          residuals|\n",
      "+-------------------+\n",
      "| -5.965667344890003|\n",
      "|-3.2835428827849658|\n",
      "|-5.3145279321509875|\n",
      "| -5.505920488017479|\n",
      "|-13.675159390677473|\n",
      "|  -9.22600864302939|\n",
      "|-13.044502433900648|\n",
      "| -6.289881929781245|\n",
      "|-10.374363978228338|\n",
      "|-11.911634831259539|\n",
      "| -6.369304648952784|\n",
      "|-12.034287285750148|\n",
      "| -9.426495888810496|\n",
      "| -8.870709439508822|\n",
      "| -28.23588312870352|\n",
      "|-18.970982629891118|\n",
      "|-0.2448881574978916|\n",
      "|-1.9490299419985169|\n",
      "|-1.7011580969546758|\n",
      "|-1.9919427846933822|\n",
      "+-------------------+\n",
      "only showing top 20 rows\n",
      "\n"
     ]
    }
   ],
   "source": [
    "print(\"numIterations: %d\" % trainingSummary.totalIterations)\n",
    "print(\"objectiveHistory: %s\" % str(trainingSummary.objectiveHistory))\n",
    "trainingSummary.residuals.show()"
   ]
  },
  {
   "cell_type": "code",
   "execution_count": 15,
   "id": "6e242e3e-e92d-41b3-b531-294107a32426",
   "metadata": {},
   "outputs": [
    {
     "name": "stdout",
     "output_type": "stream",
     "text": [
      "+--------------------+--------------+--------------------+\n",
      "|          prediction|citation_count|            features|\n",
      "+--------------------+--------------+--------------------+\n",
      "|   4.345304340619997|             0|(23,[14,15,16],[7...|\n",
      "|   9.794055904529598|             0|(23,[14,15,18],[1...|\n",
      "|  11.899374019061007|             0|(23,[14,15,18],[3...|\n",
      "|  11.158325419992106|             0|(23,[14,15,18],[3...|\n",
      "|   6.041693192113198|             0|(23,[14,15,18,22]...|\n",
      "|  12.697792364864465|             0|(23,[14,15,16],[7...|\n",
      "|-0.09498411154022612|             0|(23,[13,14,15],[1...|\n",
      "|   3.146428525991599|             0|(23,[13,14,15],[1...|\n",
      "|    2.91081749314629|             0|(23,[13,14,15,16]...|\n",
      "|   4.806351833513407|             0|(23,[13,14,15,16]...|\n",
      "|    9.41203398650774|             0|(23,[13,14,15,16]...|\n",
      "| -0.2127674617102402|             0|(23,[12,13,14,15,...|\n",
      "|   6.548581688893582|             0|(23,[12,13,14,15]...|\n",
      "|   8.110374166321847|             0|(23,[12,13,14,15]...|\n",
      "|    8.64920229545576|             0|(23,[10,14,15],[1...|\n",
      "|  11.249689322949575|             0|(23,[7,14,15],[1....|\n",
      "|    9.69259435349054|             0|(23,[7,13,14,15],...|\n",
      "|   8.192685784334317|             0|(23,[6,13,14,15],...|\n",
      "|  34.048452616761594|             0|(23,[6,13,14,15],...|\n",
      "|   3.789517891318321|             1|(23,[14,15,16],[7...|\n",
      "+--------------------+--------------+--------------------+\n",
      "only showing top 20 rows\n",
      "\n"
     ]
    }
   ],
   "source": [
    "predictions = lr_model.transform(test)\n",
    "predictions.select(\"prediction\",\"citation_count\",\"features\").show(20)"
   ]
  },
  {
   "cell_type": "markdown",
   "id": "76c42be0-58e3-4eac-9496-dcee5c96a7b8",
   "metadata": {},
   "source": [
    "## Evaluation of Linear Regression\n",
    "This model performed with an RMSE of ~14 on the testing data. This isn't the most accurate model ever, however it does do an okay job at predicting citations."
   ]
  },
  {
   "cell_type": "markdown",
   "id": "f501964f-dd5a-42d1-987a-7fcd055cd4dd",
   "metadata": {},
   "source": [
    "# Decision Tree Regression"
   ]
  },
  {
   "cell_type": "code",
   "execution_count": 16,
   "id": "9ea96adf-5a30-441a-b0a7-bf4aaffce572",
   "metadata": {},
   "outputs": [
    {
     "name": "stdout",
     "output_type": "stream",
     "text": [
      "Root Mean Squared Error (RMSE) on test data = 15.0328\n"
     ]
    }
   ],
   "source": [
    "from pyspark.ml.regression import DecisionTreeRegressor\n",
    "dt = DecisionTreeRegressor(featuresCol ='features', labelCol = 'citation_count')\n",
    "dt_model = dt.fit(train)\n",
    "dt_predictions = dt_model.transform(test)\n",
    "dt_evaluator = RegressionEvaluator(\n",
    "    labelCol=\"citation_count\", predictionCol=\"prediction\", metricName=\"rmse\")\n",
    "rmse = dt_evaluator.evaluate(dt_predictions)\n",
    "print(\"Root Mean Squared Error (RMSE) on test data = %g\" % rmse)"
   ]
  },
  {
   "cell_type": "code",
   "execution_count": 17,
   "id": "517a19ba-f826-4514-ab94-759c4b6d50f0",
   "metadata": {},
   "outputs": [
    {
     "data": {
      "text/plain": [
       "SparseVector(23, {1: 0.003, 5: 0.2754, 6: 0.0074, 7: 0.0295, 9: 0.0029, 10: 0.0074, 13: 0.0148, 14: 0.497, 15: 0.0698, 18: 0.0341, 19: 0.02, 20: 0.0117, 21: 0.027})"
      ]
     },
     "execution_count": 17,
     "metadata": {},
     "output_type": "execute_result"
    }
   ],
   "source": [
    "dt_model.featureImportances\n"
   ]
  },
  {
   "cell_type": "markdown",
   "id": "559a59ed-6cd4-4029-a38d-3478ef334465",
   "metadata": {},
   "source": [
    "This model performed with an RMSE of 15, which is roughly the same accuracy as the standard regression model."
   ]
  },
  {
   "cell_type": "markdown",
   "id": "7da9ccb0-215e-4e16-b81c-ffa4aacd1a56",
   "metadata": {},
   "source": [
    "# GBT Regression"
   ]
  },
  {
   "cell_type": "code",
   "execution_count": 18,
   "id": "15e6ffbf-0d38-4821-b757-a10815ee4c55",
   "metadata": {},
   "outputs": [
    {
     "name": "stdout",
     "output_type": "stream",
     "text": [
      "+-------------------+--------------+--------------------+\n",
      "|         prediction|citation_count|            features|\n",
      "+-------------------+--------------+--------------------+\n",
      "| -4.758025729493576|            19|(23,[1,13,14,15,1...|\n",
      "|0.43929852742762365|             0|(23,[2,14,15],[1....|\n",
      "| 0.8477842724012375|             1|(23,[13,14,15],[1...|\n",
      "| 1.0574511190273665|             3|(23,[14,15,18,21]...|\n",
      "| 1.4119738664636814|            10|(23,[2,14,15,17],...|\n",
      "| 1.6797149286371216|             0|(23,[14,15,16],[7...|\n",
      "| 1.6797149286371216|             1|(23,[14,15,16],[7...|\n",
      "| 1.6797149286371216|             4|(23,[14,15,18],[8...|\n",
      "| 2.0412499417114693|             0|(23,[12,13,14,15,...|\n",
      "| 2.1118824056366816|             0|(23,[13,14,15],[1...|\n",
      "|   2.11771230729489|             1|(23,[13,14,15],[1...|\n",
      "|   2.11771230729489|             0|(23,[13,14,15],[1...|\n",
      "|   2.11771230729489|             1|(23,[13,14,15],[1...|\n",
      "| 2.1361174476605007|             2|(23,[14,15,16],[1...|\n",
      "| 2.1361174476605007|             2|(23,[10,14,15,18]...|\n",
      "| 2.1361174476605007|             1|(23,[14,15,16],[1...|\n",
      "| 2.1361174476605007|             2|(23,[10,14,15,18]...|\n",
      "| 2.1361174476605007|             2|(23,[14,15,18],[1...|\n",
      "| 2.1361174476605007|             5|(23,[10,14,15,16,...|\n",
      "| 2.2463662421133503|            38|(23,[13,14,15],[1...|\n",
      "+-------------------+--------------+--------------------+\n",
      "only showing top 20 rows\n",
      "\n"
     ]
    }
   ],
   "source": [
    "from pyspark.ml.regression import GBTRegressor\n",
    "gbt = GBTRegressor(featuresCol = 'features', labelCol = 'citation_count', maxIter=10)\n",
    "gbt_model = gbt.fit(train)\n",
    "gbt_predictions = gbt_model.transform(test)\n",
    "gbt_predictions.select('prediction', 'citation_count', 'features').sort('prediction').show(20)"
   ]
  },
  {
   "cell_type": "code",
   "execution_count": 19,
   "id": "c718e1d4-0301-45bb-b3a8-bfba0eaf1cf3",
   "metadata": {},
   "outputs": [
    {
     "name": "stdout",
     "output_type": "stream",
     "text": [
      "Root Mean Squared Error (RMSE) on test data = 15.2337\n"
     ]
    }
   ],
   "source": [
    "gbt_evaluator = RegressionEvaluator(\n",
    "    labelCol=\"citation_count\", predictionCol=\"prediction\", metricName=\"rmse\")\n",
    "rmse = gbt_evaluator.evaluate(gbt_predictions)\n",
    "print(\"Root Mean Squared Error (RMSE) on test data = %g\" % rmse)"
   ]
  },
  {
   "cell_type": "markdown",
   "id": "b148da07-68de-47f3-bce1-46d9464f386d",
   "metadata": {},
   "source": [
    "This model also performed with an RMSE of ~15, which has roughly the same predictive power as the other models."
   ]
  },
  {
   "cell_type": "code",
   "execution_count": null,
   "id": "14864c54-105a-4082-9dd1-c864699b8e04",
   "metadata": {},
   "outputs": [],
   "source": []
  }
 ],
 "metadata": {
  "kernelspec": {
   "display_name": "Python 3 (ipykernel)",
   "language": "python",
   "name": "python3"
  },
  "language_info": {
   "codemirror_mode": {
    "name": "ipython",
    "version": 3
   },
   "file_extension": ".py",
   "mimetype": "text/x-python",
   "name": "python",
   "nbconvert_exporter": "python",
   "pygments_lexer": "ipython3",
   "version": "3.9.10"
  }
 },
 "nbformat": 4,
 "nbformat_minor": 5
}
