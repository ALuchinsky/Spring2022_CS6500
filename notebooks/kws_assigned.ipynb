{
 "cells": [
  {
   "cell_type": "code",
   "execution_count": 1,
   "id": "af3aff68-9186-488e-b9ef-57e65911b768",
   "metadata": {},
   "outputs": [],
   "source": [
    "import findspark\n",
    "findspark.init()\n",
    "\n",
    "from pyspark.sql import SparkSession\n",
    "from pyspark.sql.functions import format_number, mean, min, max, corr, stddev\n",
    "from pyspark.sql.functions import (dayofmonth, hour, dayofyear, month, year, weekofyear, format_number, date_format, asc, desc)\n",
    "from pyspark.sql.functions import explode, col, element_at, size, split\n",
    "from pyspark.sql.functions import udf\n",
    "\n",
    "import matplotlib.pyplot as plt"
   ]
  },
  {
   "cell_type": "code",
   "execution_count": 2,
   "id": "eba777c2-dfa9-44d7-aff2-dc9a99bcf662",
   "metadata": {},
   "outputs": [],
   "source": [
    "# Build a SparkSession named as \"test123\"\n",
    "spark = SparkSession.builder \\\n",
    "    .appName('test_123') \\\n",
    "    .master('local[*]') \\\n",
    "    .config('spark.sql.execution.arrow.pyspark.enabled', True) \\\n",
    "    .config('spark.sql.session.timeZone', 'UTC') \\\n",
    "    .config('spark.driver.memory','8g') \\\n",
    "    .config('spark.ui.showConsoleProgress', True) \\\n",
    "    .config('spark.sql.repl.eagerEval.enabled', True) \\\n",
    "    .getOrCreate()"
   ]
  },
  {
   "cell_type": "code",
   "execution_count": 3,
   "id": "faf270b6-a032-421b-9a7c-cc8265bd3612",
   "metadata": {},
   "outputs": [],
   "source": [
    "data_parh = \"/papers_2000/\""
   ]
  },
  {
   "cell_type": "code",
   "execution_count": 4,
   "id": "3a5fbe6f-e226-42ad-8403-880cea2d418d",
   "metadata": {},
   "outputs": [],
   "source": [
    "short_papers = spark.read.json(\"../data/processed/\"+data_parh+\"/short_papers/\")"
   ]
  },
  {
   "cell_type": "code",
   "execution_count": 5,
   "id": "d3628fbc-5950-4be3-8be2-773fc6de9f7f",
   "metadata": {},
   "outputs": [
    {
     "data": {
      "text/plain": [
       "7192"
      ]
     },
     "execution_count": 5,
     "metadata": {},
     "output_type": "execute_result"
    }
   ],
   "source": [
    "short_papers.count()"
   ]
  },
  {
   "cell_type": "code",
   "execution_count": 6,
   "id": "8f624d3c-408f-4600-a3ff-c531066be140",
   "metadata": {
    "tags": []
   },
   "outputs": [],
   "source": [
    "from pyspark.sql.functions import udf\n",
    "from pyspark.sql.types import *"
   ]
  },
  {
   "cell_type": "markdown",
   "id": "624fb40f-5df1-4176-a4f5-1409ab40d674",
   "metadata": {},
   "source": [
    "This is the list of assigned keywords from the whole dataset"
   ]
  },
  {
   "cell_type": "code",
   "execution_count": 7,
   "id": "a9c0c45f-bfc5-483f-b120-c2672c32fa29",
   "metadata": {},
   "outputs": [],
   "source": [
    "kws  = short_papers.select(explode(col(\"keywords\"))).select(\"col.value\").withColumnRenamed(\"value\", \"K\")\n",
    "kws_counts = kws.groupby(\"K\").count().sort(desc(\"count\"))"
   ]
  },
  {
   "cell_type": "code",
   "execution_count": 8,
   "id": "a44938f0-1579-4d44-9f4e-11322dec5943",
   "metadata": {},
   "outputs": [
    {
     "name": "stdout",
     "output_type": "stream",
     "text": [
      "root\n",
      " |-- abstract: string (nullable = true)\n",
      " |-- authors: array (nullable = true)\n",
      " |    |-- element: string (containsNull = true)\n",
      " |-- citation_count: long (nullable = true)\n",
      " |-- created: string (nullable = true)\n",
      " |-- keywords: array (nullable = true)\n",
      " |    |-- element: struct (containsNull = true)\n",
      " |    |    |-- schema: string (nullable = true)\n",
      " |    |    |-- source: string (nullable = true)\n",
      " |    |    |-- value: string (nullable = true)\n",
      " |-- num_refs: long (nullable = true)\n",
      " |-- number_of_pages: long (nullable = true)\n",
      " |-- title: string (nullable = true)\n",
      "\n"
     ]
    }
   ],
   "source": [
    "short_papers.printSchema()"
   ]
  },
  {
   "cell_type": "code",
   "execution_count": 9,
   "id": "acfbe3eb-60cd-413b-8c25-0471b45f2d3f",
   "metadata": {},
   "outputs": [],
   "source": [
    "df_kws_counts = kws_counts.limit(1000).toPandas()[\"count\"]"
   ]
  },
  {
   "cell_type": "code",
   "execution_count": 10,
   "id": "e8329682-ebee-4581-9823-7a1de0a89269",
   "metadata": {},
   "outputs": [
    {
     "data": {
      "image/png": "[encoded data removed]",
      "text/plain": [
       "<Figure size 432x288 with 1 Axes>"
      ]
     },
     "metadata": {
      "needs_background": "light"
     },
     "output_type": "display_data"
    }
   ],
   "source": [
    "df_kws_counts.plot(style = \"-\")\n",
    "plt.axvline(20, linestyle = \"--\")\n",
    "#plt.axvline(100, linestyle = \"--\")\n",
    "plt.xlim(0, 200)\n",
    "plt.xlabel(\"Number of papers\")\n",
    "plt.ylabel(\"Number of usages\")\n",
    "plt.savefig(\"figures/assigned_kws_elbow.eps\")"
   ]
  },
  {
   "cell_type": "markdown",
   "id": "07a190a4-7eb4-4e9f-930a-54d89ce9f343",
   "metadata": {},
   "source": [
    "Select 20 or 100 most popular  words should be used. We will work with 20 for a while"
   ]
  },
  {
   "cell_type": "code",
   "execution_count": 11,
   "id": "60eb3795-bb55-4636-97cd-73b2e3edc526",
   "metadata": {},
   "outputs": [
    {
     "name": "stdout",
     "output_type": "stream",
     "text": [
      "\t 1 & numerical calculations & 3031 \\\\ \n",
      "\t 2 & numerical calculations: interpretation of experiments & 1240 \\\\ \n",
      "\t 3 & bibliography & 982 \\\\ \n",
      "\t 4 & quantum chromodynamics & 876 \\\\ \n",
      "\t 5 & supersymmetry & 778 \\\\ \n",
      "\t 6 & CP: violation & 610 \\\\ \n",
      "\t 7 & neutrino: oscillation & 602 \\\\ \n",
      "\t 8 & Feynman graph & 573 \\\\ \n",
      "\t 9 & electron positron: annihilation & 542 \\\\ \n",
      "\t 10 & Feynman graph: higher-order & 459 \\\\ \n",
      "\t 11 & effective Lagrangian & 429 \\\\ \n",
      "\t 12 & neutrino: mixing angle & 395 \\\\ \n",
      "\t 13 & neutrino: mass & 389 \\\\ \n",
      "\t 14 & neutrino: solar & 373 \\\\ \n",
      "\t 15 & perturbation theory: higher-order & 369 \\\\ \n",
      "\t 16 & Higgs particle: mass & 341 \\\\ \n",
      "\t 17 & electroweak interaction & 307 \\\\ \n",
      "\t 18 & neutrino: cosmic radiation & 293 \\\\ \n",
      "\t 19 & p p: inclusive reaction & 283 \\\\ \n",
      "\t 20 & critical phenomena & 282 \\\\ \n",
      "\n"
     ]
    }
   ],
   "source": [
    "tab_data = kws_counts.limit(20).collect()\n",
    "tex = \"\"\n",
    "for i, r in enumerate(tab_data):\n",
    "#    print(i,\" \", r[0], r[1])\n",
    "    tex = tex + \"\\t \"+str(i+1) + \" & \" + r[0] + \" & \" + str(r[1]) + r\" \\\\ \" + \"\\n\"\n",
    "print(tex)"
   ]
  },
  {
   "cell_type": "code",
   "execution_count": 12,
   "id": "7b5dab93-154d-4024-bb97-cde6c77192be",
   "metadata": {},
   "outputs": [],
   "source": [
    "# replacing some characters with _\n",
    "import re\n",
    "def format_kwd(kwd):\n",
    "    return re.sub(\"[\\.-/ :()]\", \"_\", kwd)"
   ]
  },
  {
   "cell_type": "code",
   "execution_count": 13,
   "id": "2d60a231-51e9-4307-9aaf-121d16ffd110",
   "metadata": {},
   "outputs": [],
   "source": [
    "selected_keywords = kws_counts.limit(20).toPandas()[\"K\"].tolist()\n",
    "selected_keywords = [format_kwd(K) for K in selected_keywords] + [\"None\"]\n",
    "#selected_keywords"
   ]
  },
  {
   "cell_type": "code",
   "execution_count": 14,
   "id": "98642f8a-8529-46e8-acec-2830f7620938",
   "metadata": {},
   "outputs": [],
   "source": [
    "# from https://www.geeksforgeeks.org/python-intersection-two-lists/\n",
    "def intersection(lst1, lst2):\n",
    "    return list(set(lst1) & set(lst2))\n",
    "\n",
    "from pyspark.sql.functions import monotonically_increasing_id"
   ]
  },
  {
   "cell_type": "markdown",
   "id": "0f908078-41cd-4d63-98c1-e6dd5c088636",
   "metadata": {},
   "source": [
    "Extracting these keywords to a column"
   ]
  },
  {
   "cell_type": "code",
   "execution_count": 15,
   "id": "638735b1-07da-4574-b2e1-34fd36ed317b",
   "metadata": {},
   "outputs": [],
   "source": [
    "# returns first keyword\n",
    "@udf(returnType=ArrayType(StringType()))\n",
    "def list_keywords(a):\n",
    "    return [format_kwd(aa[\"value\"]) for aa in a] if a else [\"None\"]\n",
    "\n",
    "@udf(returnType=ArrayType(StringType()))\n",
    "def filtered_list_keywords(a):\n",
    "    kws_list = [format_kwd(aa[\"value\"]) for aa in a] if a else [\"None\"]\n",
    "    kws_list = intersection(kws_list, selected_keywords)\n",
    "    return kws_list if kws_list else [\"None\"]\n",
    "\n",
    "withKeywords = short_papers.withColumn(\"keywords_\", filtered_list_keywords(col(\"keywords\"))) # .withColumn(\"id\", monotonically_increasing_id())"
   ]
  },
  {
   "cell_type": "code",
   "execution_count": 16,
   "id": "01341d41-f203-4d73-bbd1-071bd49fb717",
   "metadata": {},
   "outputs": [
    {
     "name": "stdout",
     "output_type": "stream",
     "text": [
      "root\n",
      " |-- title: string (nullable = true)\n",
      " |-- number_of_pages: long (nullable = true)\n",
      " |-- citation_count: long (nullable = true)\n",
      " |-- num_refs: long (nullable = true)\n",
      " |-- numerical_calculations: integer (nullable = true)\n",
      " |-- numerical_calculations__interpretation_of_experiments: integer (nullable = true)\n",
      " |-- bibliography: integer (nullable = true)\n",
      " |-- quantum_chromodynamics: integer (nullable = true)\n",
      " |-- supersymmetry: integer (nullable = true)\n",
      " |-- CP__violation: integer (nullable = true)\n",
      " |-- neutrino__oscillation: integer (nullable = true)\n",
      " |-- Feynman_graph: integer (nullable = true)\n",
      " |-- electron_positron__annihilation: integer (nullable = true)\n",
      " |-- Feynman_graph__higher-order: integer (nullable = true)\n",
      " |-- effective_Lagrangian: integer (nullable = true)\n",
      " |-- neutrino__mixing_angle: integer (nullable = true)\n",
      " |-- neutrino__mass: integer (nullable = true)\n",
      " |-- neutrino__solar: integer (nullable = true)\n",
      " |-- perturbation_theory__higher-order: integer (nullable = true)\n",
      " |-- Higgs_particle__mass: integer (nullable = true)\n",
      " |-- electroweak_interaction: integer (nullable = true)\n",
      " |-- neutrino__cosmic_radiation: integer (nullable = true)\n",
      " |-- p_p__inclusive_reaction: integer (nullable = true)\n",
      " |-- critical_phenomena: integer (nullable = true)\n",
      " |-- None: integer (nullable = true)\n",
      " |-- id: long (nullable = false)\n",
      "\n"
     ]
    }
   ],
   "source": [
    "# Creating dummy variables\n",
    "from pyspark.sql.functions import array_contains\n",
    "from pyspark.sql.functions import monotonically_increasing_id\n",
    "dummy_df = withKeywords\n",
    "for kw in selected_keywords:\n",
    "    dummy_df = dummy_df.withColumn(\n",
    "        kw.replace(\".\", \"_\"), \n",
    "        array_contains(col(\"keywords_\"), kw).cast(\"int\")\n",
    "    )\n",
    "dummy_df = dummy_df.select( [\"title\",\"number_of_pages\", \"citation_count\", \"num_refs\"] + selected_keywords)\n",
    "dummy_df = dummy_df.withColumn(\"id\", monotonically_increasing_id())\n",
    "dummy_df.printSchema()"
   ]
  },
  {
   "cell_type": "code",
   "execution_count": 17,
   "id": "f3610286-d3f5-461c-83b3-3559505705af",
   "metadata": {},
   "outputs": [],
   "source": [
    "dummy_df.write.mode(\"overwrite\").json(\"../data/processed/\"+data_parh+\"/kws/dummy/\")"
   ]
  }
 ],
 "metadata": {
  "kernelspec": {
   "display_name": "Python 3 (ipykernel)",
   "language": "python",
   "name": "python3"
  },
  "language_info": {
   "codemirror_mode": {
    "name": "ipython",
    "version": 3
   },
   "file_extension": ".py",
   "mimetype": "text/x-python",
   "name": "python",
   "nbconvert_exporter": "python",
   "pygments_lexer": "ipython3",
   "version": "3.9.10"
  }
 },
 "nbformat": 4,
 "nbformat_minor": 5
}
