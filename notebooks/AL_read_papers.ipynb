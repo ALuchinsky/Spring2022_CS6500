{
 "cells": [
  {
   "cell_type": "code",
   "execution_count": 1,
   "id": "4193de37-de99-4542-828a-6963a6cac94f",
   "metadata": {
    "tags": []
   },
   "outputs": [],
   "source": [
    "import findspark\n",
    "findspark.init()\n",
    "\n",
    "from pyspark.sql import SparkSession\n",
    "from pyspark.sql.functions import format_number, mean, min, max, corr, stddev\n",
    "from pyspark.sql.functions import (dayofmonth, hour, dayofyear, month, year, weekofyear, format_number, date_format, asc, desc)\n",
    "from pyspark.sql.functions import explode, col, element_at, size, split\n",
    "from pyspark.sql.functions import udf"
   ]
  },
  {
   "cell_type": "code",
   "execution_count": 2,
   "id": "04dd610c-4f2b-493e-992c-aa1f1e5bafc2",
   "metadata": {},
   "outputs": [],
   "source": [
    "# Build a SparkSession named as \"test123\"\n",
    "spark = SparkSession.builder \\\n",
    "    .appName('test_123') \\\n",
    "    .master('local[*]') \\\n",
    "    .config('spark.sql.execution.arrow.pyspark.enabled', True) \\\n",
    "    .config('spark.sql.session.timeZone', 'UTC') \\\n",
    "    .config('spark.driver.memory','8g') \\\n",
    "    .config('spark.ui.showConsoleProgress', True) \\\n",
    "    .config('spark.sql.repl.eagerEval.enabled', True) \\\n",
    "    .getOrCreate()"
   ]
  },
  {
   "cell_type": "markdown",
   "id": "df136550-0e8c-4e93-a941-8499d1a6d247",
   "metadata": {
    "tags": []
   },
   "source": [
    "## Loading and Cleaning the Data"
   ]
  },
  {
   "cell_type": "code",
   "execution_count": 3,
   "id": "90e84130-8a46-44fc-8a32-1e239a8a0120",
   "metadata": {},
   "outputs": [],
   "source": [
    "#papers_ = spark.read.option(\"multiLine\", True).option(\"mode\", \"PERMISSIVE\").option(\"encoding\", \"ascii\").json(\"../data/AL_papers.json\")\n",
    "#papers_ = spark.read.option(\"multiLine\", True).option(\"mode\", \"PERMISSIVE\").option(\"encoding\", \"ascii\").json(\"../data/data2/paps1.json\")\n",
    "papers_ = spark.read.option(\"multiLine\", True).option(\"mode\", \"PERMISSIVE\").option(\"encoding\", \"ascii\").json(\"../data/papers/\")\n",
    "papers = papers_.select(explode(col(\"hits.hits\")).alias(\"paper\"))"
   ]
  },
  {
   "cell_type": "code",
   "execution_count": 10,
   "id": "c1c3269c-9ef3-4316-9037-7e7296734d5c",
   "metadata": {},
   "outputs": [
    {
     "data": {
      "text/plain": [
       "3000"
      ]
     },
     "execution_count": 10,
     "metadata": {},
     "output_type": "execute_result"
    }
   ],
   "source": [
    "papers.count()"
   ]
  },
  {
   "cell_type": "code",
   "execution_count": 11,
   "id": "c50cb240-498e-47dc-a6d9-d2068966df6d",
   "metadata": {},
   "outputs": [],
   "source": [
    "def ascii_ignore(x):\n",
    "    return x.encode('ascii', 'ignore').decode('ascii')\n",
    "ascii_udf = udf(ascii_ignore)\n"
   ]
  },
  {
   "cell_type": "code",
   "execution_count": 12,
   "id": "c44d83ed-1fa6-49a1-8841-b02e0f1130fb",
   "metadata": {},
   "outputs": [
    {
     "name": "stdout",
     "output_type": "stream",
     "text": [
      "root\n",
      " |-- title: string (nullable = true)\n",
      " |-- abstract: string (nullable = true)\n",
      " |-- created: string (nullable = true)\n",
      " |-- number_of_pages: long (nullable = true)\n",
      " |-- keywords: array (nullable = true)\n",
      " |    |-- element: struct (containsNull = true)\n",
      " |    |    |-- schema: string (nullable = true)\n",
      " |    |    |-- source: string (nullable = true)\n",
      " |    |    |-- value: string (nullable = true)\n",
      " |-- num_refs: integer (nullable = false)\n",
      " |-- citation_count: long (nullable = true)\n",
      " |-- authors: array (nullable = true)\n",
      " |    |-- element: string (containsNull = true)\n",
      "\n"
     ]
    }
   ],
   "source": [
    "short_papers = papers.select(\n",
    "    element_at(col(\"paper.metadata.titles.title\"), 1).alias(\"title\"),\n",
    "    element_at(col(\"paper.metadata.abstracts.value\"), 1).alias(\"abstract\"),\n",
    "    col(\"paper.created\"), col(\"paper.metadata.number_of_pages\"),\n",
    "    col(\"paper.metadata.keywords\"), size(\n",
    "        col(\"paper.metadata.references\")).alias(\"num_refs\"),\n",
    "    col(\"paper.metadata.citation_count\"),\n",
    "    col(\"paper.metadata.authors.full_name\").alias(\"authors\")\n",
    ").withColumn(\"title\", ascii_udf(\"title\"));\n",
    "short_papers.printSchema()"
   ]
  },
  {
   "cell_type": "markdown",
   "id": "7a8897c6-968b-4867-be43-e5866acd5b80",
   "metadata": {
    "tags": []
   },
   "source": [
    "## Keywords Extraction"
   ]
  },
  {
   "cell_type": "code",
   "execution_count": 13,
   "id": "72d83f80-d552-41a6-945b-65e689384439",
   "metadata": {},
   "outputs": [],
   "source": [
    "from pyspark.sql.functions import udf\n",
    "from pyspark.sql.types import *"
   ]
  },
  {
   "cell_type": "markdown",
   "id": "e2765105-b3f6-4f7d-b405-07fef0ebb8ce",
   "metadata": {},
   "source": [
    "This is the list of assigned keywords from the whole dataset"
   ]
  },
  {
   "cell_type": "code",
   "execution_count": 14,
   "id": "b128ef85-6989-45a7-8d98-a1899a604999",
   "metadata": {},
   "outputs": [
    {
     "name": "stdout",
     "output_type": "stream",
     "text": [
      "+----------------------+-----+\n",
      "|K                     |count|\n",
      "+----------------------+-----+\n",
      "|new physics           |287  |\n",
      "|CERN LHC Coll         |269  |\n",
      "|numerical calculations|220  |\n",
      "|quantum chromodynamics|218  |\n",
      "|structure             |204  |\n",
      "|sensitivity           |169  |\n",
      "|heavy ion: scattering |152  |\n",
      "|effective field theory|145  |\n",
      "|lattice               |137  |\n",
      "|GeV                   |137  |\n",
      "|stability             |121  |\n",
      "|quark                 |120  |\n",
      "|lattice field theory  |119  |\n",
      "|kinematics            |119  |\n",
      "|p p: scattering       |119  |\n",
      "|background            |112  |\n",
      "|higher-order: 1       |108  |\n",
      "|dark matter: mass     |100  |\n",
      "|anomaly               |100  |\n",
      "|dark matter           |99   |\n",
      "+----------------------+-----+\n",
      "only showing top 20 rows\n",
      "\n"
     ]
    }
   ],
   "source": [
    "kws  = short_papers.select(explode(col(\"keywords\"))).select(\"col.value\").withColumnRenamed(\"value\", \"K\")\n",
    "kws.groupby(\"K\").count().sort(desc(\"count\")).show(truncate=False)"
   ]
  },
  {
   "cell_type": "markdown",
   "id": "54505c1a-50a4-490b-adfc-19f7858d9464",
   "metadata": {},
   "source": [
    "Select 20 most used"
   ]
  },
  {
   "cell_type": "code",
   "execution_count": 15,
   "id": "fb018d55-6c11-48c3-9150-f2277b04ff41",
   "metadata": {},
   "outputs": [],
   "source": [
    "# replacing some characters with _\n",
    "import re\n",
    "def format_kwd(kwd):\n",
    "    return re.sub(\"[\\.-/ :()]\", \"_\", kwd)"
   ]
  },
  {
   "cell_type": "code",
   "execution_count": 16,
   "id": "7c3cf496-7b0f-4f86-81d0-c30fc3f79a03",
   "metadata": {},
   "outputs": [
    {
     "data": {
      "text/plain": [
       "['new_physics',\n",
       " 'CERN_LHC_Coll',\n",
       " 'numerical_calculations',\n",
       " 'quantum_chromodynamics',\n",
       " 'structure',\n",
       " 'sensitivity',\n",
       " 'heavy_ion__scattering',\n",
       " 'effective_field_theory',\n",
       " 'lattice',\n",
       " 'GeV',\n",
       " 'stability',\n",
       " 'quark',\n",
       " 'p_p__scattering',\n",
       " 'lattice_field_theory',\n",
       " 'kinematics',\n",
       " 'background',\n",
       " 'higher-order__1',\n",
       " 'dark_matter__mass',\n",
       " 'anomaly',\n",
       " 'dark_matter',\n",
       " 'None']"
      ]
     },
     "execution_count": 16,
     "metadata": {},
     "output_type": "execute_result"
    }
   ],
   "source": [
    "selected_keywords = kws.groupby(\"K\").count().sort(desc(\"count\")).limit(20).toPandas()[\"K\"].tolist()\n",
    "selected_keywords = [format_kwd(K) for K in selected_keywords] + [\"None\"]\n",
    "selected_keywords"
   ]
  },
  {
   "cell_type": "code",
   "execution_count": 17,
   "id": "72995843-d527-49d1-b2c8-121d5cd40553",
   "metadata": {},
   "outputs": [],
   "source": [
    "# from https://www.geeksforgeeks.org/python-intersection-two-lists/\n",
    "def intersection(lst1, lst2):\n",
    "    return list(set(lst1) & set(lst2))"
   ]
  },
  {
   "cell_type": "code",
   "execution_count": 18,
   "id": "19f8eaca-eaa0-444f-8fc3-373c19f1e265",
   "metadata": {},
   "outputs": [],
   "source": [
    "from pyspark.sql.functions import monotonically_increasing_id"
   ]
  },
  {
   "cell_type": "markdown",
   "id": "d5134a51-05b1-4841-9dc3-60ca5dd9ec42",
   "metadata": {},
   "source": [
    "Extracting these keywords to a column"
   ]
  },
  {
   "cell_type": "code",
   "execution_count": 19,
   "id": "c54e9a87-a9b2-4250-a473-41c2962f56d5",
   "metadata": {},
   "outputs": [],
   "source": [
    "# returns first keyword\n",
    "@udf(returnType=ArrayType(StringType()))\n",
    "def list_keywords(a):\n",
    "    return [format_kwd(aa[\"value\"]) for aa in a] if a else [\"None\"]\n",
    "\n",
    "@udf(returnType=ArrayType(StringType()))\n",
    "def filtered_list_keywords(a):\n",
    "    kws_list = [format_kwd(aa[\"value\"]) for aa in a] if a else [\"None\"]\n",
    "    kws_list = intersection(kws_list, selected_keywords)\n",
    "    return kws_list if kws_list else [\"None\"]\n",
    "\n",
    "withKeywords = short_papers.withColumn(\"keywords_\", filtered_list_keywords(col(\"keywords\"))) # .withColumn(\"id\", monotonically_increasing_id())"
   ]
  },
  {
   "cell_type": "code",
   "execution_count": 20,
   "id": "9f4855dc-0971-4714-967f-86ee6b1b7f13",
   "metadata": {},
   "outputs": [
    {
     "name": "stdout",
     "output_type": "stream",
     "text": [
      "root\n",
      " |-- title: string (nullable = true)\n",
      " |-- number_of_pages: long (nullable = true)\n",
      " |-- citation_count: long (nullable = true)\n",
      " |-- num_refs: integer (nullable = false)\n",
      " |-- new_physics: integer (nullable = true)\n",
      " |-- CERN_LHC_Coll: integer (nullable = true)\n",
      " |-- numerical_calculations: integer (nullable = true)\n",
      " |-- quantum_chromodynamics: integer (nullable = true)\n",
      " |-- structure: integer (nullable = true)\n",
      " |-- sensitivity: integer (nullable = true)\n",
      " |-- heavy_ion__scattering: integer (nullable = true)\n",
      " |-- effective_field_theory: integer (nullable = true)\n",
      " |-- lattice: integer (nullable = true)\n",
      " |-- GeV: integer (nullable = true)\n",
      " |-- stability: integer (nullable = true)\n",
      " |-- quark: integer (nullable = true)\n",
      " |-- p_p__scattering: integer (nullable = true)\n",
      " |-- lattice_field_theory: integer (nullable = true)\n",
      " |-- kinematics: integer (nullable = true)\n",
      " |-- background: integer (nullable = true)\n",
      " |-- higher-order__1: integer (nullable = true)\n",
      " |-- dark_matter__mass: integer (nullable = true)\n",
      " |-- anomaly: integer (nullable = true)\n",
      " |-- dark_matter: integer (nullable = true)\n",
      " |-- None: integer (nullable = true)\n",
      "\n"
     ]
    }
   ],
   "source": [
    "# Creating dummy variables\n",
    "from pyspark.sql.functions import array_contains\n",
    "dummy_df = withKeywords\n",
    "for kw in selected_keywords:\n",
    "    dummy_df = dummy_df.withColumn(\n",
    "        kw.replace(\".\", \"_\"), \n",
    "        array_contains(col(\"keywords_\"), kw).cast(\"int\")\n",
    "    )\n",
    "dummy_df = dummy_df.select( [\"title\",\"number_of_pages\", \"citation_count\", \"num_refs\"] + selected_keywords)\n",
    "dummy_df.printSchema()"
   ]
  },
  {
   "cell_type": "code",
   "execution_count": 21,
   "id": "d811818c-ccbc-4bc9-8d11-8e898a8e86bc",
   "metadata": {},
   "outputs": [],
   "source": [
    "dummy_df.write.mode(\"overwrite\").json(\"../data/processed/dummy.json\")"
   ]
  },
  {
   "cell_type": "code",
   "execution_count": null,
   "id": "cbb66ba1-6b9c-493b-ba47-770c90fe5b28",
   "metadata": {},
   "outputs": [],
   "source": [
    "dummy_df.take("
   ]
  },
  {
   "cell_type": "markdown",
   "id": "d9bafb02-0492-4c98-adeb-e1d997969f1d",
   "metadata": {
    "tags": []
   },
   "source": [
    "## Clustering"
   ]
  },
  {
   "cell_type": "markdown",
   "id": "f89a684f-cf42-4c0b-b17c-c847b03d5c69",
   "metadata": {},
   "source": [
    "### Our Data (THIS DOES NOT WORK CURRENTLY, TRY TO RUN kmeans_clustering NOTEBOOK)"
   ]
  },
  {
   "cell_type": "code",
   "execution_count": 21,
   "id": "f487e0c6-0ea9-49da-8a27-93dcb738d113",
   "metadata": {},
   "outputs": [],
   "source": [
    "\n",
    "paps = dummy_df"
   ]
  },
  {
   "cell_type": "code",
   "execution_count": 22,
   "id": "c8fa5b7a-fda9-4e0f-8571-80e76b8ceba8",
   "metadata": {},
   "outputs": [],
   "source": [
    "#Adding an ID to each paper so the abstract data analysis can be attributed to a paper\n",
    "from pyspark.sql.functions import monotonically_increasing_id\n",
    "papersWIDs = paps.withColumn(\"id\", monotonically_increasing_id())"
   ]
  },
  {
   "cell_type": "code",
   "execution_count": 30,
   "id": "590f59e0-bcd0-4057-8888-e8a88efa930f",
   "metadata": {},
   "outputs": [
    {
     "name": "stdout",
     "output_type": "stream",
     "text": [
      "[250, 245]\n"
     ]
    }
   ],
   "source": [
    "# dropping nans\n",
    "papersWIDs_woNA = papersWIDs.dropna()\n",
    "print( [papersWIDs.count(), papersWIDs_woNA.count()])"
   ]
  },
  {
   "cell_type": "code",
   "execution_count": 31,
   "id": "55d2c5d4-064d-4978-91c6-d71467afd237",
   "metadata": {},
   "outputs": [
    {
     "data": {
      "text/plain": [
       "['number_of_pages',\n",
       " 'num_refs',\n",
       " 'CERN_LHC_Coll',\n",
       " 'new_physics',\n",
       " 'quantum_chromodynamics',\n",
       " 'GeV',\n",
       " 'structure',\n",
       " 'lattice',\n",
       " 'effective_field_theory',\n",
       " 'cosmological_model',\n",
       " 'numerical_calculations',\n",
       " 'quark',\n",
       " 'p_p__scattering',\n",
       " 'lattice_field_theory',\n",
       " 'kinematics',\n",
       " 'sensitivity',\n",
       " 'stability',\n",
       " 'dark_matter',\n",
       " 'quantum_chromodynamics__perturbation_theory',\n",
       " 'equation_of_state',\n",
       " 'chiral',\n",
       " 'tree_approximation',\n",
       " 'None']"
      ]
     },
     "execution_count": 31,
     "metadata": {},
     "output_type": "execute_result"
    }
   ],
   "source": [
    "# feature columns (all but title and id)\n",
    "cols = [c for c in papersWIDs_woNA.columns if not c in [\"title\", \"id\"]]\n",
    "cols"
   ]
  },
  {
   "cell_type": "code",
   "execution_count": 33,
   "id": "92f43c44-29ce-40fe-aa59-f332d5e9e831",
   "metadata": {},
   "outputs": [],
   "source": [
    "# assembling features\n",
    "from pyspark.ml.feature import VectorAssembler\n",
    "assembler = VectorAssembler().setInputCols(cols).setOutputCol(\"features\")\n",
    "transformed_data = assembler.transform(papersWIDs_woNA)"
   ]
  },
  {
   "cell_type": "code",
   "execution_count": 34,
   "id": "60027a2c-c0d5-4bec-aa6c-34342bae369e",
   "metadata": {},
   "outputs": [],
   "source": [
    "# noramalizaing the data\n",
    "from pyspark.ml.feature import StandardScaler\n",
    "scaler = StandardScaler(inputCol=\"features\", outputCol=\"scaledFeatures\")\n",
    "scale_model  = scaler.fit(transformed_data)\n",
    "scaled_data = scale_model.transform(transformed_data)"
   ]
  },
  {
   "cell_type": "code",
   "execution_count": 35,
   "id": "f7bf02ec-53e8-49d6-bdeb-ef18577879ed",
   "metadata": {},
   "outputs": [
    {
     "name": "stderr",
     "output_type": "stream",
     "text": [
      "----------------------------------------\n",
      "Exception occurred during processing of request from ('127.0.0.1', 43198)\n",
      "ERROR:root:Exception while sending command.\n",
      "Traceback (most recent call last):\n",
      "  File \"/usr/local/spark/python/lib/py4j-0.10.9.3-src.zip/py4j/clientserver.py\", line 480, in send_command\n",
      "    raise Py4JNetworkError(\"Answer from Java side is empty\")\n",
      "py4j.protocol.Py4JNetworkError: Answer from Java side is empty\n",
      "\n",
      "During handling of the above exception, another exception occurred:\n",
      "\n",
      "Traceback (most recent call last):\n",
      "  File \"/usr/local/spark/python/lib/py4j-0.10.9.3-src.zip/py4j/java_gateway.py\", line 1038, in send_command\n",
      "    response = connection.send_command(command)\n",
      "  File \"/usr/local/spark/python/lib/py4j-0.10.9.3-src.zip/py4j/clientserver.py\", line 503, in send_command\n",
      "    raise Py4JNetworkError(\n",
      "py4j.protocol.Py4JNetworkError: Error while sending or receiving\n",
      "Traceback (most recent call last):\n",
      "  File \"/opt/conda/lib/python3.9/socketserver.py\", line 316, in _handle_request_noblock\n",
      "    self.process_request(request, client_address)\n",
      "  File \"/opt/conda/lib/python3.9/socketserver.py\", line 347, in process_request\n",
      "    self.finish_request(request, client_address)\n",
      "  File \"/opt/conda/lib/python3.9/socketserver.py\", line 360, in finish_request\n",
      "    self.RequestHandlerClass(request, client_address, self)\n",
      "  File \"/opt/conda/lib/python3.9/socketserver.py\", line 747, in __init__\n",
      "    self.handle()\n",
      "  File \"/usr/local/spark/python/pyspark/accumulators.py\", line 262, in handle\n",
      "    poll(accum_updates)\n",
      "  File \"/usr/local/spark/python/pyspark/accumulators.py\", line 235, in poll\n",
      "    if func():\n",
      "  File \"/usr/local/spark/python/pyspark/accumulators.py\", line 239, in accum_updates\n",
      "    num_updates = read_int(self.rfile)\n",
      "  File \"/usr/local/spark/python/pyspark/serializers.py\", line 564, in read_int\n",
      "    raise EOFError\n",
      "EOFError\n",
      "----------------------------------------\n"
     ]
    },
    {
     "ename": "Py4JError",
     "evalue": "An error occurred while calling o537.fit",
     "output_type": "error",
     "traceback": [
      "\u001b[0;31m---------------------------------------------------------------------------\u001b[0m",
      "\u001b[0;31mPy4JError\u001b[0m                                 Traceback (most recent call last)",
      "Input \u001b[0;32mIn [35]\u001b[0m, in \u001b[0;36m<cell line: 8>\u001b[0;34m()\u001b[0m\n\u001b[1;32m      8\u001b[0m \u001b[38;5;28;01mfor\u001b[39;00m i \u001b[38;5;129;01min\u001b[39;00m \u001b[38;5;28mrange\u001b[39m(\u001b[38;5;241m2\u001b[39m, \u001b[38;5;241m20\u001b[39m):\n\u001b[1;32m      9\u001b[0m     kmeans_algo \u001b[38;5;241m=\u001b[39m KMeans(featuresCol\u001b[38;5;241m=\u001b[39m\u001b[38;5;124m\"\u001b[39m\u001b[38;5;124mscaledFeatures\u001b[39m\u001b[38;5;124m\"\u001b[39m, k\u001b[38;5;241m=\u001b[39mi)\n\u001b[0;32m---> 10\u001b[0m     kmeans_fit \u001b[38;5;241m=\u001b[39m \u001b[43mkmeans_algo\u001b[49m\u001b[38;5;241;43m.\u001b[39;49m\u001b[43mfit\u001b[49m\u001b[43m(\u001b[49m\u001b[43mscaled_data\u001b[49m\u001b[43m)\u001b[49m\n\u001b[1;32m     11\u001b[0m     kmeans_out \u001b[38;5;241m=\u001b[39m kmeans_fit\u001b[38;5;241m.\u001b[39mtransform(scaled_data)\n\u001b[1;32m     12\u001b[0m     score \u001b[38;5;241m=\u001b[39m evaluator\u001b[38;5;241m.\u001b[39mevaluate(kmeans_out)\n",
      "File \u001b[0;32m/usr/local/spark/python/pyspark/ml/base.py:161\u001b[0m, in \u001b[0;36mEstimator.fit\u001b[0;34m(self, dataset, params)\u001b[0m\n\u001b[1;32m    159\u001b[0m         \u001b[38;5;28;01mreturn\u001b[39;00m \u001b[38;5;28mself\u001b[39m\u001b[38;5;241m.\u001b[39mcopy(params)\u001b[38;5;241m.\u001b[39m_fit(dataset)\n\u001b[1;32m    160\u001b[0m     \u001b[38;5;28;01melse\u001b[39;00m:\n\u001b[0;32m--> 161\u001b[0m         \u001b[38;5;28;01mreturn\u001b[39;00m \u001b[38;5;28;43mself\u001b[39;49m\u001b[38;5;241;43m.\u001b[39;49m\u001b[43m_fit\u001b[49m\u001b[43m(\u001b[49m\u001b[43mdataset\u001b[49m\u001b[43m)\u001b[49m\n\u001b[1;32m    162\u001b[0m \u001b[38;5;28;01melse\u001b[39;00m:\n\u001b[1;32m    163\u001b[0m     \u001b[38;5;28;01mraise\u001b[39;00m \u001b[38;5;167;01mTypeError\u001b[39;00m(\u001b[38;5;124m\"\u001b[39m\u001b[38;5;124mParams must be either a param map or a list/tuple of param maps, \u001b[39m\u001b[38;5;124m\"\u001b[39m\n\u001b[1;32m    164\u001b[0m                     \u001b[38;5;124m\"\u001b[39m\u001b[38;5;124mbut got \u001b[39m\u001b[38;5;132;01m%s\u001b[39;00m\u001b[38;5;124m.\u001b[39m\u001b[38;5;124m\"\u001b[39m \u001b[38;5;241m%\u001b[39m \u001b[38;5;28mtype\u001b[39m(params))\n",
      "File \u001b[0;32m/usr/local/spark/python/pyspark/ml/wrapper.py:335\u001b[0m, in \u001b[0;36mJavaEstimator._fit\u001b[0;34m(self, dataset)\u001b[0m\n\u001b[1;32m    334\u001b[0m \u001b[38;5;28;01mdef\u001b[39;00m \u001b[38;5;21m_fit\u001b[39m(\u001b[38;5;28mself\u001b[39m, dataset):\n\u001b[0;32m--> 335\u001b[0m     java_model \u001b[38;5;241m=\u001b[39m \u001b[38;5;28;43mself\u001b[39;49m\u001b[38;5;241;43m.\u001b[39;49m\u001b[43m_fit_java\u001b[49m\u001b[43m(\u001b[49m\u001b[43mdataset\u001b[49m\u001b[43m)\u001b[49m\n\u001b[1;32m    336\u001b[0m     model \u001b[38;5;241m=\u001b[39m \u001b[38;5;28mself\u001b[39m\u001b[38;5;241m.\u001b[39m_create_model(java_model)\n\u001b[1;32m    337\u001b[0m     \u001b[38;5;28;01mreturn\u001b[39;00m \u001b[38;5;28mself\u001b[39m\u001b[38;5;241m.\u001b[39m_copyValues(model)\n",
      "File \u001b[0;32m/usr/local/spark/python/pyspark/ml/wrapper.py:332\u001b[0m, in \u001b[0;36mJavaEstimator._fit_java\u001b[0;34m(self, dataset)\u001b[0m\n\u001b[1;32m    318\u001b[0m \u001b[38;5;124;03m\"\"\"\u001b[39;00m\n\u001b[1;32m    319\u001b[0m \u001b[38;5;124;03mFits a Java model to the input dataset.\u001b[39;00m\n\u001b[1;32m    320\u001b[0m \n\u001b[0;32m   (...)\u001b[0m\n\u001b[1;32m    329\u001b[0m \u001b[38;5;124;03m    fitted Java model\u001b[39;00m\n\u001b[1;32m    330\u001b[0m \u001b[38;5;124;03m\"\"\"\u001b[39;00m\n\u001b[1;32m    331\u001b[0m \u001b[38;5;28mself\u001b[39m\u001b[38;5;241m.\u001b[39m_transfer_params_to_java()\n\u001b[0;32m--> 332\u001b[0m \u001b[38;5;28;01mreturn\u001b[39;00m \u001b[38;5;28;43mself\u001b[39;49m\u001b[38;5;241;43m.\u001b[39;49m\u001b[43m_java_obj\u001b[49m\u001b[38;5;241;43m.\u001b[39;49m\u001b[43mfit\u001b[49m\u001b[43m(\u001b[49m\u001b[43mdataset\u001b[49m\u001b[38;5;241;43m.\u001b[39;49m\u001b[43m_jdf\u001b[49m\u001b[43m)\u001b[49m\n",
      "File \u001b[0;32m/usr/local/spark/python/lib/py4j-0.10.9.3-src.zip/py4j/java_gateway.py:1321\u001b[0m, in \u001b[0;36mJavaMember.__call__\u001b[0;34m(self, *args)\u001b[0m\n\u001b[1;32m   1315\u001b[0m command \u001b[38;5;241m=\u001b[39m proto\u001b[38;5;241m.\u001b[39mCALL_COMMAND_NAME \u001b[38;5;241m+\u001b[39m\\\n\u001b[1;32m   1316\u001b[0m     \u001b[38;5;28mself\u001b[39m\u001b[38;5;241m.\u001b[39mcommand_header \u001b[38;5;241m+\u001b[39m\\\n\u001b[1;32m   1317\u001b[0m     args_command \u001b[38;5;241m+\u001b[39m\\\n\u001b[1;32m   1318\u001b[0m     proto\u001b[38;5;241m.\u001b[39mEND_COMMAND_PART\n\u001b[1;32m   1320\u001b[0m answer \u001b[38;5;241m=\u001b[39m \u001b[38;5;28mself\u001b[39m\u001b[38;5;241m.\u001b[39mgateway_client\u001b[38;5;241m.\u001b[39msend_command(command)\n\u001b[0;32m-> 1321\u001b[0m return_value \u001b[38;5;241m=\u001b[39m \u001b[43mget_return_value\u001b[49m\u001b[43m(\u001b[49m\n\u001b[1;32m   1322\u001b[0m \u001b[43m    \u001b[49m\u001b[43manswer\u001b[49m\u001b[43m,\u001b[49m\u001b[43m \u001b[49m\u001b[38;5;28;43mself\u001b[39;49m\u001b[38;5;241;43m.\u001b[39;49m\u001b[43mgateway_client\u001b[49m\u001b[43m,\u001b[49m\u001b[43m \u001b[49m\u001b[38;5;28;43mself\u001b[39;49m\u001b[38;5;241;43m.\u001b[39;49m\u001b[43mtarget_id\u001b[49m\u001b[43m,\u001b[49m\u001b[43m \u001b[49m\u001b[38;5;28;43mself\u001b[39;49m\u001b[38;5;241;43m.\u001b[39;49m\u001b[43mname\u001b[49m\u001b[43m)\u001b[49m\n\u001b[1;32m   1324\u001b[0m \u001b[38;5;28;01mfor\u001b[39;00m temp_arg \u001b[38;5;129;01min\u001b[39;00m temp_args:\n\u001b[1;32m   1325\u001b[0m     temp_arg\u001b[38;5;241m.\u001b[39m_detach()\n",
      "File \u001b[0;32m/usr/local/spark/python/pyspark/sql/utils.py:111\u001b[0m, in \u001b[0;36mcapture_sql_exception.<locals>.deco\u001b[0;34m(*a, **kw)\u001b[0m\n\u001b[1;32m    109\u001b[0m \u001b[38;5;28;01mdef\u001b[39;00m \u001b[38;5;21mdeco\u001b[39m(\u001b[38;5;241m*\u001b[39ma, \u001b[38;5;241m*\u001b[39m\u001b[38;5;241m*\u001b[39mkw):\n\u001b[1;32m    110\u001b[0m     \u001b[38;5;28;01mtry\u001b[39;00m:\n\u001b[0;32m--> 111\u001b[0m         \u001b[38;5;28;01mreturn\u001b[39;00m \u001b[43mf\u001b[49m\u001b[43m(\u001b[49m\u001b[38;5;241;43m*\u001b[39;49m\u001b[43ma\u001b[49m\u001b[43m,\u001b[49m\u001b[43m \u001b[49m\u001b[38;5;241;43m*\u001b[39;49m\u001b[38;5;241;43m*\u001b[39;49m\u001b[43mkw\u001b[49m\u001b[43m)\u001b[49m\n\u001b[1;32m    112\u001b[0m     \u001b[38;5;28;01mexcept\u001b[39;00m py4j\u001b[38;5;241m.\u001b[39mprotocol\u001b[38;5;241m.\u001b[39mPy4JJavaError \u001b[38;5;28;01mas\u001b[39;00m e:\n\u001b[1;32m    113\u001b[0m         converted \u001b[38;5;241m=\u001b[39m convert_exception(e\u001b[38;5;241m.\u001b[39mjava_exception)\n",
      "File \u001b[0;32m/usr/local/spark/python/lib/py4j-0.10.9.3-src.zip/py4j/protocol.py:334\u001b[0m, in \u001b[0;36mget_return_value\u001b[0;34m(answer, gateway_client, target_id, name)\u001b[0m\n\u001b[1;32m    330\u001b[0m             \u001b[38;5;28;01mraise\u001b[39;00m Py4JError(\n\u001b[1;32m    331\u001b[0m                 \u001b[38;5;124m\"\u001b[39m\u001b[38;5;124mAn error occurred while calling \u001b[39m\u001b[38;5;132;01m{0}\u001b[39;00m\u001b[38;5;132;01m{1}\u001b[39;00m\u001b[38;5;132;01m{2}\u001b[39;00m\u001b[38;5;124m. Trace:\u001b[39m\u001b[38;5;130;01m\\n\u001b[39;00m\u001b[38;5;132;01m{3}\u001b[39;00m\u001b[38;5;130;01m\\n\u001b[39;00m\u001b[38;5;124m\"\u001b[39m\u001b[38;5;241m.\u001b[39m\n\u001b[1;32m    332\u001b[0m                 \u001b[38;5;28mformat\u001b[39m(target_id, \u001b[38;5;124m\"\u001b[39m\u001b[38;5;124m.\u001b[39m\u001b[38;5;124m\"\u001b[39m, name, value))\n\u001b[1;32m    333\u001b[0m     \u001b[38;5;28;01melse\u001b[39;00m:\n\u001b[0;32m--> 334\u001b[0m         \u001b[38;5;28;01mraise\u001b[39;00m Py4JError(\n\u001b[1;32m    335\u001b[0m             \u001b[38;5;124m\"\u001b[39m\u001b[38;5;124mAn error occurred while calling \u001b[39m\u001b[38;5;132;01m{0}\u001b[39;00m\u001b[38;5;132;01m{1}\u001b[39;00m\u001b[38;5;132;01m{2}\u001b[39;00m\u001b[38;5;124m\"\u001b[39m\u001b[38;5;241m.\u001b[39m\n\u001b[1;32m    336\u001b[0m             \u001b[38;5;28mformat\u001b[39m(target_id, \u001b[38;5;124m\"\u001b[39m\u001b[38;5;124m.\u001b[39m\u001b[38;5;124m\"\u001b[39m, name))\n\u001b[1;32m    337\u001b[0m \u001b[38;5;28;01melse\u001b[39;00m:\n\u001b[1;32m    338\u001b[0m     \u001b[38;5;28mtype\u001b[39m \u001b[38;5;241m=\u001b[39m answer[\u001b[38;5;241m1\u001b[39m]\n",
      "\u001b[0;31mPy4JError\u001b[0m: An error occurred while calling o537.fit"
     ]
    },
    {
     "name": "stderr",
     "output_type": "stream",
     "text": [
      "ERROR:root:Exception while sending command.\n",
      "Traceback (most recent call last):\n",
      "  File \"/usr/local/spark/python/lib/py4j-0.10.9.3-src.zip/py4j/clientserver.py\", line 480, in send_command\n",
      "    raise Py4JNetworkError(\"Answer from Java side is empty\")\n",
      "py4j.protocol.Py4JNetworkError: Answer from Java side is empty\n",
      "\n",
      "During handling of the above exception, another exception occurred:\n",
      "\n",
      "Traceback (most recent call last):\n",
      "  File \"/usr/local/spark/python/lib/py4j-0.10.9.3-src.zip/py4j/java_gateway.py\", line 1038, in send_command\n",
      "    response = connection.send_command(command)\n",
      "  File \"/usr/local/spark/python/lib/py4j-0.10.9.3-src.zip/py4j/clientserver.py\", line 503, in send_command\n",
      "    raise Py4JNetworkError(\n",
      "py4j.protocol.Py4JNetworkError: Error while sending or receiving\n"
     ]
    }
   ],
   "source": [
    "# finding optimal clusters number\n",
    "from pyspark.ml.clustering import KMeans\n",
    "from pyspark.ml.evaluation import ClusteringEvaluator\n",
    "metric_name = 'silhouette'\n",
    "evaluator = ClusteringEvaluator(predictionCol='prediction', featuresCol='scaledFeatures', \\\n",
    "                                metricName=metric_name, distanceMeasure='squaredEuclidean')\n",
    "scores = []\n",
    "for i in range(2, 20):\n",
    "    kmeans_algo = KMeans(featuresCol=\"scaledFeatures\", k=i)\n",
    "    kmeans_fit = kmeans_algo.fit(scaled_data)\n",
    "    kmeans_out = kmeans_fit.transform(scaled_data)\n",
    "    score = evaluator.evaluate(kmeans_out)\n",
    "    print(score)\n",
    "    scores.append(score)"
   ]
  },
  {
   "cell_type": "code",
   "execution_count": null,
   "id": "322e8836-1c72-4de8-a3f6-696f3356474a",
   "metadata": {},
   "outputs": [],
   "source": [
    "from pyspark.ml.evaluation import ClusteringEvaluator\n",
    "from pyspark.ml.feature import VectorAssembler\n",
    "\n",
    "from pyspark.ml.clustering import KMeans, BisectingKMeans\n"
   ]
  },
  {
   "cell_type": "code",
   "execution_count": null,
   "id": "592279bd-7f83-4c3c-a956-98e99a8daaf3",
   "metadata": {},
   "outputs": [
    {
     "data": {
      "text/plain": [
       "['tree_approximation', 'None']"
      ]
     },
     "execution_count": 47,
     "metadata": {},
     "output_type": "execute_result"
    }
   ],
   "source": [
    "selected_keywords[-2:]"
   ]
  },
  {
   "cell_type": "code",
   "execution_count": null,
   "id": "6cb34753-8ce1-48e1-b34b-64736291037d",
   "metadata": {},
   "outputs": [
    {
     "ename": "ConnectionRefusedError",
     "evalue": "[Errno 111] Connection refused",
     "output_type": "error",
     "traceback": [
      "\u001b[0;31m---------------------------------------------------------------------------\u001b[0m",
      "\u001b[0;31mConnectionRefusedError\u001b[0m                    Traceback (most recent call last)",
      "Input \u001b[0;32mIn [78]\u001b[0m, in \u001b[0;36m<cell line: 1>\u001b[0;34m()\u001b[0m\n\u001b[0;32m----> 1\u001b[0m assembler \u001b[38;5;241m=\u001b[39m \u001b[43mVectorAssembler\u001b[49m\u001b[43m(\u001b[49m\u001b[43m)\u001b[49m\u001b[38;5;241m.\u001b[39msetInputCols(dummy_df\u001b[38;5;241m.\u001b[39mcolumns[\u001b[38;5;241m-\u001b[39m\u001b[38;5;241m18\u001b[39m:])\u001b[38;5;241m.\u001b[39msetOutputCol(\u001b[38;5;124m\"\u001b[39m\u001b[38;5;124mfeatures\u001b[39m\u001b[38;5;124m\"\u001b[39m)\n\u001b[1;32m      2\u001b[0m data_transformed \u001b[38;5;241m=\u001b[39m assembler\u001b[38;5;241m.\u001b[39mtransform(dummy_df\u001b[38;5;241m.\u001b[39mlimit(\u001b[38;5;241m100\u001b[39m))\n\u001b[1;32m      4\u001b[0m kmean \u001b[38;5;241m=\u001b[39m KMeans()\u001b[38;5;241m.\u001b[39msetK(\u001b[38;5;241m4\u001b[39m)\u001b[38;5;241m.\u001b[39msetSeed(\u001b[38;5;241m1\u001b[39m)\u001b[38;5;241m.\u001b[39msetFeaturesCol(\u001b[38;5;124m\"\u001b[39m\u001b[38;5;124mfeatures\u001b[39m\u001b[38;5;124m\"\u001b[39m)\n",
      "File \u001b[0;32m/usr/local/spark/python/pyspark/__init__.py:114\u001b[0m, in \u001b[0;36mkeyword_only.<locals>.wrapper\u001b[0;34m(self, *args, **kwargs)\u001b[0m\n\u001b[1;32m    112\u001b[0m     \u001b[38;5;28;01mraise\u001b[39;00m \u001b[38;5;167;01mTypeError\u001b[39;00m(\u001b[38;5;124m\"\u001b[39m\u001b[38;5;124mMethod \u001b[39m\u001b[38;5;132;01m%s\u001b[39;00m\u001b[38;5;124m forces keyword arguments.\u001b[39m\u001b[38;5;124m\"\u001b[39m \u001b[38;5;241m%\u001b[39m func\u001b[38;5;241m.\u001b[39m\u001b[38;5;18m__name__\u001b[39m)\n\u001b[1;32m    113\u001b[0m \u001b[38;5;28mself\u001b[39m\u001b[38;5;241m.\u001b[39m_input_kwargs \u001b[38;5;241m=\u001b[39m kwargs\n\u001b[0;32m--> 114\u001b[0m \u001b[38;5;28;01mreturn\u001b[39;00m \u001b[43mfunc\u001b[49m\u001b[43m(\u001b[49m\u001b[38;5;28;43mself\u001b[39;49m\u001b[43m,\u001b[49m\u001b[43m \u001b[49m\u001b[38;5;241;43m*\u001b[39;49m\u001b[38;5;241;43m*\u001b[39;49m\u001b[43mkwargs\u001b[49m\u001b[43m)\u001b[49m\n",
      "File \u001b[0;32m/usr/local/spark/python/pyspark/ml/feature.py:4231\u001b[0m, in \u001b[0;36mVectorAssembler.__init__\u001b[0;34m(self, inputCols, outputCol, handleInvalid)\u001b[0m\n\u001b[1;32m   4227\u001b[0m \u001b[38;5;124;03m\"\"\"\u001b[39;00m\n\u001b[1;32m   4228\u001b[0m \u001b[38;5;124;03m__init__(self, \\\\*, inputCols=None, outputCol=None, handleInvalid=\"error\")\u001b[39;00m\n\u001b[1;32m   4229\u001b[0m \u001b[38;5;124;03m\"\"\"\u001b[39;00m\n\u001b[1;32m   4230\u001b[0m \u001b[38;5;28msuper\u001b[39m(VectorAssembler, \u001b[38;5;28mself\u001b[39m)\u001b[38;5;241m.\u001b[39m\u001b[38;5;21m__init__\u001b[39m()\n\u001b[0;32m-> 4231\u001b[0m \u001b[38;5;28mself\u001b[39m\u001b[38;5;241m.\u001b[39m_java_obj \u001b[38;5;241m=\u001b[39m \u001b[38;5;28;43mself\u001b[39;49m\u001b[38;5;241;43m.\u001b[39;49m\u001b[43m_new_java_obj\u001b[49m\u001b[43m(\u001b[49m\u001b[38;5;124;43m\"\u001b[39;49m\u001b[38;5;124;43morg.apache.spark.ml.feature.VectorAssembler\u001b[39;49m\u001b[38;5;124;43m\"\u001b[39;49m\u001b[43m,\u001b[49m\u001b[43m \u001b[49m\u001b[38;5;28;43mself\u001b[39;49m\u001b[38;5;241;43m.\u001b[39;49m\u001b[43muid\u001b[49m\u001b[43m)\u001b[49m\n\u001b[1;32m   4232\u001b[0m \u001b[38;5;28mself\u001b[39m\u001b[38;5;241m.\u001b[39m_setDefault(handleInvalid\u001b[38;5;241m=\u001b[39m\u001b[38;5;124m\"\u001b[39m\u001b[38;5;124merror\u001b[39m\u001b[38;5;124m\"\u001b[39m)\n\u001b[1;32m   4233\u001b[0m kwargs \u001b[38;5;241m=\u001b[39m \u001b[38;5;28mself\u001b[39m\u001b[38;5;241m.\u001b[39m_input_kwargs\n",
      "File \u001b[0;32m/usr/local/spark/python/pyspark/ml/wrapper.py:64\u001b[0m, in \u001b[0;36mJavaWrapper._new_java_obj\u001b[0;34m(java_class, *args)\u001b[0m\n\u001b[1;32m     62\u001b[0m java_obj \u001b[38;5;241m=\u001b[39m _jvm()\n\u001b[1;32m     63\u001b[0m \u001b[38;5;28;01mfor\u001b[39;00m name \u001b[38;5;129;01min\u001b[39;00m java_class\u001b[38;5;241m.\u001b[39msplit(\u001b[38;5;124m\"\u001b[39m\u001b[38;5;124m.\u001b[39m\u001b[38;5;124m\"\u001b[39m):\n\u001b[0;32m---> 64\u001b[0m     java_obj \u001b[38;5;241m=\u001b[39m \u001b[38;5;28;43mgetattr\u001b[39;49m\u001b[43m(\u001b[49m\u001b[43mjava_obj\u001b[49m\u001b[43m,\u001b[49m\u001b[43m \u001b[49m\u001b[43mname\u001b[49m\u001b[43m)\u001b[49m\n\u001b[1;32m     65\u001b[0m java_args \u001b[38;5;241m=\u001b[39m [_py2java(sc, arg) \u001b[38;5;28;01mfor\u001b[39;00m arg \u001b[38;5;129;01min\u001b[39;00m args]\n\u001b[1;32m     66\u001b[0m \u001b[38;5;28;01mreturn\u001b[39;00m java_obj(\u001b[38;5;241m*\u001b[39mjava_args)\n",
      "File \u001b[0;32m/usr/local/spark/python/lib/py4j-0.10.9.3-src.zip/py4j/java_gateway.py:1709\u001b[0m, in \u001b[0;36mJVMView.__getattr__\u001b[0;34m(self, name)\u001b[0m\n\u001b[1;32m   1706\u001b[0m \u001b[38;5;28;01mif\u001b[39;00m name \u001b[38;5;241m==\u001b[39m UserHelpAutoCompletion\u001b[38;5;241m.\u001b[39mKEY:\n\u001b[1;32m   1707\u001b[0m     \u001b[38;5;28;01mreturn\u001b[39;00m UserHelpAutoCompletion()\n\u001b[0;32m-> 1709\u001b[0m answer \u001b[38;5;241m=\u001b[39m \u001b[38;5;28;43mself\u001b[39;49m\u001b[38;5;241;43m.\u001b[39;49m\u001b[43m_gateway_client\u001b[49m\u001b[38;5;241;43m.\u001b[39;49m\u001b[43msend_command\u001b[49m\u001b[43m(\u001b[49m\n\u001b[1;32m   1710\u001b[0m \u001b[43m    \u001b[49m\u001b[43mproto\u001b[49m\u001b[38;5;241;43m.\u001b[39;49m\u001b[43mREFLECTION_COMMAND_NAME\u001b[49m\u001b[43m \u001b[49m\u001b[38;5;241;43m+\u001b[39;49m\n\u001b[1;32m   1711\u001b[0m \u001b[43m    \u001b[49m\u001b[43mproto\u001b[49m\u001b[38;5;241;43m.\u001b[39;49m\u001b[43mREFL_GET_UNKNOWN_SUB_COMMAND_NAME\u001b[49m\u001b[43m \u001b[49m\u001b[38;5;241;43m+\u001b[39;49m\u001b[43m \u001b[49m\u001b[43mname\u001b[49m\u001b[43m \u001b[49m\u001b[38;5;241;43m+\u001b[39;49m\u001b[43m \u001b[49m\u001b[38;5;124;43m\"\u001b[39;49m\u001b[38;5;130;43;01m\\n\u001b[39;49;00m\u001b[38;5;124;43m\"\u001b[39;49m\u001b[43m \u001b[49m\u001b[38;5;241;43m+\u001b[39;49m\u001b[43m \u001b[49m\u001b[38;5;28;43mself\u001b[39;49m\u001b[38;5;241;43m.\u001b[39;49m\u001b[43m_id\u001b[49m\u001b[43m \u001b[49m\u001b[38;5;241;43m+\u001b[39;49m\n\u001b[1;32m   1712\u001b[0m \u001b[43m    \u001b[49m\u001b[38;5;124;43m\"\u001b[39;49m\u001b[38;5;130;43;01m\\n\u001b[39;49;00m\u001b[38;5;124;43m\"\u001b[39;49m\u001b[43m \u001b[49m\u001b[38;5;241;43m+\u001b[39;49m\u001b[43m \u001b[49m\u001b[43mproto\u001b[49m\u001b[38;5;241;43m.\u001b[39;49m\u001b[43mEND_COMMAND_PART\u001b[49m\u001b[43m)\u001b[49m\n\u001b[1;32m   1713\u001b[0m \u001b[38;5;28;01mif\u001b[39;00m answer \u001b[38;5;241m==\u001b[39m proto\u001b[38;5;241m.\u001b[39mSUCCESS_PACKAGE:\n\u001b[1;32m   1714\u001b[0m     \u001b[38;5;28;01mreturn\u001b[39;00m JavaPackage(name, \u001b[38;5;28mself\u001b[39m\u001b[38;5;241m.\u001b[39m_gateway_client, jvm_id\u001b[38;5;241m=\u001b[39m\u001b[38;5;28mself\u001b[39m\u001b[38;5;241m.\u001b[39m_id)\n",
      "File \u001b[0;32m/usr/local/spark/python/lib/py4j-0.10.9.3-src.zip/py4j/java_gateway.py:1036\u001b[0m, in \u001b[0;36mGatewayClient.send_command\u001b[0;34m(self, command, retry, binary)\u001b[0m\n\u001b[1;32m   1015\u001b[0m \u001b[38;5;28;01mdef\u001b[39;00m \u001b[38;5;21msend_command\u001b[39m(\u001b[38;5;28mself\u001b[39m, command, retry\u001b[38;5;241m=\u001b[39m\u001b[38;5;28;01mTrue\u001b[39;00m, binary\u001b[38;5;241m=\u001b[39m\u001b[38;5;28;01mFalse\u001b[39;00m):\n\u001b[1;32m   1016\u001b[0m     \u001b[38;5;124;03m\"\"\"Sends a command to the JVM. This method is not intended to be\u001b[39;00m\n\u001b[1;32m   1017\u001b[0m \u001b[38;5;124;03m       called directly by Py4J users. It is usually called by\u001b[39;00m\n\u001b[1;32m   1018\u001b[0m \u001b[38;5;124;03m       :class:`JavaMember` instances.\u001b[39;00m\n\u001b[0;32m   (...)\u001b[0m\n\u001b[1;32m   1034\u001b[0m \u001b[38;5;124;03m     if `binary` is `True`.\u001b[39;00m\n\u001b[1;32m   1035\u001b[0m \u001b[38;5;124;03m    \"\"\"\u001b[39;00m\n\u001b[0;32m-> 1036\u001b[0m     connection \u001b[38;5;241m=\u001b[39m \u001b[38;5;28;43mself\u001b[39;49m\u001b[38;5;241;43m.\u001b[39;49m\u001b[43m_get_connection\u001b[49m\u001b[43m(\u001b[49m\u001b[43m)\u001b[49m\n\u001b[1;32m   1037\u001b[0m     \u001b[38;5;28;01mtry\u001b[39;00m:\n\u001b[1;32m   1038\u001b[0m         response \u001b[38;5;241m=\u001b[39m connection\u001b[38;5;241m.\u001b[39msend_command(command)\n",
      "File \u001b[0;32m/usr/local/spark/python/lib/py4j-0.10.9.3-src.zip/py4j/clientserver.py:281\u001b[0m, in \u001b[0;36mJavaClient._get_connection\u001b[0;34m(self)\u001b[0m\n\u001b[1;32m    278\u001b[0m     \u001b[38;5;28;01mpass\u001b[39;00m\n\u001b[1;32m    280\u001b[0m \u001b[38;5;28;01mif\u001b[39;00m connection \u001b[38;5;129;01mis\u001b[39;00m \u001b[38;5;28;01mNone\u001b[39;00m \u001b[38;5;129;01mor\u001b[39;00m connection\u001b[38;5;241m.\u001b[39msocket \u001b[38;5;129;01mis\u001b[39;00m \u001b[38;5;28;01mNone\u001b[39;00m:\n\u001b[0;32m--> 281\u001b[0m     connection \u001b[38;5;241m=\u001b[39m \u001b[38;5;28;43mself\u001b[39;49m\u001b[38;5;241;43m.\u001b[39;49m\u001b[43m_create_new_connection\u001b[49m\u001b[43m(\u001b[49m\u001b[43m)\u001b[49m\n\u001b[1;32m    282\u001b[0m \u001b[38;5;28;01mreturn\u001b[39;00m connection\n",
      "File \u001b[0;32m/usr/local/spark/python/lib/py4j-0.10.9.3-src.zip/py4j/clientserver.py:288\u001b[0m, in \u001b[0;36mJavaClient._create_new_connection\u001b[0;34m(self)\u001b[0m\n\u001b[1;32m    284\u001b[0m \u001b[38;5;28;01mdef\u001b[39;00m \u001b[38;5;21m_create_new_connection\u001b[39m(\u001b[38;5;28mself\u001b[39m):\n\u001b[1;32m    285\u001b[0m     connection \u001b[38;5;241m=\u001b[39m ClientServerConnection(\n\u001b[1;32m    286\u001b[0m         \u001b[38;5;28mself\u001b[39m\u001b[38;5;241m.\u001b[39mjava_parameters, \u001b[38;5;28mself\u001b[39m\u001b[38;5;241m.\u001b[39mpython_parameters,\n\u001b[1;32m    287\u001b[0m         \u001b[38;5;28mself\u001b[39m\u001b[38;5;241m.\u001b[39mgateway_property, \u001b[38;5;28mself\u001b[39m)\n\u001b[0;32m--> 288\u001b[0m     \u001b[43mconnection\u001b[49m\u001b[38;5;241;43m.\u001b[39;49m\u001b[43mconnect_to_java_server\u001b[49m\u001b[43m(\u001b[49m\u001b[43m)\u001b[49m\n\u001b[1;32m    289\u001b[0m     \u001b[38;5;28mself\u001b[39m\u001b[38;5;241m.\u001b[39mset_thread_connection(connection)\n\u001b[1;32m    290\u001b[0m     \u001b[38;5;28;01mreturn\u001b[39;00m connection\n",
      "File \u001b[0;32m/usr/local/spark/python/lib/py4j-0.10.9.3-src.zip/py4j/clientserver.py:402\u001b[0m, in \u001b[0;36mClientServerConnection.connect_to_java_server\u001b[0;34m(self)\u001b[0m\n\u001b[1;32m    399\u001b[0m \u001b[38;5;28;01mif\u001b[39;00m \u001b[38;5;28mself\u001b[39m\u001b[38;5;241m.\u001b[39mssl_context:\n\u001b[1;32m    400\u001b[0m     \u001b[38;5;28mself\u001b[39m\u001b[38;5;241m.\u001b[39msocket \u001b[38;5;241m=\u001b[39m \u001b[38;5;28mself\u001b[39m\u001b[38;5;241m.\u001b[39mssl_context\u001b[38;5;241m.\u001b[39mwrap_socket(\n\u001b[1;32m    401\u001b[0m         \u001b[38;5;28mself\u001b[39m\u001b[38;5;241m.\u001b[39msocket, server_hostname\u001b[38;5;241m=\u001b[39m\u001b[38;5;28mself\u001b[39m\u001b[38;5;241m.\u001b[39mjava_address)\n\u001b[0;32m--> 402\u001b[0m \u001b[38;5;28;43mself\u001b[39;49m\u001b[38;5;241;43m.\u001b[39;49m\u001b[43msocket\u001b[49m\u001b[38;5;241;43m.\u001b[39;49m\u001b[43mconnect\u001b[49m\u001b[43m(\u001b[49m\u001b[43m(\u001b[49m\u001b[38;5;28;43mself\u001b[39;49m\u001b[38;5;241;43m.\u001b[39;49m\u001b[43mjava_address\u001b[49m\u001b[43m,\u001b[49m\u001b[43m \u001b[49m\u001b[38;5;28;43mself\u001b[39;49m\u001b[38;5;241;43m.\u001b[39;49m\u001b[43mjava_port\u001b[49m\u001b[43m)\u001b[49m\u001b[43m)\u001b[49m\n\u001b[1;32m    403\u001b[0m \u001b[38;5;28mself\u001b[39m\u001b[38;5;241m.\u001b[39mstream \u001b[38;5;241m=\u001b[39m \u001b[38;5;28mself\u001b[39m\u001b[38;5;241m.\u001b[39msocket\u001b[38;5;241m.\u001b[39mmakefile(\u001b[38;5;124m\"\u001b[39m\u001b[38;5;124mrb\u001b[39m\u001b[38;5;124m\"\u001b[39m)\n\u001b[1;32m    404\u001b[0m \u001b[38;5;28mself\u001b[39m\u001b[38;5;241m.\u001b[39mis_connected \u001b[38;5;241m=\u001b[39m \u001b[38;5;28;01mTrue\u001b[39;00m\n",
      "\u001b[0;31mConnectionRefusedError\u001b[0m: [Errno 111] Connection refused"
     ]
    }
   ],
   "source": [
    "assembler = VectorAssembler().setInputCols(dummy_df.columns[-18:]).setOutputCol(\"features\")\n",
    "data_transformed = assembler.transform(dummy_df.limit(100))\n",
    "\n",
    "kmean = KMeans().setK(4).setSeed(1).setFeaturesCol(\"features\")\n",
    "model = kmean.fit(data_transformed)"
   ]
  },
  {
   "cell_type": "code",
   "execution_count": null,
   "id": "3934e678-c1da-4cd2-b555-b68be5ff8137",
   "metadata": {},
   "outputs": [
    {
     "data": {
      "text/html": [
       "<table border='1'>\n",
       "<tr><th>title</th><th>prediction</th></tr>\n",
       "<tr><td>Shadow Extra Dime...</td><td>0</td></tr>\n",
       "<tr><td>Critical behavior...</td><td>0</td></tr>\n",
       "<tr><td>Investigation of ...</td><td>2</td></tr>\n",
       "<tr><td>Meson structure o...</td><td>0</td></tr>\n",
       "<tr><td>Improving heavy D...</td><td>2</td></tr>\n",
       "<tr><td>Coupled-channel a...</td><td>0</td></tr>\n",
       "<tr><td>Revisiting the co...</td><td>2</td></tr>\n",
       "<tr><td>Electroweak Radia...</td><td>3</td></tr>\n",
       "<tr><td>Heavy Higgs boson...</td><td>3</td></tr>\n",
       "<tr><td>Gluon fragmentati...</td><td>0</td></tr>\n",
       "<tr><td>Collider Signatur...</td><td>2</td></tr>\n",
       "<tr><td>Pulsar Timing Res...</td><td>0</td></tr>\n",
       "<tr><td>Spinodal Gravitat...</td><td>1</td></tr>\n",
       "<tr><td>Reheating in Runa...</td><td>0</td></tr>\n",
       "<tr><td>Analytic solution...</td><td>1</td></tr>\n",
       "<tr><td>Hydrodynamic heli...</td><td>0</td></tr>\n",
       "<tr><td>Q-balls with Mult...</td><td>0</td></tr>\n",
       "<tr><td>The landscape of ...</td><td>0</td></tr>\n",
       "<tr><td>Higgs Properties ...</td><td>3</td></tr>\n",
       "<tr><td>FACET: A new long...</td><td>3</td></tr>\n",
       "</table>\n",
       "only showing top 20 rows\n"
      ],
      "text/plain": [
       "+--------------------+----------+\n",
       "|               title|prediction|\n",
       "+--------------------+----------+\n",
       "|Shadow Extra Dime...|         0|\n",
       "|Critical behavior...|         0|\n",
       "|Investigation of ...|         2|\n",
       "|Meson structure o...|         0|\n",
       "|Improving heavy D...|         2|\n",
       "|Coupled-channel a...|         0|\n",
       "|Revisiting the co...|         2|\n",
       "|Electroweak Radia...|         3|\n",
       "|Heavy Higgs boson...|         3|\n",
       "|Gluon fragmentati...|         0|\n",
       "|Collider Signatur...|         2|\n",
       "|Pulsar Timing Res...|         0|\n",
       "|Spinodal Gravitat...|         1|\n",
       "|Reheating in Runa...|         0|\n",
       "|Analytic solution...|         1|\n",
       "|Hydrodynamic heli...|         0|\n",
       "|Q-balls with Mult...|         0|\n",
       "|The landscape of ...|         0|\n",
       "|Higgs Properties ...|         3|\n",
       "|FACET: A new long...|         3|\n",
       "+--------------------+----------+\n",
       "only showing top 20 rows"
      ]
     },
     "execution_count": 70,
     "metadata": {},
     "output_type": "execute_result"
    }
   ],
   "source": [
    "preds = model.transform(data_transformed)\n",
    "preds.select(\"title\", \"prediction\")"
   ]
  },
  {
   "cell_type": "code",
   "execution_count": null,
   "id": "207519bd-3522-4149-8959-7e0840294152",
   "metadata": {},
   "outputs": [
    {
     "data": {
      "text/plain": [
       "<AxesSubplot:>"
      ]
     },
     "execution_count": 75,
     "metadata": {},
     "output_type": "execute_result"
    },
    {
     "data": {
      "image/png": "[encoded data removed]",
      "text/plain": [
       "<Figure size 432x288 with 1 Axes>"
      ]
     },
     "metadata": {
      "needs_background": "light"
     },
     "output_type": "display_data"
    }
   ],
   "source": [
    "preds.select(\"prediction\").groupby(\"prediction\").count().sort(\"count\").toPandas().plot()"
   ]
  },
  {
   "cell_type": "code",
   "execution_count": null,
   "id": "b24d7dcc-d48f-4739-a844-9632512ed7f1",
   "metadata": {},
   "outputs": [
    {
     "data": {
      "text/plain": [
       "ClusteringEvaluator_2e7273e2f3f8"
      ]
     },
     "execution_count": 102,
     "metadata": {},
     "output_type": "execute_result"
    }
   ],
   "source": [
    "evaluator = ClusteringEvaluator()\n",
    "evaluator.setPredictionCol(\"prediction\")"
   ]
  },
  {
   "cell_type": "code",
   "execution_count": null,
   "id": "959e7367-dc4c-4822-b5e3-8d6ab410b7da",
   "metadata": {},
   "outputs": [],
   "source": [
    "import numpy as np"
   ]
  },
  {
   "cell_type": "code",
   "execution_count": null,
   "id": "52542d86-20f0-4273-80fd-4cab6a6f181f",
   "metadata": {},
   "outputs": [
    {
     "name": "stdout",
     "output_type": "stream",
     "text": [
      "5\n"
     ]
    },
    {
     "ename": "ConnectionRefusedError",
     "evalue": "[Errno 111] Connection refused",
     "output_type": "error",
     "traceback": [
      "\u001b[0;31m---------------------------------------------------------------------------\u001b[0m",
      "\u001b[0;31mConnectionRefusedError\u001b[0m                    Traceback (most recent call last)",
      "Input \u001b[0;32mIn [104]\u001b[0m, in \u001b[0;36m<cell line: 2>\u001b[0;34m()\u001b[0m\n\u001b[1;32m      2\u001b[0m \u001b[38;5;28;01mfor\u001b[39;00m k \u001b[38;5;129;01min\u001b[39;00m \u001b[38;5;28mrange\u001b[39m(\u001b[38;5;241m5\u001b[39m, \u001b[38;5;241m10\u001b[39m):\n\u001b[1;32m      3\u001b[0m     \u001b[38;5;28mprint\u001b[39m(k)\n\u001b[0;32m----> 4\u001b[0m     kmean \u001b[38;5;241m=\u001b[39m \u001b[43mKMeans\u001b[49m\u001b[43m(\u001b[49m\u001b[43m)\u001b[49m\u001b[38;5;241m.\u001b[39msetK(k)\u001b[38;5;241m.\u001b[39msetFeaturesCol(\u001b[38;5;124m\"\u001b[39m\u001b[38;5;124mfeatures\u001b[39m\u001b[38;5;124m\"\u001b[39m)\n\u001b[1;32m      5\u001b[0m     model \u001b[38;5;241m=\u001b[39m kmean\u001b[38;5;241m.\u001b[39mfit(data_transformed)\n\u001b[1;32m      6\u001b[0m     preds \u001b[38;5;241m=\u001b[39m model\u001b[38;5;241m.\u001b[39mtransform(data_transformed)\n",
      "File \u001b[0;32m/usr/local/spark/python/pyspark/__init__.py:114\u001b[0m, in \u001b[0;36mkeyword_only.<locals>.wrapper\u001b[0;34m(self, *args, **kwargs)\u001b[0m\n\u001b[1;32m    112\u001b[0m     \u001b[38;5;28;01mraise\u001b[39;00m \u001b[38;5;167;01mTypeError\u001b[39;00m(\u001b[38;5;124m\"\u001b[39m\u001b[38;5;124mMethod \u001b[39m\u001b[38;5;132;01m%s\u001b[39;00m\u001b[38;5;124m forces keyword arguments.\u001b[39m\u001b[38;5;124m\"\u001b[39m \u001b[38;5;241m%\u001b[39m func\u001b[38;5;241m.\u001b[39m\u001b[38;5;18m__name__\u001b[39m)\n\u001b[1;32m    113\u001b[0m \u001b[38;5;28mself\u001b[39m\u001b[38;5;241m.\u001b[39m_input_kwargs \u001b[38;5;241m=\u001b[39m kwargs\n\u001b[0;32m--> 114\u001b[0m \u001b[38;5;28;01mreturn\u001b[39;00m \u001b[43mfunc\u001b[49m\u001b[43m(\u001b[49m\u001b[38;5;28;43mself\u001b[39;49m\u001b[43m,\u001b[49m\u001b[43m \u001b[49m\u001b[38;5;241;43m*\u001b[39;49m\u001b[38;5;241;43m*\u001b[39;49m\u001b[43mkwargs\u001b[49m\u001b[43m)\u001b[49m\n",
      "File \u001b[0;32m/usr/local/spark/python/pyspark/ml/clustering.py:655\u001b[0m, in \u001b[0;36mKMeans.__init__\u001b[0;34m(self, featuresCol, predictionCol, k, initMode, initSteps, tol, maxIter, seed, distanceMeasure, weightCol)\u001b[0m\n\u001b[1;32m    649\u001b[0m \u001b[38;5;124;03m\"\"\"\u001b[39;00m\n\u001b[1;32m    650\u001b[0m \u001b[38;5;124;03m__init__(self, \\\\*, featuresCol=\"features\", predictionCol=\"prediction\", k=2, \\\u001b[39;00m\n\u001b[1;32m    651\u001b[0m \u001b[38;5;124;03m         initMode=\"k-means||\", initSteps=2, tol=1e-4, maxIter=20, seed=None, \\\u001b[39;00m\n\u001b[1;32m    652\u001b[0m \u001b[38;5;124;03m         distanceMeasure=\"euclidean\", weightCol=None)\u001b[39;00m\n\u001b[1;32m    653\u001b[0m \u001b[38;5;124;03m\"\"\"\u001b[39;00m\n\u001b[1;32m    654\u001b[0m \u001b[38;5;28msuper\u001b[39m(KMeans, \u001b[38;5;28mself\u001b[39m)\u001b[38;5;241m.\u001b[39m\u001b[38;5;21m__init__\u001b[39m()\n\u001b[0;32m--> 655\u001b[0m \u001b[38;5;28mself\u001b[39m\u001b[38;5;241m.\u001b[39m_java_obj \u001b[38;5;241m=\u001b[39m \u001b[38;5;28;43mself\u001b[39;49m\u001b[38;5;241;43m.\u001b[39;49m\u001b[43m_new_java_obj\u001b[49m\u001b[43m(\u001b[49m\u001b[38;5;124;43m\"\u001b[39;49m\u001b[38;5;124;43morg.apache.spark.ml.clustering.KMeans\u001b[39;49m\u001b[38;5;124;43m\"\u001b[39;49m\u001b[43m,\u001b[49m\u001b[43m \u001b[49m\u001b[38;5;28;43mself\u001b[39;49m\u001b[38;5;241;43m.\u001b[39;49m\u001b[43muid\u001b[49m\u001b[43m)\u001b[49m\n\u001b[1;32m    656\u001b[0m kwargs \u001b[38;5;241m=\u001b[39m \u001b[38;5;28mself\u001b[39m\u001b[38;5;241m.\u001b[39m_input_kwargs\n\u001b[1;32m    657\u001b[0m \u001b[38;5;28mself\u001b[39m\u001b[38;5;241m.\u001b[39msetParams(\u001b[38;5;241m*\u001b[39m\u001b[38;5;241m*\u001b[39mkwargs)\n",
      "File \u001b[0;32m/usr/local/spark/python/pyspark/ml/wrapper.py:64\u001b[0m, in \u001b[0;36mJavaWrapper._new_java_obj\u001b[0;34m(java_class, *args)\u001b[0m\n\u001b[1;32m     62\u001b[0m java_obj \u001b[38;5;241m=\u001b[39m _jvm()\n\u001b[1;32m     63\u001b[0m \u001b[38;5;28;01mfor\u001b[39;00m name \u001b[38;5;129;01min\u001b[39;00m java_class\u001b[38;5;241m.\u001b[39msplit(\u001b[38;5;124m\"\u001b[39m\u001b[38;5;124m.\u001b[39m\u001b[38;5;124m\"\u001b[39m):\n\u001b[0;32m---> 64\u001b[0m     java_obj \u001b[38;5;241m=\u001b[39m \u001b[38;5;28;43mgetattr\u001b[39;49m\u001b[43m(\u001b[49m\u001b[43mjava_obj\u001b[49m\u001b[43m,\u001b[49m\u001b[43m \u001b[49m\u001b[43mname\u001b[49m\u001b[43m)\u001b[49m\n\u001b[1;32m     65\u001b[0m java_args \u001b[38;5;241m=\u001b[39m [_py2java(sc, arg) \u001b[38;5;28;01mfor\u001b[39;00m arg \u001b[38;5;129;01min\u001b[39;00m args]\n\u001b[1;32m     66\u001b[0m \u001b[38;5;28;01mreturn\u001b[39;00m java_obj(\u001b[38;5;241m*\u001b[39mjava_args)\n",
      "File \u001b[0;32m/usr/local/spark/python/lib/py4j-0.10.9.3-src.zip/py4j/java_gateway.py:1709\u001b[0m, in \u001b[0;36mJVMView.__getattr__\u001b[0;34m(self, name)\u001b[0m\n\u001b[1;32m   1706\u001b[0m \u001b[38;5;28;01mif\u001b[39;00m name \u001b[38;5;241m==\u001b[39m UserHelpAutoCompletion\u001b[38;5;241m.\u001b[39mKEY:\n\u001b[1;32m   1707\u001b[0m     \u001b[38;5;28;01mreturn\u001b[39;00m UserHelpAutoCompletion()\n\u001b[0;32m-> 1709\u001b[0m answer \u001b[38;5;241m=\u001b[39m \u001b[38;5;28;43mself\u001b[39;49m\u001b[38;5;241;43m.\u001b[39;49m\u001b[43m_gateway_client\u001b[49m\u001b[38;5;241;43m.\u001b[39;49m\u001b[43msend_command\u001b[49m\u001b[43m(\u001b[49m\n\u001b[1;32m   1710\u001b[0m \u001b[43m    \u001b[49m\u001b[43mproto\u001b[49m\u001b[38;5;241;43m.\u001b[39;49m\u001b[43mREFLECTION_COMMAND_NAME\u001b[49m\u001b[43m \u001b[49m\u001b[38;5;241;43m+\u001b[39;49m\n\u001b[1;32m   1711\u001b[0m \u001b[43m    \u001b[49m\u001b[43mproto\u001b[49m\u001b[38;5;241;43m.\u001b[39;49m\u001b[43mREFL_GET_UNKNOWN_SUB_COMMAND_NAME\u001b[49m\u001b[43m \u001b[49m\u001b[38;5;241;43m+\u001b[39;49m\u001b[43m \u001b[49m\u001b[43mname\u001b[49m\u001b[43m \u001b[49m\u001b[38;5;241;43m+\u001b[39;49m\u001b[43m \u001b[49m\u001b[38;5;124;43m\"\u001b[39;49m\u001b[38;5;130;43;01m\\n\u001b[39;49;00m\u001b[38;5;124;43m\"\u001b[39;49m\u001b[43m \u001b[49m\u001b[38;5;241;43m+\u001b[39;49m\u001b[43m \u001b[49m\u001b[38;5;28;43mself\u001b[39;49m\u001b[38;5;241;43m.\u001b[39;49m\u001b[43m_id\u001b[49m\u001b[43m \u001b[49m\u001b[38;5;241;43m+\u001b[39;49m\n\u001b[1;32m   1712\u001b[0m \u001b[43m    \u001b[49m\u001b[38;5;124;43m\"\u001b[39;49m\u001b[38;5;130;43;01m\\n\u001b[39;49;00m\u001b[38;5;124;43m\"\u001b[39;49m\u001b[43m \u001b[49m\u001b[38;5;241;43m+\u001b[39;49m\u001b[43m \u001b[49m\u001b[43mproto\u001b[49m\u001b[38;5;241;43m.\u001b[39;49m\u001b[43mEND_COMMAND_PART\u001b[49m\u001b[43m)\u001b[49m\n\u001b[1;32m   1713\u001b[0m \u001b[38;5;28;01mif\u001b[39;00m answer \u001b[38;5;241m==\u001b[39m proto\u001b[38;5;241m.\u001b[39mSUCCESS_PACKAGE:\n\u001b[1;32m   1714\u001b[0m     \u001b[38;5;28;01mreturn\u001b[39;00m JavaPackage(name, \u001b[38;5;28mself\u001b[39m\u001b[38;5;241m.\u001b[39m_gateway_client, jvm_id\u001b[38;5;241m=\u001b[39m\u001b[38;5;28mself\u001b[39m\u001b[38;5;241m.\u001b[39m_id)\n",
      "File \u001b[0;32m/usr/local/spark/python/lib/py4j-0.10.9.3-src.zip/py4j/java_gateway.py:1036\u001b[0m, in \u001b[0;36mGatewayClient.send_command\u001b[0;34m(self, command, retry, binary)\u001b[0m\n\u001b[1;32m   1015\u001b[0m \u001b[38;5;28;01mdef\u001b[39;00m \u001b[38;5;21msend_command\u001b[39m(\u001b[38;5;28mself\u001b[39m, command, retry\u001b[38;5;241m=\u001b[39m\u001b[38;5;28;01mTrue\u001b[39;00m, binary\u001b[38;5;241m=\u001b[39m\u001b[38;5;28;01mFalse\u001b[39;00m):\n\u001b[1;32m   1016\u001b[0m     \u001b[38;5;124;03m\"\"\"Sends a command to the JVM. This method is not intended to be\u001b[39;00m\n\u001b[1;32m   1017\u001b[0m \u001b[38;5;124;03m       called directly by Py4J users. It is usually called by\u001b[39;00m\n\u001b[1;32m   1018\u001b[0m \u001b[38;5;124;03m       :class:`JavaMember` instances.\u001b[39;00m\n\u001b[0;32m   (...)\u001b[0m\n\u001b[1;32m   1034\u001b[0m \u001b[38;5;124;03m     if `binary` is `True`.\u001b[39;00m\n\u001b[1;32m   1035\u001b[0m \u001b[38;5;124;03m    \"\"\"\u001b[39;00m\n\u001b[0;32m-> 1036\u001b[0m     connection \u001b[38;5;241m=\u001b[39m \u001b[38;5;28;43mself\u001b[39;49m\u001b[38;5;241;43m.\u001b[39;49m\u001b[43m_get_connection\u001b[49m\u001b[43m(\u001b[49m\u001b[43m)\u001b[49m\n\u001b[1;32m   1037\u001b[0m     \u001b[38;5;28;01mtry\u001b[39;00m:\n\u001b[1;32m   1038\u001b[0m         response \u001b[38;5;241m=\u001b[39m connection\u001b[38;5;241m.\u001b[39msend_command(command)\n",
      "File \u001b[0;32m/usr/local/spark/python/lib/py4j-0.10.9.3-src.zip/py4j/clientserver.py:281\u001b[0m, in \u001b[0;36mJavaClient._get_connection\u001b[0;34m(self)\u001b[0m\n\u001b[1;32m    278\u001b[0m     \u001b[38;5;28;01mpass\u001b[39;00m\n\u001b[1;32m    280\u001b[0m \u001b[38;5;28;01mif\u001b[39;00m connection \u001b[38;5;129;01mis\u001b[39;00m \u001b[38;5;28;01mNone\u001b[39;00m \u001b[38;5;129;01mor\u001b[39;00m connection\u001b[38;5;241m.\u001b[39msocket \u001b[38;5;129;01mis\u001b[39;00m \u001b[38;5;28;01mNone\u001b[39;00m:\n\u001b[0;32m--> 281\u001b[0m     connection \u001b[38;5;241m=\u001b[39m \u001b[38;5;28;43mself\u001b[39;49m\u001b[38;5;241;43m.\u001b[39;49m\u001b[43m_create_new_connection\u001b[49m\u001b[43m(\u001b[49m\u001b[43m)\u001b[49m\n\u001b[1;32m    282\u001b[0m \u001b[38;5;28;01mreturn\u001b[39;00m connection\n",
      "File \u001b[0;32m/usr/local/spark/python/lib/py4j-0.10.9.3-src.zip/py4j/clientserver.py:288\u001b[0m, in \u001b[0;36mJavaClient._create_new_connection\u001b[0;34m(self)\u001b[0m\n\u001b[1;32m    284\u001b[0m \u001b[38;5;28;01mdef\u001b[39;00m \u001b[38;5;21m_create_new_connection\u001b[39m(\u001b[38;5;28mself\u001b[39m):\n\u001b[1;32m    285\u001b[0m     connection \u001b[38;5;241m=\u001b[39m ClientServerConnection(\n\u001b[1;32m    286\u001b[0m         \u001b[38;5;28mself\u001b[39m\u001b[38;5;241m.\u001b[39mjava_parameters, \u001b[38;5;28mself\u001b[39m\u001b[38;5;241m.\u001b[39mpython_parameters,\n\u001b[1;32m    287\u001b[0m         \u001b[38;5;28mself\u001b[39m\u001b[38;5;241m.\u001b[39mgateway_property, \u001b[38;5;28mself\u001b[39m)\n\u001b[0;32m--> 288\u001b[0m     \u001b[43mconnection\u001b[49m\u001b[38;5;241;43m.\u001b[39;49m\u001b[43mconnect_to_java_server\u001b[49m\u001b[43m(\u001b[49m\u001b[43m)\u001b[49m\n\u001b[1;32m    289\u001b[0m     \u001b[38;5;28mself\u001b[39m\u001b[38;5;241m.\u001b[39mset_thread_connection(connection)\n\u001b[1;32m    290\u001b[0m     \u001b[38;5;28;01mreturn\u001b[39;00m connection\n",
      "File \u001b[0;32m/usr/local/spark/python/lib/py4j-0.10.9.3-src.zip/py4j/clientserver.py:402\u001b[0m, in \u001b[0;36mClientServerConnection.connect_to_java_server\u001b[0;34m(self)\u001b[0m\n\u001b[1;32m    399\u001b[0m \u001b[38;5;28;01mif\u001b[39;00m \u001b[38;5;28mself\u001b[39m\u001b[38;5;241m.\u001b[39mssl_context:\n\u001b[1;32m    400\u001b[0m     \u001b[38;5;28mself\u001b[39m\u001b[38;5;241m.\u001b[39msocket \u001b[38;5;241m=\u001b[39m \u001b[38;5;28mself\u001b[39m\u001b[38;5;241m.\u001b[39mssl_context\u001b[38;5;241m.\u001b[39mwrap_socket(\n\u001b[1;32m    401\u001b[0m         \u001b[38;5;28mself\u001b[39m\u001b[38;5;241m.\u001b[39msocket, server_hostname\u001b[38;5;241m=\u001b[39m\u001b[38;5;28mself\u001b[39m\u001b[38;5;241m.\u001b[39mjava_address)\n\u001b[0;32m--> 402\u001b[0m \u001b[38;5;28;43mself\u001b[39;49m\u001b[38;5;241;43m.\u001b[39;49m\u001b[43msocket\u001b[49m\u001b[38;5;241;43m.\u001b[39;49m\u001b[43mconnect\u001b[49m\u001b[43m(\u001b[49m\u001b[43m(\u001b[49m\u001b[38;5;28;43mself\u001b[39;49m\u001b[38;5;241;43m.\u001b[39;49m\u001b[43mjava_address\u001b[49m\u001b[43m,\u001b[49m\u001b[43m \u001b[49m\u001b[38;5;28;43mself\u001b[39;49m\u001b[38;5;241;43m.\u001b[39;49m\u001b[43mjava_port\u001b[49m\u001b[43m)\u001b[49m\u001b[43m)\u001b[49m\n\u001b[1;32m    403\u001b[0m \u001b[38;5;28mself\u001b[39m\u001b[38;5;241m.\u001b[39mstream \u001b[38;5;241m=\u001b[39m \u001b[38;5;28mself\u001b[39m\u001b[38;5;241m.\u001b[39msocket\u001b[38;5;241m.\u001b[39mmakefile(\u001b[38;5;124m\"\u001b[39m\u001b[38;5;124mrb\u001b[39m\u001b[38;5;124m\"\u001b[39m)\n\u001b[1;32m    404\u001b[0m \u001b[38;5;28mself\u001b[39m\u001b[38;5;241m.\u001b[39mis_connected \u001b[38;5;241m=\u001b[39m \u001b[38;5;28;01mTrue\u001b[39;00m\n",
      "\u001b[0;31mConnectionRefusedError\u001b[0m: [Errno 111] Connection refused"
     ]
    }
   ],
   "source": [
    "metric = []\n",
    "for k in range(5, 10):\n",
    "    print(k)\n",
    "    kmean = KMeans().setK(k).setFeaturesCol(\"features\")\n",
    "    model = kmean.fit(data_transformed)\n",
    "    preds = model.transform(data_transformed)\n",
    "    metric = metric + [evaluator.evaluate(preds)]"
   ]
  },
  {
   "cell_type": "code",
   "execution_count": null,
   "id": "cdc4ebb6-c405-45d2-b6dd-2c1e02c88623",
   "metadata": {},
   "outputs": [
    {
     "data": {
      "text/plain": [
       "[<matplotlib.lines.Line2D at 0x7fec375a88b0>]"
      ]
     },
     "execution_count": 77,
     "metadata": {},
     "output_type": "execute_result"
    },
    {
     "data": {
      "image/png": "[encoded data removed]",
      "text/plain": [
       "<Figure size 432x288 with 1 Axes>"
      ]
     },
     "metadata": {
      "needs_background": "light"
     },
     "output_type": "display_data"
    }
   ],
   "source": [
    "plt.plot(metric)"
   ]
  },
  {
   "cell_type": "code",
   "execution_count": null,
   "id": "bdbcd5c1-97db-47d9-823c-0cc01c7b425b",
   "metadata": {},
   "outputs": [
    {
     "data": {
      "text/plain": [
       "0.5081599677100584"
      ]
     },
     "execution_count": 67,
     "metadata": {},
     "output_type": "execute_result"
    }
   ],
   "source": [
    "kmean = KMeans().setK(10).setFeaturesCol(\"features\")\n",
    "model = kmean.fit(data_transformed)\n",
    "preds = model.transform(data_transformed)\n",
    "evaluator.evaluate(preds)"
   ]
  },
  {
   "cell_type": "markdown",
   "id": "9a193b77-9534-49a6-ac51-cba9dd1cb7c8",
   "metadata": {
    "jp-MarkdownHeadingCollapsed": true,
    "tags": []
   },
   "source": [
    "### Papers"
   ]
  },
  {
   "cell_type": "markdown",
   "id": "979b0813-3e5a-4a55-ad30-881e9eff10c8",
   "metadata": {},
   "source": [
    "### Some example from https://runawayhorse001.github.io/LearningApacheSpark/clustering.html"
   ]
  },
  {
   "cell_type": "markdown",
   "id": "1377372a-1306-45fe-9359-34ac71d520f6",
   "metadata": {},
   "source": [
    "https://stackoverflow.com/questions/44152337/hierarchical-agglomerative-clustering-in-spark"
   ]
  },
  {
   "cell_type": "markdown",
   "id": "0ff5afcf-385c-4db5-823e-b9d48bb8b4e5",
   "metadata": {},
   "source": [
    "Reading and casting IRIS dataset"
   ]
  },
  {
   "cell_type": "code",
   "execution_count": null,
   "id": "6858ad9c-5bf0-4fd6-b682-d684604e2074",
   "metadata": {},
   "outputs": [
    {
     "name": "stdout",
     "output_type": "stream",
     "text": [
      "root\n",
      " |-- SL: float (nullable = true)\n",
      " |-- SW: float (nullable = true)\n",
      " |-- PL: float (nullable = true)\n",
      " |-- PW: float (nullable = true)\n",
      " |-- variety: string (nullable = true)\n",
      "\n"
     ]
    }
   ],
   "source": [
    "dataset = spark.read.option(\"header\", True).csv(\"../data/iris.csv\").\\\n",
    "    withColumnRenamed(\"sepal.length\", \"SL\").\\\n",
    "    withColumnRenamed(\"sepal.width\", \"SW\").\\\n",
    "    withColumnRenamed(\"petal.length\", \"PL\").\\\n",
    "    withColumnRenamed(\"petal.width\", \"PW\").\\\n",
    "    select( \n",
    "        col(\"SL\").cast(\"float\"),\n",
    "        col(\"SW\").cast(\"float\"),\n",
    "        col(\"PL\").cast(\"float\"),\n",
    "        col(\"PW\").cast(\"float\"),\n",
    "        col(\"variety\")\n",
    "    )\n",
    "dataset.printSchema()"
   ]
  },
  {
   "cell_type": "code",
   "execution_count": null,
   "id": "21c49e46-a7c7-4da3-9ed4-0754f7f68536",
   "metadata": {},
   "outputs": [],
   "source": []
  },
  {
   "cell_type": "code",
   "execution_count": null,
   "id": "cb3175bb-6a56-4469-b479-053fe3faca23",
   "metadata": {},
   "outputs": [
    {
     "data": {
      "text/html": [
       "<table border='1'>\n",
       "<tr><th>SL</th><th>SW</th><th>PL</th><th>PW</th><th>variety</th><th>features</th></tr>\n",
       "<tr><td>5.1</td><td>3.5</td><td>1.4</td><td>0.2</td><td>Setosa</td><td>[5.09999990463256...</td></tr>\n",
       "<tr><td>4.9</td><td>3.0</td><td>1.4</td><td>0.2</td><td>Setosa</td><td>[4.90000009536743...</td></tr>\n",
       "<tr><td>4.7</td><td>3.2</td><td>1.3</td><td>0.2</td><td>Setosa</td><td>[4.69999980926513...</td></tr>\n",
       "<tr><td>4.6</td><td>3.1</td><td>1.5</td><td>0.2</td><td>Setosa</td><td>[4.59999990463256...</td></tr>\n",
       "<tr><td>5.0</td><td>3.6</td><td>1.4</td><td>0.2</td><td>Setosa</td><td>[5.0,3.5999999046...</td></tr>\n",
       "<tr><td>5.4</td><td>3.9</td><td>1.7</td><td>0.4</td><td>Setosa</td><td>[5.40000009536743...</td></tr>\n",
       "<tr><td>4.6</td><td>3.4</td><td>1.4</td><td>0.3</td><td>Setosa</td><td>[4.59999990463256...</td></tr>\n",
       "<tr><td>5.0</td><td>3.4</td><td>1.5</td><td>0.2</td><td>Setosa</td><td>[5.0,3.4000000953...</td></tr>\n",
       "<tr><td>4.4</td><td>2.9</td><td>1.4</td><td>0.2</td><td>Setosa</td><td>[4.40000009536743...</td></tr>\n",
       "<tr><td>4.9</td><td>3.1</td><td>1.5</td><td>0.1</td><td>Setosa</td><td>[4.90000009536743...</td></tr>\n",
       "<tr><td>5.4</td><td>3.7</td><td>1.5</td><td>0.2</td><td>Setosa</td><td>[5.40000009536743...</td></tr>\n",
       "<tr><td>4.8</td><td>3.4</td><td>1.6</td><td>0.2</td><td>Setosa</td><td>[4.80000019073486...</td></tr>\n",
       "<tr><td>4.8</td><td>3.0</td><td>1.4</td><td>0.1</td><td>Setosa</td><td>[4.80000019073486...</td></tr>\n",
       "<tr><td>4.3</td><td>3.0</td><td>1.1</td><td>0.1</td><td>Setosa</td><td>[4.30000019073486...</td></tr>\n",
       "<tr><td>5.8</td><td>4.0</td><td>1.2</td><td>0.2</td><td>Setosa</td><td>[5.80000019073486...</td></tr>\n",
       "<tr><td>5.7</td><td>4.4</td><td>1.5</td><td>0.4</td><td>Setosa</td><td>[5.69999980926513...</td></tr>\n",
       "<tr><td>5.4</td><td>3.9</td><td>1.3</td><td>0.4</td><td>Setosa</td><td>[5.40000009536743...</td></tr>\n",
       "<tr><td>5.1</td><td>3.5</td><td>1.4</td><td>0.3</td><td>Setosa</td><td>[5.09999990463256...</td></tr>\n",
       "<tr><td>5.7</td><td>3.8</td><td>1.7</td><td>0.3</td><td>Setosa</td><td>[5.69999980926513...</td></tr>\n",
       "<tr><td>5.1</td><td>3.8</td><td>1.5</td><td>0.3</td><td>Setosa</td><td>[5.09999990463256...</td></tr>\n",
       "</table>\n",
       "only showing top 20 rows\n"
      ],
      "text/plain": [
       "+---+---+---+---+-------+--------------------+\n",
       "| SL| SW| PL| PW|variety|            features|\n",
       "+---+---+---+---+-------+--------------------+\n",
       "|5.1|3.5|1.4|0.2| Setosa|[5.09999990463256...|\n",
       "|4.9|3.0|1.4|0.2| Setosa|[4.90000009536743...|\n",
       "|4.7|3.2|1.3|0.2| Setosa|[4.69999980926513...|\n",
       "|4.6|3.1|1.5|0.2| Setosa|[4.59999990463256...|\n",
       "|5.0|3.6|1.4|0.2| Setosa|[5.0,3.5999999046...|\n",
       "|5.4|3.9|1.7|0.4| Setosa|[5.40000009536743...|\n",
       "|4.6|3.4|1.4|0.3| Setosa|[4.59999990463256...|\n",
       "|5.0|3.4|1.5|0.2| Setosa|[5.0,3.4000000953...|\n",
       "|4.4|2.9|1.4|0.2| Setosa|[4.40000009536743...|\n",
       "|4.9|3.1|1.5|0.1| Setosa|[4.90000009536743...|\n",
       "|5.4|3.7|1.5|0.2| Setosa|[5.40000009536743...|\n",
       "|4.8|3.4|1.6|0.2| Setosa|[4.80000019073486...|\n",
       "|4.8|3.0|1.4|0.1| Setosa|[4.80000019073486...|\n",
       "|4.3|3.0|1.1|0.1| Setosa|[4.30000019073486...|\n",
       "|5.8|4.0|1.2|0.2| Setosa|[5.80000019073486...|\n",
       "|5.7|4.4|1.5|0.4| Setosa|[5.69999980926513...|\n",
       "|5.4|3.9|1.3|0.4| Setosa|[5.40000009536743...|\n",
       "|5.1|3.5|1.4|0.3| Setosa|[5.09999990463256...|\n",
       "|5.7|3.8|1.7|0.3| Setosa|[5.69999980926513...|\n",
       "|5.1|3.8|1.5|0.3| Setosa|[5.09999990463256...|\n",
       "+---+---+---+---+-------+--------------------+\n",
       "only showing top 20 rows"
      ]
     },
     "execution_count": 24,
     "metadata": {},
     "output_type": "execute_result"
    }
   ],
   "source": [
    "assembler = VectorAssembler().setInputCols([\"SL\", \"SW\", \"PL\", \"PW\"]).setOutputCol(\"features\")\n",
    "data_transformed = assembler.transform(dataset)\n",
    "data_transformed"
   ]
  },
  {
   "cell_type": "code",
   "execution_count": null,
   "id": "092643c5-c087-45f6-acd4-022a94abc286",
   "metadata": {},
   "outputs": [
    {
     "data": {
      "text/html": [
       "<table border='1'>\n",
       "<tr><th>variety</th></tr>\n",
       "<tr><td>Virginica</td></tr>\n",
       "<tr><td>Setosa</td></tr>\n",
       "<tr><td>Versicolor</td></tr>\n",
       "</table>\n"
      ],
      "text/plain": [
       "+----------+\n",
       "|   variety|\n",
       "+----------+\n",
       "| Virginica|\n",
       "|    Setosa|\n",
       "|Versicolor|\n",
       "+----------+"
      ]
     },
     "execution_count": 25,
     "metadata": {},
     "output_type": "execute_result"
    }
   ],
   "source": [
    "data_transformed.select(\"variety\").distinct()"
   ]
  },
  {
   "cell_type": "code",
   "execution_count": null,
   "id": "d93ff837-8b0f-4ebb-9c16-e2e272d49420",
   "metadata": {},
   "outputs": [],
   "source": [
    "bkm = BisectingKMeans().setK(3).setSeed(1).setFeaturesCol(\"features\")\n",
    "kmean = KMeans().setK(3).setSeed(1).setFeaturesCol(\"features\")\n",
    "model = kmean.fit(data_transformed)"
   ]
  },
  {
   "cell_type": "code",
   "execution_count": null,
   "id": "e5d5e84a-9139-4b57-aac0-4070693306ab",
   "metadata": {},
   "outputs": [
    {
     "data": {
      "text/plain": [
       "[array([5.9016129 , 2.74838711, 4.39354837, 1.43387096]),\n",
       " array([5.006     , 3.42800001, 1.462     , 0.246     ]),\n",
       " array([6.84999998, 3.0736842 , 5.74210525, 2.07105261])]"
      ]
     },
     "execution_count": 27,
     "metadata": {},
     "output_type": "execute_result"
    }
   ],
   "source": [
    "model.clusterCenters()"
   ]
  },
  {
   "cell_type": "code",
   "execution_count": null,
   "id": "baff25b7-a62c-41ec-b136-b988f4661dcb",
   "metadata": {},
   "outputs": [],
   "source": [
    "preds = model.transform(data_transformed)"
   ]
  },
  {
   "cell_type": "code",
   "execution_count": null,
   "id": "63acf0d1-3d9c-44b3-a8d9-a55a2e65f851",
   "metadata": {},
   "outputs": [],
   "source": [
    "preds_ = preds.select(\"SL\", \"SW\", \"PL\", \"PW\", \"variety\", \"prediction\").toPandas()"
   ]
  },
  {
   "cell_type": "code",
   "execution_count": null,
   "id": "ac8c7615-5133-4ff4-9efe-1b29eee9b89f",
   "metadata": {},
   "outputs": [],
   "source": [
    "import matplotlib.pyplot as plt"
   ]
  },
  {
   "cell_type": "code",
   "execution_count": null,
   "id": "4efe60f7-6e98-4f8e-9f06-97d81ca5a89d",
   "metadata": {},
   "outputs": [],
   "source": [
    "import seaborn as sns"
   ]
  },
  {
   "cell_type": "code",
   "execution_count": null,
   "id": "d4edba05-8050-48b0-91c9-ddc2ab1508f7",
   "metadata": {},
   "outputs": [
    {
     "data": {
      "text/plain": [
       "<AxesSubplot:xlabel='PL', ylabel='PW'>"
      ]
     },
     "execution_count": 121,
     "metadata": {},
     "output_type": "execute_result"
    },
    {
     "data": {
      "image/png": "[encoded data removed]",
      "text/plain": [
       "<Figure size 432x288 with 1 Axes>"
      ]
     },
     "metadata": {
      "needs_background": "light"
     },
     "output_type": "display_data"
    }
   ],
   "source": [
    "sns.scatterplot(data = preds_, x=\"PL\", y=\"PW\", hue=\"variety\")"
   ]
  },
  {
   "cell_type": "code",
   "execution_count": null,
   "id": "27166d6f-463c-475c-8dcb-819f8cebc106",
   "metadata": {},
   "outputs": [
    {
     "data": {
      "text/plain": [
       "<AxesSubplot:xlabel='PL', ylabel='PW'>"
      ]
     },
     "execution_count": 122,
     "metadata": {},
     "output_type": "execute_result"
    },
    {
     "data": {
      "image/png": "[encoded data removed]",
      "text/plain": [
       "<Figure size 432x288 with 1 Axes>"
      ]
     },
     "metadata": {
      "needs_background": "light"
     },
     "output_type": "display_data"
    }
   ],
   "source": [
    "sns.scatterplot(data = preds_, x=\"PL\", y=\"PW\", hue=\"prediction\")"
   ]
  },
  {
   "cell_type": "code",
   "execution_count": null,
   "id": "e99ab04f-31a3-4e8a-85f7-d2c63885c45a",
   "metadata": {},
   "outputs": [
    {
     "data": {
      "text/plain": [
       "Index(['SL', 'SW', 'PL', 'PW', 'variety', 'prediction'], dtype='object')"
      ]
     },
     "execution_count": 128,
     "metadata": {},
     "output_type": "execute_result"
    }
   ],
   "source": [
    "preds_.columns"
   ]
  },
  {
   "cell_type": "code",
   "execution_count": null,
   "id": "510bf15a-fe93-46f0-a8aa-a6042887c160",
   "metadata": {},
   "outputs": [
    {
     "data": {
      "text/html": [
       "<table border='1'>\n",
       "<tr><th>variety</th><th>prediction</th><th>count</th></tr>\n",
       "<tr><td>Setosa</td><td>1</td><td>50</td></tr>\n",
       "<tr><td>Versicolor</td><td>0</td><td>48</td></tr>\n",
       "<tr><td>Virginica</td><td>2</td><td>36</td></tr>\n",
       "<tr><td>Virginica</td><td>0</td><td>14</td></tr>\n",
       "<tr><td>Versicolor</td><td>2</td><td>2</td></tr>\n",
       "</table>\n"
      ],
      "text/plain": [
       "+----------+----------+-----+\n",
       "|   variety|prediction|count|\n",
       "+----------+----------+-----+\n",
       "|    Setosa|         1|   50|\n",
       "|Versicolor|         0|   48|\n",
       "| Virginica|         2|   36|\n",
       "| Virginica|         0|   14|\n",
       "|Versicolor|         2|    2|\n",
       "+----------+----------+-----+"
      ]
     },
     "execution_count": 142,
     "metadata": {},
     "output_type": "execute_result"
    }
   ],
   "source": [
    "preds.groupby(\"variety\", \"prediction\").count().sort(desc(\"count\"))"
   ]
  },
  {
   "cell_type": "code",
   "execution_count": null,
   "id": "516ee878-0991-4fcc-849c-29486255105a",
   "metadata": {},
   "outputs": [],
   "source": [
    "from pyspark.ml.clustering import "
   ]
  }
 ],
 "metadata": {
  "kernelspec": {
   "display_name": "Python 3 (ipykernel)",
   "language": "python",
   "name": "python3"
  },
  "language_info": {
   "codemirror_mode": {
    "name": "ipython",
    "version": 3
   },
   "file_extension": ".py",
   "mimetype": "text/x-python",
   "name": "python",
   "nbconvert_exporter": "python",
   "pygments_lexer": "ipython3",
   "version": "3.9.10"
  }
 },
 "nbformat": 4,
 "nbformat_minor": 5
}
