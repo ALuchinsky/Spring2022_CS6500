{
 "cells": [
  {
   "cell_type": "code",
   "execution_count": 1,
   "id": "4193de37-de99-4542-828a-6963a6cac94f",
   "metadata": {},
   "outputs": [],
   "source": [
    "import findspark\n",
    "findspark.init()\n",
    "\n",
    "from pyspark.sql import SparkSession\n",
    "from pyspark.sql.functions import format_number, mean, min, max, corr, stddev\n",
    "from pyspark.sql.functions import (dayofmonth, hour, dayofyear, month, year, weekofyear, format_number, date_format, asc, desc)\n",
    "from pyspark.sql.functions import explode, col, element_at, size, split\n",
    "from pyspark.sql.functions import udf"
   ]
  },
  {
   "cell_type": "code",
   "execution_count": 2,
   "id": "04dd610c-4f2b-493e-992c-aa1f1e5bafc2",
   "metadata": {},
   "outputs": [],
   "source": [
    "# Build a SparkSession named as \"test123\"\n",
    "spark = SparkSession.builder \\\n",
    "    .appName('test_123') \\\n",
    "    .master('local[*]') \\\n",
    "    .config('spark.sql.execution.arrow.pyspark.enabled', True) \\\n",
    "    .config('spark.sql.session.timeZone', 'UTC') \\\n",
    "    .config('spark.driver.memory','8g') \\\n",
    "    .config('spark.ui.showConsoleProgress', True) \\\n",
    "    .config('spark.sql.repl.eagerEval.enabled', True) \\\n",
    "    .getOrCreate()"
   ]
  },
  {
   "cell_type": "markdown",
   "id": "df136550-0e8c-4e93-a941-8499d1a6d247",
   "metadata": {
    "tags": []
   },
   "source": [
    "## Loading and Cleaning the Data"
   ]
  },
  {
   "cell_type": "code",
   "execution_count": 3,
   "id": "90e84130-8a46-44fc-8a32-1e239a8a0120",
   "metadata": {},
   "outputs": [],
   "source": [
    "papers_ = spark.read.option(\"multiLine\", True).option(\"mode\", \"PERMISSIVE\").option(\"encoding\", \"ascii\").json(\"../data/AL_papers.json\")\n",
    "papers = papers_.select(explode(col(\"hits.hits\")).alias(\"paper\"))"
   ]
  },
  {
   "cell_type": "code",
   "execution_count": 4,
   "id": "ae81483b-abc5-470c-8bc7-326ac09ad2a5",
   "metadata": {},
   "outputs": [],
   "source": [
    "#papers.printSchema()"
   ]
  },
  {
   "cell_type": "code",
   "execution_count": 5,
   "id": "1a6eb11a-bc8e-41f0-b7b9-0a7efef07b56",
   "metadata": {},
   "outputs": [],
   "source": [
    "# short_papers = papers.select(\n",
    "#     col(\"paper.created\"),\n",
    "#     element_at(col(\"paper.metadata.titles.title\"),1).alias(\"title\"),\n",
    "#     element_at(col(\"paper.metadata.abstracts.value\"),1).alias(\"abstract\"),\n",
    "#     col(\"paper.metadata.citation_count\").alias(\"citation_count\"),\n",
    "#     col(\"paper.metadata.number_of_pages\"),\n",
    "#     col(\"paper.metadata.keywords\"),\n",
    "#     col(\"paper.metadata.authors.full_name\").alias(\"authors\"),\n",
    "#     size(col(\"paper.metadata.references\")).alias(\"num_refs\")\n",
    "# );\n",
    "# short_papers.printSchema()"
   ]
  },
  {
   "cell_type": "code",
   "execution_count": 6,
   "id": "c50cb240-498e-47dc-a6d9-d2068966df6d",
   "metadata": {},
   "outputs": [],
   "source": [
    "def ascii_ignore(x):\n",
    "    return x.encode('ascii', 'ignore').decode('ascii')\n",
    "ascii_udf = udf(ascii_ignore)\n"
   ]
  },
  {
   "cell_type": "code",
   "execution_count": 7,
   "id": "c44d83ed-1fa6-49a1-8841-b02e0f1130fb",
   "metadata": {},
   "outputs": [
    {
     "name": "stdout",
     "output_type": "stream",
     "text": [
      "root\n",
      " |-- title: string (nullable = true)\n",
      " |-- abstract: string (nullable = true)\n",
      " |-- created: string (nullable = true)\n",
      " |-- number_of_pages: long (nullable = true)\n",
      " |-- keywords: array (nullable = true)\n",
      " |    |-- element: struct (containsNull = true)\n",
      " |    |    |-- schema: string (nullable = true)\n",
      " |    |    |-- source: string (nullable = true)\n",
      " |    |    |-- value: string (nullable = true)\n",
      " |-- num_refs: integer (nullable = false)\n",
      " |-- authors: array (nullable = true)\n",
      " |    |-- element: string (containsNull = true)\n",
      "\n"
     ]
    }
   ],
   "source": [
    "short_papers = papers.select(\n",
    "    element_at(col(\"paper.metadata.titles.title\"), 1).alias(\"title\"),\n",
    "    element_at(col(\"paper.metadata.abstracts.value\"), 1).alias(\"abstract\"),\n",
    "    col(\"paper.created\"), col(\"paper.metadata.number_of_pages\"),\n",
    "    col(\"paper.metadata.keywords\"), size(\n",
    "        col(\"paper.metadata.references\")).alias(\"num_refs\"),\n",
    "    col(\"paper.metadata.authors.full_name\").alias(\"authors\")\n",
    ").withColumn(\"title\", ascii_udf(\"title\"));\n",
    "short_papers.printSchema()"
   ]
  },
  {
   "cell_type": "markdown",
   "id": "7a8897c6-968b-4867-be43-e5866acd5b80",
   "metadata": {
    "tags": []
   },
   "source": [
    "## Keywords Extraction"
   ]
  },
  {
   "cell_type": "code",
   "execution_count": 8,
   "id": "72d83f80-d552-41a6-945b-65e689384439",
   "metadata": {},
   "outputs": [],
   "source": [
    "from pyspark.sql.functions import udf\n",
    "from pyspark.sql.types import *"
   ]
  },
  {
   "cell_type": "markdown",
   "id": "e2d06f3e-6e4d-4dfd-81d0-86f634c19c75",
   "metadata": {},
   "source": [
    "### Assigned"
   ]
  },
  {
   "cell_type": "markdown",
   "id": "e2765105-b3f6-4f7d-b405-07fef0ebb8ce",
   "metadata": {},
   "source": [
    "This is the list of assigned keywords from the whole dataset"
   ]
  },
  {
   "cell_type": "code",
   "execution_count": 9,
   "id": "2bed7f52-fb8f-4998-8f8b-a6c7796c631f",
   "metadata": {},
   "outputs": [
    {
     "name": "stdout",
     "output_type": "stream",
     "text": [
      "+--------------------+\n",
      "|                   K|\n",
      "+--------------------+\n",
      "|            14.40.Pq|\n",
      "|            12.39.St|\n",
      "|            12.39.Jh|\n",
      "|             3.38.Dg|\n",
      "|Heavy quarkonia p...|\n",
      "+--------------------+\n",
      "only showing top 5 rows\n",
      "\n"
     ]
    }
   ],
   "source": [
    "kws  = short_papers.select(explode(col(\"keywords\"))).select(\"col.value\").withColumnRenamed(\"value\", \"K\")\n",
    "kws.show(5)"
   ]
  },
  {
   "cell_type": "markdown",
   "id": "d4f44e92-35dd-4165-89ef-bc47b9bbbb92",
   "metadata": {},
   "source": [
    "Selecting 20 most used keywords"
   ]
  },
  {
   "cell_type": "code",
   "execution_count": 10,
   "id": "43d5630e-5ab4-4954-aead-b443e86095be",
   "metadata": {},
   "outputs": [
    {
     "name": "stdout",
     "output_type": "stream",
     "text": [
      "+---------------------------------------+-----+\n",
      "|K                                      |count|\n",
      "+---------------------------------------+-----+\n",
      "|numerical calculations                 |31   |\n",
      "|CERN LHC Coll                          |21   |\n",
      "|quantum chromodynamics: nonrelativistic|17   |\n",
      "|LHC-B                                  |14   |\n",
      "|14.40.Pq                               |13   |\n",
      "|charmonium                             |12   |\n",
      "|quarkonium: heavy                      |10   |\n",
      "|electron positron: annihilation        |10   |\n",
      "|13.66.Bc                               |10   |\n",
      "|12.38.Bx                               |10   |\n",
      "|13.25.Gv                               |10   |\n",
      "|J/psi(3100): pair production           |8    |\n",
      "|12.38.-t                               |7    |\n",
      "|color: octet                           |7    |\n",
      "|light cone                             |7    |\n",
      "|color: singlet                         |7    |\n",
      "|branching ratio                        |7    |\n",
      "|quarkonium: pair production            |6    |\n",
      "|channel cross section                  |6    |\n",
      "|p p: scattering                        |6    |\n",
      "+---------------------------------------+-----+\n",
      "only showing top 20 rows\n",
      "\n"
     ]
    }
   ],
   "source": [
    "kws.groupby(\"K\").count().sort(desc(\"count\")).show(truncate=False)"
   ]
  },
  {
   "cell_type": "code",
   "execution_count": 87,
   "id": "aae86df1-bf88-41b7-9c1e-43044c9bbc03",
   "metadata": {},
   "outputs": [
    {
     "data": {
      "text/plain": [
       "['numerical calculations',\n",
       " 'CERN LHC Coll',\n",
       " 'quantum chromodynamics: nonrelativistic',\n",
       " 'LHC-B',\n",
       " '14.40.Pq',\n",
       " 'charmonium',\n",
       " 'electron positron: annihilation',\n",
       " '12.38.Bx',\n",
       " 'quarkonium: heavy',\n",
       " '13.25.Gv',\n",
       " '13.66.Bc',\n",
       " 'J/psi(3100): pair production',\n",
       " 'color: octet',\n",
       " '12.38.-t',\n",
       " 'light cone',\n",
       " 'color: singlet',\n",
       " 'branching ratio',\n",
       " 'p p: scattering',\n",
       " 'channel cross section',\n",
       " 'quarkonium: pair production',\n",
       " 'None']"
      ]
     },
     "execution_count": 87,
     "metadata": {},
     "output_type": "execute_result"
    }
   ],
   "source": [
    "selected_keywords = kws.groupby(\"K\").count().sort(desc(\"count\")).limit(20).toPandas()[\"K\"].tolist()\n",
    "selected_keywords = [format_kwd(K) for K in selected_keywords + [\"None\"]\n",
    "selected_keywords"
   ]
  },
  {
   "cell_type": "markdown",
   "id": "5224fd74-15fa-40cb-a959-785ccbfa39e3",
   "metadata": {},
   "source": [
    "Extracting assigned keywords"
   ]
  },
  {
   "cell_type": "code",
   "execution_count": 14,
   "id": "72995843-d527-49d1-b2c8-121d5cd40553",
   "metadata": {},
   "outputs": [],
   "source": [
    "# from https://www.geeksforgeeks.org/python-intersection-two-lists/\n",
    "def intersection(lst1, lst2):\n",
    "    return list(set(lst1) & set(lst2))"
   ]
  },
  {
   "cell_type": "code",
   "execution_count": 39,
   "id": "19f8eaca-eaa0-444f-8fc3-373c19f1e265",
   "metadata": {},
   "outputs": [],
   "source": [
    "from pyspark.sql.functions import monotonically_increasing_id"
   ]
  },
  {
   "cell_type": "code",
   "execution_count": 115,
   "id": "ed18898e-de33-437d-8f23-02173bba8caa",
   "metadata": {},
   "outputs": [],
   "source": [
    "import re"
   ]
  },
  {
   "cell_type": "code",
   "execution_count": 128,
   "id": "f56dcec4-b50d-401a-81fc-a44ff7aec803",
   "metadata": {},
   "outputs": [],
   "source": [
    "def format_kwd(kwd):\n",
    "    return re.sub(\"[\\.-/ :()]\", \"_\", kwd)"
   ]
  },
  {
   "cell_type": "code",
   "execution_count": 129,
   "id": "c54e9a87-a9b2-4250-a473-41c2962f56d5",
   "metadata": {},
   "outputs": [
    {
     "data": {
      "text/html": [
       "<table border='1'>\n",
       "<tr><th>title</th><th>abstract</th><th>created</th><th>number_of_pages</th><th>keywords</th><th>num_refs</th><th>authors</th><th>keywords_</th><th>id</th></tr>\n",
       "<tr><td>Charmonia product...</td><td>In this paper, pr...</td><td>2021-03-26T00:00:...</td><td>15</td><td>[{PACS, null, 14....</td><td>35</td><td>[Luchinsky, A.V.,...</td><td>[quantum chromody...</td><td>0</td></tr>\n",
       "<tr><td>Exclusive decays ...</td><td>Exclusive decays ...</td><td>2020-07-09T00:00:...</td><td>10</td><td>[{null, publisher...</td><td>42</td><td>[Luchinsky, A.V.,...</td><td>[branching ratio]</td><td>1</td></tr>\n",
       "<tr><td>Doubly heavy bary...</td><td>The theoretical a...</td><td>2019-12-11T00:00:...</td><td>8</td><td>[{INSPIRE, null, ...</td><td>40</td><td>[Berezhnoy, A.V.,...</td><td>[CERN LHC Coll, L...</td><td>2</td></tr>\n",
       "<tr><td>Weak decays of do...</td><td>We consider exclu...</td><td>2019-05-29T00:00:...</td><td>10</td><td>[{null, publisher...</td><td>21</td><td>[Gerasimov, A.S.,...</td><td>[numerical calcul...</td><td>3</td></tr>\n",
       "<tr><td>$B_c$ excitations...</td><td>Status of the Bc ...</td><td>2019-11-21T00:00:...</td><td>8</td><td>[{INSPIRE, null, ...</td><td>49</td><td>[Berezhnoy, A.V.,...</td><td>[CERN LHC Coll, L...</td><td>4</td></tr>\n",
       "<tr><td>Excited $\\rho$ me...</td><td>In this paper, ex...</td><td>2018-12-27T00:00:...</td><td>7</td><td>[{null, publisher...</td><td>22</td><td>[Luchinsky, A.V.]</td><td>[numerical calcul...</td><td>5</td></tr>\n",
       "<tr><td>Doubly heavy bary...</td><td>The theoretical a...</td><td>2018-09-27T00:00:...</td><td>14</td><td>[{null, publisher...</td><td>56</td><td>[Berezhnoy, A.V.,...</td><td>[CERN LHC Coll, L...</td><td>6</td></tr>\n",
       "<tr><td>Charmonia Product...</td><td>In the presented ...</td><td>2018-01-30T00:00:...</td><td>9</td><td>[{PACS, null, 14....</td><td>30</td><td>[Luchinsky, A.V.]</td><td>[branching ratio,...</td><td>7</td></tr>\n",
       "<tr><td>Lifetimes of Doub...</td><td>The inclusive dec...</td><td>2019-02-25T00:00:...</td><td>11</td><td>[{INSPIRE, null, ...</td><td>49</td><td>[Likhoded, A.K., ...</td><td>[None]</td><td>8</td></tr>\n",
       "<tr><td>Double Charmonia ...</td><td>This paper is dev...</td><td>2017-12-11T00:00:...</td><td>14</td><td>[{PACS, null, 13....</td><td>36</td><td>[Likhoded, A.K., ...</td><td>[14.40.Pq, quantu...</td><td>9</td></tr>\n",
       "<tr><td>Muon Pair Product...</td><td>Muon pair product...</td><td>2017-09-11T00:00:...</td><td>7</td><td>[{PACS, null, 13....</td><td>22</td><td>[Luchinsky, A.V.]</td><td>[branching ratio,...</td><td>10</td></tr>\n",
       "<tr><td>Production of hea...</td><td>Processes of sing...</td><td>2017-08-24T00:00:...</td><td>13</td><td>[{INSPIRE, null, ...</td><td>57</td><td>[Likhoded, A.K., ...</td><td>[CERN LHC Coll, q...</td><td>11</td></tr>\n",
       "<tr><td>Leading order NRQ...</td><td>The presented pap...</td><td>2017-06-14T00:00:...</td><td>8</td><td>[{INSPIRE, null, ...</td><td>29</td><td>[Luchinsky, A.V.]</td><td>[quantum chromody...</td><td>12</td></tr>\n",
       "<tr><td>Comments on &#x27;Stud...</td><td>Recent LHCb measu...</td><td>2017-03-28T00:00:...</td><td>8</td><td>[{PACS, null, 13....</td><td>32</td><td>[Belyaev, I., Ber...</td><td>[numerical calcul...</td><td>13</td></tr>\n",
       "<tr><td>Double Charmonia ...</td><td>In this note next...</td><td>2016-12-12T00:00:...</td><td>7</td><td>[{INSPIRE, null, ...</td><td>20</td><td>[Luchinsky, A.V.]</td><td>[CERN LHC Coll, p...</td><td>14</td></tr>\n",
       "<tr><td>Production of $J/...</td><td>In the present wo...</td><td>2016-06-23T00:00:...</td><td>8</td><td>[{INSPIRE, null, ...</td><td>31</td><td>[Likhoded, A.K., ...</td><td>[J/psi(3100): pai...</td><td>15</td></tr>\n",
       "<tr><td>Production of hea...</td><td>The phenomenology...</td><td>2016-01-05T00:00:...</td><td>10</td><td>[{INSPIRE, null, ...</td><td>34</td><td>[Likhoded, A.K., ...</td><td>[p p: scattering,...</td><td>16</td></tr>\n",
       "<tr><td>Production of J/ ...</td><td>The inclusive pro...</td><td>2015-11-16T00:00:...</td><td>8</td><td>[{INSPIRE, null, ...</td><td>29</td><td>[Likhoded, A.K., ...</td><td>[CERN LHC Coll, L...</td><td>17</td></tr>\n",
       "<tr><td>$J/\\Psi \\Upsilon$...</td><td>Inclusive product...</td><td>2015-09-11T00:00:...</td><td>8</td><td>[{INSPIRE, null, ...</td><td>26</td><td>[Luchinsky, A.V.]</td><td>[CERN LHC Coll, L...</td><td>18</td></tr>\n",
       "<tr><td>Hadroproduction o...</td><td>The production of...</td><td>2015-05-28T00:00:...</td><td>9</td><td>[{INSPIRE, null, ...</td><td>38</td><td>[Berezhnoy, A.V.,...</td><td>[CERN LHC Coll, q...</td><td>19</td></tr>\n",
       "</table>\n",
       "only showing top 20 rows\n"
      ],
      "text/plain": [
       "+--------------------+--------------------+--------------------+---------------+--------------------+--------+--------------------+--------------------+---+\n",
       "|               title|            abstract|             created|number_of_pages|            keywords|num_refs|             authors|           keywords_| id|\n",
       "+--------------------+--------------------+--------------------+---------------+--------------------+--------+--------------------+--------------------+---+\n",
       "|Charmonia product...|In this paper, pr...|2021-03-26T00:00:...|             15|[{PACS, null, 14....|      35|[Luchinsky, A.V.,...|[quantum chromody...|  0|\n",
       "|Exclusive decays ...|Exclusive decays ...|2020-07-09T00:00:...|             10|[{null, publisher...|      42|[Luchinsky, A.V.,...|   [branching ratio]|  1|\n",
       "|Doubly heavy bary...|The theoretical a...|2019-12-11T00:00:...|              8|[{INSPIRE, null, ...|      40|[Berezhnoy, A.V.,...|[CERN LHC Coll, L...|  2|\n",
       "|Weak decays of do...|We consider exclu...|2019-05-29T00:00:...|             10|[{null, publisher...|      21|[Gerasimov, A.S.,...|[numerical calcul...|  3|\n",
       "|$B_c$ excitations...|Status of the Bc ...|2019-11-21T00:00:...|              8|[{INSPIRE, null, ...|      49|[Berezhnoy, A.V.,...|[CERN LHC Coll, L...|  4|\n",
       "|Excited $\\rho$ me...|In this paper, ex...|2018-12-27T00:00:...|              7|[{null, publisher...|      22|   [Luchinsky, A.V.]|[numerical calcul...|  5|\n",
       "|Doubly heavy bary...|The theoretical a...|2018-09-27T00:00:...|             14|[{null, publisher...|      56|[Berezhnoy, A.V.,...|[CERN LHC Coll, L...|  6|\n",
       "|Charmonia Product...|In the presented ...|2018-01-30T00:00:...|              9|[{PACS, null, 14....|      30|   [Luchinsky, A.V.]|[branching ratio,...|  7|\n",
       "|Lifetimes of Doub...|The inclusive dec...|2019-02-25T00:00:...|             11|[{INSPIRE, null, ...|      49|[Likhoded, A.K., ...|              [None]|  8|\n",
       "|Double Charmonia ...|This paper is dev...|2017-12-11T00:00:...|             14|[{PACS, null, 13....|      36|[Likhoded, A.K., ...|[14.40.Pq, quantu...|  9|\n",
       "|Muon Pair Product...|Muon pair product...|2017-09-11T00:00:...|              7|[{PACS, null, 13....|      22|   [Luchinsky, A.V.]|[branching ratio,...| 10|\n",
       "|Production of hea...|Processes of sing...|2017-08-24T00:00:...|             13|[{INSPIRE, null, ...|      57|[Likhoded, A.K., ...|[CERN LHC Coll, q...| 11|\n",
       "|Leading order NRQ...|The presented pap...|2017-06-14T00:00:...|              8|[{INSPIRE, null, ...|      29|   [Luchinsky, A.V.]|[quantum chromody...| 12|\n",
       "|Comments on 'Stud...|Recent LHCb measu...|2017-03-28T00:00:...|              8|[{PACS, null, 13....|      32|[Belyaev, I., Ber...|[numerical calcul...| 13|\n",
       "|Double Charmonia ...|In this note next...|2016-12-12T00:00:...|              7|[{INSPIRE, null, ...|      20|   [Luchinsky, A.V.]|[CERN LHC Coll, p...| 14|\n",
       "|Production of $J/...|In the present wo...|2016-06-23T00:00:...|              8|[{INSPIRE, null, ...|      31|[Likhoded, A.K., ...|[J/psi(3100): pai...| 15|\n",
       "|Production of hea...|The phenomenology...|2016-01-05T00:00:...|             10|[{INSPIRE, null, ...|      34|[Likhoded, A.K., ...|[p p: scattering,...| 16|\n",
       "|Production of J/ ...|The inclusive pro...|2015-11-16T00:00:...|              8|[{INSPIRE, null, ...|      29|[Likhoded, A.K., ...|[CERN LHC Coll, L...| 17|\n",
       "|$J/\\Psi \\Upsilon$...|Inclusive product...|2015-09-11T00:00:...|              8|[{INSPIRE, null, ...|      26|   [Luchinsky, A.V.]|[CERN LHC Coll, L...| 18|\n",
       "|Hadroproduction o...|The production of...|2015-05-28T00:00:...|              9|[{INSPIRE, null, ...|      38|[Berezhnoy, A.V.,...|[CERN LHC Coll, q...| 19|\n",
       "+--------------------+--------------------+--------------------+---------------+--------------------+--------+--------------------+--------------------+---+\n",
       "only showing top 20 rows"
      ]
     },
     "execution_count": 129,
     "metadata": {},
     "output_type": "execute_result"
    }
   ],
   "source": [
    "# returns first keyword\n",
    "@udf(returnType=ArrayType(StringType()))\n",
    "def list_keywords(a):\n",
    "    return [format_kwd(aa[\"value\"]) for aa in a] if a else [\"None\"]\n",
    "\n",
    "@udf(returnType=ArrayType(StringType()))\n",
    "def filtered_list_keywords(a):\n",
    "    kws_list = [aa[\"value\"] for aa in a] if a else [\"None\"]\n",
    "    kws_list = intersection(kws_list, selected_keywords)\n",
    "    return kws_list if kws_list else [\"None\"]\n",
    "\n",
    "withKeywords = short_papers.withColumn(\"keywords_\", filtered_list_keywords(col(\"keywords\"))).withColumn(\"id\", monotonically_increasing_id())\n",
    "withKeywords"
   ]
  },
  {
   "cell_type": "code",
   "execution_count": 89,
   "id": "3219aebb-102f-4846-b011-3d7df48367c2",
   "metadata": {},
   "outputs": [
    {
     "data": {
      "text/plain": [
       "['numerical calculations',\n",
       " 'CERN LHC Coll',\n",
       " 'quantum chromodynamics: nonrelativistic',\n",
       " 'LHC-B',\n",
       " '14.40.Pq',\n",
       " 'charmonium',\n",
       " 'electron positron: annihilation',\n",
       " '12.38.Bx',\n",
       " 'quarkonium: heavy',\n",
       " '13.25.Gv',\n",
       " '13.66.Bc',\n",
       " 'J/psi(3100): pair production',\n",
       " 'color: octet',\n",
       " '12.38.-t',\n",
       " 'light cone',\n",
       " 'color: singlet',\n",
       " 'branching ratio',\n",
       " 'p p: scattering',\n",
       " 'channel cross section',\n",
       " 'quarkonium: pair production',\n",
       " 'None']"
      ]
     },
     "execution_count": 89,
     "metadata": {},
     "output_type": "execute_result"
    }
   ],
   "source": [
    "selected_keywords"
   ]
  },
  {
   "cell_type": "code",
   "execution_count": 90,
   "id": "9b913a10-2350-413e-b126-fd4685fad983",
   "metadata": {},
   "outputs": [
    {
     "data": {
      "text/plain": [
       "21"
      ]
     },
     "execution_count": 90,
     "metadata": {},
     "output_type": "execute_result"
    }
   ],
   "source": [
    "withKeywords.select(explode(col(\"keywords_\"))).distinct().count()"
   ]
  },
  {
   "cell_type": "code",
   "execution_count": 91,
   "id": "0e586c22-9085-4d0d-8f07-c92492588fcb",
   "metadata": {},
   "outputs": [
    {
     "data": {
      "text/html": [
       "<table border='1'>\n",
       "<tr><th>title</th><th>abstract</th><th>created</th><th>number_of_pages</th><th>keywords</th><th>num_refs</th><th>authors</th><th>keywords_</th><th>id</th></tr>\n",
       "<tr><td>Production of hea...</td><td>Processes of sing...</td><td>2017-08-24T00:00:...</td><td>13</td><td>[{INSPIRE, null, ...</td><td>57</td><td>[Likhoded, A.K., ...</td><td>[CERN LHC Coll, q...</td><td>11</td></tr>\n",
       "<tr><td>BC_NPI module for...</td><td>The module for th...</td><td>2011-04-05T00:00:...</td><td>15</td><td>[{INSPIRE, null, ...</td><td>19</td><td>[Berezhnoy, A.V.,...</td><td>[charmonium]</td><td>38</td></tr>\n",
       "<tr><td>Light hadron prod...</td><td>Decays of ground ...</td><td>2009-10-18T00:00:...</td><td>10</td><td>[{PACS, null, 13....</td><td>26</td><td>[Likhoded, A.K., ...</td><td>[numerical calcul...</td><td>46</td></tr>\n",
       "<tr><td>Leading twist dis...</td><td>This paper is dev...</td><td>2008-10-20T00:00:...</td><td>8</td><td>[{PACS, null, 13....</td><td>19</td><td>[Braguta, V.V., L...</td><td>[12.38.Bx, 13.25....</td><td>50</td></tr>\n",
       "<tr><td>Lepton pair produ...</td><td>Coherent producti...</td><td>2007-09-04T00:00:...</td><td>15</td><td>[{PACS, null, 13....</td><td>10</td><td>[Berezhnoy, A.V.,...</td><td>[numerical calcul...</td><td>54</td></tr>\n",
       "<tr><td>Charmonium produc...</td><td>The production of...</td><td>2007-03-08T00:00:...</td><td>28</td><td>[{INSPIRE, null, ...</td><td>30</td><td>[Likhoded, A.K., ...</td><td>[numerical calcul...</td><td>55</td></tr>\n",
       "<tr><td>Systematics of he...</td><td>It is shown that,...</td><td>2007-06-15T00:00:...</td><td>10</td><td>[{PACS, null, 14....</td><td>37</td><td>[Gershtein, S.S.,...</td><td>[charmonium]</td><td>56</td></tr>\n",
       "<tr><td>The Processes e+ ...</td><td>In this paper we ...</td><td>2006-02-08T00:00:...</td><td>8</td><td>[{PACS, null, 13....</td><td>13</td><td>[Braguta, V.V., L...</td><td>[12.38.Bx, 13.25....</td><td>60</td></tr>\n",
       "<tr><td>Systematics of he...</td><td>In this paper we ...</td><td>2006-02-08T00:00:...</td><td>9</td><td>[{PACS, null, 14....</td><td>33</td><td>[Gershtein, S.S.,...</td><td>[charmonium]</td><td>62</td></tr>\n",
       "<tr><td>Excited charmoniu...</td><td>In this paper the...</td><td>2005-07-25T00:00:...</td><td>7</td><td>[{PACS, null, 13....</td><td>16</td><td>[Braguta, V.V., L...</td><td>[12.38.Bx, 13.25....</td><td>64</td></tr>\n",
       "<tr><td>ISR corrections t...</td><td>In this paper ini...</td><td>2004-01-28T00:00:...</td><td>9</td><td>[{INSPIRE, null, ...</td><td>21</td><td>[Luchinsky, A.V.]</td><td>[charmonium, elec...</td><td>68</td></tr>\n",
       "</table>\n"
      ],
      "text/plain": [
       "+--------------------+--------------------+--------------------+---------------+--------------------+--------+--------------------+--------------------+---+\n",
       "|               title|            abstract|             created|number_of_pages|            keywords|num_refs|             authors|           keywords_| id|\n",
       "+--------------------+--------------------+--------------------+---------------+--------------------+--------+--------------------+--------------------+---+\n",
       "|Production of hea...|Processes of sing...|2017-08-24T00:00:...|             13|[{INSPIRE, null, ...|      57|[Likhoded, A.K., ...|[CERN LHC Coll, q...| 11|\n",
       "|BC_NPI module for...|The module for th...|2011-04-05T00:00:...|             15|[{INSPIRE, null, ...|      19|[Berezhnoy, A.V.,...|        [charmonium]| 38|\n",
       "|Light hadron prod...|Decays of ground ...|2009-10-18T00:00:...|             10|[{PACS, null, 13....|      26|[Likhoded, A.K., ...|[numerical calcul...| 46|\n",
       "|Leading twist dis...|This paper is dev...|2008-10-20T00:00:...|              8|[{PACS, null, 13....|      19|[Braguta, V.V., L...|[12.38.Bx, 13.25....| 50|\n",
       "|Lepton pair produ...|Coherent producti...|2007-09-04T00:00:...|             15|[{PACS, null, 13....|      10|[Berezhnoy, A.V.,...|[numerical calcul...| 54|\n",
       "|Charmonium produc...|The production of...|2007-03-08T00:00:...|             28|[{INSPIRE, null, ...|      30|[Likhoded, A.K., ...|[numerical calcul...| 55|\n",
       "|Systematics of he...|It is shown that,...|2007-06-15T00:00:...|             10|[{PACS, null, 14....|      37|[Gershtein, S.S.,...|        [charmonium]| 56|\n",
       "|The Processes e+ ...|In this paper we ...|2006-02-08T00:00:...|              8|[{PACS, null, 13....|      13|[Braguta, V.V., L...|[12.38.Bx, 13.25....| 60|\n",
       "|Systematics of he...|In this paper we ...|2006-02-08T00:00:...|              9|[{PACS, null, 14....|      33|[Gershtein, S.S.,...|        [charmonium]| 62|\n",
       "|Excited charmoniu...|In this paper the...|2005-07-25T00:00:...|              7|[{PACS, null, 13....|      16|[Braguta, V.V., L...|[12.38.Bx, 13.25....| 64|\n",
       "|ISR corrections t...|In this paper ini...|2004-01-28T00:00:...|              9|[{INSPIRE, null, ...|      21|   [Luchinsky, A.V.]|[charmonium, elec...| 68|\n",
       "+--------------------+--------------------+--------------------+---------------+--------------------+--------+--------------------+--------------------+---+"
      ]
     },
     "execution_count": 91,
     "metadata": {},
     "output_type": "execute_result"
    }
   ],
   "source": [
    "from pyspark.sql.functions import array_contains\n",
    "withKeywords.filter( array_contains(col(\"keywords_\"), \"charmonium\"))"
   ]
  },
  {
   "cell_type": "markdown",
   "id": "c38fd25e-1fd2-4638-a4df-fb78be8bf2ce",
   "metadata": {},
   "source": [
    "Here are papers without any keywords"
   ]
  },
  {
   "cell_type": "code",
   "execution_count": 20,
   "id": "40ac1406-60ea-4891-b028-f24be33f4cb9",
   "metadata": {},
   "outputs": [
    {
     "data": {
      "text/plain": [
       "11"
      ]
     },
     "execution_count": 20,
     "metadata": {},
     "output_type": "execute_result"
    }
   ],
   "source": [
    "withKeywords.filter( array_contains(col(\"keywords_\"), \"charmonium\")).count()"
   ]
  },
  {
   "cell_type": "code",
   "execution_count": 21,
   "id": "ad819fe3-a7a1-42ab-8fc5-1d5dca496e05",
   "metadata": {},
   "outputs": [
    {
     "data": {
      "text/plain": [
       "31"
      ]
     },
     "execution_count": 21,
     "metadata": {},
     "output_type": "execute_result"
    }
   ],
   "source": [
    "withKeywords.filter( array_contains(col(\"keywords_\"), \"numerical calculations\")).count()"
   ]
  },
  {
   "cell_type": "code",
   "execution_count": 205,
   "id": "f6b7aa27-4df3-41dd-9458-c2b6b295150f",
   "metadata": {},
   "outputs": [
    {
     "data": {
      "text/html": [
       "<table border='1'>\n",
       "<tr><th>title</th><th>abstract</th><th>created</th><th>number_of_pages</th><th>keywords</th><th>num_refs</th><th>authors</th><th>keywords_</th></tr>\n",
       "<tr><td>Lifetimes of Doub...</td><td>The inclusive dec...</td><td>2019-02-25T00:00:...</td><td>11</td><td>[{INSPIRE, null, ...</td><td>49</td><td>[Likhoded, A.K., ...</td><td>[None]</td></tr>\n",
       "<tr><td>Exclusive process...</td><td>Results obtained ...</td><td>2012-04-17T00:00:...</td><td>12</td><td>[{INSPIRE, null, ...</td><td>58</td><td>[Braguta, V.V., L...</td><td>[None]</td></tr>\n",
       "<tr><td>Scalar mesons in ...</td><td>The decay $\\eta&#x27;\\...</td><td>2009-02-19T00:00:...</td><td>6</td><td>[{INSPIRE, null, ...</td><td>13</td><td>[Donskov, S.V., L...</td><td>[None]</td></tr>\n",
       "<tr><td>Scalar mesons sig...</td><td>The matrix elemen...</td><td>2010-02-04T00:00:...</td><td>6</td><td>[{INSPIRE, null, ...</td><td>13</td><td>[Donskov, S.V., L...</td><td>[None]</td></tr>\n",
       "<tr><td>New Polarization ...</td><td>The new polarizat...</td><td>2007-12-17T00:00:...</td><td>8</td><td>null</td><td>6</td><td>[Vasiliev, A.N., ...</td><td>[None]</td></tr>\n",
       "<tr><td>Ortho-para conver...</td><td>The ortho-para co...</td><td>2002-04-24T00:00:...</td><td>7</td><td>[{INSPIRE, null, ...</td><td>-1</td><td>[Gershtein, S.S.,...</td><td>[None]</td></tr>\n",
       "<tr><td>Experimental inve...</td><td>null</td><td>1999-04-08T00:00:...</td><td>20</td><td>null</td><td>27</td><td>[Bystritsky, V.M....</td><td>[None]</td></tr>\n",
       "<tr><td>Measuremen of the...</td><td>null</td><td>2015-09-11T00:00:...</td><td>4</td><td>null</td><td>-1</td><td>[Bulgakov, T.L., ...</td><td>[None]</td></tr>\n",
       "</table>\n"
      ],
      "text/plain": [
       "+--------------------+--------------------+--------------------+---------------+--------------------+--------+--------------------+---------+\n",
       "|               title|            abstract|             created|number_of_pages|            keywords|num_refs|             authors|keywords_|\n",
       "+--------------------+--------------------+--------------------+---------------+--------------------+--------+--------------------+---------+\n",
       "|Lifetimes of Doub...|The inclusive dec...|2019-02-25T00:00:...|             11|[{INSPIRE, null, ...|      49|[Likhoded, A.K., ...|   [None]|\n",
       "|Exclusive process...|Results obtained ...|2012-04-17T00:00:...|             12|[{INSPIRE, null, ...|      58|[Braguta, V.V., L...|   [None]|\n",
       "|Scalar mesons in ...|The decay $\\eta'\\...|2009-02-19T00:00:...|              6|[{INSPIRE, null, ...|      13|[Donskov, S.V., L...|   [None]|\n",
       "|Scalar mesons sig...|The matrix elemen...|2010-02-04T00:00:...|              6|[{INSPIRE, null, ...|      13|[Donskov, S.V., L...|   [None]|\n",
       "|New Polarization ...|The new polarizat...|2007-12-17T00:00:...|              8|                null|       6|[Vasiliev, A.N., ...|   [None]|\n",
       "|Ortho-para conver...|The ortho-para co...|2002-04-24T00:00:...|              7|[{INSPIRE, null, ...|      -1|[Gershtein, S.S.,...|   [None]|\n",
       "|Experimental inve...|                null|1999-04-08T00:00:...|             20|                null|      27|[Bystritsky, V.M....|   [None]|\n",
       "|Measuremen of the...|                null|2015-09-11T00:00:...|              4|                null|      -1|[Bulgakov, T.L., ...|   [None]|\n",
       "+--------------------+--------------------+--------------------+---------------+--------------------+--------+--------------------+---------+"
      ]
     },
     "execution_count": 205,
     "metadata": {},
     "output_type": "execute_result"
    }
   ],
   "source": [
    "from pyspark.sql.functions import array_contains\n",
    "withKeywords.filter( array_contains(col(\"keywords_\"), \"None\"))"
   ]
  },
  {
   "cell_type": "markdown",
   "id": "33bcf6c6-c455-4e14-9b60-25f30ab13dce",
   "metadata": {},
   "source": [
    "### Creating dummy variables"
   ]
  },
  {
   "cell_type": "code",
   "execution_count": 78,
   "id": "6c58a0f6-5e56-4973-a47f-9f627b49c31b",
   "metadata": {},
   "outputs": [],
   "source": [
    "@udf(returnType=IntegerType())\n",
    "def isin(kwds, kwd=\"aa\"):\n",
    "    if kwd in kwds:\n",
    "        return 1\n",
    "    return 0\n"
   ]
  },
  {
   "cell_type": "code",
   "execution_count": 83,
   "id": "39b76ba3-900f-4963-94d0-346709989693",
   "metadata": {},
   "outputs": [],
   "source": [
    "from pyspark.sql.functions import lit"
   ]
  },
  {
   "cell_type": "code",
   "execution_count": 92,
   "id": "f4f982a6-d94d-4001-93a2-d8ae60cc60ae",
   "metadata": {},
   "outputs": [
    {
     "data": {
      "text/plain": [
       "['numerical calculations', 'CERN LHC Coll']"
      ]
     },
     "execution_count": 92,
     "metadata": {},
     "output_type": "execute_result"
    }
   ],
   "source": [
    "for k imselected_keywords[:2]"
   ]
  },
  {
   "cell_type": "code",
   "execution_count": 103,
   "id": "a76165d5-c789-483c-b498-d43b4ffb5024",
   "metadata": {},
   "outputs": [
    {
     "data": {
      "text/plain": [
       "['number_of_pages',\n",
       " 'num_refs',\n",
       " 'numerical calculations',\n",
       " 'CERN LHC Coll',\n",
       " 'quantum chromodynamics: nonrelativistic',\n",
       " 'LHC-B',\n",
       " '14.40.Pq',\n",
       " 'charmonium',\n",
       " 'electron positron: annihilation',\n",
       " '12.38.Bx',\n",
       " 'quarkonium: heavy',\n",
       " '13.25.Gv',\n",
       " '13.66.Bc',\n",
       " 'J/psi(3100): pair production',\n",
       " 'color: octet',\n",
       " '12.38.-t',\n",
       " 'light cone',\n",
       " 'color: singlet',\n",
       " 'branching ratio',\n",
       " 'p p: scattering',\n",
       " 'channel cross section',\n",
       " 'quarkonium: pair production',\n",
       " 'None']"
      ]
     },
     "execution_count": 103,
     "metadata": {},
     "output_type": "execute_result"
    }
   ],
   "source": [
    "[\"number_of_pages\", \"num_refs\"]+selected_keywords"
   ]
  },
  {
   "cell_type": "code",
   "execution_count": 107,
   "id": "f095536a-d1d0-4fbe-b871-bfba87e4da5a",
   "metadata": {},
   "outputs": [
    {
     "data": {
      "text/plain": [
       "['numerical calculations',\n",
       " 'CERN LHC Coll',\n",
       " 'quantum chromodynamics: nonrelativistic',\n",
       " 'LHC-B',\n",
       " '14.40.Pq',\n",
       " 'charmonium',\n",
       " 'electron positron: annihilation',\n",
       " '12.38.Bx',\n",
       " 'quarkonium: heavy',\n",
       " '13.25.Gv',\n",
       " '13.66.Bc',\n",
       " 'J/psi(3100): pair production',\n",
       " 'color: octet',\n",
       " '12.38.-t',\n",
       " 'light cone',\n",
       " 'color: singlet',\n",
       " 'branching ratio',\n",
       " 'p p: scattering',\n",
       " 'channel cross section',\n",
       " 'quarkonium: pair production',\n",
       " 'None']"
      ]
     },
     "execution_count": 107,
     "metadata": {},
     "output_type": "execute_result"
    }
   ],
   "source": [
    "selected_keywords"
   ]
  },
  {
   "cell_type": "code",
   "execution_count": 113,
   "id": "5cb7d1e0-1a59-4c33-b6c7-56a5b00855e6",
   "metadata": {},
   "outputs": [],
   "source": [
    "dummy_df = withKeywords\n",
    "for kw in selected_keywords:\n",
    "    dummy_df = dummy_df.withColumn(kw.replace(\".\", \"_\"), isin(col(\"keywords_\"), lit(kw)))"
   ]
  },
  {
   "cell_type": "code",
   "execution_count": 112,
   "id": "8021d965-bfa7-4d87-be65-fae889e1163d",
   "metadata": {},
   "outputs": [
    {
     "name": "stdout",
     "output_type": "stream",
     "text": [
      "root\n",
      " |-- title: string (nullable = true)\n",
      " |-- abstract: string (nullable = true)\n",
      " |-- created: string (nullable = true)\n",
      " |-- number_of_pages: long (nullable = true)\n",
      " |-- keywords: array (nullable = true)\n",
      " |    |-- element: struct (containsNull = true)\n",
      " |    |    |-- schema: string (nullable = true)\n",
      " |    |    |-- source: string (nullable = true)\n",
      " |    |    |-- value: string (nullable = true)\n",
      " |-- num_refs: integer (nullable = false)\n",
      " |-- authors: array (nullable = true)\n",
      " |    |-- element: string (containsNull = true)\n",
      " |-- keywords_: array (nullable = true)\n",
      " |    |-- element: string (containsNull = true)\n",
      " |-- id: long (nullable = false)\n",
      " |-- numerical calculations: integer (nullable = true)\n",
      " |-- CERN LHC Coll: integer (nullable = true)\n",
      " |-- quantum chromodynamics: nonrelativistic: integer (nullable = true)\n",
      " |-- LHC-B: integer (nullable = true)\n",
      " |-- 14_40_Pq: integer (nullable = true)\n",
      " |-- charmonium: integer (nullable = true)\n",
      " |-- electron positron: annihilation: integer (nullable = true)\n",
      " |-- 12_38_Bx: integer (nullable = true)\n",
      " |-- quarkonium: heavy: integer (nullable = true)\n",
      " |-- 13_25_Gv: integer (nullable = true)\n",
      " |-- 13_66_Bc: integer (nullable = true)\n",
      " |-- J/psi(3100): pair production: integer (nullable = true)\n",
      " |-- color: octet: integer (nullable = true)\n",
      " |-- 12_38_-t: integer (nullable = true)\n",
      " |-- light cone: integer (nullable = true)\n",
      " |-- color: singlet: integer (nullable = true)\n",
      " |-- branching ratio: integer (nullable = true)\n",
      " |-- p p: scattering: integer (nullable = true)\n",
      " |-- channel cross section: integer (nullable = true)\n",
      " |-- quarkonium: pair production: integer (nullable = true)\n",
      " |-- None: integer (nullable = true)\n",
      "\n"
     ]
    }
   ],
   "source": []
  },
  {
   "cell_type": "code",
   "execution_count": 110,
   "id": "1f0b7ca1-401e-4e9b-849c-76329667ad8e",
   "metadata": {},
   "outputs": [
    {
     "data": {
      "text/plain": [
       "'13_66_Bc'"
      ]
     },
     "execution_count": 110,
     "metadata": {},
     "output_type": "execute_result"
    }
   ],
   "source": [
    "selected_keywords[10].replace(\".\", \"_\")"
   ]
  },
  {
   "cell_type": "code",
   "execution_count": 101,
   "id": "94ae7ec6-7458-4c15-b6cd-678bebd816c3",
   "metadata": {},
   "outputs": [
    {
     "data": {
      "text/html": [
       "<table border='1'>\n",
       "<tr><th>title</th><th>abstract</th><th>created</th><th>number_of_pages</th><th>keywords</th><th>num_refs</th><th>authors</th><th>keywords_</th><th>id</th><th>numerical calculations</th><th>CERN LHC Coll</th><th>quantum chromodynamics: nonrelativistic</th><th>LHC-B</th><th>14.40.Pq</th><th>charmonium</th><th>electron positron: annihilation</th><th>12.38.Bx</th><th>quarkonium: heavy</th><th>13.25.Gv</th><th>13.66.Bc</th><th>J/psi(3100): pair production</th><th>color: octet</th><th>12.38.-t</th><th>light cone</th><th>color: singlet</th><th>branching ratio</th><th>p p: scattering</th><th>channel cross section</th><th>quarkonium: pair production</th><th>None</th></tr>\n",
       "<tr><td>Charmonia product...</td><td>In this paper, pr...</td><td>2021-03-26T00:00:...</td><td>15</td><td>[{PACS, null, 14....</td><td>35</td><td>[Luchinsky, A.V.,...</td><td>[quantum chromody...</td><td>0</td><td>0</td><td>0</td><td>1</td><td>0</td><td>1</td><td>0</td><td>0</td><td>0</td><td>0</td><td>0</td><td>0</td><td>0</td><td>0</td><td>0</td><td>0</td><td>0</td><td>0</td><td>0</td><td>0</td><td>0</td><td>0</td></tr>\n",
       "<tr><td>Exclusive decays ...</td><td>Exclusive decays ...</td><td>2020-07-09T00:00:...</td><td>10</td><td>[{null, publisher...</td><td>42</td><td>[Luchinsky, A.V.,...</td><td>[branching ratio]</td><td>1</td><td>0</td><td>0</td><td>0</td><td>0</td><td>0</td><td>0</td><td>0</td><td>0</td><td>0</td><td>0</td><td>0</td><td>0</td><td>0</td><td>0</td><td>0</td><td>0</td><td>1</td><td>0</td><td>0</td><td>0</td><td>0</td></tr>\n",
       "<tr><td>Doubly heavy bary...</td><td>The theoretical a...</td><td>2019-12-11T00:00:...</td><td>8</td><td>[{INSPIRE, null, ...</td><td>40</td><td>[Berezhnoy, A.V.,...</td><td>[CERN LHC Coll, L...</td><td>2</td><td>0</td><td>1</td><td>0</td><td>1</td><td>0</td><td>0</td><td>0</td><td>0</td><td>0</td><td>0</td><td>0</td><td>0</td><td>0</td><td>0</td><td>0</td><td>0</td><td>0</td><td>0</td><td>0</td><td>0</td><td>0</td></tr>\n",
       "<tr><td>Weak decays of do...</td><td>We consider exclu...</td><td>2019-05-29T00:00:...</td><td>10</td><td>[{null, publisher...</td><td>21</td><td>[Gerasimov, A.S.,...</td><td>[numerical calcul...</td><td>3</td><td>1</td><td>0</td><td>0</td><td>0</td><td>0</td><td>0</td><td>0</td><td>0</td><td>0</td><td>0</td><td>0</td><td>0</td><td>0</td><td>0</td><td>0</td><td>0</td><td>0</td><td>0</td><td>0</td><td>0</td><td>0</td></tr>\n",
       "<tr><td>$B_c$ excitations...</td><td>Status of the Bc ...</td><td>2019-11-21T00:00:...</td><td>8</td><td>[{INSPIRE, null, ...</td><td>49</td><td>[Berezhnoy, A.V.,...</td><td>[CERN LHC Coll, L...</td><td>4</td><td>0</td><td>1</td><td>0</td><td>1</td><td>0</td><td>0</td><td>0</td><td>0</td><td>0</td><td>0</td><td>0</td><td>0</td><td>0</td><td>0</td><td>0</td><td>0</td><td>0</td><td>0</td><td>0</td><td>0</td><td>0</td></tr>\n",
       "<tr><td>Excited $\\rho$ me...</td><td>In this paper, ex...</td><td>2018-12-27T00:00:...</td><td>7</td><td>[{null, publisher...</td><td>22</td><td>[Luchinsky, A.V.]</td><td>[numerical calcul...</td><td>5</td><td>1</td><td>0</td><td>0</td><td>0</td><td>0</td><td>0</td><td>0</td><td>0</td><td>0</td><td>0</td><td>0</td><td>0</td><td>0</td><td>0</td><td>0</td><td>0</td><td>1</td><td>0</td><td>0</td><td>0</td><td>0</td></tr>\n",
       "<tr><td>Doubly heavy bary...</td><td>The theoretical a...</td><td>2018-09-27T00:00:...</td><td>14</td><td>[{null, publisher...</td><td>56</td><td>[Berezhnoy, A.V.,...</td><td>[CERN LHC Coll, L...</td><td>6</td><td>0</td><td>1</td><td>0</td><td>1</td><td>0</td><td>0</td><td>0</td><td>0</td><td>0</td><td>0</td><td>0</td><td>0</td><td>0</td><td>0</td><td>0</td><td>0</td><td>0</td><td>0</td><td>0</td><td>0</td><td>0</td></tr>\n",
       "<tr><td>Charmonia Product...</td><td>In the presented ...</td><td>2018-01-30T00:00:...</td><td>9</td><td>[{PACS, null, 14....</td><td>30</td><td>[Luchinsky, A.V.]</td><td>[branching ratio,...</td><td>7</td><td>1</td><td>0</td><td>1</td><td>0</td><td>1</td><td>0</td><td>0</td><td>0</td><td>0</td><td>0</td><td>0</td><td>0</td><td>1</td><td>0</td><td>0</td><td>0</td><td>1</td><td>0</td><td>0</td><td>0</td><td>0</td></tr>\n",
       "<tr><td>Lifetimes of Doub...</td><td>The inclusive dec...</td><td>2019-02-25T00:00:...</td><td>11</td><td>[{INSPIRE, null, ...</td><td>49</td><td>[Likhoded, A.K., ...</td><td>[None]</td><td>8</td><td>0</td><td>0</td><td>0</td><td>0</td><td>0</td><td>0</td><td>0</td><td>0</td><td>0</td><td>0</td><td>0</td><td>0</td><td>0</td><td>0</td><td>0</td><td>0</td><td>0</td><td>0</td><td>0</td><td>0</td><td>1</td></tr>\n",
       "<tr><td>Double Charmonia ...</td><td>This paper is dev...</td><td>2017-12-11T00:00:...</td><td>14</td><td>[{PACS, null, 13....</td><td>36</td><td>[Likhoded, A.K., ...</td><td>[14.40.Pq, quantu...</td><td>9</td><td>0</td><td>0</td><td>1</td><td>0</td><td>1</td><td>0</td><td>0</td><td>0</td><td>0</td><td>0</td><td>0</td><td>0</td><td>0</td><td>0</td><td>1</td><td>0</td><td>1</td><td>0</td><td>0</td><td>0</td><td>0</td></tr>\n",
       "<tr><td>Muon Pair Product...</td><td>Muon pair product...</td><td>2017-09-11T00:00:...</td><td>7</td><td>[{PACS, null, 13....</td><td>22</td><td>[Luchinsky, A.V.]</td><td>[branching ratio,...</td><td>10</td><td>1</td><td>0</td><td>0</td><td>0</td><td>1</td><td>0</td><td>0</td><td>0</td><td>1</td><td>0</td><td>0</td><td>0</td><td>0</td><td>0</td><td>0</td><td>0</td><td>1</td><td>0</td><td>0</td><td>0</td><td>0</td></tr>\n",
       "<tr><td>Production of hea...</td><td>Processes of sing...</td><td>2017-08-24T00:00:...</td><td>13</td><td>[{INSPIRE, null, ...</td><td>57</td><td>[Likhoded, A.K., ...</td><td>[CERN LHC Coll, q...</td><td>11</td><td>0</td><td>1</td><td>1</td><td>0</td><td>0</td><td>1</td><td>0</td><td>0</td><td>1</td><td>0</td><td>0</td><td>0</td><td>1</td><td>0</td><td>0</td><td>1</td><td>0</td><td>0</td><td>0</td><td>1</td><td>0</td></tr>\n",
       "<tr><td>Leading order NRQ...</td><td>The presented pap...</td><td>2017-06-14T00:00:...</td><td>8</td><td>[{INSPIRE, null, ...</td><td>29</td><td>[Luchinsky, A.V.]</td><td>[quantum chromody...</td><td>12</td><td>0</td><td>0</td><td>1</td><td>0</td><td>0</td><td>0</td><td>0</td><td>0</td><td>0</td><td>0</td><td>0</td><td>0</td><td>0</td><td>0</td><td>0</td><td>0</td><td>0</td><td>0</td><td>0</td><td>0</td><td>0</td></tr>\n",
       "<tr><td>Comments on &#x27;Stud...</td><td>Recent LHCb measu...</td><td>2017-03-28T00:00:...</td><td>8</td><td>[{PACS, null, 13....</td><td>32</td><td>[Belyaev, I., Ber...</td><td>[numerical calcul...</td><td>13</td><td>1</td><td>0</td><td>0</td><td>1</td><td>1</td><td>0</td><td>0</td><td>0</td><td>0</td><td>0</td><td>0</td><td>0</td><td>0</td><td>0</td><td>0</td><td>0</td><td>0</td><td>0</td><td>0</td><td>0</td><td>0</td></tr>\n",
       "<tr><td>Double Charmonia ...</td><td>In this note next...</td><td>2016-12-12T00:00:...</td><td>7</td><td>[{INSPIRE, null, ...</td><td>20</td><td>[Luchinsky, A.V.]</td><td>[CERN LHC Coll, p...</td><td>14</td><td>0</td><td>1</td><td>0</td><td>1</td><td>0</td><td>0</td><td>0</td><td>0</td><td>0</td><td>0</td><td>0</td><td>0</td><td>0</td><td>0</td><td>0</td><td>0</td><td>0</td><td>1</td><td>0</td><td>0</td><td>0</td></tr>\n",
       "<tr><td>Production of $J/...</td><td>In the present wo...</td><td>2016-06-23T00:00:...</td><td>8</td><td>[{INSPIRE, null, ...</td><td>31</td><td>[Likhoded, A.K., ...</td><td>[J/psi(3100): pai...</td><td>15</td><td>0</td><td>0</td><td>0</td><td>0</td><td>0</td><td>0</td><td>0</td><td>0</td><td>0</td><td>0</td><td>0</td><td>1</td><td>0</td><td>0</td><td>0</td><td>0</td><td>0</td><td>0</td><td>0</td><td>0</td><td>0</td></tr>\n",
       "<tr><td>Production of hea...</td><td>The phenomenology...</td><td>2016-01-05T00:00:...</td><td>10</td><td>[{INSPIRE, null, ...</td><td>34</td><td>[Likhoded, A.K., ...</td><td>[p p: scattering,...</td><td>16</td><td>0</td><td>0</td><td>1</td><td>1</td><td>0</td><td>0</td><td>0</td><td>0</td><td>1</td><td>0</td><td>0</td><td>0</td><td>1</td><td>0</td><td>0</td><td>0</td><td>0</td><td>1</td><td>0</td><td>0</td><td>0</td></tr>\n",
       "<tr><td>Production of J/ ...</td><td>The inclusive pro...</td><td>2015-11-16T00:00:...</td><td>8</td><td>[{INSPIRE, null, ...</td><td>29</td><td>[Likhoded, A.K., ...</td><td>[CERN LHC Coll, L...</td><td>17</td><td>0</td><td>1</td><td>0</td><td>1</td><td>0</td><td>0</td><td>0</td><td>0</td><td>0</td><td>0</td><td>0</td><td>0</td><td>0</td><td>0</td><td>0</td><td>0</td><td>0</td><td>0</td><td>0</td><td>0</td><td>0</td></tr>\n",
       "<tr><td>$J/\\Psi \\Upsilon$...</td><td>Inclusive product...</td><td>2015-09-11T00:00:...</td><td>8</td><td>[{INSPIRE, null, ...</td><td>26</td><td>[Luchinsky, A.V.]</td><td>[CERN LHC Coll, L...</td><td>18</td><td>1</td><td>1</td><td>0</td><td>1</td><td>0</td><td>0</td><td>0</td><td>0</td><td>0</td><td>0</td><td>0</td><td>0</td><td>1</td><td>0</td><td>0</td><td>0</td><td>0</td><td>0</td><td>0</td><td>1</td><td>0</td></tr>\n",
       "<tr><td>Hadroproduction o...</td><td>The production of...</td><td>2015-05-28T00:00:...</td><td>9</td><td>[{INSPIRE, null, ...</td><td>38</td><td>[Berezhnoy, A.V.,...</td><td>[CERN LHC Coll, q...</td><td>19</td><td>0</td><td>1</td><td>1</td><td>0</td><td>0</td><td>0</td><td>0</td><td>0</td><td>1</td><td>0</td><td>0</td><td>0</td><td>0</td><td>0</td><td>0</td><td>0</td><td>0</td><td>0</td><td>0</td><td>0</td><td>0</td></tr>\n",
       "</table>\n",
       "only showing top 20 rows\n"
      ],
      "text/plain": [
       "+--------------------+--------------------+--------------------+---------------+--------------------+--------+--------------------+--------------------+---+----------------------+-------------+---------------------------------------+-----+--------+----------+-------------------------------+--------+-----------------+--------+--------+----------------------------+------------+--------+----------+--------------+---------------+---------------+---------------------+---------------------------+----+\n",
       "|               title|            abstract|             created|number_of_pages|            keywords|num_refs|             authors|           keywords_| id|numerical calculations|CERN LHC Coll|quantum chromodynamics: nonrelativistic|LHC-B|14.40.Pq|charmonium|electron positron: annihilation|12.38.Bx|quarkonium: heavy|13.25.Gv|13.66.Bc|J/psi(3100): pair production|color: octet|12.38.-t|light cone|color: singlet|branching ratio|p p: scattering|channel cross section|quarkonium: pair production|None|\n",
       "+--------------------+--------------------+--------------------+---------------+--------------------+--------+--------------------+--------------------+---+----------------------+-------------+---------------------------------------+-----+--------+----------+-------------------------------+--------+-----------------+--------+--------+----------------------------+------------+--------+----------+--------------+---------------+---------------+---------------------+---------------------------+----+\n",
       "|Charmonia product...|In this paper, pr...|2021-03-26T00:00:...|             15|[{PACS, null, 14....|      35|[Luchinsky, A.V.,...|[quantum chromody...|  0|                     0|            0|                                      1|    0|       1|         0|                              0|       0|                0|       0|       0|                           0|           0|       0|         0|             0|              0|              0|                    0|                          0|   0|\n",
       "|Exclusive decays ...|Exclusive decays ...|2020-07-09T00:00:...|             10|[{null, publisher...|      42|[Luchinsky, A.V.,...|   [branching ratio]|  1|                     0|            0|                                      0|    0|       0|         0|                              0|       0|                0|       0|       0|                           0|           0|       0|         0|             0|              1|              0|                    0|                          0|   0|\n",
       "|Doubly heavy bary...|The theoretical a...|2019-12-11T00:00:...|              8|[{INSPIRE, null, ...|      40|[Berezhnoy, A.V.,...|[CERN LHC Coll, L...|  2|                     0|            1|                                      0|    1|       0|         0|                              0|       0|                0|       0|       0|                           0|           0|       0|         0|             0|              0|              0|                    0|                          0|   0|\n",
       "|Weak decays of do...|We consider exclu...|2019-05-29T00:00:...|             10|[{null, publisher...|      21|[Gerasimov, A.S.,...|[numerical calcul...|  3|                     1|            0|                                      0|    0|       0|         0|                              0|       0|                0|       0|       0|                           0|           0|       0|         0|             0|              0|              0|                    0|                          0|   0|\n",
       "|$B_c$ excitations...|Status of the Bc ...|2019-11-21T00:00:...|              8|[{INSPIRE, null, ...|      49|[Berezhnoy, A.V.,...|[CERN LHC Coll, L...|  4|                     0|            1|                                      0|    1|       0|         0|                              0|       0|                0|       0|       0|                           0|           0|       0|         0|             0|              0|              0|                    0|                          0|   0|\n",
       "|Excited $\\rho$ me...|In this paper, ex...|2018-12-27T00:00:...|              7|[{null, publisher...|      22|   [Luchinsky, A.V.]|[numerical calcul...|  5|                     1|            0|                                      0|    0|       0|         0|                              0|       0|                0|       0|       0|                           0|           0|       0|         0|             0|              1|              0|                    0|                          0|   0|\n",
       "|Doubly heavy bary...|The theoretical a...|2018-09-27T00:00:...|             14|[{null, publisher...|      56|[Berezhnoy, A.V.,...|[CERN LHC Coll, L...|  6|                     0|            1|                                      0|    1|       0|         0|                              0|       0|                0|       0|       0|                           0|           0|       0|         0|             0|              0|              0|                    0|                          0|   0|\n",
       "|Charmonia Product...|In the presented ...|2018-01-30T00:00:...|              9|[{PACS, null, 14....|      30|   [Luchinsky, A.V.]|[branching ratio,...|  7|                     1|            0|                                      1|    0|       1|         0|                              0|       0|                0|       0|       0|                           0|           1|       0|         0|             0|              1|              0|                    0|                          0|   0|\n",
       "|Lifetimes of Doub...|The inclusive dec...|2019-02-25T00:00:...|             11|[{INSPIRE, null, ...|      49|[Likhoded, A.K., ...|              [None]|  8|                     0|            0|                                      0|    0|       0|         0|                              0|       0|                0|       0|       0|                           0|           0|       0|         0|             0|              0|              0|                    0|                          0|   1|\n",
       "|Double Charmonia ...|This paper is dev...|2017-12-11T00:00:...|             14|[{PACS, null, 13....|      36|[Likhoded, A.K., ...|[14.40.Pq, quantu...|  9|                     0|            0|                                      1|    0|       1|         0|                              0|       0|                0|       0|       0|                           0|           0|       0|         1|             0|              1|              0|                    0|                          0|   0|\n",
       "|Muon Pair Product...|Muon pair product...|2017-09-11T00:00:...|              7|[{PACS, null, 13....|      22|   [Luchinsky, A.V.]|[branching ratio,...| 10|                     1|            0|                                      0|    0|       1|         0|                              0|       0|                1|       0|       0|                           0|           0|       0|         0|             0|              1|              0|                    0|                          0|   0|\n",
       "|Production of hea...|Processes of sing...|2017-08-24T00:00:...|             13|[{INSPIRE, null, ...|      57|[Likhoded, A.K., ...|[CERN LHC Coll, q...| 11|                     0|            1|                                      1|    0|       0|         1|                              0|       0|                1|       0|       0|                           0|           1|       0|         0|             1|              0|              0|                    0|                          1|   0|\n",
       "|Leading order NRQ...|The presented pap...|2017-06-14T00:00:...|              8|[{INSPIRE, null, ...|      29|   [Luchinsky, A.V.]|[quantum chromody...| 12|                     0|            0|                                      1|    0|       0|         0|                              0|       0|                0|       0|       0|                           0|           0|       0|         0|             0|              0|              0|                    0|                          0|   0|\n",
       "|Comments on 'Stud...|Recent LHCb measu...|2017-03-28T00:00:...|              8|[{PACS, null, 13....|      32|[Belyaev, I., Ber...|[numerical calcul...| 13|                     1|            0|                                      0|    1|       1|         0|                              0|       0|                0|       0|       0|                           0|           0|       0|         0|             0|              0|              0|                    0|                          0|   0|\n",
       "|Double Charmonia ...|In this note next...|2016-12-12T00:00:...|              7|[{INSPIRE, null, ...|      20|   [Luchinsky, A.V.]|[CERN LHC Coll, p...| 14|                     0|            1|                                      0|    1|       0|         0|                              0|       0|                0|       0|       0|                           0|           0|       0|         0|             0|              0|              1|                    0|                          0|   0|\n",
       "|Production of $J/...|In the present wo...|2016-06-23T00:00:...|              8|[{INSPIRE, null, ...|      31|[Likhoded, A.K., ...|[J/psi(3100): pai...| 15|                     0|            0|                                      0|    0|       0|         0|                              0|       0|                0|       0|       0|                           1|           0|       0|         0|             0|              0|              0|                    0|                          0|   0|\n",
       "|Production of hea...|The phenomenology...|2016-01-05T00:00:...|             10|[{INSPIRE, null, ...|      34|[Likhoded, A.K., ...|[p p: scattering,...| 16|                     0|            0|                                      1|    1|       0|         0|                              0|       0|                1|       0|       0|                           0|           1|       0|         0|             0|              0|              1|                    0|                          0|   0|\n",
       "|Production of J/ ...|The inclusive pro...|2015-11-16T00:00:...|              8|[{INSPIRE, null, ...|      29|[Likhoded, A.K., ...|[CERN LHC Coll, L...| 17|                     0|            1|                                      0|    1|       0|         0|                              0|       0|                0|       0|       0|                           0|           0|       0|         0|             0|              0|              0|                    0|                          0|   0|\n",
       "|$J/\\Psi \\Upsilon$...|Inclusive product...|2015-09-11T00:00:...|              8|[{INSPIRE, null, ...|      26|   [Luchinsky, A.V.]|[CERN LHC Coll, L...| 18|                     1|            1|                                      0|    1|       0|         0|                              0|       0|                0|       0|       0|                           0|           1|       0|         0|             0|              0|              0|                    0|                          1|   0|\n",
       "|Hadroproduction o...|The production of...|2015-05-28T00:00:...|              9|[{INSPIRE, null, ...|      38|[Berezhnoy, A.V.,...|[CERN LHC Coll, q...| 19|                     0|            1|                                      1|    0|       0|         0|                              0|       0|                1|       0|       0|                           0|           0|       0|         0|             0|              0|              0|                    0|                          0|   0|\n",
       "+--------------------+--------------------+--------------------+---------------+--------------------+--------+--------------------+--------------------+---+----------------------+-------------+---------------------------------------+-----+--------+----------+-------------------------------+--------+-----------------+--------+--------+----------------------------+------------+--------+----------+--------------+---------------+---------------+---------------------+---------------------------+----+\n",
       "only showing top 20 rows"
      ]
     },
     "execution_count": 101,
     "metadata": {},
     "output_type": "execute_result"
    }
   ],
   "source": [
    "dummy_df"
   ]
  },
  {
   "cell_type": "code",
   "execution_count": 84,
   "id": "d9a381b8-3b22-45f4-9de7-18eb9dd165fe",
   "metadata": {},
   "outputs": [
    {
     "data": {
      "text/html": [
       "<table border='1'>\n",
       "<tr><th>title</th><th>abstract</th><th>created</th><th>number_of_pages</th><th>keywords</th><th>num_refs</th><th>authors</th><th>keywords_</th><th>id</th><th>x</th></tr>\n",
       "<tr><td>Charmonia product...</td><td>In this paper, pr...</td><td>2021-03-26T00:00:...</td><td>15</td><td>[{PACS, null, 14....</td><td>35</td><td>[Luchinsky, A.V.,...</td><td>[quantum chromody...</td><td>0</td><td>0</td></tr>\n",
       "<tr><td>Exclusive decays ...</td><td>Exclusive decays ...</td><td>2020-07-09T00:00:...</td><td>10</td><td>[{null, publisher...</td><td>42</td><td>[Luchinsky, A.V.,...</td><td>[branching ratio]</td><td>1</td><td>0</td></tr>\n",
       "<tr><td>Doubly heavy bary...</td><td>The theoretical a...</td><td>2019-12-11T00:00:...</td><td>8</td><td>[{INSPIRE, null, ...</td><td>40</td><td>[Berezhnoy, A.V.,...</td><td>[CERN LHC Coll, L...</td><td>2</td><td>0</td></tr>\n",
       "<tr><td>Weak decays of do...</td><td>We consider exclu...</td><td>2019-05-29T00:00:...</td><td>10</td><td>[{null, publisher...</td><td>21</td><td>[Gerasimov, A.S.,...</td><td>[numerical calcul...</td><td>3</td><td>0</td></tr>\n",
       "<tr><td>$B_c$ excitations...</td><td>Status of the Bc ...</td><td>2019-11-21T00:00:...</td><td>8</td><td>[{INSPIRE, null, ...</td><td>49</td><td>[Berezhnoy, A.V.,...</td><td>[CERN LHC Coll, L...</td><td>4</td><td>0</td></tr>\n",
       "<tr><td>Excited $\\rho$ me...</td><td>In this paper, ex...</td><td>2018-12-27T00:00:...</td><td>7</td><td>[{null, publisher...</td><td>22</td><td>[Luchinsky, A.V.]</td><td>[numerical calcul...</td><td>5</td><td>0</td></tr>\n",
       "<tr><td>Doubly heavy bary...</td><td>The theoretical a...</td><td>2018-09-27T00:00:...</td><td>14</td><td>[{null, publisher...</td><td>56</td><td>[Berezhnoy, A.V.,...</td><td>[CERN LHC Coll, L...</td><td>6</td><td>0</td></tr>\n",
       "<tr><td>Charmonia Product...</td><td>In the presented ...</td><td>2018-01-30T00:00:...</td><td>9</td><td>[{PACS, null, 14....</td><td>30</td><td>[Luchinsky, A.V.]</td><td>[branching ratio,...</td><td>7</td><td>0</td></tr>\n",
       "<tr><td>Lifetimes of Doub...</td><td>The inclusive dec...</td><td>2019-02-25T00:00:...</td><td>11</td><td>[{INSPIRE, null, ...</td><td>49</td><td>[Likhoded, A.K., ...</td><td>[None]</td><td>8</td><td>1</td></tr>\n",
       "<tr><td>Double Charmonia ...</td><td>This paper is dev...</td><td>2017-12-11T00:00:...</td><td>14</td><td>[{PACS, null, 13....</td><td>36</td><td>[Likhoded, A.K., ...</td><td>[14.40.Pq, quantu...</td><td>9</td><td>0</td></tr>\n",
       "<tr><td>Muon Pair Product...</td><td>Muon pair product...</td><td>2017-09-11T00:00:...</td><td>7</td><td>[{PACS, null, 13....</td><td>22</td><td>[Luchinsky, A.V.]</td><td>[branching ratio,...</td><td>10</td><td>0</td></tr>\n",
       "<tr><td>Production of hea...</td><td>Processes of sing...</td><td>2017-08-24T00:00:...</td><td>13</td><td>[{INSPIRE, null, ...</td><td>57</td><td>[Likhoded, A.K., ...</td><td>[CERN LHC Coll, q...</td><td>11</td><td>0</td></tr>\n",
       "<tr><td>Leading order NRQ...</td><td>The presented pap...</td><td>2017-06-14T00:00:...</td><td>8</td><td>[{INSPIRE, null, ...</td><td>29</td><td>[Luchinsky, A.V.]</td><td>[quantum chromody...</td><td>12</td><td>0</td></tr>\n",
       "<tr><td>Comments on &#x27;Stud...</td><td>Recent LHCb measu...</td><td>2017-03-28T00:00:...</td><td>8</td><td>[{PACS, null, 13....</td><td>32</td><td>[Belyaev, I., Ber...</td><td>[numerical calcul...</td><td>13</td><td>0</td></tr>\n",
       "<tr><td>Double Charmonia ...</td><td>In this note next...</td><td>2016-12-12T00:00:...</td><td>7</td><td>[{INSPIRE, null, ...</td><td>20</td><td>[Luchinsky, A.V.]</td><td>[CERN LHC Coll, p...</td><td>14</td><td>0</td></tr>\n",
       "<tr><td>Production of $J/...</td><td>In the present wo...</td><td>2016-06-23T00:00:...</td><td>8</td><td>[{INSPIRE, null, ...</td><td>31</td><td>[Likhoded, A.K., ...</td><td>[J/psi(3100): pai...</td><td>15</td><td>0</td></tr>\n",
       "<tr><td>Production of hea...</td><td>The phenomenology...</td><td>2016-01-05T00:00:...</td><td>10</td><td>[{INSPIRE, null, ...</td><td>34</td><td>[Likhoded, A.K., ...</td><td>[p p: scattering,...</td><td>16</td><td>0</td></tr>\n",
       "<tr><td>Production of J/ ...</td><td>The inclusive pro...</td><td>2015-11-16T00:00:...</td><td>8</td><td>[{INSPIRE, null, ...</td><td>29</td><td>[Likhoded, A.K., ...</td><td>[CERN LHC Coll, L...</td><td>17</td><td>0</td></tr>\n",
       "<tr><td>$J/\\Psi \\Upsilon$...</td><td>Inclusive product...</td><td>2015-09-11T00:00:...</td><td>8</td><td>[{INSPIRE, null, ...</td><td>26</td><td>[Luchinsky, A.V.]</td><td>[CERN LHC Coll, L...</td><td>18</td><td>0</td></tr>\n",
       "<tr><td>Hadroproduction o...</td><td>The production of...</td><td>2015-05-28T00:00:...</td><td>9</td><td>[{INSPIRE, null, ...</td><td>38</td><td>[Berezhnoy, A.V.,...</td><td>[CERN LHC Coll, q...</td><td>19</td><td>0</td></tr>\n",
       "</table>\n",
       "only showing top 20 rows\n"
      ],
      "text/plain": [
       "+--------------------+--------------------+--------------------+---------------+--------------------+--------+--------------------+--------------------+---+---+\n",
       "|               title|            abstract|             created|number_of_pages|            keywords|num_refs|             authors|           keywords_| id|  x|\n",
       "+--------------------+--------------------+--------------------+---------------+--------------------+--------+--------------------+--------------------+---+---+\n",
       "|Charmonia product...|In this paper, pr...|2021-03-26T00:00:...|             15|[{PACS, null, 14....|      35|[Luchinsky, A.V.,...|[quantum chromody...|  0|  0|\n",
       "|Exclusive decays ...|Exclusive decays ...|2020-07-09T00:00:...|             10|[{null, publisher...|      42|[Luchinsky, A.V.,...|   [branching ratio]|  1|  0|\n",
       "|Doubly heavy bary...|The theoretical a...|2019-12-11T00:00:...|              8|[{INSPIRE, null, ...|      40|[Berezhnoy, A.V.,...|[CERN LHC Coll, L...|  2|  0|\n",
       "|Weak decays of do...|We consider exclu...|2019-05-29T00:00:...|             10|[{null, publisher...|      21|[Gerasimov, A.S.,...|[numerical calcul...|  3|  0|\n",
       "|$B_c$ excitations...|Status of the Bc ...|2019-11-21T00:00:...|              8|[{INSPIRE, null, ...|      49|[Berezhnoy, A.V.,...|[CERN LHC Coll, L...|  4|  0|\n",
       "|Excited $\\rho$ me...|In this paper, ex...|2018-12-27T00:00:...|              7|[{null, publisher...|      22|   [Luchinsky, A.V.]|[numerical calcul...|  5|  0|\n",
       "|Doubly heavy bary...|The theoretical a...|2018-09-27T00:00:...|             14|[{null, publisher...|      56|[Berezhnoy, A.V.,...|[CERN LHC Coll, L...|  6|  0|\n",
       "|Charmonia Product...|In the presented ...|2018-01-30T00:00:...|              9|[{PACS, null, 14....|      30|   [Luchinsky, A.V.]|[branching ratio,...|  7|  0|\n",
       "|Lifetimes of Doub...|The inclusive dec...|2019-02-25T00:00:...|             11|[{INSPIRE, null, ...|      49|[Likhoded, A.K., ...|              [None]|  8|  1|\n",
       "|Double Charmonia ...|This paper is dev...|2017-12-11T00:00:...|             14|[{PACS, null, 13....|      36|[Likhoded, A.K., ...|[14.40.Pq, quantu...|  9|  0|\n",
       "|Muon Pair Product...|Muon pair product...|2017-09-11T00:00:...|              7|[{PACS, null, 13....|      22|   [Luchinsky, A.V.]|[branching ratio,...| 10|  0|\n",
       "|Production of hea...|Processes of sing...|2017-08-24T00:00:...|             13|[{INSPIRE, null, ...|      57|[Likhoded, A.K., ...|[CERN LHC Coll, q...| 11|  0|\n",
       "|Leading order NRQ...|The presented pap...|2017-06-14T00:00:...|              8|[{INSPIRE, null, ...|      29|   [Luchinsky, A.V.]|[quantum chromody...| 12|  0|\n",
       "|Comments on 'Stud...|Recent LHCb measu...|2017-03-28T00:00:...|              8|[{PACS, null, 13....|      32|[Belyaev, I., Ber...|[numerical calcul...| 13|  0|\n",
       "|Double Charmonia ...|In this note next...|2016-12-12T00:00:...|              7|[{INSPIRE, null, ...|      20|   [Luchinsky, A.V.]|[CERN LHC Coll, p...| 14|  0|\n",
       "|Production of $J/...|In the present wo...|2016-06-23T00:00:...|              8|[{INSPIRE, null, ...|      31|[Likhoded, A.K., ...|[J/psi(3100): pai...| 15|  0|\n",
       "|Production of hea...|The phenomenology...|2016-01-05T00:00:...|             10|[{INSPIRE, null, ...|      34|[Likhoded, A.K., ...|[p p: scattering,...| 16|  0|\n",
       "|Production of J/ ...|The inclusive pro...|2015-11-16T00:00:...|              8|[{INSPIRE, null, ...|      29|[Likhoded, A.K., ...|[CERN LHC Coll, L...| 17|  0|\n",
       "|$J/\\Psi \\Upsilon$...|Inclusive product...|2015-09-11T00:00:...|              8|[{INSPIRE, null, ...|      26|   [Luchinsky, A.V.]|[CERN LHC Coll, L...| 18|  0|\n",
       "|Hadroproduction o...|The production of...|2015-05-28T00:00:...|              9|[{INSPIRE, null, ...|      38|[Berezhnoy, A.V.,...|[CERN LHC Coll, q...| 19|  0|\n",
       "+--------------------+--------------------+--------------------+---------------+--------------------+--------+--------------------+--------------------+---+---+\n",
       "only showing top 20 rows"
      ]
     },
     "execution_count": 84,
     "metadata": {},
     "output_type": "execute_result"
    }
   ],
   "source": [
    "withKeywords.withColumn(\"x\", \n",
    "                        isin(col(\"keywords_\"), lit(\"None\"))\n",
    ")"
   ]
  },
  {
   "cell_type": "markdown",
   "id": "d9bafb02-0492-4c98-adeb-e1d997969f1d",
   "metadata": {
    "tags": []
   },
   "source": [
    "## Clustering"
   ]
  },
  {
   "cell_type": "markdown",
   "id": "979b0813-3e5a-4a55-ad30-881e9eff10c8",
   "metadata": {},
   "source": [
    "### Some example from https://runawayhorse001.github.io/LearningApacheSpark/clustering.html"
   ]
  },
  {
   "cell_type": "markdown",
   "id": "1377372a-1306-45fe-9359-34ac71d520f6",
   "metadata": {},
   "source": [
    "https://stackoverflow.com/questions/44152337/hierarchical-agglomerative-clustering-in-spark"
   ]
  },
  {
   "cell_type": "code",
   "execution_count": 137,
   "id": "a2bdff8e-0bdf-41fc-936a-c89faed76606",
   "metadata": {},
   "outputs": [],
   "source": [
    "from pyspark.ml.clustering import KMeans, BisectingKMeans\n",
    "from pyspark.ml.evaluation import ClusteringEvaluator\n",
    "from pyspark.ml.feature import VectorAssembler"
   ]
  },
  {
   "cell_type": "markdown",
   "id": "0ff5afcf-385c-4db5-823e-b9d48bb8b4e5",
   "metadata": {},
   "source": [
    "Reading and casting IRIS dataset"
   ]
  },
  {
   "cell_type": "code",
   "execution_count": 138,
   "id": "6858ad9c-5bf0-4fd6-b682-d684604e2074",
   "metadata": {},
   "outputs": [
    {
     "name": "stdout",
     "output_type": "stream",
     "text": [
      "root\n",
      " |-- SL: float (nullable = true)\n",
      " |-- SW: float (nullable = true)\n",
      " |-- PL: float (nullable = true)\n",
      " |-- PW: float (nullable = true)\n",
      " |-- variety: string (nullable = true)\n",
      "\n"
     ]
    }
   ],
   "source": [
    "dataset = spark.read.option(\"header\", True).csv(\"../data/iris.csv\").\\\n",
    "    withColumnRenamed(\"sepal.length\", \"SL\").\\\n",
    "    withColumnRenamed(\"sepal.width\", \"SW\").\\\n",
    "    withColumnRenamed(\"petal.length\", \"PL\").\\\n",
    "    withColumnRenamed(\"petal.width\", \"PW\").\\\n",
    "    select( \n",
    "        col(\"SL\").cast(\"float\"),\n",
    "        col(\"SW\").cast(\"float\"),\n",
    "        col(\"PL\").cast(\"float\"),\n",
    "        col(\"PW\").cast(\"float\"),\n",
    "        col(\"variety\")\n",
    "    )\n",
    "dataset.printSchema()"
   ]
  },
  {
   "cell_type": "code",
   "execution_count": null,
   "id": "21c49e46-a7c7-4da3-9ed4-0754f7f68536",
   "metadata": {},
   "outputs": [],
   "source": []
  },
  {
   "cell_type": "code",
   "execution_count": 140,
   "id": "cb3175bb-6a56-4469-b479-053fe3faca23",
   "metadata": {},
   "outputs": [
    {
     "data": {
      "text/html": [
       "<table border='1'>\n",
       "<tr><th>SL</th><th>SW</th><th>PL</th><th>PW</th><th>variety</th><th>features</th></tr>\n",
       "<tr><td>5.1</td><td>3.5</td><td>1.4</td><td>0.2</td><td>Setosa</td><td>[5.09999990463256...</td></tr>\n",
       "<tr><td>4.9</td><td>3.0</td><td>1.4</td><td>0.2</td><td>Setosa</td><td>[4.90000009536743...</td></tr>\n",
       "<tr><td>4.7</td><td>3.2</td><td>1.3</td><td>0.2</td><td>Setosa</td><td>[4.69999980926513...</td></tr>\n",
       "<tr><td>4.6</td><td>3.1</td><td>1.5</td><td>0.2</td><td>Setosa</td><td>[4.59999990463256...</td></tr>\n",
       "<tr><td>5.0</td><td>3.6</td><td>1.4</td><td>0.2</td><td>Setosa</td><td>[5.0,3.5999999046...</td></tr>\n",
       "<tr><td>5.4</td><td>3.9</td><td>1.7</td><td>0.4</td><td>Setosa</td><td>[5.40000009536743...</td></tr>\n",
       "<tr><td>4.6</td><td>3.4</td><td>1.4</td><td>0.3</td><td>Setosa</td><td>[4.59999990463256...</td></tr>\n",
       "<tr><td>5.0</td><td>3.4</td><td>1.5</td><td>0.2</td><td>Setosa</td><td>[5.0,3.4000000953...</td></tr>\n",
       "<tr><td>4.4</td><td>2.9</td><td>1.4</td><td>0.2</td><td>Setosa</td><td>[4.40000009536743...</td></tr>\n",
       "<tr><td>4.9</td><td>3.1</td><td>1.5</td><td>0.1</td><td>Setosa</td><td>[4.90000009536743...</td></tr>\n",
       "<tr><td>5.4</td><td>3.7</td><td>1.5</td><td>0.2</td><td>Setosa</td><td>[5.40000009536743...</td></tr>\n",
       "<tr><td>4.8</td><td>3.4</td><td>1.6</td><td>0.2</td><td>Setosa</td><td>[4.80000019073486...</td></tr>\n",
       "<tr><td>4.8</td><td>3.0</td><td>1.4</td><td>0.1</td><td>Setosa</td><td>[4.80000019073486...</td></tr>\n",
       "<tr><td>4.3</td><td>3.0</td><td>1.1</td><td>0.1</td><td>Setosa</td><td>[4.30000019073486...</td></tr>\n",
       "<tr><td>5.8</td><td>4.0</td><td>1.2</td><td>0.2</td><td>Setosa</td><td>[5.80000019073486...</td></tr>\n",
       "<tr><td>5.7</td><td>4.4</td><td>1.5</td><td>0.4</td><td>Setosa</td><td>[5.69999980926513...</td></tr>\n",
       "<tr><td>5.4</td><td>3.9</td><td>1.3</td><td>0.4</td><td>Setosa</td><td>[5.40000009536743...</td></tr>\n",
       "<tr><td>5.1</td><td>3.5</td><td>1.4</td><td>0.3</td><td>Setosa</td><td>[5.09999990463256...</td></tr>\n",
       "<tr><td>5.7</td><td>3.8</td><td>1.7</td><td>0.3</td><td>Setosa</td><td>[5.69999980926513...</td></tr>\n",
       "<tr><td>5.1</td><td>3.8</td><td>1.5</td><td>0.3</td><td>Setosa</td><td>[5.09999990463256...</td></tr>\n",
       "</table>\n",
       "only showing top 20 rows\n"
      ],
      "text/plain": [
       "+---+---+---+---+-------+--------------------+\n",
       "| SL| SW| PL| PW|variety|            features|\n",
       "+---+---+---+---+-------+--------------------+\n",
       "|5.1|3.5|1.4|0.2| Setosa|[5.09999990463256...|\n",
       "|4.9|3.0|1.4|0.2| Setosa|[4.90000009536743...|\n",
       "|4.7|3.2|1.3|0.2| Setosa|[4.69999980926513...|\n",
       "|4.6|3.1|1.5|0.2| Setosa|[4.59999990463256...|\n",
       "|5.0|3.6|1.4|0.2| Setosa|[5.0,3.5999999046...|\n",
       "|5.4|3.9|1.7|0.4| Setosa|[5.40000009536743...|\n",
       "|4.6|3.4|1.4|0.3| Setosa|[4.59999990463256...|\n",
       "|5.0|3.4|1.5|0.2| Setosa|[5.0,3.4000000953...|\n",
       "|4.4|2.9|1.4|0.2| Setosa|[4.40000009536743...|\n",
       "|4.9|3.1|1.5|0.1| Setosa|[4.90000009536743...|\n",
       "|5.4|3.7|1.5|0.2| Setosa|[5.40000009536743...|\n",
       "|4.8|3.4|1.6|0.2| Setosa|[4.80000019073486...|\n",
       "|4.8|3.0|1.4|0.1| Setosa|[4.80000019073486...|\n",
       "|4.3|3.0|1.1|0.1| Setosa|[4.30000019073486...|\n",
       "|5.8|4.0|1.2|0.2| Setosa|[5.80000019073486...|\n",
       "|5.7|4.4|1.5|0.4| Setosa|[5.69999980926513...|\n",
       "|5.4|3.9|1.3|0.4| Setosa|[5.40000009536743...|\n",
       "|5.1|3.5|1.4|0.3| Setosa|[5.09999990463256...|\n",
       "|5.7|3.8|1.7|0.3| Setosa|[5.69999980926513...|\n",
       "|5.1|3.8|1.5|0.3| Setosa|[5.09999990463256...|\n",
       "+---+---+---+---+-------+--------------------+\n",
       "only showing top 20 rows"
      ]
     },
     "execution_count": 140,
     "metadata": {},
     "output_type": "execute_result"
    }
   ],
   "source": [
    "assembler = VectorAssembler().setInputCols([\"SL\", \"SW\", \"PL\", \"PW\"]).setOutputCol(\"features\")\n",
    "data_transformed = assembler.transform(dataset)\n",
    "data_transformed"
   ]
  },
  {
   "cell_type": "code",
   "execution_count": 101,
   "id": "092643c5-c087-45f6-acd4-022a94abc286",
   "metadata": {},
   "outputs": [
    {
     "data": {
      "text/html": [
       "<table border='1'>\n",
       "<tr><th>variety</th></tr>\n",
       "<tr><td>Virginica</td></tr>\n",
       "<tr><td>Setosa</td></tr>\n",
       "<tr><td>Versicolor</td></tr>\n",
       "</table>\n"
      ],
      "text/plain": [
       "+----------+\n",
       "|   variety|\n",
       "+----------+\n",
       "| Virginica|\n",
       "|    Setosa|\n",
       "|Versicolor|\n",
       "+----------+"
      ]
     },
     "execution_count": 101,
     "metadata": {},
     "output_type": "execute_result"
    }
   ],
   "source": [
    "data_transformed.select(\"variety\").distinct()"
   ]
  },
  {
   "cell_type": "code",
   "execution_count": 141,
   "id": "d93ff837-8b0f-4ebb-9c16-e2e272d49420",
   "metadata": {},
   "outputs": [],
   "source": [
    "bkm = BisectingKMeans().setK(3).setSeed(1).setFeaturesCol(\"features\")\n",
    "kmean = KMeans().setK(3).setSeed(1).setFeaturesCol(\"features\")\n",
    "model = kmean.fit(data_transformed)"
   ]
  },
  {
   "cell_type": "code",
   "execution_count": 98,
   "id": "e5d5e84a-9139-4b57-aac0-4070693306ab",
   "metadata": {},
   "outputs": [
    {
     "data": {
      "text/plain": [
       "[array([5.9016129 , 2.74838711, 4.39354837, 1.43387096]),\n",
       " array([5.006     , 3.42800001, 1.462     , 0.246     ]),\n",
       " array([6.84999998, 3.0736842 , 5.74210525, 2.07105261])]"
      ]
     },
     "execution_count": 98,
     "metadata": {},
     "output_type": "execute_result"
    }
   ],
   "source": [
    "model.clusterCenters()"
   ]
  },
  {
   "cell_type": "code",
   "execution_count": 109,
   "id": "baff25b7-a62c-41ec-b136-b988f4661dcb",
   "metadata": {},
   "outputs": [],
   "source": [
    "preds = model.transform(data_transformed)"
   ]
  },
  {
   "cell_type": "code",
   "execution_count": 114,
   "id": "63acf0d1-3d9c-44b3-a8d9-a55a2e65f851",
   "metadata": {},
   "outputs": [],
   "source": [
    "preds_ = preds.select(\"SL\", \"SW\", \"PL\", \"PW\", \"variety\", \"prediction\").toPandas()"
   ]
  },
  {
   "cell_type": "code",
   "execution_count": 112,
   "id": "ac8c7615-5133-4ff4-9efe-1b29eee9b89f",
   "metadata": {},
   "outputs": [],
   "source": [
    "import matplotlib.pyplot as plt"
   ]
  },
  {
   "cell_type": "code",
   "execution_count": 117,
   "id": "4efe60f7-6e98-4f8e-9f06-97d81ca5a89d",
   "metadata": {},
   "outputs": [],
   "source": [
    "import seaborn as sns"
   ]
  },
  {
   "cell_type": "code",
   "execution_count": 121,
   "id": "d4edba05-8050-48b0-91c9-ddc2ab1508f7",
   "metadata": {},
   "outputs": [
    {
     "data": {
      "text/plain": [
       "<AxesSubplot:xlabel='PL', ylabel='PW'>"
      ]
     },
     "execution_count": 121,
     "metadata": {},
     "output_type": "execute_result"
    },
    {
     "data": {
      "image/png": "[encoded data removed]",
      "text/plain": [
       "<Figure size 432x288 with 1 Axes>"
      ]
     },
     "metadata": {
      "needs_background": "light"
     },
     "output_type": "display_data"
    }
   ],
   "source": [
    "sns.scatterplot(data = preds_, x=\"PL\", y=\"PW\", hue=\"variety\")"
   ]
  },
  {
   "cell_type": "code",
   "execution_count": 122,
   "id": "27166d6f-463c-475c-8dcb-819f8cebc106",
   "metadata": {},
   "outputs": [
    {
     "data": {
      "text/plain": [
       "<AxesSubplot:xlabel='PL', ylabel='PW'>"
      ]
     },
     "execution_count": 122,
     "metadata": {},
     "output_type": "execute_result"
    },
    {
     "data": {
      "image/png": "[encoded data removed]",
      "text/plain": [
       "<Figure size 432x288 with 1 Axes>"
      ]
     },
     "metadata": {
      "needs_background": "light"
     },
     "output_type": "display_data"
    }
   ],
   "source": [
    "sns.scatterplot(data = preds_, x=\"PL\", y=\"PW\", hue=\"prediction\")"
   ]
  },
  {
   "cell_type": "code",
   "execution_count": 128,
   "id": "e99ab04f-31a3-4e8a-85f7-d2c63885c45a",
   "metadata": {},
   "outputs": [
    {
     "data": {
      "text/plain": [
       "Index(['SL', 'SW', 'PL', 'PW', 'variety', 'prediction'], dtype='object')"
      ]
     },
     "execution_count": 128,
     "metadata": {},
     "output_type": "execute_result"
    }
   ],
   "source": [
    "preds_.columns"
   ]
  },
  {
   "cell_type": "code",
   "execution_count": 142,
   "id": "510bf15a-fe93-46f0-a8aa-a6042887c160",
   "metadata": {},
   "outputs": [
    {
     "data": {
      "text/html": [
       "<table border='1'>\n",
       "<tr><th>variety</th><th>prediction</th><th>count</th></tr>\n",
       "<tr><td>Setosa</td><td>1</td><td>50</td></tr>\n",
       "<tr><td>Versicolor</td><td>0</td><td>48</td></tr>\n",
       "<tr><td>Virginica</td><td>2</td><td>36</td></tr>\n",
       "<tr><td>Virginica</td><td>0</td><td>14</td></tr>\n",
       "<tr><td>Versicolor</td><td>2</td><td>2</td></tr>\n",
       "</table>\n"
      ],
      "text/plain": [
       "+----------+----------+-----+\n",
       "|   variety|prediction|count|\n",
       "+----------+----------+-----+\n",
       "|    Setosa|         1|   50|\n",
       "|Versicolor|         0|   48|\n",
       "| Virginica|         2|   36|\n",
       "| Virginica|         0|   14|\n",
       "|Versicolor|         2|    2|\n",
       "+----------+----------+-----+"
      ]
     },
     "execution_count": 142,
     "metadata": {},
     "output_type": "execute_result"
    }
   ],
   "source": [
    "preds.groupby(\"variety\", \"prediction\").count().sort(desc(\"count\"))"
   ]
  },
  {
   "cell_type": "code",
   "execution_count": null,
   "id": "516ee878-0991-4fcc-849c-29486255105a",
   "metadata": {},
   "outputs": [],
   "source": [
    "from pyspark.ml.clustering import "
   ]
  }
 ],
 "metadata": {
  "kernelspec": {
   "display_name": "Python 3 (ipykernel)",
   "language": "python",
   "name": "python3"
  },
  "language_info": {
   "codemirror_mode": {
    "name": "ipython",
    "version": 3
   },
   "file_extension": ".py",
   "mimetype": "text/x-python",
   "name": "python",
   "nbconvert_exporter": "python",
   "pygments_lexer": "ipython3",
   "version": "3.9.10"
  }
 },
 "nbformat": 4,
 "nbformat_minor": 5
}
