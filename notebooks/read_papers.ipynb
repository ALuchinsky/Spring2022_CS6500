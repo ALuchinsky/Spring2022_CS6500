{
 "cells": [
  {
   "cell_type": "code",
   "execution_count": 1,
   "id": "4193de37-de99-4542-828a-6963a6cac94f",
   "metadata": {},
   "outputs": [],
   "source": [
    "import findspark\n",
    "findspark.init()\n",
    "\n",
    "from pyspark.sql import SparkSession\n",
    "from pyspark.sql.functions import format_number, mean, min, max, corr, stddev\n",
    "from pyspark.sql.functions import (dayofmonth, hour, dayofyear, month, year, weekofyear, format_number, date_format, asc, desc)\n",
    "from pyspark.sql.functions import explode, col, element_at, size"
   ]
  },
  {
   "cell_type": "code",
   "execution_count": 2,
   "id": "04dd610c-4f2b-493e-992c-aa1f1e5bafc2",
   "metadata": {},
   "outputs": [],
   "source": [
    "# Build a SparkSession named as \"test123\"\n",
    "spark = SparkSession.builder \\\n",
    "    .appName('test_123') \\\n",
    "    .master('local[*]') \\\n",
    "    .config('spark.sql.execution.arrow.pyspark.enabled', True) \\\n",
    "    .config('spark.sql.session.timeZone', 'UTC') \\\n",
    "    .config('spark.driver.memory','8g') \\\n",
    "    .config('spark.ui.showConsoleProgress', True) \\\n",
    "    .config('spark.sql.repl.eagerEval.enabled', True) \\\n",
    "    .getOrCreate()"
   ]
  },
  {
   "cell_type": "markdown",
   "id": "df136550-0e8c-4e93-a941-8499d1a6d247",
   "metadata": {},
   "source": [
    "## Loading and Cleaning the Data"
   ]
  },
  {
   "cell_type": "code",
   "execution_count": 3,
   "id": "90e84130-8a46-44fc-8a32-1e239a8a0120",
   "metadata": {},
   "outputs": [],
   "source": [
    "papers_ = spark.read.option(\"multuread\", True).json(\"../data/AL_papers.json\");\n",
    "papers = papers_.select(explode(col(\"hits.hits\")).alias(\"paper\"))"
   ]
  },
  {
   "cell_type": "code",
   "execution_count": 5,
   "id": "ae81483b-abc5-470c-8bc7-326ac09ad2a5",
   "metadata": {},
   "outputs": [],
   "source": [
    "#papers.printSchema()"
   ]
  },
  {
   "cell_type": "code",
   "execution_count": 6,
   "id": "1a6eb11a-bc8e-41f0-b7b9-0a7efef07b56",
   "metadata": {},
   "outputs": [
    {
     "name": "stdout",
     "output_type": "stream",
     "text": [
      "root\n",
      " |-- created: string (nullable = true)\n",
      " |-- title: string (nullable = true)\n",
      " |-- abstract: string (nullable = true)\n",
      " |-- citation_count: long (nullable = true)\n",
      " |-- number_of_pages: long (nullable = true)\n",
      " |-- keywords: array (nullable = true)\n",
      " |    |-- element: struct (containsNull = true)\n",
      " |    |    |-- schema: string (nullable = true)\n",
      " |    |    |-- source: string (nullable = true)\n",
      " |    |    |-- value: string (nullable = true)\n",
      " |-- authors: array (nullable = true)\n",
      " |    |-- element: string (containsNull = true)\n",
      " |-- num_refs: integer (nullable = false)\n",
      "\n"
     ]
    }
   ],
   "source": [
    "short_papers = papers.select(\n",
    "    col(\"paper.created\"),\n",
    "    element_at(col(\"paper.metadata.titles.title\"),1).alias(\"title\"),\n",
    "    element_at(col(\"paper.metadata.abstracts.value\"),1).alias(\"abstract\"),\n",
    "    col(\"paper.metadata.citation_count\").alias(\"citation_count\"),\n",
    "    col(\"paper.metadata.number_of_pages\"),\n",
    "    col(\"paper.metadata.keywords\"),\n",
    "    col(\"paper.metadata.authors.full_name\").alias(\"authors\"),\n",
    "    size(col(\"paper.metadata.references\")).alias(\"num_refs\")\n",
    ");\n",
    "short_papers.printSchema()"
   ]
  },
  {
   "cell_type": "markdown",
   "id": "7a8897c6-968b-4867-be43-e5866acd5b80",
   "metadata": {},
   "source": [
    "## Keywords Extraction"
   ]
  },
  {
   "cell_type": "code",
   "execution_count": 31,
   "id": "72d83f80-d552-41a6-945b-65e689384439",
   "metadata": {},
   "outputs": [],
   "source": [
    "from pyspark.sql.functions import udf\n",
    "from pyspark.sql.types import *"
   ]
  },
  {
   "cell_type": "markdown",
   "id": "e2d06f3e-6e4d-4dfd-81d0-86f634c19c75",
   "metadata": {},
   "source": [
    "### Assigned"
   ]
  },
  {
   "cell_type": "markdown",
   "id": "5224fd74-15fa-40cb-a959-785ccbfa39e3",
   "metadata": {},
   "source": [
    "Extracting assigned keywords"
   ]
  },
  {
   "cell_type": "code",
   "execution_count": 34,
   "id": "c54e9a87-a9b2-4250-a473-41c2962f56d5",
   "metadata": {},
   "outputs": [
    {
     "data": {
      "text/html": [
       "<table border='1'>\n",
       "<tr><th>created</th><th>title</th><th>abstract</th><th>citation_count</th><th>number_of_pages</th><th>keywords</th><th>authors</th><th>num_refs</th><th>keywords_</th></tr>\n",
       "<tr><td>2021-03-26T00:00:...</td><td>Charmonia product...</td><td>In this paper, pr...</td><td>0</td><td>15</td><td>[{PACS, null, 14....</td><td>[Luchinsky, A.V.,...</td><td>35</td><td>[14.40.Pq, 12.39....</td></tr>\n",
       "<tr><td>2020-07-09T00:00:...</td><td>Exclusive decays ...</td><td>Exclusive decays ...</td><td>4</td><td>10</td><td>[{null, publisher...</td><td>[Luchinsky, A.V.,...</td><td>42</td><td>[Strong Interacti...</td></tr>\n",
       "<tr><td>2019-12-11T00:00:...</td><td>Doubly heavy bary...</td><td>The theoretical a...</td><td>1</td><td>8</td><td>[{INSPIRE, null, ...</td><td>[Berezhnoy, A.V.,...</td><td>40</td><td>[talk, baryon: he...</td></tr>\n",
       "<tr><td>2019-05-29T00:00:...</td><td>Weak decays of do...</td><td>We consider exclu...</td><td>13</td><td>10</td><td>[{null, publisher...</td><td>[Gerasimov, A.S.,...</td><td>21</td><td>[Electroweak inte...</td></tr>\n",
       "<tr><td>2019-11-21T00:00:...</td><td>$B_c$ excitations...</td><td>Status of the Bc ...</td><td>0</td><td>8</td><td>[{INSPIRE, null, ...</td><td>[Berezhnoy, A.V.,...</td><td>49</td><td>[talk, B/c: excit...</td></tr>\n",
       "<tr><td>2018-12-27T00:00:...</td><td>Excited $\\rho$ me...</td><td>In this paper, ex...</td><td>2</td><td>7</td><td>[{null, publisher...</td><td>[Luchinsky, A.V.]</td><td>22</td><td>[Phenomenological...</td></tr>\n",
       "<tr><td>2018-09-27T00:00:...</td><td>Doubly heavy bary...</td><td>The theoretical a...</td><td>30</td><td>14</td><td>[{null, publisher...</td><td>[Berezhnoy, A.V.,...</td><td>56</td><td>[Electroweak inte...</td></tr>\n",
       "<tr><td>2018-01-30T00:00:...</td><td>Charmonia Product...</td><td>In the presented ...</td><td>1</td><td>9</td><td>[{PACS, null, 14....</td><td>[Luchinsky, A.V.]</td><td>30</td><td>[14.40.Pq, 12.39....</td></tr>\n",
       "<tr><td>2019-02-25T00:00:...</td><td>Lifetimes of Doub...</td><td>The inclusive dec...</td><td>1</td><td>11</td><td>[{INSPIRE, null, ...</td><td>[Likhoded, A.K., ...</td><td>49</td><td>[baryon: heavy, b...</td></tr>\n",
       "<tr><td>2017-12-11T00:00:...</td><td>Double Charmonia ...</td><td>This paper is dev...</td><td>8</td><td>14</td><td>[{PACS, null, 13....</td><td>[Likhoded, A.K., ...</td><td>36</td><td>[13.38.Dg, 14.40....</td></tr>\n",
       "<tr><td>2017-09-11T00:00:...</td><td>Muon Pair Product...</td><td>Muon pair product...</td><td>9</td><td>7</td><td>[{PACS, null, 13....</td><td>[Luchinsky, A.V.]</td><td>22</td><td>[13.20.Gd, 14.40....</td></tr>\n",
       "<tr><td>2017-08-24T00:00:...</td><td>Production of hea...</td><td>Processes of sing...</td><td>3</td><td>13</td><td>[{INSPIRE, null, ...</td><td>[Likhoded, A.K., ...</td><td>57</td><td>[quarkonium: heav...</td></tr>\n",
       "<tr><td>2017-06-14T00:00:...</td><td>Leading order NRQ...</td><td>The presented pap...</td><td>4</td><td>8</td><td>[{INSPIRE, null, ...</td><td>[Luchinsky, A.V.]</td><td>29</td><td>[charmonium: prod...</td></tr>\n",
       "<tr><td>2017-03-28T00:00:...</td><td>Comments on &#x27;Stud...</td><td>Recent LHCb measu...</td><td>4</td><td>8</td><td>[{PACS, null, 13....</td><td>[Belyaev, I., Ber...</td><td>32</td><td>[13.87.Ce, 13.87....</td></tr>\n",
       "<tr><td>2016-12-12T00:00:...</td><td>Double Charmonia ...</td><td>In this note next...</td><td>1</td><td>7</td><td>[{INSPIRE, null, ...</td><td>[Luchinsky, A.V.]</td><td>20</td><td>[p p: scattering,...</td></tr>\n",
       "<tr><td>2016-06-23T00:00:...</td><td>Production of $J/...</td><td>In the present wo...</td><td>36</td><td>8</td><td>[{INSPIRE, null, ...</td><td>[Likhoded, A.K., ...</td><td>31</td><td>[quantum chromody...</td></tr>\n",
       "<tr><td>2016-01-05T00:00:...</td><td>Production of hea...</td><td>The phenomenology...</td><td>3</td><td>10</td><td>[{INSPIRE, null, ...</td><td>[Likhoded, A.K., ...</td><td>34</td><td>[quantum chromody...</td></tr>\n",
       "<tr><td>2015-11-16T00:00:...</td><td>Production of ϒJ/...</td><td>The inclusive pro...</td><td>0</td><td>8</td><td>[{INSPIRE, null, ...</td><td>[Likhoded, A.K., ...</td><td>29</td><td>[parton: interact...</td></tr>\n",
       "<tr><td>2015-09-11T00:00:...</td><td>$J/\\Psi \\Upsilon$...</td><td>Inclusive product...</td><td>1</td><td>8</td><td>[{INSPIRE, null, ...</td><td>[Luchinsky, A.V.]</td><td>26</td><td>[J/psi(3100): had...</td></tr>\n",
       "<tr><td>2015-05-28T00:00:...</td><td>Hadroproduction o...</td><td>The production of...</td><td>0</td><td>9</td><td>[{INSPIRE, null, ...</td><td>[Berezhnoy, A.V.,...</td><td>38</td><td>[CERN LHC Coll, q...</td></tr>\n",
       "</table>\n",
       "only showing top 20 rows\n"
      ],
      "text/plain": [
       "+--------------------+--------------------+--------------------+--------------+---------------+--------------------+--------------------+--------+--------------------+\n",
       "|             created|               title|            abstract|citation_count|number_of_pages|            keywords|             authors|num_refs|           keywords_|\n",
       "+--------------------+--------------------+--------------------+--------------+---------------+--------------------+--------------------+--------+--------------------+\n",
       "|2021-03-26T00:00:...|Charmonia product...|In this paper, pr...|             0|             15|[{PACS, null, 14....|[Luchinsky, A.V.,...|      35|[14.40.Pq, 12.39....|\n",
       "|2020-07-09T00:00:...|Exclusive decays ...|Exclusive decays ...|             4|             10|[{null, publisher...|[Luchinsky, A.V.,...|      42|[Strong Interacti...|\n",
       "|2019-12-11T00:00:...|Doubly heavy bary...|The theoretical a...|             1|              8|[{INSPIRE, null, ...|[Berezhnoy, A.V.,...|      40|[talk, baryon: he...|\n",
       "|2019-05-29T00:00:...|Weak decays of do...|We consider exclu...|            13|             10|[{null, publisher...|[Gerasimov, A.S.,...|      21|[Electroweak inte...|\n",
       "|2019-11-21T00:00:...|$B_c$ excitations...|Status of the Bc ...|             0|              8|[{INSPIRE, null, ...|[Berezhnoy, A.V.,...|      49|[talk, B/c: excit...|\n",
       "|2018-12-27T00:00:...|Excited $\\rho$ me...|In this paper, ex...|             2|              7|[{null, publisher...|   [Luchinsky, A.V.]|      22|[Phenomenological...|\n",
       "|2018-09-27T00:00:...|Doubly heavy bary...|The theoretical a...|            30|             14|[{null, publisher...|[Berezhnoy, A.V.,...|      56|[Electroweak inte...|\n",
       "|2018-01-30T00:00:...|Charmonia Product...|In the presented ...|             1|              9|[{PACS, null, 14....|   [Luchinsky, A.V.]|      30|[14.40.Pq, 12.39....|\n",
       "|2019-02-25T00:00:...|Lifetimes of Doub...|The inclusive dec...|             1|             11|[{INSPIRE, null, ...|[Likhoded, A.K., ...|      49|[baryon: heavy, b...|\n",
       "|2017-12-11T00:00:...|Double Charmonia ...|This paper is dev...|             8|             14|[{PACS, null, 13....|[Likhoded, A.K., ...|      36|[13.38.Dg, 14.40....|\n",
       "|2017-09-11T00:00:...|Muon Pair Product...|Muon pair product...|             9|              7|[{PACS, null, 13....|   [Luchinsky, A.V.]|      22|[13.20.Gd, 14.40....|\n",
       "|2017-08-24T00:00:...|Production of hea...|Processes of sing...|             3|             13|[{INSPIRE, null, ...|[Likhoded, A.K., ...|      57|[quarkonium: heav...|\n",
       "|2017-06-14T00:00:...|Leading order NRQ...|The presented pap...|             4|              8|[{INSPIRE, null, ...|   [Luchinsky, A.V.]|      29|[charmonium: prod...|\n",
       "|2017-03-28T00:00:...|Comments on 'Stud...|Recent LHCb measu...|             4|              8|[{PACS, null, 13....|[Belyaev, I., Ber...|      32|[13.87.Ce, 13.87....|\n",
       "|2016-12-12T00:00:...|Double Charmonia ...|In this note next...|             1|              7|[{INSPIRE, null, ...|   [Luchinsky, A.V.]|      20|[p p: scattering,...|\n",
       "|2016-06-23T00:00:...|Production of $J/...|In the present wo...|            36|              8|[{INSPIRE, null, ...|[Likhoded, A.K., ...|      31|[quantum chromody...|\n",
       "|2016-01-05T00:00:...|Production of hea...|The phenomenology...|             3|             10|[{INSPIRE, null, ...|[Likhoded, A.K., ...|      34|[quantum chromody...|\n",
       "|2015-11-16T00:00:...|Production of ϒJ/...|The inclusive pro...|             0|              8|[{INSPIRE, null, ...|[Likhoded, A.K., ...|      29|[parton: interact...|\n",
       "|2015-09-11T00:00:...|$J/\\Psi \\Upsilon$...|Inclusive product...|             1|              8|[{INSPIRE, null, ...|   [Luchinsky, A.V.]|      26|[J/psi(3100): had...|\n",
       "|2015-05-28T00:00:...|Hadroproduction o...|The production of...|             0|              9|[{INSPIRE, null, ...|[Berezhnoy, A.V.,...|      38|[CERN LHC Coll, q...|\n",
       "+--------------------+--------------------+--------------------+--------------+---------------+--------------------+--------------------+--------+--------------------+\n",
       "only showing top 20 rows"
      ]
     },
     "execution_count": 34,
     "metadata": {},
     "output_type": "execute_result"
    }
   ],
   "source": [
    "# returns first keyword\n",
    "@udf(returnType=ArrayType(StringType()))\n",
    "def list_keywords(a):\n",
    "    return [aa[\"value\"] for aa in a] if a else [\"None\"]\n",
    "\n",
    "aaa = short_papers.withColumn(\"keywords_\", list_keywords(col(\"keywords\")))\n",
    "aaa"
   ]
  },
  {
   "cell_type": "markdown",
   "id": "fd6d518d-57a7-4328-b653-af1a79d60def",
   "metadata": {},
   "source": [
    "Which of them are most popular?"
   ]
  },
  {
   "cell_type": "code",
   "execution_count": 35,
   "id": "4df4cc3b-8e3a-4ccc-80dc-65d56f3f3e91",
   "metadata": {},
   "outputs": [
    {
     "data": {
      "text/html": [
       "<table border='1'>\n",
       "<tr><th>K</th><th>count</th></tr>\n",
       "<tr><td>numerical calcula...</td><td>31</td></tr>\n",
       "<tr><td>CERN LHC Coll</td><td>21</td></tr>\n",
       "<tr><td>quantum chromodyn...</td><td>17</td></tr>\n",
       "<tr><td>LHC-B</td><td>14</td></tr>\n",
       "<tr><td>14.40.Pq</td><td>13</td></tr>\n",
       "<tr><td>charmonium</td><td>12</td></tr>\n",
       "<tr><td>electron positron...</td><td>10</td></tr>\n",
       "<tr><td>12.38.Bx</td><td>10</td></tr>\n",
       "<tr><td>13.66.Bc</td><td>10</td></tr>\n",
       "<tr><td>quarkonium: heavy</td><td>10</td></tr>\n",
       "<tr><td>13.25.Gv</td><td>10</td></tr>\n",
       "<tr><td>J/psi(3100): pair...</td><td>8</td></tr>\n",
       "<tr><td>12.38.-t</td><td>7</td></tr>\n",
       "<tr><td>color: singlet</td><td>7</td></tr>\n",
       "<tr><td>light cone</td><td>7</td></tr>\n",
       "<tr><td>color: octet</td><td>7</td></tr>\n",
       "<tr><td>branching ratio</td><td>7</td></tr>\n",
       "<tr><td>p p: scattering</td><td>6</td></tr>\n",
       "<tr><td>quarkonium: pair ...</td><td>6</td></tr>\n",
       "<tr><td>numerical calcula...</td><td>6</td></tr>\n",
       "</table>\n",
       "only showing top 20 rows\n"
      ],
      "text/plain": [
       "+--------------------+-----+\n",
       "|                   K|count|\n",
       "+--------------------+-----+\n",
       "|numerical calcula...|   31|\n",
       "|       CERN LHC Coll|   21|\n",
       "|quantum chromodyn...|   17|\n",
       "|               LHC-B|   14|\n",
       "|            14.40.Pq|   13|\n",
       "|          charmonium|   12|\n",
       "|electron positron...|   10|\n",
       "|            12.38.Bx|   10|\n",
       "|            13.66.Bc|   10|\n",
       "|   quarkonium: heavy|   10|\n",
       "|            13.25.Gv|   10|\n",
       "|J/psi(3100): pair...|    8|\n",
       "|            12.38.-t|    7|\n",
       "|      color: singlet|    7|\n",
       "|          light cone|    7|\n",
       "|        color: octet|    7|\n",
       "|     branching ratio|    7|\n",
       "|     p p: scattering|    6|\n",
       "|quarkonium: pair ...|    6|\n",
       "|numerical calcula...|    6|\n",
       "+--------------------+-----+\n",
       "only showing top 20 rows"
      ]
     },
     "execution_count": 35,
     "metadata": {},
     "output_type": "execute_result"
    }
   ],
   "source": [
    "aaa.select(explode(\"keywords_\").alias(\"K\")).groupby(\"K\").count().sort(desc(\"count\"))"
   ]
  },
  {
   "cell_type": "markdown",
   "id": "e463d7b2-b2f9-4e8c-82c3-69a8092a8f64",
   "metadata": {},
   "source": [
    "Search papers with **charmonium** keyword"
   ]
  },
  {
   "cell_type": "code",
   "execution_count": 30,
   "id": "0e586c22-9085-4d0d-8f07-c92492588fcb",
   "metadata": {},
   "outputs": [
    {
     "data": {
      "text/html": [
       "<table border='1'>\n",
       "<tr><th>created</th><th>title</th><th>abstract</th><th>citation_count</th><th>number_of_pages</th><th>keywords</th><th>authors</th><th>num_refs</th><th>keywords_</th></tr>\n",
       "<tr><td>2017-08-24T00:00:...</td><td>Production of hea...</td><td>Processes of sing...</td><td>3</td><td>13</td><td>[{INSPIRE, null, ...</td><td>[Likhoded, A.K., ...</td><td>57</td><td>[quarkonium: heav...</td></tr>\n",
       "<tr><td>2011-04-05T00:00:...</td><td>BC_NPI module for...</td><td>The module for th...</td><td>7</td><td>15</td><td>[{INSPIRE, null, ...</td><td>[Berezhnoy, A.V.,...</td><td>19</td><td>[B/c: hadronic de...</td></tr>\n",
       "<tr><td>2009-10-18T00:00:...</td><td>Light hadron prod...</td><td>Decays of ground ...</td><td>33</td><td>10</td><td>[{PACS, null, 13....</td><td>[Likhoded, A.K., ...</td><td>26</td><td>[13.35.Dx, 13.20....</td></tr>\n",
       "<tr><td>2008-10-20T00:00:...</td><td>Leading twist dis...</td><td>This paper is dev...</td><td>33</td><td>8</td><td>[{PACS, null, 13....</td><td>[Braguta, V.V., L...</td><td>19</td><td>[13.25.Gv, 12.38....</td></tr>\n",
       "<tr><td>2007-09-04T00:00:...</td><td>Lepton pair produ...</td><td>Coherent producti...</td><td>0</td><td>15</td><td>[{PACS, null, 13....</td><td>[Berezhnoy, A.V.,...</td><td>10</td><td>[13.60.-r, 13.60....</td></tr>\n",
       "<tr><td>2007-03-08T00:00:...</td><td>Charmonium produc...</td><td>The production of...</td><td>8</td><td>28</td><td>[{INSPIRE, null, ...</td><td>[Likhoded, A.K., ...</td><td>30</td><td>[p p: inclusive r...</td></tr>\n",
       "<tr><td>2007-06-15T00:00:...</td><td>Systematics of he...</td><td>It is shown that,...</td><td>5</td><td>10</td><td>[{PACS, null, 14....</td><td>[Gershtein, S.S.,...</td><td>37</td><td>[14.40.Gx, 12.40....</td></tr>\n",
       "<tr><td>2006-02-08T00:00:...</td><td>The Processes e+ ...</td><td>In this paper we ...</td><td>43</td><td>8</td><td>[{PACS, null, 13....</td><td>[Braguta, V.V., L...</td><td>13</td><td>[13.25.Gv, 12.38....</td></tr>\n",
       "<tr><td>2006-02-08T00:00:...</td><td>Systematics of he...</td><td>In this paper we ...</td><td>54</td><td>9</td><td>[{PACS, null, 14....</td><td>[Gershtein, S.S.,...</td><td>33</td><td>[14.40.Gx, 12.40....</td></tr>\n",
       "<tr><td>2005-07-25T00:00:...</td><td>Excited charmoniu...</td><td>In this paper the...</td><td>73</td><td>7</td><td>[{PACS, null, 13....</td><td>[Braguta, V.V., L...</td><td>16</td><td>[13.25.Gv, 13.66....</td></tr>\n",
       "<tr><td>2004-01-28T00:00:...</td><td>ISR corrections t...</td><td>In this paper ini...</td><td>1</td><td>9</td><td>[{INSPIRE, null, ...</td><td>[Luchinsky, A.V.]</td><td>21</td><td>[electron positro...</td></tr>\n",
       "</table>\n"
      ],
      "text/plain": [
       "+--------------------+--------------------+--------------------+--------------+---------------+--------------------+--------------------+--------+--------------------+\n",
       "|             created|               title|            abstract|citation_count|number_of_pages|            keywords|             authors|num_refs|           keywords_|\n",
       "+--------------------+--------------------+--------------------+--------------+---------------+--------------------+--------------------+--------+--------------------+\n",
       "|2017-08-24T00:00:...|Production of hea...|Processes of sing...|             3|             13|[{INSPIRE, null, ...|[Likhoded, A.K., ...|      57|[quarkonium: heav...|\n",
       "|2011-04-05T00:00:...|BC_NPI module for...|The module for th...|             7|             15|[{INSPIRE, null, ...|[Berezhnoy, A.V.,...|      19|[B/c: hadronic de...|\n",
       "|2009-10-18T00:00:...|Light hadron prod...|Decays of ground ...|            33|             10|[{PACS, null, 13....|[Likhoded, A.K., ...|      26|[13.35.Dx, 13.20....|\n",
       "|2008-10-20T00:00:...|Leading twist dis...|This paper is dev...|            33|              8|[{PACS, null, 13....|[Braguta, V.V., L...|      19|[13.25.Gv, 12.38....|\n",
       "|2007-09-04T00:00:...|Lepton pair produ...|Coherent producti...|             0|             15|[{PACS, null, 13....|[Berezhnoy, A.V.,...|      10|[13.60.-r, 13.60....|\n",
       "|2007-03-08T00:00:...|Charmonium produc...|The production of...|             8|             28|[{INSPIRE, null, ...|[Likhoded, A.K., ...|      30|[p p: inclusive r...|\n",
       "|2007-06-15T00:00:...|Systematics of he...|It is shown that,...|             5|             10|[{PACS, null, 14....|[Gershtein, S.S.,...|      37|[14.40.Gx, 12.40....|\n",
       "|2006-02-08T00:00:...|The Processes e+ ...|In this paper we ...|            43|              8|[{PACS, null, 13....|[Braguta, V.V., L...|      13|[13.25.Gv, 12.38....|\n",
       "|2006-02-08T00:00:...|Systematics of he...|In this paper we ...|            54|              9|[{PACS, null, 14....|[Gershtein, S.S.,...|      33|[14.40.Gx, 12.40....|\n",
       "|2005-07-25T00:00:...|Excited charmoniu...|In this paper the...|            73|              7|[{PACS, null, 13....|[Braguta, V.V., L...|      16|[13.25.Gv, 13.66....|\n",
       "|2004-01-28T00:00:...|ISR corrections t...|In this paper ini...|             1|              9|[{INSPIRE, null, ...|   [Luchinsky, A.V.]|      21|[electron positro...|\n",
       "+--------------------+--------------------+--------------------+--------------+---------------+--------------------+--------------------+--------+--------------------+"
      ]
     },
     "execution_count": 30,
     "metadata": {},
     "output_type": "execute_result"
    }
   ],
   "source": [
    "from pyspark.sql.functions import array_contains\n",
    "\n",
    "aaa.filter( array_contains(col(\"keywords_\"), \"charmonium\"))"
   ]
  },
  {
   "cell_type": "markdown",
   "id": "bcf3071c-f937-4087-8c69-8d6de92af071",
   "metadata": {},
   "source": [
    "### From titles"
   ]
  },
  {
   "cell_type": "code",
   "execution_count": 36,
   "id": "10617387-ce90-4ae0-8ab4-5ff187488854",
   "metadata": {},
   "outputs": [],
   "source": [
    "from pyspark.sql.functions import split"
   ]
  },
  {
   "cell_type": "code",
   "execution_count": 40,
   "id": "adda0bd7-ea20-41d7-8f9b-597bd1cffa0a",
   "metadata": {},
   "outputs": [
    {
     "name": "stdout",
     "output_type": "stream",
     "text": [
      "root\n",
      " |-- created: string (nullable = true)\n",
      " |-- title: string (nullable = true)\n",
      " |-- abstract: string (nullable = true)\n",
      " |-- citation_count: long (nullable = true)\n",
      " |-- number_of_pages: long (nullable = true)\n",
      " |-- keywords: array (nullable = true)\n",
      " |    |-- element: struct (containsNull = true)\n",
      " |    |    |-- schema: string (nullable = true)\n",
      " |    |    |-- source: string (nullable = true)\n",
      " |    |    |-- value: string (nullable = true)\n",
      " |-- authors: array (nullable = true)\n",
      " |    |-- element: string (containsNull = true)\n",
      " |-- num_refs: integer (nullable = false)\n",
      "\n"
     ]
    }
   ],
   "source": [
    "short_papers.printSchema()"
   ]
  },
  {
   "cell_type": "code",
   "execution_count": 42,
   "id": "d5689772-e89f-4b6d-bbda-b5b972b51f31",
   "metadata": {},
   "outputs": [
    {
     "data": {
      "text/html": [
       "<table border='1'>\n",
       "<tr><th>created</th><th>title</th><th>abstract</th><th>citation_count</th><th>number_of_pages</th><th>keywords</th><th>authors</th><th>num_refs</th></tr>\n",
       "<tr><td>2021-03-26T00:00:...</td><td>Charmonia product...</td><td>In this paper, pr...</td><td>0</td><td>15</td><td>[{PACS, null, 14....</td><td>[Luchinsky, A.V.,...</td><td>35</td></tr>\n",
       "<tr><td>2020-07-09T00:00:...</td><td>Exclusive decays ...</td><td>Exclusive decays ...</td><td>4</td><td>10</td><td>[{null, publisher...</td><td>[Luchinsky, A.V.,...</td><td>42</td></tr>\n",
       "<tr><td>2019-12-11T00:00:...</td><td>Doubly heavy bary...</td><td>The theoretical a...</td><td>1</td><td>8</td><td>[{INSPIRE, null, ...</td><td>[Berezhnoy, A.V.,...</td><td>40</td></tr>\n",
       "<tr><td>2019-05-29T00:00:...</td><td>Weak decays of do...</td><td>We consider exclu...</td><td>13</td><td>10</td><td>[{null, publisher...</td><td>[Gerasimov, A.S.,...</td><td>21</td></tr>\n",
       "<tr><td>2019-11-21T00:00:...</td><td>$B_c$ excitations...</td><td>Status of the Bc ...</td><td>0</td><td>8</td><td>[{INSPIRE, null, ...</td><td>[Berezhnoy, A.V.,...</td><td>49</td></tr>\n",
       "<tr><td>2018-12-27T00:00:...</td><td>Excited $\\rho$ me...</td><td>In this paper, ex...</td><td>2</td><td>7</td><td>[{null, publisher...</td><td>[Luchinsky, A.V.]</td><td>22</td></tr>\n",
       "<tr><td>2018-09-27T00:00:...</td><td>Doubly heavy bary...</td><td>The theoretical a...</td><td>30</td><td>14</td><td>[{null, publisher...</td><td>[Berezhnoy, A.V.,...</td><td>56</td></tr>\n",
       "<tr><td>2018-01-30T00:00:...</td><td>Charmonia Product...</td><td>In the presented ...</td><td>1</td><td>9</td><td>[{PACS, null, 14....</td><td>[Luchinsky, A.V.]</td><td>30</td></tr>\n",
       "<tr><td>2019-02-25T00:00:...</td><td>Lifetimes of Doub...</td><td>The inclusive dec...</td><td>1</td><td>11</td><td>[{INSPIRE, null, ...</td><td>[Likhoded, A.K., ...</td><td>49</td></tr>\n",
       "<tr><td>2017-12-11T00:00:...</td><td>Double Charmonia ...</td><td>This paper is dev...</td><td>8</td><td>14</td><td>[{PACS, null, 13....</td><td>[Likhoded, A.K., ...</td><td>36</td></tr>\n",
       "<tr><td>2017-09-11T00:00:...</td><td>Muon Pair Product...</td><td>Muon pair product...</td><td>9</td><td>7</td><td>[{PACS, null, 13....</td><td>[Luchinsky, A.V.]</td><td>22</td></tr>\n",
       "<tr><td>2017-08-24T00:00:...</td><td>Production of hea...</td><td>Processes of sing...</td><td>3</td><td>13</td><td>[{INSPIRE, null, ...</td><td>[Likhoded, A.K., ...</td><td>57</td></tr>\n",
       "<tr><td>2017-06-14T00:00:...</td><td>Leading order NRQ...</td><td>The presented pap...</td><td>4</td><td>8</td><td>[{INSPIRE, null, ...</td><td>[Luchinsky, A.V.]</td><td>29</td></tr>\n",
       "<tr><td>2017-03-28T00:00:...</td><td>Comments on &#x27;Stud...</td><td>Recent LHCb measu...</td><td>4</td><td>8</td><td>[{PACS, null, 13....</td><td>[Belyaev, I., Ber...</td><td>32</td></tr>\n",
       "<tr><td>2016-12-12T00:00:...</td><td>Double Charmonia ...</td><td>In this note next...</td><td>1</td><td>7</td><td>[{INSPIRE, null, ...</td><td>[Luchinsky, A.V.]</td><td>20</td></tr>\n",
       "<tr><td>2016-06-23T00:00:...</td><td>Production of $J/...</td><td>In the present wo...</td><td>36</td><td>8</td><td>[{INSPIRE, null, ...</td><td>[Likhoded, A.K., ...</td><td>31</td></tr>\n",
       "<tr><td>2016-01-05T00:00:...</td><td>Production of hea...</td><td>The phenomenology...</td><td>3</td><td>10</td><td>[{INSPIRE, null, ...</td><td>[Likhoded, A.K., ...</td><td>34</td></tr>\n",
       "<tr><td>2015-11-16T00:00:...</td><td>Production of ϒJ/...</td><td>The inclusive pro...</td><td>0</td><td>8</td><td>[{INSPIRE, null, ...</td><td>[Likhoded, A.K., ...</td><td>29</td></tr>\n",
       "<tr><td>2015-09-11T00:00:...</td><td>$J/\\Psi \\Upsilon$...</td><td>Inclusive product...</td><td>1</td><td>8</td><td>[{INSPIRE, null, ...</td><td>[Luchinsky, A.V.]</td><td>26</td></tr>\n",
       "<tr><td>2015-05-28T00:00:...</td><td>Hadroproduction o...</td><td>The production of...</td><td>0</td><td>9</td><td>[{INSPIRE, null, ...</td><td>[Berezhnoy, A.V.,...</td><td>38</td></tr>\n",
       "</table>\n",
       "only showing top 20 rows\n"
      ],
      "text/plain": [
       "+--------------------+--------------------+--------------------+--------------+---------------+--------------------+--------------------+--------+\n",
       "|             created|               title|            abstract|citation_count|number_of_pages|            keywords|             authors|num_refs|\n",
       "+--------------------+--------------------+--------------------+--------------+---------------+--------------------+--------------------+--------+\n",
       "|2021-03-26T00:00:...|Charmonia product...|In this paper, pr...|             0|             15|[{PACS, null, 14....|[Luchinsky, A.V.,...|      35|\n",
       "|2020-07-09T00:00:...|Exclusive decays ...|Exclusive decays ...|             4|             10|[{null, publisher...|[Luchinsky, A.V.,...|      42|\n",
       "|2019-12-11T00:00:...|Doubly heavy bary...|The theoretical a...|             1|              8|[{INSPIRE, null, ...|[Berezhnoy, A.V.,...|      40|\n",
       "|2019-05-29T00:00:...|Weak decays of do...|We consider exclu...|            13|             10|[{null, publisher...|[Gerasimov, A.S.,...|      21|\n",
       "|2019-11-21T00:00:...|$B_c$ excitations...|Status of the Bc ...|             0|              8|[{INSPIRE, null, ...|[Berezhnoy, A.V.,...|      49|\n",
       "|2018-12-27T00:00:...|Excited $\\rho$ me...|In this paper, ex...|             2|              7|[{null, publisher...|   [Luchinsky, A.V.]|      22|\n",
       "|2018-09-27T00:00:...|Doubly heavy bary...|The theoretical a...|            30|             14|[{null, publisher...|[Berezhnoy, A.V.,...|      56|\n",
       "|2018-01-30T00:00:...|Charmonia Product...|In the presented ...|             1|              9|[{PACS, null, 14....|   [Luchinsky, A.V.]|      30|\n",
       "|2019-02-25T00:00:...|Lifetimes of Doub...|The inclusive dec...|             1|             11|[{INSPIRE, null, ...|[Likhoded, A.K., ...|      49|\n",
       "|2017-12-11T00:00:...|Double Charmonia ...|This paper is dev...|             8|             14|[{PACS, null, 13....|[Likhoded, A.K., ...|      36|\n",
       "|2017-09-11T00:00:...|Muon Pair Product...|Muon pair product...|             9|              7|[{PACS, null, 13....|   [Luchinsky, A.V.]|      22|\n",
       "|2017-08-24T00:00:...|Production of hea...|Processes of sing...|             3|             13|[{INSPIRE, null, ...|[Likhoded, A.K., ...|      57|\n",
       "|2017-06-14T00:00:...|Leading order NRQ...|The presented pap...|             4|              8|[{INSPIRE, null, ...|   [Luchinsky, A.V.]|      29|\n",
       "|2017-03-28T00:00:...|Comments on 'Stud...|Recent LHCb measu...|             4|              8|[{PACS, null, 13....|[Belyaev, I., Ber...|      32|\n",
       "|2016-12-12T00:00:...|Double Charmonia ...|In this note next...|             1|              7|[{INSPIRE, null, ...|   [Luchinsky, A.V.]|      20|\n",
       "|2016-06-23T00:00:...|Production of $J/...|In the present wo...|            36|              8|[{INSPIRE, null, ...|[Likhoded, A.K., ...|      31|\n",
       "|2016-01-05T00:00:...|Production of hea...|The phenomenology...|             3|             10|[{INSPIRE, null, ...|[Likhoded, A.K., ...|      34|\n",
       "|2015-11-16T00:00:...|Production of ϒJ/...|The inclusive pro...|             0|              8|[{INSPIRE, null, ...|[Likhoded, A.K., ...|      29|\n",
       "|2015-09-11T00:00:...|$J/\\Psi \\Upsilon$...|Inclusive product...|             1|              8|[{INSPIRE, null, ...|   [Luchinsky, A.V.]|      26|\n",
       "|2015-05-28T00:00:...|Hadroproduction o...|The production of...|             0|              9|[{INSPIRE, null, ...|[Berezhnoy, A.V.,...|      38|\n",
       "+--------------------+--------------------+--------------------+--------------+---------------+--------------------+--------------------+--------+\n",
       "only showing top 20 rows"
      ]
     },
     "execution_count": 42,
     "metadata": {},
     "output_type": "execute_result"
    }
   ],
   "source": [
    "short_papers"
   ]
  },
  {
   "cell_type": "code",
   "execution_count": 54,
   "id": "07a2b63f-dcdd-4180-8639-58f9965deb6d",
   "metadata": {},
   "outputs": [
    {
     "name": "stdout",
     "output_type": "stream",
     "text": [
      "root\n",
      " |-- W: string (nullable = true)\n",
      " |-- count: long (nullable = false)\n",
      "\n"
     ]
    }
   ],
   "source": [
    "kwds_tit = short_papers.select(split(col(\"title\"), \" \").alias(\"W\")).select(explode(\"W\").alias(\"W\")).groupby(\"W\").count().sort(desc(\"count\"))\n",
    "kwds_tit.printSchema()"
   ]
  },
  {
   "cell_type": "code",
   "execution_count": 56,
   "id": "f2cb55bc-56db-41f0-aa39-a55dfe5d66d9",
   "metadata": {},
   "outputs": [],
   "source": [
    "kws_title = short_papers.select(\"title\").                \\\n",
    "    withColumn(\"title\", split(col(\"title\"), \" \")).     \\\n",
    "    select(explode(col(\"title\")).alias(\"K\")).          \\\n",
    "    groupBy(\"K\").count().sort(asc(\"count\"))\n"
   ]
  },
  {
   "cell_type": "code",
   "execution_count": 67,
   "id": "1a8f1812-7b32-49b9-87d5-787e39c21780",
   "metadata": {},
   "outputs": [
    {
     "name": "stdout",
     "output_type": "stream",
     "text": [
      "root\n",
      " |-- abstract: string (nullable = true)\n",
      "\n"
     ]
    }
   ],
   "source": [
    "short_papers.limit(3).select(col(\"abstract\")).printSchema("
   ]
  },
  {
   "cell_type": "code",
   "execution_count": null,
   "id": "c9ed02a3-ca92-46ec-9134-40bcd96e47ea",
   "metadata": {},
   "outputs": [],
   "source": []
  },
  {
   "cell_type": "code",
   "execution_count": 61,
   "id": "d00f580a-d4ac-432f-a653-44d934db6c40",
   "metadata": {},
   "outputs": [
    {
     "ename": "AnalysisException",
     "evalue": "Invalid call to exprId on unresolved object",
     "output_type": "error",
     "traceback": [
      "\u001b[0;31m---------------------------------------------------------------------------\u001b[0m",
      "\u001b[0;31mAnalysisException\u001b[0m                         Traceback (most recent call last)",
      "File \u001b[0;32m/opt/conda/lib/python3.9/site-packages/IPython/core/formatters.py:707\u001b[0m, in \u001b[0;36mPlainTextFormatter.__call__\u001b[0;34m(self, obj)\u001b[0m\n\u001b[1;32m    700\u001b[0m stream \u001b[38;5;241m=\u001b[39m StringIO()\n\u001b[1;32m    701\u001b[0m printer \u001b[38;5;241m=\u001b[39m pretty\u001b[38;5;241m.\u001b[39mRepresentationPrinter(stream, \u001b[38;5;28mself\u001b[39m\u001b[38;5;241m.\u001b[39mverbose,\n\u001b[1;32m    702\u001b[0m     \u001b[38;5;28mself\u001b[39m\u001b[38;5;241m.\u001b[39mmax_width, \u001b[38;5;28mself\u001b[39m\u001b[38;5;241m.\u001b[39mnewline,\n\u001b[1;32m    703\u001b[0m     max_seq_length\u001b[38;5;241m=\u001b[39m\u001b[38;5;28mself\u001b[39m\u001b[38;5;241m.\u001b[39mmax_seq_length,\n\u001b[1;32m    704\u001b[0m     singleton_pprinters\u001b[38;5;241m=\u001b[39m\u001b[38;5;28mself\u001b[39m\u001b[38;5;241m.\u001b[39msingleton_printers,\n\u001b[1;32m    705\u001b[0m     type_pprinters\u001b[38;5;241m=\u001b[39m\u001b[38;5;28mself\u001b[39m\u001b[38;5;241m.\u001b[39mtype_printers,\n\u001b[1;32m    706\u001b[0m     deferred_pprinters\u001b[38;5;241m=\u001b[39m\u001b[38;5;28mself\u001b[39m\u001b[38;5;241m.\u001b[39mdeferred_printers)\n\u001b[0;32m--> 707\u001b[0m \u001b[43mprinter\u001b[49m\u001b[38;5;241;43m.\u001b[39;49m\u001b[43mpretty\u001b[49m\u001b[43m(\u001b[49m\u001b[43mobj\u001b[49m\u001b[43m)\u001b[49m\n\u001b[1;32m    708\u001b[0m printer\u001b[38;5;241m.\u001b[39mflush()\n\u001b[1;32m    709\u001b[0m \u001b[38;5;28;01mreturn\u001b[39;00m stream\u001b[38;5;241m.\u001b[39mgetvalue()\n",
      "File \u001b[0;32m/opt/conda/lib/python3.9/site-packages/IPython/lib/pretty.py:410\u001b[0m, in \u001b[0;36mRepresentationPrinter.pretty\u001b[0;34m(self, obj)\u001b[0m\n\u001b[1;32m    407\u001b[0m                         \u001b[38;5;28;01mreturn\u001b[39;00m meth(obj, \u001b[38;5;28mself\u001b[39m, cycle)\n\u001b[1;32m    408\u001b[0m                 \u001b[38;5;28;01mif\u001b[39;00m \u001b[38;5;28mcls\u001b[39m \u001b[38;5;129;01mis\u001b[39;00m \u001b[38;5;129;01mnot\u001b[39;00m \u001b[38;5;28mobject\u001b[39m \\\n\u001b[1;32m    409\u001b[0m                         \u001b[38;5;129;01mand\u001b[39;00m callable(\u001b[38;5;28mcls\u001b[39m\u001b[38;5;241m.\u001b[39m\u001b[38;5;18m__dict__\u001b[39m\u001b[38;5;241m.\u001b[39mget(\u001b[38;5;124m'\u001b[39m\u001b[38;5;124m__repr__\u001b[39m\u001b[38;5;124m'\u001b[39m)):\n\u001b[0;32m--> 410\u001b[0m                     \u001b[38;5;28;01mreturn\u001b[39;00m \u001b[43m_repr_pprint\u001b[49m\u001b[43m(\u001b[49m\u001b[43mobj\u001b[49m\u001b[43m,\u001b[49m\u001b[43m \u001b[49m\u001b[38;5;28;43mself\u001b[39;49m\u001b[43m,\u001b[49m\u001b[43m \u001b[49m\u001b[43mcycle\u001b[49m\u001b[43m)\u001b[49m\n\u001b[1;32m    412\u001b[0m     \u001b[38;5;28;01mreturn\u001b[39;00m _default_pprint(obj, \u001b[38;5;28mself\u001b[39m, cycle)\n\u001b[1;32m    413\u001b[0m \u001b[38;5;28;01mfinally\u001b[39;00m:\n",
      "File \u001b[0;32m/opt/conda/lib/python3.9/site-packages/IPython/lib/pretty.py:778\u001b[0m, in \u001b[0;36m_repr_pprint\u001b[0;34m(obj, p, cycle)\u001b[0m\n\u001b[1;32m    776\u001b[0m \u001b[38;5;124;03m\"\"\"A pprint that just redirects to the normal repr function.\"\"\"\u001b[39;00m\n\u001b[1;32m    777\u001b[0m \u001b[38;5;66;03m# Find newlines and replace them with p.break_()\u001b[39;00m\n\u001b[0;32m--> 778\u001b[0m output \u001b[38;5;241m=\u001b[39m \u001b[38;5;28;43mrepr\u001b[39;49m\u001b[43m(\u001b[49m\u001b[43mobj\u001b[49m\u001b[43m)\u001b[49m\n\u001b[1;32m    779\u001b[0m lines \u001b[38;5;241m=\u001b[39m output\u001b[38;5;241m.\u001b[39msplitlines()\n\u001b[1;32m    780\u001b[0m \u001b[38;5;28;01mwith\u001b[39;00m p\u001b[38;5;241m.\u001b[39mgroup():\n",
      "File \u001b[0;32m/usr/local/spark/python/pyspark/sql/dataframe.py:507\u001b[0m, in \u001b[0;36mDataFrame.__repr__\u001b[0;34m(self)\u001b[0m\n\u001b[1;32m    505\u001b[0m \u001b[38;5;28;01mif\u001b[39;00m \u001b[38;5;129;01mnot\u001b[39;00m \u001b[38;5;28mself\u001b[39m\u001b[38;5;241m.\u001b[39m_support_repr_html \u001b[38;5;129;01mand\u001b[39;00m \u001b[38;5;28mself\u001b[39m\u001b[38;5;241m.\u001b[39msql_ctx\u001b[38;5;241m.\u001b[39m_conf\u001b[38;5;241m.\u001b[39misReplEagerEvalEnabled():\n\u001b[1;32m    506\u001b[0m     vertical \u001b[38;5;241m=\u001b[39m \u001b[38;5;28;01mFalse\u001b[39;00m\n\u001b[0;32m--> 507\u001b[0m     \u001b[38;5;28;01mreturn\u001b[39;00m \u001b[38;5;28;43mself\u001b[39;49m\u001b[38;5;241;43m.\u001b[39;49m\u001b[43m_jdf\u001b[49m\u001b[38;5;241;43m.\u001b[39;49m\u001b[43mshowString\u001b[49m\u001b[43m(\u001b[49m\n\u001b[1;32m    508\u001b[0m \u001b[43m        \u001b[49m\u001b[38;5;28;43mself\u001b[39;49m\u001b[38;5;241;43m.\u001b[39;49m\u001b[43msql_ctx\u001b[49m\u001b[38;5;241;43m.\u001b[39;49m\u001b[43m_conf\u001b[49m\u001b[38;5;241;43m.\u001b[39;49m\u001b[43mreplEagerEvalMaxNumRows\u001b[49m\u001b[43m(\u001b[49m\u001b[43m)\u001b[49m\u001b[43m,\u001b[49m\n\u001b[1;32m    509\u001b[0m \u001b[43m        \u001b[49m\u001b[38;5;28;43mself\u001b[39;49m\u001b[38;5;241;43m.\u001b[39;49m\u001b[43msql_ctx\u001b[49m\u001b[38;5;241;43m.\u001b[39;49m\u001b[43m_conf\u001b[49m\u001b[38;5;241;43m.\u001b[39;49m\u001b[43mreplEagerEvalTruncate\u001b[49m\u001b[43m(\u001b[49m\u001b[43m)\u001b[49m\u001b[43m,\u001b[49m\u001b[43m \u001b[49m\u001b[43mvertical\u001b[49m\u001b[43m)\u001b[49m\n\u001b[1;32m    510\u001b[0m \u001b[38;5;28;01melse\u001b[39;00m:\n\u001b[1;32m    511\u001b[0m     \u001b[38;5;28;01mreturn\u001b[39;00m \u001b[38;5;124m\"\u001b[39m\u001b[38;5;124mDataFrame[\u001b[39m\u001b[38;5;132;01m%s\u001b[39;00m\u001b[38;5;124m]\u001b[39m\u001b[38;5;124m\"\u001b[39m \u001b[38;5;241m%\u001b[39m (\u001b[38;5;124m\"\u001b[39m\u001b[38;5;124m, \u001b[39m\u001b[38;5;124m\"\u001b[39m\u001b[38;5;241m.\u001b[39mjoin(\u001b[38;5;124m\"\u001b[39m\u001b[38;5;132;01m%s\u001b[39;00m\u001b[38;5;124m: \u001b[39m\u001b[38;5;132;01m%s\u001b[39;00m\u001b[38;5;124m\"\u001b[39m \u001b[38;5;241m%\u001b[39m c \u001b[38;5;28;01mfor\u001b[39;00m c \u001b[38;5;129;01min\u001b[39;00m \u001b[38;5;28mself\u001b[39m\u001b[38;5;241m.\u001b[39mdtypes))\n",
      "File \u001b[0;32m/usr/local/spark/python/lib/py4j-0.10.9.3-src.zip/py4j/java_gateway.py:1321\u001b[0m, in \u001b[0;36mJavaMember.__call__\u001b[0;34m(self, *args)\u001b[0m\n\u001b[1;32m   1315\u001b[0m command \u001b[38;5;241m=\u001b[39m proto\u001b[38;5;241m.\u001b[39mCALL_COMMAND_NAME \u001b[38;5;241m+\u001b[39m\\\n\u001b[1;32m   1316\u001b[0m     \u001b[38;5;28mself\u001b[39m\u001b[38;5;241m.\u001b[39mcommand_header \u001b[38;5;241m+\u001b[39m\\\n\u001b[1;32m   1317\u001b[0m     args_command \u001b[38;5;241m+\u001b[39m\\\n\u001b[1;32m   1318\u001b[0m     proto\u001b[38;5;241m.\u001b[39mEND_COMMAND_PART\n\u001b[1;32m   1320\u001b[0m answer \u001b[38;5;241m=\u001b[39m \u001b[38;5;28mself\u001b[39m\u001b[38;5;241m.\u001b[39mgateway_client\u001b[38;5;241m.\u001b[39msend_command(command)\n\u001b[0;32m-> 1321\u001b[0m return_value \u001b[38;5;241m=\u001b[39m \u001b[43mget_return_value\u001b[49m\u001b[43m(\u001b[49m\n\u001b[1;32m   1322\u001b[0m \u001b[43m    \u001b[49m\u001b[43manswer\u001b[49m\u001b[43m,\u001b[49m\u001b[43m \u001b[49m\u001b[38;5;28;43mself\u001b[39;49m\u001b[38;5;241;43m.\u001b[39;49m\u001b[43mgateway_client\u001b[49m\u001b[43m,\u001b[49m\u001b[43m \u001b[49m\u001b[38;5;28;43mself\u001b[39;49m\u001b[38;5;241;43m.\u001b[39;49m\u001b[43mtarget_id\u001b[49m\u001b[43m,\u001b[49m\u001b[43m \u001b[49m\u001b[38;5;28;43mself\u001b[39;49m\u001b[38;5;241;43m.\u001b[39;49m\u001b[43mname\u001b[49m\u001b[43m)\u001b[49m\n\u001b[1;32m   1324\u001b[0m \u001b[38;5;28;01mfor\u001b[39;00m temp_arg \u001b[38;5;129;01min\u001b[39;00m temp_args:\n\u001b[1;32m   1325\u001b[0m     temp_arg\u001b[38;5;241m.\u001b[39m_detach()\n",
      "File \u001b[0;32m/usr/local/spark/python/pyspark/sql/utils.py:117\u001b[0m, in \u001b[0;36mcapture_sql_exception.<locals>.deco\u001b[0;34m(*a, **kw)\u001b[0m\n\u001b[1;32m    113\u001b[0m converted \u001b[38;5;241m=\u001b[39m convert_exception(e\u001b[38;5;241m.\u001b[39mjava_exception)\n\u001b[1;32m    114\u001b[0m \u001b[38;5;28;01mif\u001b[39;00m \u001b[38;5;129;01mnot\u001b[39;00m \u001b[38;5;28misinstance\u001b[39m(converted, UnknownException):\n\u001b[1;32m    115\u001b[0m     \u001b[38;5;66;03m# Hide where the exception came from that shows a non-Pythonic\u001b[39;00m\n\u001b[1;32m    116\u001b[0m     \u001b[38;5;66;03m# JVM exception message.\u001b[39;00m\n\u001b[0;32m--> 117\u001b[0m     \u001b[38;5;28;01mraise\u001b[39;00m converted \u001b[38;5;28;01mfrom\u001b[39;00m \u001b[38;5;28mNone\u001b[39m\n\u001b[1;32m    118\u001b[0m \u001b[38;5;28;01melse\u001b[39;00m:\n\u001b[1;32m    119\u001b[0m     \u001b[38;5;28;01mraise\u001b[39;00m\n",
      "\u001b[0;31mAnalysisException\u001b[0m: Invalid call to exprId on unresolved object"
     ]
    },
    {
     "ename": "AnalysisException",
     "evalue": "Invalid call to exprId on unresolved object",
     "output_type": "error",
     "traceback": [
      "\u001b[0;31m---------------------------------------------------------------------------\u001b[0m",
      "\u001b[0;31mAnalysisException\u001b[0m                         Traceback (most recent call last)",
      "File \u001b[0;32m/opt/conda/lib/python3.9/site-packages/IPython/core/formatters.py:343\u001b[0m, in \u001b[0;36mBaseFormatter.__call__\u001b[0;34m(self, obj)\u001b[0m\n\u001b[1;32m    341\u001b[0m     method \u001b[38;5;241m=\u001b[39m get_real_method(obj, \u001b[38;5;28mself\u001b[39m\u001b[38;5;241m.\u001b[39mprint_method)\n\u001b[1;32m    342\u001b[0m     \u001b[38;5;28;01mif\u001b[39;00m method \u001b[38;5;129;01mis\u001b[39;00m \u001b[38;5;129;01mnot\u001b[39;00m \u001b[38;5;28;01mNone\u001b[39;00m:\n\u001b[0;32m--> 343\u001b[0m         \u001b[38;5;28;01mreturn\u001b[39;00m \u001b[43mmethod\u001b[49m\u001b[43m(\u001b[49m\u001b[43m)\u001b[49m\n\u001b[1;32m    344\u001b[0m     \u001b[38;5;28;01mreturn\u001b[39;00m \u001b[38;5;28;01mNone\u001b[39;00m\n\u001b[1;32m    345\u001b[0m \u001b[38;5;28;01melse\u001b[39;00m:\n",
      "File \u001b[0;32m/usr/local/spark/python/pyspark/sql/dataframe.py:522\u001b[0m, in \u001b[0;36mDataFrame._repr_html_\u001b[0;34m(self)\u001b[0m\n\u001b[1;32m    520\u001b[0m \u001b[38;5;28;01mif\u001b[39;00m \u001b[38;5;28mself\u001b[39m\u001b[38;5;241m.\u001b[39msql_ctx\u001b[38;5;241m.\u001b[39m_conf\u001b[38;5;241m.\u001b[39misReplEagerEvalEnabled():\n\u001b[1;32m    521\u001b[0m     max_num_rows \u001b[38;5;241m=\u001b[39m \u001b[38;5;28mmax\u001b[39m(\u001b[38;5;28mself\u001b[39m\u001b[38;5;241m.\u001b[39msql_ctx\u001b[38;5;241m.\u001b[39m_conf\u001b[38;5;241m.\u001b[39mreplEagerEvalMaxNumRows(), \u001b[38;5;241m0\u001b[39m)\n\u001b[0;32m--> 522\u001b[0m     sock_info \u001b[38;5;241m=\u001b[39m \u001b[38;5;28;43mself\u001b[39;49m\u001b[38;5;241;43m.\u001b[39;49m\u001b[43m_jdf\u001b[49m\u001b[38;5;241;43m.\u001b[39;49m\u001b[43mgetRowsToPython\u001b[49m\u001b[43m(\u001b[49m\n\u001b[1;32m    523\u001b[0m \u001b[43m        \u001b[49m\u001b[43mmax_num_rows\u001b[49m\u001b[43m,\u001b[49m\u001b[43m \u001b[49m\u001b[38;5;28;43mself\u001b[39;49m\u001b[38;5;241;43m.\u001b[39;49m\u001b[43msql_ctx\u001b[49m\u001b[38;5;241;43m.\u001b[39;49m\u001b[43m_conf\u001b[49m\u001b[38;5;241;43m.\u001b[39;49m\u001b[43mreplEagerEvalTruncate\u001b[49m\u001b[43m(\u001b[49m\u001b[43m)\u001b[49m\u001b[43m)\u001b[49m\n\u001b[1;32m    524\u001b[0m     rows \u001b[38;5;241m=\u001b[39m \u001b[38;5;28mlist\u001b[39m(_load_from_socket(sock_info, BatchedSerializer(PickleSerializer())))\n\u001b[1;32m    525\u001b[0m     head \u001b[38;5;241m=\u001b[39m rows[\u001b[38;5;241m0\u001b[39m]\n",
      "File \u001b[0;32m/usr/local/spark/python/lib/py4j-0.10.9.3-src.zip/py4j/java_gateway.py:1321\u001b[0m, in \u001b[0;36mJavaMember.__call__\u001b[0;34m(self, *args)\u001b[0m\n\u001b[1;32m   1315\u001b[0m command \u001b[38;5;241m=\u001b[39m proto\u001b[38;5;241m.\u001b[39mCALL_COMMAND_NAME \u001b[38;5;241m+\u001b[39m\\\n\u001b[1;32m   1316\u001b[0m     \u001b[38;5;28mself\u001b[39m\u001b[38;5;241m.\u001b[39mcommand_header \u001b[38;5;241m+\u001b[39m\\\n\u001b[1;32m   1317\u001b[0m     args_command \u001b[38;5;241m+\u001b[39m\\\n\u001b[1;32m   1318\u001b[0m     proto\u001b[38;5;241m.\u001b[39mEND_COMMAND_PART\n\u001b[1;32m   1320\u001b[0m answer \u001b[38;5;241m=\u001b[39m \u001b[38;5;28mself\u001b[39m\u001b[38;5;241m.\u001b[39mgateway_client\u001b[38;5;241m.\u001b[39msend_command(command)\n\u001b[0;32m-> 1321\u001b[0m return_value \u001b[38;5;241m=\u001b[39m \u001b[43mget_return_value\u001b[49m\u001b[43m(\u001b[49m\n\u001b[1;32m   1322\u001b[0m \u001b[43m    \u001b[49m\u001b[43manswer\u001b[49m\u001b[43m,\u001b[49m\u001b[43m \u001b[49m\u001b[38;5;28;43mself\u001b[39;49m\u001b[38;5;241;43m.\u001b[39;49m\u001b[43mgateway_client\u001b[49m\u001b[43m,\u001b[49m\u001b[43m \u001b[49m\u001b[38;5;28;43mself\u001b[39;49m\u001b[38;5;241;43m.\u001b[39;49m\u001b[43mtarget_id\u001b[49m\u001b[43m,\u001b[49m\u001b[43m \u001b[49m\u001b[38;5;28;43mself\u001b[39;49m\u001b[38;5;241;43m.\u001b[39;49m\u001b[43mname\u001b[49m\u001b[43m)\u001b[49m\n\u001b[1;32m   1324\u001b[0m \u001b[38;5;28;01mfor\u001b[39;00m temp_arg \u001b[38;5;129;01min\u001b[39;00m temp_args:\n\u001b[1;32m   1325\u001b[0m     temp_arg\u001b[38;5;241m.\u001b[39m_detach()\n",
      "File \u001b[0;32m/usr/local/spark/python/pyspark/sql/utils.py:117\u001b[0m, in \u001b[0;36mcapture_sql_exception.<locals>.deco\u001b[0;34m(*a, **kw)\u001b[0m\n\u001b[1;32m    113\u001b[0m converted \u001b[38;5;241m=\u001b[39m convert_exception(e\u001b[38;5;241m.\u001b[39mjava_exception)\n\u001b[1;32m    114\u001b[0m \u001b[38;5;28;01mif\u001b[39;00m \u001b[38;5;129;01mnot\u001b[39;00m \u001b[38;5;28misinstance\u001b[39m(converted, UnknownException):\n\u001b[1;32m    115\u001b[0m     \u001b[38;5;66;03m# Hide where the exception came from that shows a non-Pythonic\u001b[39;00m\n\u001b[1;32m    116\u001b[0m     \u001b[38;5;66;03m# JVM exception message.\u001b[39;00m\n\u001b[0;32m--> 117\u001b[0m     \u001b[38;5;28;01mraise\u001b[39;00m converted \u001b[38;5;28;01mfrom\u001b[39;00m \u001b[38;5;28mNone\u001b[39m\n\u001b[1;32m    118\u001b[0m \u001b[38;5;28;01melse\u001b[39;00m:\n\u001b[1;32m    119\u001b[0m     \u001b[38;5;28;01mraise\u001b[39;00m\n",
      "\u001b[0;31mAnalysisException\u001b[0m: Invalid call to exprId on unresolved object"
     ]
    }
   ],
   "source": [
    "kws_title = short_papers.select(col(\"title\"))\n"
   ]
  },
  {
   "cell_type": "code",
   "execution_count": 55,
   "id": "7f920d3a-2e0a-454c-8df7-83bd55c0ece5",
   "metadata": {},
   "outputs": [
    {
     "ename": "AnalysisException",
     "evalue": "Invalid call to nullable on unresolved object",
     "output_type": "error",
     "traceback": [
      "\u001b[0;31m---------------------------------------------------------------------------\u001b[0m",
      "\u001b[0;31mAnalysisException\u001b[0m                         Traceback (most recent call last)",
      "File \u001b[0;32m/opt/conda/lib/python3.9/site-packages/IPython/core/formatters.py:707\u001b[0m, in \u001b[0;36mPlainTextFormatter.__call__\u001b[0;34m(self, obj)\u001b[0m\n\u001b[1;32m    700\u001b[0m stream \u001b[38;5;241m=\u001b[39m StringIO()\n\u001b[1;32m    701\u001b[0m printer \u001b[38;5;241m=\u001b[39m pretty\u001b[38;5;241m.\u001b[39mRepresentationPrinter(stream, \u001b[38;5;28mself\u001b[39m\u001b[38;5;241m.\u001b[39mverbose,\n\u001b[1;32m    702\u001b[0m     \u001b[38;5;28mself\u001b[39m\u001b[38;5;241m.\u001b[39mmax_width, \u001b[38;5;28mself\u001b[39m\u001b[38;5;241m.\u001b[39mnewline,\n\u001b[1;32m    703\u001b[0m     max_seq_length\u001b[38;5;241m=\u001b[39m\u001b[38;5;28mself\u001b[39m\u001b[38;5;241m.\u001b[39mmax_seq_length,\n\u001b[1;32m    704\u001b[0m     singleton_pprinters\u001b[38;5;241m=\u001b[39m\u001b[38;5;28mself\u001b[39m\u001b[38;5;241m.\u001b[39msingleton_printers,\n\u001b[1;32m    705\u001b[0m     type_pprinters\u001b[38;5;241m=\u001b[39m\u001b[38;5;28mself\u001b[39m\u001b[38;5;241m.\u001b[39mtype_printers,\n\u001b[1;32m    706\u001b[0m     deferred_pprinters\u001b[38;5;241m=\u001b[39m\u001b[38;5;28mself\u001b[39m\u001b[38;5;241m.\u001b[39mdeferred_printers)\n\u001b[0;32m--> 707\u001b[0m \u001b[43mprinter\u001b[49m\u001b[38;5;241;43m.\u001b[39;49m\u001b[43mpretty\u001b[49m\u001b[43m(\u001b[49m\u001b[43mobj\u001b[49m\u001b[43m)\u001b[49m\n\u001b[1;32m    708\u001b[0m printer\u001b[38;5;241m.\u001b[39mflush()\n\u001b[1;32m    709\u001b[0m \u001b[38;5;28;01mreturn\u001b[39;00m stream\u001b[38;5;241m.\u001b[39mgetvalue()\n",
      "File \u001b[0;32m/opt/conda/lib/python3.9/site-packages/IPython/lib/pretty.py:410\u001b[0m, in \u001b[0;36mRepresentationPrinter.pretty\u001b[0;34m(self, obj)\u001b[0m\n\u001b[1;32m    407\u001b[0m                         \u001b[38;5;28;01mreturn\u001b[39;00m meth(obj, \u001b[38;5;28mself\u001b[39m, cycle)\n\u001b[1;32m    408\u001b[0m                 \u001b[38;5;28;01mif\u001b[39;00m \u001b[38;5;28mcls\u001b[39m \u001b[38;5;129;01mis\u001b[39;00m \u001b[38;5;129;01mnot\u001b[39;00m \u001b[38;5;28mobject\u001b[39m \\\n\u001b[1;32m    409\u001b[0m                         \u001b[38;5;129;01mand\u001b[39;00m callable(\u001b[38;5;28mcls\u001b[39m\u001b[38;5;241m.\u001b[39m\u001b[38;5;18m__dict__\u001b[39m\u001b[38;5;241m.\u001b[39mget(\u001b[38;5;124m'\u001b[39m\u001b[38;5;124m__repr__\u001b[39m\u001b[38;5;124m'\u001b[39m)):\n\u001b[0;32m--> 410\u001b[0m                     \u001b[38;5;28;01mreturn\u001b[39;00m \u001b[43m_repr_pprint\u001b[49m\u001b[43m(\u001b[49m\u001b[43mobj\u001b[49m\u001b[43m,\u001b[49m\u001b[43m \u001b[49m\u001b[38;5;28;43mself\u001b[39;49m\u001b[43m,\u001b[49m\u001b[43m \u001b[49m\u001b[43mcycle\u001b[49m\u001b[43m)\u001b[49m\n\u001b[1;32m    412\u001b[0m     \u001b[38;5;28;01mreturn\u001b[39;00m _default_pprint(obj, \u001b[38;5;28mself\u001b[39m, cycle)\n\u001b[1;32m    413\u001b[0m \u001b[38;5;28;01mfinally\u001b[39;00m:\n",
      "File \u001b[0;32m/opt/conda/lib/python3.9/site-packages/IPython/lib/pretty.py:778\u001b[0m, in \u001b[0;36m_repr_pprint\u001b[0;34m(obj, p, cycle)\u001b[0m\n\u001b[1;32m    776\u001b[0m \u001b[38;5;124;03m\"\"\"A pprint that just redirects to the normal repr function.\"\"\"\u001b[39;00m\n\u001b[1;32m    777\u001b[0m \u001b[38;5;66;03m# Find newlines and replace them with p.break_()\u001b[39;00m\n\u001b[0;32m--> 778\u001b[0m output \u001b[38;5;241m=\u001b[39m \u001b[38;5;28;43mrepr\u001b[39;49m\u001b[43m(\u001b[49m\u001b[43mobj\u001b[49m\u001b[43m)\u001b[49m\n\u001b[1;32m    779\u001b[0m lines \u001b[38;5;241m=\u001b[39m output\u001b[38;5;241m.\u001b[39msplitlines()\n\u001b[1;32m    780\u001b[0m \u001b[38;5;28;01mwith\u001b[39;00m p\u001b[38;5;241m.\u001b[39mgroup():\n",
      "File \u001b[0;32m/usr/local/spark/python/pyspark/sql/dataframe.py:507\u001b[0m, in \u001b[0;36mDataFrame.__repr__\u001b[0;34m(self)\u001b[0m\n\u001b[1;32m    505\u001b[0m \u001b[38;5;28;01mif\u001b[39;00m \u001b[38;5;129;01mnot\u001b[39;00m \u001b[38;5;28mself\u001b[39m\u001b[38;5;241m.\u001b[39m_support_repr_html \u001b[38;5;129;01mand\u001b[39;00m \u001b[38;5;28mself\u001b[39m\u001b[38;5;241m.\u001b[39msql_ctx\u001b[38;5;241m.\u001b[39m_conf\u001b[38;5;241m.\u001b[39misReplEagerEvalEnabled():\n\u001b[1;32m    506\u001b[0m     vertical \u001b[38;5;241m=\u001b[39m \u001b[38;5;28;01mFalse\u001b[39;00m\n\u001b[0;32m--> 507\u001b[0m     \u001b[38;5;28;01mreturn\u001b[39;00m \u001b[38;5;28;43mself\u001b[39;49m\u001b[38;5;241;43m.\u001b[39;49m\u001b[43m_jdf\u001b[49m\u001b[38;5;241;43m.\u001b[39;49m\u001b[43mshowString\u001b[49m\u001b[43m(\u001b[49m\n\u001b[1;32m    508\u001b[0m \u001b[43m        \u001b[49m\u001b[38;5;28;43mself\u001b[39;49m\u001b[38;5;241;43m.\u001b[39;49m\u001b[43msql_ctx\u001b[49m\u001b[38;5;241;43m.\u001b[39;49m\u001b[43m_conf\u001b[49m\u001b[38;5;241;43m.\u001b[39;49m\u001b[43mreplEagerEvalMaxNumRows\u001b[49m\u001b[43m(\u001b[49m\u001b[43m)\u001b[49m\u001b[43m,\u001b[49m\n\u001b[1;32m    509\u001b[0m \u001b[43m        \u001b[49m\u001b[38;5;28;43mself\u001b[39;49m\u001b[38;5;241;43m.\u001b[39;49m\u001b[43msql_ctx\u001b[49m\u001b[38;5;241;43m.\u001b[39;49m\u001b[43m_conf\u001b[49m\u001b[38;5;241;43m.\u001b[39;49m\u001b[43mreplEagerEvalTruncate\u001b[49m\u001b[43m(\u001b[49m\u001b[43m)\u001b[49m\u001b[43m,\u001b[49m\u001b[43m \u001b[49m\u001b[43mvertical\u001b[49m\u001b[43m)\u001b[49m\n\u001b[1;32m    510\u001b[0m \u001b[38;5;28;01melse\u001b[39;00m:\n\u001b[1;32m    511\u001b[0m     \u001b[38;5;28;01mreturn\u001b[39;00m \u001b[38;5;124m\"\u001b[39m\u001b[38;5;124mDataFrame[\u001b[39m\u001b[38;5;132;01m%s\u001b[39;00m\u001b[38;5;124m]\u001b[39m\u001b[38;5;124m\"\u001b[39m \u001b[38;5;241m%\u001b[39m (\u001b[38;5;124m\"\u001b[39m\u001b[38;5;124m, \u001b[39m\u001b[38;5;124m\"\u001b[39m\u001b[38;5;241m.\u001b[39mjoin(\u001b[38;5;124m\"\u001b[39m\u001b[38;5;132;01m%s\u001b[39;00m\u001b[38;5;124m: \u001b[39m\u001b[38;5;132;01m%s\u001b[39;00m\u001b[38;5;124m\"\u001b[39m \u001b[38;5;241m%\u001b[39m c \u001b[38;5;28;01mfor\u001b[39;00m c \u001b[38;5;129;01min\u001b[39;00m \u001b[38;5;28mself\u001b[39m\u001b[38;5;241m.\u001b[39mdtypes))\n",
      "File \u001b[0;32m/usr/local/spark/python/lib/py4j-0.10.9.3-src.zip/py4j/java_gateway.py:1321\u001b[0m, in \u001b[0;36mJavaMember.__call__\u001b[0;34m(self, *args)\u001b[0m\n\u001b[1;32m   1315\u001b[0m command \u001b[38;5;241m=\u001b[39m proto\u001b[38;5;241m.\u001b[39mCALL_COMMAND_NAME \u001b[38;5;241m+\u001b[39m\\\n\u001b[1;32m   1316\u001b[0m     \u001b[38;5;28mself\u001b[39m\u001b[38;5;241m.\u001b[39mcommand_header \u001b[38;5;241m+\u001b[39m\\\n\u001b[1;32m   1317\u001b[0m     args_command \u001b[38;5;241m+\u001b[39m\\\n\u001b[1;32m   1318\u001b[0m     proto\u001b[38;5;241m.\u001b[39mEND_COMMAND_PART\n\u001b[1;32m   1320\u001b[0m answer \u001b[38;5;241m=\u001b[39m \u001b[38;5;28mself\u001b[39m\u001b[38;5;241m.\u001b[39mgateway_client\u001b[38;5;241m.\u001b[39msend_command(command)\n\u001b[0;32m-> 1321\u001b[0m return_value \u001b[38;5;241m=\u001b[39m \u001b[43mget_return_value\u001b[49m\u001b[43m(\u001b[49m\n\u001b[1;32m   1322\u001b[0m \u001b[43m    \u001b[49m\u001b[43manswer\u001b[49m\u001b[43m,\u001b[49m\u001b[43m \u001b[49m\u001b[38;5;28;43mself\u001b[39;49m\u001b[38;5;241;43m.\u001b[39;49m\u001b[43mgateway_client\u001b[49m\u001b[43m,\u001b[49m\u001b[43m \u001b[49m\u001b[38;5;28;43mself\u001b[39;49m\u001b[38;5;241;43m.\u001b[39;49m\u001b[43mtarget_id\u001b[49m\u001b[43m,\u001b[49m\u001b[43m \u001b[49m\u001b[38;5;28;43mself\u001b[39;49m\u001b[38;5;241;43m.\u001b[39;49m\u001b[43mname\u001b[49m\u001b[43m)\u001b[49m\n\u001b[1;32m   1324\u001b[0m \u001b[38;5;28;01mfor\u001b[39;00m temp_arg \u001b[38;5;129;01min\u001b[39;00m temp_args:\n\u001b[1;32m   1325\u001b[0m     temp_arg\u001b[38;5;241m.\u001b[39m_detach()\n",
      "File \u001b[0;32m/usr/local/spark/python/pyspark/sql/utils.py:117\u001b[0m, in \u001b[0;36mcapture_sql_exception.<locals>.deco\u001b[0;34m(*a, **kw)\u001b[0m\n\u001b[1;32m    113\u001b[0m converted \u001b[38;5;241m=\u001b[39m convert_exception(e\u001b[38;5;241m.\u001b[39mjava_exception)\n\u001b[1;32m    114\u001b[0m \u001b[38;5;28;01mif\u001b[39;00m \u001b[38;5;129;01mnot\u001b[39;00m \u001b[38;5;28misinstance\u001b[39m(converted, UnknownException):\n\u001b[1;32m    115\u001b[0m     \u001b[38;5;66;03m# Hide where the exception came from that shows a non-Pythonic\u001b[39;00m\n\u001b[1;32m    116\u001b[0m     \u001b[38;5;66;03m# JVM exception message.\u001b[39;00m\n\u001b[0;32m--> 117\u001b[0m     \u001b[38;5;28;01mraise\u001b[39;00m converted \u001b[38;5;28;01mfrom\u001b[39;00m \u001b[38;5;28mNone\u001b[39m\n\u001b[1;32m    118\u001b[0m \u001b[38;5;28;01melse\u001b[39;00m:\n\u001b[1;32m    119\u001b[0m     \u001b[38;5;28;01mraise\u001b[39;00m\n",
      "\u001b[0;31mAnalysisException\u001b[0m: Invalid call to nullable on unresolved object"
     ]
    },
    {
     "ename": "AnalysisException",
     "evalue": "Invalid call to nullable on unresolved object",
     "output_type": "error",
     "traceback": [
      "\u001b[0;31m---------------------------------------------------------------------------\u001b[0m",
      "\u001b[0;31mAnalysisException\u001b[0m                         Traceback (most recent call last)",
      "File \u001b[0;32m/opt/conda/lib/python3.9/site-packages/IPython/core/formatters.py:343\u001b[0m, in \u001b[0;36mBaseFormatter.__call__\u001b[0;34m(self, obj)\u001b[0m\n\u001b[1;32m    341\u001b[0m     method \u001b[38;5;241m=\u001b[39m get_real_method(obj, \u001b[38;5;28mself\u001b[39m\u001b[38;5;241m.\u001b[39mprint_method)\n\u001b[1;32m    342\u001b[0m     \u001b[38;5;28;01mif\u001b[39;00m method \u001b[38;5;129;01mis\u001b[39;00m \u001b[38;5;129;01mnot\u001b[39;00m \u001b[38;5;28;01mNone\u001b[39;00m:\n\u001b[0;32m--> 343\u001b[0m         \u001b[38;5;28;01mreturn\u001b[39;00m \u001b[43mmethod\u001b[49m\u001b[43m(\u001b[49m\u001b[43m)\u001b[49m\n\u001b[1;32m    344\u001b[0m     \u001b[38;5;28;01mreturn\u001b[39;00m \u001b[38;5;28;01mNone\u001b[39;00m\n\u001b[1;32m    345\u001b[0m \u001b[38;5;28;01melse\u001b[39;00m:\n",
      "File \u001b[0;32m/usr/local/spark/python/pyspark/sql/dataframe.py:522\u001b[0m, in \u001b[0;36mDataFrame._repr_html_\u001b[0;34m(self)\u001b[0m\n\u001b[1;32m    520\u001b[0m \u001b[38;5;28;01mif\u001b[39;00m \u001b[38;5;28mself\u001b[39m\u001b[38;5;241m.\u001b[39msql_ctx\u001b[38;5;241m.\u001b[39m_conf\u001b[38;5;241m.\u001b[39misReplEagerEvalEnabled():\n\u001b[1;32m    521\u001b[0m     max_num_rows \u001b[38;5;241m=\u001b[39m \u001b[38;5;28mmax\u001b[39m(\u001b[38;5;28mself\u001b[39m\u001b[38;5;241m.\u001b[39msql_ctx\u001b[38;5;241m.\u001b[39m_conf\u001b[38;5;241m.\u001b[39mreplEagerEvalMaxNumRows(), \u001b[38;5;241m0\u001b[39m)\n\u001b[0;32m--> 522\u001b[0m     sock_info \u001b[38;5;241m=\u001b[39m \u001b[38;5;28;43mself\u001b[39;49m\u001b[38;5;241;43m.\u001b[39;49m\u001b[43m_jdf\u001b[49m\u001b[38;5;241;43m.\u001b[39;49m\u001b[43mgetRowsToPython\u001b[49m\u001b[43m(\u001b[49m\n\u001b[1;32m    523\u001b[0m \u001b[43m        \u001b[49m\u001b[43mmax_num_rows\u001b[49m\u001b[43m,\u001b[49m\u001b[43m \u001b[49m\u001b[38;5;28;43mself\u001b[39;49m\u001b[38;5;241;43m.\u001b[39;49m\u001b[43msql_ctx\u001b[49m\u001b[38;5;241;43m.\u001b[39;49m\u001b[43m_conf\u001b[49m\u001b[38;5;241;43m.\u001b[39;49m\u001b[43mreplEagerEvalTruncate\u001b[49m\u001b[43m(\u001b[49m\u001b[43m)\u001b[49m\u001b[43m)\u001b[49m\n\u001b[1;32m    524\u001b[0m     rows \u001b[38;5;241m=\u001b[39m \u001b[38;5;28mlist\u001b[39m(_load_from_socket(sock_info, BatchedSerializer(PickleSerializer())))\n\u001b[1;32m    525\u001b[0m     head \u001b[38;5;241m=\u001b[39m rows[\u001b[38;5;241m0\u001b[39m]\n",
      "File \u001b[0;32m/usr/local/spark/python/lib/py4j-0.10.9.3-src.zip/py4j/java_gateway.py:1321\u001b[0m, in \u001b[0;36mJavaMember.__call__\u001b[0;34m(self, *args)\u001b[0m\n\u001b[1;32m   1315\u001b[0m command \u001b[38;5;241m=\u001b[39m proto\u001b[38;5;241m.\u001b[39mCALL_COMMAND_NAME \u001b[38;5;241m+\u001b[39m\\\n\u001b[1;32m   1316\u001b[0m     \u001b[38;5;28mself\u001b[39m\u001b[38;5;241m.\u001b[39mcommand_header \u001b[38;5;241m+\u001b[39m\\\n\u001b[1;32m   1317\u001b[0m     args_command \u001b[38;5;241m+\u001b[39m\\\n\u001b[1;32m   1318\u001b[0m     proto\u001b[38;5;241m.\u001b[39mEND_COMMAND_PART\n\u001b[1;32m   1320\u001b[0m answer \u001b[38;5;241m=\u001b[39m \u001b[38;5;28mself\u001b[39m\u001b[38;5;241m.\u001b[39mgateway_client\u001b[38;5;241m.\u001b[39msend_command(command)\n\u001b[0;32m-> 1321\u001b[0m return_value \u001b[38;5;241m=\u001b[39m \u001b[43mget_return_value\u001b[49m\u001b[43m(\u001b[49m\n\u001b[1;32m   1322\u001b[0m \u001b[43m    \u001b[49m\u001b[43manswer\u001b[49m\u001b[43m,\u001b[49m\u001b[43m \u001b[49m\u001b[38;5;28;43mself\u001b[39;49m\u001b[38;5;241;43m.\u001b[39;49m\u001b[43mgateway_client\u001b[49m\u001b[43m,\u001b[49m\u001b[43m \u001b[49m\u001b[38;5;28;43mself\u001b[39;49m\u001b[38;5;241;43m.\u001b[39;49m\u001b[43mtarget_id\u001b[49m\u001b[43m,\u001b[49m\u001b[43m \u001b[49m\u001b[38;5;28;43mself\u001b[39;49m\u001b[38;5;241;43m.\u001b[39;49m\u001b[43mname\u001b[49m\u001b[43m)\u001b[49m\n\u001b[1;32m   1324\u001b[0m \u001b[38;5;28;01mfor\u001b[39;00m temp_arg \u001b[38;5;129;01min\u001b[39;00m temp_args:\n\u001b[1;32m   1325\u001b[0m     temp_arg\u001b[38;5;241m.\u001b[39m_detach()\n",
      "File \u001b[0;32m/usr/local/spark/python/pyspark/sql/utils.py:117\u001b[0m, in \u001b[0;36mcapture_sql_exception.<locals>.deco\u001b[0;34m(*a, **kw)\u001b[0m\n\u001b[1;32m    113\u001b[0m converted \u001b[38;5;241m=\u001b[39m convert_exception(e\u001b[38;5;241m.\u001b[39mjava_exception)\n\u001b[1;32m    114\u001b[0m \u001b[38;5;28;01mif\u001b[39;00m \u001b[38;5;129;01mnot\u001b[39;00m \u001b[38;5;28misinstance\u001b[39m(converted, UnknownException):\n\u001b[1;32m    115\u001b[0m     \u001b[38;5;66;03m# Hide where the exception came from that shows a non-Pythonic\u001b[39;00m\n\u001b[1;32m    116\u001b[0m     \u001b[38;5;66;03m# JVM exception message.\u001b[39;00m\n\u001b[0;32m--> 117\u001b[0m     \u001b[38;5;28;01mraise\u001b[39;00m converted \u001b[38;5;28;01mfrom\u001b[39;00m \u001b[38;5;28mNone\u001b[39m\n\u001b[1;32m    118\u001b[0m \u001b[38;5;28;01melse\u001b[39;00m:\n\u001b[1;32m    119\u001b[0m     \u001b[38;5;28;01mraise\u001b[39;00m\n",
      "\u001b[0;31mAnalysisException\u001b[0m: Invalid call to nullable on unresolved object"
     ]
    }
   ],
   "source": [
    "kwds_tit.limit(10)"
   ]
  },
  {
   "cell_type": "code",
   "execution_count": null,
   "id": "35538b91-9686-4db0-81e1-acc31d19359b",
   "metadata": {},
   "outputs": [],
   "source": []
  }
 ],
 "metadata": {
  "kernelspec": {
   "display_name": "Python 3 (ipykernel)",
   "language": "python",
   "name": "python3"
  },
  "language_info": {
   "codemirror_mode": {
    "name": "ipython",
    "version": 3
   },
   "file_extension": ".py",
   "mimetype": "text/x-python",
   "name": "python",
   "nbconvert_exporter": "python",
   "pygments_lexer": "ipython3",
   "version": "3.9.10"
  }
 },
 "nbformat": 4,
 "nbformat_minor": 5
}
