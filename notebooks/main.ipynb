{
 "cells": [
  {
   "cell_type": "code",
   "execution_count": 1,
   "id": "dc871749-7cec-4cc8-b50c-294728ca41bd",
   "metadata": {},
   "outputs": [],
   "source": [
    "import findspark\n",
    "findspark.init()\n",
    "\n",
    "from pyspark.sql import SparkSession\n",
    "from pyspark.sql.functions import format_number, mean, min, max, corr, stddev\n",
    "from pyspark.sql.functions import (dayofmonth, hour, dayofyear, month, year, weekofyear, format_number, date_format, asc, desc)"
   ]
  },
  {
   "cell_type": "code",
   "execution_count": 2,
   "id": "f80cd0d4-f861-4434-ba1c-b5eac60c97b9",
   "metadata": {},
   "outputs": [],
   "source": [
    "# Build a SparkSession named as \"test123\"\n",
    "spark = SparkSession.builder \\\n",
    "    .appName('test_123') \\\n",
    "    .master('local[*]') \\\n",
    "    .config('spark.sql.execution.arrow.pyspark.enabled', True) \\\n",
    "    .config('spark.sql.session.timeZone', 'UTC') \\\n",
    "    .config('spark.driver.memory','8g') \\\n",
    "    .config('spark.ui.showConsoleProgress', True) \\\n",
    "    .config('spark.sql.repl.eagerEval.enabled', True) \\\n",
    "    .getOrCreate()"
   ]
  },
  {
   "cell_type": "code",
   "execution_count": 3,
   "id": "a2076720-e4c0-4e7b-be81-53de2b175271",
   "metadata": {},
   "outputs": [],
   "source": [
    "sales = spark.read.parquet(\"./data/sales_parquet/\")\n",
    "products = spark.read.parquet(\"./data/products_parquet/\")\n",
    "sellers = spark.read.parquet(\"./data/sellers_parquet/\")"
   ]
  },
  {
   "cell_type": "code",
   "execution_count": 4,
   "id": "9fcbaac0-bdc3-4381-8356-33a2397f0275",
   "metadata": {},
   "outputs": [
    {
     "name": "stdout",
     "output_type": "stream",
     "text": [
      "root\n",
      " |-- seller_id: string (nullable = true)\n",
      " |-- product_id: string (nullable = true)\n",
      " |-- order_id: string (nullable = true)\n",
      " |-- date: string (nullable = true)\n",
      " |-- num_pieces_sold: string (nullable = true)\n",
      " |-- bill_raw_text: string (nullable = true)\n",
      " |-- product_name: string (nullable = true)\n",
      " |-- price: string (nullable = true)\n",
      " |-- seller_name: string (nullable = true)\n",
      " |-- daily_target: string (nullable = true)\n",
      "\n"
     ]
    }
   ],
   "source": [
    "combined = sales.join(products, on=\"product_id\").join(sellers, on=\"seller_id\")\n",
    "combined.printSchema()"
   ]
  },
  {
   "cell_type": "code",
   "execution_count": 5,
   "id": "b8927bb4-b56c-40cc-bbf1-bd9d1755b9e6",
   "metadata": {},
   "outputs": [
    {
     "name": "stdout",
     "output_type": "stream",
     "text": [
      "root\n",
      " |-- seller_id: integer (nullable = true)\n",
      " |-- product_id: integer (nullable = true)\n",
      " |-- date: string (nullable = true)\n",
      " |-- num_pieces_sold: integer (nullable = true)\n",
      " |-- price: integer (nullable = true)\n",
      " |-- daily_target: integer (nullable = true)\n",
      "\n"
     ]
    }
   ],
   "source": [
    "casted_combined = combined.select(\n",
    "    combined[\"seller_id\"].cast(\"int\"),\n",
    "    combined[\"product_id\"].cast(\"int\"),\n",
    "    combined[\"date\"],\n",
    "    combined[\"num_pieces_sold\"].cast(\"int\"),\n",
    "    combined[\"price\"].cast(\"int\"),\n",
    "    combined[\"daily_target\"].cast(\"int\")\n",
    ")\n",
    "casted_combined.printSchema()"
   ]
  },
  {
   "cell_type": "code",
   "execution_count": 7,
   "id": "6f60e246-2749-474b-8578-1f4b6b9b7927",
   "metadata": {},
   "outputs": [
    {
     "data": {
      "text/plain": [
       "20000040"
      ]
     },
     "execution_count": 7,
     "metadata": {},
     "output_type": "execute_result"
    }
   ],
   "source": [
    "casted_combined.count()"
   ]
  },
  {
   "cell_type": "markdown",
   "id": "022ab0ba-08ab-46a2-a5a7-e18d97c800a3",
   "metadata": {},
   "source": [
    "## Task-1: How many distinct products are sold each day?"
   ]
  },
  {
   "cell_type": "code",
   "execution_count": 6,
   "id": "5ea41d56-fc6a-406c-8e41-043239712ed9",
   "metadata": {},
   "outputs": [
    {
     "name": "stdout",
     "output_type": "stream",
     "text": [
      "root\n",
      " |-- order_id: string (nullable = true)\n",
      " |-- product_id: string (nullable = true)\n",
      " |-- seller_id: string (nullable = true)\n",
      " |-- date: string (nullable = true)\n",
      " |-- num_pieces_sold: string (nullable = true)\n",
      " |-- bill_raw_text: string (nullable = true)\n",
      "\n"
     ]
    }
   ],
   "source": [
    "sales.printSchema()"
   ]
  },
  {
   "cell_type": "code",
   "execution_count": 9,
   "id": "c57063fe-92be-45a7-a8d7-bd78a51720d0",
   "metadata": {},
   "outputs": [
    {
     "data": {
      "text/html": [
       "<table border='1'>\n",
       "<tr><th>date</th><th>count</th></tr>\n",
       "<tr><td>2020-07-03</td><td>100017</td></tr>\n",
       "<tr><td>2020-07-07</td><td>99756</td></tr>\n",
       "<tr><td>2020-07-01</td><td>100337</td></tr>\n",
       "<tr><td>2020-07-08</td><td>99662</td></tr>\n",
       "<tr><td>2020-07-04</td><td>99791</td></tr>\n",
       "<tr><td>2020-07-10</td><td>98973</td></tr>\n",
       "<tr><td>2020-07-09</td><td>100501</td></tr>\n",
       "<tr><td>2020-07-06</td><td>100765</td></tr>\n",
       "<tr><td>2020-07-02</td><td>99807</td></tr>\n",
       "<tr><td>2020-07-05</td><td>99796</td></tr>\n",
       "</table>\n"
      ],
      "text/plain": [
       "+----------+------+\n",
       "|      date| count|\n",
       "+----------+------+\n",
       "|2020-07-03|100017|\n",
       "|2020-07-07| 99756|\n",
       "|2020-07-01|100337|\n",
       "|2020-07-08| 99662|\n",
       "|2020-07-04| 99791|\n",
       "|2020-07-10| 98973|\n",
       "|2020-07-09|100501|\n",
       "|2020-07-06|100765|\n",
       "|2020-07-02| 99807|\n",
       "|2020-07-05| 99796|\n",
       "+----------+------+"
      ]
     },
     "execution_count": 9,
     "metadata": {},
     "output_type": "execute_result"
    }
   ],
   "source": [
    "dd = sales.select(\"date\", \"product_id\").distinct().groupby(\"date\").count()\n",
    "\n",
    "dd"
   ]
  },
  {
   "cell_type": "markdown",
   "id": "f3a46144-0629-4bff-9f1a-43bcab8d16e0",
   "metadata": {},
   "source": [
    "## Task-2: What is the average revenue of the orders?"
   ]
  },
  {
   "cell_type": "code",
   "execution_count": 31,
   "id": "a50795b6-0221-47c8-8368-c9c58229f7ff",
   "metadata": {},
   "outputs": [],
   "source": [
    "from pyspark.sql.functions import mean as _mean, col"
   ]
  },
  {
   "cell_type": "code",
   "execution_count": 35,
   "id": "bf8e8c11-afa5-4e04-a2c8-91fb99bb4a42",
   "metadata": {},
   "outputs": [],
   "source": [
    "dd = casted_combined.\\\n",
    "    withColumn(\"total\", casted_combined[\"num_pieces_sold\"]*casted_combined[\"price\"]).\\\n",
    "    select(_mean(col(\"total\")))"
   ]
  },
  {
   "cell_type": "code",
   "execution_count": 36,
   "id": "5b3ef746-de70-42a0-9ba0-5499a40c7379",
   "metadata": {},
   "outputs": [
    {
     "name": "stdout",
     "output_type": "stream",
     "text": [
      "root\n",
      " |-- avg(total): double (nullable = true)\n",
      "\n"
     ]
    }
   ],
   "source": [
    "dd.printSchema()"
   ]
  },
  {
   "cell_type": "code",
   "execution_count": 37,
   "id": "63f3dcef-e11f-4159-b646-aa57a6805c9f",
   "metadata": {},
   "outputs": [
    {
     "name": "stdout",
     "output_type": "stream",
     "text": [
      "+------------------+\n",
      "|        avg(total)|\n",
      "+------------------+\n",
      "|1246.1338560822878|\n",
      "+------------------+\n",
      "\n"
     ]
    }
   ],
   "source": [
    "dd.show()"
   ]
  },
  {
   "cell_type": "markdown",
   "id": "3c682612-b6b1-42ee-9e36-62fa320b1a90",
   "metadata": {},
   "source": [
    "## Task-3: What is the average daily revenue of each product?"
   ]
  },
  {
   "cell_type": "code",
   "execution_count": 10,
   "id": "b84a6d18-8369-43c4-a663-363410fd4a93",
   "metadata": {},
   "outputs": [
    {
     "name": "stdout",
     "output_type": "stream",
     "text": [
      "root\n",
      " |-- seller_id: integer (nullable = true)\n",
      " |-- product_id: integer (nullable = true)\n",
      " |-- date: string (nullable = true)\n",
      " |-- num_pieces_sold: integer (nullable = true)\n",
      " |-- price: integer (nullable = true)\n",
      " |-- daily_target: integer (nullable = true)\n",
      "\n"
     ]
    }
   ],
   "source": [
    "casted_combined.printSchema()"
   ]
  },
  {
   "cell_type": "code",
   "execution_count": 61,
   "id": "82a6a5be-f96b-473b-b219-b028674af750",
   "metadata": {},
   "outputs": [
    {
     "name": "stdout",
     "output_type": "stream",
     "text": [
      "+----------+\n",
      "|      date|\n",
      "+----------+\n",
      "|2020-07-03|\n",
      "|2020-07-07|\n",
      "|2020-07-01|\n",
      "|2020-07-08|\n",
      "|2020-07-04|\n",
      "|2020-07-10|\n",
      "|2020-07-09|\n",
      "|2020-07-06|\n",
      "|2020-07-02|\n",
      "|2020-07-05|\n",
      "+----------+\n",
      "\n"
     ]
    }
   ],
   "source": [
    "sales.select(\"date\").distinct().show()"
   ]
  },
  {
   "cell_type": "code",
   "execution_count": 76,
   "id": "8496f6b0-6797-404d-8205-3056482f7487",
   "metadata": {},
   "outputs": [],
   "source": [
    "dd = casted_combined.filter(\"date == '2020-07-03'\").\\\n",
    "    withColumn(\"R\", col(\"price\")*col(\"num_pieces_sold\")).\\\n",
    "    groupBy(\"date\", \"product_id\").mean(\"R\").\\\n",
    "    groupBy(\"product_id\").mean(\"avg(R)\").\\\n",
    "    withColumnRenamed(\"avg(avg(R))\", \"avg\").\\\n",
    "    sort(desc(\"avg\"))\n"
   ]
  },
  {
   "cell_type": "code",
   "execution_count": 77,
   "id": "3cc6312a-95f6-4ce1-aa4f-f9e554ba4a3b",
   "metadata": {},
   "outputs": [
    {
     "name": "stdout",
     "output_type": "stream",
     "text": [
      "root\n",
      " |-- product_id: integer (nullable = true)\n",
      " |-- avg: double (nullable = true)\n",
      "\n"
     ]
    }
   ],
   "source": [
    "dd.printSchema()"
   ]
  },
  {
   "cell_type": "code",
   "execution_count": 78,
   "id": "6cba5b38-9033-4885-aa06-760d36e095b3",
   "metadata": {},
   "outputs": [
    {
     "name": "stdout",
     "output_type": "stream",
     "text": [
      "+----------+-------+\n",
      "|product_id|    avg|\n",
      "+----------+-------+\n",
      "|  13771931|15000.0|\n",
      "|  18328448|15000.0|\n",
      "|  18711217|15000.0|\n",
      "|  19451022|15000.0|\n",
      "|  61768749|15000.0|\n",
      "|  62043848|15000.0|\n",
      "|  59241451|14900.0|\n",
      "|  57515495|14900.0|\n",
      "|  15922094|14900.0|\n",
      "|  35784427|14900.0|\n",
      "+----------+-------+\n",
      "\n"
     ]
    }
   ],
   "source": [
    "dd.limit(10).show()"
   ]
  },
  {
   "cell_type": "markdown",
   "id": "d36c1237-1bb6-4e82-a7a3-c48f838f7d0a",
   "metadata": {},
   "source": [
    "## Task-4: For each seller, what is the average % contribution of an order to the sellers daily quota? "
   ]
  },
  {
   "cell_type": "code",
   "execution_count": 126,
   "id": "5b17c342-7a34-4700-8189-63894e71eb88",
   "metadata": {},
   "outputs": [],
   "source": [
    "import seaborn as sns"
   ]
  },
  {
   "cell_type": "code",
   "execution_count": 79,
   "id": "0f14be00-1291-4e3a-8181-78d2dfc86384",
   "metadata": {},
   "outputs": [
    {
     "name": "stdout",
     "output_type": "stream",
     "text": [
      "root\n",
      " |-- seller_id: integer (nullable = true)\n",
      " |-- product_id: integer (nullable = true)\n",
      " |-- date: string (nullable = true)\n",
      " |-- num_pieces_sold: integer (nullable = true)\n",
      " |-- price: integer (nullable = true)\n",
      " |-- daily_target: integer (nullable = true)\n",
      "\n"
     ]
    }
   ],
   "source": [
    "casted_combined.printSchema()"
   ]
  },
  {
   "cell_type": "code",
   "execution_count": 124,
   "id": "35086eed-eb13-40d0-8961-dc71657950d4",
   "metadata": {},
   "outputs": [],
   "source": [
    "ppp = casted_combined.\\\n",
    "    select(\"date\", \"seller_id\", \"daily_target\").\\\n",
    "    groupby(\"date\", \"seller_id\", \"daily_target\").count().\\\n",
    "    withColumn(\"contr\", 100*col(\"count\")/col(\"daily_target\")).\\\n",
    "    groupby(\"seller_id\").mean(\"contr\").\\\n",
    "    sort(desc(\"avg(contr)\"));"
   ]
  },
  {
   "cell_type": "code",
   "execution_count": 138,
   "id": "c0323feb-93de-4aa2-80e3-2d58344d5fca",
   "metadata": {},
   "outputs": [
    {
     "name": "stdout",
     "output_type": "stream",
     "text": [
      "root\n",
      " |-- date: string (nullable = true)\n",
      " |-- seller_id: integer (nullable = true)\n",
      " |-- contr: double (nullable = true)\n",
      "\n"
     ]
    }
   ],
   "source": [
    "df4 = casted_combined.\\\n",
    "    select(\"date\", \"seller_id\", \"daily_target\").\\\n",
    "    groupby(\"date\", \"seller_id\", \"daily_target\").count().\\\n",
    "    withColumn(\"contr\", 100*col(\"count\")/col(\"daily_target\")).\\\n",
    "    select(\"date\", \"seller_id\", \"contr\").\\\n",
    "    sort(desc(\"seller_id\"));\n",
    "df4.printSchema()\n"
   ]
  },
  {
   "cell_type": "code",
   "execution_count": 172,
   "id": "d8382851-d095-4fed-bd8e-1dd6672a2975",
   "metadata": {},
   "outputs": [],
   "source": [
    "import pandas as pd"
   ]
  },
  {
   "cell_type": "code",
   "execution_count": 204,
   "id": "cd396c0e-a9d3-4366-abe2-8ac789a985ee",
   "metadata": {},
   "outputs": [],
   "source": [
    "pdf4 = df4.limit(100).toPandas()\n",
    "pdf4_ = pdf4.copy();"
   ]
  },
  {
   "cell_type": "code",
   "execution_count": 219,
   "id": "3738b589-3c0c-4f23-8db4-90258ebf599f",
   "metadata": {},
   "outputs": [],
   "source": [
    "pdf4 = pdf4_.copy()\n",
    "pdf4[\"day\"] = pdf4[\"date\"].str[-2:].astype(\"int\")\n",
    "pdf4[\"seller_id\"] = pdf4[\"seller_id\"].astype(\"int\")"
   ]
  },
  {
   "cell_type": "code",
   "execution_count": 229,
   "id": "7c82838b-a9a7-49de-8aa1-156512453bc1",
   "metadata": {},
   "outputs": [],
   "source": [
    "from plotnine import ggplot, aes, facet_grid, facet_wrap, geom_line, geom_point"
   ]
  },
  {
   "cell_type": "code",
   "execution_count": 233,
   "id": "dfd69714-346d-4669-89ff-da7c3386343f",
   "metadata": {},
   "outputs": [
    {
     "name": "stderr",
     "output_type": "stream",
     "text": [
      "/opt/conda/lib/python3.9/site-packages/plotnine/utils.py:371: FutureWarning: The frame.append method is deprecated and will be removed from pandas in a future version. Use pandas.concat instead.\n",
      "/opt/conda/lib/python3.9/site-packages/plotnine/facets/facet.py:390: PlotnineWarning: If you need more space for the x-axis tick text use ... + theme(subplots_adjust={'wspace': 0.25}). Choose an appropriate value for 'wspace'.\n",
      "/opt/conda/lib/python3.9/site-packages/plotnine/facets/facet.py:396: PlotnineWarning: If you need more space for the y-axis tick text use ... + theme(subplots_adjust={'hspace': 0.25}). Choose an appropriate value for 'hspace'\n"
     ]
    },
    {
     "data": {
      "image/png": "[encoded data removed]",
      "text/plain": [
       "<Figure size 640x480 with 4 Axes>"
      ]
     },
     "metadata": {},
     "output_type": "display_data"
    },
    {
     "data": {
      "text/plain": [
       "<ggplot: (8747039498454)>"
      ]
     },
     "execution_count": 233,
     "metadata": {},
     "output_type": "execute_result"
    }
   ],
   "source": [
    "(\n",
    " ggplot(pdf4.query(\"seller_id<4\")) + aes(x=\"day\", y=\"contr\") + \n",
    "    geom_line() + facet_wrap(\"seller_id\", scales=\"free\")\n",
    ")"
   ]
  },
  {
   "cell_type": "code",
   "execution_count": 251,
   "id": "3052b1f3-4f6f-460e-97d5-8fdaaac87158",
   "metadata": {},
   "outputs": [
    {
     "name": "stdout",
     "output_type": "stream",
     "text": [
      "root\n",
      " |-- seller_id: integer (nullable = true)\n",
      " |-- avg: string (nullable = true)\n",
      " |-- std: string (nullable = true)\n",
      "\n"
     ]
    }
   ],
   "source": [
    "sdf4 = df4.groupby(\"seller_id\").agg(mean(\"contr\"), stddev(\"contr\")).sort(desc(\"avg(contr)\")).select(\n",
    "    col(\"seller_id\"),\n",
    "    format_number(col(\"avg(contr)\"), 3).alias(\"avg\"),\n",
    "        format_number(col(\"stddev_samp(contr)\"), 3).alias(\"std\")\n",
    ")\n",
    "sdf4.printSchema()"
   ]
  },
  {
   "cell_type": "code",
   "execution_count": 252,
   "id": "65eb5c30-65f3-4d25-9af1-5ea418c416a7",
   "metadata": {},
   "outputs": [
    {
     "name": "stdout",
     "output_type": "stream",
     "text": [
      "+---------+------+-----+\n",
      "|seller_id|   avg|  std|\n",
      "+---------+------+-----+\n",
      "|        0|76.000|0.053|\n",
      "|        1| 4.308|0.041|\n",
      "|        3| 3.586|0.025|\n",
      "|        8| 2.026|0.015|\n",
      "|        2| 1.475|0.013|\n",
      "|        6| 1.054|0.012|\n",
      "|        5| 0.924|0.011|\n",
      "|        9| 0.845|0.007|\n",
      "|        4| 0.725|0.009|\n",
      "|        7| 0.570|0.005|\n",
      "+---------+------+-----+\n",
      "\n"
     ]
    }
   ],
   "source": [
    "sdf4.limit(10).show()"
   ]
  },
  {
   "cell_type": "markdown",
   "id": "497c3ef2-8e41-44c2-a5f7-bdb341112377",
   "metadata": {},
   "source": [
    "## Task-5: Who are the second most selling and the least selling persons (sellers) for each product?"
   ]
  },
  {
   "cell_type": "code",
   "execution_count": 253,
   "id": "d71c028d-ed95-44f7-a0ff-ca2a74d1962f",
   "metadata": {},
   "outputs": [
    {
     "name": "stdout",
     "output_type": "stream",
     "text": [
      "root\n",
      " |-- seller_id: integer (nullable = true)\n",
      " |-- product_id: integer (nullable = true)\n",
      " |-- date: string (nullable = true)\n",
      " |-- num_pieces_sold: integer (nullable = true)\n",
      " |-- price: integer (nullable = true)\n",
      " |-- daily_target: integer (nullable = true)\n",
      "\n"
     ]
    }
   ],
   "source": [
    "casted_combined.printSchema()"
   ]
  },
  {
   "cell_type": "code",
   "execution_count": 320,
   "id": "fd17dc49-d64f-4f33-8fe5-be421cbb607f",
   "metadata": {},
   "outputs": [
    {
     "name": "stdout",
     "output_type": "stream",
     "text": [
      "root\n",
      " |-- product_id: string (nullable = true)\n",
      " |-- count_: long (nullable = false)\n",
      "\n"
     ]
    }
   ],
   "source": [
    "df5 = (\n",
    "        sales.select(\"product_id\", \"seller_id\").distinct().groupby(\"product_id\").count().sort(desc(\"count\")).\n",
    "        withColumnRenamed(\"count\", \"count_\")\n",
    ")\n",
    "df5.printSchema()"
   ]
  },
  {
   "cell_type": "code",
   "execution_count": 321,
   "id": "cd5e0133-eb51-4824-94da-b1c8ae149ce9",
   "metadata": {},
   "outputs": [
    {
     "data": {
      "text/html": [
       "<table border='1'>\n",
       "<tr><th>count_</th><th>count</th></tr>\n",
       "<tr><td>1</td><td>987603</td></tr>\n",
       "<tr><td>3</td><td>21</td></tr>\n",
       "<tr><td>2</td><td>5805</td></tr>\n",
       "</table>\n"
      ],
      "text/plain": [
       "+------+------+\n",
       "|count_| count|\n",
       "+------+------+\n",
       "|     1|987603|\n",
       "|     3|    21|\n",
       "|     2|  5805|\n",
       "+------+------+"
      ]
     },
     "execution_count": 321,
     "metadata": {},
     "output_type": "execute_result"
    }
   ],
   "source": [
    "df5.groupby(\"count_\").count()"
   ]
  },
  {
   "cell_type": "code",
   "execution_count": 322,
   "id": "d3ca718f-5966-498b-a654-d7e010e20286",
   "metadata": {},
   "outputs": [
    {
     "data": {
      "text/html": [
       "<table border='1'>\n",
       "<tr><th>product_id</th><th>count_</th></tr>\n",
       "<tr><td>14542470</td><td>3</td></tr>\n",
       "<tr><td>61475460</td><td>3</td></tr>\n",
       "<tr><td>31136332</td><td>3</td></tr>\n",
       "<tr><td>17944574</td><td>3</td></tr>\n",
       "<tr><td>19986717</td><td>3</td></tr>\n",
       "<tr><td>72017876</td><td>3</td></tr>\n",
       "<tr><td>67723231</td><td>3</td></tr>\n",
       "<tr><td>3534470</td><td>3</td></tr>\n",
       "<tr><td>40496308</td><td>3</td></tr>\n",
       "<tr><td>28592106</td><td>3</td></tr>\n",
       "</table>\n"
      ],
      "text/plain": [
       "+----------+------+\n",
       "|product_id|count_|\n",
       "+----------+------+\n",
       "|  14542470|     3|\n",
       "|  61475460|     3|\n",
       "|  31136332|     3|\n",
       "|  17944574|     3|\n",
       "|  19986717|     3|\n",
       "|  72017876|     3|\n",
       "|  67723231|     3|\n",
       "|   3534470|     3|\n",
       "|  40496308|     3|\n",
       "|  28592106|     3|\n",
       "+----------+------+"
      ]
     },
     "execution_count": 322,
     "metadata": {},
     "output_type": "execute_result"
    }
   ],
   "source": [
    "df5.filter(\"count_ == 3\").limit(10)"
   ]
  },
  {
   "cell_type": "code",
   "execution_count": 324,
   "id": "77ca58a5-de05-4b0e-bfe1-d5ae0a7ce515",
   "metadata": {},
   "outputs": [],
   "source": [
    "ooo = sales.filter(\"product_id == 14542470\");"
   ]
  },
  {
   "cell_type": "code",
   "execution_count": null,
   "id": "269ad04a-1091-41a8-8129-2d1223b5844b",
   "metadata": {},
   "outputs": [],
   "source": [
    "ooo.limit(10)"
   ]
  },
  {
   "cell_type": "code",
   "execution_count": 317,
   "id": "3e6164a6-099f-4db7-987d-dadb61bba360",
   "metadata": {},
   "outputs": [
    {
     "data": {
      "text/html": [
       "<table border='1'>\n",
       "<tr><th>count</th></tr>\n",
       "<tr><td>1</td></tr>\n",
       "<tr><td>3</td></tr>\n",
       "<tr><td>2</td></tr>\n",
       "</table>\n"
      ],
      "text/plain": [
       "+-----+\n",
       "|count|\n",
       "+-----+\n",
       "|    1|\n",
       "|    3|\n",
       "|    2|\n",
       "+-----+"
      ]
     },
     "execution_count": 317,
     "metadata": {},
     "output_type": "execute_result"
    }
   ],
   "source": [
    "df5.select(\"count\").distinct()"
   ]
  },
  {
   "cell_type": "code",
   "execution_count": 267,
   "id": "cb6d0b05-471d-41d4-adca-1567cf4d1876",
   "metadata": {},
   "outputs": [],
   "source": [
    "from pyspark.sql.window import Window"
   ]
  },
  {
   "cell_type": "code",
   "execution_count": 268,
   "id": "14ec7689-be90-4a2e-8312-caa8a4191423",
   "metadata": {},
   "outputs": [],
   "source": [
    "w = Window.partitionBy(\"product_id\");\n"
   ]
  },
  {
   "cell_type": "code",
   "execution_count": 278,
   "id": "e652fafb-70bc-4e6c-8f6b-4dd4aa2d63a2",
   "metadata": {},
   "outputs": [
    {
     "name": "stdout",
     "output_type": "stream",
     "text": [
      "root\n",
      " |-- seller_id: string (nullable = true)\n",
      " |-- product_id: string (nullable = true)\n",
      " |-- count_: long (nullable = false)\n",
      "\n"
     ]
    }
   ],
   "source": [
    "df5 = (\n",
    "    sales.\n",
    "    groupby(\"seller_id\", \"product_id\").count().\n",
    "    withColumnRenamed(\"count\", \"count_\").\n",
    "    sort(desc(\"count\"))\n",
    ");\n",
    "df5.printSchema()"
   ]
  },
  {
   "cell_type": "code",
   "execution_count": 294,
   "id": "0f24abd1-6975-442d-adeb-72d227cd1661",
   "metadata": {},
   "outputs": [],
   "source": [
    "from pyspark.sql.functions import rank"
   ]
  },
  {
   "cell_type": "code",
   "execution_count": 296,
   "id": "5d03c493-1409-4a8f-800c-e2057d23c912",
   "metadata": {},
   "outputs": [],
   "source": [
    "w = Window.partitionBy(df5.product_id).orderBy(df5.count_)"
   ]
  },
  {
   "cell_type": "code",
   "execution_count": 300,
   "id": "95cf591d-b0d4-45e3-8172-3884625643a8",
   "metadata": {},
   "outputs": [
    {
     "name": "stdout",
     "output_type": "stream",
     "text": [
      "root\n",
      " |-- seller_id: string (nullable = true)\n",
      " |-- product_id: string (nullable = true)\n",
      " |-- count_: long (nullable = false)\n",
      " |-- rank: integer (nullable = false)\n",
      "\n"
     ]
    }
   ],
   "source": [
    "atb = df5.withColumn(\"rank\", rank().over(w)).sort(desc(\"count\"))\n",
    "atb.printSchema()"
   ]
  },
  {
   "cell_type": "code",
   "execution_count": 305,
   "id": "d826ce32-218d-4774-a433-644f5de2d3be",
   "metadata": {},
   "outputs": [
    {
     "name": "stdout",
     "output_type": "stream",
     "text": [
      "+---------+----------+------+----+\n",
      "|seller_id|product_id|count_|rank|\n",
      "+---------+----------+------+----+\n",
      "|        4|   8916663|     2|   2|\n",
      "|        5|  19978383|     2|   2|\n",
      "|        8|  61540351|     2|   2|\n",
      "|        8|   2316238|     2|   2|\n",
      "|        7|  40193396|     2|   2|\n",
      "|        1|  73385513|     2|   2|\n",
      "|        9|  26915351|     2|   2|\n",
      "|        9|  28183035|     2|   2|\n",
      "|        1|   2839667|     2|   2|\n",
      "|        8|  40579633|     2|   2|\n",
      "+---------+----------+------+----+\n",
      "\n"
     ]
    }
   ],
   "source": [
    "atb.filter(\"rank>1\").show()"
   ]
  },
  {
   "cell_type": "code",
   "execution_count": 310,
   "id": "eeab12cf-85a0-4a96-827b-59a1a4d432f8",
   "metadata": {},
   "outputs": [
    {
     "data": {
      "text/plain": [
       "1"
      ]
     },
     "execution_count": 310,
     "metadata": {},
     "output_type": "execute_result"
    }
   ],
   "source": [
    "sales.filter(\"product_id==0\").select(\"product_id\", \"seller_id\").distinct().count()"
   ]
  },
  {
   "cell_type": "code",
   "execution_count": 307,
   "id": "d1b7ea7c-d585-428d-9af8-e3d7debd0728",
   "metadata": {},
   "outputs": [
    {
     "name": "stdout",
     "output_type": "stream",
     "text": [
      "+---------+----------+------+\n",
      "|seller_id|product_id|count_|\n",
      "+---------+----------+------+\n",
      "|        4|   8916663|     2|\n",
      "|        5|   8916663|     1|\n",
      "+---------+----------+------+\n",
      "\n"
     ]
    }
   ],
   "source": [
    "df5.filter(\"product_id == 8916663\").show()"
   ]
  },
  {
   "cell_type": "code",
   "execution_count": 293,
   "id": "47c17a35-1529-40ff-a147-29947db18810",
   "metadata": {},
   "outputs": [
    {
     "ename": "TypeError",
     "evalue": "count() takes 1 positional argument but 2 were given",
     "output_type": "error",
     "traceback": [
      "\u001b[0;31m---------------------------------------------------------------------------\u001b[0m",
      "\u001b[0;31mTypeError\u001b[0m                                 Traceback (most recent call last)",
      "Input \u001b[0;32mIn [293]\u001b[0m, in \u001b[0;36m<cell line: 1>\u001b[0;34m()\u001b[0m\n\u001b[1;32m      1\u001b[0m atb \u001b[38;5;241m=\u001b[39m df5\u001b[38;5;241m.\u001b[39mwithColumn(\n\u001b[0;32m----> 2\u001b[0m     \u001b[38;5;124m\"\u001b[39m\u001b[38;5;124mcount\u001b[39m\u001b[38;5;124m\"\u001b[39m, \u001b[43mdf5\u001b[49m\u001b[38;5;241;43m.\u001b[39;49m\u001b[43mcount\u001b[49m\u001b[43m(\u001b[49m\u001b[38;5;124;43m\"\u001b[39;49m\u001b[38;5;124;43m*\u001b[39;49m\u001b[38;5;124;43m\"\u001b[39;49m\u001b[43m)\u001b[49m\u001b[38;5;241m.\u001b[39mover(w)\n\u001b[1;32m      3\u001b[0m )\n",
      "\u001b[0;31mTypeError\u001b[0m: count() takes 1 positional argument but 2 were given"
     ]
    }
   ],
   "source": [
    "atb = df5.withColumn(\n",
    "    \"count\", df5.count(\"*\").over(w)\n",
    ")"
   ]
  },
  {
   "cell_type": "code",
   "execution_count": null,
   "id": "eff48af4-8e55-4029-b68d-b330929398bc",
   "metadata": {},
   "outputs": [],
   "source": []
  }
 ],
 "metadata": {
  "kernelspec": {
   "display_name": "Python 3 (ipykernel)",
   "language": "python",
   "name": "python3"
  },
  "language_info": {
   "codemirror_mode": {
    "name": "ipython",
    "version": 3
   },
   "file_extension": ".py",
   "mimetype": "text/x-python",
   "name": "python",
   "nbconvert_exporter": "python",
   "pygments_lexer": "ipython3",
   "version": "3.9.10"
  }
 },
 "nbformat": 4,
 "nbformat_minor": 5
}
