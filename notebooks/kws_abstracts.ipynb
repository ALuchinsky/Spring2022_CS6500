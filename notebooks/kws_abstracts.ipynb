{
 "cells": [
  {
   "cell_type": "code",
   "execution_count": 1,
   "id": "3aa4eaeb-5b62-40ef-ba83-aea1ca4da88f",
   "metadata": {
    "tags": []
   },
   "outputs": [],
   "source": [
    "import findspark\n",
    "findspark.init()\n",
    "\n",
    "from pyspark.sql import SparkSession\n",
    "from pyspark.sql.functions import format_number, mean, min, max, corr, stddev\n",
    "from pyspark.sql.functions import (dayofmonth, hour, dayofyear, month, year, weekofyear, format_number, date_format, asc, desc)\n",
    "from pyspark.sql.functions import explode, col, element_at, size, split\n",
    "from pyspark.sql.functions import udf\n",
    "import matplotlib.pyplot as plt"
   ]
  },
  {
   "cell_type": "code",
   "execution_count": 2,
   "id": "42a09843-16c5-42c0-9c4c-7c80d2b45da2",
   "metadata": {},
   "outputs": [],
   "source": [
    "# Build a SparkSession named as \"test123\"\n",
    "spark = SparkSession.builder \\\n",
    "    .appName('test_123') \\\n",
    "    .master('local[*]') \\\n",
    "    .config('spark.sql.execution.arrow.pyspark.enabled', True) \\\n",
    "    .config('spark.sql.session.timeZone', 'UTC') \\\n",
    "    .config('spark.driver.memory','8g') \\\n",
    "    .config('spark.ui.showConsoleProgress', True) \\\n",
    "    .config('spark.sql.repl.eagerEval.enabled', True) \\\n",
    "    .getOrCreate()"
   ]
  },
  {
   "cell_type": "code",
   "execution_count": 3,
   "id": "eb69e0db-80a7-496e-aab3-4b6109b1e790",
   "metadata": {},
   "outputs": [],
   "source": [
    "data_path = \"/papers_2000/\""
   ]
  },
  {
   "cell_type": "code",
   "execution_count": 4,
   "id": "f4237efe-a4cc-4a3f-a4a2-cdc8a75d802b",
   "metadata": {},
   "outputs": [],
   "source": [
    "short_papers = spark.read.json(\"../data/processed/\"+data_path+\"/short_papers/\")"
   ]
  },
  {
   "cell_type": "code",
   "execution_count": 5,
   "id": "73819558-eff5-43ae-9f0c-0da512461d6d",
   "metadata": {
    "tags": []
   },
   "outputs": [],
   "source": [
    "from pyspark.sql.functions import udf\n",
    "from pyspark.sql.types import *"
   ]
  },
  {
   "cell_type": "code",
   "execution_count": 6,
   "id": "264b4fe7-610c-4fe7-b892-9a6a52c5afa7",
   "metadata": {},
   "outputs": [],
   "source": [
    "from pyspark.sql.functions import split, lower, length, size, array_contains"
   ]
  },
  {
   "cell_type": "code",
   "execution_count": 7,
   "id": "004dd525-9c9b-4515-affe-78969b83d3d4",
   "metadata": {},
   "outputs": [],
   "source": [
    "common_words = list(\n",
    "    spark.read.csv(\"../data/4000-most-common-english-words-csv.csv\").withColumnRenamed(\"_c0\", \"K\").toPandas()[\"K\"]\n",
    ")"
   ]
  },
  {
   "cell_type": "code",
   "execution_count": 8,
   "id": "38fbc4d2-3159-4eb9-a288-675eac3071f6",
   "metadata": {},
   "outputs": [
    {
     "name": "stdout",
     "output_type": "stream",
     "text": [
      "+--------------+-----+\n",
      "|             K|count|\n",
      "+--------------+-----+\n",
      "|      neutrino| 2168|\n",
      "|         quark| 1695|\n",
      "|       results| 1337|\n",
      "|         decay| 1264|\n",
      "|         higgs| 1205|\n",
      "|         using| 1002|\n",
      "|       effects|  931|\n",
      "|        mixing|  922|\n",
      "|         gauge|  879|\n",
      "|        masses|  859|\n",
      "|        chiral|  852|\n",
      "|        models|  818|\n",
      "|   corrections|  815|\n",
      "|supersymmetric|  742|\n",
      "|        scalar|  739|\n",
      "|        decays|  717|\n",
      "|    scattering|  709|\n",
      "|      symmetry|  696|\n",
      "|      obtained|  653|\n",
      "|         shown|  630|\n",
      "|     parameter|  619|\n",
      "| contributions|  612|\n",
      "|      coupling|  597|\n",
      "|    parameters|  576|\n",
      "|        values|  568|\n",
      "|         based|  567|\n",
      "|      breaking|  566|\n",
      "|         gluon|  554|\n",
      "|        matrix|  551|\n",
      "|     neutrinos|  540|\n",
      "|     functions|  533|\n",
      "|   electroweak|  529|\n",
      "|       quantum|  525|\n",
      "|        model.|  518|\n",
      "|         boson|  505|\n",
      "|        lepton|  504|\n",
      "|    discussed.|  499|\n",
      "|        states|  487|\n",
      "|         meson|  482|\n",
      "|     asymmetry|  459|\n",
      "|        photon|  458|\n",
      "|     couplings|  450|\n",
      "|     processes|  441|\n",
      "|  perturbative|  439|\n",
      "|   predictions|  439|\n",
      "|       charged|  430|\n",
      "|      hadronic|  424|\n",
      "|    calculated|  412|\n",
      "|        baryon|  410|\n",
      "|  interactions|  405|\n",
      "+--------------+-----+\n",
      "only showing top 50 rows\n",
      "\n"
     ]
    }
   ],
   "source": [
    "kws  = short_papers.select(explode(split(col(\"abstract\"),\" \")).alias(\"K\")).withColumn(\"K\",lower(\"K\")).\\\n",
    "    filter( ~col(\"K\").isin(common_words)).\\\n",
    "    filter(~col(\"K\").contains(\"\\\\\")).\\\n",
    "    filter(~col(\"K\").isin([\"is\", \"are\", \"an\", \"has\"])).\\\n",
    "    filter(length(col(\"K\"))>4)\n",
    "kws_counts = kws.groupby(\"K\").count().sort(desc(\"count\"))\n",
    "kws_counts.show(50)"
   ]
  },
  {
   "cell_type": "code",
   "execution_count": 9,
   "id": "5f43739e-d186-46a7-b436-245fa33d4b18",
   "metadata": {},
   "outputs": [
    {
     "data": {
      "text/plain": [
       "<matplotlib.lines.Line2D at 0x7f7a5f3672e0>"
      ]
     },
     "execution_count": 9,
     "metadata": {},
     "output_type": "execute_result"
    },
    {
     "data": {
      "image/png": "[encoded data removed]",
      "text/plain": [
       "<Figure size 432x288 with 1 Axes>"
      ]
     },
     "metadata": {
      "needs_background": "light"
     },
     "output_type": "display_data"
    }
   ],
   "source": [
    "kws_counts.limit(200).select(\"count\").toPandas().plot()\n",
    "plt.axvline(20, linestyle = \"--\")"
   ]
  },
  {
   "cell_type": "code",
   "execution_count": 10,
   "id": "fe3514ec-d83e-4357-97ea-4a4490aa6295",
   "metadata": {},
   "outputs": [],
   "source": [
    "# replacing some characters with _\n",
    "import re\n",
    "def format_kwd(kwd):\n",
    "    return re.sub(\"[\\.-/ :()]\", \"_\", kwd)"
   ]
  },
  {
   "cell_type": "code",
   "execution_count": 11,
   "id": "26103ad0-0679-4daa-b19c-c028bf268c09",
   "metadata": {},
   "outputs": [],
   "source": [
    "selected_keywords = kws_counts.limit(20).toPandas()[\"K\"].tolist()\n",
    "selected_keywords = [format_kwd(K) for K in selected_keywords] + [\"None\"]\n",
    "#selected_keywords"
   ]
  },
  {
   "cell_type": "code",
   "execution_count": 12,
   "id": "83b2589b-2320-4756-80af-985709e9e946",
   "metadata": {},
   "outputs": [],
   "source": [
    "# from https://www.geeksforgeeks.org/python-intersection-two-lists/\n",
    "def intersection(lst1, lst2):\n",
    "    return list(set(lst1) & set(lst2))\n",
    "from pyspark.sql.functions import monotonically_increasing_id"
   ]
  },
  {
   "cell_type": "markdown",
   "id": "c0989214-e80e-4063-ab00-28871c1bad9d",
   "metadata": {},
   "source": [
    "Extracting these keywords to a column"
   ]
  },
  {
   "cell_type": "code",
   "execution_count": 13,
   "id": "1f710ed0-3799-4f1e-8362-d612eea99496",
   "metadata": {},
   "outputs": [],
   "source": [
    "# returns first keyword\n",
    "#@udf(returnType=ArrayType(StringType()))\n",
    "@udf(returnType=ArrayType(StringType()))\n",
    "def filtered_list_keywords(a): \n",
    "    kws_list = [format_kwd(aa) for aa in a] if a else [\"None\"]\n",
    "    kws_list = intersection(kws_list, selected_keywords)\n",
    "    return kws_list if kws_list else [\"None\"]\n"
   ]
  },
  {
   "cell_type": "code",
   "execution_count": 14,
   "id": "c79db037-3389-41f4-916a-3e960834d7be",
   "metadata": {},
   "outputs": [],
   "source": [
    "withKeywords = short_papers.withColumn(\"abs\", split(col(\"abstract\"), \" \"))\\\n",
    "    .withColumn(\"keywords_\", filtered_list_keywords(col(\"abs\")))"
   ]
  },
  {
   "cell_type": "code",
   "execution_count": 15,
   "id": "7c130e8c-95fe-48a0-82b6-b016c2fca04f",
   "metadata": {},
   "outputs": [
    {
     "name": "stdout",
     "output_type": "stream",
     "text": [
      "root\n",
      " |-- title: string (nullable = true)\n",
      " |-- number_of_pages: long (nullable = true)\n",
      " |-- citation_count: long (nullable = true)\n",
      " |-- num_refs: long (nullable = true)\n",
      " |-- neutrino: integer (nullable = true)\n",
      " |-- quark: integer (nullable = true)\n",
      " |-- results: integer (nullable = true)\n",
      " |-- decay: integer (nullable = true)\n",
      " |-- higgs: integer (nullable = true)\n",
      " |-- using: integer (nullable = true)\n",
      " |-- effects: integer (nullable = true)\n",
      " |-- mixing: integer (nullable = true)\n",
      " |-- gauge: integer (nullable = true)\n",
      " |-- masses: integer (nullable = true)\n",
      " |-- chiral: integer (nullable = true)\n",
      " |-- models: integer (nullable = true)\n",
      " |-- corrections: integer (nullable = true)\n",
      " |-- supersymmetric: integer (nullable = true)\n",
      " |-- scalar: integer (nullable = true)\n",
      " |-- decays: integer (nullable = true)\n",
      " |-- scattering: integer (nullable = true)\n",
      " |-- symmetry: integer (nullable = true)\n",
      " |-- obtained: integer (nullable = true)\n",
      " |-- shown: integer (nullable = true)\n",
      " |-- None: integer (nullable = true)\n",
      " |-- id: long (nullable = false)\n",
      "\n"
     ]
    }
   ],
   "source": [
    "dummy_df = withKeywords\n",
    "for kw in selected_keywords:\n",
    "    dummy_df = dummy_df.withColumn(\n",
    "        kw.replace(\".\", \"_\"), \n",
    "        array_contains(col(\"keywords_\"), kw).cast(\"int\")\n",
    "    )\n",
    "dummy_df = dummy_df.select( [\"title\",\"number_of_pages\", \"citation_count\", \"num_refs\"] + selected_keywords)\n",
    "dummy_df = dummy_df.withColumn(\"id\", monotonically_increasing_id())\n",
    "dummy_df.printSchema()"
   ]
  },
  {
   "cell_type": "code",
   "execution_count": 16,
   "id": "f0929446-137d-463d-9fe3-2cd1cdf51e9d",
   "metadata": {},
   "outputs": [],
   "source": [
    "dummy_df.write.mode(\"overwrite\").json(\"../data/processed/\"+data_path+\"/abs/dummy/\")"
   ]
  },
  {
   "cell_type": "code",
   "execution_count": null,
   "id": "7714a91e-b082-424d-b204-ee9c011e2144",
   "metadata": {},
   "outputs": [],
   "source": []
  }
 ],
 "metadata": {
  "kernelspec": {
   "display_name": "Python 3 (ipykernel)",
   "language": "python",
   "name": "python3"
  },
  "language_info": {
   "codemirror_mode": {
    "name": "ipython",
    "version": 3
   },
   "file_extension": ".py",
   "mimetype": "text/x-python",
   "name": "python",
   "nbconvert_exporter": "python",
   "pygments_lexer": "ipython3",
   "version": "3.9.10"
  }
 },
 "nbformat": 4,
 "nbformat_minor": 5
}
