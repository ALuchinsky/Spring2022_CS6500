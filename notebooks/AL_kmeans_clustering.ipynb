{
 "cells": [
  {
   "cell_type": "code",
   "execution_count": 1,
   "id": "8bbf2800-e572-406e-aca4-370363e6743d",
   "metadata": {
    "tags": []
   },
   "outputs": [],
   "source": [
    "import findspark\n",
    "findspark.init()\n",
    "\n",
    "from pyspark.sql import SparkSession\n",
    "from pyspark.sql.functions import format_number, mean, min, max, corr, stddev\n",
    "from pyspark.sql.functions import (dayofmonth, hour, dayofyear, month, year, weekofyear, format_number, date_format, asc, desc)\n",
    "from pyspark.sql.functions import explode, col, element_at, size, split\n",
    "from pyspark.sql.functions import udf"
   ]
  },
  {
   "cell_type": "code",
   "execution_count": 2,
   "id": "2891e3d7-aaa2-4e57-9667-c38afa97bac3",
   "metadata": {},
   "outputs": [],
   "source": [
    "from pyspark.ml.evaluation import ClusteringEvaluator\n",
    "from pyspark.ml.feature import VectorAssembler\n",
    "\n",
    "from pyspark.ml.clustering import KMeans, BisectingKMeans\n"
   ]
  },
  {
   "cell_type": "code",
   "execution_count": 3,
   "id": "d08b538d-7750-4788-9ffd-e0549bada46b",
   "metadata": {},
   "outputs": [],
   "source": [
    "# Build a SparkSession named as \"test123\"\n",
    "spark = SparkSession.builder \\\n",
    "    .appName('test_123') \\\n",
    "    .master('local[*]') \\\n",
    "    .config('spark.sql.execution.arrow.pyspark.enabled', True) \\\n",
    "    .config('spark.sql.session.timeZone', 'UTC') \\\n",
    "    .config('spark.driver.memory','8g') \\\n",
    "    .config('spark.ui.showConsoleProgress', True) \\\n",
    "    .config('spark.sql.repl.eagerEval.enabled', True) \\\n",
    "    .getOrCreate()"
   ]
  },
  {
   "cell_type": "markdown",
   "id": "03bad697-cedd-411f-ac80-c982ce5da407",
   "metadata": {},
   "source": [
    "## Loading the Data"
   ]
  },
  {
   "cell_type": "code",
   "execution_count": 4,
   "id": "d63fe453-8f29-4eb4-85d8-ba3b8b10b28d",
   "metadata": {},
   "outputs": [],
   "source": [
    "paps = spark.read.json(\"../data/processed/dummy.json/\")"
   ]
  },
  {
   "cell_type": "code",
   "execution_count": 5,
   "id": "636845bb-6d59-471d-a098-360a591b220c",
   "metadata": {},
   "outputs": [],
   "source": [
    "#Adding an ID to each paper so the abstract data analysis can be attributed to a paper\n",
    "from pyspark.sql.functions import monotonically_increasing_id\n",
    "papersWIDs = paps.withColumn(\"id\", monotonically_increasing_id())"
   ]
  },
  {
   "cell_type": "markdown",
   "id": "001f25a9-e66d-47d0-b759-04545fd15338",
   "metadata": {},
   "source": [
    "## Clustering"
   ]
  },
  {
   "cell_type": "code",
   "execution_count": 6,
   "id": "32c58d32-b6ca-409d-bd94-c670a88bec6f",
   "metadata": {},
   "outputs": [
    {
     "data": {
      "text/plain": [
       "['CERN_LHC_Coll',\n",
       " 'GeV',\n",
       " 'None',\n",
       " 'anomaly',\n",
       " 'background',\n",
       " 'dark_matter',\n",
       " 'dark_matter__mass',\n",
       " 'effective_field_theory',\n",
       " 'heavy_ion__scattering',\n",
       " 'higher-order__1',\n",
       " 'kinematics',\n",
       " 'lattice',\n",
       " 'lattice_field_theory',\n",
       " 'new_physics',\n",
       " 'num_refs',\n",
       " 'number_of_pages',\n",
       " 'numerical_calculations',\n",
       " 'p_p__scattering',\n",
       " 'quantum_chromodynamics',\n",
       " 'quark',\n",
       " 'sensitivity',\n",
       " 'stability',\n",
       " 'structure']"
      ]
     },
     "execution_count": 6,
     "metadata": {},
     "output_type": "execute_result"
    }
   ],
   "source": [
    "cols = papersWIDs.columns\n",
    "cols.remove(\"title\")\n",
    "cols.remove(\"id\")\n",
    "cols"
   ]
  },
  {
   "cell_type": "code",
   "execution_count": 7,
   "id": "e6071f2c-5fc1-445f-903d-4a3fc327445a",
   "metadata": {},
   "outputs": [],
   "source": [
    "from pyspark.ml.feature import MinMaxScaler, StandardScaler"
   ]
  },
  {
   "cell_type": "code",
   "execution_count": 8,
   "id": "61382cfe-da21-468b-9038-a8cf88420404",
   "metadata": {},
   "outputs": [
    {
     "name": "stdout",
     "output_type": "stream",
     "text": [
      "3000\n",
      "2931\n"
     ]
    }
   ],
   "source": [
    "# remving nans\n",
    "print(papersWIDs.count())\n",
    "papersWIDs_woNA = papersWIDs.dropna()\n",
    "print(papersWIDs_woNA.count())"
   ]
  },
  {
   "cell_type": "code",
   "execution_count": 9,
   "id": "5a81bf3f-a5ed-4dcb-8aa6-7d515cf7730f",
   "metadata": {},
   "outputs": [],
   "source": [
    "assembler = VectorAssembler().setInputCols(cols).setOutputCol(\"features\")\n",
    "transformed_data = assembler.transform(papersWIDs_woNA)"
   ]
  },
  {
   "cell_type": "code",
   "execution_count": 10,
   "id": "c0365852-3e67-4393-82e3-862b5884e0cc",
   "metadata": {},
   "outputs": [],
   "source": [
    "scaler = StandardScaler(inputCol=\"features\", outputCol=\"scaledFeatures\")"
   ]
  },
  {
   "cell_type": "code",
   "execution_count": 11,
   "id": "df0d8476-e5c4-441e-a857-70ba6f52c096",
   "metadata": {},
   "outputs": [],
   "source": [
    "scale_model  = scaler.fit(transformed_data)\n",
    "scaled_data = scale_model.transform(transformed_data)"
   ]
  },
  {
   "cell_type": "code",
   "execution_count": 12,
   "id": "a1d9484a-ac03-4b1a-b62b-e71c7a4e3a2d",
   "metadata": {},
   "outputs": [
    {
     "name": "stdout",
     "output_type": "stream",
     "text": [
      "2   0.31171283307325753\n",
      "3   0.36337193889830616\n",
      "4   0.3505639559232367\n",
      "5   0.35417628157998543\n",
      "6   0.3172577733195148\n",
      "7   0.4175981626890465\n",
      "8   0.3621057565974049\n",
      "9   0.4127045098936312\n",
      "10   0.3930504357252089\n",
      "11   0.42147137641175975\n",
      "12   0.40305066576142745\n",
      "13   0.4249342908006864\n",
      "14   0.44120073361878126\n",
      "15   0.41929668293581807\n",
      "16   0.4075873124194317\n",
      "17   0.4528862070670651\n",
      "18   0.3697491019968808\n",
      "19   0.48796744942576475\n",
      "20   0.49563598688047145\n",
      "21   0.4652020664392432\n",
      "22   0.527618858873529\n",
      "23   0.5396158916118104\n",
      "24   0.1850686930283723\n",
      "25   0.5911809850326091\n",
      "26   0.560351830178031\n",
      "27   0.5842497886083827\n",
      "28   0.5511737635382405\n",
      "29   0.6159950776590379\n",
      "30   0.5966262969280086\n",
      "31   0.5913139971524937\n",
      "32   0.5903511690312329\n",
      "33   0.5893895403857907\n",
      "34   0.367419262331317\n",
      "35   0.6163393140984773\n",
      "36   0.5924997805095742\n",
      "37   0.613680053856136\n",
      "38   0.5728253434560984\n",
      "39   0.6137343493816658\n",
      "40   0.5621350468097509\n",
      "41   0.646970663640051\n",
      "42   0.5493832303139216\n",
      "43   0.47819377169516786\n",
      "44   0.5533722444288961\n",
      "45   0.49811685760462465\n",
      "46   0.5593506460766909\n",
      "47   0.5610867825671841\n",
      "48   0.5295413350458401\n",
      "49   0.5819039259837565\n"
     ]
    }
   ],
   "source": [
    "from pyspark.ml.clustering import KMeans\n",
    "from pyspark.ml.evaluation import ClusteringEvaluator\n",
    "metric_name = 'silhouette'\n",
    "evaluator = ClusteringEvaluator(predictionCol='prediction', featuresCol='scaledFeatures', \\\n",
    "                                metricName=metric_name, distanceMeasure='squaredEuclidean')\n",
    "scores = dict()\n",
    "for i in range(2, 50):\n",
    "    kmeans_algo = KMeans(featuresCol=\"scaledFeatures\", k=i)\n",
    "    kmeans_fit = kmeans_algo.fit(scaled_data)\n",
    "    kmeans_out = kmeans_fit.transform(scaled_data)\n",
    "    score = evaluator.evaluate(kmeans_out)\n",
    "    print(i, \" \", score)\n",
    "    scores[i] = score"
   ]
  },
  {
   "cell_type": "code",
   "execution_count": 13,
   "id": "f99ee145-698f-41da-a7f9-c7c7cf8baad3",
   "metadata": {},
   "outputs": [],
   "source": [
    "import matplotlib.pyplot as plt"
   ]
  },
  {
   "cell_type": "code",
   "execution_count": 14,
   "id": "5440f716-1e18-43b8-a2cd-1e283e134a8c",
   "metadata": {},
   "outputs": [],
   "source": [
    "import numpy as np"
   ]
  },
  {
   "cell_type": "code",
   "execution_count": 15,
   "id": "860907c7-260d-4584-8b8b-8802cca98c54",
   "metadata": {},
   "outputs": [],
   "source": [
    "scores_array = np.array([[k, scores[k]] for k in scores.keys()])"
   ]
  },
  {
   "cell_type": "code",
   "execution_count": 16,
   "id": "ca7968c4-3f9e-4409-b85e-aab04311d9b6",
   "metadata": {},
   "outputs": [
    {
     "data": {
      "text/plain": [
       "<matplotlib.lines.Line2D at 0x7f2b074c2490>"
      ]
     },
     "execution_count": 16,
     "metadata": {},
     "output_type": "execute_result"
    },
    {
     "data": {
      "image/png": "[encoded data removed]",
      "text/plain": [
       "<Figure size 432x288 with 1 Axes>"
      ]
     },
     "metadata": {
      "needs_background": "light"
     },
     "output_type": "display_data"
    }
   ],
   "source": [
    "plt.plot(scores_array[:,0], scores_array[:,1])\n",
    "plt.axvline(x=37, linestyle = '--')"
   ]
  },
  {
   "cell_type": "markdown",
   "id": "3412e287-7e4b-4b4f-bdea-c91b2964ff16",
   "metadata": {},
   "source": [
    "### Stability"
   ]
  },
  {
   "cell_type": "code",
   "execution_count": 117,
   "id": "59dee1ab-acda-4c72-88ec-107f9156a844",
   "metadata": {},
   "outputs": [],
   "source": [
    "def extract_cluster(preds = None, k = 37, data = scaled_data, seed=1, no_cl=0):\n",
    "    if not preds:\n",
    "        preds = KMeans(featuresCol=\"scaledFeatures\", k=k, seed=seed).\\\n",
    "            fit(data).\\\n",
    "            transform(scaled_data).select(\"id\", \"prediction\")\n",
    "    sorted_preds = preds.groupby(\"prediction\").count().sort(desc(\"count\"))\n",
    "    gr = preds.filter(preds[\"prediction\"] == sorted_preds.take(no_cl+1)[no_cl][0]).select(\"id\").collect()\n",
    "    gr = [g[0] for g in gr]\n",
    "    return set(gr)"
   ]
  },
  {
   "cell_type": "code",
   "execution_count": 154,
   "id": "960dfb0e-6274-412c-91de-ea60999e0b80",
   "metadata": {},
   "outputs": [
    {
     "name": "stdout",
     "output_type": "stream",
     "text": [
      "[s1]= 11\n",
      "[s2]= 20\n",
      "[s1*s2]= 0\n",
      "kappa =  0.0\n"
     ]
    }
   ],
   "source": [
    "i1, i2 = 10, 4\n",
    "no_cl = 19\n",
    "k = 20\n",
    "s1 = extract_cluster(seed = i1, no_cl = no_cl, k=k)\n",
    "s2 = extract_cluster(seed = i2, no_cl = no_cl, k=k)\n",
    "print(\"[s1]=\", len(s1))\n",
    "print(\"[s2]=\", len(s2))\n",
    "print(\"[s1*s2]=\", len( s1.intersection(s2)))\n",
    "print(\"kappa = \", len(s1.intersection(s2))/np.min( [len(s1), len(s2)]))"
   ]
  },
  {
   "cell_type": "code",
   "execution_count": null,
   "id": "bf71ddfc-cf3f-4057-9e7f-f1b80af5033f",
   "metadata": {},
   "outputs": [],
   "source": []
  }
 ],
 "metadata": {
  "kernelspec": {
   "display_name": "Python 3 (ipykernel)",
   "language": "python",
   "name": "python3"
  },
  "language_info": {
   "codemirror_mode": {
    "name": "ipython",
    "version": 3
   },
   "file_extension": ".py",
   "mimetype": "text/x-python",
   "name": "python",
   "nbconvert_exporter": "python",
   "pygments_lexer": "ipython3",
   "version": "3.9.10"
  }
 },
 "nbformat": 4,
 "nbformat_minor": 5
}
