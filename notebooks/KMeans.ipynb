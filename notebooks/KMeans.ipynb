{
 "cells": [
  {
   "cell_type": "code",
   "execution_count": 1,
   "id": "09c5c987-984f-4e6f-87c1-8f0aaee5282f",
   "metadata": {
    "tags": []
   },
   "outputs": [],
   "source": [
    "import findspark\n",
    "findspark.init()\n",
    "\n",
    "from pyspark.sql import SparkSession\n",
    "from pyspark.sql.functions import format_number, mean, min, max, corr, stddev\n",
    "from pyspark.sql.functions import (dayofmonth, hour, dayofyear, month, year, weekofyear, format_number, date_format, asc, desc)\n",
    "from pyspark.sql.functions import explode, col, element_at, size, split\n",
    "from pyspark.sql.functions import udf\n",
    "import numpy as np\n",
    "import matplotlib.pyplot as plt\n",
    "#https://www.data4v.com/tutorial-hierarchical-clustering-in-spark-with-bisecting-k-means/"
   ]
  },
  {
   "cell_type": "code",
   "execution_count": 2,
   "id": "71ab0cfa-0f20-40a0-ba01-a2c775e9a136",
   "metadata": {},
   "outputs": [],
   "source": [
    "from pyspark.ml.evaluation import ClusteringEvaluator\n",
    "from pyspark.ml.feature import VectorAssembler\n",
    "\n",
    "from pyspark.ml.clustering import KMeans, BisectingKMeans\n"
   ]
  },
  {
   "cell_type": "code",
   "execution_count": 3,
   "id": "305ba07a-4bdf-411a-9eef-2d686d9d718c",
   "metadata": {
    "tags": []
   },
   "outputs": [],
   "source": [
    "spark = SparkSession.builder \\\n",
    "    .appName('bisectingK') \\\n",
    "    .master('local[*]') \\\n",
    "    .config('spark.sql.execution.arrow.pyspark.enabled', True) \\\n",
    "    .config('spark.sql.session.timeZone', 'UTC') \\\n",
    "    .config('spark.driver.memory','8g') \\\n",
    "    .config('spark.ui.showConsoleProgress', True) \\\n",
    "    .config('spark.sql.repl.eagerEval.enabled', True) \\\n",
    "    .getOrCreate()"
   ]
  },
  {
   "cell_type": "code",
   "execution_count": 4,
   "id": "1b31bcb9-197e-4a6a-a077-d1a96f0fc864",
   "metadata": {},
   "outputs": [],
   "source": [
    "data_path = \"/papers_2000/kws/\""
   ]
  },
  {
   "cell_type": "code",
   "execution_count": 5,
   "id": "697295f8-13a4-434a-99bb-fefac2ae13b8",
   "metadata": {},
   "outputs": [],
   "source": [
    "# Dummy table created ny AL_read_papers notebook\n",
    "# Original data is first 30000 papers from 2010 with 50 assigned keywords\n",
    "paps = spark.read.json(\"../data/processed/\"+data_path+\"/dummy/\")"
   ]
  },
  {
   "cell_type": "code",
   "execution_count": 6,
   "id": "5f40a9b5-0f9b-4a8d-bc73-5fb68b1d3c2e",
   "metadata": {},
   "outputs": [
    {
     "name": "stdout",
     "output_type": "stream",
     "text": [
      "7192\n",
      "7141\n",
      "5972\n"
     ]
    }
   ],
   "source": [
    "#Adding an ID to each paper so the abstract data analysis can be attributed to a paper\n",
    "from pyspark.sql.functions import monotonically_increasing_id\n",
    "papersWIDs = paps.withColumn(\"id\", monotonically_increasing_id())\n",
    "# remving nans\n",
    "print(papersWIDs.count())\n",
    "papersWIDs_woNA = papersWIDs.dropna()\n",
    "print(papersWIDs_woNA.count())\n",
    "papersWIDs_woNA_woNone = papersWIDs_woNA.filter(\"None == 0\")\n",
    "print(papersWIDs_woNA_woNone.count())"
   ]
  },
  {
   "cell_type": "code",
   "execution_count": 7,
   "id": "212bb086-a58e-4616-8b81-3065994eda74",
   "metadata": {},
   "outputs": [],
   "source": [
    "from pyspark.sql.functions import col, log, lit"
   ]
  },
  {
   "cell_type": "code",
   "execution_count": 8,
   "id": "c859e52c-a23b-483a-941a-fc6d77f1c8ef",
   "metadata": {},
   "outputs": [],
   "source": [
    "def log_transform(data, column_name):\n",
    "    return data.withColumn(\"log_\"+column_name,  log(lit(1) + col(column_name)))"
   ]
  },
  {
   "cell_type": "code",
   "execution_count": 9,
   "id": "1e8bbb3a-cf39-4fb8-b1f8-f0670c1cb418",
   "metadata": {},
   "outputs": [],
   "source": [
    "data = papersWIDs_woNA_woNone\n",
    "# data = log_transform(data, \"citation_count\")\n",
    "# data = log_transform(data, \"number_of_pages\")\n",
    "# data = log_transform(data, \"num_refs\")\n",
    "data = data.dropna()"
   ]
  },
  {
   "cell_type": "markdown",
   "id": "9c3ca08f-7c1f-4b58-82f2-806aee90fe35",
   "metadata": {},
   "source": [
    "Included all columns except title and ID since those are strings and identifiers"
   ]
  },
  {
   "cell_type": "code",
   "execution_count": 10,
   "id": "22e478e3-17c9-4050-b398-69c61da8bf00",
   "metadata": {},
   "outputs": [],
   "source": [
    "from pyspark.ml.feature import VectorAssembler\n",
    "assemble=VectorAssembler(\n",
    "    # inputCols=[c for c in data.columns if not c in ['id', 'title', 'citation_count', 'number_of_pages', 'num_refs']],\n",
    "    inputCols=[c for c in data.columns if not c in ['id', 'title']],\n",
    "    outputCol='features')\n",
    "assembled_data=assemble.transform(data)\n",
    "#assembled_data.show(2)"
   ]
  },
  {
   "cell_type": "code",
   "execution_count": 11,
   "id": "aa566c57-924c-4e43-934d-2027b038ee8c",
   "metadata": {},
   "outputs": [],
   "source": [
    "from pyspark.ml.feature import StandardScaler\n",
    "scale=StandardScaler(inputCol='features',outputCol='standardized')\n",
    "data_scale=scale.fit(assembled_data)\n",
    "scaled_data=data_scale.transform(assembled_data)\n",
    "#data_scale_output.show(2)"
   ]
  },
  {
   "cell_type": "code",
   "execution_count": 12,
   "id": "5b9b1795-7313-4718-8f61-3fd17f048819",
   "metadata": {},
   "outputs": [
    {
     "data": {
      "text/plain": [
       "5972"
      ]
     },
     "execution_count": 12,
     "metadata": {},
     "output_type": "execute_result"
    }
   ],
   "source": [
    "scaled_data.count()"
   ]
  },
  {
   "cell_type": "markdown",
   "id": "dded0b94-9e5b-4a38-a8fd-75e1a3036ec3",
   "metadata": {},
   "source": [
    "# Fit the model"
   ]
  },
  {
   "cell_type": "code",
   "execution_count": 13,
   "id": "03008fde-c37d-4008-90e5-083cadbe75b0",
   "metadata": {},
   "outputs": [],
   "source": [
    "from pyspark.ml.clustering import BisectingKMeans\n",
    "from pyspark.ml.evaluation import ClusteringEvaluator"
   ]
  },
  {
   "cell_type": "code",
   "execution_count": 14,
   "id": "32678b45-6c5d-44c2-88ce-ac1f25d2537b",
   "metadata": {},
   "outputs": [
    {
     "name": "stdout",
     "output_type": "stream",
     "text": [
      "[................................................]\n",
      "[................................................"
     ]
    }
   ],
   "source": [
    "silhouette_scores=[]\n",
    "evaluator = ClusteringEvaluator(featuresCol='features', \\\n",
    "metricName='silhouette')\n",
    "print(\"[\"+(\"\".join([\".\"]*len(range(2,50))))+\"]\")\n",
    "print(\"[\", end=\"\")\n",
    "for K in range(2,50):\n",
    "    print(\".\", end=\"\")\n",
    "    KMeans_=KMeans(featuresCol='features', k=K)\n",
    "    KMeans_fit=KMeans_.fit(scaled_data)\n",
    "    KMeans_transform=KMeans_fit.transform(scaled_data) \n",
    "    evaluation_score=evaluator.evaluate(KMeans_transform)\n",
    "    silhouette_scores.append(evaluation_score)\n",
    "silhouette_scores_array = np.array([[k, s] for k, s in zip(range(2,50), silhouette_scores)])"
   ]
  },
  {
   "cell_type": "code",
   "execution_count": 15,
   "id": "630d213a-5194-4e25-85ed-abbdde52cbe1",
   "metadata": {},
   "outputs": [
    {
     "name": "stdout",
     "output_type": "stream",
     "text": [
      "[                                                ]\n",
      "[................................................]\n"
     ]
    }
   ],
   "source": [
    "Lcost = []\n",
    "print(\"\".join([\"[\"]+[\" \"]*(50-2)+[\"]\"]))\n",
    "print(\"[\", end=\"\")\n",
    "for k in range(2, 50):\n",
    "    model = KMeans(\n",
    "        featuresCol='features', k=k, seed = k).fit(scaled_data)\n",
    "    cost = model.summary.trainingCost\n",
    "    Lcost = Lcost + [[k, cost]]\n",
    "    print(\".\", end=\"\")\n",
    "print(\"]\")\n",
    "Lcost_array = np.array(Lcost)"
   ]
  },
  {
   "cell_type": "code",
   "execution_count": 16,
   "id": "ee367526-02b5-42ae-a3d9-50170b2a96bd",
   "metadata": {},
   "outputs": [
    {
     "data": {
      "image/png": "[encoded data removed]",
      "text/plain": [
       "<Figure size 720x576 with 2 Axes>"
      ]
     },
     "metadata": {
      "needs_background": "light"
     },
     "output_type": "display_data"
    }
   ],
   "source": [
    "import matplotlib.pyplot as plt\n",
    "def make_plot(data, y_label, ax, k0):\n",
    "    ax.plot(data[:,0], data[:,1])\n",
    "    ax.set_xlabel('Number of Clusters')\n",
    "    ax.set_ylabel(y_label)\n",
    "    ax.axvline(x=k0, linestyle='--')\n",
    "k0 = 8\n",
    "fig, ax = plt.subplots(1,2, figsize =(10,8))\n",
    "make_plot(data=silhouette_scores_array, y_label='Silhouette Score', ax=ax[0], k0=k0)\n",
    "make_plot(data=Lcost_array, y_label='Training Cost', ax=ax[1], k0=8)\n",
    "plt.tight_layout()"
   ]
  },
  {
   "cell_type": "markdown",
   "id": "09adfd0e-924e-4cd4-b397-9e8d5b117097",
   "metadata": {},
   "source": [
    "The predictions seem pretty stable. With k=1  clusters' sizes and centroid positions do not depend strongly on the seed"
   ]
  },
  {
   "cell_type": "code",
   "execution_count": 17,
   "id": "761e971c-0cb4-4198-addf-405faca4fc62",
   "metadata": {},
   "outputs": [],
   "source": [
    "import warnings\n",
    "warnings.simplefilter(action='ignore', category=FutureWarning)"
   ]
  },
  {
   "cell_type": "code",
   "execution_count": 18,
   "id": "167b3ef7-d7a5-4bd6-9ca4-abf3aaf7b6e7",
   "metadata": {},
   "outputs": [
    {
     "name": "stdout",
     "output_type": "stream",
     "text": [
      "seed= 0 \t [4186, 1332, 312, 80, 44, 15, 2, 1] \t [0.09, 0.0, 0.07, 0.1, 0.0, 0.27, 0.12, 0.12]\n",
      "seed= 1 \t [4698, 896, 168, 105, 51, 42, 10, 2] \t [0.1, 0.0, 0.1, 0.12, 0.18, 0.26, 0.11, 0.12]\n",
      "seed= 2 \t [4977, 690, 136, 101, 42, 22, 2, 2] \t [0.1, 0.0, 0.11, 0.09, 0.11, 0.0, 0.29, 0.16]\n",
      "seed= 3 \t [4167, 1348, 314, 81, 44, 15, 2, 1] \t [0.12, 0.0, 0.12, 0.07, 0.27, 0.09, 0.0, 0.1]\n",
      "seed= 4 \t [4897, 650, 261, 101, 43, 17, 2, 1] \t [0.19, 0.0, 0.28, 0.12, 0.09, 0.0, 0.06, 0.11]\n",
      "seed= 5 \t [4135, 1370, 323, 82, 44, 15, 2, 1] \t [0.12, 0.0, 0.11, 0.0, 0.12, 0.09, 0.07, 0.27]\n",
      "seed= 6 \t [4695, 986, 183, 51, 44, 10, 2, 1] \t [0.1, 0.0, 0.12, 0.0, 0.12, 0.1, 0.12, 0.27]\n",
      "seed= 7 \t [4165, 1338, 313, 78, 43, 23, 10, 2] \t [0.09, 0.0, 0.12, 0.1, 0.12, 0.12, 0.09, 0.28]\n",
      "seed= 8 \t [4185, 1323, 314, 82, 43, 20, 3, 2] \t [0.09, 0.0, 0.1, 0.12, 0.12, 0.28, 0.0, 0.12]\n",
      "seed= 9 \t [4892, 868, 134, 44, 28, 3, 2, 1] \t [0.1, 0.0, 0.27, 0.11, 0.09, 0.0, 0.0, 0.12]\n"
     ]
    }
   ],
   "source": [
    "k0 = 8\n",
    "for seed in range(10):\n",
    "    KMeans_= KMeans(featuresCol='features', k=k0, seed = seed)\n",
    "    KMeans_Model=KMeans_.fit(assembled_data)\n",
    "    KMeans_transform=KMeans_Model.transform(assembled_data)\n",
    "    print(\"seed=\", seed, \"\\t\",\n",
    "        list(KMeans_Model.summary.predictions.groupby(\"prediction\").count().sort(desc(\"count\")).toPandas()[\"count\"]),\n",
    "        \"\\t\",\n",
    "        [round(C[0],2) for C in KMeans_Model.clusterCenters()]\n",
    "    )"
   ]
  },
  {
   "cell_type": "markdown",
   "id": "bd7e72ae-4da6-48d7-a466-d1027d781456",
   "metadata": {},
   "source": [
    "Here are mean citation counts per clusters"
   ]
  },
  {
   "cell_type": "code",
   "execution_count": 19,
   "id": "c4097e4a-ef20-41b2-8f9a-89be978ca59c",
   "metadata": {},
   "outputs": [
    {
     "data": {
      "text/html": [
       "<table border='1'>\n",
       "<tr><th>prediction</th><th>mean</th><th>sigma</th><th>count</th></tr>\n",
       "<tr><td>1</td><td>3838.5</td><td>337.28993462598316</td><td>2</td></tr>\n",
       "<tr><td>2</td><td>1436.6</td><td>350.28407519231206</td><td>10</td></tr>\n",
       "<tr><td>3</td><td>681.6274509803922</td><td>143.65123887865553</td><td>51</td></tr>\n",
       "<tr><td>6</td><td>308.5952380952381</td><td>82.73427908232665</td><td>168</td></tr>\n",
       "<tr><td>7</td><td>104.8203125</td><td>38.64492523164223</td><td>896</td></tr>\n",
       "<tr><td>4</td><td>48.61904761904762</td><td>59.14427941522145</td><td>105</td></tr>\n",
       "<tr><td>0</td><td>13.599829714772243</td><td>15.051297424292642</td><td>4698</td></tr>\n",
       "<tr><td>5</td><td>12.761904761904763</td><td>41.857953479047715</td><td>42</td></tr>\n",
       "</table>\n"
      ],
      "text/plain": [
       "+----------+------------------+------------------+-----+\n",
       "|prediction|              mean|             sigma|count|\n",
       "+----------+------------------+------------------+-----+\n",
       "|         1|            3838.5|337.28993462598316|    2|\n",
       "|         2|            1436.6|350.28407519231206|   10|\n",
       "|         3| 681.6274509803922|143.65123887865553|   51|\n",
       "|         6| 308.5952380952381| 82.73427908232665|  168|\n",
       "|         7|       104.8203125| 38.64492523164223|  896|\n",
       "|         4| 48.61904761904762| 59.14427941522145|  105|\n",
       "|         0|13.599829714772243|15.051297424292642| 4698|\n",
       "|         5|12.761904761904763|41.857953479047715|   42|\n",
       "+----------+------------------+------------------+-----+"
      ]
     },
     "execution_count": 19,
     "metadata": {},
     "output_type": "execute_result"
    }
   ],
   "source": [
    "from pyspark.sql.functions import stddev, count as _count, lit\n",
    "\n",
    "KMeans_Model = KMeans(featuresCol='features', k=k0, seed = 1).fit(assembled_data)\n",
    "tab = KMeans_Model.summary.predictions.\\\n",
    "    groupby(\"prediction\").agg(\n",
    "        mean(\"citation_count\").alias(\"mean\"),\n",
    "        stddev(\"citation_count\").alias(\"sigma\"),\n",
    "        _count(lit(1)).alias(\"count\")\n",
    "    ).\\\n",
    "    sort(desc(\"mean\"))\n",
    "tab"
   ]
  },
  {
   "cell_type": "code",
   "execution_count": 20,
   "id": "dcada088-6fc2-4485-9322-e368d6598165",
   "metadata": {},
   "outputs": [],
   "source": [
    "tab.toPandas().to_csv(\"../data/processed/\"+data_path+\"/kmeans_mean_table.csv\")"
   ]
  },
  {
   "cell_type": "markdown",
   "id": "7574ec7a-bc50-45d1-a17f-55961d9f0e46",
   "metadata": {},
   "source": [
    "Let us do some visuals. PCA is very usefull for this"
   ]
  },
  {
   "cell_type": "code",
   "execution_count": 21,
   "id": "4aed1f2e-3233-4512-9f63-6eb9a9346c83",
   "metadata": {},
   "outputs": [
    {
     "data": {
      "image/png": "[encoded data removed]",
      "text/plain": [
       "<Figure size 537.375x432 with 1 Axes>"
      ]
     },
     "metadata": {
      "needs_background": "light"
     },
     "output_type": "display_data"
    }
   ],
   "source": [
    "from pyspark.ml.feature import PCA as PCAml\n",
    "pca = PCAml(k=2, inputCol=\"features\", outputCol=\"pca\")\n",
    "pca_model = pca.fit(assembled_data)\n",
    "pca_transformed = pca_model.transform(KMeans_transform)\n",
    "\n",
    "import numpy as np\n",
    "X_pca = pca_transformed.rdd.map(lambda row: row.pca).collect()\n",
    "X_pca = np.array(X_pca)\n",
    "\n",
    "\n",
    "cluster_assignment = np.array(KMeans_transform.rdd.map(lambda row: row.prediction).collect()).reshape(-1,1)\n",
    "\n",
    "import seaborn as sns\n",
    "import matplotlib.pyplot as plt\n",
    "import pandas as pd\n",
    "pca_data = np.hstack((X_pca,cluster_assignment))\n",
    "\n",
    "pca_df = pd.DataFrame(data=pca_data, columns=(\"1st_principal\", \"2nd_principal\",\"cluster_assignment\"))\n",
    "sns.FacetGrid(pca_df,hue=\"cluster_assignment\", height=6).map(plt.scatter, '1st_principal', '2nd_principal' ).add_legend()\n",
    "# plt.xlim(0, 750)\n",
    "# plt.ylim(-500, 1000)\n",
    "plt.savefig(\"../data/processed/\"+data_path+\"/kmeans_pca.pdf\")"
   ]
  },
  {
   "cell_type": "markdown",
   "id": "485d5856-1039-4454-b375-8da92cfd513b",
   "metadata": {},
   "source": [
    "The clustering is evident"
   ]
  },
  {
   "cell_type": "code",
   "execution_count": 22,
   "id": "c741b024-32aa-4b69-b8e3-b11a6320da53",
   "metadata": {},
   "outputs": [],
   "source": [
    "np.savetxt(\"../data/processed/\"+data_path+\"/kmeans_silhouette_scores_array.txt\", silhouette_scores_array)\n",
    "np.savetxt(\"../data/processed/\"+data_path+\"/kmeans_Lcost.txt\", Lcost_array)\n",
    "\n",
    "KMeans_transform.write.mode(\"overwrite\").json(\"../data/processed/\"+data_path+\"/KMeans/\")"
   ]
  },
  {
   "cell_type": "code",
   "execution_count": null,
   "id": "bf9a796c-f145-4643-b985-6b683dd9a5dd",
   "metadata": {},
   "outputs": [],
   "source": []
  },
  {
   "cell_type": "code",
   "execution_count": null,
   "id": "324a5d1c-3139-42f6-9818-4d2fa1f8b0c1",
   "metadata": {},
   "outputs": [],
   "source": []
  },
  {
   "cell_type": "code",
   "execution_count": null,
   "id": "e1413b16-df44-4b45-a2f7-4ac000a39cc1",
   "metadata": {},
   "outputs": [],
   "source": []
  }
 ],
 "metadata": {
  "kernelspec": {
   "display_name": "Python 3 (ipykernel)",
   "language": "python",
   "name": "python3"
  },
  "language_info": {
   "codemirror_mode": {
    "name": "ipython",
    "version": 3
   },
   "file_extension": ".py",
   "mimetype": "text/x-python",
   "name": "python",
   "nbconvert_exporter": "python",
   "pygments_lexer": "ipython3",
   "version": "3.9.10"
  }
 },
 "nbformat": 4,
 "nbformat_minor": 5
}
