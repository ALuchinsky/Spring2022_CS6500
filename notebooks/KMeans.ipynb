{
 "cells": [
  {
   "cell_type": "code",
   "execution_count": 1,
   "id": "09c5c987-984f-4e6f-87c1-8f0aaee5282f",
   "metadata": {
    "tags": []
   },
   "outputs": [],
   "source": [
    "import findspark\n",
    "findspark.init()\n",
    "\n",
    "from pyspark.sql import SparkSession\n",
    "from pyspark.sql.functions import format_number, mean, min, max, corr, stddev\n",
    "from pyspark.sql.functions import (dayofmonth, hour, dayofyear, month, year, weekofyear, format_number, date_format, asc, desc)\n",
    "from pyspark.sql.functions import explode, col, element_at, size, split\n",
    "from pyspark.sql.functions import udf\n",
    "import numpy as np\n",
    "import matplotlib.pyplot as plt\n",
    "#https://www.data4v.com/tutorial-hierarchical-clustering-in-spark-with-bisecting-k-means/"
   ]
  },
  {
   "cell_type": "code",
   "execution_count": 2,
   "id": "71ab0cfa-0f20-40a0-ba01-a2c775e9a136",
   "metadata": {},
   "outputs": [],
   "source": [
    "from pyspark.ml.evaluation import ClusteringEvaluator\n",
    "from pyspark.ml.feature import VectorAssembler\n",
    "\n",
    "from pyspark.ml.clustering import KMeans, BisectingKMeans\n"
   ]
  },
  {
   "cell_type": "code",
   "execution_count": 3,
   "id": "305ba07a-4bdf-411a-9eef-2d686d9d718c",
   "metadata": {
    "tags": []
   },
   "outputs": [],
   "source": [
    "spark = SparkSession.builder \\\n",
    "    .appName('bisectingK') \\\n",
    "    .master('local[*]') \\\n",
    "    .config('spark.sql.execution.arrow.pyspark.enabled', True) \\\n",
    "    .config('spark.sql.session.timeZone', 'UTC') \\\n",
    "    .config('spark.driver.memory','8g') \\\n",
    "    .config('spark.ui.showConsoleProgress', True) \\\n",
    "    .config('spark.sql.repl.eagerEval.enabled', True) \\\n",
    "    .getOrCreate()"
   ]
  },
  {
   "cell_type": "code",
   "execution_count": 4,
   "id": "1b31bcb9-197e-4a6a-a077-d1a96f0fc864",
   "metadata": {},
   "outputs": [],
   "source": [
    "data_path = \"/papers_2000/abs/\""
   ]
  },
  {
   "cell_type": "code",
   "execution_count": 5,
   "id": "697295f8-13a4-434a-99bb-fefac2ae13b8",
   "metadata": {},
   "outputs": [],
   "source": [
    "# Dummy table created ny AL_read_papers notebook\n",
    "# Original data is first 30000 papers from 2010 with 50 assigned keywords\n",
    "paps = spark.read.json(\"../data/processed/\"+data_path+\"/dummy/\")"
   ]
  },
  {
   "cell_type": "code",
   "execution_count": 6,
   "id": "5f40a9b5-0f9b-4a8d-bc73-5fb68b1d3c2e",
   "metadata": {},
   "outputs": [
    {
     "name": "stdout",
     "output_type": "stream",
     "text": [
      "7192\n",
      "7141\n",
      "5303\n"
     ]
    }
   ],
   "source": [
    "#Adding an ID to each paper so the abstract data analysis can be attributed to a paper\n",
    "from pyspark.sql.functions import monotonically_increasing_id\n",
    "papersWIDs = paps.withColumn(\"id\", monotonically_increasing_id())\n",
    "# remving nans\n",
    "print(papersWIDs.count())\n",
    "papersWIDs_woNA = papersWIDs.dropna()\n",
    "print(papersWIDs_woNA.count())\n",
    "papersWIDs_woNA_woNone = papersWIDs_woNA.filter(\"None == 0\")\n",
    "print(papersWIDs_woNA_woNone.count())"
   ]
  },
  {
   "cell_type": "code",
   "execution_count": 7,
   "id": "212bb086-a58e-4616-8b81-3065994eda74",
   "metadata": {},
   "outputs": [],
   "source": [
    "from pyspark.sql.functions import col, log, lit"
   ]
  },
  {
   "cell_type": "code",
   "execution_count": 8,
   "id": "c859e52c-a23b-483a-941a-fc6d77f1c8ef",
   "metadata": {},
   "outputs": [],
   "source": [
    "def log_transform(data, column_name):\n",
    "    return data.withColumn(\"log_\"+column_name,  log(lit(1) + col(column_name)))"
   ]
  },
  {
   "cell_type": "code",
   "execution_count": 9,
   "id": "1e8bbb3a-cf39-4fb8-b1f8-f0670c1cb418",
   "metadata": {},
   "outputs": [
    {
     "data": {
      "text/plain": [
       "5303"
      ]
     },
     "execution_count": 9,
     "metadata": {},
     "output_type": "execute_result"
    }
   ],
   "source": [
    "data = papersWIDs_woNA_woNone\n",
    "# data = log_transform(data, \"citation_count\")\n",
    "# data = log_transform(data, \"number_of_pages\")\n",
    "# data = log_transform(data, \"num_refs\")\n",
    "data = data.dropna()\n",
    "data.count()"
   ]
  },
  {
   "cell_type": "markdown",
   "id": "9c3ca08f-7c1f-4b58-82f2-806aee90fe35",
   "metadata": {},
   "source": [
    "Included all columns except title and ID since those are strings and identifiers"
   ]
  },
  {
   "cell_type": "code",
   "execution_count": 10,
   "id": "22e478e3-17c9-4050-b398-69c61da8bf00",
   "metadata": {},
   "outputs": [],
   "source": [
    "from pyspark.ml.feature import VectorAssembler\n",
    "assemble=VectorAssembler(\n",
    "    #inputCols=[c for c in data.columns if not c in ['id', 'title', 'citation_count', 'number_of_pages', 'num_refs']],\n",
    "    inputCols=[c for c in data.columns if not c in ['id', 'title', 'citation_count']],\n",
    "    # inputCols=[c for c in data.columns if not c in ['id', 'title']],\n",
    "    outputCol='features')\n",
    "assembled_data=assemble.transform(data)\n",
    "#assembled_data.show(2)"
   ]
  },
  {
   "cell_type": "code",
   "execution_count": 11,
   "id": "aa566c57-924c-4e43-934d-2027b038ee8c",
   "metadata": {},
   "outputs": [],
   "source": [
    "from pyspark.ml.feature import StandardScaler\n",
    "scale=StandardScaler(inputCol='features',outputCol='standardized')\n",
    "data_scale=scale.fit(assembled_data)\n",
    "scaled_data=data_scale.transform(assembled_data)\n",
    "#data_scale_output.show(2)"
   ]
  },
  {
   "cell_type": "code",
   "execution_count": 12,
   "id": "5b9b1795-7313-4718-8f61-3fd17f048819",
   "metadata": {},
   "outputs": [
    {
     "data": {
      "text/plain": [
       "5303"
      ]
     },
     "execution_count": 12,
     "metadata": {},
     "output_type": "execute_result"
    }
   ],
   "source": [
    "scaled_data.count()"
   ]
  },
  {
   "cell_type": "markdown",
   "id": "dded0b94-9e5b-4a38-a8fd-75e1a3036ec3",
   "metadata": {},
   "source": [
    "# Fit the model"
   ]
  },
  {
   "cell_type": "code",
   "execution_count": 13,
   "id": "03008fde-c37d-4008-90e5-083cadbe75b0",
   "metadata": {},
   "outputs": [],
   "source": [
    "from pyspark.ml.clustering import BisectingKMeans\n",
    "from pyspark.ml.evaluation import ClusteringEvaluator"
   ]
  },
  {
   "cell_type": "code",
   "execution_count": 50,
   "id": "32678b45-6c5d-44c2-88ce-ac1f25d2537b",
   "metadata": {},
   "outputs": [
    {
     "name": "stdout",
     "output_type": "stream",
     "text": [
      "[................................................]\n",
      "[................................................"
     ]
    }
   ],
   "source": [
    "silhouette_scores=[]\n",
    "evaluator = ClusteringEvaluator(featuresCol='features', \\\n",
    "metricName='silhouette')\n",
    "print(\"[\"+(\"\".join([\".\"]*len(range(2,50))))+\"]\")\n",
    "print(\"[\", end=\"\")\n",
    "for K in range(2,50):\n",
    "    print(\".\", end=\"\")\n",
    "    KMeans_=KMeans(featuresCol='features', k=K)\n",
    "    KMeans_fit=KMeans_.fit(scaled_data)\n",
    "    KMeans_transform=KMeans_fit.transform(scaled_data) \n",
    "    evaluation_score=evaluator.evaluate(KMeans_transform)\n",
    "    silhouette_scores.append(evaluation_score)\n",
    "silhouette_scores_array = np.array([[k, s] for k, s in zip(range(2,50), silhouette_scores)])"
   ]
  },
  {
   "cell_type": "code",
   "execution_count": 51,
   "id": "630d213a-5194-4e25-85ed-abbdde52cbe1",
   "metadata": {},
   "outputs": [
    {
     "name": "stdout",
     "output_type": "stream",
     "text": [
      "[                                                ]\n",
      "[................................................]\n"
     ]
    }
   ],
   "source": [
    "Lcost = []\n",
    "print(\"\".join([\"[\"]+[\" \"]*(50-2)+[\"]\"]))\n",
    "print(\"[\", end=\"\")\n",
    "for k in range(2, 50):\n",
    "    model = KMeans(\n",
    "        featuresCol='features', k=k, seed = k).fit(scaled_data)\n",
    "    cost = model.summary.trainingCost\n",
    "    Lcost = Lcost + [[k, cost]]\n",
    "    print(\".\", end=\"\")\n",
    "print(\"]\")\n",
    "Lcost_array = np.array(Lcost)"
   ]
  },
  {
   "cell_type": "code",
   "execution_count": 52,
   "id": "ee367526-02b5-42ae-a3d9-50170b2a96bd",
   "metadata": {},
   "outputs": [
    {
     "data": {
      "image/png": "[encoded data removed]",
      "text/plain": [
       "<Figure size 720x576 with 2 Axes>"
      ]
     },
     "metadata": {
      "needs_background": "light"
     },
     "output_type": "display_data"
    }
   ],
   "source": [
    "import matplotlib.pyplot as plt\n",
    "def make_plot(data, y_label, ax, k0):\n",
    "    ax.plot(data[:,0], data[:,1])\n",
    "    ax.set_xlabel('Number of Clusters')\n",
    "    ax.set_ylabel(y_label)\n",
    "    ax.axvline(x=k0, linestyle='--')\n",
    "k0 = 8\n",
    "fig, ax = plt.subplots(1,2, figsize =(10,8))\n",
    "make_plot(data=silhouette_scores_array, y_label='Silhouette Score', ax=ax[0], k0=k0)\n",
    "make_plot(data=Lcost_array, y_label='Training Cost', ax=ax[1], k0=8)\n",
    "plt.tight_layout()"
   ]
  },
  {
   "cell_type": "markdown",
   "id": "09adfd0e-924e-4cd4-b397-9e8d5b117097",
   "metadata": {},
   "source": [
    "The predictions seem pretty stable. With k=1  clusters' sizes and centroid positions do not depend strongly on the seed"
   ]
  },
  {
   "cell_type": "code",
   "execution_count": 15,
   "id": "761e971c-0cb4-4198-addf-405faca4fc62",
   "metadata": {},
   "outputs": [],
   "source": [
    "import warnings\n",
    "warnings.simplefilter(action='ignore', category=FutureWarning)"
   ]
  },
  {
   "cell_type": "code",
   "execution_count": 16,
   "id": "167b3ef7-d7a5-4bd6-9ca4-abf3aaf7b6e7",
   "metadata": {},
   "outputs": [
    {
     "name": "stdout",
     "output_type": "stream",
     "text": [
      "seed= 0 \t [3084, 2271, 497, 57, 41, 16, 5, 1] \t [0.11, 0.0, 0.08, 0.38, 0.18, 0.24, 0.4, 0.17]\n",
      "seed= 1 \t [3704, 1945, 242, 42, 34, 3, 1, 1] \t [0.08, 0.0, 0.29, 0.24, 0.12, 0.0, 0.33, 0.19]\n",
      "seed= 2 \t [3614, 1999, 266, 42, 33, 13, 4, 1] \t [0.12, 0.25, 0.38, 0.08, 0.24, 0.0, 0.24, 0.17]\n",
      "seed= 3 \t [3614, 1992, 271, 42, 34, 16, 2, 1] \t [0.24, 0.08, 0.38, 0.21, 0.5, 0.0, 0.12, 0.17]\n",
      "seed= 4 \t [2616, 2291, 826, 149, 46, 34, 9, 1] \t [0.08, 0.1, 0.24, 0.0, 0.28, 0.14, 0.33, 0.17]\n",
      "seed= 5 \t [3703, 1916, 237, 39, 33, 31, 12, 1] \t [0.08, 0.0, 0.18, 0.24, 0.23, 0.18, 0.12, 0.42]\n",
      "seed= 6 \t [4383, 1467, 61, 41, 14, 3, 2, 1] \t [0.09, 0.33, 0.43, 0.18, 0.13, 0.0, 0.22, 0.5]\n",
      "seed= 7 \t [2412, 2317, 992, 170, 41, 34, 5, 1] \t [0.14, 0.0, 0.2, 0.29, 0.07, 0.1, 0.24, 0.18]\n",
      "seed= 8 \t [3084, 2271, 497, 57, 41, 16, 5, 1] \t [0.17, 0.38, 0.08, 0.24, 0.4, 0.0, 0.11, 0.18]\n",
      "seed= 9 \t [2631, 2298, 811, 151, 42, 34, 4, 1] \t [0.17, 0.1, 0.0, 0.25, 0.15, 0.29, 0.24, 0.08]\n"
     ]
    }
   ],
   "source": [
    "k0 = 8\n",
    "for seed in range(10):\n",
    "    KMeans_= KMeans(featuresCol='features', k=k0, seed = seed)\n",
    "    KMeans_Model=KMeans_.fit(assembled_data)\n",
    "    KMeans_transform=KMeans_Model.transform(assembled_data)\n",
    "    print(\"seed=\", seed, \"\\t\",\n",
    "        list(KMeans_Model.summary.predictions.groupby(\"prediction\").count().sort(desc(\"count\")).toPandas()[\"count\"]),\n",
    "        \"\\t\",\n",
    "        [round(C[0],2) for C in KMeans_Model.clusterCenters()]\n",
    "    )"
   ]
  },
  {
   "cell_type": "markdown",
   "id": "bd7e72ae-4da6-48d7-a466-d1027d781456",
   "metadata": {},
   "source": [
    "Here are mean citation counts per clusters"
   ]
  },
  {
   "cell_type": "code",
   "execution_count": 15,
   "id": "c4097e4a-ef20-41b2-8f9a-89be978ca59c",
   "metadata": {},
   "outputs": [
    {
     "name": "stderr",
     "output_type": "stream",
     "text": [
      "/usr/local/spark/python/pyspark/sql/context.py:125: FutureWarning: Deprecated in 3.0.0. Use SparkSession.builder.getOrCreate() instead.\n",
      "  warnings.warn(\n"
     ]
    },
    {
     "data": {
      "text/html": [
       "<table border='1'>\n",
       "<tr><th>cluster</th><th>count</th><th>mean</th></tr>\n",
       "<tr><td>1</td><td>1</td><td>20</td></tr>\n",
       "<tr><td>5</td><td>6</td><td>442</td></tr>\n",
       "<tr><td>6</td><td>10</td><td>46</td></tr>\n",
       "<tr><td>2</td><td>32</td><td>218</td></tr>\n",
       "<tr><td>4</td><td>125</td><td>151</td></tr>\n",
       "<tr><td>7</td><td>710</td><td>89</td></tr>\n",
       "<tr><td>3</td><td>2011</td><td>54</td></tr>\n",
       "<tr><td>0</td><td>2408</td><td>23</td></tr>\n",
       "</table>\n"
      ],
      "text/plain": [
       "+-------+-----+----+\n",
       "|cluster|count|mean|\n",
       "+-------+-----+----+\n",
       "|      1|    1|  20|\n",
       "|      5|    6| 442|\n",
       "|      6|   10|  46|\n",
       "|      2|   32| 218|\n",
       "|      4|  125| 151|\n",
       "|      7|  710|  89|\n",
       "|      3| 2011|  54|\n",
       "|      0| 2408|  23|\n",
       "+-------+-----+----+"
      ]
     },
     "execution_count": 15,
     "metadata": {},
     "output_type": "execute_result"
    }
   ],
   "source": [
    "from pyspark.sql.functions import stddev, count as _count, lit\n",
    "\n",
    "KMeans_Model = KMeans(featuresCol='features', k=8, seed = 3).fit(assembled_data)\n",
    "tab = KMeans_Model.summary.predictions.\\\n",
    "    groupby(\"prediction\").agg(\n",
    "        mean(\"citation_count\").alias(\"mean\"),\n",
    "        # stddev(\"citation_count\").alias(\"sigma\"),\n",
    "        _count(lit(1)).alias(\"count\")\n",
    "    ).\\\n",
    "    select(col(\"prediction\").alias(\"cluster\"), col(\"count\"), col(\"mean\").cast(\"int\")).\\\n",
    "    sort(asc(\"count\"))\n",
    "tab"
   ]
  },
  {
   "cell_type": "code",
   "execution_count": 16,
   "id": "c2069f50-9767-42d7-8785-bd06bf1ded63",
   "metadata": {},
   "outputs": [
    {
     "name": "stdout",
     "output_type": "stream",
     "text": [
      "\\begin{tabular}{rrr}\n",
      "\\toprule\n",
      " cluster &  count &  mean \\\\\n",
      "\\midrule\n",
      "       3 &      1 &    20 \\\\\n",
      "       1 &     17 &   245 \\\\\n",
      "       2 &     26 &   345 \\\\\n",
      "       4 &     42 &    72 \\\\\n",
      "       5 &     91 &   107 \\\\\n",
      "       6 &    667 &    92 \\\\\n",
      "       7 &   2222 &    56 \\\\\n",
      "       0 &   2906 &    20 \\\\\n",
      "\\bottomrule\n",
      "\\end{tabular}\n",
      "\n"
     ]
    }
   ],
   "source": [
    "print(tab.toPandas().to_latex(index = False))"
   ]
  },
  {
   "cell_type": "code",
   "execution_count": 16,
   "id": "f0ad0007-ac87-4937-8372-84a1b52cae01",
   "metadata": {},
   "outputs": [],
   "source": [
    "results  = KMeans_Model.summary.predictions\n",
    "\n",
    "numeric_columns = [c[0] for c in results.dtypes if c[1] == \"bigint\" and not c[0] in [\"id\", \"None\", \"citation_count\"]]"
   ]
  },
  {
   "cell_type": "code",
   "execution_count": 20,
   "id": "658eab58-1a2b-4359-813e-87410bc92287",
   "metadata": {},
   "outputs": [],
   "source": [
    "C_1 = results.filter(\"prediction == 5\").select(numeric_columns).describe().filter(\"summary == 'mean'\").\\\n",
    "    collect()[0].asDict()\n",
    "\n",
    "C_2 = results.filter(\"prediction == 7\").select(numeric_columns).describe().filter(\"summary == 'mean'\").\\\n",
    "    collect()[0].asDict()"
   ]
  },
  {
   "cell_type": "code",
   "execution_count": 21,
   "id": "6e36f7f2-8e4b-40ab-9dde-1b500b398789",
   "metadata": {},
   "outputs": [
    {
     "data": {
      "text/html": [
       "<div>\n",
       "<style scoped>\n",
       "    .dataframe tbody tr th:only-of-type {\n",
       "        vertical-align: middle;\n",
       "    }\n",
       "\n",
       "    .dataframe tbody tr th {\n",
       "        vertical-align: top;\n",
       "    }\n",
       "\n",
       "    .dataframe thead th {\n",
       "        text-align: right;\n",
       "    }\n",
       "</style>\n",
       "<table border=\"1\" class=\"dataframe\">\n",
       "  <thead>\n",
       "    <tr style=\"text-align: right;\">\n",
       "      <th></th>\n",
       "      <th>summary</th>\n",
       "      <th>chiral</th>\n",
       "      <th>corrections</th>\n",
       "      <th>decay</th>\n",
       "      <th>decays</th>\n",
       "      <th>effects</th>\n",
       "      <th>gauge</th>\n",
       "      <th>higgs</th>\n",
       "      <th>masses</th>\n",
       "      <th>mixing</th>\n",
       "      <th>...</th>\n",
       "      <th>number_of_pages</th>\n",
       "      <th>obtained</th>\n",
       "      <th>quark</th>\n",
       "      <th>results</th>\n",
       "      <th>scalar</th>\n",
       "      <th>scattering</th>\n",
       "      <th>shown</th>\n",
       "      <th>supersymmetric</th>\n",
       "      <th>symmetry</th>\n",
       "      <th>using</th>\n",
       "    </tr>\n",
       "  </thead>\n",
       "  <tbody>\n",
       "    <tr>\n",
       "      <th>0</th>\n",
       "      <td>mean</td>\n",
       "      <td>0.16666666666666666</td>\n",
       "      <td>0.125</td>\n",
       "      <td>0.08333333333333333</td>\n",
       "      <td>0.041666666666666664</td>\n",
       "      <td>0.20833333333333334</td>\n",
       "      <td>0.16666666666666666</td>\n",
       "      <td>0.0</td>\n",
       "      <td>0.16666666666666666</td>\n",
       "      <td>0.041666666666666664</td>\n",
       "      <td>...</td>\n",
       "      <td>145.08333333333334</td>\n",
       "      <td>0.0</td>\n",
       "      <td>0.375</td>\n",
       "      <td>0.375</td>\n",
       "      <td>0.041666666666666664</td>\n",
       "      <td>0.16666666666666666</td>\n",
       "      <td>0.0</td>\n",
       "      <td>0.20833333333333334</td>\n",
       "      <td>0.125</td>\n",
       "      <td>0.08333333333333333</td>\n",
       "    </tr>\n",
       "    <tr>\n",
       "      <th>1</th>\n",
       "      <td>mean</td>\n",
       "      <td>0.08928571428571429</td>\n",
       "      <td>0.16071428571428573</td>\n",
       "      <td>0.17857142857142858</td>\n",
       "      <td>0.10714285714285714</td>\n",
       "      <td>0.21428571428571427</td>\n",
       "      <td>0.08928571428571429</td>\n",
       "      <td>0.0</td>\n",
       "      <td>0.125</td>\n",
       "      <td>0.07142857142857142</td>\n",
       "      <td>...</td>\n",
       "      <td>123.92857142857143</td>\n",
       "      <td>0.07142857142857142</td>\n",
       "      <td>0.30357142857142855</td>\n",
       "      <td>0.26785714285714285</td>\n",
       "      <td>0.08928571428571429</td>\n",
       "      <td>0.08928571428571429</td>\n",
       "      <td>0.05357142857142857</td>\n",
       "      <td>0.10714285714285714</td>\n",
       "      <td>0.17857142857142858</td>\n",
       "      <td>0.10714285714285714</td>\n",
       "    </tr>\n",
       "  </tbody>\n",
       "</table>\n",
       "<p>2 rows × 23 columns</p>\n",
       "</div>"
      ],
      "text/plain": [
       "  summary               chiral          corrections                decay  \\\n",
       "0    mean  0.16666666666666666                0.125  0.08333333333333333   \n",
       "1    mean  0.08928571428571429  0.16071428571428573  0.17857142857142858   \n",
       "\n",
       "                 decays              effects                gauge higgs  \\\n",
       "0  0.041666666666666664  0.20833333333333334  0.16666666666666666   0.0   \n",
       "1   0.10714285714285714  0.21428571428571427  0.08928571428571429   0.0   \n",
       "\n",
       "                masses                mixing  ...     number_of_pages  \\\n",
       "0  0.16666666666666666  0.041666666666666664  ...  145.08333333333334   \n",
       "1                0.125   0.07142857142857142  ...  123.92857142857143   \n",
       "\n",
       "              obtained                quark              results  \\\n",
       "0                  0.0                0.375                0.375   \n",
       "1  0.07142857142857142  0.30357142857142855  0.26785714285714285   \n",
       "\n",
       "                 scalar           scattering                shown  \\\n",
       "0  0.041666666666666664  0.16666666666666666                  0.0   \n",
       "1   0.08928571428571429  0.08928571428571429  0.05357142857142857   \n",
       "\n",
       "        supersymmetric             symmetry                using  \n",
       "0  0.20833333333333334                0.125  0.08333333333333333  \n",
       "1  0.10714285714285714  0.17857142857142858  0.10714285714285714  \n",
       "\n",
       "[2 rows x 23 columns]"
      ]
     },
     "execution_count": 21,
     "metadata": {},
     "output_type": "execute_result"
    }
   ],
   "source": [
    "import pandas as pd\n",
    "pd.DataFrame([C_1, C_2])"
   ]
  },
  {
   "cell_type": "code",
   "execution_count": 17,
   "id": "dcada088-6fc2-4485-9322-e368d6598165",
   "metadata": {},
   "outputs": [],
   "source": [
    "tab.toPandas().to_csv(\"../data/processed/\"+data_path+\"/kmeans_mean_table.csv\")"
   ]
  },
  {
   "cell_type": "markdown",
   "id": "7574ec7a-bc50-45d1-a17f-55961d9f0e46",
   "metadata": {},
   "source": [
    "Let us do some visuals. PCA is very usefull for this"
   ]
  },
  {
   "cell_type": "code",
   "execution_count": 17,
   "id": "4aed1f2e-3233-4512-9f63-6eb9a9346c83",
   "metadata": {},
   "outputs": [
    {
     "data": {
      "text/plain": [
       "<seaborn.axisgrid.FacetGrid at 0x7f40c98cb7f0>"
      ]
     },
     "execution_count": 17,
     "metadata": {},
     "output_type": "execute_result"
    },
    {
     "data": {
      "image/png": "[encoded data removed]",
      "text/plain": [
       "<Figure size 537.375x432 with 1 Axes>"
      ]
     },
     "metadata": {
      "needs_background": "light"
     },
     "output_type": "display_data"
    }
   ],
   "source": [
    "from pyspark.ml.feature import PCA as PCAml\n",
    "KMeans_transform = KMeans_Model.summary.predictions\n",
    "pca = PCAml(k=2, inputCol=\"features\", outputCol=\"pca\")\n",
    "pca_model = pca.fit(assembled_data)\n",
    "pca_transformed = pca_model.transform(KMeans_transform)\n",
    "\n",
    "import numpy as np\n",
    "X_pca = pca_transformed.rdd.map(lambda row: row.pca).collect()\n",
    "X_pca = np.array(X_pca)\n",
    "\n",
    "\n",
    "cluster_assignment = np.array(KMeans_transform.rdd.map(lambda row: row.prediction).collect()).reshape(-1,1)\n",
    "\n",
    "import seaborn as sns\n",
    "import matplotlib.pyplot as plt\n",
    "import pandas as pd\n",
    "pca_data = np.hstack((X_pca,cluster_assignment))\n",
    "\n",
    "pca_df = pd.DataFrame(data=pca_data, columns=(\"1st_principal\", \"2nd_principal\",\"cluster_assignment\"))\n",
    "sns.FacetGrid(pca_df,hue=\"cluster_assignment\", height=6).map(plt.scatter, '1st_principal', '2nd_principal' ).add_legend()\n",
    "# plt.xlim(0, 750)\n",
    "# plt.ylim(-500, 1000)\n",
    "#plt.savefig(\"../data/processed/\"+data_path+\"/kmeans_pca.pdf\")"
   ]
  },
  {
   "cell_type": "code",
   "execution_count": 19,
   "id": "a62aa5ea-c38e-46de-b22f-343c97c54fbb",
   "metadata": {},
   "outputs": [
    {
     "data": {
      "text/html": [
       "<div>\n",
       "<style scoped>\n",
       "    .dataframe tbody tr th:only-of-type {\n",
       "        vertical-align: middle;\n",
       "    }\n",
       "\n",
       "    .dataframe tbody tr th {\n",
       "        vertical-align: top;\n",
       "    }\n",
       "\n",
       "    .dataframe thead th {\n",
       "        text-align: right;\n",
       "    }\n",
       "</style>\n",
       "<table border=\"1\" class=\"dataframe\">\n",
       "  <thead>\n",
       "    <tr style=\"text-align: right;\">\n",
       "      <th></th>\n",
       "      <th>1st_principal</th>\n",
       "      <th>2nd_principal</th>\n",
       "      <th>cluster_assignment</th>\n",
       "    </tr>\n",
       "  </thead>\n",
       "  <tbody>\n",
       "    <tr>\n",
       "      <th>1359</th>\n",
       "      <td>-2254.028327</td>\n",
       "      <td>1114.521288</td>\n",
       "      <td>1.0</td>\n",
       "    </tr>\n",
       "  </tbody>\n",
       "</table>\n",
       "</div>"
      ],
      "text/plain": [
       "      1st_principal  2nd_principal  cluster_assignment\n",
       "1359   -2254.028327    1114.521288                 1.0"
      ]
     },
     "execution_count": 19,
     "metadata": {},
     "output_type": "execute_result"
    }
   ],
   "source": [
    "pca_df[pca_df[\"1st_principal\"] < -2000]"
   ]
  },
  {
   "cell_type": "code",
   "execution_count": 20,
   "id": "80f16587-97bd-4a3b-82c8-f7a599a1b5e9",
   "metadata": {},
   "outputs": [
    {
     "data": {
      "text/html": [
       "<table border='1'>\n",
       "<tr><th>id</th></tr>\n",
       "<tr><td>1968</td></tr>\n",
       "</table>\n"
      ],
      "text/plain": [
       "+----+\n",
       "|  id|\n",
       "+----+\n",
       "|1968|\n",
       "+----+"
      ]
     },
     "execution_count": 20,
     "metadata": {},
     "output_type": "execute_result"
    }
   ],
   "source": [
    "from pyspark.sql.functions import udf\n",
    "from pyspark.sql.types import FloatType\n",
    "firstElement = udf(lambda v:float(v[0]), FloatType())\n",
    "pca_transformed.withColumn(\"1st\", firstElement(\"pca\")).filter(\"1st<-2000\").select(\"id\")"
   ]
  },
  {
   "cell_type": "code",
   "execution_count": 58,
   "id": "8669479e-643b-4755-add9-56c7e7ef54d1",
   "metadata": {},
   "outputs": [
    {
     "name": "stdout",
     "output_type": "stream",
     "text": [
      "+----+---------------------------------------------------------------------------------+--------+--------------+---------------+\n",
      "|id  |title                                                                            |num_refs|citation_count|number_of_pages|\n",
      "+----+---------------------------------------------------------------------------------+--------+--------------+---------------+\n",
      "|1968|Delta (1232) electroproduction amplitudes in chiral soliton models of the nucleon|51      |20            |2514           |\n",
      "+----+---------------------------------------------------------------------------------+--------+--------------+---------------+\n",
      "\n"
     ]
    }
   ],
   "source": [
    "papersWIDs_woNA_woNone.filter(\"id == 1968\").select(\"id\", \"title\", \"num_refs\", \"citation_count\", \"number_of_pages\").show(truncate=False)"
   ]
  },
  {
   "cell_type": "code",
   "execution_count": 53,
   "id": "f8542323-60df-419e-aea6-8d5d6ac6193b",
   "metadata": {},
   "outputs": [
    {
     "data": {
      "text/plain": [
       "['CP__violation',\n",
       " 'Feynman_graph',\n",
       " 'Feynman_graph__higher-order',\n",
       " 'Higgs_particle__mass',\n",
       " 'None',\n",
       " 'bibliography',\n",
       " 'citation_count',\n",
       " 'critical_phenomena',\n",
       " 'effective_Lagrangian',\n",
       " 'electron_positron__annihilation',\n",
       " 'electroweak_interaction',\n",
       " 'id',\n",
       " 'neutrino__cosmic_radiation',\n",
       " 'neutrino__mass',\n",
       " 'neutrino__mixing_angle',\n",
       " 'neutrino__oscillation',\n",
       " 'neutrino__solar',\n",
       " 'num_refs',\n",
       " 'number_of_pages',\n",
       " 'numerical_calculations',\n",
       " 'numerical_calculations__interpretation_of_experiments',\n",
       " 'p_p__inclusive_reaction',\n",
       " 'perturbation_theory__higher-order',\n",
       " 'quantum_chromodynamics',\n",
       " 'supersymmetry',\n",
       " 'title']"
      ]
     },
     "execution_count": 53,
     "metadata": {},
     "output_type": "execute_result"
    }
   ],
   "source": [
    "papersWIDs_woNA_woNone.filter(\"id == 1968\").columns"
   ]
  },
  {
   "cell_type": "code",
   "execution_count": 50,
   "id": "f7e04459-9f97-4e3f-a932-0d4924f31ff3",
   "metadata": {},
   "outputs": [
    {
     "data": {
      "text/plain": [
       "['CP__violation',\n",
       " 'Feynman_graph',\n",
       " 'Feynman_graph__higher-order',\n",
       " 'Higgs_particle__mass',\n",
       " 'None',\n",
       " 'bibliography',\n",
       " 'citation_count',\n",
       " 'critical_phenomena',\n",
       " 'effective_Lagrangian',\n",
       " 'electron_positron__annihilation',\n",
       " 'electroweak_interaction',\n",
       " 'id',\n",
       " 'neutrino__cosmic_radiation',\n",
       " 'neutrino__mass',\n",
       " 'neutrino__mixing_angle',\n",
       " 'neutrino__oscillation',\n",
       " 'neutrino__solar',\n",
       " 'num_refs',\n",
       " 'number_of_pages',\n",
       " 'numerical_calculations',\n",
       " 'numerical_calculations__interpretation_of_experiments',\n",
       " 'p_p__inclusive_reaction',\n",
       " 'perturbation_theory__higher-order',\n",
       " 'quantum_chromodynamics',\n",
       " 'supersymmetry',\n",
       " 'title']"
      ]
     },
     "execution_count": 50,
     "metadata": {},
     "output_type": "execute_result"
    }
   ],
   "source": [
    "papersWIDs_woNA_woNone.columns"
   ]
  },
  {
   "cell_type": "code",
   "execution_count": 39,
   "id": "7c73f74d-bcb4-4f0b-ac1d-02c4183988fe",
   "metadata": {},
   "outputs": [
    {
     "name": "stdout",
     "output_type": "stream",
     "text": [
      "root\n",
      " |-- pca: vector (nullable = true)\n",
      "\n"
     ]
    }
   ],
   "source": [
    "pca_transformed.select(\"pca\").printSchema()"
   ]
  },
  {
   "cell_type": "code",
   "execution_count": 34,
   "id": "41e1cbee-6529-49bd-8136-06f248d64243",
   "metadata": {},
   "outputs": [
    {
     "name": "stdout",
     "output_type": "stream",
     "text": [
      "root\n",
      " |-- pca: vector (nullable = true)\n",
      "\n"
     ]
    }
   ],
   "source": [
    "pca_transformed.select(col(\"pca\")).printSchema()"
   ]
  },
  {
   "cell_type": "markdown",
   "id": "485d5856-1039-4454-b375-8da92cfd513b",
   "metadata": {},
   "source": [
    "The clustering is evident"
   ]
  },
  {
   "cell_type": "code",
   "execution_count": 22,
   "id": "c741b024-32aa-4b69-b8e3-b11a6320da53",
   "metadata": {},
   "outputs": [],
   "source": [
    "np.savetxt(\"../data/processed/\"+data_path+\"/kmeans_silhouette_scores_array.txt\", silhouette_scores_array)\n",
    "np.savetxt(\"../data/processed/\"+data_path+\"/kmeans_Lcost.txt\", Lcost_array)\n",
    "\n",
    "KMeans_transform.write.mode(\"overwrite\").json(\"../data/processed/\"+data_path+\"/KMeans/\")"
   ]
  },
  {
   "cell_type": "code",
   "execution_count": null,
   "id": "bf9a796c-f145-4643-b985-6b683dd9a5dd",
   "metadata": {},
   "outputs": [],
   "source": []
  },
  {
   "cell_type": "code",
   "execution_count": null,
   "id": "324a5d1c-3139-42f6-9818-4d2fa1f8b0c1",
   "metadata": {},
   "outputs": [],
   "source": []
  },
  {
   "cell_type": "code",
   "execution_count": null,
   "id": "e1413b16-df44-4b45-a2f7-4ac000a39cc1",
   "metadata": {},
   "outputs": [],
   "source": []
  }
 ],
 "metadata": {
  "kernelspec": {
   "display_name": "Python 3 (ipykernel)",
   "language": "python",
   "name": "python3"
  },
  "language_info": {
   "codemirror_mode": {
    "name": "ipython",
    "version": 3
   },
   "file_extension": ".py",
   "mimetype": "text/x-python",
   "name": "python",
   "nbconvert_exporter": "python",
   "pygments_lexer": "ipython3",
   "version": "3.9.10"
  }
 },
 "nbformat": 4,
 "nbformat_minor": 5
}
